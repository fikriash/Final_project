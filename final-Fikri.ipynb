{
 "cells": [
  {
   "cell_type": "markdown",
   "metadata": {},
   "source": [
    "##### Project ini belum sepenuhnya selesai dikarenakan info mendadak terkait perubahan schedule upload file. Masih dalam tahap hyper tunning. Oleh karena itu kesimpulan yang dibuat dalam file ini masih bersifat sementara."
   ]
  },
  {
   "cell_type": "markdown",
   "metadata": {},
   "source": [
    "Framework - FinalProject\n",
    "1. Define Problem\n",
    "2. Define Goals\n",
    "3. Data Colletion\n",
    "4. Cek Missing Value\n",
    "5. Describe Data\n",
    "6. EDA -- Handling Missing Value\n",
    "7. Feature Engineering -- Handling Outliers\n",
    "8. Export file finalProject Fix\n",
    "9. Handling Imbalance Data\n",
    "--------------------------------------------\n",
    "10. Train with Base Algorithm\n",
    "11. Train with Complex Algorithm\n",
    "12. Train Base with Hyper param\n",
    "13. Train Complex with Hyper param\n",
    "--------------------------------------------\n",
    "14. Classification Report\n",
    "15. Confusion Matrix\n",
    "16. Evaluation Model (Score Dibuat DataFrame)\n",
    "--------------------------------------------\n",
    "17. Memilih Model\n",
    "18. Export Model\n",
    "19. Dashboard (Joblib/Pickle)"
   ]
  },
  {
   "cell_type": "markdown",
   "metadata": {},
   "source": [
    "## ----------------------------- *Udemy_Course (Online Course Bussines)* -----------------------------"
   ]
  },
  {
   "cell_type": "markdown",
   "metadata": {},
   "source": [
    "------------------------------------------------------------------------------------------------------------------------------------------------------"
   ]
  },
  {
   "cell_type": "markdown",
   "metadata": {},
   "source": [
    "# Referensi\n",
    "\n",
    "1. https://mediaindonesia.com/read/detail/321039-dampak-pandemi-kualitas-pendidikan-alami-penurunan\n",
    "2. https://suteki.co.id/7-dampak-positif-pandemi-covid-19-bagi-dunia-pendidikan/\n",
    "3. https://www.sonora.id/read/422146758/dampak-pandemi-covid-19-jumlah-siswa-bimbel-turun-signifikan?page=all"
   ]
  },
  {
   "cell_type": "markdown",
   "metadata": {},
   "source": [
    "# (1-2) Definition, Problems, and Goals"
   ]
  },
  {
   "cell_type": "markdown",
   "metadata": {},
   "source": [
    "------------------------------------------------------------------------------------------------------------------------------------------------------"
   ]
  },
  {
   "cell_type": "markdown",
   "metadata": {},
   "source": [
    "### Definition"
   ]
  },
  {
   "cell_type": "markdown",
   "metadata": {},
   "source": [
    "Machine Learning ini merupakan salah satu model untuk menentukan sukses tidak nya suatu course yang akan dibuka oleh suatu Lembaga Pendidikan atau dalam problem ini ialah MOOC, yang dapat digunakan oleh perusahaan atau lembaga tersebut sebagai bahan pertimbangan dalam me-*release* course baru."
   ]
  },
  {
   "cell_type": "markdown",
   "metadata": {},
   "source": [
    "### Problems & Goals"
   ]
  },
  {
   "cell_type": "markdown",
   "metadata": {},
   "source": [
    "2.1 Problems\n",
    "- Kualitas Pendidikan Menurun saat diterapkannya Sistem Pendidikan Jarak Jauh berbasis Teknologi (mediaindonesia.com)\n",
    "- Penurunan partisipan pada Lembaga-lembaga Bimbingan Belajar akibat Covid-19 (sonora.id)\n",
    "- Kesulitan dalam mencari pekerjaan akibat pandemi covid, sehingga memiliki skill-skill yang bagus dapat menjadi nilai jual utama. Sehingga course2 dari lembaga-lembaga pendidikan non-formal akan banyak dicari\n",
    "- Kesulitan untuk mengetahui course apa yang paling dibutuhkan mereka-mereka yang sedang ingin improving skill bagi Lembaga-lembaga MOOC\n",
    "\n",
    "2.2 Goals\n",
    "- Membuat model yang dapat memprediksi/mendeteksi sukses tidaknya suatu course yang akan dibuka oleh suatu MOOC dalam mendapatkan subscribers atau partisipan\n",
    "- Mengetahui variabel apa saja yang dapat mempengaruhi sukses/tidaknya suatu course dalam mendapatkan subscribers atau partisipan\n",
    "\n",
    "2.3 Limitasi\n",
    "- Model dapat digunakan oleh seluruh perusahaan berbasis Platform Media Pembelajaran Online / MOOC / Bimbel dan perusahaan sejenis lainnya.\n",
    "- Model hanya dapat memprediksi dan atau mengklasifikasikan sukses atau tidaknya course yang akan dibuka.\n"
   ]
  },
  {
   "cell_type": "markdown",
   "metadata": {},
   "source": [
    "# Import Package"
   ]
  },
  {
   "cell_type": "code",
   "execution_count": 1,
   "metadata": {},
   "outputs": [],
   "source": [
    "import pandas as pd\n",
    "import numpy as np\n",
    "import seaborn as sns\n",
    "import matplotlib.pyplot as plt\n",
    "import pickle\n",
    "import joblib\n",
    "import statsmodels.api as sm\n",
    "import warnings\n",
    "warnings.filterwarnings('ignore')\n",
    "pd.options.display.max_columns=999\n",
    "pd.set_option('display.max_colwidth', -1)\n",
    "\n",
    "%matplotlib inline\n",
    "\n",
    "from sklearn.linear_model import LinearRegression, LogisticRegression, Lasso, Ridge, ElasticNet\n",
    "from sklearn.linear_model import LogisticRegression\n",
    "from sklearn.neighbors import KNeighborsClassifier, KNeighborsRegressor\n",
    "from xgboost import XGBClassifier, XGBRegressor\n",
    "from sklearn.ensemble import AdaBoostClassifier, RandomForestClassifier, RandomForestRegressor \n",
    "from sklearn.tree import DecisionTreeClassifier, DecisionTreeRegressor\n",
    "from sklearn.svm import SVR\n",
    "from sklearn.preprocessing import PolynomialFeatures, RobustScaler, MinMaxScaler,power_transform, StandardScaler\n",
    "from imblearn.over_sampling import SMOTE\n",
    "from sklearn.utils import resample\n",
    "from sklearn.decomposition import PCA\n",
    "from sklearn.metrics import mean_absolute_error, mean_squared_error, r2_score\n",
    "from sklearn.metrics import accuracy_score, balanced_accuracy_score, f1_score, recall_score, precision_score\n",
    "from sklearn.metrics import classification_report, confusion_matrix, log_loss, roc_auc_score, roc_curve, auc\n",
    "from sklearn.model_selection import train_test_split, GridSearchCV, RandomizedSearchCV\n",
    "from statsmodels.api import OLS"
   ]
  },
  {
   "cell_type": "markdown",
   "metadata": {},
   "source": [
    "------------------------------------------------------------------------------------------------------------------------------------------------------"
   ]
  },
  {
   "cell_type": "markdown",
   "metadata": {},
   "source": [
    "# (3) Import Data"
   ]
  },
  {
   "cell_type": "markdown",
   "metadata": {},
   "source": [
    "------------------------------------------------------------------------------------------------------------------------------------------------------"
   ]
  },
  {
   "cell_type": "code",
   "execution_count": 2,
   "metadata": {},
   "outputs": [],
   "source": [
    "df = pd.read_csv('udemy.csv', parse_dates=['published_timestamp'])\n",
    "df1 = df.copy()\n",
    "df1['content_duration'] = round(df1['content_duration'],2)"
   ]
  },
  {
   "cell_type": "code",
   "execution_count": 3,
   "metadata": {},
   "outputs": [
    {
     "data": {
      "text/html": [
       "<div>\n",
       "<style scoped>\n",
       "    .dataframe tbody tr th:only-of-type {\n",
       "        vertical-align: middle;\n",
       "    }\n",
       "\n",
       "    .dataframe tbody tr th {\n",
       "        vertical-align: top;\n",
       "    }\n",
       "\n",
       "    .dataframe thead th {\n",
       "        text-align: right;\n",
       "    }\n",
       "</style>\n",
       "<table border=\"1\" class=\"dataframe\">\n",
       "  <thead>\n",
       "    <tr style=\"text-align: right;\">\n",
       "      <th></th>\n",
       "      <th>course_id</th>\n",
       "      <th>course_title</th>\n",
       "      <th>url</th>\n",
       "      <th>is_paid</th>\n",
       "      <th>price</th>\n",
       "      <th>num_subscribers</th>\n",
       "      <th>num_reviews</th>\n",
       "      <th>num_lectures</th>\n",
       "      <th>level</th>\n",
       "      <th>content_duration</th>\n",
       "      <th>published_timestamp</th>\n",
       "      <th>subject</th>\n",
       "    </tr>\n",
       "  </thead>\n",
       "  <tbody>\n",
       "    <tr>\n",
       "      <th>0</th>\n",
       "      <td>1070968</td>\n",
       "      <td>Ultimate Investment Banking Course</td>\n",
       "      <td>https://www.udemy.com/ultimate-investment-banking-course/</td>\n",
       "      <td>True</td>\n",
       "      <td>200</td>\n",
       "      <td>2147</td>\n",
       "      <td>23</td>\n",
       "      <td>51</td>\n",
       "      <td>All Levels</td>\n",
       "      <td>1.5</td>\n",
       "      <td>2017-01-18 20:58:58+00:00</td>\n",
       "      <td>Business Finance</td>\n",
       "    </tr>\n",
       "    <tr>\n",
       "      <th>1</th>\n",
       "      <td>1113822</td>\n",
       "      <td>Complete GST Course &amp; Certification - Grow Your CA Practice</td>\n",
       "      <td>https://www.udemy.com/goods-and-services-tax/</td>\n",
       "      <td>True</td>\n",
       "      <td>75</td>\n",
       "      <td>2792</td>\n",
       "      <td>923</td>\n",
       "      <td>274</td>\n",
       "      <td>All Levels</td>\n",
       "      <td>39.0</td>\n",
       "      <td>2017-03-09 16:34:20+00:00</td>\n",
       "      <td>Business Finance</td>\n",
       "    </tr>\n",
       "    <tr>\n",
       "      <th>2</th>\n",
       "      <td>1006314</td>\n",
       "      <td>Financial Modeling for Business Analysts and Consultants</td>\n",
       "      <td>https://www.udemy.com/financial-modeling-for-business-analysts-and-consultants/</td>\n",
       "      <td>True</td>\n",
       "      <td>45</td>\n",
       "      <td>2174</td>\n",
       "      <td>74</td>\n",
       "      <td>51</td>\n",
       "      <td>Intermediate Level</td>\n",
       "      <td>2.5</td>\n",
       "      <td>2016-12-19 19:26:30+00:00</td>\n",
       "      <td>Business Finance</td>\n",
       "    </tr>\n",
       "    <tr>\n",
       "      <th>3</th>\n",
       "      <td>1210588</td>\n",
       "      <td>Beginner to Pro - Financial Analysis in Excel 2017</td>\n",
       "      <td>https://www.udemy.com/complete-excel-finance-course-from-beginner-to-pro/</td>\n",
       "      <td>True</td>\n",
       "      <td>95</td>\n",
       "      <td>2451</td>\n",
       "      <td>11</td>\n",
       "      <td>36</td>\n",
       "      <td>All Levels</td>\n",
       "      <td>3.0</td>\n",
       "      <td>2017-05-30 20:07:24+00:00</td>\n",
       "      <td>Business Finance</td>\n",
       "    </tr>\n",
       "    <tr>\n",
       "      <th>4</th>\n",
       "      <td>1011058</td>\n",
       "      <td>How To Maximize Your Profits Trading Options</td>\n",
       "      <td>https://www.udemy.com/how-to-maximize-your-profits-trading-options/</td>\n",
       "      <td>True</td>\n",
       "      <td>200</td>\n",
       "      <td>1276</td>\n",
       "      <td>45</td>\n",
       "      <td>26</td>\n",
       "      <td>Intermediate Level</td>\n",
       "      <td>2.0</td>\n",
       "      <td>2016-12-13 14:57:18+00:00</td>\n",
       "      <td>Business Finance</td>\n",
       "    </tr>\n",
       "  </tbody>\n",
       "</table>\n",
       "</div>"
      ],
      "text/plain": [
       "   course_id                                                 course_title  \\\n",
       "0  1070968    Ultimate Investment Banking Course                            \n",
       "1  1113822    Complete GST Course & Certification - Grow Your CA Practice   \n",
       "2  1006314    Financial Modeling for Business Analysts and Consultants      \n",
       "3  1210588    Beginner to Pro - Financial Analysis in Excel 2017            \n",
       "4  1011058    How To Maximize Your Profits Trading Options                  \n",
       "\n",
       "                                                                               url  \\\n",
       "0  https://www.udemy.com/ultimate-investment-banking-course/                         \n",
       "1  https://www.udemy.com/goods-and-services-tax/                                     \n",
       "2  https://www.udemy.com/financial-modeling-for-business-analysts-and-consultants/   \n",
       "3  https://www.udemy.com/complete-excel-finance-course-from-beginner-to-pro/         \n",
       "4  https://www.udemy.com/how-to-maximize-your-profits-trading-options/               \n",
       "\n",
       "   is_paid  price  num_subscribers  num_reviews  num_lectures  \\\n",
       "0  True     200    2147             23           51             \n",
       "1  True     75     2792             923          274            \n",
       "2  True     45     2174             74           51             \n",
       "3  True     95     2451             11           36             \n",
       "4  True     200    1276             45           26             \n",
       "\n",
       "                level  content_duration       published_timestamp  \\\n",
       "0  All Levels          1.5              2017-01-18 20:58:58+00:00   \n",
       "1  All Levels          39.0             2017-03-09 16:34:20+00:00   \n",
       "2  Intermediate Level  2.5              2016-12-19 19:26:30+00:00   \n",
       "3  All Levels          3.0              2017-05-30 20:07:24+00:00   \n",
       "4  Intermediate Level  2.0              2016-12-13 14:57:18+00:00   \n",
       "\n",
       "            subject  \n",
       "0  Business Finance  \n",
       "1  Business Finance  \n",
       "2  Business Finance  \n",
       "3  Business Finance  \n",
       "4  Business Finance  "
      ]
     },
     "execution_count": 3,
     "metadata": {},
     "output_type": "execute_result"
    }
   ],
   "source": [
    "df1.head()"
   ]
  },
  {
   "cell_type": "markdown",
   "metadata": {},
   "source": [
    "------------------------------------------------------------------------------------------------------------------------------------------------------"
   ]
  },
  {
   "cell_type": "markdown",
   "metadata": {},
   "source": [
    "# (4) Cek Missing Value"
   ]
  },
  {
   "cell_type": "markdown",
   "metadata": {},
   "source": [
    "------------------------------------------------------------------------------------------------------------------------------------------------------"
   ]
  },
  {
   "cell_type": "code",
   "execution_count": 4,
   "metadata": {},
   "outputs": [
    {
     "data": {
      "text/plain": [
       "course_id              0\n",
       "course_title           0\n",
       "url                    0\n",
       "is_paid                0\n",
       "price                  0\n",
       "num_subscribers        0\n",
       "num_reviews            0\n",
       "num_lectures           0\n",
       "level                  0\n",
       "content_duration       0\n",
       "published_timestamp    0\n",
       "subject                0\n",
       "dtype: int64"
      ]
     },
     "execution_count": 4,
     "metadata": {},
     "output_type": "execute_result"
    }
   ],
   "source": [
    "df1.isna().sum()"
   ]
  },
  {
   "cell_type": "code",
   "execution_count": 5,
   "metadata": {},
   "outputs": [
    {
     "data": {
      "image/png": "[encoded data removed]",
      "text/plain": [
       "<Figure size 576x432 with 1 Axes>"
      ]
     },
     "metadata": {
      "needs_background": "light"
     },
     "output_type": "display_data"
    }
   ],
   "source": [
    "plt.figure(figsize=(8,6))\n",
    "sns.heatmap(df1.isna(), cmap='viridis', yticklabels=False, cbar=False)\n",
    "plt.show()"
   ]
  },
  {
   "cell_type": "markdown",
   "metadata": {},
   "source": [
    "- **Tidak terdapat null, sehingga Handling Missing Value tidak perlu dilakukan**"
   ]
  },
  {
   "cell_type": "markdown",
   "metadata": {},
   "source": [
    "------------------------------------------------------------------------------------------------------------------------------------------------------"
   ]
  },
  {
   "cell_type": "markdown",
   "metadata": {},
   "source": [
    "# (5) Describe Data"
   ]
  },
  {
   "cell_type": "markdown",
   "metadata": {},
   "source": [
    "------------------------------------------------------------------------------------------------------------------------------------------------------"
   ]
  },
  {
   "cell_type": "code",
   "execution_count": 6,
   "metadata": {},
   "outputs": [
    {
     "name": "stdout",
     "output_type": "stream",
     "text": [
      "<class 'pandas.core.frame.DataFrame'>\n",
      "RangeIndex: 3678 entries, 0 to 3677\n",
      "Data columns (total 12 columns):\n",
      " #   Column               Non-Null Count  Dtype              \n",
      "---  ------               --------------  -----              \n",
      " 0   course_id            3678 non-null   int64              \n",
      " 1   course_title         3678 non-null   object             \n",
      " 2   url                  3678 non-null   object             \n",
      " 3   is_paid              3678 non-null   bool               \n",
      " 4   price                3678 non-null   int64              \n",
      " 5   num_subscribers      3678 non-null   int64              \n",
      " 6   num_reviews          3678 non-null   int64              \n",
      " 7   num_lectures         3678 non-null   int64              \n",
      " 8   level                3678 non-null   object             \n",
      " 9   content_duration     3678 non-null   float64            \n",
      " 10  published_timestamp  3678 non-null   datetime64[ns, UTC]\n",
      " 11  subject              3678 non-null   object             \n",
      "dtypes: bool(1), datetime64[ns, UTC](1), float64(1), int64(5), object(4)\n",
      "memory usage: 319.8+ KB\n"
     ]
    }
   ],
   "source": [
    "df1.info()"
   ]
  },
  {
   "cell_type": "code",
   "execution_count": 7,
   "metadata": {},
   "outputs": [
    {
     "data": {
      "text/plain": [
       "Index(['course_id', 'course_title', 'url', 'is_paid', 'price',\n",
       "       'num_subscribers', 'num_reviews', 'num_lectures', 'level',\n",
       "       'content_duration', 'published_timestamp', 'subject'],\n",
       "      dtype='object')"
      ]
     },
     "execution_count": 7,
     "metadata": {},
     "output_type": "execute_result"
    }
   ],
   "source": [
    "df1.columns"
   ]
  },
  {
   "cell_type": "markdown",
   "metadata": {},
   "source": [
    "### Variabel\n",
    "\n",
    "- course_id: ID setiap jenis course\n",
    "- course_title: Nama Course\n",
    "- url: url dari course_title\n",
    "- is paid: Tipe Course (Gratis / Berbayar)\n",
    "- price: Harga course (dalam satuan USD)\n",
    "- num_subscriber: Jumlah subscriber atau student\n",
    "- num_reviews: Jumlah subscriber atau partisipan yang memberikan review\n",
    "- num_lectures: Jumlah instruktur\n",
    "- level: Level course \n",
    "- content_duration: Durasi konten dari satu course nya (dalam satuan hours)\n",
    "- published_timestamp: Keterangan waktu perilisan course\n",
    "- subject: Kategori course"
   ]
  },
  {
   "cell_type": "code",
   "execution_count": 8,
   "metadata": {},
   "outputs": [
    {
     "data": {
      "text/plain": [
       "array(['Business Finance', 'Graphic Design', 'Musical Instruments',\n",
       "       'Web Development'], dtype=object)"
      ]
     },
     "execution_count": 8,
     "metadata": {},
     "output_type": "execute_result"
    }
   ],
   "source": [
    "df1.subject.unique()"
   ]
  },
  {
   "cell_type": "code",
   "execution_count": 9,
   "metadata": {},
   "outputs": [
    {
     "data": {
      "text/plain": [
       "array(['All Levels', 'Intermediate Level', 'Beginner Level',\n",
       "       'Expert Level'], dtype=object)"
      ]
     },
     "execution_count": 9,
     "metadata": {},
     "output_type": "execute_result"
    }
   ],
   "source": [
    "df1.level.unique()"
   ]
  },
  {
   "cell_type": "code",
   "execution_count": 10,
   "metadata": {},
   "outputs": [
    {
     "data": {
      "text/html": [
       "<div>\n",
       "<style scoped>\n",
       "    .dataframe tbody tr th:only-of-type {\n",
       "        vertical-align: middle;\n",
       "    }\n",
       "\n",
       "    .dataframe tbody tr th {\n",
       "        vertical-align: top;\n",
       "    }\n",
       "\n",
       "    .dataframe thead th {\n",
       "        text-align: right;\n",
       "    }\n",
       "</style>\n",
       "<table border=\"1\" class=\"dataframe\">\n",
       "  <thead>\n",
       "    <tr style=\"text-align: right;\">\n",
       "      <th></th>\n",
       "      <th>count</th>\n",
       "      <th>mean</th>\n",
       "      <th>std</th>\n",
       "      <th>min</th>\n",
       "      <th>25%</th>\n",
       "      <th>50%</th>\n",
       "      <th>75%</th>\n",
       "      <th>max</th>\n",
       "    </tr>\n",
       "  </thead>\n",
       "  <tbody>\n",
       "    <tr>\n",
       "      <th>course_id</th>\n",
       "      <td>3678.0</td>\n",
       "      <td>675971.963295</td>\n",
       "      <td>343273.156040</td>\n",
       "      <td>8324.0</td>\n",
       "      <td>407692.5</td>\n",
       "      <td>687917.0</td>\n",
       "      <td>961355.50</td>\n",
       "      <td>1282064.0</td>\n",
       "    </tr>\n",
       "    <tr>\n",
       "      <th>price</th>\n",
       "      <td>3678.0</td>\n",
       "      <td>66.049483</td>\n",
       "      <td>61.005755</td>\n",
       "      <td>0.0</td>\n",
       "      <td>20.0</td>\n",
       "      <td>45.0</td>\n",
       "      <td>95.00</td>\n",
       "      <td>200.0</td>\n",
       "    </tr>\n",
       "    <tr>\n",
       "      <th>num_subscribers</th>\n",
       "      <td>3678.0</td>\n",
       "      <td>3197.150625</td>\n",
       "      <td>9504.117010</td>\n",
       "      <td>0.0</td>\n",
       "      <td>111.0</td>\n",
       "      <td>911.5</td>\n",
       "      <td>2546.00</td>\n",
       "      <td>268923.0</td>\n",
       "    </tr>\n",
       "    <tr>\n",
       "      <th>num_reviews</th>\n",
       "      <td>3678.0</td>\n",
       "      <td>156.259108</td>\n",
       "      <td>935.452044</td>\n",
       "      <td>0.0</td>\n",
       "      <td>4.0</td>\n",
       "      <td>18.0</td>\n",
       "      <td>67.00</td>\n",
       "      <td>27445.0</td>\n",
       "    </tr>\n",
       "    <tr>\n",
       "      <th>num_lectures</th>\n",
       "      <td>3678.0</td>\n",
       "      <td>40.108755</td>\n",
       "      <td>50.383346</td>\n",
       "      <td>0.0</td>\n",
       "      <td>15.0</td>\n",
       "      <td>25.0</td>\n",
       "      <td>45.75</td>\n",
       "      <td>779.0</td>\n",
       "    </tr>\n",
       "    <tr>\n",
       "      <th>content_duration</th>\n",
       "      <td>3678.0</td>\n",
       "      <td>4.094527</td>\n",
       "      <td>6.053835</td>\n",
       "      <td>0.0</td>\n",
       "      <td>1.0</td>\n",
       "      <td>2.0</td>\n",
       "      <td>4.50</td>\n",
       "      <td>78.5</td>\n",
       "    </tr>\n",
       "  </tbody>\n",
       "</table>\n",
       "</div>"
      ],
      "text/plain": [
       "                   count           mean            std     min       25%  \\\n",
       "course_id         3678.0  675971.963295  343273.156040  8324.0  407692.5   \n",
       "price             3678.0  66.049483      61.005755      0.0     20.0       \n",
       "num_subscribers   3678.0  3197.150625    9504.117010    0.0     111.0      \n",
       "num_reviews       3678.0  156.259108     935.452044     0.0     4.0        \n",
       "num_lectures      3678.0  40.108755      50.383346      0.0     15.0       \n",
       "content_duration  3678.0  4.094527       6.053835       0.0     1.0        \n",
       "\n",
       "                       50%        75%        max  \n",
       "course_id         687917.0  961355.50  1282064.0  \n",
       "price             45.0      95.00      200.0      \n",
       "num_subscribers   911.5     2546.00    268923.0   \n",
       "num_reviews       18.0      67.00      27445.0    \n",
       "num_lectures      25.0      45.75      779.0      \n",
       "content_duration  2.0       4.50       78.5       "
      ]
     },
     "execution_count": 10,
     "metadata": {},
     "output_type": "execute_result"
    }
   ],
   "source": [
    "tab_desc1 = df1.describe().T\n",
    "tab_desc1"
   ]
  },
  {
   "cell_type": "code",
   "execution_count": 11,
   "metadata": {},
   "outputs": [
    {
     "data": {
      "text/html": [
       "<div>\n",
       "<style scoped>\n",
       "    .dataframe tbody tr th:only-of-type {\n",
       "        vertical-align: middle;\n",
       "    }\n",
       "\n",
       "    .dataframe tbody tr th {\n",
       "        vertical-align: top;\n",
       "    }\n",
       "\n",
       "    .dataframe thead th {\n",
       "        text-align: right;\n",
       "    }\n",
       "</style>\n",
       "<table border=\"1\" class=\"dataframe\">\n",
       "  <thead>\n",
       "    <tr style=\"text-align: right;\">\n",
       "      <th></th>\n",
       "      <th>count</th>\n",
       "      <th>unique</th>\n",
       "      <th>top</th>\n",
       "      <th>freq</th>\n",
       "    </tr>\n",
       "  </thead>\n",
       "  <tbody>\n",
       "    <tr>\n",
       "      <th>course_title</th>\n",
       "      <td>3678</td>\n",
       "      <td>3663</td>\n",
       "      <td>Creating an animated greeting card via Google Slides</td>\n",
       "      <td>3</td>\n",
       "    </tr>\n",
       "    <tr>\n",
       "      <th>url</th>\n",
       "      <td>3678</td>\n",
       "      <td>3672</td>\n",
       "      <td>https://www.udemy.com/build-beautiful-html5-website/</td>\n",
       "      <td>2</td>\n",
       "    </tr>\n",
       "    <tr>\n",
       "      <th>level</th>\n",
       "      <td>3678</td>\n",
       "      <td>4</td>\n",
       "      <td>All Levels</td>\n",
       "      <td>1929</td>\n",
       "    </tr>\n",
       "    <tr>\n",
       "      <th>subject</th>\n",
       "      <td>3678</td>\n",
       "      <td>4</td>\n",
       "      <td>Web Development</td>\n",
       "      <td>1200</td>\n",
       "    </tr>\n",
       "  </tbody>\n",
       "</table>\n",
       "</div>"
      ],
      "text/plain": [
       "             count unique  \\\n",
       "course_title  3678  3663    \n",
       "url           3678  3672    \n",
       "level         3678  4       \n",
       "subject       3678  4       \n",
       "\n",
       "                                                               top  freq  \n",
       "course_title  Creating an animated greeting card via Google Slides  3     \n",
       "url           https://www.udemy.com/build-beautiful-html5-website/  2     \n",
       "level         All Levels                                            1929  \n",
       "subject       Web Development                                       1200  "
      ]
     },
     "execution_count": 11,
     "metadata": {},
     "output_type": "execute_result"
    }
   ],
   "source": [
    "tab_desc2 = df1.describe(include='O').T\n",
    "tab_desc2"
   ]
  },
  {
   "cell_type": "code",
   "execution_count": 12,
   "metadata": {},
   "outputs": [],
   "source": [
    "dfDesc = []\n",
    "for i in df1.columns:\n",
    "    dfDesc.append([\n",
    "        i,\n",
    "        df1[i].dtypes,\n",
    "        df1[i].isna().sum(),\n",
    "        round((df1[i].isna().sum()/len(df1)*100),2),\n",
    "        df1[i].nunique(),\n",
    "        df1[i].drop_duplicates().sample(2).values\n",
    "    ])"
   ]
  },
  {
   "cell_type": "code",
   "execution_count": 13,
   "metadata": {},
   "outputs": [
    {
     "data": {
      "text/html": [
       "<div>\n",
       "<style scoped>\n",
       "    .dataframe tbody tr th:only-of-type {\n",
       "        vertical-align: middle;\n",
       "    }\n",
       "\n",
       "    .dataframe tbody tr th {\n",
       "        vertical-align: top;\n",
       "    }\n",
       "\n",
       "    .dataframe thead th {\n",
       "        text-align: right;\n",
       "    }\n",
       "</style>\n",
       "<table border=\"1\" class=\"dataframe\">\n",
       "  <thead>\n",
       "    <tr style=\"text-align: right;\">\n",
       "      <th></th>\n",
       "      <th>Feature</th>\n",
       "      <th>dtypes</th>\n",
       "      <th>null</th>\n",
       "      <th>null%</th>\n",
       "      <th>nunique</th>\n",
       "      <th>sample</th>\n",
       "    </tr>\n",
       "  </thead>\n",
       "  <tbody>\n",
       "    <tr>\n",
       "      <th>0</th>\n",
       "      <td>course_id</td>\n",
       "      <td>int64</td>\n",
       "      <td>0</td>\n",
       "      <td>0.0</td>\n",
       "      <td>3672</td>\n",
       "      <td>[205764, 963664]</td>\n",
       "    </tr>\n",
       "    <tr>\n",
       "      <th>1</th>\n",
       "      <td>course_title</td>\n",
       "      <td>object</td>\n",
       "      <td>0</td>\n",
       "      <td>0.0</td>\n",
       "      <td>3663</td>\n",
       "      <td>[Learn How To Play 25 Classic Hip Hop Songs Ch.2, Instant Harmonica - play Summertime + Drunken Sailor now!]</td>\n",
       "    </tr>\n",
       "    <tr>\n",
       "      <th>2</th>\n",
       "      <td>url</td>\n",
       "      <td>object</td>\n",
       "      <td>0</td>\n",
       "      <td>0.0</td>\n",
       "      <td>3672</td>\n",
       "      <td>[https://www.udemy.com/turn-your-photos-into-professional-and-modern-artworks/, https://www.udemy.com/asp-basics-for-beginners/]</td>\n",
       "    </tr>\n",
       "    <tr>\n",
       "      <th>3</th>\n",
       "      <td>is_paid</td>\n",
       "      <td>bool</td>\n",
       "      <td>0</td>\n",
       "      <td>0.0</td>\n",
       "      <td>2</td>\n",
       "      <td>[True, False]</td>\n",
       "    </tr>\n",
       "    <tr>\n",
       "      <th>4</th>\n",
       "      <td>price</td>\n",
       "      <td>int64</td>\n",
       "      <td>0</td>\n",
       "      <td>0.0</td>\n",
       "      <td>38</td>\n",
       "      <td>[70, 145]</td>\n",
       "    </tr>\n",
       "    <tr>\n",
       "      <th>5</th>\n",
       "      <td>num_subscribers</td>\n",
       "      <td>int64</td>\n",
       "      <td>0</td>\n",
       "      <td>0.0</td>\n",
       "      <td>2197</td>\n",
       "      <td>[22257, 850]</td>\n",
       "    </tr>\n",
       "    <tr>\n",
       "      <th>6</th>\n",
       "      <td>num_reviews</td>\n",
       "      <td>int64</td>\n",
       "      <td>0</td>\n",
       "      <td>0.0</td>\n",
       "      <td>511</td>\n",
       "      <td>[82, 205]</td>\n",
       "    </tr>\n",
       "    <tr>\n",
       "      <th>7</th>\n",
       "      <td>num_lectures</td>\n",
       "      <td>int64</td>\n",
       "      <td>0</td>\n",
       "      <td>0.0</td>\n",
       "      <td>229</td>\n",
       "      <td>[118, 274]</td>\n",
       "    </tr>\n",
       "    <tr>\n",
       "      <th>8</th>\n",
       "      <td>level</td>\n",
       "      <td>object</td>\n",
       "      <td>0</td>\n",
       "      <td>0.0</td>\n",
       "      <td>4</td>\n",
       "      <td>[Beginner Level, Expert Level]</td>\n",
       "    </tr>\n",
       "    <tr>\n",
       "      <th>9</th>\n",
       "      <td>content_duration</td>\n",
       "      <td>float64</td>\n",
       "      <td>0</td>\n",
       "      <td>0.0</td>\n",
       "      <td>105</td>\n",
       "      <td>[0.7, 22.5]</td>\n",
       "    </tr>\n",
       "    <tr>\n",
       "      <th>10</th>\n",
       "      <td>published_timestamp</td>\n",
       "      <td>datetime64[ns, UTC]</td>\n",
       "      <td>0</td>\n",
       "      <td>0.0</td>\n",
       "      <td>3672</td>\n",
       "      <td>[2015-03-18T21:27:54.000000000, 2016-03-02T17:16:23.000000000]</td>\n",
       "    </tr>\n",
       "    <tr>\n",
       "      <th>11</th>\n",
       "      <td>subject</td>\n",
       "      <td>object</td>\n",
       "      <td>0</td>\n",
       "      <td>0.0</td>\n",
       "      <td>4</td>\n",
       "      <td>[Graphic Design, Web Development]</td>\n",
       "    </tr>\n",
       "  </tbody>\n",
       "</table>\n",
       "</div>"
      ],
      "text/plain": [
       "                Feature               dtypes  null  null%  nunique  \\\n",
       "0   course_id            int64                0     0.0    3672      \n",
       "1   course_title         object               0     0.0    3663      \n",
       "2   url                  object               0     0.0    3672      \n",
       "3   is_paid              bool                 0     0.0    2         \n",
       "4   price                int64                0     0.0    38        \n",
       "5   num_subscribers      int64                0     0.0    2197      \n",
       "6   num_reviews          int64                0     0.0    511       \n",
       "7   num_lectures         int64                0     0.0    229       \n",
       "8   level                object               0     0.0    4         \n",
       "9   content_duration     float64              0     0.0    105       \n",
       "10  published_timestamp  datetime64[ns, UTC]  0     0.0    3672      \n",
       "11  subject              object               0     0.0    4         \n",
       "\n",
       "                                                                                                                              sample  \n",
       "0   [205764, 963664]                                                                                                                  \n",
       "1   [Learn How To Play 25 Classic Hip Hop Songs Ch.2, Instant Harmonica - play Summertime + Drunken Sailor now!]                      \n",
       "2   [https://www.udemy.com/turn-your-photos-into-professional-and-modern-artworks/, https://www.udemy.com/asp-basics-for-beginners/]  \n",
       "3   [True, False]                                                                                                                     \n",
       "4   [70, 145]                                                                                                                         \n",
       "5   [22257, 850]                                                                                                                      \n",
       "6   [82, 205]                                                                                                                         \n",
       "7   [118, 274]                                                                                                                        \n",
       "8   [Beginner Level, Expert Level]                                                                                                    \n",
       "9   [0.7, 22.5]                                                                                                                       \n",
       "10  [2015-03-18T21:27:54.000000000, 2016-03-02T17:16:23.000000000]                                                                    \n",
       "11  [Graphic Design, Web Development]                                                                                                 "
      ]
     },
     "execution_count": 13,
     "metadata": {},
     "output_type": "execute_result"
    }
   ],
   "source": [
    "tab_desc3 = pd.DataFrame(dfDesc, columns=['Feature','dtypes','null','null%','nunique','sample'])\n",
    "tab_desc3"
   ]
  },
  {
   "cell_type": "markdown",
   "metadata": {},
   "source": [
    "- Course ID dan Course title tidak sama jumlah nunique nya. Kemungkinan ada beberapa course title yang terduplikasi\n",
    "- Selain itu, jumlah data ialah 3678, sedangkan course_id hanya 3672. **Ada sejumlah 6 data memiliki course_id yang sama**"
   ]
  },
  {
   "cell_type": "code",
   "execution_count": 14,
   "metadata": {},
   "outputs": [],
   "source": [
    "id_duplikat = df1.course_id.value_counts().head(6).index\n",
    "index_loc = []\n",
    "for i in id_duplikat:\n",
    "    index_loc.append([\n",
    "        i,\n",
    "        df1.index[df1.course_id==i]\n",
    "    ])"
   ]
  },
  {
   "cell_type": "code",
   "execution_count": 15,
   "metadata": {},
   "outputs": [
    {
     "data": {
      "text/html": [
       "<div>\n",
       "<style scoped>\n",
       "    .dataframe tbody tr th:only-of-type {\n",
       "        vertical-align: middle;\n",
       "    }\n",
       "\n",
       "    .dataframe tbody tr th {\n",
       "        vertical-align: top;\n",
       "    }\n",
       "\n",
       "    .dataframe thead th {\n",
       "        text-align: right;\n",
       "    }\n",
       "</style>\n",
       "<table border=\"1\" class=\"dataframe\">\n",
       "  <thead>\n",
       "    <tr style=\"text-align: right;\">\n",
       "      <th></th>\n",
       "      <th>course_id</th>\n",
       "      <th>loc_index</th>\n",
       "    </tr>\n",
       "  </thead>\n",
       "  <tbody>\n",
       "    <tr>\n",
       "      <th>0</th>\n",
       "      <td>185526</td>\n",
       "      <td>Int64Index([1234, 1473], dtype='int64')</td>\n",
       "    </tr>\n",
       "    <tr>\n",
       "      <th>1</th>\n",
       "      <td>1084454</td>\n",
       "      <td>Int64Index([463, 1100], dtype='int64')</td>\n",
       "    </tr>\n",
       "    <tr>\n",
       "      <th>2</th>\n",
       "      <td>837322</td>\n",
       "      <td>Int64Index([453, 787], dtype='int64')</td>\n",
       "    </tr>\n",
       "    <tr>\n",
       "      <th>3</th>\n",
       "      <td>28295</td>\n",
       "      <td>Int64Index([2478, 2561], dtype='int64')</td>\n",
       "    </tr>\n",
       "    <tr>\n",
       "      <th>4</th>\n",
       "      <td>1035638</td>\n",
       "      <td>Int64Index([778, 894], dtype='int64')</td>\n",
       "    </tr>\n",
       "    <tr>\n",
       "      <th>5</th>\n",
       "      <td>1157298</td>\n",
       "      <td>Int64Index([454, 788], dtype='int64')</td>\n",
       "    </tr>\n",
       "  </tbody>\n",
       "</table>\n",
       "</div>"
      ],
      "text/plain": [
       "   course_id                                loc_index\n",
       "0  185526     Int64Index([1234, 1473], dtype='int64')\n",
       "1  1084454    Int64Index([463, 1100], dtype='int64') \n",
       "2  837322     Int64Index([453, 787], dtype='int64')  \n",
       "3  28295      Int64Index([2478, 2561], dtype='int64')\n",
       "4  1035638    Int64Index([778, 894], dtype='int64')  \n",
       "5  1157298    Int64Index([454, 788], dtype='int64')  "
      ]
     },
     "execution_count": 15,
     "metadata": {},
     "output_type": "execute_result"
    }
   ],
   "source": [
    "tab_desc4 = pd.DataFrame(index_loc, columns=['course_id', 'loc_index'])\n",
    "tab_desc4"
   ]
  },
  {
   "cell_type": "markdown",
   "metadata": {},
   "source": [
    "- Setiap course yang sama tersebut akan didrop salah satunya"
   ]
  },
  {
   "cell_type": "code",
   "execution_count": 16,
   "metadata": {},
   "outputs": [
    {
     "data": {
      "text/html": [
       "<div>\n",
       "<style scoped>\n",
       "    .dataframe tbody tr th:only-of-type {\n",
       "        vertical-align: middle;\n",
       "    }\n",
       "\n",
       "    .dataframe tbody tr th {\n",
       "        vertical-align: top;\n",
       "    }\n",
       "\n",
       "    .dataframe thead th {\n",
       "        text-align: right;\n",
       "    }\n",
       "</style>\n",
       "<table border=\"1\" class=\"dataframe\">\n",
       "  <thead>\n",
       "    <tr style=\"text-align: right;\">\n",
       "      <th></th>\n",
       "      <th>course_id</th>\n",
       "      <th>course_title</th>\n",
       "      <th>url</th>\n",
       "      <th>is_paid</th>\n",
       "      <th>price</th>\n",
       "      <th>num_subscribers</th>\n",
       "      <th>num_reviews</th>\n",
       "      <th>num_lectures</th>\n",
       "      <th>level</th>\n",
       "      <th>content_duration</th>\n",
       "      <th>published_timestamp</th>\n",
       "      <th>subject</th>\n",
       "    </tr>\n",
       "  </thead>\n",
       "  <tbody>\n",
       "    <tr>\n",
       "      <th>463</th>\n",
       "      <td>1084454</td>\n",
       "      <td>CFA Level 2- Quantitative Methods</td>\n",
       "      <td>https://www.udemy.com/cfa-level-2-quantitative-methods/</td>\n",
       "      <td>True</td>\n",
       "      <td>40</td>\n",
       "      <td>0</td>\n",
       "      <td>0</td>\n",
       "      <td>35</td>\n",
       "      <td>All Levels</td>\n",
       "      <td>5.50</td>\n",
       "      <td>2017-07-02 14:29:35+00:00</td>\n",
       "      <td>Business Finance</td>\n",
       "    </tr>\n",
       "    <tr>\n",
       "      <th>1100</th>\n",
       "      <td>1084454</td>\n",
       "      <td>CFA Level 2- Quantitative Methods</td>\n",
       "      <td>https://www.udemy.com/cfa-level-2-quantitative-methods/</td>\n",
       "      <td>True</td>\n",
       "      <td>40</td>\n",
       "      <td>0</td>\n",
       "      <td>0</td>\n",
       "      <td>35</td>\n",
       "      <td>All Levels</td>\n",
       "      <td>5.50</td>\n",
       "      <td>2017-07-02 14:29:35+00:00</td>\n",
       "      <td>Business Finance</td>\n",
       "    </tr>\n",
       "    <tr>\n",
       "      <th>1234</th>\n",
       "      <td>185526</td>\n",
       "      <td>MicroStation - Células</td>\n",
       "      <td>https://www.udemy.com/microstation-celulas/</td>\n",
       "      <td>True</td>\n",
       "      <td>20</td>\n",
       "      <td>0</td>\n",
       "      <td>0</td>\n",
       "      <td>9</td>\n",
       "      <td>Beginner Level</td>\n",
       "      <td>0.62</td>\n",
       "      <td>2014-04-15 21:48:55+00:00</td>\n",
       "      <td>Graphic Design</td>\n",
       "    </tr>\n",
       "    <tr>\n",
       "      <th>1473</th>\n",
       "      <td>185526</td>\n",
       "      <td>MicroStation - Células</td>\n",
       "      <td>https://www.udemy.com/microstation-celulas/</td>\n",
       "      <td>True</td>\n",
       "      <td>20</td>\n",
       "      <td>0</td>\n",
       "      <td>0</td>\n",
       "      <td>9</td>\n",
       "      <td>Beginner Level</td>\n",
       "      <td>0.62</td>\n",
       "      <td>2014-04-15 21:48:55+00:00</td>\n",
       "      <td>Graphic Design</td>\n",
       "    </tr>\n",
       "  </tbody>\n",
       "</table>\n",
       "</div>"
      ],
      "text/plain": [
       "      course_id                       course_title  \\\n",
       "463   1084454    CFA Level 2- Quantitative Methods   \n",
       "1100  1084454    CFA Level 2- Quantitative Methods   \n",
       "1234  185526     MicroStation - Células              \n",
       "1473  185526     MicroStation - Células              \n",
       "\n",
       "                                                          url  is_paid  price  \\\n",
       "463   https://www.udemy.com/cfa-level-2-quantitative-methods/  True     40      \n",
       "1100  https://www.udemy.com/cfa-level-2-quantitative-methods/  True     40      \n",
       "1234  https://www.udemy.com/microstation-celulas/              True     20      \n",
       "1473  https://www.udemy.com/microstation-celulas/              True     20      \n",
       "\n",
       "      num_subscribers  num_reviews  num_lectures           level  \\\n",
       "463   0                0            35            All Levels       \n",
       "1100  0                0            35            All Levels       \n",
       "1234  0                0            9             Beginner Level   \n",
       "1473  0                0            9             Beginner Level   \n",
       "\n",
       "      content_duration       published_timestamp           subject  \n",
       "463   5.50             2017-07-02 14:29:35+00:00  Business Finance  \n",
       "1100  5.50             2017-07-02 14:29:35+00:00  Business Finance  \n",
       "1234  0.62             2014-04-15 21:48:55+00:00  Graphic Design    \n",
       "1473  0.62             2014-04-15 21:48:55+00:00  Graphic Design    "
      ]
     },
     "execution_count": 16,
     "metadata": {},
     "output_type": "execute_result"
    }
   ],
   "source": [
    "tab_desc5 = df1[(df1.course_id==185526) | (df1.course_id==1084454)]\n",
    "tab_desc5"
   ]
  },
  {
   "cell_type": "code",
   "execution_count": 17,
   "metadata": {},
   "outputs": [
    {
     "data": {
      "image/png": "[encoded data removed]",
      "text/plain": [
       "<Figure size 1080x720 with 2 Axes>"
      ]
     },
     "metadata": {
      "needs_background": "light"
     },
     "output_type": "display_data"
    }
   ],
   "source": [
    "plt.figure(figsize=(15, 10))\n",
    "\n",
    "sns.heatmap(df1.corr(), annot=True, square=True, linewidths=0.25)\n",
    "plt.show()"
   ]
  },
  {
   "cell_type": "markdown",
   "metadata": {},
   "source": [
    "- Hipotesis awal variabel yang berhubungan dengan **Jumlah Subscribers** berdasarkan nilai korelasi tertinggi\n",
    "\n",
    "1. Jumlah Reviews\n",
    "2. Paid or not\n",
    "3. Content duration\n",
    "4. Jumlah Lectures"
   ]
  },
  {
   "cell_type": "markdown",
   "metadata": {},
   "source": [
    "------------------------------------------------------------------------------------------------------------------------------------------------------"
   ]
  },
  {
   "cell_type": "markdown",
   "metadata": {},
   "source": [
    "# (6) EDA without Handling Missing Value"
   ]
  },
  {
   "cell_type": "markdown",
   "metadata": {},
   "source": [
    "------------------------------------------------------------------------------------------------------------------------------------------------------"
   ]
  },
  {
   "cell_type": "markdown",
   "metadata": {},
   "source": [
    "## a. Analisa 1 variabel (Persebaran Data)"
   ]
  },
  {
   "cell_type": "code",
   "execution_count": 18,
   "metadata": {},
   "outputs": [],
   "source": [
    "feature_num = df1[['num_subscribers', 'num_reviews', 'num_lectures', 'content_duration', 'price', 'subject', 'level']]\n",
    "for i in feature_num:\n",
    "    if feature_num[i].dtype in ['object','bool']:\n",
    "        pass\n",
    "    elif i == 'price':\n",
    "        pass\n",
    "    else:\n",
    "        feature_num[i +'_log'] = np.log(feature_num[i] + 1)\n",
    "log_feature = [f for f in feature_num.columns if '_log' in f]"
   ]
  },
  {
   "cell_type": "markdown",
   "metadata": {},
   "source": [
    "##### a1. Subscribers"
   ]
  },
  {
   "cell_type": "code",
   "execution_count": 19,
   "metadata": {},
   "outputs": [
    {
     "data": {
      "image/png": "[encoded data removed]",
      "text/plain": [
       "<Figure size 576x360 with 1 Axes>"
      ]
     },
     "metadata": {
      "needs_background": "light"
     },
     "output_type": "display_data"
    }
   ],
   "source": [
    "plt.figure(figsize=(8,5))\n",
    "sns.distplot(df1.num_subscribers, bins=50)\n",
    "plt.title('G1. Histogram of Subscriber', fontsize=15)\n",
    "plt.ylabel('Count', fontsize=12)\n",
    "plt.xlabel('Subscribers', fontsize=12)  \n",
    "plt.tick_params(labelsize=10) # ukuran xticks & yticks\n",
    "plt.tight_layout()\n",
    "# plt.savefig('hist-1.png')\n",
    "plt.show()"
   ]
  },
  {
   "cell_type": "markdown",
   "metadata": {},
   "source": [
    "- Berdasarkan Grafik G1, bentuk histogram jumlah subscriber merupakan skewness positif, **Jumlah persebaran data subscriber sebagian besar pada jumlah 0 sampai ± 10000**"
   ]
  },
  {
   "cell_type": "code",
   "execution_count": 20,
   "metadata": {},
   "outputs": [
    {
     "data": {
      "image/png": "[encoded data removed]",
      "text/plain": [
       "<Figure size 576x360 with 1 Axes>"
      ]
     },
     "metadata": {
      "needs_background": "light"
     },
     "output_type": "display_data"
    }
   ],
   "source": [
    "plt.figure(figsize=(8,5))\n",
    "sns.boxplot(df1.num_subscribers, color='salmon')\n",
    "plt.title('G2. Boxplot Subscribers', fontsize=20)\n",
    "plt.show()"
   ]
  },
  {
   "cell_type": "code",
   "execution_count": 21,
   "metadata": {},
   "outputs": [],
   "source": [
    "uf_subs = (1.5*(df1.num_subscribers.quantile(0.75)-df1.num_subscribers.quantile(0.25))) + df1.num_subscribers.quantile(0.75)\n",
    "b=df1.num_subscribers[df1.num_subscribers<=uf_subs]"
   ]
  },
  {
   "cell_type": "code",
   "execution_count": 22,
   "metadata": {},
   "outputs": [
    {
     "data": {
      "image/png": "[encoded data removed]",
      "text/plain": [
       "<Figure size 576x360 with 1 Axes>"
      ]
     },
     "metadata": {
      "needs_background": "light"
     },
     "output_type": "display_data"
    }
   ],
   "source": [
    "plt.figure(figsize=(8,5))\n",
    "sns.boxplot(df1.num_subscribers[df1.num_subscribers<=3000], color='salmon')\n",
    "plt.title('G2. Boxplot Subscribers', fontsize=20)\n",
    "plt.show()"
   ]
  },
  {
   "cell_type": "code",
   "execution_count": 23,
   "metadata": {},
   "outputs": [
    {
     "data": {
      "text/plain": [
       "2870"
      ]
     },
     "execution_count": 23,
     "metadata": {},
     "output_type": "execute_result"
    }
   ],
   "source": [
    "df1.num_subscribers[df1.num_subscribers<=3000].count()"
   ]
  },
  {
   "cell_type": "markdown",
   "metadata": {},
   "source": [
    "- Berdasarkan grafik G2, **Terdapat 433 Outlier dari 3672 data**.  \n",
    "- Upper Fence Jumlah Subscribers adalah 6198.5"
   ]
  },
  {
   "cell_type": "code",
   "execution_count": 24,
   "metadata": {},
   "outputs": [
    {
     "data": {
      "image/png": "[encoded data removed]",
      "text/plain": [
       "<Figure size 648x288 with 1 Axes>"
      ]
     },
     "metadata": {
      "needs_background": "light"
     },
     "output_type": "display_data"
    }
   ],
   "source": [
    "plt.figure(figsize=(9,4))\n",
    "ax = sns.boxplot(x='subject', y='num_subscribers_log', data=feature_num, palette='rainbow')\n",
    "ax.set_xlabel('', fontsize=12)\n",
    "ax.set_ylabel('num_subscribers_log', fontsize=12)\n",
    "ax.set_title('G3. Distribution of num_subscribers_log based on Subject', fontsize=14, weight='bold')\n",
    "plt.show()"
   ]
  },
  {
   "cell_type": "markdown",
   "metadata": {},
   "source": [
    "- Skewness negatif jika Q1-Q2 lebih banyak\n",
    "- Whisker = daerah Q3 - Upper Fence ()\n",
    "- Jadi median boxplot artinya frekuensi num_subscribers_log untuk course di subject tsb banyak di subscribers_log value y nya"
   ]
  },
  {
   "cell_type": "code",
   "execution_count": 25,
   "metadata": {},
   "outputs": [
    {
     "data": {
      "image/png": "[encoded data removed]",
      "text/plain": [
       "<Figure size 648x288 with 1 Axes>"
      ]
     },
     "metadata": {
      "needs_background": "light"
     },
     "output_type": "display_data"
    }
   ],
   "source": [
    "plt.figure(figsize=(9,4))\n",
    "plt.grid()\n",
    "ax = sns.boxplot(x='level', y='num_subscribers_log', data=feature_num, palette='viridis')\n",
    "ax.set_xlabel('', fontsize=12)\n",
    "ax.set_ylabel('num_subscribers_log', fontsize=12)\n",
    "ax.set_title('G4. Distribution of num_subscribers_log based on Level', fontsize=14, weight='bold')\n",
    "plt.show()"
   ]
  },
  {
   "cell_type": "code",
   "execution_count": 26,
   "metadata": {},
   "outputs": [],
   "source": [
    "a = df1.num_subscribers.value_counts().head(10)\n",
    "tab_eda1 = pd.DataFrame(a)"
   ]
  },
  {
   "cell_type": "code",
   "execution_count": 27,
   "metadata": {},
   "outputs": [],
   "source": [
    "tab_eda1['Num_Sub'] = tab_eda1.index\n",
    "index = np.arange(1,11)\n",
    "tab_eda1['index'] = index\n",
    "tab_eda1.rename(columns={\"num_subscribers\":\"Jumlah Data\"}, inplace=True)"
   ]
  },
  {
   "cell_type": "code",
   "execution_count": 28,
   "metadata": {},
   "outputs": [
    {
     "data": {
      "text/html": [
       "<div>\n",
       "<style scoped>\n",
       "    .dataframe tbody tr th:only-of-type {\n",
       "        vertical-align: middle;\n",
       "    }\n",
       "\n",
       "    .dataframe tbody tr th {\n",
       "        vertical-align: top;\n",
       "    }\n",
       "\n",
       "    .dataframe thead th {\n",
       "        text-align: right;\n",
       "    }\n",
       "</style>\n",
       "<table border=\"1\" class=\"dataframe\">\n",
       "  <thead>\n",
       "    <tr style=\"text-align: right;\">\n",
       "      <th></th>\n",
       "      <th>Num_Sub</th>\n",
       "      <th>Jumlah Data</th>\n",
       "    </tr>\n",
       "  </thead>\n",
       "  <tbody>\n",
       "    <tr>\n",
       "      <th>1</th>\n",
       "      <td>0</td>\n",
       "      <td>70</td>\n",
       "    </tr>\n",
       "    <tr>\n",
       "      <th>2</th>\n",
       "      <td>1</td>\n",
       "      <td>49</td>\n",
       "    </tr>\n",
       "    <tr>\n",
       "      <th>3</th>\n",
       "      <td>5</td>\n",
       "      <td>28</td>\n",
       "    </tr>\n",
       "    <tr>\n",
       "      <th>4</th>\n",
       "      <td>2</td>\n",
       "      <td>27</td>\n",
       "    </tr>\n",
       "    <tr>\n",
       "      <th>5</th>\n",
       "      <td>4</td>\n",
       "      <td>26</td>\n",
       "    </tr>\n",
       "    <tr>\n",
       "      <th>6</th>\n",
       "      <td>3</td>\n",
       "      <td>26</td>\n",
       "    </tr>\n",
       "    <tr>\n",
       "      <th>7</th>\n",
       "      <td>7</td>\n",
       "      <td>24</td>\n",
       "    </tr>\n",
       "    <tr>\n",
       "      <th>8</th>\n",
       "      <td>11</td>\n",
       "      <td>23</td>\n",
       "    </tr>\n",
       "    <tr>\n",
       "      <th>9</th>\n",
       "      <td>13</td>\n",
       "      <td>19</td>\n",
       "    </tr>\n",
       "    <tr>\n",
       "      <th>10</th>\n",
       "      <td>6</td>\n",
       "      <td>18</td>\n",
       "    </tr>\n",
       "  </tbody>\n",
       "</table>\n",
       "</div>"
      ],
      "text/plain": [
       "    Num_Sub  Jumlah Data\n",
       "1   0        70         \n",
       "2   1        49         \n",
       "3   5        28         \n",
       "4   2        27         \n",
       "5   4        26         \n",
       "6   3        26         \n",
       "7   7        24         \n",
       "8   11       23         \n",
       "9   13       19         \n",
       "10  6        18         "
      ]
     },
     "execution_count": 28,
     "metadata": {},
     "output_type": "execute_result"
    }
   ],
   "source": [
    "newcol = ['Num_Sub','Jumlah Data','index']\n",
    "tab_eda1 = tab_eda1[newcol]\n",
    "tab_eda1 = tab_eda1.set_index(index)\n",
    "tab_eda1.drop(columns='index',inplace=True)\n",
    "tab_eda1"
   ]
  },
  {
   "cell_type": "markdown",
   "metadata": {},
   "source": [
    "- Tabel tab_eda1 di atas merupakan **jumlah 10 data course tertinggi** dari **setiap number subscribers**\n",
    "- Contoh pembacaan : Ada sejumlah 70 course yang memiliki subscriber 0"
   ]
  },
  {
   "cell_type": "markdown",
   "metadata": {},
   "source": [
    "##### a2. Num_reviews"
   ]
  },
  {
   "cell_type": "code",
   "execution_count": 29,
   "metadata": {},
   "outputs": [
    {
     "data": {
      "image/png": "[encoded data removed]",
      "text/plain": [
       "<Figure size 576x360 with 1 Axes>"
      ]
     },
     "metadata": {
      "needs_background": "light"
     },
     "output_type": "display_data"
    }
   ],
   "source": [
    "plt.figure(figsize=(8,5))\n",
    "sns.boxplot(df1.num_reviews)\n",
    "plt.title('G5. Boxplot of num_reviews', fontsize=20)\n",
    "plt.ylabel('Count', fontsize=15)\n",
    "plt.xlabel('Number of Reviews', fontsize=15)  \n",
    "plt.tick_params(labelsize=10) # ukuran xticks & yticks\n",
    "plt.tight_layout()\n",
    "# plt.savefig('b_review.png')\n",
    "plt.show()"
   ]
  },
  {
   "cell_type": "code",
   "execution_count": 30,
   "metadata": {},
   "outputs": [
    {
     "data": {
      "text/plain": [
       "494"
      ]
     },
     "execution_count": 30,
     "metadata": {},
     "output_type": "execute_result"
    }
   ],
   "source": [
    "uf_review = (1.5*(df1.num_reviews.quantile(0.75)-df1.num_reviews.quantile(0.25))) + df1.num_reviews.quantile(0.75)\n",
    "df1.num_reviews[df1.num_reviews>uf_review].count()"
   ]
  },
  {
   "cell_type": "markdown",
   "metadata": {},
   "source": [
    "- Berdasarkna grafik G3. terdapat **494 Outlier** dalam data jumlah reviews. Outlier tidak akan didrop, karena persentasenya pun hanya 494/3678.\n",
    "- upper fence jumlah review adalah 161.5"
   ]
  },
  {
   "cell_type": "code",
   "execution_count": 31,
   "metadata": {},
   "outputs": [
    {
     "data": {
      "image/png": "[encoded data removed]",
      "text/plain": [
       "<Figure size 648x288 with 1 Axes>"
      ]
     },
     "metadata": {
      "needs_background": "light"
     },
     "output_type": "display_data"
    }
   ],
   "source": [
    "plt.figure(figsize=(9,4))\n",
    "ax = sns.boxplot(x='subject', y='num_reviews_log', data=feature_num, palette='rainbow')\n",
    "ax.set_xlabel('', fontsize=12)\n",
    "ax.set_ylabel('num_reviews_log', fontsize=12)\n",
    "ax.set_title('G6. Distribution of num_reviews_log based on Subject', fontsize=14, weight='bold')\n",
    "plt.show()"
   ]
  },
  {
   "cell_type": "code",
   "execution_count": 32,
   "metadata": {},
   "outputs": [
    {
     "data": {
      "image/png": "[encoded data removed]",
      "text/plain": [
       "<Figure size 648x288 with 1 Axes>"
      ]
     },
     "metadata": {
      "needs_background": "light"
     },
     "output_type": "display_data"
    }
   ],
   "source": [
    "plt.figure(figsize=(9,4))\n",
    "ax = sns.boxplot(x='level', y='num_reviews_log', data=feature_num, palette='viridis')\n",
    "ax.set_xlabel('', fontsize=12)\n",
    "ax.set_ylabel('num_reviews_log', fontsize=12)\n",
    "ax.set_title('G7. Distribution of num_reviews_log based on Level', fontsize=14, weight='bold')\n",
    "plt.show()"
   ]
  },
  {
   "cell_type": "markdown",
   "metadata": {},
   "source": [
    "##### a3. Num_lectures"
   ]
  },
  {
   "cell_type": "code",
   "execution_count": 33,
   "metadata": {},
   "outputs": [
    {
     "data": {
      "image/png": "[encoded data removed]",
      "text/plain": [
       "<Figure size 576x360 with 1 Axes>"
      ]
     },
     "metadata": {
      "needs_background": "light"
     },
     "output_type": "display_data"
    }
   ],
   "source": [
    "plt.figure(figsize=(8,5))\n",
    "sns.boxplot(df1.num_lectures)\n",
    "plt.title('G8. Boxplot of num_lectures', fontsize=20)\n",
    "plt.ylabel('Count', fontsize=15)\n",
    "plt.xlabel('Number of Lectures', fontsize=15)  \n",
    "plt.tick_params(labelsize=10) # ukuran xticks & yticks\n",
    "plt.tight_layout()\n",
    "# plt.savefig('b_review.png')\n",
    "plt.show()"
   ]
  },
  {
   "cell_type": "code",
   "execution_count": 34,
   "metadata": {},
   "outputs": [
    {
     "data": {
      "text/plain": [
       "293"
      ]
     },
     "execution_count": 34,
     "metadata": {},
     "output_type": "execute_result"
    }
   ],
   "source": [
    "uf_lecture = (1.5*(df1.num_lectures.quantile(0.75)-df1.num_lectures.quantile(0.25))) + df1.num_lectures.quantile(0.75)\n",
    "df1.num_lectures[df1.num_lectures>uf_lecture].count()"
   ]
  },
  {
   "cell_type": "markdown",
   "metadata": {},
   "source": [
    "- Berdasarkan grafik G4, terdapat **293 Outlier** dalam data jumlah lectures. Outlier tidak perlu didrop\n",
    "- Upper Fence jumlah lectures adalah 91.875"
   ]
  },
  {
   "cell_type": "markdown",
   "metadata": {},
   "source": [
    "##### a4. price"
   ]
  },
  {
   "cell_type": "code",
   "execution_count": 35,
   "metadata": {},
   "outputs": [
    {
     "data": {
      "image/png": "[encoded data removed]",
      "text/plain": [
       "<Figure size 576x360 with 1 Axes>"
      ]
     },
     "metadata": {
      "needs_background": "light"
     },
     "output_type": "display_data"
    }
   ],
   "source": [
    "plt.figure(figsize=(8,5))\n",
    "sns.boxplot(df1.price)\n",
    "plt.title('G9. Boxplot of Price', fontsize=20)\n",
    "plt.ylabel('Count', fontsize=15)\n",
    "plt.xlabel('Number of Price', fontsize=15)  \n",
    "plt.tick_params(labelsize=10) # ukuran xticks & yticks\n",
    "plt.tight_layout()\n",
    "# plt.savefig('b_review.png')\n",
    "plt.show()"
   ]
  },
  {
   "cell_type": "code",
   "execution_count": 36,
   "metadata": {},
   "outputs": [
    {
     "data": {
      "text/plain": [
       "0"
      ]
     },
     "execution_count": 36,
     "metadata": {},
     "output_type": "execute_result"
    }
   ],
   "source": [
    "uf_price = (1.5*(df1.price.quantile(0.75)-df1.price.quantile(0.25))) + df1.price.quantile(0.75)\n",
    "df1.price[df1.price>uf_price].count()"
   ]
  },
  {
   "cell_type": "markdown",
   "metadata": {},
   "source": [
    "- Berdasarkan grafik G5, **Tidak terdapat Outlier** dalam data price\n",
    "- Upper Fence price adalah 207.5"
   ]
  },
  {
   "cell_type": "code",
   "execution_count": 37,
   "metadata": {},
   "outputs": [
    {
     "data": {
      "image/png": "[encoded data removed]",
      "text/plain": [
       "<Figure size 648x288 with 1 Axes>"
      ]
     },
     "metadata": {
      "needs_background": "light"
     },
     "output_type": "display_data"
    }
   ],
   "source": [
    "plt.figure(figsize=(9,4))\n",
    "ax = sns.boxplot(x='subject', y='price', data=feature_num, palette='rainbow')\n",
    "ax.set_xlabel('', fontsize=12)\n",
    "ax.set_ylabel('price', fontsize=12)\n",
    "ax.set_title('G10. Distribution of Price based on Subject', fontsize=14, weight='bold')\n",
    "plt.show()"
   ]
  },
  {
   "cell_type": "code",
   "execution_count": 38,
   "metadata": {},
   "outputs": [
    {
     "data": {
      "image/png": "[encoded data removed]",
      "text/plain": [
       "<Figure size 648x288 with 1 Axes>"
      ]
     },
     "metadata": {
      "needs_background": "light"
     },
     "output_type": "display_data"
    }
   ],
   "source": [
    "plt.figure(figsize=(9,4))\n",
    "ax = sns.boxplot(x='level', y='price', data=feature_num, palette='viridis')\n",
    "ax.set_xlabel('', fontsize=12)\n",
    "ax.set_ylabel('price', fontsize=12)\n",
    "ax.set_title('G11. Distribution of Price based on Level', fontsize=14, weight='bold')\n",
    "plt.show()"
   ]
  },
  {
   "cell_type": "markdown",
   "metadata": {},
   "source": [
    "##### a5. Content Duration"
   ]
  },
  {
   "cell_type": "code",
   "execution_count": 39,
   "metadata": {},
   "outputs": [
    {
     "data": {
      "image/png": "[encoded data removed]",
      "text/plain": [
       "<Figure size 576x360 with 1 Axes>"
      ]
     },
     "metadata": {
      "needs_background": "light"
     },
     "output_type": "display_data"
    }
   ],
   "source": [
    "plt.figure(figsize=(8,5))\n",
    "sns.boxplot(df1.content_duration)\n",
    "plt.title('G12. Boxplot of Content Duration', fontsize=20)\n",
    "plt.ylabel('Count', fontsize=15)\n",
    "plt.xlabel('Content Duration', fontsize=15)  \n",
    "plt.tick_params(labelsize=10) # ukuran xticks & yticks\n",
    "plt.tight_layout()\n",
    "# plt.savefig('b_review.png')\n",
    "plt.show()"
   ]
  },
  {
   "cell_type": "code",
   "execution_count": 40,
   "metadata": {},
   "outputs": [
    {
     "data": {
      "text/plain": [
       "313"
      ]
     },
     "execution_count": 40,
     "metadata": {},
     "output_type": "execute_result"
    }
   ],
   "source": [
    "uf_duration = (1.5*(df1.content_duration.quantile(0.75)-df1.content_duration.quantile(0.25))) + df1.content_duration.quantile(0.75)\n",
    "df1.content_duration[df1.content_duration>uf_duration].count()"
   ]
  },
  {
   "cell_type": "markdown",
   "metadata": {},
   "source": [
    "- Berdasarkan grafik G6, **Terdapat 313 Outlier** dalam data content duration\n",
    "- Upper Fence content duration adalah 9.75"
   ]
  },
  {
   "cell_type": "markdown",
   "metadata": {},
   "source": [
    "## b. Analisa 2 variabel"
   ]
  },
  {
   "cell_type": "markdown",
   "metadata": {},
   "source": [
    "##### b1. Subscribers vs Review"
   ]
  },
  {
   "cell_type": "code",
   "execution_count": 41,
   "metadata": {},
   "outputs": [
    {
     "data": {
      "text/html": [
       "<div>\n",
       "<style scoped>\n",
       "    .dataframe tbody tr th:only-of-type {\n",
       "        vertical-align: middle;\n",
       "    }\n",
       "\n",
       "    .dataframe tbody tr th {\n",
       "        vertical-align: top;\n",
       "    }\n",
       "\n",
       "    .dataframe thead th {\n",
       "        text-align: right;\n",
       "    }\n",
       "</style>\n",
       "<table border=\"1\" class=\"dataframe\">\n",
       "  <thead>\n",
       "    <tr style=\"text-align: right;\">\n",
       "      <th></th>\n",
       "      <th>num_reviews</th>\n",
       "      <th>num_subscribers</th>\n",
       "    </tr>\n",
       "  </thead>\n",
       "  <tbody>\n",
       "    <tr>\n",
       "      <th>1050</th>\n",
       "      <td>1</td>\n",
       "      <td>7</td>\n",
       "    </tr>\n",
       "    <tr>\n",
       "      <th>1326</th>\n",
       "      <td>1</td>\n",
       "      <td>2</td>\n",
       "    </tr>\n",
       "    <tr>\n",
       "      <th>1323</th>\n",
       "      <td>1</td>\n",
       "      <td>8</td>\n",
       "    </tr>\n",
       "    <tr>\n",
       "      <th>1319</th>\n",
       "      <td>1</td>\n",
       "      <td>3</td>\n",
       "    </tr>\n",
       "    <tr>\n",
       "      <th>250</th>\n",
       "      <td>1</td>\n",
       "      <td>12</td>\n",
       "    </tr>\n",
       "  </tbody>\n",
       "</table>\n",
       "</div>"
      ],
      "text/plain": [
       "      num_reviews  num_subscribers\n",
       "1050  1            7              \n",
       "1326  1            2              \n",
       "1323  1            8              \n",
       "1319  1            3              \n",
       "250   1            12             "
      ]
     },
     "execution_count": 41,
     "metadata": {},
     "output_type": "execute_result"
    }
   ],
   "source": [
    "tab_eda2 = df1[['num_reviews','num_subscribers']][(df1.num_subscribers>0) & (df1.num_reviews>0)].sort_values(by='num_reviews')\n",
    "tab_eda2.head()"
   ]
  },
  {
   "cell_type": "code",
   "execution_count": 42,
   "metadata": {},
   "outputs": [
    {
     "data": {
      "image/png": "[encoded data removed]",
      "text/plain": [
       "<Figure size 576x432 with 1 Axes>"
      ]
     },
     "metadata": {
      "needs_background": "light"
     },
     "output_type": "display_data"
    }
   ],
   "source": [
    "plt.figure(figsize=(8,6))\n",
    "plt.plot(tab_eda2.num_reviews,tab_eda2.num_subscribers,'ro-')\n",
    "plt.title('G13. Number Reviews vs Number Subscribers', fontsize=15)\n",
    "plt.xlabel('num_reviews', fontsize=12)\n",
    "plt.ylabel('num_subscribers', fontsize=12)\n",
    "plt.show()"
   ]
  },
  {
   "cell_type": "markdown",
   "metadata": {},
   "source": [
    "- Secara umum memang berdasarkan grafik G7, **semakin banyak reviewers, subscriber semakin besar.** Dan kenaikan jumlah subscribers mulai stabil saat num_reviews >11rb"
   ]
  },
  {
   "cell_type": "markdown",
   "metadata": {},
   "source": [
    "##### b2. Subscribers vs is_paid"
   ]
  },
  {
   "cell_type": "code",
   "execution_count": 43,
   "metadata": {},
   "outputs": [
    {
     "data": {
      "text/html": [
       "<div>\n",
       "<style scoped>\n",
       "    .dataframe tbody tr th:only-of-type {\n",
       "        vertical-align: middle;\n",
       "    }\n",
       "\n",
       "    .dataframe tbody tr th {\n",
       "        vertical-align: top;\n",
       "    }\n",
       "\n",
       "    .dataframe thead th {\n",
       "        text-align: right;\n",
       "    }\n",
       "</style>\n",
       "<table border=\"1\" class=\"dataframe\">\n",
       "  <thead>\n",
       "    <tr style=\"text-align: right;\">\n",
       "      <th>col_0</th>\n",
       "      <th>Jumlah</th>\n",
       "    </tr>\n",
       "    <tr>\n",
       "      <th>is_paid</th>\n",
       "      <th></th>\n",
       "    </tr>\n",
       "  </thead>\n",
       "  <tbody>\n",
       "    <tr>\n",
       "      <th>True</th>\n",
       "      <td>8183595</td>\n",
       "    </tr>\n",
       "    <tr>\n",
       "      <th>False</th>\n",
       "      <td>3575525</td>\n",
       "    </tr>\n",
       "  </tbody>\n",
       "</table>\n",
       "</div>"
      ],
      "text/plain": [
       "col_0     Jumlah\n",
       "is_paid         \n",
       "True     8183595\n",
       "False    3575525"
      ]
     },
     "execution_count": 43,
     "metadata": {},
     "output_type": "execute_result"
    }
   ],
   "source": [
    "tab_eda3 = pd.crosstab(index=df1.is_paid, columns='Jumlah', values=df1.num_subscribers, aggfunc='sum').sort_values(by='Jumlah', ascending=False)\n",
    "tab_eda3"
   ]
  },
  {
   "cell_type": "code",
   "execution_count": 44,
   "metadata": {},
   "outputs": [
    {
     "data": {
      "image/png": "[encoded data removed]",
      "text/plain": [
       "<Figure size 648x432 with 1 Axes>"
      ]
     },
     "metadata": {
      "needs_background": "light"
     },
     "output_type": "display_data"
    }
   ],
   "source": [
    "(pd.crosstab(index=df1.is_paid, columns='Jumlah', values=df1.num_subscribers, aggfunc='sum').sort_values(by='Jumlah', ascending=False)).plot(\n",
    "    figsize=(9,6), \n",
    "    kind='bar',\n",
    "    color = 'ck'\n",
    ")\n",
    "plt.title('G14. Efek Tipe Lisensi dengan Jumlah Subscriber', fontsize=15)\n",
    "plt.ylabel('Jumlah Subscribers', color ='m', fontsize=12)\n",
    "plt.xlabel('is_paid?', color='m', fontsize=12)  \n",
    "plt.tick_params(labelsize=10)\n",
    "plt.xticks(rotation=360)\n",
    "plt.show()"
   ]
  },
  {
   "cell_type": "markdown",
   "metadata": {},
   "source": [
    "- **Tipe konten berbayar lebih banyak mendapatkan jumlah subscriber nya dibandingkan yang tidak berbayar**. Akan tetapi, disini lisensi berbayar ini memiliki price yang beraneka ragam. Oleh karena itu perlu dilihat lebih lanjut lagi apakah harga memiliki pengaruh juga terhadap Jumlah subscribers nya "
   ]
  },
  {
   "cell_type": "markdown",
   "metadata": {},
   "source": [
    "##### b3. Subscribers Vs Price"
   ]
  },
  {
   "cell_type": "code",
   "execution_count": 45,
   "metadata": {},
   "outputs": [
    {
     "data": {
      "text/html": [
       "<div>\n",
       "<style scoped>\n",
       "    .dataframe tbody tr th:only-of-type {\n",
       "        vertical-align: middle;\n",
       "    }\n",
       "\n",
       "    .dataframe tbody tr th {\n",
       "        vertical-align: top;\n",
       "    }\n",
       "\n",
       "    .dataframe thead th {\n",
       "        text-align: right;\n",
       "    }\n",
       "</style>\n",
       "<table border=\"1\" class=\"dataframe\">\n",
       "  <thead>\n",
       "    <tr style=\"text-align: right;\">\n",
       "      <th>col_0</th>\n",
       "      <th>Total Subscribers</th>\n",
       "    </tr>\n",
       "    <tr>\n",
       "      <th>price</th>\n",
       "      <th></th>\n",
       "    </tr>\n",
       "  </thead>\n",
       "  <tbody>\n",
       "    <tr>\n",
       "      <th>50</th>\n",
       "      <td>717383</td>\n",
       "    </tr>\n",
       "    <tr>\n",
       "      <th>195</th>\n",
       "      <td>939254</td>\n",
       "    </tr>\n",
       "    <tr>\n",
       "      <th>20</th>\n",
       "      <td>1320658</td>\n",
       "    </tr>\n",
       "    <tr>\n",
       "      <th>200</th>\n",
       "      <td>1336331</td>\n",
       "    </tr>\n",
       "    <tr>\n",
       "      <th>0</th>\n",
       "      <td>3575525</td>\n",
       "    </tr>\n",
       "  </tbody>\n",
       "</table>\n",
       "</div>"
      ],
      "text/plain": [
       "col_0  Total Subscribers\n",
       "price                   \n",
       "50     717383           \n",
       "195    939254           \n",
       "20     1320658          \n",
       "200    1336331          \n",
       "0      3575525          "
      ]
     },
     "execution_count": 45,
     "metadata": {},
     "output_type": "execute_result"
    }
   ],
   "source": [
    "tab_eda4 = pd.crosstab(index=df1.price, columns='Total Subscribers', values=df1.num_subscribers, aggfunc='sum').sort_values(by='Total Subscribers', ascending=True)\n",
    "tab_eda4.tail()"
   ]
  },
  {
   "cell_type": "markdown",
   "metadata": {},
   "source": [
    "- Berdasarkan tab_eda4 di atas, Jumlah price 0 (lisensi gratis) memang memperoleh subscribers terbanyak, sedangkan varian berbayar dengan beraneka ragam price, maksimal hanya mendappatkan jumlah subscribers 1,3 jutaan. "
   ]
  },
  {
   "cell_type": "code",
   "execution_count": 46,
   "metadata": {},
   "outputs": [
    {
     "data": {
      "image/png": "[encoded data removed]",
      "text/plain": [
       "<Figure size 576x360 with 1 Axes>"
      ]
     },
     "metadata": {
      "needs_background": "light"
     },
     "output_type": "display_data"
    }
   ],
   "source": [
    "(pd.crosstab(index=df1.price, columns='Total Subscribers', values=df1.num_subscribers, aggfunc='sum')).plot(\n",
    "    figsize=(8,5), \n",
    "    kind='line',\n",
    "    color = 'c'\n",
    ")\n",
    "plt.title('G15. Efek Price dengan Jumlah Subscriber', fontsize=15)\n",
    "plt.ylabel('Jumlah Subscribers', color ='m', fontsize=12)\n",
    "plt.xlabel('Price', color='m', fontsize=12)  \n",
    "plt.tick_params(labelsize=10)\n",
    "plt.xticks(rotation=360)\n",
    "plt.show()"
   ]
  },
  {
   "cell_type": "markdown",
   "metadata": {},
   "source": [
    "- Berdasarkan grafik G9, memang terjadi penurunan saat course menjadi lisensi berbayar, ini merupakan hal yang wajar, karena dalam lisensi berbayar tsb di pecah dalam beberapa variasi harga. Akan tetapi berdasarkan data crosstab sebelumnya jelas menyatakan bahwa jumlah subscriber dari konten berbayar jauh lebih banyak di bandingkan yang gratis **jika hanya dikelompokan menjadi 2 kategori (Gratis dan Berbayar). Jumlah harga memang tidak terlalu berpengaruh terhadap jumlah subscribers, namun ada beberapa titik yang dapat mencapai jumlah maksimal subscribernya. Artinya, ketika membuat konten dengan lisensi berbayar, harus diperhatikan lebih lanjut mengenai range harga yang tepat agar tetep bisa mendapatkan jumlah subscriber maksimal**"
   ]
  },
  {
   "cell_type": "markdown",
   "metadata": {},
   "source": [
    "- Disini saya coba membuat 3 kategori price, untuk melihat range harga berapa yang dapat mencapai subscribers maksimal"
   ]
  },
  {
   "cell_type": "code",
   "execution_count": 47,
   "metadata": {},
   "outputs": [],
   "source": [
    "tab_eda5 = df1[['num_subscribers', 'price','subject','level']][df1.price>0]"
   ]
  },
  {
   "cell_type": "markdown",
   "metadata": {},
   "source": [
    "- Tanyakan pada mas khumaeni lebih baik 0 dimasukan murah atau 0 tidak usah dibawa"
   ]
  },
  {
   "cell_type": "code",
   "execution_count": 48,
   "metadata": {},
   "outputs": [
    {
     "data": {
      "text/html": [
       "<div>\n",
       "<style scoped>\n",
       "    .dataframe tbody tr th:only-of-type {\n",
       "        vertical-align: middle;\n",
       "    }\n",
       "\n",
       "    .dataframe tbody tr th {\n",
       "        vertical-align: top;\n",
       "    }\n",
       "\n",
       "    .dataframe thead th {\n",
       "        text-align: right;\n",
       "    }\n",
       "</style>\n",
       "<table border=\"1\" class=\"dataframe\">\n",
       "  <thead>\n",
       "    <tr style=\"text-align: right;\">\n",
       "      <th></th>\n",
       "      <th>num_subscribers</th>\n",
       "      <th>price</th>\n",
       "      <th>subject</th>\n",
       "      <th>level</th>\n",
       "      <th>price_bin</th>\n",
       "    </tr>\n",
       "  </thead>\n",
       "  <tbody>\n",
       "    <tr>\n",
       "      <th>0</th>\n",
       "      <td>2147</td>\n",
       "      <td>200</td>\n",
       "      <td>Business Finance</td>\n",
       "      <td>All Levels</td>\n",
       "      <td>Mahal</td>\n",
       "    </tr>\n",
       "    <tr>\n",
       "      <th>1</th>\n",
       "      <td>2792</td>\n",
       "      <td>75</td>\n",
       "      <td>Business Finance</td>\n",
       "      <td>All Levels</td>\n",
       "      <td>Terjangkau</td>\n",
       "    </tr>\n",
       "    <tr>\n",
       "      <th>2</th>\n",
       "      <td>2174</td>\n",
       "      <td>45</td>\n",
       "      <td>Business Finance</td>\n",
       "      <td>Intermediate Level</td>\n",
       "      <td>Terjangkau</td>\n",
       "    </tr>\n",
       "    <tr>\n",
       "      <th>3</th>\n",
       "      <td>2451</td>\n",
       "      <td>95</td>\n",
       "      <td>Business Finance</td>\n",
       "      <td>All Levels</td>\n",
       "      <td>Mahal</td>\n",
       "    </tr>\n",
       "    <tr>\n",
       "      <th>4</th>\n",
       "      <td>1276</td>\n",
       "      <td>200</td>\n",
       "      <td>Business Finance</td>\n",
       "      <td>Intermediate Level</td>\n",
       "      <td>Mahal</td>\n",
       "    </tr>\n",
       "    <tr>\n",
       "      <th>5</th>\n",
       "      <td>9221</td>\n",
       "      <td>150</td>\n",
       "      <td>Business Finance</td>\n",
       "      <td>All Levels</td>\n",
       "      <td>Mahal</td>\n",
       "    </tr>\n",
       "    <tr>\n",
       "      <th>6</th>\n",
       "      <td>1540</td>\n",
       "      <td>65</td>\n",
       "      <td>Business Finance</td>\n",
       "      <td>Beginner Level</td>\n",
       "      <td>Terjangkau</td>\n",
       "    </tr>\n",
       "    <tr>\n",
       "      <th>7</th>\n",
       "      <td>2917</td>\n",
       "      <td>95</td>\n",
       "      <td>Business Finance</td>\n",
       "      <td>All Levels</td>\n",
       "      <td>Mahal</td>\n",
       "    </tr>\n",
       "    <tr>\n",
       "      <th>8</th>\n",
       "      <td>5172</td>\n",
       "      <td>195</td>\n",
       "      <td>Business Finance</td>\n",
       "      <td>Expert Level</td>\n",
       "      <td>Mahal</td>\n",
       "    </tr>\n",
       "    <tr>\n",
       "      <th>9</th>\n",
       "      <td>827</td>\n",
       "      <td>200</td>\n",
       "      <td>Business Finance</td>\n",
       "      <td>All Levels</td>\n",
       "      <td>Mahal</td>\n",
       "    </tr>\n",
       "  </tbody>\n",
       "</table>\n",
       "</div>"
      ],
      "text/plain": [
       "   num_subscribers  price           subject               level   price_bin\n",
       "0  2147             200    Business Finance  All Levels          Mahal     \n",
       "1  2792             75     Business Finance  All Levels          Terjangkau\n",
       "2  2174             45     Business Finance  Intermediate Level  Terjangkau\n",
       "3  2451             95     Business Finance  All Levels          Mahal     \n",
       "4  1276             200    Business Finance  Intermediate Level  Mahal     \n",
       "5  9221             150    Business Finance  All Levels          Mahal     \n",
       "6  1540             65     Business Finance  Beginner Level      Terjangkau\n",
       "7  2917             95     Business Finance  All Levels          Mahal     \n",
       "8  5172             195    Business Finance  Expert Level        Mahal     \n",
       "9  827              200    Business Finance  All Levels          Mahal     "
      ]
     },
     "execution_count": 48,
     "metadata": {},
     "output_type": "execute_result"
    }
   ],
   "source": [
    "tab_eda5['price_bin'] = pd.qcut(tab_eda5.price, 3, labels=['Murah', 'Terjangkau' ,'Mahal'])\n",
    "tab_eda5.head(10)"
   ]
  },
  {
   "cell_type": "markdown",
   "metadata": {},
   "source": [
    "- Binning digunakan dengan menggunakan qcut agar dapat membagi secara merata jumlah data berdasarkan nilai quantile nya. Sehingga penarikan kesimpulan akan lebih akurat"
   ]
  },
  {
   "cell_type": "code",
   "execution_count": 49,
   "metadata": {},
   "outputs": [
    {
     "data": {
      "text/html": [
       "<div>\n",
       "<style scoped>\n",
       "    .dataframe tbody tr th:only-of-type {\n",
       "        vertical-align: middle;\n",
       "    }\n",
       "\n",
       "    .dataframe tbody tr th {\n",
       "        vertical-align: top;\n",
       "    }\n",
       "\n",
       "    .dataframe thead th {\n",
       "        text-align: right;\n",
       "    }\n",
       "</style>\n",
       "<table border=\"1\" class=\"dataframe\">\n",
       "  <thead>\n",
       "    <tr style=\"text-align: right;\">\n",
       "      <th>price_bin</th>\n",
       "      <th>Murah</th>\n",
       "      <th>Terjangkau</th>\n",
       "      <th>Mahal</th>\n",
       "    </tr>\n",
       "    <tr>\n",
       "      <th>row_0</th>\n",
       "      <th></th>\n",
       "      <th></th>\n",
       "      <th></th>\n",
       "    </tr>\n",
       "  </thead>\n",
       "  <tbody>\n",
       "    <tr>\n",
       "      <th>Jumlah Data</th>\n",
       "      <td>1150</td>\n",
       "      <td>1131</td>\n",
       "      <td>1087</td>\n",
       "    </tr>\n",
       "  </tbody>\n",
       "</table>\n",
       "</div>"
      ],
      "text/plain": [
       "price_bin    Murah  Terjangkau  Mahal\n",
       "row_0                                \n",
       "Jumlah Data  1150   1131        1087 "
      ]
     },
     "execution_count": 49,
     "metadata": {},
     "output_type": "execute_result"
    }
   ],
   "source": [
    "tab_eda6 = pd.crosstab(index='Jumlah Data', columns=tab_eda5.price_bin, values=tab_eda5.num_subscribers, aggfunc='count')\n",
    "tab_eda6"
   ]
  },
  {
   "cell_type": "code",
   "execution_count": 50,
   "metadata": {},
   "outputs": [
    {
     "data": {
      "text/html": [
       "<div>\n",
       "<style scoped>\n",
       "    .dataframe tbody tr th:only-of-type {\n",
       "        vertical-align: middle;\n",
       "    }\n",
       "\n",
       "    .dataframe tbody tr th {\n",
       "        vertical-align: top;\n",
       "    }\n",
       "\n",
       "    .dataframe thead th {\n",
       "        text-align: right;\n",
       "    }\n",
       "</style>\n",
       "<table border=\"1\" class=\"dataframe\">\n",
       "  <thead>\n",
       "    <tr style=\"text-align: right;\">\n",
       "      <th>price_bin</th>\n",
       "      <th>Murah</th>\n",
       "      <th>Terjangkau</th>\n",
       "      <th>Mahal</th>\n",
       "    </tr>\n",
       "    <tr>\n",
       "      <th>row_0</th>\n",
       "      <th></th>\n",
       "      <th></th>\n",
       "      <th></th>\n",
       "    </tr>\n",
       "  </thead>\n",
       "  <tbody>\n",
       "    <tr>\n",
       "      <th>Jumlah Subscribers</th>\n",
       "      <td>1778233</td>\n",
       "      <td>1855861</td>\n",
       "      <td>4549501</td>\n",
       "    </tr>\n",
       "  </tbody>\n",
       "</table>\n",
       "</div>"
      ],
      "text/plain": [
       "price_bin             Murah  Terjangkau    Mahal\n",
       "row_0                                           \n",
       "Jumlah Subscribers  1778233  1855861     4549501"
      ]
     },
     "execution_count": 50,
     "metadata": {},
     "output_type": "execute_result"
    }
   ],
   "source": [
    "tab_eda61 = pd.crosstab(index='Jumlah Subscribers', columns=tab_eda5.price_bin, values=tab_eda5.num_subscribers, aggfunc='sum')\n",
    "tab_eda61"
   ]
  },
  {
   "cell_type": "code",
   "execution_count": 51,
   "metadata": {},
   "outputs": [
    {
     "data": {
      "text/plain": [
       "[(75.0, 200.0], (30.0, 75.0], (19.999, 30.0]]\n",
       "Categories (3, interval[float64]): [(19.999, 30.0] < (30.0, 75.0] < (75.0, 200.0]]"
      ]
     },
     "execution_count": 51,
     "metadata": {},
     "output_type": "execute_result"
    }
   ],
   "source": [
    "out = pd.qcut(tab_eda5.price,3)\n",
    "out.unique()"
   ]
  },
  {
   "cell_type": "code",
   "execution_count": 52,
   "metadata": {},
   "outputs": [
    {
     "data": {
      "image/png": "[encoded data removed]",
      "text/plain": [
       "<Figure size 576x432 with 1 Axes>"
      ]
     },
     "metadata": {
      "needs_background": "light"
     },
     "output_type": "display_data"
    }
   ],
   "source": [
    "plt.figure(figsize=(8,6))\n",
    "sns.barplot(x=tab_eda61.columns, y=tab_eda61.iloc[0], palette='rocket')\n",
    "plt.xlabel('Price Category', c='m', fontsize=12)\n",
    "plt.ylabel('Jumlah Subscribers', c='m', fontsize=12)\n",
    "for i in range(0,3):\n",
    "    plt.text(i-0.2, 100000, tab_eda61.iloc[0][i], fontweight='bold', color='white')\n",
    "plt.title('G16. Price Range vs Jumlah Subscribers', fontsize=15)\n",
    "plt.show()"
   ]
  },
  {
   "cell_type": "markdown",
   "metadata": {},
   "source": [
    "- Berdasarkan hasil binning, ternyata **range Kategori harga Mahal (75-200 USD)** yang mendapatkan jumlah subscribers **maksimal**"
   ]
  },
  {
   "cell_type": "code",
   "execution_count": 53,
   "metadata": {},
   "outputs": [
    {
     "data": {
      "text/html": [
       "<div>\n",
       "<style scoped>\n",
       "    .dataframe tbody tr th:only-of-type {\n",
       "        vertical-align: middle;\n",
       "    }\n",
       "\n",
       "    .dataframe tbody tr th {\n",
       "        vertical-align: top;\n",
       "    }\n",
       "\n",
       "    .dataframe thead th {\n",
       "        text-align: right;\n",
       "    }\n",
       "</style>\n",
       "<table border=\"1\" class=\"dataframe\">\n",
       "  <thead>\n",
       "    <tr style=\"text-align: right;\">\n",
       "      <th>level</th>\n",
       "      <th>All Levels</th>\n",
       "      <th>Beginner Level</th>\n",
       "      <th>Expert Level</th>\n",
       "      <th>Intermediate Level</th>\n",
       "    </tr>\n",
       "    <tr>\n",
       "      <th>row_0</th>\n",
       "      <th></th>\n",
       "      <th></th>\n",
       "      <th></th>\n",
       "      <th></th>\n",
       "    </tr>\n",
       "  </thead>\n",
       "  <tbody>\n",
       "    <tr>\n",
       "      <th>Jumlah Subscriber</th>\n",
       "      <td>3123740</td>\n",
       "      <td>1158367</td>\n",
       "      <td>30434</td>\n",
       "      <td>236960</td>\n",
       "    </tr>\n",
       "  </tbody>\n",
       "</table>\n",
       "</div>"
      ],
      "text/plain": [
       "level              All Levels  Beginner Level  Expert Level  \\\n",
       "row_0                                                         \n",
       "Jumlah Subscriber  3123740     1158367         30434          \n",
       "\n",
       "level              Intermediate Level  \n",
       "row_0                                  \n",
       "Jumlah Subscriber  236960              "
      ]
     },
     "execution_count": 53,
     "metadata": {},
     "output_type": "execute_result"
    }
   ],
   "source": [
    "tab_eda7 = tab_eda5[tab_eda5.price_bin=='Mahal']\n",
    "tab_eda71 = pd.crosstab(index='Jumlah Subscriber', columns=tab_eda7.level, values=tab_eda7.num_subscribers, aggfunc='sum')\n",
    "tab_eda71"
   ]
  },
  {
   "cell_type": "markdown",
   "metadata": {},
   "source": [
    "- Berdasarkan grafik G10 dan tab_eda71, untuk memaksimalkan jumlah subcribers pada range harga mahal ialah dengan menerapkan All Levels pada course nya"
   ]
  },
  {
   "cell_type": "code",
   "execution_count": 54,
   "metadata": {},
   "outputs": [
    {
     "data": {
      "text/html": [
       "<div>\n",
       "<style scoped>\n",
       "    .dataframe tbody tr th:only-of-type {\n",
       "        vertical-align: middle;\n",
       "    }\n",
       "\n",
       "    .dataframe tbody tr th {\n",
       "        vertical-align: top;\n",
       "    }\n",
       "\n",
       "    .dataframe thead th {\n",
       "        text-align: right;\n",
       "    }\n",
       "</style>\n",
       "<table border=\"1\" class=\"dataframe\">\n",
       "  <thead>\n",
       "    <tr style=\"text-align: right;\">\n",
       "      <th>subject</th>\n",
       "      <th>Business Finance</th>\n",
       "      <th>Graphic Design</th>\n",
       "      <th>Musical Instruments</th>\n",
       "      <th>Web Development</th>\n",
       "    </tr>\n",
       "    <tr>\n",
       "      <th>row_0</th>\n",
       "      <th></th>\n",
       "      <th></th>\n",
       "      <th></th>\n",
       "      <th></th>\n",
       "    </tr>\n",
       "  </thead>\n",
       "  <tbody>\n",
       "    <tr>\n",
       "      <th>Jumlah Subscriber</th>\n",
       "      <td>634781</td>\n",
       "      <td>387982</td>\n",
       "      <td>243389</td>\n",
       "      <td>3283349</td>\n",
       "    </tr>\n",
       "  </tbody>\n",
       "</table>\n",
       "</div>"
      ],
      "text/plain": [
       "subject            Business Finance  Graphic Design  Musical Instruments  \\\n",
       "row_0                                                                      \n",
       "Jumlah Subscriber  634781            387982          243389                \n",
       "\n",
       "subject            Web Development  \n",
       "row_0                               \n",
       "Jumlah Subscriber  3283349          "
      ]
     },
     "execution_count": 54,
     "metadata": {},
     "output_type": "execute_result"
    }
   ],
   "source": [
    "tab_eda72 = pd.crosstab(index='Jumlah Subscriber', columns=tab_eda7.subject, values=tab_eda7.num_subscribers, aggfunc='sum')\n",
    "tab_eda72"
   ]
  },
  {
   "cell_type": "markdown",
   "metadata": {},
   "source": [
    "- Berdasarkan grafik G10 dan tab_eda72, untuk memaksimalkan jumlah subcribers pada range harga mahal ialah dengan subject Web Development"
   ]
  },
  {
   "cell_type": "markdown",
   "metadata": {},
   "source": [
    "- Sehingga berdasarkan analisa pada harga ini, Jumlah subscriber dapat diperoleh maksimal pada range harga **Mahal (75-200)**, dengan subject **Web Development**, dan level **All Level**"
   ]
  },
  {
   "cell_type": "markdown",
   "metadata": {},
   "source": [
    "##### b4. Subscribers vs Content Duration"
   ]
  },
  {
   "cell_type": "code",
   "execution_count": 55,
   "metadata": {},
   "outputs": [],
   "source": [
    "tab_eda9 = df1[['num_subscribers', 'num_reviews','num_lectures', 'content_duration', 'level', 'subject', 'price']][(df1.content_duration>0)].sort_values(by='content_duration')"
   ]
  },
  {
   "cell_type": "code",
   "execution_count": 56,
   "metadata": {},
   "outputs": [
    {
     "data": {
      "image/png": "[encoded data removed]",
      "text/plain": [
       "<Figure size 576x432 with 1 Axes>"
      ]
     },
     "metadata": {
      "needs_background": "light"
     },
     "output_type": "display_data"
    }
   ],
   "source": [
    "plt.figure(figsize=(8,6))\n",
    "plt.plot(tab_eda9.content_duration,tab_eda9.num_subscribers, 'go-')\n",
    "plt.title('G17. Content Duration vs Number Subscribers', fontsize=15)\n",
    "plt.xlabel('Duration', fontsize=12)\n",
    "plt.ylabel('num_subscribers', fontsize=12)\n",
    "plt.show()"
   ]
  },
  {
   "cell_type": "markdown",
   "metadata": {},
   "source": [
    "- Berdasarkan grafik G11, content_duration **tidak berpengaruh** terhadap jumlah subscribers"
   ]
  },
  {
   "cell_type": "markdown",
   "metadata": {},
   "source": [
    "- Namun disini saya akan coba kelompokkan content duration dan melihat pada range berapa durasi konten dapat memperoleh jumlah subscribers yang maksimal"
   ]
  },
  {
   "cell_type": "code",
   "execution_count": 57,
   "metadata": {},
   "outputs": [
    {
     "data": {
      "text/plain": [
       "array([ 0.13,  0.32,  0.45,  0.47,  0.48,  0.5 ,  0.52,  0.53,  0.55,\n",
       "        0.57,  0.58,  0.6 ,  0.62,  0.63,  0.65,  0.67,  0.68,  0.7 ,\n",
       "        0.72,  0.73,  1.  ,  1.5 ,  2.  ,  2.5 ,  3.  ,  3.5 ,  4.  ,\n",
       "        4.5 ,  5.  ,  5.5 ,  6.  ,  6.5 ,  7.  ,  7.5 ,  8.  ,  8.5 ,\n",
       "        9.  ,  9.5 , 10.  , 10.5 , 11.  , 11.5 , 12.  , 12.5 , 13.  ,\n",
       "       13.5 , 14.  , 14.5 , 15.  , 15.5 , 16.  , 16.5 , 17.  , 17.5 ,\n",
       "       18.  , 18.5 , 19.  , 19.5 , 20.  , 20.5 , 21.  , 21.5 , 22.  ,\n",
       "       22.5 , 23.  , 23.5 , 24.  , 24.5 , 25.  , 25.5 , 26.  , 26.5 ,\n",
       "       27.5 , 28.5 , 29.  , 29.5 , 30.  , 30.5 , 31.  , 31.5 , 32.5 ,\n",
       "       33.  , 34.  , 37.5 , 38.  , 39.  , 42.  , 43.  , 43.5 , 44.5 ,\n",
       "       45.  , 46.5 , 47.  , 48.5 , 51.  , 57.  , 60.  , 62.  , 66.5 ,\n",
       "       68.5 , 70.  , 71.5 , 76.5 , 78.5 ])"
      ]
     },
     "execution_count": 57,
     "metadata": {},
     "output_type": "execute_result"
    }
   ],
   "source": [
    "tab_eda9.content_duration.unique()"
   ]
  },
  {
   "cell_type": "code",
   "execution_count": 58,
   "metadata": {},
   "outputs": [
    {
     "data": {
      "text/html": [
       "<div>\n",
       "<style scoped>\n",
       "    .dataframe tbody tr th:only-of-type {\n",
       "        vertical-align: middle;\n",
       "    }\n",
       "\n",
       "    .dataframe tbody tr th {\n",
       "        vertical-align: top;\n",
       "    }\n",
       "\n",
       "    .dataframe thead th {\n",
       "        text-align: right;\n",
       "    }\n",
       "</style>\n",
       "<table border=\"1\" class=\"dataframe\">\n",
       "  <thead>\n",
       "    <tr style=\"text-align: right;\">\n",
       "      <th></th>\n",
       "      <th>num_subscribers</th>\n",
       "      <th>num_reviews</th>\n",
       "      <th>num_lectures</th>\n",
       "      <th>content_duration</th>\n",
       "      <th>level</th>\n",
       "      <th>subject</th>\n",
       "      <th>price</th>\n",
       "      <th>duration_bin</th>\n",
       "    </tr>\n",
       "  </thead>\n",
       "  <tbody>\n",
       "    <tr>\n",
       "      <th>116</th>\n",
       "      <td>307</td>\n",
       "      <td>8</td>\n",
       "      <td>5</td>\n",
       "      <td>0.13</td>\n",
       "      <td>All Levels</td>\n",
       "      <td>Business Finance</td>\n",
       "      <td>25</td>\n",
       "      <td>Singkat</td>\n",
       "    </tr>\n",
       "    <tr>\n",
       "      <th>448</th>\n",
       "      <td>605</td>\n",
       "      <td>19</td>\n",
       "      <td>4</td>\n",
       "      <td>0.32</td>\n",
       "      <td>All Levels</td>\n",
       "      <td>Business Finance</td>\n",
       "      <td>20</td>\n",
       "      <td>Singkat</td>\n",
       "    </tr>\n",
       "  </tbody>\n",
       "</table>\n",
       "</div>"
      ],
      "text/plain": [
       "     num_subscribers  num_reviews  num_lectures  content_duration       level  \\\n",
       "116  307              8            5             0.13              All Levels   \n",
       "448  605              19           4             0.32              All Levels   \n",
       "\n",
       "              subject  price duration_bin  \n",
       "116  Business Finance  25     Singkat      \n",
       "448  Business Finance  20     Singkat      "
      ]
     },
     "execution_count": 58,
     "metadata": {},
     "output_type": "execute_result"
    }
   ],
   "source": [
    "tab_eda9['duration_bin'] = pd.cut(tab_eda9['content_duration'], bins=[0, tab_eda9.content_duration.quantile(0.25), tab_eda9.content_duration.quantile(0.5), tab_eda9.content_duration.quantile(0.75), df['content_duration'].max()], labels=['Singkat', 'Cukup', 'Lama', 'Sangat Lama'])\n",
    "tab_eda9.head(2)"
   ]
  },
  {
   "cell_type": "code",
   "execution_count": 59,
   "metadata": {},
   "outputs": [
    {
     "data": {
      "text/html": [
       "<div>\n",
       "<style scoped>\n",
       "    .dataframe tbody tr th:only-of-type {\n",
       "        vertical-align: middle;\n",
       "    }\n",
       "\n",
       "    .dataframe tbody tr th {\n",
       "        vertical-align: top;\n",
       "    }\n",
       "\n",
       "    .dataframe thead th {\n",
       "        text-align: right;\n",
       "    }\n",
       "</style>\n",
       "<table border=\"1\" class=\"dataframe\">\n",
       "  <thead>\n",
       "    <tr style=\"text-align: right;\">\n",
       "      <th>duration_bin</th>\n",
       "      <th>Singkat</th>\n",
       "      <th>Cukup</th>\n",
       "      <th>Lama</th>\n",
       "      <th>Sangat Lama</th>\n",
       "    </tr>\n",
       "    <tr>\n",
       "      <th>row_0</th>\n",
       "      <th></th>\n",
       "      <th></th>\n",
       "      <th></th>\n",
       "      <th></th>\n",
       "    </tr>\n",
       "  </thead>\n",
       "  <tbody>\n",
       "    <tr>\n",
       "      <th>Jumlah Data</th>\n",
       "      <td>933</td>\n",
       "      <td>926</td>\n",
       "      <td>957</td>\n",
       "      <td>861</td>\n",
       "    </tr>\n",
       "  </tbody>\n",
       "</table>\n",
       "</div>"
      ],
      "text/plain": [
       "duration_bin  Singkat  Cukup  Lama  Sangat Lama\n",
       "row_0                                          \n",
       "Jumlah Data   933      926    957   861        "
      ]
     },
     "execution_count": 59,
     "metadata": {},
     "output_type": "execute_result"
    }
   ],
   "source": [
    "tab_eda91 = pd.crosstab(index='Jumlah Data', columns=tab_eda9.duration_bin, values=tab_eda9.num_subscribers, aggfunc='count')\n",
    "tab_eda91"
   ]
  },
  {
   "cell_type": "code",
   "execution_count": 60,
   "metadata": {},
   "outputs": [
    {
     "data": {
      "text/html": [
       "<div>\n",
       "<style scoped>\n",
       "    .dataframe tbody tr th:only-of-type {\n",
       "        vertical-align: middle;\n",
       "    }\n",
       "\n",
       "    .dataframe tbody tr th {\n",
       "        vertical-align: top;\n",
       "    }\n",
       "\n",
       "    .dataframe thead th {\n",
       "        text-align: right;\n",
       "    }\n",
       "</style>\n",
       "<table border=\"1\" class=\"dataframe\">\n",
       "  <thead>\n",
       "    <tr style=\"text-align: right;\">\n",
       "      <th>duration_bin</th>\n",
       "      <th>Singkat</th>\n",
       "      <th>Cukup</th>\n",
       "      <th>Lama</th>\n",
       "      <th>Sangat Lama</th>\n",
       "    </tr>\n",
       "    <tr>\n",
       "      <th>row_0</th>\n",
       "      <th></th>\n",
       "      <th></th>\n",
       "      <th></th>\n",
       "      <th></th>\n",
       "    </tr>\n",
       "  </thead>\n",
       "  <tbody>\n",
       "    <tr>\n",
       "      <th>Jumlah Subscriber</th>\n",
       "      <td>1797668</td>\n",
       "      <td>2558127</td>\n",
       "      <td>3028817</td>\n",
       "      <td>4374508</td>\n",
       "    </tr>\n",
       "  </tbody>\n",
       "</table>\n",
       "</div>"
      ],
      "text/plain": [
       "duration_bin       Singkat    Cukup     Lama  Sangat Lama\n",
       "row_0                                                    \n",
       "Jumlah Subscriber  1797668  2558127  3028817  4374508    "
      ]
     },
     "execution_count": 60,
     "metadata": {},
     "output_type": "execute_result"
    }
   ],
   "source": [
    "tab_eda92 = pd.crosstab(index='Jumlah Subscriber', columns=tab_eda9.duration_bin, values=tab_eda9.num_subscribers, aggfunc='sum')\n",
    "tab_eda92"
   ]
  },
  {
   "cell_type": "code",
   "execution_count": 61,
   "metadata": {},
   "outputs": [
    {
     "data": {
      "image/png": "[encoded data removed]",
      "text/plain": [
       "<Figure size 576x432 with 1 Axes>"
      ]
     },
     "metadata": {
      "needs_background": "light"
     },
     "output_type": "display_data"
    }
   ],
   "source": [
    "plt.figure(figsize=(8,6))\n",
    "sns.barplot(x=tab_eda92.columns, y=tab_eda92.iloc[0], palette='rocket')\n",
    "plt.xlabel('Duration Category', c='m', fontsize=12)\n",
    "plt.ylabel('Jumlah Subscribers', c='m', fontsize=12)\n",
    "for i in range(0,4):\n",
    "    plt.text(i-0.2, 100000, tab_eda92.iloc[0][i], fontweight='bold', color='white')\n",
    "plt.title('G12. Duration Range vs Jumlah Subscribers', fontsize=15)\n",
    "plt.show()"
   ]
  },
  {
   "cell_type": "markdown",
   "metadata": {},
   "source": [
    "- **Semakin lama content duration, jumlah subscribers semakin banyak**. Dan memperoleh jumlah subscribers maksimal pada durasi dg kategori sangat lama (4.5 - 78.5)"
   ]
  },
  {
   "cell_type": "markdown",
   "metadata": {},
   "source": [
    "##### b5. Subscribers vs lecture"
   ]
  },
  {
   "cell_type": "code",
   "execution_count": 62,
   "metadata": {},
   "outputs": [],
   "source": [
    "tab_eda10 = df1[['num_subscribers', 'num_lectures', 'subject']][(df1.content_duration>0)].sort_values(by='num_lectures')"
   ]
  },
  {
   "cell_type": "code",
   "execution_count": 63,
   "metadata": {},
   "outputs": [
    {
     "data": {
      "image/png": "[encoded data removed]",
      "text/plain": [
       "<Figure size 576x432 with 1 Axes>"
      ]
     },
     "metadata": {
      "needs_background": "light"
     },
     "output_type": "display_data"
    }
   ],
   "source": [
    "plt.figure(figsize=(8,6))\n",
    "plt.plot(tab_eda10.num_lectures,tab_eda9.num_subscribers,'bo-')\n",
    "plt.title('G19. Number of Lectures vs Number Subscribers', fontsize=15)\n",
    "plt.xlabel('num_lecture', fontsize=12)\n",
    "plt.ylabel('num_subscribers', fontsize=12)\n",
    "plt.show()"
   ]
  },
  {
   "cell_type": "markdown",
   "metadata": {},
   "source": [
    "- Berdasarkan grafik G13, num_lecture **tidak begitu berpengaruh** terhadap jumlah subscribers"
   ]
  },
  {
   "cell_type": "markdown",
   "metadata": {},
   "source": [
    "##### b6. Subscribers vs Subject"
   ]
  },
  {
   "cell_type": "code",
   "execution_count": 64,
   "metadata": {},
   "outputs": [
    {
     "data": {
      "text/html": [
       "<div>\n",
       "<style scoped>\n",
       "    .dataframe tbody tr th:only-of-type {\n",
       "        vertical-align: middle;\n",
       "    }\n",
       "\n",
       "    .dataframe tbody tr th {\n",
       "        vertical-align: top;\n",
       "    }\n",
       "\n",
       "    .dataframe thead th {\n",
       "        text-align: right;\n",
       "    }\n",
       "</style>\n",
       "<table border=\"1\" class=\"dataframe\">\n",
       "  <thead>\n",
       "    <tr style=\"text-align: right;\">\n",
       "      <th>col_0</th>\n",
       "      <th>Jumlah Subscriber</th>\n",
       "    </tr>\n",
       "    <tr>\n",
       "      <th>subject</th>\n",
       "      <th></th>\n",
       "    </tr>\n",
       "  </thead>\n",
       "  <tbody>\n",
       "    <tr>\n",
       "      <th>Web Development</th>\n",
       "      <td>7980572</td>\n",
       "    </tr>\n",
       "    <tr>\n",
       "      <th>Business Finance</th>\n",
       "      <td>1868711</td>\n",
       "    </tr>\n",
       "    <tr>\n",
       "      <th>Graphic Design</th>\n",
       "      <td>1063148</td>\n",
       "    </tr>\n",
       "    <tr>\n",
       "      <th>Musical Instruments</th>\n",
       "      <td>846689</td>\n",
       "    </tr>\n",
       "  </tbody>\n",
       "</table>\n",
       "</div>"
      ],
      "text/plain": [
       "col_0                Jumlah Subscriber\n",
       "subject                               \n",
       "Web Development      7980572          \n",
       "Business Finance     1868711          \n",
       "Graphic Design       1063148          \n",
       "Musical Instruments  846689           "
      ]
     },
     "execution_count": 64,
     "metadata": {},
     "output_type": "execute_result"
    }
   ],
   "source": [
    "tab_eda11 = df1[['num_subscribers', 'subject']][(df1.content_duration>0)]\n",
    "tab_eda11a = pd.crosstab(index=tab_eda11.subject, columns='Jumlah Subscriber', values=tab_eda11.num_subscribers, aggfunc='sum').sort_values(by='Jumlah Subscriber', ascending=False)\n",
    "tab_eda11a"
   ]
  },
  {
   "cell_type": "code",
   "execution_count": 65,
   "metadata": {},
   "outputs": [
    {
     "data": {
      "image/png": "[encoded data removed]",
      "text/plain": [
       "<Figure size 576x432 with 1 Axes>"
      ]
     },
     "metadata": {
      "needs_background": "light"
     },
     "output_type": "display_data"
    }
   ],
   "source": [
    "plt.figure(figsize=(8,6))\n",
    "sns.barplot(x=tab_eda11a.index, y=tab_eda11a['Jumlah Subscriber'].iloc[:], palette='rocket')\n",
    "plt.xlabel('Subject Category', c='m', fontsize=12)\n",
    "plt.ylabel('Jumlah Subscribers', c='m', fontsize=12)\n",
    "for i in range(0,4):\n",
    "    plt.text(i-0.2, 100000, tab_eda11a['Jumlah Subscriber'].iloc[i], fontweight='bold', color='white')\n",
    "plt.title('G20. Subject vs Jumlah Subscribers', fontsize=15)\n",
    "plt.show()"
   ]
  },
  {
   "cell_type": "markdown",
   "metadata": {},
   "source": [
    "- Subject **Web Development** ialah subject yang paling banyak diminati para subscriber untuk dibeli"
   ]
  },
  {
   "cell_type": "markdown",
   "metadata": {},
   "source": [
    "##### b7. Subscribers vs Level"
   ]
  },
  {
   "cell_type": "code",
   "execution_count": 66,
   "metadata": {},
   "outputs": [],
   "source": [
    "tab_eda12 = df1[['num_subscribers', 'level']][(df1.content_duration>0)]\n",
    "tab_eda12a = pd.crosstab(index=tab_eda12.level, columns='Jumlah Subscriber', values=tab_eda12.num_subscribers, aggfunc='sum').sort_values(by='Jumlah Subscriber', ascending=False)"
   ]
  },
  {
   "cell_type": "code",
   "execution_count": 67,
   "metadata": {},
   "outputs": [
    {
     "data": {
      "text/html": [
       "<div>\n",
       "<style scoped>\n",
       "    .dataframe tbody tr th:only-of-type {\n",
       "        vertical-align: middle;\n",
       "    }\n",
       "\n",
       "    .dataframe tbody tr th {\n",
       "        vertical-align: top;\n",
       "    }\n",
       "\n",
       "    .dataframe thead th {\n",
       "        text-align: right;\n",
       "    }\n",
       "</style>\n",
       "<table border=\"1\" class=\"dataframe\">\n",
       "  <thead>\n",
       "    <tr style=\"text-align: right;\">\n",
       "      <th>level</th>\n",
       "      <th>All Levels</th>\n",
       "      <th>Beginner Level</th>\n",
       "      <th>Expert Level</th>\n",
       "      <th>Intermediate Level</th>\n",
       "    </tr>\n",
       "    <tr>\n",
       "      <th>row_0</th>\n",
       "      <th></th>\n",
       "      <th></th>\n",
       "      <th></th>\n",
       "      <th></th>\n",
       "    </tr>\n",
       "  </thead>\n",
       "  <tbody>\n",
       "    <tr>\n",
       "      <th>Jumlah Subscriber</th>\n",
       "      <td>1928</td>\n",
       "      <td>1270</td>\n",
       "      <td>58</td>\n",
       "      <td>421</td>\n",
       "    </tr>\n",
       "  </tbody>\n",
       "</table>\n",
       "</div>"
      ],
      "text/plain": [
       "level              All Levels  Beginner Level  Expert Level  \\\n",
       "row_0                                                         \n",
       "Jumlah Subscriber  1928        1270            58             \n",
       "\n",
       "level              Intermediate Level  \n",
       "row_0                                  \n",
       "Jumlah Subscriber  421                 "
      ]
     },
     "execution_count": 67,
     "metadata": {},
     "output_type": "execute_result"
    }
   ],
   "source": [
    "pd.crosstab(index='Jumlah Subscriber', columns=tab_eda12.level, values=tab_eda12.num_subscribers, aggfunc='count')"
   ]
  },
  {
   "cell_type": "code",
   "execution_count": 68,
   "metadata": {},
   "outputs": [
    {
     "data": {
      "image/png": "[encoded data removed]",
      "text/plain": [
       "<Figure size 576x432 with 1 Axes>"
      ]
     },
     "metadata": {
      "needs_background": "light"
     },
     "output_type": "display_data"
    }
   ],
   "source": [
    "plt.figure(figsize=(8,6))\n",
    "sns.barplot(x=tab_eda12a.index, y=tab_eda12a['Jumlah Subscriber'].iloc[:], palette='rocket')\n",
    "plt.xlabel('Level', c='m', fontsize=12)\n",
    "plt.ylabel('Jumlah Subscribers', c='m', fontsize=12)\n",
    "for i in range(0,4):\n",
    "    plt.text(i-0.2, 100000, tab_eda12a['Jumlah Subscriber'][i], fontweight='bold', color='orange')\n",
    "plt.title('G21. Level vs Jumlah Subscribers', fontsize=15)\n",
    "plt.show()"
   ]
  },
  {
   "cell_type": "markdown",
   "metadata": {},
   "source": [
    "- Level course yang dapat mencapai subscriber maksimal secara keseluruhan ialah pada All Level"
   ]
  },
  {
   "cell_type": "markdown",
   "metadata": {},
   "source": [
    "##### b8. Reviews vs Content_duration"
   ]
  },
  {
   "cell_type": "code",
   "execution_count": 69,
   "metadata": {},
   "outputs": [
    {
     "data": {
      "text/html": [
       "<div>\n",
       "<style scoped>\n",
       "    .dataframe tbody tr th:only-of-type {\n",
       "        vertical-align: middle;\n",
       "    }\n",
       "\n",
       "    .dataframe tbody tr th {\n",
       "        vertical-align: top;\n",
       "    }\n",
       "\n",
       "    .dataframe thead th {\n",
       "        text-align: right;\n",
       "    }\n",
       "</style>\n",
       "<table border=\"1\" class=\"dataframe\">\n",
       "  <thead>\n",
       "    <tr style=\"text-align: right;\">\n",
       "      <th></th>\n",
       "      <th>num_subscribers</th>\n",
       "      <th>num_reviews</th>\n",
       "      <th>num_lectures</th>\n",
       "      <th>content_duration</th>\n",
       "      <th>level</th>\n",
       "      <th>subject</th>\n",
       "      <th>price</th>\n",
       "      <th>duration_bin</th>\n",
       "    </tr>\n",
       "  </thead>\n",
       "  <tbody>\n",
       "    <tr>\n",
       "      <th>116</th>\n",
       "      <td>307</td>\n",
       "      <td>8</td>\n",
       "      <td>5</td>\n",
       "      <td>0.13</td>\n",
       "      <td>All Levels</td>\n",
       "      <td>Business Finance</td>\n",
       "      <td>25</td>\n",
       "      <td>Singkat</td>\n",
       "    </tr>\n",
       "    <tr>\n",
       "      <th>448</th>\n",
       "      <td>605</td>\n",
       "      <td>19</td>\n",
       "      <td>4</td>\n",
       "      <td>0.32</td>\n",
       "      <td>All Levels</td>\n",
       "      <td>Business Finance</td>\n",
       "      <td>20</td>\n",
       "      <td>Singkat</td>\n",
       "    </tr>\n",
       "    <tr>\n",
       "      <th>984</th>\n",
       "      <td>327</td>\n",
       "      <td>1</td>\n",
       "      <td>12</td>\n",
       "      <td>0.45</td>\n",
       "      <td>Beginner Level</td>\n",
       "      <td>Business Finance</td>\n",
       "      <td>20</td>\n",
       "      <td>Singkat</td>\n",
       "    </tr>\n",
       "    <tr>\n",
       "      <th>718</th>\n",
       "      <td>23</td>\n",
       "      <td>7</td>\n",
       "      <td>6</td>\n",
       "      <td>0.47</td>\n",
       "      <td>All Levels</td>\n",
       "      <td>Business Finance</td>\n",
       "      <td>20</td>\n",
       "      <td>Singkat</td>\n",
       "    </tr>\n",
       "    <tr>\n",
       "      <th>1937</th>\n",
       "      <td>1582</td>\n",
       "      <td>11</td>\n",
       "      <td>6</td>\n",
       "      <td>0.48</td>\n",
       "      <td>All Levels</td>\n",
       "      <td>Musical Instruments</td>\n",
       "      <td>20</td>\n",
       "      <td>Singkat</td>\n",
       "    </tr>\n",
       "  </tbody>\n",
       "</table>\n",
       "</div>"
      ],
      "text/plain": [
       "      num_subscribers  num_reviews  num_lectures  content_duration  \\\n",
       "116   307              8            5             0.13               \n",
       "448   605              19           4             0.32               \n",
       "984   327              1            12            0.45               \n",
       "718   23               7            6             0.47               \n",
       "1937  1582             11           6             0.48               \n",
       "\n",
       "               level              subject  price duration_bin  \n",
       "116   All Levels      Business Finance     25     Singkat      \n",
       "448   All Levels      Business Finance     20     Singkat      \n",
       "984   Beginner Level  Business Finance     20     Singkat      \n",
       "718   All Levels      Business Finance     20     Singkat      \n",
       "1937  All Levels      Musical Instruments  20     Singkat      "
      ]
     },
     "execution_count": 69,
     "metadata": {},
     "output_type": "execute_result"
    }
   ],
   "source": [
    "tab_eda13 = tab_eda9.copy()\n",
    "tab_eda13.head()"
   ]
  },
  {
   "cell_type": "code",
   "execution_count": 70,
   "metadata": {},
   "outputs": [
    {
     "data": {
      "image/png": "[encoded data removed]",
      "text/plain": [
       "<Figure size 576x432 with 1 Axes>"
      ]
     },
     "metadata": {
      "needs_background": "light"
     },
     "output_type": "display_data"
    }
   ],
   "source": [
    "plt.figure(figsize=(8,6))\n",
    "tab_eda13['log_reviews'] = np.log(tab_eda13.num_reviews)\n",
    "sns.boxplot(x='duration_bin', y='log_reviews', data=tab_eda13, palette='ocean')\n",
    "plt.title('G22. Number of Review vs Content_duration', fontsize=15)\n",
    "plt.xlabel('Duration', fontsize=12)\n",
    "plt.ylabel('log_reviews', fontsize=12)\n",
    "plt.show()"
   ]
  },
  {
   "cell_type": "code",
   "execution_count": 71,
   "metadata": {},
   "outputs": [],
   "source": [
    "tab_eda131 = pd.crosstab(index=tab_eda13.duration_bin, columns='Jumlah Review', values=tab_eda13.num_reviews, aggfunc='sum').sort_values(by='Jumlah Review', ascending=True)"
   ]
  },
  {
   "cell_type": "code",
   "execution_count": 72,
   "metadata": {},
   "outputs": [
    {
     "data": {
      "text/html": [
       "<div>\n",
       "<style scoped>\n",
       "    .dataframe tbody tr th:only-of-type {\n",
       "        vertical-align: middle;\n",
       "    }\n",
       "\n",
       "    .dataframe tbody tr th {\n",
       "        vertical-align: top;\n",
       "    }\n",
       "\n",
       "    .dataframe thead th {\n",
       "        text-align: right;\n",
       "    }\n",
       "</style>\n",
       "<table border=\"1\" class=\"dataframe\">\n",
       "  <thead>\n",
       "    <tr style=\"text-align: right;\">\n",
       "      <th>col_0</th>\n",
       "      <th>Jumlah Review</th>\n",
       "    </tr>\n",
       "    <tr>\n",
       "      <th>duration_bin</th>\n",
       "      <th></th>\n",
       "    </tr>\n",
       "  </thead>\n",
       "  <tbody>\n",
       "    <tr>\n",
       "      <th>Singkat</th>\n",
       "      <td>50621</td>\n",
       "    </tr>\n",
       "    <tr>\n",
       "      <th>Cukup</th>\n",
       "      <td>63225</td>\n",
       "    </tr>\n",
       "    <tr>\n",
       "      <th>Lama</th>\n",
       "      <td>90332</td>\n",
       "    </tr>\n",
       "    <tr>\n",
       "      <th>Sangat Lama</th>\n",
       "      <td>370543</td>\n",
       "    </tr>\n",
       "  </tbody>\n",
       "</table>\n",
       "</div>"
      ],
      "text/plain": [
       "col_0         Jumlah Review\n",
       "duration_bin               \n",
       "Singkat       50621        \n",
       "Cukup         63225        \n",
       "Lama          90332        \n",
       "Sangat Lama   370543       "
      ]
     },
     "execution_count": 72,
     "metadata": {},
     "output_type": "execute_result"
    }
   ],
   "source": [
    "tab_eda131"
   ]
  },
  {
   "cell_type": "markdown",
   "metadata": {},
   "source": [
    "- Semakin lama durasi konten, maka jumlah reviews akan semakin banyak. Dan dapat mencapai num_reviews terbanyak pada durasi 'Sangat Lama'."
   ]
  },
  {
   "cell_type": "code",
   "execution_count": 73,
   "metadata": {},
   "outputs": [],
   "source": [
    "tab_eda131 = tab_eda13[tab_eda13.duration_bin=='Sangat Lama']"
   ]
  },
  {
   "cell_type": "code",
   "execution_count": 74,
   "metadata": {},
   "outputs": [
    {
     "data": {
      "text/plain": [
       "9.132518912651985"
      ]
     },
     "execution_count": 74,
     "metadata": {},
     "output_type": "execute_result"
    }
   ],
   "source": [
    "uf_reviews = (1.5*(tab_eda131.log_reviews.quantile(0.75)-tab_eda131.log_reviews.quantile(0.25))) + tab_eda131.log_reviews.quantile(0.75)\n",
    "uf_reviews"
   ]
  },
  {
   "cell_type": "code",
   "execution_count": 75,
   "metadata": {},
   "outputs": [
    {
     "data": {
      "text/plain": [
       "9251.295850606655"
      ]
     },
     "execution_count": 75,
     "metadata": {},
     "output_type": "execute_result"
    }
   ],
   "source": [
    "np.exp(uf_reviews)"
   ]
  },
  {
   "cell_type": "code",
   "execution_count": 76,
   "metadata": {},
   "outputs": [
    {
     "data": {
      "text/plain": [
       "439"
      ]
     },
     "execution_count": 76,
     "metadata": {},
     "output_type": "execute_result"
    }
   ],
   "source": [
    "tab_eda131.num_reviews[(tab_eda131.num_reviews>=np.exp(tab_eda131.log_reviews.quantile(0.25)))&(tab_eda131.num_reviews<=np.exp(tab_eda131.log_reviews.quantile(0.75)))].count()"
   ]
  },
  {
   "cell_type": "code",
   "execution_count": 77,
   "metadata": {},
   "outputs": [
    {
     "data": {
      "text/plain": [
       "207"
      ]
     },
     "execution_count": 77,
     "metadata": {},
     "output_type": "execute_result"
    }
   ],
   "source": [
    "tab_eda131.content_duration[(tab_eda131.num_reviews>np.exp(tab_eda131.log_reviews.quantile(0.75)))&(tab_eda131.num_reviews<=np.exp(uf_reviews))].count()"
   ]
  },
  {
   "cell_type": "markdown",
   "metadata": {},
   "source": [
    "- Persebaran data di range Q3-upper fence pada boxplot grafik G16 dengan durasi waktu sangat lama lebih banyak di bandingkan data pada Q1-Q3. Hal ini menunjukkan bahwa jumlah reviews dapat dimaksimalkan dengan menggunakan durasi konten Sangat Lama pada range waktu Q3-Upper Fence"
   ]
  },
  {
   "cell_type": "markdown",
   "metadata": {},
   "source": [
    "##### b9. Reviews vs num_lectures"
   ]
  },
  {
   "cell_type": "code",
   "execution_count": 78,
   "metadata": {},
   "outputs": [
    {
     "data": {
      "text/plain": [
       "<Figure size 576x432 with 0 Axes>"
      ]
     },
     "metadata": {},
     "output_type": "display_data"
    },
    {
     "data": {
      "image/png": "[encoded data removed]",
      "text/plain": [
       "<Figure size 360x360 with 1 Axes>"
      ]
     },
     "metadata": {
      "needs_background": "light"
     },
     "output_type": "display_data"
    }
   ],
   "source": [
    "tab_eda14 = df1[['num_lectures','num_reviews']][(df1.num_subscribers>0) & (df1.num_reviews>0)].sort_values(by='num_lectures')\n",
    "plt.figure(figsize=(8,6))\n",
    "sns.lmplot(x='num_lectures',y='num_reviews', data=tab_eda14, palette='rainbow')\n",
    "plt.title('G24. Number of Lectures vs Number Reviews', fontsize=15)\n",
    "plt.xlabel('num_lectures', fontsize=12)\n",
    "plt.ylabel('num_reviews', fontsize=12)\n",
    "plt.show()"
   ]
  },
  {
   "cell_type": "markdown",
   "metadata": {},
   "source": [
    "- Scatter untuk lihat korelasi, bisa pake line juga."
   ]
  },
  {
   "cell_type": "code",
   "execution_count": null,
   "metadata": {},
   "outputs": [],
   "source": []
  },
  {
   "cell_type": "markdown",
   "metadata": {},
   "source": [
    "##### b10. Content_duration vs num_lectures"
   ]
  },
  {
   "cell_type": "code",
   "execution_count": 79,
   "metadata": {},
   "outputs": [],
   "source": [
    "tab_eda15 = tab_eda9[['num_lectures', 'content_duration', 'duration_bin','price']].sort_values(by='content_duration')"
   ]
  },
  {
   "cell_type": "code",
   "execution_count": 80,
   "metadata": {},
   "outputs": [
    {
     "data": {
      "text/plain": [
       "<Figure size 576x432 with 0 Axes>"
      ]
     },
     "metadata": {},
     "output_type": "display_data"
    },
    {
     "data": {
      "image/png": "[encoded data removed]",
      "text/plain": [
       "<Figure size 360x360 with 1 Axes>"
      ]
     },
     "metadata": {
      "needs_background": "light"
     },
     "output_type": "display_data"
    }
   ],
   "source": [
    "plt.figure(figsize=(8,6))\n",
    "sns.lmplot(x='content_duration', y='num_lectures', data=tab_eda15, palette='ocean')\n",
    "plt.title('G25. Content Duration vs Number Lectures', fontsize=15)\n",
    "plt.xlabel('content_duration', fontsize=12)\n",
    "plt.ylabel('num_lectures', fontsize=12)\n",
    "plt.show()"
   ]
  },
  {
   "cell_type": "code",
   "execution_count": 81,
   "metadata": {},
   "outputs": [
    {
     "data": {
      "text/html": [
       "<div>\n",
       "<style scoped>\n",
       "    .dataframe tbody tr th:only-of-type {\n",
       "        vertical-align: middle;\n",
       "    }\n",
       "\n",
       "    .dataframe tbody tr th {\n",
       "        vertical-align: top;\n",
       "    }\n",
       "\n",
       "    .dataframe thead th {\n",
       "        text-align: right;\n",
       "    }\n",
       "</style>\n",
       "<table border=\"1\" class=\"dataframe\">\n",
       "  <thead>\n",
       "    <tr style=\"text-align: right;\">\n",
       "      <th></th>\n",
       "      <th>course_id</th>\n",
       "      <th>course_title</th>\n",
       "      <th>url</th>\n",
       "      <th>is_paid</th>\n",
       "      <th>price</th>\n",
       "      <th>num_subscribers</th>\n",
       "      <th>num_reviews</th>\n",
       "      <th>num_lectures</th>\n",
       "      <th>level</th>\n",
       "      <th>content_duration</th>\n",
       "      <th>published_timestamp</th>\n",
       "      <th>subject</th>\n",
       "    </tr>\n",
       "  </thead>\n",
       "  <tbody>\n",
       "    <tr>\n",
       "      <th>892</th>\n",
       "      <td>627332</td>\n",
       "      <td>Mutual Funds for Investors in Retirement Accounts</td>\n",
       "      <td>https://www.udemy.com/mutual-funds-for-investors-in-retirement-accounts/</td>\n",
       "      <td>True</td>\n",
       "      <td>20</td>\n",
       "      <td>0</td>\n",
       "      <td>0</td>\n",
       "      <td>0</td>\n",
       "      <td>All Levels</td>\n",
       "      <td>0.0</td>\n",
       "      <td>2015-12-17 05:38:38+00:00</td>\n",
       "      <td>Business Finance</td>\n",
       "    </tr>\n",
       "  </tbody>\n",
       "</table>\n",
       "</div>"
      ],
      "text/plain": [
       "     course_id                                       course_title  \\\n",
       "892  627332     Mutual Funds for Investors in Retirement Accounts   \n",
       "\n",
       "                                                                          url  \\\n",
       "892  https://www.udemy.com/mutual-funds-for-investors-in-retirement-accounts/   \n",
       "\n",
       "     is_paid  price  num_subscribers  num_reviews  num_lectures       level  \\\n",
       "892  True     20     0                0            0             All Levels   \n",
       "\n",
       "     content_duration       published_timestamp           subject  \n",
       "892  0.0              2015-12-17 05:38:38+00:00  Business Finance  "
      ]
     },
     "execution_count": 81,
     "metadata": {},
     "output_type": "execute_result"
    }
   ],
   "source": [
    "df1[df1.num_lectures==0]"
   ]
  },
  {
   "cell_type": "markdown",
   "metadata": {},
   "source": [
    "- ini aneh si, ada jenis course yang content duration nya 0? "
   ]
  },
  {
   "cell_type": "markdown",
   "metadata": {},
   "source": [
    "![Ini image](https://i.ibb.co/PwRKT8s/IMG-course-0-duration.png)"
   ]
  },
  {
   "cell_type": "markdown",
   "metadata": {},
   "source": [
    "- Ternyata sudah ditarik lagi kayanya, soalnya tidak menerima lagi pendaftaran"
   ]
  },
  {
   "cell_type": "code",
   "execution_count": 82,
   "metadata": {},
   "outputs": [],
   "source": [
    "publish_dt = df1['published_timestamp'].dt"
   ]
  },
  {
   "cell_type": "code",
   "execution_count": 83,
   "metadata": {},
   "outputs": [],
   "source": [
    "df2 = df1.copy()"
   ]
  },
  {
   "cell_type": "code",
   "execution_count": 84,
   "metadata": {},
   "outputs": [
    {
     "data": {
      "text/html": [
       "<div>\n",
       "<style scoped>\n",
       "    .dataframe tbody tr th:only-of-type {\n",
       "        vertical-align: middle;\n",
       "    }\n",
       "\n",
       "    .dataframe tbody tr th {\n",
       "        vertical-align: top;\n",
       "    }\n",
       "\n",
       "    .dataframe thead th {\n",
       "        text-align: right;\n",
       "    }\n",
       "</style>\n",
       "<table border=\"1\" class=\"dataframe\">\n",
       "  <thead>\n",
       "    <tr style=\"text-align: right;\">\n",
       "      <th></th>\n",
       "      <th>course_id</th>\n",
       "      <th>course_title</th>\n",
       "      <th>url</th>\n",
       "      <th>is_paid</th>\n",
       "      <th>price</th>\n",
       "      <th>num_subscribers</th>\n",
       "      <th>num_reviews</th>\n",
       "      <th>num_lectures</th>\n",
       "      <th>level</th>\n",
       "      <th>content_duration</th>\n",
       "      <th>published_timestamp</th>\n",
       "      <th>subject</th>\n",
       "    </tr>\n",
       "  </thead>\n",
       "  <tbody>\n",
       "    <tr>\n",
       "      <th>0</th>\n",
       "      <td>1070968</td>\n",
       "      <td>Ultimate Investment Banking Course</td>\n",
       "      <td>https://www.udemy.com/ultimate-investment-banking-course/</td>\n",
       "      <td>True</td>\n",
       "      <td>200</td>\n",
       "      <td>2147</td>\n",
       "      <td>23</td>\n",
       "      <td>51</td>\n",
       "      <td>All Levels</td>\n",
       "      <td>1.5</td>\n",
       "      <td>2017-01-18 20:58:58+00:00</td>\n",
       "      <td>Business Finance</td>\n",
       "    </tr>\n",
       "    <tr>\n",
       "      <th>1</th>\n",
       "      <td>1113822</td>\n",
       "      <td>Complete GST Course &amp; Certification - Grow Your CA Practice</td>\n",
       "      <td>https://www.udemy.com/goods-and-services-tax/</td>\n",
       "      <td>True</td>\n",
       "      <td>75</td>\n",
       "      <td>2792</td>\n",
       "      <td>923</td>\n",
       "      <td>274</td>\n",
       "      <td>All Levels</td>\n",
       "      <td>39.0</td>\n",
       "      <td>2017-03-09 16:34:20+00:00</td>\n",
       "      <td>Business Finance</td>\n",
       "    </tr>\n",
       "    <tr>\n",
       "      <th>2</th>\n",
       "      <td>1006314</td>\n",
       "      <td>Financial Modeling for Business Analysts and Consultants</td>\n",
       "      <td>https://www.udemy.com/financial-modeling-for-business-analysts-and-consultants/</td>\n",
       "      <td>True</td>\n",
       "      <td>45</td>\n",
       "      <td>2174</td>\n",
       "      <td>74</td>\n",
       "      <td>51</td>\n",
       "      <td>Intermediate Level</td>\n",
       "      <td>2.5</td>\n",
       "      <td>2016-12-19 19:26:30+00:00</td>\n",
       "      <td>Business Finance</td>\n",
       "    </tr>\n",
       "    <tr>\n",
       "      <th>3</th>\n",
       "      <td>1210588</td>\n",
       "      <td>Beginner to Pro - Financial Analysis in Excel 2017</td>\n",
       "      <td>https://www.udemy.com/complete-excel-finance-course-from-beginner-to-pro/</td>\n",
       "      <td>True</td>\n",
       "      <td>95</td>\n",
       "      <td>2451</td>\n",
       "      <td>11</td>\n",
       "      <td>36</td>\n",
       "      <td>All Levels</td>\n",
       "      <td>3.0</td>\n",
       "      <td>2017-05-30 20:07:24+00:00</td>\n",
       "      <td>Business Finance</td>\n",
       "    </tr>\n",
       "    <tr>\n",
       "      <th>4</th>\n",
       "      <td>1011058</td>\n",
       "      <td>How To Maximize Your Profits Trading Options</td>\n",
       "      <td>https://www.udemy.com/how-to-maximize-your-profits-trading-options/</td>\n",
       "      <td>True</td>\n",
       "      <td>200</td>\n",
       "      <td>1276</td>\n",
       "      <td>45</td>\n",
       "      <td>26</td>\n",
       "      <td>Intermediate Level</td>\n",
       "      <td>2.0</td>\n",
       "      <td>2016-12-13 14:57:18+00:00</td>\n",
       "      <td>Business Finance</td>\n",
       "    </tr>\n",
       "  </tbody>\n",
       "</table>\n",
       "</div>"
      ],
      "text/plain": [
       "   course_id                                                 course_title  \\\n",
       "0  1070968    Ultimate Investment Banking Course                            \n",
       "1  1113822    Complete GST Course & Certification - Grow Your CA Practice   \n",
       "2  1006314    Financial Modeling for Business Analysts and Consultants      \n",
       "3  1210588    Beginner to Pro - Financial Analysis in Excel 2017            \n",
       "4  1011058    How To Maximize Your Profits Trading Options                  \n",
       "\n",
       "                                                                               url  \\\n",
       "0  https://www.udemy.com/ultimate-investment-banking-course/                         \n",
       "1  https://www.udemy.com/goods-and-services-tax/                                     \n",
       "2  https://www.udemy.com/financial-modeling-for-business-analysts-and-consultants/   \n",
       "3  https://www.udemy.com/complete-excel-finance-course-from-beginner-to-pro/         \n",
       "4  https://www.udemy.com/how-to-maximize-your-profits-trading-options/               \n",
       "\n",
       "   is_paid  price  num_subscribers  num_reviews  num_lectures  \\\n",
       "0  True     200    2147             23           51             \n",
       "1  True     75     2792             923          274            \n",
       "2  True     45     2174             74           51             \n",
       "3  True     95     2451             11           36             \n",
       "4  True     200    1276             45           26             \n",
       "\n",
       "                level  content_duration       published_timestamp  \\\n",
       "0  All Levels          1.5              2017-01-18 20:58:58+00:00   \n",
       "1  All Levels          39.0             2017-03-09 16:34:20+00:00   \n",
       "2  Intermediate Level  2.5              2016-12-19 19:26:30+00:00   \n",
       "3  All Levels          3.0              2017-05-30 20:07:24+00:00   \n",
       "4  Intermediate Level  2.0              2016-12-13 14:57:18+00:00   \n",
       "\n",
       "            subject  \n",
       "0  Business Finance  \n",
       "1  Business Finance  \n",
       "2  Business Finance  \n",
       "3  Business Finance  \n",
       "4  Business Finance  "
      ]
     },
     "execution_count": 84,
     "metadata": {},
     "output_type": "execute_result"
    }
   ],
   "source": [
    "df1.head()"
   ]
  },
  {
   "cell_type": "code",
   "execution_count": 85,
   "metadata": {},
   "outputs": [],
   "source": [
    "df2['year_p'] = publish_dt.year\n",
    "df2['month_p'] = publish_dt.month\n",
    "df2['date_p'] = publish_dt.day\n",
    "df2['yearmonth'] = publish_dt.to_period('M')"
   ]
  },
  {
   "cell_type": "code",
   "execution_count": 86,
   "metadata": {},
   "outputs": [],
   "source": [
    "df2.drop(columns=['published_timestamp'], inplace=True)"
   ]
  },
  {
   "cell_type": "code",
   "execution_count": 87,
   "metadata": {},
   "outputs": [
    {
     "data": {
      "text/html": [
       "<div>\n",
       "<style scoped>\n",
       "    .dataframe tbody tr th:only-of-type {\n",
       "        vertical-align: middle;\n",
       "    }\n",
       "\n",
       "    .dataframe tbody tr th {\n",
       "        vertical-align: top;\n",
       "    }\n",
       "\n",
       "    .dataframe thead th {\n",
       "        text-align: right;\n",
       "    }\n",
       "</style>\n",
       "<table border=\"1\" class=\"dataframe\">\n",
       "  <thead>\n",
       "    <tr style=\"text-align: right;\">\n",
       "      <th></th>\n",
       "      <th>course_id</th>\n",
       "      <th>course_title</th>\n",
       "      <th>url</th>\n",
       "      <th>is_paid</th>\n",
       "      <th>price</th>\n",
       "      <th>num_subscribers</th>\n",
       "      <th>num_reviews</th>\n",
       "      <th>num_lectures</th>\n",
       "      <th>level</th>\n",
       "      <th>content_duration</th>\n",
       "      <th>subject</th>\n",
       "      <th>year_p</th>\n",
       "      <th>month_p</th>\n",
       "      <th>date_p</th>\n",
       "      <th>yearmonth</th>\n",
       "    </tr>\n",
       "  </thead>\n",
       "  <tbody>\n",
       "    <tr>\n",
       "      <th>0</th>\n",
       "      <td>1070968</td>\n",
       "      <td>Ultimate Investment Banking Course</td>\n",
       "      <td>https://www.udemy.com/ultimate-investment-banking-course/</td>\n",
       "      <td>True</td>\n",
       "      <td>200</td>\n",
       "      <td>2147</td>\n",
       "      <td>23</td>\n",
       "      <td>51</td>\n",
       "      <td>All Levels</td>\n",
       "      <td>1.5</td>\n",
       "      <td>Business Finance</td>\n",
       "      <td>2017</td>\n",
       "      <td>1</td>\n",
       "      <td>18</td>\n",
       "      <td>2017-01</td>\n",
       "    </tr>\n",
       "    <tr>\n",
       "      <th>1</th>\n",
       "      <td>1113822</td>\n",
       "      <td>Complete GST Course &amp; Certification - Grow Your CA Practice</td>\n",
       "      <td>https://www.udemy.com/goods-and-services-tax/</td>\n",
       "      <td>True</td>\n",
       "      <td>75</td>\n",
       "      <td>2792</td>\n",
       "      <td>923</td>\n",
       "      <td>274</td>\n",
       "      <td>All Levels</td>\n",
       "      <td>39.0</td>\n",
       "      <td>Business Finance</td>\n",
       "      <td>2017</td>\n",
       "      <td>3</td>\n",
       "      <td>9</td>\n",
       "      <td>2017-03</td>\n",
       "    </tr>\n",
       "    <tr>\n",
       "      <th>2</th>\n",
       "      <td>1006314</td>\n",
       "      <td>Financial Modeling for Business Analysts and Consultants</td>\n",
       "      <td>https://www.udemy.com/financial-modeling-for-business-analysts-and-consultants/</td>\n",
       "      <td>True</td>\n",
       "      <td>45</td>\n",
       "      <td>2174</td>\n",
       "      <td>74</td>\n",
       "      <td>51</td>\n",
       "      <td>Intermediate Level</td>\n",
       "      <td>2.5</td>\n",
       "      <td>Business Finance</td>\n",
       "      <td>2016</td>\n",
       "      <td>12</td>\n",
       "      <td>19</td>\n",
       "      <td>2016-12</td>\n",
       "    </tr>\n",
       "    <tr>\n",
       "      <th>3</th>\n",
       "      <td>1210588</td>\n",
       "      <td>Beginner to Pro - Financial Analysis in Excel 2017</td>\n",
       "      <td>https://www.udemy.com/complete-excel-finance-course-from-beginner-to-pro/</td>\n",
       "      <td>True</td>\n",
       "      <td>95</td>\n",
       "      <td>2451</td>\n",
       "      <td>11</td>\n",
       "      <td>36</td>\n",
       "      <td>All Levels</td>\n",
       "      <td>3.0</td>\n",
       "      <td>Business Finance</td>\n",
       "      <td>2017</td>\n",
       "      <td>5</td>\n",
       "      <td>30</td>\n",
       "      <td>2017-05</td>\n",
       "    </tr>\n",
       "    <tr>\n",
       "      <th>4</th>\n",
       "      <td>1011058</td>\n",
       "      <td>How To Maximize Your Profits Trading Options</td>\n",
       "      <td>https://www.udemy.com/how-to-maximize-your-profits-trading-options/</td>\n",
       "      <td>True</td>\n",
       "      <td>200</td>\n",
       "      <td>1276</td>\n",
       "      <td>45</td>\n",
       "      <td>26</td>\n",
       "      <td>Intermediate Level</td>\n",
       "      <td>2.0</td>\n",
       "      <td>Business Finance</td>\n",
       "      <td>2016</td>\n",
       "      <td>12</td>\n",
       "      <td>13</td>\n",
       "      <td>2016-12</td>\n",
       "    </tr>\n",
       "  </tbody>\n",
       "</table>\n",
       "</div>"
      ],
      "text/plain": [
       "   course_id                                                 course_title  \\\n",
       "0  1070968    Ultimate Investment Banking Course                            \n",
       "1  1113822    Complete GST Course & Certification - Grow Your CA Practice   \n",
       "2  1006314    Financial Modeling for Business Analysts and Consultants      \n",
       "3  1210588    Beginner to Pro - Financial Analysis in Excel 2017            \n",
       "4  1011058    How To Maximize Your Profits Trading Options                  \n",
       "\n",
       "                                                                               url  \\\n",
       "0  https://www.udemy.com/ultimate-investment-banking-course/                         \n",
       "1  https://www.udemy.com/goods-and-services-tax/                                     \n",
       "2  https://www.udemy.com/financial-modeling-for-business-analysts-and-consultants/   \n",
       "3  https://www.udemy.com/complete-excel-finance-course-from-beginner-to-pro/         \n",
       "4  https://www.udemy.com/how-to-maximize-your-profits-trading-options/               \n",
       "\n",
       "   is_paid  price  num_subscribers  num_reviews  num_lectures  \\\n",
       "0  True     200    2147             23           51             \n",
       "1  True     75     2792             923          274            \n",
       "2  True     45     2174             74           51             \n",
       "3  True     95     2451             11           36             \n",
       "4  True     200    1276             45           26             \n",
       "\n",
       "                level  content_duration           subject  year_p  month_p  \\\n",
       "0  All Levels          1.5               Business Finance  2017    1         \n",
       "1  All Levels          39.0              Business Finance  2017    3         \n",
       "2  Intermediate Level  2.5               Business Finance  2016    12        \n",
       "3  All Levels          3.0               Business Finance  2017    5         \n",
       "4  Intermediate Level  2.0               Business Finance  2016    12        \n",
       "\n",
       "   date_p yearmonth  \n",
       "0  18      2017-01   \n",
       "1  9       2017-03   \n",
       "2  19      2016-12   \n",
       "3  30      2017-05   \n",
       "4  13      2016-12   "
      ]
     },
     "execution_count": 87,
     "metadata": {},
     "output_type": "execute_result"
    }
   ],
   "source": [
    "df2.head()"
   ]
  },
  {
   "cell_type": "code",
   "execution_count": 88,
   "metadata": {},
   "outputs": [
    {
     "data": {
      "image/png": "[encoded data removed]",
      "text/plain": [
       "<Figure size 1080x720 with 2 Axes>"
      ]
     },
     "metadata": {
      "needs_background": "light"
     },
     "output_type": "display_data"
    }
   ],
   "source": [
    "plt.figure(figsize=(15, 10))\n",
    "\n",
    "sns.heatmap(df2.corr(), annot=True, square=True, linewidths=0.25)\n",
    "plt.show()"
   ]
  },
  {
   "cell_type": "markdown",
   "metadata": {},
   "source": [
    "# Feature Engineering & Feature Selection"
   ]
  },
  {
   "cell_type": "code",
   "execution_count": 89,
   "metadata": {},
   "outputs": [
    {
     "data": {
      "text/plain": [
       "(-0.001, 18.0]     1868\n",
       "(18.0, 27445.0]    1810\n",
       "Name: num_reviews, dtype: int64"
      ]
     },
     "execution_count": 89,
     "metadata": {},
     "output_type": "execute_result"
    }
   ],
   "source": [
    "pd.qcut(df1.num_reviews,2).value_counts()"
   ]
  },
  {
   "cell_type": "code",
   "execution_count": 90,
   "metadata": {},
   "outputs": [],
   "source": [
    "def success(x):\n",
    "    if x <= 1500:\n",
    "        return 0\n",
    "    elif x > 1500:\n",
    "        return 1"
   ]
  },
  {
   "cell_type": "code",
   "execution_count": 91,
   "metadata": {},
   "outputs": [
    {
     "data": {
      "text/html": [
       "<div>\n",
       "<style scoped>\n",
       "    .dataframe tbody tr th:only-of-type {\n",
       "        vertical-align: middle;\n",
       "    }\n",
       "\n",
       "    .dataframe tbody tr th {\n",
       "        vertical-align: top;\n",
       "    }\n",
       "\n",
       "    .dataframe thead th {\n",
       "        text-align: right;\n",
       "    }\n",
       "</style>\n",
       "<table border=\"1\" class=\"dataframe\">\n",
       "  <thead>\n",
       "    <tr style=\"text-align: right;\">\n",
       "      <th></th>\n",
       "      <th>is_paid</th>\n",
       "      <th>price</th>\n",
       "      <th>num_subscribers</th>\n",
       "      <th>num_reviews</th>\n",
       "      <th>num_lectures</th>\n",
       "      <th>level</th>\n",
       "      <th>content_duration</th>\n",
       "      <th>subject</th>\n",
       "      <th>is_success</th>\n",
       "    </tr>\n",
       "    <tr>\n",
       "      <th>course_id</th>\n",
       "      <th></th>\n",
       "      <th></th>\n",
       "      <th></th>\n",
       "      <th></th>\n",
       "      <th></th>\n",
       "      <th></th>\n",
       "      <th></th>\n",
       "      <th></th>\n",
       "      <th></th>\n",
       "    </tr>\n",
       "  </thead>\n",
       "  <tbody>\n",
       "    <tr>\n",
       "      <th>1070968</th>\n",
       "      <td>True</td>\n",
       "      <td>200</td>\n",
       "      <td>2147</td>\n",
       "      <td>23</td>\n",
       "      <td>51</td>\n",
       "      <td>All Levels</td>\n",
       "      <td>1.5</td>\n",
       "      <td>Business Finance</td>\n",
       "      <td>1</td>\n",
       "    </tr>\n",
       "    <tr>\n",
       "      <th>1113822</th>\n",
       "      <td>True</td>\n",
       "      <td>75</td>\n",
       "      <td>2792</td>\n",
       "      <td>923</td>\n",
       "      <td>274</td>\n",
       "      <td>All Levels</td>\n",
       "      <td>39.0</td>\n",
       "      <td>Business Finance</td>\n",
       "      <td>1</td>\n",
       "    </tr>\n",
       "    <tr>\n",
       "      <th>1006314</th>\n",
       "      <td>True</td>\n",
       "      <td>45</td>\n",
       "      <td>2174</td>\n",
       "      <td>74</td>\n",
       "      <td>51</td>\n",
       "      <td>Intermediate Level</td>\n",
       "      <td>2.5</td>\n",
       "      <td>Business Finance</td>\n",
       "      <td>1</td>\n",
       "    </tr>\n",
       "    <tr>\n",
       "      <th>1210588</th>\n",
       "      <td>True</td>\n",
       "      <td>95</td>\n",
       "      <td>2451</td>\n",
       "      <td>11</td>\n",
       "      <td>36</td>\n",
       "      <td>All Levels</td>\n",
       "      <td>3.0</td>\n",
       "      <td>Business Finance</td>\n",
       "      <td>1</td>\n",
       "    </tr>\n",
       "    <tr>\n",
       "      <th>1011058</th>\n",
       "      <td>True</td>\n",
       "      <td>200</td>\n",
       "      <td>1276</td>\n",
       "      <td>45</td>\n",
       "      <td>26</td>\n",
       "      <td>Intermediate Level</td>\n",
       "      <td>2.0</td>\n",
       "      <td>Business Finance</td>\n",
       "      <td>0</td>\n",
       "    </tr>\n",
       "  </tbody>\n",
       "</table>\n",
       "</div>"
      ],
      "text/plain": [
       "           is_paid  price  num_subscribers  num_reviews  num_lectures  \\\n",
       "course_id                                                               \n",
       "1070968    True     200    2147             23           51             \n",
       "1113822    True     75     2792             923          274            \n",
       "1006314    True     45     2174             74           51             \n",
       "1210588    True     95     2451             11           36             \n",
       "1011058    True     200    1276             45           26             \n",
       "\n",
       "                        level  content_duration           subject  is_success  \n",
       "course_id                                                                      \n",
       "1070968    All Levels          1.5               Business Finance  1           \n",
       "1113822    All Levels          39.0              Business Finance  1           \n",
       "1006314    Intermediate Level  2.5               Business Finance  1           \n",
       "1210588    All Levels          3.0               Business Finance  1           \n",
       "1011058    Intermediate Level  2.0               Business Finance  0           "
      ]
     },
     "execution_count": 91,
     "metadata": {},
     "output_type": "execute_result"
    }
   ],
   "source": [
    "df_b = df1[(df1.content_duration>0) & (df1.num_lectures>0)]\n",
    "df_b.drop([1473,1100,2561,787,894,788], axis=0, inplace=True)\n",
    "df_b.set_index('course_id',inplace=True)\n",
    "df_b.drop(columns=['url', 'course_title','published_timestamp'], inplace=True)\n",
    "df_b['is_success'] = df_b['num_subscribers'].apply(success)\n",
    "df_b.head()"
   ]
  },
  {
   "cell_type": "code",
   "execution_count": 92,
   "metadata": {},
   "outputs": [],
   "source": [
    "# dfix = df1[(df1.content_duration>0) & (df1.num_lectures>0)]\n",
    "# dfix.drop([1473,1100,2561,787,894,788], axis=0, inplace=True)\n",
    "# dfix.set_index('course_id',inplace=True)\n",
    "# dfix.drop(columns=['url', 'course_title','published_timestamp'], inplace=True)\n",
    "# dfix['durasi'] = pd.cut(dfix['content_duration'], bins=[0, dfix.content_duration.quantile(0.25), dfix.content_duration.quantile(0.5), dfix.content_duration.quantile(0.75), dfix['content_duration'].max()], labels=['Singkat', 'Cukup', 'Lama', 'Sangat Lama'])\n",
    "# dfix['k_harga'] = pd.qcut(dfix.price, 3, labels=['Murah', 'Terjangkau' ,'Mahal'])\n",
    "# dfix['is_success'] = dfix.num_subscribers.apply(success)\n",
    "# dfix.tail()"
   ]
  },
  {
   "cell_type": "code",
   "execution_count": 93,
   "metadata": {},
   "outputs": [
    {
     "data": {
      "text/html": [
       "<div>\n",
       "<style scoped>\n",
       "    .dataframe tbody tr th:only-of-type {\n",
       "        vertical-align: middle;\n",
       "    }\n",
       "\n",
       "    .dataframe tbody tr th {\n",
       "        vertical-align: top;\n",
       "    }\n",
       "\n",
       "    .dataframe thead th {\n",
       "        text-align: right;\n",
       "    }\n",
       "</style>\n",
       "<table border=\"1\" class=\"dataframe\">\n",
       "  <thead>\n",
       "    <tr style=\"text-align: right;\">\n",
       "      <th></th>\n",
       "      <th>is_paid</th>\n",
       "      <th>price</th>\n",
       "      <th>num_subscribers</th>\n",
       "      <th>num_reviews</th>\n",
       "      <th>level</th>\n",
       "      <th>subject</th>\n",
       "      <th>is_success</th>\n",
       "    </tr>\n",
       "    <tr>\n",
       "      <th>course_id</th>\n",
       "      <th></th>\n",
       "      <th></th>\n",
       "      <th></th>\n",
       "      <th></th>\n",
       "      <th></th>\n",
       "      <th></th>\n",
       "      <th></th>\n",
       "    </tr>\n",
       "  </thead>\n",
       "  <tbody>\n",
       "    <tr>\n",
       "      <th>775618</th>\n",
       "      <td>True</td>\n",
       "      <td>100</td>\n",
       "      <td>1040</td>\n",
       "      <td>14</td>\n",
       "      <td>All Levels</td>\n",
       "      <td>Web Development</td>\n",
       "      <td>0</td>\n",
       "    </tr>\n",
       "    <tr>\n",
       "      <th>1088178</th>\n",
       "      <td>True</td>\n",
       "      <td>25</td>\n",
       "      <td>306</td>\n",
       "      <td>3</td>\n",
       "      <td>Beginner Level</td>\n",
       "      <td>Web Development</td>\n",
       "      <td>0</td>\n",
       "    </tr>\n",
       "    <tr>\n",
       "      <th>635248</th>\n",
       "      <td>True</td>\n",
       "      <td>40</td>\n",
       "      <td>513</td>\n",
       "      <td>169</td>\n",
       "      <td>All Levels</td>\n",
       "      <td>Web Development</td>\n",
       "      <td>0</td>\n",
       "    </tr>\n",
       "    <tr>\n",
       "      <th>905096</th>\n",
       "      <td>True</td>\n",
       "      <td>50</td>\n",
       "      <td>300</td>\n",
       "      <td>31</td>\n",
       "      <td>All Levels</td>\n",
       "      <td>Web Development</td>\n",
       "      <td>0</td>\n",
       "    </tr>\n",
       "    <tr>\n",
       "      <th>297602</th>\n",
       "      <td>True</td>\n",
       "      <td>45</td>\n",
       "      <td>901</td>\n",
       "      <td>36</td>\n",
       "      <td>Beginner Level</td>\n",
       "      <td>Web Development</td>\n",
       "      <td>0</td>\n",
       "    </tr>\n",
       "  </tbody>\n",
       "</table>\n",
       "</div>"
      ],
      "text/plain": [
       "           is_paid  price  num_subscribers  num_reviews           level  \\\n",
       "course_id                                                                 \n",
       "775618     True     100    1040             14           All Levels       \n",
       "1088178    True     25     306              3            Beginner Level   \n",
       "635248     True     40     513              169          All Levels       \n",
       "905096     True     50     300              31           All Levels       \n",
       "297602     True     45     901              36           Beginner Level   \n",
       "\n",
       "                   subject  is_success  \n",
       "course_id                               \n",
       "775618     Web Development  0           \n",
       "1088178    Web Development  0           \n",
       "635248     Web Development  0           \n",
       "905096     Web Development  0           \n",
       "297602     Web Development  0           "
      ]
     },
     "execution_count": 93,
     "metadata": {},
     "output_type": "execute_result"
    }
   ],
   "source": [
    "dfix = df1[(df1.content_duration>0) & (df1.num_lectures>0)]\n",
    "dfix.drop([1473,1100,2561,787,894,788], axis=0, inplace=True)\n",
    "dfix.set_index('course_id',inplace=True)\n",
    "dfix.drop(columns=['url', 'course_title','published_timestamp','num_lectures','content_duration'], inplace=True)\n",
    "dfix['is_success'] = dfix['num_subscribers'].apply(success)\n",
    "dfix.tail()"
   ]
  },
  {
   "cell_type": "code",
   "execution_count": 94,
   "metadata": {},
   "outputs": [
    {
     "data": {
      "text/plain": [
       "0    0.628167\n",
       "1    0.371833\n",
       "Name: is_success, dtype: float64"
      ]
     },
     "execution_count": 94,
     "metadata": {},
     "output_type": "execute_result"
    }
   ],
   "source": [
    "dfix.is_success.value_counts(normalize=True)"
   ]
  },
  {
   "cell_type": "code",
   "execution_count": 95,
   "metadata": {},
   "outputs": [
    {
     "data": {
      "text/html": [
       "<div>\n",
       "<style scoped>\n",
       "    .dataframe tbody tr th:only-of-type {\n",
       "        vertical-align: middle;\n",
       "    }\n",
       "\n",
       "    .dataframe tbody tr th {\n",
       "        vertical-align: top;\n",
       "    }\n",
       "\n",
       "    .dataframe thead th {\n",
       "        text-align: right;\n",
       "    }\n",
       "</style>\n",
       "<table border=\"1\" class=\"dataframe\">\n",
       "  <thead>\n",
       "    <tr style=\"text-align: right;\">\n",
       "      <th></th>\n",
       "      <th>price</th>\n",
       "      <th>num_subscribers</th>\n",
       "      <th>num_reviews</th>\n",
       "      <th>num_lectures</th>\n",
       "      <th>level</th>\n",
       "      <th>content_duration</th>\n",
       "      <th>is_success</th>\n",
       "      <th>level_enc</th>\n",
       "      <th>is_paid_False</th>\n",
       "      <th>is_paid_True</th>\n",
       "      <th>subject_Business Finance</th>\n",
       "      <th>subject_Graphic Design</th>\n",
       "      <th>subject_Musical Instruments</th>\n",
       "      <th>subject_Web Development</th>\n",
       "    </tr>\n",
       "    <tr>\n",
       "      <th>course_id</th>\n",
       "      <th></th>\n",
       "      <th></th>\n",
       "      <th></th>\n",
       "      <th></th>\n",
       "      <th></th>\n",
       "      <th></th>\n",
       "      <th></th>\n",
       "      <th></th>\n",
       "      <th></th>\n",
       "      <th></th>\n",
       "      <th></th>\n",
       "      <th></th>\n",
       "      <th></th>\n",
       "      <th></th>\n",
       "    </tr>\n",
       "  </thead>\n",
       "  <tbody>\n",
       "    <tr>\n",
       "      <th>1070968</th>\n",
       "      <td>200</td>\n",
       "      <td>2147</td>\n",
       "      <td>23</td>\n",
       "      <td>51</td>\n",
       "      <td>All Levels</td>\n",
       "      <td>1.5</td>\n",
       "      <td>1</td>\n",
       "      <td>0</td>\n",
       "      <td>0</td>\n",
       "      <td>1</td>\n",
       "      <td>1</td>\n",
       "      <td>0</td>\n",
       "      <td>0</td>\n",
       "      <td>0</td>\n",
       "    </tr>\n",
       "    <tr>\n",
       "      <th>1113822</th>\n",
       "      <td>75</td>\n",
       "      <td>2792</td>\n",
       "      <td>923</td>\n",
       "      <td>274</td>\n",
       "      <td>All Levels</td>\n",
       "      <td>39.0</td>\n",
       "      <td>1</td>\n",
       "      <td>0</td>\n",
       "      <td>0</td>\n",
       "      <td>1</td>\n",
       "      <td>1</td>\n",
       "      <td>0</td>\n",
       "      <td>0</td>\n",
       "      <td>0</td>\n",
       "    </tr>\n",
       "    <tr>\n",
       "      <th>1006314</th>\n",
       "      <td>45</td>\n",
       "      <td>2174</td>\n",
       "      <td>74</td>\n",
       "      <td>51</td>\n",
       "      <td>Intermediate Level</td>\n",
       "      <td>2.5</td>\n",
       "      <td>1</td>\n",
       "      <td>2</td>\n",
       "      <td>0</td>\n",
       "      <td>1</td>\n",
       "      <td>1</td>\n",
       "      <td>0</td>\n",
       "      <td>0</td>\n",
       "      <td>0</td>\n",
       "    </tr>\n",
       "    <tr>\n",
       "      <th>1210588</th>\n",
       "      <td>95</td>\n",
       "      <td>2451</td>\n",
       "      <td>11</td>\n",
       "      <td>36</td>\n",
       "      <td>All Levels</td>\n",
       "      <td>3.0</td>\n",
       "      <td>1</td>\n",
       "      <td>0</td>\n",
       "      <td>0</td>\n",
       "      <td>1</td>\n",
       "      <td>1</td>\n",
       "      <td>0</td>\n",
       "      <td>0</td>\n",
       "      <td>0</td>\n",
       "    </tr>\n",
       "    <tr>\n",
       "      <th>1011058</th>\n",
       "      <td>200</td>\n",
       "      <td>1276</td>\n",
       "      <td>45</td>\n",
       "      <td>26</td>\n",
       "      <td>Intermediate Level</td>\n",
       "      <td>2.0</td>\n",
       "      <td>0</td>\n",
       "      <td>2</td>\n",
       "      <td>0</td>\n",
       "      <td>1</td>\n",
       "      <td>1</td>\n",
       "      <td>0</td>\n",
       "      <td>0</td>\n",
       "      <td>0</td>\n",
       "    </tr>\n",
       "  </tbody>\n",
       "</table>\n",
       "</div>"
      ],
      "text/plain": [
       "           price  num_subscribers  num_reviews  num_lectures  \\\n",
       "course_id                                                      \n",
       "1070968    200    2147             23           51             \n",
       "1113822    75     2792             923          274            \n",
       "1006314    45     2174             74           51             \n",
       "1210588    95     2451             11           36             \n",
       "1011058    200    1276             45           26             \n",
       "\n",
       "                        level  content_duration  is_success  level_enc  \\\n",
       "course_id                                                                \n",
       "1070968    All Levels          1.5               1           0           \n",
       "1113822    All Levels          39.0              1           0           \n",
       "1006314    Intermediate Level  2.5               1           2           \n",
       "1210588    All Levels          3.0               1           0           \n",
       "1011058    Intermediate Level  2.0               0           2           \n",
       "\n",
       "           is_paid_False  is_paid_True  subject_Business Finance  \\\n",
       "course_id                                                          \n",
       "1070968    0              1             1                          \n",
       "1113822    0              1             1                          \n",
       "1006314    0              1             1                          \n",
       "1210588    0              1             1                          \n",
       "1011058    0              1             1                          \n",
       "\n",
       "           subject_Graphic Design  subject_Musical Instruments  \\\n",
       "course_id                                                        \n",
       "1070968    0                       0                             \n",
       "1113822    0                       0                             \n",
       "1006314    0                       0                             \n",
       "1210588    0                       0                             \n",
       "1011058    0                       0                             \n",
       "\n",
       "           subject_Web Development  \n",
       "course_id                           \n",
       "1070968    0                        \n",
       "1113822    0                        \n",
       "1006314    0                        \n",
       "1210588    0                        \n",
       "1011058    0                        "
      ]
     },
     "execution_count": 95,
     "metadata": {},
     "output_type": "execute_result"
    }
   ],
   "source": [
    "df_b['level_enc'] = df_b.level.map({\n",
    "    \"All Levels\":0,\n",
    "    \"Beginner Level\":1,\n",
    "    \"Intermediate Level\":2,\n",
    "    \"Expert Level\":3,\n",
    "})\n",
    "df_b = pd.get_dummies(df_b, columns=['is_paid','subject'], prefix_sep='_')\n",
    "df_b.head()"
   ]
  },
  {
   "cell_type": "code",
   "execution_count": 96,
   "metadata": {},
   "outputs": [
    {
     "data": {
      "text/html": [
       "<div>\n",
       "<style scoped>\n",
       "    .dataframe tbody tr th:only-of-type {\n",
       "        vertical-align: middle;\n",
       "    }\n",
       "\n",
       "    .dataframe tbody tr th {\n",
       "        vertical-align: top;\n",
       "    }\n",
       "\n",
       "    .dataframe thead th {\n",
       "        text-align: right;\n",
       "    }\n",
       "</style>\n",
       "<table border=\"1\" class=\"dataframe\">\n",
       "  <thead>\n",
       "    <tr style=\"text-align: right;\">\n",
       "      <th></th>\n",
       "      <th>price</th>\n",
       "      <th>num_subscribers</th>\n",
       "      <th>num_reviews</th>\n",
       "      <th>level</th>\n",
       "      <th>is_success</th>\n",
       "      <th>level_enc</th>\n",
       "      <th>is_paid_False</th>\n",
       "      <th>is_paid_True</th>\n",
       "      <th>subject_Business Finance</th>\n",
       "      <th>subject_Graphic Design</th>\n",
       "      <th>subject_Musical Instruments</th>\n",
       "      <th>subject_Web Development</th>\n",
       "    </tr>\n",
       "    <tr>\n",
       "      <th>course_id</th>\n",
       "      <th></th>\n",
       "      <th></th>\n",
       "      <th></th>\n",
       "      <th></th>\n",
       "      <th></th>\n",
       "      <th></th>\n",
       "      <th></th>\n",
       "      <th></th>\n",
       "      <th></th>\n",
       "      <th></th>\n",
       "      <th></th>\n",
       "      <th></th>\n",
       "    </tr>\n",
       "  </thead>\n",
       "  <tbody>\n",
       "    <tr>\n",
       "      <th>1070968</th>\n",
       "      <td>200</td>\n",
       "      <td>2147</td>\n",
       "      <td>23</td>\n",
       "      <td>All Levels</td>\n",
       "      <td>1</td>\n",
       "      <td>0</td>\n",
       "      <td>0</td>\n",
       "      <td>1</td>\n",
       "      <td>1</td>\n",
       "      <td>0</td>\n",
       "      <td>0</td>\n",
       "      <td>0</td>\n",
       "    </tr>\n",
       "    <tr>\n",
       "      <th>1113822</th>\n",
       "      <td>75</td>\n",
       "      <td>2792</td>\n",
       "      <td>923</td>\n",
       "      <td>All Levels</td>\n",
       "      <td>1</td>\n",
       "      <td>0</td>\n",
       "      <td>0</td>\n",
       "      <td>1</td>\n",
       "      <td>1</td>\n",
       "      <td>0</td>\n",
       "      <td>0</td>\n",
       "      <td>0</td>\n",
       "    </tr>\n",
       "    <tr>\n",
       "      <th>1006314</th>\n",
       "      <td>45</td>\n",
       "      <td>2174</td>\n",
       "      <td>74</td>\n",
       "      <td>Intermediate Level</td>\n",
       "      <td>1</td>\n",
       "      <td>2</td>\n",
       "      <td>0</td>\n",
       "      <td>1</td>\n",
       "      <td>1</td>\n",
       "      <td>0</td>\n",
       "      <td>0</td>\n",
       "      <td>0</td>\n",
       "    </tr>\n",
       "    <tr>\n",
       "      <th>1210588</th>\n",
       "      <td>95</td>\n",
       "      <td>2451</td>\n",
       "      <td>11</td>\n",
       "      <td>All Levels</td>\n",
       "      <td>1</td>\n",
       "      <td>0</td>\n",
       "      <td>0</td>\n",
       "      <td>1</td>\n",
       "      <td>1</td>\n",
       "      <td>0</td>\n",
       "      <td>0</td>\n",
       "      <td>0</td>\n",
       "    </tr>\n",
       "    <tr>\n",
       "      <th>1011058</th>\n",
       "      <td>200</td>\n",
       "      <td>1276</td>\n",
       "      <td>45</td>\n",
       "      <td>Intermediate Level</td>\n",
       "      <td>0</td>\n",
       "      <td>2</td>\n",
       "      <td>0</td>\n",
       "      <td>1</td>\n",
       "      <td>1</td>\n",
       "      <td>0</td>\n",
       "      <td>0</td>\n",
       "      <td>0</td>\n",
       "    </tr>\n",
       "  </tbody>\n",
       "</table>\n",
       "</div>"
      ],
      "text/plain": [
       "           price  num_subscribers  num_reviews               level  \\\n",
       "course_id                                                            \n",
       "1070968    200    2147             23           All Levels           \n",
       "1113822    75     2792             923          All Levels           \n",
       "1006314    45     2174             74           Intermediate Level   \n",
       "1210588    95     2451             11           All Levels           \n",
       "1011058    200    1276             45           Intermediate Level   \n",
       "\n",
       "           is_success  level_enc  is_paid_False  is_paid_True  \\\n",
       "course_id                                                       \n",
       "1070968    1           0          0              1              \n",
       "1113822    1           0          0              1              \n",
       "1006314    1           2          0              1              \n",
       "1210588    1           0          0              1              \n",
       "1011058    0           2          0              1              \n",
       "\n",
       "           subject_Business Finance  subject_Graphic Design  \\\n",
       "course_id                                                     \n",
       "1070968    1                         0                        \n",
       "1113822    1                         0                        \n",
       "1006314    1                         0                        \n",
       "1210588    1                         0                        \n",
       "1011058    1                         0                        \n",
       "\n",
       "           subject_Musical Instruments  subject_Web Development  \n",
       "course_id                                                        \n",
       "1070968    0                            0                        \n",
       "1113822    0                            0                        \n",
       "1006314    0                            0                        \n",
       "1210588    0                            0                        \n",
       "1011058    0                            0                        "
      ]
     },
     "execution_count": 96,
     "metadata": {},
     "output_type": "execute_result"
    }
   ],
   "source": [
    "dfix['level_enc'] = dfix.level.map({\n",
    "    \"All Levels\":0,\n",
    "    \"Beginner Level\":1,\n",
    "    \"Intermediate Level\":2,\n",
    "    \"Expert Level\":3,\n",
    "})\n",
    "dfix = pd.get_dummies(dfix, columns=['is_paid','subject'], prefix_sep='_')\n",
    "dfix.head()"
   ]
  },
  {
   "cell_type": "code",
   "execution_count": 97,
   "metadata": {},
   "outputs": [],
   "source": [
    "# dfix['level_enc'] = dfix.level.map({\n",
    "#     \"All Levels\":0,\n",
    "#     \"Beginner Level\":1,\n",
    "#     \"Intermediate Level\":2,\n",
    "#     \"Expert Level\":3,\n",
    "# })\n",
    "# dfix['durasi_enc'] = dfix.durasi.map({\n",
    "#     \"Singkat\":0,\n",
    "#     \"Cukup\":1,\n",
    "#     \"Lama\":2,\n",
    "#     \"Sangat Lama\":3,\n",
    "# })\n",
    "# dfix['harga_enc'] = dfix.k_harga.map({\n",
    "#     \"Murah\":0,\n",
    "#     \"Terjangkau\":1,\n",
    "#     \"Mahal\":2\n",
    "# })\n",
    "# dfix = pd.get_dummies(dfix, columns=['is_paid','subject'], prefix_sep='_')\n",
    "# dfix.head()"
   ]
  },
  {
   "cell_type": "code",
   "execution_count": 98,
   "metadata": {},
   "outputs": [
    {
     "data": {
      "text/html": [
       "<div>\n",
       "<style scoped>\n",
       "    .dataframe tbody tr th:only-of-type {\n",
       "        vertical-align: middle;\n",
       "    }\n",
       "\n",
       "    .dataframe tbody tr th {\n",
       "        vertical-align: top;\n",
       "    }\n",
       "\n",
       "    .dataframe thead th {\n",
       "        text-align: right;\n",
       "    }\n",
       "</style>\n",
       "<table border=\"1\" class=\"dataframe\">\n",
       "  <thead>\n",
       "    <tr style=\"text-align: right;\">\n",
       "      <th></th>\n",
       "      <th>price</th>\n",
       "      <th>num_reviews</th>\n",
       "      <th>num_lectures</th>\n",
       "      <th>content_duration</th>\n",
       "      <th>is_success</th>\n",
       "      <th>level_enc</th>\n",
       "      <th>is_paid_False</th>\n",
       "      <th>is_paid_True</th>\n",
       "      <th>business_subject</th>\n",
       "      <th>graphic_subject</th>\n",
       "      <th>music_subject</th>\n",
       "      <th>webdev_subject</th>\n",
       "    </tr>\n",
       "    <tr>\n",
       "      <th>course_id</th>\n",
       "      <th></th>\n",
       "      <th></th>\n",
       "      <th></th>\n",
       "      <th></th>\n",
       "      <th></th>\n",
       "      <th></th>\n",
       "      <th></th>\n",
       "      <th></th>\n",
       "      <th></th>\n",
       "      <th></th>\n",
       "      <th></th>\n",
       "      <th></th>\n",
       "    </tr>\n",
       "  </thead>\n",
       "  <tbody>\n",
       "    <tr>\n",
       "      <th>1070968</th>\n",
       "      <td>200</td>\n",
       "      <td>23</td>\n",
       "      <td>51</td>\n",
       "      <td>1.5</td>\n",
       "      <td>1</td>\n",
       "      <td>0</td>\n",
       "      <td>0</td>\n",
       "      <td>1</td>\n",
       "      <td>1</td>\n",
       "      <td>0</td>\n",
       "      <td>0</td>\n",
       "      <td>0</td>\n",
       "    </tr>\n",
       "    <tr>\n",
       "      <th>1113822</th>\n",
       "      <td>75</td>\n",
       "      <td>923</td>\n",
       "      <td>274</td>\n",
       "      <td>39.0</td>\n",
       "      <td>1</td>\n",
       "      <td>0</td>\n",
       "      <td>0</td>\n",
       "      <td>1</td>\n",
       "      <td>1</td>\n",
       "      <td>0</td>\n",
       "      <td>0</td>\n",
       "      <td>0</td>\n",
       "    </tr>\n",
       "    <tr>\n",
       "      <th>1006314</th>\n",
       "      <td>45</td>\n",
       "      <td>74</td>\n",
       "      <td>51</td>\n",
       "      <td>2.5</td>\n",
       "      <td>1</td>\n",
       "      <td>2</td>\n",
       "      <td>0</td>\n",
       "      <td>1</td>\n",
       "      <td>1</td>\n",
       "      <td>0</td>\n",
       "      <td>0</td>\n",
       "      <td>0</td>\n",
       "    </tr>\n",
       "    <tr>\n",
       "      <th>1210588</th>\n",
       "      <td>95</td>\n",
       "      <td>11</td>\n",
       "      <td>36</td>\n",
       "      <td>3.0</td>\n",
       "      <td>1</td>\n",
       "      <td>0</td>\n",
       "      <td>0</td>\n",
       "      <td>1</td>\n",
       "      <td>1</td>\n",
       "      <td>0</td>\n",
       "      <td>0</td>\n",
       "      <td>0</td>\n",
       "    </tr>\n",
       "    <tr>\n",
       "      <th>1011058</th>\n",
       "      <td>200</td>\n",
       "      <td>45</td>\n",
       "      <td>26</td>\n",
       "      <td>2.0</td>\n",
       "      <td>0</td>\n",
       "      <td>2</td>\n",
       "      <td>0</td>\n",
       "      <td>1</td>\n",
       "      <td>1</td>\n",
       "      <td>0</td>\n",
       "      <td>0</td>\n",
       "      <td>0</td>\n",
       "    </tr>\n",
       "  </tbody>\n",
       "</table>\n",
       "</div>"
      ],
      "text/plain": [
       "           price  num_reviews  num_lectures  content_duration  is_success  \\\n",
       "course_id                                                                   \n",
       "1070968    200    23           51            1.5               1            \n",
       "1113822    75     923          274           39.0              1            \n",
       "1006314    45     74           51            2.5               1            \n",
       "1210588    95     11           36            3.0               1            \n",
       "1011058    200    45           26            2.0               0            \n",
       "\n",
       "           level_enc  is_paid_False  is_paid_True  business_subject  \\\n",
       "course_id                                                             \n",
       "1070968    0          0              1             1                  \n",
       "1113822    0          0              1             1                  \n",
       "1006314    2          0              1             1                  \n",
       "1210588    0          0              1             1                  \n",
       "1011058    2          0              1             1                  \n",
       "\n",
       "           graphic_subject  music_subject  webdev_subject  \n",
       "course_id                                                  \n",
       "1070968    0                0              0               \n",
       "1113822    0                0              0               \n",
       "1006314    0                0              0               \n",
       "1210588    0                0              0               \n",
       "1011058    0                0              0               "
      ]
     },
     "execution_count": 98,
     "metadata": {},
     "output_type": "execute_result"
    }
   ],
   "source": [
    "df_b.drop(columns=['level','num_subscribers'], inplace=True)\n",
    "df_b.rename(columns={\n",
    "    \"subject_Business Finance\":\"business_subject\",\n",
    "    \"subject_Graphic Design\":\"graphic_subject\",\n",
    "    \"subject_Musical Instruments\":\"music_subject\",\n",
    "    \"subject_Web Development\":\"webdev_subject\"\n",
    "}, inplace=True)\n",
    "df_b.head()"
   ]
  },
  {
   "cell_type": "code",
   "execution_count": 99,
   "metadata": {},
   "outputs": [
    {
     "data": {
      "text/html": [
       "<div>\n",
       "<style scoped>\n",
       "    .dataframe tbody tr th:only-of-type {\n",
       "        vertical-align: middle;\n",
       "    }\n",
       "\n",
       "    .dataframe tbody tr th {\n",
       "        vertical-align: top;\n",
       "    }\n",
       "\n",
       "    .dataframe thead th {\n",
       "        text-align: right;\n",
       "    }\n",
       "</style>\n",
       "<table border=\"1\" class=\"dataframe\">\n",
       "  <thead>\n",
       "    <tr style=\"text-align: right;\">\n",
       "      <th></th>\n",
       "      <th>num_reviews</th>\n",
       "      <th>is_success</th>\n",
       "      <th>level_enc</th>\n",
       "      <th>is_paid_False</th>\n",
       "      <th>is_paid_True</th>\n",
       "      <th>business_subject</th>\n",
       "      <th>graphic_subject</th>\n",
       "      <th>music_subject</th>\n",
       "      <th>webdev_subject</th>\n",
       "    </tr>\n",
       "    <tr>\n",
       "      <th>course_id</th>\n",
       "      <th></th>\n",
       "      <th></th>\n",
       "      <th></th>\n",
       "      <th></th>\n",
       "      <th></th>\n",
       "      <th></th>\n",
       "      <th></th>\n",
       "      <th></th>\n",
       "      <th></th>\n",
       "    </tr>\n",
       "  </thead>\n",
       "  <tbody>\n",
       "    <tr>\n",
       "      <th>1070968</th>\n",
       "      <td>23</td>\n",
       "      <td>1</td>\n",
       "      <td>0</td>\n",
       "      <td>0</td>\n",
       "      <td>1</td>\n",
       "      <td>1</td>\n",
       "      <td>0</td>\n",
       "      <td>0</td>\n",
       "      <td>0</td>\n",
       "    </tr>\n",
       "    <tr>\n",
       "      <th>1113822</th>\n",
       "      <td>923</td>\n",
       "      <td>1</td>\n",
       "      <td>0</td>\n",
       "      <td>0</td>\n",
       "      <td>1</td>\n",
       "      <td>1</td>\n",
       "      <td>0</td>\n",
       "      <td>0</td>\n",
       "      <td>0</td>\n",
       "    </tr>\n",
       "    <tr>\n",
       "      <th>1006314</th>\n",
       "      <td>74</td>\n",
       "      <td>1</td>\n",
       "      <td>2</td>\n",
       "      <td>0</td>\n",
       "      <td>1</td>\n",
       "      <td>1</td>\n",
       "      <td>0</td>\n",
       "      <td>0</td>\n",
       "      <td>0</td>\n",
       "    </tr>\n",
       "    <tr>\n",
       "      <th>1210588</th>\n",
       "      <td>11</td>\n",
       "      <td>1</td>\n",
       "      <td>0</td>\n",
       "      <td>0</td>\n",
       "      <td>1</td>\n",
       "      <td>1</td>\n",
       "      <td>0</td>\n",
       "      <td>0</td>\n",
       "      <td>0</td>\n",
       "    </tr>\n",
       "    <tr>\n",
       "      <th>1011058</th>\n",
       "      <td>45</td>\n",
       "      <td>0</td>\n",
       "      <td>2</td>\n",
       "      <td>0</td>\n",
       "      <td>1</td>\n",
       "      <td>1</td>\n",
       "      <td>0</td>\n",
       "      <td>0</td>\n",
       "      <td>0</td>\n",
       "    </tr>\n",
       "  </tbody>\n",
       "</table>\n",
       "</div>"
      ],
      "text/plain": [
       "           num_reviews  is_success  level_enc  is_paid_False  is_paid_True  \\\n",
       "course_id                                                                    \n",
       "1070968    23           1           0          0              1              \n",
       "1113822    923          1           0          0              1              \n",
       "1006314    74           1           2          0              1              \n",
       "1210588    11           1           0          0              1              \n",
       "1011058    45           0           2          0              1              \n",
       "\n",
       "           business_subject  graphic_subject  music_subject  webdev_subject  \n",
       "course_id                                                                    \n",
       "1070968    1                 0                0              0               \n",
       "1113822    1                 0                0              0               \n",
       "1006314    1                 0                0              0               \n",
       "1210588    1                 0                0              0               \n",
       "1011058    1                 0                0              0               "
      ]
     },
     "execution_count": 99,
     "metadata": {},
     "output_type": "execute_result"
    }
   ],
   "source": [
    "dfix.drop(columns=['level','price','num_subscribers'], inplace=True)\n",
    "dfix.rename(columns={\n",
    "    \"subject_Business Finance\":\"business_subject\",\n",
    "    \"subject_Graphic Design\":\"graphic_subject\",\n",
    "    \"subject_Musical Instruments\":\"music_subject\",\n",
    "    \"subject_Web Development\":\"webdev_subject\"\n",
    "}, inplace=True)\n",
    "dfix.head()"
   ]
  },
  {
   "cell_type": "code",
   "execution_count": 100,
   "metadata": {},
   "outputs": [
    {
     "name": "stdout",
     "output_type": "stream",
     "text": [
      "<class 'pandas.core.frame.DataFrame'>\n",
      "Int64Index: 3671 entries, 1070968 to 297602\n",
      "Data columns (total 12 columns):\n",
      " #   Column            Non-Null Count  Dtype  \n",
      "---  ------            --------------  -----  \n",
      " 0   price             3671 non-null   int64  \n",
      " 1   num_reviews       3671 non-null   int64  \n",
      " 2   num_lectures      3671 non-null   int64  \n",
      " 3   content_duration  3671 non-null   float64\n",
      " 4   is_success        3671 non-null   int64  \n",
      " 5   level_enc         3671 non-null   int64  \n",
      " 6   is_paid_False     3671 non-null   uint8  \n",
      " 7   is_paid_True      3671 non-null   uint8  \n",
      " 8   business_subject  3671 non-null   uint8  \n",
      " 9   graphic_subject   3671 non-null   uint8  \n",
      " 10  music_subject     3671 non-null   uint8  \n",
      " 11  webdev_subject    3671 non-null   uint8  \n",
      "dtypes: float64(1), int64(5), uint8(6)\n",
      "memory usage: 222.3 KB\n"
     ]
    }
   ],
   "source": [
    "df_b.info()"
   ]
  },
  {
   "cell_type": "code",
   "execution_count": 101,
   "metadata": {},
   "outputs": [],
   "source": [
    "# dfix[['durasi_enc','harga_enc']] = dfix[['durasi_enc','harga_enc']].astype('int64')"
   ]
  },
  {
   "cell_type": "code",
   "execution_count": 102,
   "metadata": {},
   "outputs": [
    {
     "name": "stdout",
     "output_type": "stream",
     "text": [
      "<class 'pandas.core.frame.DataFrame'>\n",
      "Int64Index: 3671 entries, 1070968 to 297602\n",
      "Data columns (total 9 columns):\n",
      " #   Column            Non-Null Count  Dtype\n",
      "---  ------            --------------  -----\n",
      " 0   num_reviews       3671 non-null   int64\n",
      " 1   is_success        3671 non-null   int64\n",
      " 2   level_enc         3671 non-null   int64\n",
      " 3   is_paid_False     3671 non-null   uint8\n",
      " 4   is_paid_True      3671 non-null   uint8\n",
      " 5   business_subject  3671 non-null   uint8\n",
      " 6   graphic_subject   3671 non-null   uint8\n",
      " 7   music_subject     3671 non-null   uint8\n",
      " 8   webdev_subject    3671 non-null   uint8\n",
      "dtypes: int64(3), uint8(6)\n",
      "memory usage: 136.2 KB\n"
     ]
    }
   ],
   "source": [
    "dfix.info()"
   ]
  },
  {
   "cell_type": "markdown",
   "metadata": {},
   "source": [
    "# Exporting Clean File"
   ]
  },
  {
   "cell_type": "code",
   "execution_count": 103,
   "metadata": {},
   "outputs": [],
   "source": [
    "# dfix.to_csv('dfix1.csv')\n",
    "# df_b.to_csv('df_base1.csv')"
   ]
  },
  {
   "cell_type": "markdown",
   "metadata": {},
   "source": [
    "# Splitting Data"
   ]
  },
  {
   "cell_type": "markdown",
   "metadata": {},
   "source": [
    "- **Semua yang berakhiran \"b\", berarti df_base**\n",
    "- **Semua yang berakhiran \"f\", merupakan dfix hasil feature engineering**"
   ]
  },
  {
   "cell_type": "code",
   "execution_count": 104,
   "metadata": {},
   "outputs": [],
   "source": [
    "Xb = df_b.drop(columns ='is_success')\n",
    "yb = df_b.is_success\n",
    "\n",
    "Xf = dfix.drop(columns ='is_success')\n",
    "yf = dfix.is_success"
   ]
  },
  {
   "cell_type": "code",
   "execution_count": 105,
   "metadata": {},
   "outputs": [],
   "source": [
    "Xb_train, Xb_test, yb_train, yb_test = train_test_split(Xb, yb, stratify=yb, test_size = .25, random_state=0)\n",
    "Xf_train, Xf_test, yf_train, yf_test = train_test_split(Xf, yf, stratify=yf, test_size = .25, random_state=0)"
   ]
  },
  {
   "cell_type": "code",
   "execution_count": 106,
   "metadata": {},
   "outputs": [
    {
     "data": {
      "text/plain": [
       "(2753, 11)"
      ]
     },
     "execution_count": 106,
     "metadata": {},
     "output_type": "execute_result"
    }
   ],
   "source": [
    "Xb_train.shape"
   ]
  },
  {
   "cell_type": "code",
   "execution_count": 107,
   "metadata": {},
   "outputs": [
    {
     "data": {
      "text/plain": [
       "(2753, 8)"
      ]
     },
     "execution_count": 107,
     "metadata": {},
     "output_type": "execute_result"
    }
   ],
   "source": [
    "Xf_train.shape"
   ]
  },
  {
   "cell_type": "code",
   "execution_count": 108,
   "metadata": {},
   "outputs": [
    {
     "data": {
      "text/html": [
       "<div>\n",
       "<style scoped>\n",
       "    .dataframe tbody tr th:only-of-type {\n",
       "        vertical-align: middle;\n",
       "    }\n",
       "\n",
       "    .dataframe tbody tr th {\n",
       "        vertical-align: top;\n",
       "    }\n",
       "\n",
       "    .dataframe thead th {\n",
       "        text-align: right;\n",
       "    }\n",
       "</style>\n",
       "<table border=\"1\" class=\"dataframe\">\n",
       "  <thead>\n",
       "    <tr style=\"text-align: right;\">\n",
       "      <th></th>\n",
       "      <th>num_reviews</th>\n",
       "      <th>level_enc</th>\n",
       "      <th>is_paid_False</th>\n",
       "      <th>is_paid_True</th>\n",
       "      <th>business_subject</th>\n",
       "      <th>graphic_subject</th>\n",
       "      <th>music_subject</th>\n",
       "      <th>webdev_subject</th>\n",
       "    </tr>\n",
       "    <tr>\n",
       "      <th>course_id</th>\n",
       "      <th></th>\n",
       "      <th></th>\n",
       "      <th></th>\n",
       "      <th></th>\n",
       "      <th></th>\n",
       "      <th></th>\n",
       "      <th></th>\n",
       "      <th></th>\n",
       "    </tr>\n",
       "  </thead>\n",
       "  <tbody>\n",
       "    <tr>\n",
       "      <th>629088</th>\n",
       "      <td>368</td>\n",
       "      <td>1</td>\n",
       "      <td>0</td>\n",
       "      <td>1</td>\n",
       "      <td>0</td>\n",
       "      <td>0</td>\n",
       "      <td>0</td>\n",
       "      <td>1</td>\n",
       "    </tr>\n",
       "    <tr>\n",
       "      <th>544556</th>\n",
       "      <td>1</td>\n",
       "      <td>0</td>\n",
       "      <td>0</td>\n",
       "      <td>1</td>\n",
       "      <td>1</td>\n",
       "      <td>0</td>\n",
       "      <td>0</td>\n",
       "      <td>0</td>\n",
       "    </tr>\n",
       "    <tr>\n",
       "      <th>219838</th>\n",
       "      <td>111</td>\n",
       "      <td>2</td>\n",
       "      <td>0</td>\n",
       "      <td>1</td>\n",
       "      <td>0</td>\n",
       "      <td>0</td>\n",
       "      <td>0</td>\n",
       "      <td>1</td>\n",
       "    </tr>\n",
       "    <tr>\n",
       "      <th>883394</th>\n",
       "      <td>14</td>\n",
       "      <td>0</td>\n",
       "      <td>0</td>\n",
       "      <td>1</td>\n",
       "      <td>1</td>\n",
       "      <td>0</td>\n",
       "      <td>0</td>\n",
       "      <td>0</td>\n",
       "    </tr>\n",
       "    <tr>\n",
       "      <th>735550</th>\n",
       "      <td>39</td>\n",
       "      <td>0</td>\n",
       "      <td>0</td>\n",
       "      <td>1</td>\n",
       "      <td>1</td>\n",
       "      <td>0</td>\n",
       "      <td>0</td>\n",
       "      <td>0</td>\n",
       "    </tr>\n",
       "  </tbody>\n",
       "</table>\n",
       "</div>"
      ],
      "text/plain": [
       "           num_reviews  level_enc  is_paid_False  is_paid_True  \\\n",
       "course_id                                                        \n",
       "629088     368          1          0              1              \n",
       "544556     1            0          0              1              \n",
       "219838     111          2          0              1              \n",
       "883394     14           0          0              1              \n",
       "735550     39           0          0              1              \n",
       "\n",
       "           business_subject  graphic_subject  music_subject  webdev_subject  \n",
       "course_id                                                                    \n",
       "629088     0                 0                0              1               \n",
       "544556     1                 0                0              0               \n",
       "219838     0                 0                0              1               \n",
       "883394     1                 0                0              0               \n",
       "735550     1                 0                0              0               "
      ]
     },
     "execution_count": 108,
     "metadata": {},
     "output_type": "execute_result"
    }
   ],
   "source": [
    "Xf_train.head()"
   ]
  },
  {
   "cell_type": "code",
   "execution_count": 109,
   "metadata": {},
   "outputs": [
    {
     "data": {
      "text/plain": [
       "num_reviews         368\n",
       "level_enc           1  \n",
       "is_paid_False       0  \n",
       "is_paid_True        1  \n",
       "business_subject    0  \n",
       "graphic_subject     0  \n",
       "music_subject       0  \n",
       "webdev_subject      1  \n",
       "Name: 629088, dtype: int64"
      ]
     },
     "execution_count": 109,
     "metadata": {},
     "output_type": "execute_result"
    }
   ],
   "source": [
    "Xf_train.iloc[0]"
   ]
  },
  {
   "cell_type": "markdown",
   "metadata": {},
   "source": [
    "# Modeling"
   ]
  },
  {
   "cell_type": "markdown",
   "metadata": {},
   "source": [
    "##### Dalam pembuatan model ini, akan dilimitasi bahwa model hanya digunakan sebagai alat untuk memprediksi/mendeteksi sukses tidak nya suatu course yang akan dibuka. \n",
    "##### Hasil prediksi akan berupa persentase kesuksesan / keberhasilan dari course yang akan di-*release* dengan feature-feature yang tersedia"
   ]
  },
  {
   "cell_type": "markdown",
   "metadata": {},
   "source": [
    "- Dalam penggunaan algoritma untuk membuat model **akan banyak classification report, confusion matrix, serta accuracy score dan roc_auc_score yang dihasilkan**. Oleh karena itu akan dijelaskan terlebih dahulu disini, sehingga ini dapat diterapkan ke setiap pembacaan classification report, confusion matrix, serta accuracy and roc_auc_score\n",
    "\n",
    "![ini image](https://i.ibb.co/jWc7mtX/Confusion-matrix.png)\n",
    "\n",
    "### Penjelasan Classification Report\n",
    "1. recall 0 (recall negatif) => merupakan jumlah prediksi benar di kelas negatif (TN) dibandingkan seluruh jumlah aktual negatif (TN + FP)\n",
    "2. recall 1 (recall positif) => merupakan jumlah prediksi benar di kelas positif (TP) dibandingkan seluruh jumlah aktual positif (TP + FN)\n",
    "3. precision 0 (precision negatif) => merupakan jumlah prediksi benar di kelas negatif (TN) dibandingkan seluruh jumlah tebakan negatif (TN + FN)\n",
    "4. precision 1 (precision positif) => merupakan jumlah prediksi benar di kelas positif (TP) dibandingkan seluruh jumlah tebakan positif (TP + FP)\n",
    "5. Accuracy => seluruh tebakan benar dibandingkan seluruh seluruh data\n",
    "\n",
    "- Dikarenakan dataset yang digunakan memiliki target yang balance, maka accuracy dapat juga di pertimbangkan sebagai penentu ketepatan model\n",
    "- Fokus model ialah untuk memperoleh recall negatif dan akurasi setinggi mungkin, sehingga False Positif dapat dihindari.\n",
    "- Alasan mengapa False Positif perlu dihindari dikarenakan:\n",
    "  - Course yang actualnya **SUKSES (1)** ditebak **TIDAK SUKSES(0)** (FN), perusahaan hanya rugi karena kehilangan kesempatan meraup keuntungan.\n",
    "  - Sedangkan ketika course yang actualnya **TIDAK SUKSES (0)** ditebak **SUKSES(1)**, maka perusahaan akan rugi karena kehilangan cost yang telah banyak dikeluarkan, apalagi jika lecture yang dikontrak banyak, maka mendapat kerugian juga karena sudang menggaji nya. Oleh karena itu kerugian ini lah yang harus dihindari\n",
    "- Artinya tujuan **pembuatan model akan dicari yang recall 0 dan accuracy nya tinggi**\n",
    "\n",
    "### Penjelasan Confusion Matrix\n",
    "1. TP ==> ialah ketika aktual positif ditebak positif\n",
    "2. FP ==> ialah ketika aktual negatif ditebak positif\n",
    "3. TN ==> ialah ketika aktual negatif ditebak negatif\n",
    "4. FN ==> ialah ketika aktual positif ditebak negatif\n"
   ]
  },
  {
   "cell_type": "markdown",
   "metadata": {},
   "source": [
    "### Model 1 - Logistic Regeression"
   ]
  },
  {
   "cell_type": "markdown",
   "metadata": {},
   "source": [
    "### 1. Base"
   ]
  },
  {
   "cell_type": "code",
   "execution_count": 110,
   "metadata": {},
   "outputs": [
    {
     "data": {
      "text/plain": [
       "LogisticRegression()"
      ]
     },
     "execution_count": 110,
     "metadata": {},
     "output_type": "execute_result"
    }
   ],
   "source": [
    "model_b1 = LogisticRegression()\n",
    "model_b1.fit(Xb_train,yb_train)"
   ]
  },
  {
   "cell_type": "code",
   "execution_count": 111,
   "metadata": {},
   "outputs": [],
   "source": [
    "yb1_pred = model_b1.predict(Xb_test)\n",
    "yb1_predt = model_b1.predict(Xb_train)"
   ]
  },
  {
   "cell_type": "code",
   "execution_count": 112,
   "metadata": {},
   "outputs": [
    {
     "name": "stdout",
     "output_type": "stream",
     "text": [
      "              precision    recall  f1-score   support\n",
      "\n",
      "           0       0.79      0.91      0.84       577\n",
      "           1       0.80      0.58      0.67       341\n",
      "\n",
      "    accuracy                           0.79       918\n",
      "   macro avg       0.79      0.75      0.76       918\n",
      "weighted avg       0.79      0.79      0.78       918\n",
      "\n"
     ]
    }
   ],
   "source": [
    "print(classification_report(yb_test, yb1_pred))"
   ]
  },
  {
   "cell_type": "code",
   "execution_count": 113,
   "metadata": {},
   "outputs": [
    {
     "name": "stdout",
     "output_type": "stream",
     "text": [
      "              precision    recall  f1-score   support\n",
      "\n",
      "           0       0.80      0.92      0.86      1729\n",
      "           1       0.81      0.62      0.71      1024\n",
      "\n",
      "    accuracy                           0.81      2753\n",
      "   macro avg       0.81      0.77      0.78      2753\n",
      "weighted avg       0.81      0.81      0.80      2753\n",
      "\n"
     ]
    }
   ],
   "source": [
    "print(classification_report(yb_train, yb1_predt))"
   ]
  },
  {
   "cell_type": "code",
   "execution_count": 114,
   "metadata": {},
   "outputs": [
    {
     "data": {
      "text/html": [
       "<div>\n",
       "<style scoped>\n",
       "    .dataframe tbody tr th:only-of-type {\n",
       "        vertical-align: middle;\n",
       "    }\n",
       "\n",
       "    .dataframe tbody tr th {\n",
       "        vertical-align: top;\n",
       "    }\n",
       "\n",
       "    .dataframe thead th {\n",
       "        text-align: right;\n",
       "    }\n",
       "</style>\n",
       "<table border=\"1\" class=\"dataframe\">\n",
       "  <thead>\n",
       "    <tr style=\"text-align: right;\">\n",
       "      <th></th>\n",
       "      <th>Pred 1</th>\n",
       "      <th>Pred 0</th>\n",
       "    </tr>\n",
       "  </thead>\n",
       "  <tbody>\n",
       "    <tr>\n",
       "      <th>Act 1</th>\n",
       "      <td>199</td>\n",
       "      <td>142</td>\n",
       "    </tr>\n",
       "    <tr>\n",
       "      <th>Act 0</th>\n",
       "      <td>51</td>\n",
       "      <td>526</td>\n",
       "    </tr>\n",
       "  </tbody>\n",
       "</table>\n",
       "</div>"
      ],
      "text/plain": [
       "       Pred 1  Pred 0\n",
       "Act 1  199     142   \n",
       "Act 0  51      526   "
      ]
     },
     "execution_count": 114,
     "metadata": {},
     "output_type": "execute_result"
    }
   ],
   "source": [
    "cbb1 = confusion_matrix(yb_test, yb1_pred, labels=[1, 0])\n",
    "cb_b1 = pd.DataFrame(cbb1,\n",
    "                 columns=['Pred 1', 'Pred 0'],\n",
    "                 index=['Act 1', 'Act 0'])\n",
    "cb_b1"
   ]
  },
  {
   "cell_type": "code",
   "execution_count": 115,
   "metadata": {},
   "outputs": [
    {
     "data": {
      "text/plain": [
       "0.7475947488526455"
      ]
     },
     "execution_count": 115,
     "metadata": {},
     "output_type": "execute_result"
    }
   ],
   "source": [
    "roc_auc_score(yb_test, yb1_pred)"
   ]
  },
  {
   "cell_type": "code",
   "execution_count": 116,
   "metadata": {},
   "outputs": [
    {
     "data": {
      "text/plain": [
       "array([1], dtype=int64)"
      ]
     },
     "execution_count": 116,
     "metadata": {},
     "output_type": "execute_result"
    }
   ],
   "source": [
    "model_b1.predict([Xb_test.iloc[100]])"
   ]
  },
  {
   "cell_type": "code",
   "execution_count": 117,
   "metadata": {},
   "outputs": [
    {
     "data": {
      "text/plain": [
       "1"
      ]
     },
     "execution_count": 117,
     "metadata": {},
     "output_type": "execute_result"
    }
   ],
   "source": [
    "yb_test.iloc[100]"
   ]
  },
  {
   "cell_type": "code",
   "execution_count": null,
   "metadata": {},
   "outputs": [],
   "source": []
  },
  {
   "cell_type": "markdown",
   "metadata": {},
   "source": [
    "### 2. dfix (with FE)"
   ]
  },
  {
   "cell_type": "code",
   "execution_count": 118,
   "metadata": {},
   "outputs": [
    {
     "data": {
      "text/plain": [
       "LogisticRegression()"
      ]
     },
     "execution_count": 118,
     "metadata": {},
     "output_type": "execute_result"
    }
   ],
   "source": [
    "model_f1 = LogisticRegression()\n",
    "model_f1.fit(Xf_train,yf_train)"
   ]
  },
  {
   "cell_type": "code",
   "execution_count": 119,
   "metadata": {},
   "outputs": [],
   "source": [
    "yf1_pred = model_f1.predict(Xf_test)\n",
    "yf1_predt = model_f1.predict(Xf_train)"
   ]
  },
  {
   "cell_type": "code",
   "execution_count": 120,
   "metadata": {},
   "outputs": [
    {
     "name": "stdout",
     "output_type": "stream",
     "text": [
      "              precision    recall  f1-score   support\n",
      "\n",
      "           0       0.79      0.91      0.85       577\n",
      "           1       0.79      0.59      0.68       341\n",
      "\n",
      "    accuracy                           0.79       918\n",
      "   macro avg       0.79      0.75      0.76       918\n",
      "weighted avg       0.79      0.79      0.78       918\n",
      "\n"
     ]
    }
   ],
   "source": [
    "print(classification_report(yf_test, yf1_pred))"
   ]
  },
  {
   "cell_type": "code",
   "execution_count": 121,
   "metadata": {},
   "outputs": [
    {
     "name": "stdout",
     "output_type": "stream",
     "text": [
      "              precision    recall  f1-score   support\n",
      "\n",
      "           0       0.80      0.91      0.85      1729\n",
      "           1       0.81      0.62      0.70      1024\n",
      "\n",
      "    accuracy                           0.80      2753\n",
      "   macro avg       0.80      0.77      0.78      2753\n",
      "weighted avg       0.80      0.80      0.80      2753\n",
      "\n"
     ]
    }
   ],
   "source": [
    "print(classification_report(yf_train, yf1_predt))"
   ]
  },
  {
   "cell_type": "code",
   "execution_count": 162,
   "metadata": {},
   "outputs": [
    {
     "data": {
      "text/html": [
       "<div>\n",
       "<style scoped>\n",
       "    .dataframe tbody tr th:only-of-type {\n",
       "        vertical-align: middle;\n",
       "    }\n",
       "\n",
       "    .dataframe tbody tr th {\n",
       "        vertical-align: top;\n",
       "    }\n",
       "\n",
       "    .dataframe thead th {\n",
       "        text-align: right;\n",
       "    }\n",
       "</style>\n",
       "<table border=\"1\" class=\"dataframe\">\n",
       "  <thead>\n",
       "    <tr style=\"text-align: right;\">\n",
       "      <th></th>\n",
       "      <th>Pred 1</th>\n",
       "      <th>Pred 0</th>\n",
       "    </tr>\n",
       "  </thead>\n",
       "  <tbody>\n",
       "    <tr>\n",
       "      <th>Act 1</th>\n",
       "      <td>202</td>\n",
       "      <td>139</td>\n",
       "    </tr>\n",
       "    <tr>\n",
       "      <th>Act 0</th>\n",
       "      <td>53</td>\n",
       "      <td>524</td>\n",
       "    </tr>\n",
       "  </tbody>\n",
       "</table>\n",
       "</div>"
      ],
      "text/plain": [
       "       Pred 1  Pred 0\n",
       "Act 1  202     139   \n",
       "Act 0  53      524   "
      ]
     },
     "execution_count": 162,
     "metadata": {},
     "output_type": "execute_result"
    }
   ],
   "source": [
    "cfb1 = confusion_matrix(yf_test, yf1_pred, labels=[1, 0])\n",
    "cf_b1 = pd.DataFrame(cfb1,\n",
    "                 columns=['Pred 1', 'Pred 0'],\n",
    "                 index=['Act 1', 'Act 0'])\n",
    "cf_b1"
   ]
  },
  {
   "cell_type": "code",
   "execution_count": 123,
   "metadata": {},
   "outputs": [
    {
     "data": {
      "text/plain": [
       "0.7502604735790848"
      ]
     },
     "execution_count": 123,
     "metadata": {},
     "output_type": "execute_result"
    }
   ],
   "source": [
    "roc_auc_score(yf_test, yf1_pred)"
   ]
  },
  {
   "cell_type": "markdown",
   "metadata": {},
   "source": [
    "### Model 2 - XGB Classifier"
   ]
  },
  {
   "cell_type": "markdown",
   "metadata": {},
   "source": [
    "### 1. Base"
   ]
  },
  {
   "cell_type": "code",
   "execution_count": 182,
   "metadata": {},
   "outputs": [
    {
     "data": {
      "text/plain": [
       "XGBClassifier()"
      ]
     },
     "execution_count": 182,
     "metadata": {},
     "output_type": "execute_result"
    }
   ],
   "source": [
    "model_b2 = XGBClassifier()\n",
    "model_b2.fit(Xb_train,yb_train)"
   ]
  },
  {
   "cell_type": "code",
   "execution_count": 183,
   "metadata": {},
   "outputs": [],
   "source": [
    "yb2_pred = model_b2.predict(Xb_test)\n",
    "yb2_predt = model_b2.predict(Xb_train)"
   ]
  },
  {
   "cell_type": "code",
   "execution_count": 184,
   "metadata": {},
   "outputs": [
    {
     "name": "stdout",
     "output_type": "stream",
     "text": [
      "              precision    recall  f1-score   support\n",
      "\n",
      "           0       0.83      0.89      0.86       577\n",
      "           1       0.79      0.70      0.74       341\n",
      "\n",
      "    accuracy                           0.82       918\n",
      "   macro avg       0.81      0.79      0.80       918\n",
      "weighted avg       0.82      0.82      0.82       918\n",
      "\n"
     ]
    }
   ],
   "source": [
    "print(classification_report(yb_test, yb2_pred))"
   ]
  },
  {
   "cell_type": "code",
   "execution_count": 185,
   "metadata": {},
   "outputs": [
    {
     "name": "stdout",
     "output_type": "stream",
     "text": [
      "              precision    recall  f1-score   support\n",
      "\n",
      "           0       0.85      0.90      0.88      1729\n",
      "           1       0.82      0.74      0.78      1024\n",
      "\n",
      "    accuracy                           0.84      2753\n",
      "   macro avg       0.84      0.82      0.83      2753\n",
      "weighted avg       0.84      0.84      0.84      2753\n",
      "\n"
     ]
    }
   ],
   "source": [
    "print(classification_report(yb_train, yb2_predt))"
   ]
  },
  {
   "cell_type": "code",
   "execution_count": 186,
   "metadata": {},
   "outputs": [
    {
     "data": {
      "text/html": [
       "<div>\n",
       "<style scoped>\n",
       "    .dataframe tbody tr th:only-of-type {\n",
       "        vertical-align: middle;\n",
       "    }\n",
       "\n",
       "    .dataframe tbody tr th {\n",
       "        vertical-align: top;\n",
       "    }\n",
       "\n",
       "    .dataframe thead th {\n",
       "        text-align: right;\n",
       "    }\n",
       "</style>\n",
       "<table border=\"1\" class=\"dataframe\">\n",
       "  <thead>\n",
       "    <tr style=\"text-align: right;\">\n",
       "      <th></th>\n",
       "      <th>Pred 1</th>\n",
       "      <th>Pred 0</th>\n",
       "    </tr>\n",
       "  </thead>\n",
       "  <tbody>\n",
       "    <tr>\n",
       "      <th>Act 1</th>\n",
       "      <td>237</td>\n",
       "      <td>104</td>\n",
       "    </tr>\n",
       "    <tr>\n",
       "      <th>Act 0</th>\n",
       "      <td>62</td>\n",
       "      <td>515</td>\n",
       "    </tr>\n",
       "  </tbody>\n",
       "</table>\n",
       "</div>"
      ],
      "text/plain": [
       "       Pred 1  Pred 0\n",
       "Act 1  237     104   \n",
       "Act 0  62      515   "
      ]
     },
     "execution_count": 186,
     "metadata": {},
     "output_type": "execute_result"
    }
   ],
   "source": [
    "cbb2 = confusion_matrix(yb_test, yb2_pred, labels=[1, 0])\n",
    "cb_b1 = pd.DataFrame(cbb2,\n",
    "                 columns=['Pred 1', 'Pred 0'],\n",
    "                 index=['Act 1', 'Act 0'])\n",
    "cb_b1"
   ]
  },
  {
   "cell_type": "code",
   "execution_count": 187,
   "metadata": {},
   "outputs": [
    {
     "data": {
      "text/plain": [
       "0.7937811615342784"
      ]
     },
     "execution_count": 187,
     "metadata": {},
     "output_type": "execute_result"
    }
   ],
   "source": [
    "roc_auc_score(yb_test, yb2_pred)"
   ]
  },
  {
   "cell_type": "markdown",
   "metadata": {},
   "source": [
    "### 2. dfix (with FE)"
   ]
  },
  {
   "cell_type": "code",
   "execution_count": 188,
   "metadata": {},
   "outputs": [
    {
     "data": {
      "text/plain": [
       "XGBClassifier()"
      ]
     },
     "execution_count": 188,
     "metadata": {},
     "output_type": "execute_result"
    }
   ],
   "source": [
    "model_f2 = XGBClassifier()\n",
    "model_f2.fit(Xf_train,yf_train)"
   ]
  },
  {
   "cell_type": "code",
   "execution_count": 189,
   "metadata": {},
   "outputs": [],
   "source": [
    "yf2_pred = model_f2.predict(Xf_test)\n",
    "yf2_predt = model_f2.predict(Xf_train)"
   ]
  },
  {
   "cell_type": "code",
   "execution_count": 190,
   "metadata": {},
   "outputs": [
    {
     "name": "stdout",
     "output_type": "stream",
     "text": [
      "              precision    recall  f1-score   support\n",
      "\n",
      "           0       0.83      0.88      0.85       577\n",
      "           1       0.77      0.70      0.74       341\n",
      "\n",
      "    accuracy                           0.81       918\n",
      "   macro avg       0.80      0.79      0.79       918\n",
      "weighted avg       0.81      0.81      0.81       918\n",
      "\n"
     ]
    }
   ],
   "source": [
    "print(classification_report(yf_test, yf2_pred))"
   ]
  },
  {
   "cell_type": "code",
   "execution_count": 191,
   "metadata": {},
   "outputs": [
    {
     "name": "stdout",
     "output_type": "stream",
     "text": [
      "              precision    recall  f1-score   support\n",
      "\n",
      "           0       0.84      0.88      0.86      1729\n",
      "           1       0.79      0.72      0.75      1024\n",
      "\n",
      "    accuracy                           0.82      2753\n",
      "   macro avg       0.81      0.80      0.81      2753\n",
      "weighted avg       0.82      0.82      0.82      2753\n",
      "\n"
     ]
    }
   ],
   "source": [
    "print(classification_report(yf_train, yf2_predt))"
   ]
  },
  {
   "cell_type": "code",
   "execution_count": 192,
   "metadata": {},
   "outputs": [
    {
     "data": {
      "text/html": [
       "<div>\n",
       "<style scoped>\n",
       "    .dataframe tbody tr th:only-of-type {\n",
       "        vertical-align: middle;\n",
       "    }\n",
       "\n",
       "    .dataframe tbody tr th {\n",
       "        vertical-align: top;\n",
       "    }\n",
       "\n",
       "    .dataframe thead th {\n",
       "        text-align: right;\n",
       "    }\n",
       "</style>\n",
       "<table border=\"1\" class=\"dataframe\">\n",
       "  <thead>\n",
       "    <tr style=\"text-align: right;\">\n",
       "      <th></th>\n",
       "      <th>Pred 1</th>\n",
       "      <th>Pred 0</th>\n",
       "    </tr>\n",
       "  </thead>\n",
       "  <tbody>\n",
       "    <tr>\n",
       "      <th>Act 1</th>\n",
       "      <td>202</td>\n",
       "      <td>139</td>\n",
       "    </tr>\n",
       "    <tr>\n",
       "      <th>Act 0</th>\n",
       "      <td>53</td>\n",
       "      <td>524</td>\n",
       "    </tr>\n",
       "  </tbody>\n",
       "</table>\n",
       "</div>"
      ],
      "text/plain": [
       "       Pred 1  Pred 0\n",
       "Act 1  202     139   \n",
       "Act 0  53      524   "
      ]
     },
     "execution_count": 192,
     "metadata": {},
     "output_type": "execute_result"
    }
   ],
   "source": [
    "cfb2 = confusion_matrix(yf_test, yf2_pred, labels=[1, 0])\n",
    "cf_b2 = pd.DataFrame(cfb2,\n",
    "                 columns=['Pred 1', 'Pred 0'],\n",
    "                 index=['Act 1', 'Act 0'])\n",
    "cf_b1"
   ]
  },
  {
   "cell_type": "code",
   "execution_count": 193,
   "metadata": {},
   "outputs": [
    {
     "data": {
      "text/plain": [
       "0.7895144772485858"
      ]
     },
     "execution_count": 193,
     "metadata": {},
     "output_type": "execute_result"
    }
   ],
   "source": [
    "roc_auc_score(yf_test, yf2_pred)"
   ]
  },
  {
   "cell_type": "markdown",
   "metadata": {},
   "source": [
    "### Model 3 - KNN Classifier"
   ]
  },
  {
   "cell_type": "markdown",
   "metadata": {},
   "source": [
    "### 1. Base"
   ]
  },
  {
   "cell_type": "code",
   "execution_count": 194,
   "metadata": {},
   "outputs": [
    {
     "data": {
      "text/plain": [
       "KNeighborsClassifier()"
      ]
     },
     "execution_count": 194,
     "metadata": {},
     "output_type": "execute_result"
    }
   ],
   "source": [
    "model_b3 = KNeighborsClassifier()\n",
    "model_b3.fit(Xb_train,yb_train)"
   ]
  },
  {
   "cell_type": "code",
   "execution_count": 195,
   "metadata": {},
   "outputs": [],
   "source": [
    "yb3_pred = model_b3.predict(Xb_test)\n",
    "yb3_predt = model_b3.predict(Xb_train)"
   ]
  },
  {
   "cell_type": "code",
   "execution_count": 196,
   "metadata": {},
   "outputs": [
    {
     "name": "stdout",
     "output_type": "stream",
     "text": [
      "              precision    recall  f1-score   support\n",
      "\n",
      "           0       0.81      0.87      0.84       577\n",
      "           1       0.74      0.65      0.69       341\n",
      "\n",
      "    accuracy                           0.79       918\n",
      "   macro avg       0.77      0.76      0.76       918\n",
      "weighted avg       0.78      0.79      0.78       918\n",
      "\n"
     ]
    }
   ],
   "source": [
    "print(classification_report(yb_test, yb3_pred))"
   ]
  },
  {
   "cell_type": "code",
   "execution_count": 197,
   "metadata": {},
   "outputs": [
    {
     "name": "stdout",
     "output_type": "stream",
     "text": [
      "              precision    recall  f1-score   support\n",
      "\n",
      "           0       0.86      0.90      0.88      1729\n",
      "           1       0.81      0.74      0.78      1024\n",
      "\n",
      "    accuracy                           0.84      2753\n",
      "   macro avg       0.83      0.82      0.83      2753\n",
      "weighted avg       0.84      0.84      0.84      2753\n",
      "\n"
     ]
    }
   ],
   "source": [
    "print(classification_report(yb_train, yb3_predt))"
   ]
  },
  {
   "cell_type": "code",
   "execution_count": 198,
   "metadata": {},
   "outputs": [
    {
     "data": {
      "text/html": [
       "<div>\n",
       "<style scoped>\n",
       "    .dataframe tbody tr th:only-of-type {\n",
       "        vertical-align: middle;\n",
       "    }\n",
       "\n",
       "    .dataframe tbody tr th {\n",
       "        vertical-align: top;\n",
       "    }\n",
       "\n",
       "    .dataframe thead th {\n",
       "        text-align: right;\n",
       "    }\n",
       "</style>\n",
       "<table border=\"1\" class=\"dataframe\">\n",
       "  <thead>\n",
       "    <tr style=\"text-align: right;\">\n",
       "      <th></th>\n",
       "      <th>Pred 1</th>\n",
       "      <th>Pred 0</th>\n",
       "    </tr>\n",
       "  </thead>\n",
       "  <tbody>\n",
       "    <tr>\n",
       "      <th>Act 1</th>\n",
       "      <td>220</td>\n",
       "      <td>121</td>\n",
       "    </tr>\n",
       "    <tr>\n",
       "      <th>Act 0</th>\n",
       "      <td>76</td>\n",
       "      <td>501</td>\n",
       "    </tr>\n",
       "  </tbody>\n",
       "</table>\n",
       "</div>"
      ],
      "text/plain": [
       "       Pred 1  Pred 0\n",
       "Act 1  220     121   \n",
       "Act 0  76      501   "
      ]
     },
     "execution_count": 198,
     "metadata": {},
     "output_type": "execute_result"
    }
   ],
   "source": [
    "cbb3 = confusion_matrix(yb_test, yb3_pred, labels=[1, 0])\n",
    "cb_b3 = pd.DataFrame(cbb3,\n",
    "                 columns=['Pred 1', 'Pred 0'],\n",
    "                 index=['Act 1', 'Act 0'])\n",
    "cb_b3"
   ]
  },
  {
   "cell_type": "code",
   "execution_count": 199,
   "metadata": {},
   "outputs": [
    {
     "data": {
      "text/plain": [
       "0.7567227595460391"
      ]
     },
     "execution_count": 199,
     "metadata": {},
     "output_type": "execute_result"
    }
   ],
   "source": [
    "roc_auc_score(yb_test, yb3_pred)"
   ]
  },
  {
   "cell_type": "markdown",
   "metadata": {},
   "source": [
    "### 2. dfix (with FE)"
   ]
  },
  {
   "cell_type": "code",
   "execution_count": 200,
   "metadata": {},
   "outputs": [
    {
     "data": {
      "text/plain": [
       "KNeighborsClassifier()"
      ]
     },
     "execution_count": 200,
     "metadata": {},
     "output_type": "execute_result"
    }
   ],
   "source": [
    "model_f3 = KNeighborsClassifier()\n",
    "model_f3.fit(Xf_train,yf_train)"
   ]
  },
  {
   "cell_type": "code",
   "execution_count": 201,
   "metadata": {},
   "outputs": [],
   "source": [
    "yf3_pred = model_f3.predict(Xf_test)\n",
    "yf3_predt = model_f3.predict(Xf_train)"
   ]
  },
  {
   "cell_type": "code",
   "execution_count": 202,
   "metadata": {},
   "outputs": [
    {
     "name": "stdout",
     "output_type": "stream",
     "text": [
      "              precision    recall  f1-score   support\n",
      "\n",
      "           0       0.83      0.83      0.83       577\n",
      "           1       0.71      0.70      0.71       341\n",
      "\n",
      "    accuracy                           0.78       918\n",
      "   macro avg       0.77      0.77      0.77       918\n",
      "weighted avg       0.78      0.78      0.78       918\n",
      "\n"
     ]
    }
   ],
   "source": [
    "print(classification_report(yf_test, yf3_pred))"
   ]
  },
  {
   "cell_type": "code",
   "execution_count": 203,
   "metadata": {},
   "outputs": [
    {
     "name": "stdout",
     "output_type": "stream",
     "text": [
      "              precision    recall  f1-score   support\n",
      "\n",
      "           0       0.86      0.88      0.87      1729\n",
      "           1       0.79      0.76      0.78      1024\n",
      "\n",
      "    accuracy                           0.84      2753\n",
      "   macro avg       0.83      0.82      0.82      2753\n",
      "weighted avg       0.83      0.84      0.83      2753\n",
      "\n"
     ]
    }
   ],
   "source": [
    "print(classification_report(yf_train, yf3_predt))"
   ]
  },
  {
   "cell_type": "code",
   "execution_count": 204,
   "metadata": {},
   "outputs": [
    {
     "data": {
      "text/html": [
       "<div>\n",
       "<style scoped>\n",
       "    .dataframe tbody tr th:only-of-type {\n",
       "        vertical-align: middle;\n",
       "    }\n",
       "\n",
       "    .dataframe tbody tr th {\n",
       "        vertical-align: top;\n",
       "    }\n",
       "\n",
       "    .dataframe thead th {\n",
       "        text-align: right;\n",
       "    }\n",
       "</style>\n",
       "<table border=\"1\" class=\"dataframe\">\n",
       "  <thead>\n",
       "    <tr style=\"text-align: right;\">\n",
       "      <th></th>\n",
       "      <th>Pred 1</th>\n",
       "      <th>Pred 0</th>\n",
       "    </tr>\n",
       "  </thead>\n",
       "  <tbody>\n",
       "    <tr>\n",
       "      <th>Act 1</th>\n",
       "      <td>240</td>\n",
       "      <td>101</td>\n",
       "    </tr>\n",
       "    <tr>\n",
       "      <th>Act 0</th>\n",
       "      <td>99</td>\n",
       "      <td>478</td>\n",
       "    </tr>\n",
       "  </tbody>\n",
       "</table>\n",
       "</div>"
      ],
      "text/plain": [
       "       Pred 1  Pred 0\n",
       "Act 1  240     101   \n",
       "Act 0  99      478   "
      ]
     },
     "execution_count": 204,
     "metadata": {},
     "output_type": "execute_result"
    }
   ],
   "source": [
    "cfb3 = confusion_matrix(yf_test, yf3_pred, labels=[1, 0])\n",
    "cf_b3 = pd.DataFrame(cfb3,\n",
    "                 columns=['Pred 1', 'Pred 0'],\n",
    "                 index=['Act 1', 'Act 0'])\n",
    "cf_b3"
   ]
  },
  {
   "cell_type": "code",
   "execution_count": 205,
   "metadata": {},
   "outputs": [
    {
     "data": {
      "text/plain": [
       "0.7661175968326412"
      ]
     },
     "execution_count": 205,
     "metadata": {},
     "output_type": "execute_result"
    }
   ],
   "source": [
    "roc_auc_score(yf_test, yf3_pred)"
   ]
  },
  {
   "cell_type": "markdown",
   "metadata": {},
   "source": [
    "# Preprocessing (Polynomial & Scalling)"
   ]
  },
  {
   "cell_type": "markdown",
   "metadata": {},
   "source": [
    "### A. Polynomial"
   ]
  },
  {
   "cell_type": "code",
   "execution_count": 206,
   "metadata": {},
   "outputs": [],
   "source": [
    "poly = PolynomialFeatures(3, include_bias=False)"
   ]
  },
  {
   "cell_type": "code",
   "execution_count": 207,
   "metadata": {},
   "outputs": [],
   "source": [
    "Xb_poly = poly.fit_transform(Xb_train)\n",
    "Xf_poly = poly.fit_transform(Xf_train)\n",
    "Xb_testp = poly.fit_transform(Xb_test)\n",
    "Xf_testp = poly.fit_transform(Xf_test)"
   ]
  },
  {
   "cell_type": "markdown",
   "metadata": {},
   "source": [
    "### LogPoly"
   ]
  },
  {
   "cell_type": "markdown",
   "metadata": {},
   "source": [
    "### 1. Base Poly"
   ]
  },
  {
   "cell_type": "code",
   "execution_count": 208,
   "metadata": {},
   "outputs": [
    {
     "data": {
      "text/plain": [
       "LogisticRegression()"
      ]
     },
     "execution_count": 208,
     "metadata": {},
     "output_type": "execute_result"
    }
   ],
   "source": [
    "model_b1.fit(Xb_poly, yb_train)"
   ]
  },
  {
   "cell_type": "code",
   "execution_count": 209,
   "metadata": {},
   "outputs": [],
   "source": [
    "ybp_pred = model_b1.predict(Xb_testp)\n",
    "ybp_predt = model_b1.predict(Xb_poly)"
   ]
  },
  {
   "cell_type": "code",
   "execution_count": 210,
   "metadata": {},
   "outputs": [
    {
     "name": "stdout",
     "output_type": "stream",
     "text": [
      "              precision    recall  f1-score   support\n",
      "\n",
      "           0       0.78      0.94      0.85       577\n",
      "           1       0.85      0.54      0.66       341\n",
      "\n",
      "    accuracy                           0.79       918\n",
      "   macro avg       0.81      0.74      0.76       918\n",
      "weighted avg       0.80      0.79      0.78       918\n",
      "\n"
     ]
    }
   ],
   "source": [
    "print(classification_report(yb_test, ybp_pred))"
   ]
  },
  {
   "cell_type": "code",
   "execution_count": 211,
   "metadata": {},
   "outputs": [
    {
     "name": "stdout",
     "output_type": "stream",
     "text": [
      "              precision    recall  f1-score   support\n",
      "\n",
      "           0       0.79      0.94      0.86      1729\n",
      "           1       0.86      0.58      0.69      1024\n",
      "\n",
      "    accuracy                           0.81      2753\n",
      "   macro avg       0.82      0.76      0.77      2753\n",
      "weighted avg       0.81      0.81      0.80      2753\n",
      "\n"
     ]
    }
   ],
   "source": [
    "print(classification_report(yb_train, ybp_predt))"
   ]
  },
  {
   "cell_type": "code",
   "execution_count": 212,
   "metadata": {},
   "outputs": [
    {
     "data": {
      "text/html": [
       "<div>\n",
       "<style scoped>\n",
       "    .dataframe tbody tr th:only-of-type {\n",
       "        vertical-align: middle;\n",
       "    }\n",
       "\n",
       "    .dataframe tbody tr th {\n",
       "        vertical-align: top;\n",
       "    }\n",
       "\n",
       "    .dataframe thead th {\n",
       "        text-align: right;\n",
       "    }\n",
       "</style>\n",
       "<table border=\"1\" class=\"dataframe\">\n",
       "  <thead>\n",
       "    <tr style=\"text-align: right;\">\n",
       "      <th></th>\n",
       "      <th>Pred 1</th>\n",
       "      <th>Pred 0</th>\n",
       "    </tr>\n",
       "  </thead>\n",
       "  <tbody>\n",
       "    <tr>\n",
       "      <th>Act 1</th>\n",
       "      <td>184</td>\n",
       "      <td>157</td>\n",
       "    </tr>\n",
       "    <tr>\n",
       "      <th>Act 0</th>\n",
       "      <td>33</td>\n",
       "      <td>544</td>\n",
       "    </tr>\n",
       "  </tbody>\n",
       "</table>\n",
       "</div>"
      ],
      "text/plain": [
       "       Pred 1  Pred 0\n",
       "Act 1  184     157   \n",
       "Act 0  33      544   "
      ]
     },
     "execution_count": 212,
     "metadata": {},
     "output_type": "execute_result"
    }
   ],
   "source": [
    "cbblp = confusion_matrix(yb_test, ybp_pred, labels=[1, 0])\n",
    "cb_blp = pd.DataFrame(cbblp,\n",
    "                 columns=['Pred 1', 'Pred 0'],\n",
    "                 index=['Act 1', 'Act 0'])\n",
    "cb_blp"
   ]
  },
  {
   "cell_type": "markdown",
   "metadata": {},
   "source": [
    "### 2. dfix Poly"
   ]
  },
  {
   "cell_type": "code",
   "execution_count": 213,
   "metadata": {},
   "outputs": [
    {
     "data": {
      "text/plain": [
       "LogisticRegression()"
      ]
     },
     "execution_count": 213,
     "metadata": {},
     "output_type": "execute_result"
    }
   ],
   "source": [
    "model_f1.fit(Xf_poly, yf_train)"
   ]
  },
  {
   "cell_type": "code",
   "execution_count": 214,
   "metadata": {},
   "outputs": [],
   "source": [
    "yfp_pred = model_f1.predict(Xf_testp)\n",
    "yfp_predt = model_f1.predict(Xf_poly)"
   ]
  },
  {
   "cell_type": "code",
   "execution_count": 215,
   "metadata": {},
   "outputs": [
    {
     "name": "stdout",
     "output_type": "stream",
     "text": [
      "              precision    recall  f1-score   support\n",
      "\n",
      "           0       0.87      0.76      0.81       577\n",
      "           1       0.67      0.81      0.73       341\n",
      "\n",
      "    accuracy                           0.78       918\n",
      "   macro avg       0.77      0.79      0.77       918\n",
      "weighted avg       0.80      0.78      0.78       918\n",
      "\n"
     ]
    }
   ],
   "source": [
    "print(classification_report(yf_test, yfp_pred))"
   ]
  },
  {
   "cell_type": "code",
   "execution_count": 216,
   "metadata": {},
   "outputs": [
    {
     "name": "stdout",
     "output_type": "stream",
     "text": [
      "              precision    recall  f1-score   support\n",
      "\n",
      "           0       0.86      0.78      0.82      1729\n",
      "           1       0.68      0.79      0.73      1024\n",
      "\n",
      "    accuracy                           0.78      2753\n",
      "   macro avg       0.77      0.79      0.78      2753\n",
      "weighted avg       0.80      0.78      0.79      2753\n",
      "\n"
     ]
    }
   ],
   "source": [
    "print(classification_report(yf_train, yfp_predt))"
   ]
  },
  {
   "cell_type": "code",
   "execution_count": 217,
   "metadata": {},
   "outputs": [
    {
     "data": {
      "text/html": [
       "<div>\n",
       "<style scoped>\n",
       "    .dataframe tbody tr th:only-of-type {\n",
       "        vertical-align: middle;\n",
       "    }\n",
       "\n",
       "    .dataframe tbody tr th {\n",
       "        vertical-align: top;\n",
       "    }\n",
       "\n",
       "    .dataframe thead th {\n",
       "        text-align: right;\n",
       "    }\n",
       "</style>\n",
       "<table border=\"1\" class=\"dataframe\">\n",
       "  <thead>\n",
       "    <tr style=\"text-align: right;\">\n",
       "      <th></th>\n",
       "      <th>Pred 1</th>\n",
       "      <th>Pred 0</th>\n",
       "    </tr>\n",
       "  </thead>\n",
       "  <tbody>\n",
       "    <tr>\n",
       "      <th>Act 1</th>\n",
       "      <td>277</td>\n",
       "      <td>64</td>\n",
       "    </tr>\n",
       "    <tr>\n",
       "      <th>Act 0</th>\n",
       "      <td>138</td>\n",
       "      <td>439</td>\n",
       "    </tr>\n",
       "  </tbody>\n",
       "</table>\n",
       "</div>"
      ],
      "text/plain": [
       "       Pred 1  Pred 0\n",
       "Act 1  277     64    \n",
       "Act 0  138     439   "
      ]
     },
     "execution_count": 217,
     "metadata": {},
     "output_type": "execute_result"
    }
   ],
   "source": [
    "cfblp = confusion_matrix(yf_test, yfp_pred, labels=[1, 0])\n",
    "cf_blp = pd.DataFrame(cfblp,\n",
    "                 columns=['Pred 1', 'Pred 0'],\n",
    "                 index=['Act 1', 'Act 0'])\n",
    "cf_blp"
   ]
  },
  {
   "cell_type": "markdown",
   "metadata": {},
   "source": [
    "### XGB Poly"
   ]
  },
  {
   "cell_type": "markdown",
   "metadata": {},
   "source": [
    "### 1. Base Poly"
   ]
  },
  {
   "cell_type": "code",
   "execution_count": 218,
   "metadata": {},
   "outputs": [
    {
     "data": {
      "text/plain": [
       "XGBClassifier()"
      ]
     },
     "execution_count": 218,
     "metadata": {},
     "output_type": "execute_result"
    }
   ],
   "source": [
    "model_b2.fit(Xb_poly, yb_train)"
   ]
  },
  {
   "cell_type": "code",
   "execution_count": 219,
   "metadata": {},
   "outputs": [],
   "source": [
    "ybxp_pred = model_b2.predict(Xb_testp)\n",
    "ybxp_predt = model_b2.predict(Xb_poly)"
   ]
  },
  {
   "cell_type": "code",
   "execution_count": 220,
   "metadata": {},
   "outputs": [
    {
     "name": "stdout",
     "output_type": "stream",
     "text": [
      "              precision    recall  f1-score   support\n",
      "\n",
      "           0       0.82      0.88      0.85       577\n",
      "           1       0.77      0.68      0.72       341\n",
      "\n",
      "    accuracy                           0.81       918\n",
      "   macro avg       0.80      0.78      0.79       918\n",
      "weighted avg       0.80      0.81      0.80       918\n",
      "\n"
     ]
    }
   ],
   "source": [
    "print(classification_report(yb_test, ybxp_pred))"
   ]
  },
  {
   "cell_type": "code",
   "execution_count": 221,
   "metadata": {},
   "outputs": [
    {
     "name": "stdout",
     "output_type": "stream",
     "text": [
      "              precision    recall  f1-score   support\n",
      "\n",
      "           0       0.87      0.91      0.89      1729\n",
      "           1       0.83      0.77      0.80      1024\n",
      "\n",
      "    accuracy                           0.86      2753\n",
      "   macro avg       0.85      0.84      0.84      2753\n",
      "weighted avg       0.86      0.86      0.86      2753\n",
      "\n"
     ]
    }
   ],
   "source": [
    "print(classification_report(yb_train, ybxp_predt))"
   ]
  },
  {
   "cell_type": "code",
   "execution_count": 222,
   "metadata": {},
   "outputs": [
    {
     "data": {
      "text/html": [
       "<div>\n",
       "<style scoped>\n",
       "    .dataframe tbody tr th:only-of-type {\n",
       "        vertical-align: middle;\n",
       "    }\n",
       "\n",
       "    .dataframe tbody tr th {\n",
       "        vertical-align: top;\n",
       "    }\n",
       "\n",
       "    .dataframe thead th {\n",
       "        text-align: right;\n",
       "    }\n",
       "</style>\n",
       "<table border=\"1\" class=\"dataframe\">\n",
       "  <thead>\n",
       "    <tr style=\"text-align: right;\">\n",
       "      <th></th>\n",
       "      <th>Pred 1</th>\n",
       "      <th>Pred 0</th>\n",
       "    </tr>\n",
       "  </thead>\n",
       "  <tbody>\n",
       "    <tr>\n",
       "      <th>Act 1</th>\n",
       "      <td>233</td>\n",
       "      <td>108</td>\n",
       "    </tr>\n",
       "    <tr>\n",
       "      <th>Act 0</th>\n",
       "      <td>69</td>\n",
       "      <td>508</td>\n",
       "    </tr>\n",
       "  </tbody>\n",
       "</table>\n",
       "</div>"
      ],
      "text/plain": [
       "       Pred 1  Pred 0\n",
       "Act 1  233     108   \n",
       "Act 0  69      508   "
      ]
     },
     "execution_count": 222,
     "metadata": {},
     "output_type": "execute_result"
    }
   ],
   "source": [
    "cbxp = confusion_matrix(yb_test, ybxp_pred, labels=[1, 0])\n",
    "cb_xp = pd.DataFrame(cbxp,\n",
    "                 columns=['Pred 1', 'Pred 0'],\n",
    "                 index=['Act 1', 'Act 0'])\n",
    "cb_xp"
   ]
  },
  {
   "cell_type": "markdown",
   "metadata": {},
   "source": [
    "### 2. dfix Poly"
   ]
  },
  {
   "cell_type": "code",
   "execution_count": 223,
   "metadata": {},
   "outputs": [
    {
     "data": {
      "text/plain": [
       "XGBClassifier()"
      ]
     },
     "execution_count": 223,
     "metadata": {},
     "output_type": "execute_result"
    }
   ],
   "source": [
    "model_f2.fit(Xf_poly, yf_train)"
   ]
  },
  {
   "cell_type": "code",
   "execution_count": 224,
   "metadata": {},
   "outputs": [],
   "source": [
    "yfxp_pred = model_f2.predict(Xf_testp)\n",
    "yfxp_predt = model_f2.predict(Xf_poly)"
   ]
  },
  {
   "cell_type": "code",
   "execution_count": 225,
   "metadata": {},
   "outputs": [
    {
     "name": "stdout",
     "output_type": "stream",
     "text": [
      "              precision    recall  f1-score   support\n",
      "\n",
      "           0       0.82      0.87      0.85       577\n",
      "           1       0.76      0.68      0.72       341\n",
      "\n",
      "    accuracy                           0.80       918\n",
      "   macro avg       0.79      0.78      0.78       918\n",
      "weighted avg       0.80      0.80      0.80       918\n",
      "\n"
     ]
    }
   ],
   "source": [
    "print(classification_report(yf_test, yfxp_pred))"
   ]
  },
  {
   "cell_type": "code",
   "execution_count": 226,
   "metadata": {},
   "outputs": [
    {
     "name": "stdout",
     "output_type": "stream",
     "text": [
      "              precision    recall  f1-score   support\n",
      "\n",
      "           0       0.84      0.90      0.87      1729\n",
      "           1       0.81      0.72      0.76      1024\n",
      "\n",
      "    accuracy                           0.83      2753\n",
      "   macro avg       0.82      0.81      0.82      2753\n",
      "weighted avg       0.83      0.83      0.83      2753\n",
      "\n"
     ]
    }
   ],
   "source": [
    "print(classification_report(yf_train, yfxp_predt))"
   ]
  },
  {
   "cell_type": "code",
   "execution_count": 227,
   "metadata": {},
   "outputs": [
    {
     "data": {
      "text/html": [
       "<div>\n",
       "<style scoped>\n",
       "    .dataframe tbody tr th:only-of-type {\n",
       "        vertical-align: middle;\n",
       "    }\n",
       "\n",
       "    .dataframe tbody tr th {\n",
       "        vertical-align: top;\n",
       "    }\n",
       "\n",
       "    .dataframe thead th {\n",
       "        text-align: right;\n",
       "    }\n",
       "</style>\n",
       "<table border=\"1\" class=\"dataframe\">\n",
       "  <thead>\n",
       "    <tr style=\"text-align: right;\">\n",
       "      <th></th>\n",
       "      <th>Pred 1</th>\n",
       "      <th>Pred 0</th>\n",
       "    </tr>\n",
       "  </thead>\n",
       "  <tbody>\n",
       "    <tr>\n",
       "      <th>Act 1</th>\n",
       "      <td>233</td>\n",
       "      <td>108</td>\n",
       "    </tr>\n",
       "    <tr>\n",
       "      <th>Act 0</th>\n",
       "      <td>74</td>\n",
       "      <td>503</td>\n",
       "    </tr>\n",
       "  </tbody>\n",
       "</table>\n",
       "</div>"
      ],
      "text/plain": [
       "       Pred 1  Pred 0\n",
       "Act 1  233     108   \n",
       "Act 0  74      503   "
      ]
     },
     "execution_count": 227,
     "metadata": {},
     "output_type": "execute_result"
    }
   ],
   "source": [
    "cfxp = confusion_matrix(yf_test, yfxp_pred, labels=[1, 0])\n",
    "cf_xp = pd.DataFrame(cfxp,\n",
    "                 columns=['Pred 1', 'Pred 0'],\n",
    "                 index=['Act 1', 'Act 0'])\n",
    "cf_xp"
   ]
  },
  {
   "cell_type": "markdown",
   "metadata": {},
   "source": [
    "### KNN Poly"
   ]
  },
  {
   "cell_type": "markdown",
   "metadata": {},
   "source": [
    "### 1. Base Poly"
   ]
  },
  {
   "cell_type": "code",
   "execution_count": 228,
   "metadata": {},
   "outputs": [
    {
     "data": {
      "text/plain": [
       "KNeighborsClassifier()"
      ]
     },
     "execution_count": 228,
     "metadata": {},
     "output_type": "execute_result"
    }
   ],
   "source": [
    "model_b3.fit(Xb_poly, yb_train)"
   ]
  },
  {
   "cell_type": "code",
   "execution_count": 230,
   "metadata": {},
   "outputs": [],
   "source": [
    "ybkp_pred = model_b3.predict(Xb_testp)\n",
    "ybkp_predt = model_b3.predict(Xb_poly)"
   ]
  },
  {
   "cell_type": "code",
   "execution_count": 231,
   "metadata": {},
   "outputs": [
    {
     "name": "stdout",
     "output_type": "stream",
     "text": [
      "              precision    recall  f1-score   support\n",
      "\n",
      "           0       0.79      0.86      0.82       577\n",
      "           1       0.72      0.62      0.67       341\n",
      "\n",
      "    accuracy                           0.77       918\n",
      "   macro avg       0.76      0.74      0.75       918\n",
      "weighted avg       0.77      0.77      0.77       918\n",
      "\n"
     ]
    }
   ],
   "source": [
    "print(classification_report(yb_test, ybkp_pred))"
   ]
  },
  {
   "cell_type": "code",
   "execution_count": 232,
   "metadata": {},
   "outputs": [
    {
     "name": "stdout",
     "output_type": "stream",
     "text": [
      "              precision    recall  f1-score   support\n",
      "\n",
      "           0       0.86      0.90      0.88      1729\n",
      "           1       0.81      0.75      0.78      1024\n",
      "\n",
      "    accuracy                           0.84      2753\n",
      "   macro avg       0.84      0.82      0.83      2753\n",
      "weighted avg       0.84      0.84      0.84      2753\n",
      "\n"
     ]
    }
   ],
   "source": [
    "print(classification_report(yb_train, ybkp_predt))"
   ]
  },
  {
   "cell_type": "code",
   "execution_count": 244,
   "metadata": {},
   "outputs": [
    {
     "data": {
      "text/html": [
       "<div>\n",
       "<style scoped>\n",
       "    .dataframe tbody tr th:only-of-type {\n",
       "        vertical-align: middle;\n",
       "    }\n",
       "\n",
       "    .dataframe tbody tr th {\n",
       "        vertical-align: top;\n",
       "    }\n",
       "\n",
       "    .dataframe thead th {\n",
       "        text-align: right;\n",
       "    }\n",
       "</style>\n",
       "<table border=\"1\" class=\"dataframe\">\n",
       "  <thead>\n",
       "    <tr style=\"text-align: right;\">\n",
       "      <th></th>\n",
       "      <th>Pred 1</th>\n",
       "      <th>Pred 0</th>\n",
       "    </tr>\n",
       "  </thead>\n",
       "  <tbody>\n",
       "    <tr>\n",
       "      <th>Act 1</th>\n",
       "      <td>210</td>\n",
       "      <td>131</td>\n",
       "    </tr>\n",
       "    <tr>\n",
       "      <th>Act 0</th>\n",
       "      <td>80</td>\n",
       "      <td>497</td>\n",
       "    </tr>\n",
       "  </tbody>\n",
       "</table>\n",
       "</div>"
      ],
      "text/plain": [
       "       Pred 1  Pred 0\n",
       "Act 1  210     131   \n",
       "Act 0  80      497   "
      ]
     },
     "execution_count": 244,
     "metadata": {},
     "output_type": "execute_result"
    }
   ],
   "source": [
    "cbkp = confusion_matrix(yb_test, ybkp_pred, labels=[1, 0])\n",
    "cb_kp = pd.DataFrame(cbkp,\n",
    "                 columns=['Pred 1', 'Pred 0'],\n",
    "                 index=['Act 1', 'Act 0'])\n",
    "cb_kp"
   ]
  },
  {
   "cell_type": "markdown",
   "metadata": {},
   "source": [
    "### 2. dfix Poly"
   ]
  },
  {
   "cell_type": "code",
   "execution_count": 235,
   "metadata": {},
   "outputs": [
    {
     "data": {
      "text/plain": [
       "KNeighborsClassifier()"
      ]
     },
     "execution_count": 235,
     "metadata": {},
     "output_type": "execute_result"
    }
   ],
   "source": [
    "model_f3.fit(Xf_poly, yf_train)"
   ]
  },
  {
   "cell_type": "code",
   "execution_count": 238,
   "metadata": {},
   "outputs": [],
   "source": [
    "yfkp_pred = model_f3.predict(Xf_testp)\n",
    "yfkp_predt = model_f3.predict(Xf_poly)"
   ]
  },
  {
   "cell_type": "code",
   "execution_count": 239,
   "metadata": {},
   "outputs": [
    {
     "name": "stdout",
     "output_type": "stream",
     "text": [
      "              precision    recall  f1-score   support\n",
      "\n",
      "           0       0.79      0.81      0.80       577\n",
      "           1       0.67      0.65      0.66       341\n",
      "\n",
      "    accuracy                           0.75       918\n",
      "   macro avg       0.73      0.73      0.73       918\n",
      "weighted avg       0.75      0.75      0.75       918\n",
      "\n"
     ]
    }
   ],
   "source": [
    "print(classification_report(yf_test, yfkp_pred))"
   ]
  },
  {
   "cell_type": "code",
   "execution_count": 240,
   "metadata": {},
   "outputs": [
    {
     "name": "stdout",
     "output_type": "stream",
     "text": [
      "              precision    recall  f1-score   support\n",
      "\n",
      "           0       0.87      0.87      0.87      1729\n",
      "           1       0.78      0.77      0.78      1024\n",
      "\n",
      "    accuracy                           0.84      2753\n",
      "   macro avg       0.82      0.82      0.82      2753\n",
      "weighted avg       0.84      0.84      0.84      2753\n",
      "\n"
     ]
    }
   ],
   "source": [
    "print(classification_report(yf_train, yfkp_predt))"
   ]
  },
  {
   "cell_type": "code",
   "execution_count": 243,
   "metadata": {},
   "outputs": [
    {
     "data": {
      "text/html": [
       "<div>\n",
       "<style scoped>\n",
       "    .dataframe tbody tr th:only-of-type {\n",
       "        vertical-align: middle;\n",
       "    }\n",
       "\n",
       "    .dataframe tbody tr th {\n",
       "        vertical-align: top;\n",
       "    }\n",
       "\n",
       "    .dataframe thead th {\n",
       "        text-align: right;\n",
       "    }\n",
       "</style>\n",
       "<table border=\"1\" class=\"dataframe\">\n",
       "  <thead>\n",
       "    <tr style=\"text-align: right;\">\n",
       "      <th></th>\n",
       "      <th>Pred 1</th>\n",
       "      <th>Pred 0</th>\n",
       "    </tr>\n",
       "  </thead>\n",
       "  <tbody>\n",
       "    <tr>\n",
       "      <th>Act 1</th>\n",
       "      <td>220</td>\n",
       "      <td>121</td>\n",
       "    </tr>\n",
       "    <tr>\n",
       "      <th>Act 0</th>\n",
       "      <td>109</td>\n",
       "      <td>468</td>\n",
       "    </tr>\n",
       "  </tbody>\n",
       "</table>\n",
       "</div>"
      ],
      "text/plain": [
       "       Pred 1  Pred 0\n",
       "Act 1  220     121   \n",
       "Act 0  109     468   "
      ]
     },
     "execution_count": 243,
     "metadata": {},
     "output_type": "execute_result"
    }
   ],
   "source": [
    "cfkp = confusion_matrix(yf_test, yfkp_pred, labels=[1, 0])\n",
    "cf_kp = pd.DataFrame(cfkp,\n",
    "                 columns=['Pred 1', 'Pred 0'],\n",
    "                 index=['Act 1', 'Act 0'])\n",
    "cf_kp"
   ]
  },
  {
   "cell_type": "markdown",
   "metadata": {},
   "source": [
    "### B. Scalling"
   ]
  },
  {
   "cell_type": "markdown",
   "metadata": {},
   "source": [
    "- Dikarenakan dataset terdapat banyak outlier dan target tidak terdistribusi normal, maka digunakan lah \"Robust Scaller\""
   ]
  },
  {
   "cell_type": "code",
   "execution_count": 144,
   "metadata": {},
   "outputs": [],
   "source": [
    "scaler = RobustScaler()"
   ]
  },
  {
   "cell_type": "code",
   "execution_count": 145,
   "metadata": {},
   "outputs": [],
   "source": [
    "Xb_scaled = scaler.fit_transform(Xb_train)\n",
    "Xf_scaled = scaler.fit_transform(Xf_train)\n",
    "Xb_tests = scaler.fit_transform(Xb_test)\n",
    "Xf_tests = scaler.fit_transform(Xf_test)"
   ]
  },
  {
   "cell_type": "markdown",
   "metadata": {},
   "source": [
    "### LogisticScaled"
   ]
  },
  {
   "cell_type": "markdown",
   "metadata": {},
   "source": [
    "### 1. Base Scaled"
   ]
  },
  {
   "cell_type": "code",
   "execution_count": 245,
   "metadata": {},
   "outputs": [
    {
     "data": {
      "text/plain": [
       "LogisticRegression()"
      ]
     },
     "execution_count": 245,
     "metadata": {},
     "output_type": "execute_result"
    }
   ],
   "source": [
    "model_b1.fit(Xb_scaled, yb_train)"
   ]
  },
  {
   "cell_type": "code",
   "execution_count": 246,
   "metadata": {},
   "outputs": [],
   "source": [
    "ybs_pred = model_b1.predict(Xb_tests)\n",
    "ybs_predt = model_b1.predict(Xb_scaled)"
   ]
  },
  {
   "cell_type": "code",
   "execution_count": 247,
   "metadata": {},
   "outputs": [
    {
     "name": "stdout",
     "output_type": "stream",
     "text": [
      "              precision    recall  f1-score   support\n",
      "\n",
      "           0       0.79      0.91      0.85       577\n",
      "           1       0.80      0.59      0.68       341\n",
      "\n",
      "    accuracy                           0.79       918\n",
      "   macro avg       0.79      0.75      0.76       918\n",
      "weighted avg       0.79      0.79      0.78       918\n",
      "\n"
     ]
    }
   ],
   "source": [
    "print(classification_report(yb_test, ybs_pred))"
   ]
  },
  {
   "cell_type": "code",
   "execution_count": 248,
   "metadata": {},
   "outputs": [
    {
     "name": "stdout",
     "output_type": "stream",
     "text": [
      "              precision    recall  f1-score   support\n",
      "\n",
      "           0       0.81      0.91      0.86      1729\n",
      "           1       0.81      0.63      0.71      1024\n",
      "\n",
      "    accuracy                           0.81      2753\n",
      "   macro avg       0.81      0.77      0.78      2753\n",
      "weighted avg       0.81      0.81      0.80      2753\n",
      "\n"
     ]
    }
   ],
   "source": [
    "print(classification_report(yb_train, ybs_predt))"
   ]
  },
  {
   "cell_type": "code",
   "execution_count": 249,
   "metadata": {},
   "outputs": [
    {
     "data": {
      "text/html": [
       "<div>\n",
       "<style scoped>\n",
       "    .dataframe tbody tr th:only-of-type {\n",
       "        vertical-align: middle;\n",
       "    }\n",
       "\n",
       "    .dataframe tbody tr th {\n",
       "        vertical-align: top;\n",
       "    }\n",
       "\n",
       "    .dataframe thead th {\n",
       "        text-align: right;\n",
       "    }\n",
       "</style>\n",
       "<table border=\"1\" class=\"dataframe\">\n",
       "  <thead>\n",
       "    <tr style=\"text-align: right;\">\n",
       "      <th></th>\n",
       "      <th>Pred 1</th>\n",
       "      <th>Pred 0</th>\n",
       "    </tr>\n",
       "  </thead>\n",
       "  <tbody>\n",
       "    <tr>\n",
       "      <th>Act 1</th>\n",
       "      <td>200</td>\n",
       "      <td>141</td>\n",
       "    </tr>\n",
       "    <tr>\n",
       "      <th>Act 0</th>\n",
       "      <td>51</td>\n",
       "      <td>526</td>\n",
       "    </tr>\n",
       "  </tbody>\n",
       "</table>\n",
       "</div>"
      ],
      "text/plain": [
       "       Pred 1  Pred 0\n",
       "Act 1  200     141   \n",
       "Act 0  51      526   "
      ]
     },
     "execution_count": 249,
     "metadata": {},
     "output_type": "execute_result"
    }
   ],
   "source": [
    "cbls = confusion_matrix(yb_test, ybs_pred, labels=[1, 0])\n",
    "cb_ls = pd.DataFrame(cbls,\n",
    "                 columns=['Pred 1', 'Pred 0'],\n",
    "                 index=['Act 1', 'Act 0'])\n",
    "cb_ls"
   ]
  },
  {
   "cell_type": "markdown",
   "metadata": {},
   "source": [
    "### 2. dfix Scaled"
   ]
  },
  {
   "cell_type": "code",
   "execution_count": 150,
   "metadata": {},
   "outputs": [
    {
     "data": {
      "text/plain": [
       "LogisticRegression()"
      ]
     },
     "execution_count": 150,
     "metadata": {},
     "output_type": "execute_result"
    }
   ],
   "source": [
    "model_f1.fit(Xf_scaled, yf_train)"
   ]
  },
  {
   "cell_type": "code",
   "execution_count": 151,
   "metadata": {},
   "outputs": [],
   "source": [
    "yfs_pred = model_f1.predict(Xf_tests)\n",
    "yfs_predt = model_f1.predict(Xf_scaled)"
   ]
  },
  {
   "cell_type": "code",
   "execution_count": 152,
   "metadata": {},
   "outputs": [
    {
     "name": "stdout",
     "output_type": "stream",
     "text": [
      "              precision    recall  f1-score   support\n",
      "\n",
      "           0       0.79      0.90      0.84       577\n",
      "           1       0.79      0.60      0.68       341\n",
      "\n",
      "    accuracy                           0.79       918\n",
      "   macro avg       0.79      0.75      0.76       918\n",
      "weighted avg       0.79      0.79      0.78       918\n",
      "\n"
     ]
    }
   ],
   "source": [
    "print(classification_report(yf_test, yfs_pred))"
   ]
  },
  {
   "cell_type": "code",
   "execution_count": 153,
   "metadata": {},
   "outputs": [
    {
     "name": "stdout",
     "output_type": "stream",
     "text": [
      "              precision    recall  f1-score   support\n",
      "\n",
      "           0       0.80      0.91      0.85      1729\n",
      "           1       0.81      0.62      0.70      1024\n",
      "\n",
      "    accuracy                           0.80      2753\n",
      "   macro avg       0.80      0.77      0.78      2753\n",
      "weighted avg       0.80      0.80      0.80      2753\n",
      "\n"
     ]
    }
   ],
   "source": [
    "print(classification_report(yf_train, yfs_predt))"
   ]
  },
  {
   "cell_type": "code",
   "execution_count": 250,
   "metadata": {},
   "outputs": [
    {
     "data": {
      "text/html": [
       "<div>\n",
       "<style scoped>\n",
       "    .dataframe tbody tr th:only-of-type {\n",
       "        vertical-align: middle;\n",
       "    }\n",
       "\n",
       "    .dataframe tbody tr th {\n",
       "        vertical-align: top;\n",
       "    }\n",
       "\n",
       "    .dataframe thead th {\n",
       "        text-align: right;\n",
       "    }\n",
       "</style>\n",
       "<table border=\"1\" class=\"dataframe\">\n",
       "  <thead>\n",
       "    <tr style=\"text-align: right;\">\n",
       "      <th></th>\n",
       "      <th>Pred 1</th>\n",
       "      <th>Pred 0</th>\n",
       "    </tr>\n",
       "  </thead>\n",
       "  <tbody>\n",
       "    <tr>\n",
       "      <th>Act 1</th>\n",
       "      <td>204</td>\n",
       "      <td>137</td>\n",
       "    </tr>\n",
       "    <tr>\n",
       "      <th>Act 0</th>\n",
       "      <td>55</td>\n",
       "      <td>522</td>\n",
       "    </tr>\n",
       "  </tbody>\n",
       "</table>\n",
       "</div>"
      ],
      "text/plain": [
       "       Pred 1  Pred 0\n",
       "Act 1  204     137   \n",
       "Act 0  55      522   "
      ]
     },
     "execution_count": 250,
     "metadata": {},
     "output_type": "execute_result"
    }
   ],
   "source": [
    "cfls = confusion_matrix(yf_test, yfs_pred, labels=[1, 0])\n",
    "cf_ls = pd.DataFrame(cfls,\n",
    "                 columns=['Pred 1', 'Pred 0'],\n",
    "                 index=['Act 1', 'Act 0'])\n",
    "cf_ls"
   ]
  },
  {
   "cell_type": "markdown",
   "metadata": {},
   "source": [
    "# Hyperparameter Tunning"
   ]
  },
  {
   "cell_type": "markdown",
   "metadata": {},
   "source": [
    "### XGBClassifier"
   ]
  },
  {
   "cell_type": "markdown",
   "metadata": {},
   "source": [
    "### 1. Base hyper"
   ]
  },
  {
   "cell_type": "code",
   "execution_count": null,
   "metadata": {},
   "outputs": [],
   "source": [
    "modelxgh = XGBClassifier()\n",
    "paramxg = {\n",
    "    'max_depth':np.arange(1,10),\n",
    "    'learning_rate': np.arange(0,1.5,0.1),\n",
    "    'n_estimators':np.random.randint(100,200,10),\n",
    "}"
   ]
  },
  {
   "cell_type": "code",
   "execution_count": null,
   "metadata": {},
   "outputs": [],
   "source": [
    "modelXRS = RandomizedSearchCV(\n",
    "    estimator = modelxgh, \n",
    "    param_distributions = paramxg, cv = 3)\n",
    "\n",
    "modelXGS = GridSearchCV(modelxgh, paramxg, cv=3, n_jobs=-1, verbose=1)"
   ]
  },
  {
   "cell_type": "code",
   "execution_count": null,
   "metadata": {},
   "outputs": [],
   "source": [
    "modelXRS.fit(Xb_train,yb_train)"
   ]
  },
  {
   "cell_type": "code",
   "execution_count": null,
   "metadata": {},
   "outputs": [],
   "source": [
    "modelXGS.fit(Xb_train,yb_train)"
   ]
  },
  {
   "cell_type": "code",
   "execution_count": null,
   "metadata": {},
   "outputs": [],
   "source": [
    "modelXRS.best_params_"
   ]
  },
  {
   "cell_type": "code",
   "execution_count": null,
   "metadata": {},
   "outputs": [],
   "source": [
    "modelXGS.best_params_"
   ]
  },
  {
   "cell_type": "code",
   "execution_count": null,
   "metadata": {},
   "outputs": [],
   "source": [
    "ybxh_predRS = modelXRS.predict(Xb_test)\n",
    "ybxh_predGS = modelXGS.predict(Xb_test)\n",
    "ybxh_predRSt = modelXRS.predict(Xb_train)\n",
    "ybxh_predGSt = modelXGS.predict(Xb_train)"
   ]
  },
  {
   "cell_type": "code",
   "execution_count": 152,
   "metadata": {},
   "outputs": [
    {
     "name": "stdout",
     "output_type": "stream",
     "text": [
      "              precision    recall  f1-score   support\n",
      "\n",
      "           0       0.79      0.90      0.84       577\n",
      "           1       0.79      0.60      0.68       341\n",
      "\n",
      "    accuracy                           0.79       918\n",
      "   macro avg       0.79      0.75      0.76       918\n",
      "weighted avg       0.79      0.79      0.78       918\n",
      "\n"
     ]
    }
   ],
   "source": [
    "print(classification_report(yb_test, ybxh_predRS))"
   ]
  },
  {
   "cell_type": "code",
   "execution_count": 153,
   "metadata": {},
   "outputs": [
    {
     "name": "stdout",
     "output_type": "stream",
     "text": [
      "              precision    recall  f1-score   support\n",
      "\n",
      "           0       0.80      0.91      0.85      1729\n",
      "           1       0.81      0.62      0.70      1024\n",
      "\n",
      "    accuracy                           0.80      2753\n",
      "   macro avg       0.80      0.77      0.78      2753\n",
      "weighted avg       0.80      0.80      0.80      2753\n",
      "\n"
     ]
    }
   ],
   "source": [
    "print(classification_report(yb_test, ybxh_predGS))"
   ]
  },
  {
   "cell_type": "code",
   "execution_count": 250,
   "metadata": {},
   "outputs": [
    {
     "data": {
      "text/html": [
       "<div>\n",
       "<style scoped>\n",
       "    .dataframe tbody tr th:only-of-type {\n",
       "        vertical-align: middle;\n",
       "    }\n",
       "\n",
       "    .dataframe tbody tr th {\n",
       "        vertical-align: top;\n",
       "    }\n",
       "\n",
       "    .dataframe thead th {\n",
       "        text-align: right;\n",
       "    }\n",
       "</style>\n",
       "<table border=\"1\" class=\"dataframe\">\n",
       "  <thead>\n",
       "    <tr style=\"text-align: right;\">\n",
       "      <th></th>\n",
       "      <th>Pred 1</th>\n",
       "      <th>Pred 0</th>\n",
       "    </tr>\n",
       "  </thead>\n",
       "  <tbody>\n",
       "    <tr>\n",
       "      <th>Act 1</th>\n",
       "      <td>204</td>\n",
       "      <td>137</td>\n",
       "    </tr>\n",
       "    <tr>\n",
       "      <th>Act 0</th>\n",
       "      <td>55</td>\n",
       "      <td>522</td>\n",
       "    </tr>\n",
       "  </tbody>\n",
       "</table>\n",
       "</div>"
      ],
      "text/plain": [
       "       Pred 1  Pred 0\n",
       "Act 1  204     137   \n",
       "Act 0  55      522   "
      ]
     },
     "execution_count": 250,
     "metadata": {},
     "output_type": "execute_result"
    }
   ],
   "source": [
    "cbxhRS = confusion_matrix(yb_test, ybxh_predRS, labels=[1, 0])\n",
    "cb_xhRS = pd.DataFrame(cbxhRS,\n",
    "                 columns=['Pred 1', 'Pred 0'],\n",
    "                 index=['Act 1', 'Act 0'])\n",
    "cb_xhRS"
   ]
  },
  {
   "cell_type": "code",
   "execution_count": null,
   "metadata": {},
   "outputs": [],
   "source": [
    "cbxhGS = confusion_matrix(yb_test, ybxh_predGS, labels=[1, 0])\n",
    "cb_xhGS = pd.DataFrame(cbxhGS,\n",
    "                 columns=['Pred 1', 'Pred 0'],\n",
    "                 index=['Act 1', 'Act 0'])\n",
    "cb_xhGS"
   ]
  },
  {
   "cell_type": "markdown",
   "metadata": {},
   "source": [
    "### 2. dfix hyper"
   ]
  },
  {
   "cell_type": "code",
   "execution_count": null,
   "metadata": {},
   "outputs": [],
   "source": [
    "modelxgh = XGBClassifier()\n",
    "paramxg = {\n",
    "    'max_depth':np.arange(1,10),\n",
    "    'learning_rate': np.arange(0,1.5,0.1),\n",
    "    'n_estimators':np.random.randint(100,200,10),\n",
    "}"
   ]
  },
  {
   "cell_type": "code",
   "execution_count": null,
   "metadata": {},
   "outputs": [],
   "source": [
    "modelXRS = RandomizedSearchCV(\n",
    "    estimator = modelxgh, \n",
    "    param_distributions = paramxg, cv = 3)\n",
    "\n",
    "modelXGS = GridSearchCV(modelxgh, paramxg, cv=3, n_jobs=-1, verbose=1)"
   ]
  },
  {
   "cell_type": "code",
   "execution_count": null,
   "metadata": {},
   "outputs": [],
   "source": [
    "modelXRS.fit(Xf_train,yf_train)"
   ]
  },
  {
   "cell_type": "code",
   "execution_count": null,
   "metadata": {},
   "outputs": [],
   "source": [
    "modelXGS.fit(Xf_train,yf_train)"
   ]
  },
  {
   "cell_type": "code",
   "execution_count": null,
   "metadata": {},
   "outputs": [],
   "source": [
    "modelXRS.best_params_"
   ]
  },
  {
   "cell_type": "code",
   "execution_count": null,
   "metadata": {},
   "outputs": [],
   "source": [
    "modelXGS.best_params_"
   ]
  },
  {
   "cell_type": "code",
   "execution_count": null,
   "metadata": {},
   "outputs": [],
   "source": [
    "yfxh_predRS = modelXRS.predict(Xf_test)\n",
    "yfxh_predGS = modelXGS.predict(Xf_test)\n",
    "yfxh_predRSt = modelXRS.predict(Xf_train)\n",
    "yfxh_predGSt = modelXGS.predict(Xf_train)"
   ]
  },
  {
   "cell_type": "code",
   "execution_count": 152,
   "metadata": {},
   "outputs": [
    {
     "name": "stdout",
     "output_type": "stream",
     "text": [
      "              precision    recall  f1-score   support\n",
      "\n",
      "           0       0.79      0.90      0.84       577\n",
      "           1       0.79      0.60      0.68       341\n",
      "\n",
      "    accuracy                           0.79       918\n",
      "   macro avg       0.79      0.75      0.76       918\n",
      "weighted avg       0.79      0.79      0.78       918\n",
      "\n"
     ]
    }
   ],
   "source": [
    "print(classification_report(yf_test, yfxh_predRS))"
   ]
  },
  {
   "cell_type": "code",
   "execution_count": 153,
   "metadata": {},
   "outputs": [
    {
     "name": "stdout",
     "output_type": "stream",
     "text": [
      "              precision    recall  f1-score   support\n",
      "\n",
      "           0       0.80      0.91      0.85      1729\n",
      "           1       0.81      0.62      0.70      1024\n",
      "\n",
      "    accuracy                           0.80      2753\n",
      "   macro avg       0.80      0.77      0.78      2753\n",
      "weighted avg       0.80      0.80      0.80      2753\n",
      "\n"
     ]
    }
   ],
   "source": [
    "print(classification_report(yf_test, yfxh_predGS))"
   ]
  },
  {
   "cell_type": "code",
   "execution_count": 250,
   "metadata": {},
   "outputs": [
    {
     "data": {
      "text/html": [
       "<div>\n",
       "<style scoped>\n",
       "    .dataframe tbody tr th:only-of-type {\n",
       "        vertical-align: middle;\n",
       "    }\n",
       "\n",
       "    .dataframe tbody tr th {\n",
       "        vertical-align: top;\n",
       "    }\n",
       "\n",
       "    .dataframe thead th {\n",
       "        text-align: right;\n",
       "    }\n",
       "</style>\n",
       "<table border=\"1\" class=\"dataframe\">\n",
       "  <thead>\n",
       "    <tr style=\"text-align: right;\">\n",
       "      <th></th>\n",
       "      <th>Pred 1</th>\n",
       "      <th>Pred 0</th>\n",
       "    </tr>\n",
       "  </thead>\n",
       "  <tbody>\n",
       "    <tr>\n",
       "      <th>Act 1</th>\n",
       "      <td>204</td>\n",
       "      <td>137</td>\n",
       "    </tr>\n",
       "    <tr>\n",
       "      <th>Act 0</th>\n",
       "      <td>55</td>\n",
       "      <td>522</td>\n",
       "    </tr>\n",
       "  </tbody>\n",
       "</table>\n",
       "</div>"
      ],
      "text/plain": [
       "       Pred 1  Pred 0\n",
       "Act 1  204     137   \n",
       "Act 0  55      522   "
      ]
     },
     "execution_count": 250,
     "metadata": {},
     "output_type": "execute_result"
    }
   ],
   "source": [
    "cfxhRS = confusion_matrix(yf_test, yfxh_predRS, labels=[1, 0])\n",
    "cf_xhRS = pd.DataFrame(cfxhRS,\n",
    "                 columns=['Pred 1', 'Pred 0'],\n",
    "                 index=['Act 1', 'Act 0'])\n",
    "cf_xhRS"
   ]
  },
  {
   "cell_type": "code",
   "execution_count": null,
   "metadata": {},
   "outputs": [],
   "source": [
    "cfxhGS = confusion_matrix(yf_test, yfxh_predGS, labels=[1, 0])\n",
    "cf_xhGS = pd.DataFrame(cfxhGS,\n",
    "                 columns=['Pred 1', 'Pred 0'],\n",
    "                 index=['Act 1', 'Act 0'])\n",
    "cf_xhGS"
   ]
  },
  {
   "cell_type": "markdown",
   "metadata": {},
   "source": [
    "### KNN Classifier"
   ]
  },
  {
   "cell_type": "markdown",
   "metadata": {},
   "source": [
    "### 1. Base hyper"
   ]
  },
  {
   "cell_type": "code",
   "execution_count": null,
   "metadata": {},
   "outputs": [],
   "source": [
    "modelkfh = KNeighborsClassifier()\n",
    "paramkf = {\n",
    "    'n_neighbors'=np.arange(5,15),\n",
    "    'weights'=['uniform','distance']\n",
    "}"
   ]
  },
  {
   "cell_type": "code",
   "execution_count": null,
   "metadata": {},
   "outputs": [],
   "source": [
    "modelKRS = RandomizedSearchCV(estimator = modelkfh, param_distributions = paramkf, cv = 3)\n",
    "\n",
    "modelKGS = GridSearchCV(modelkfh, paramkf, cv=3, n_jobs=-1, verbose=1)"
   ]
  },
  {
   "cell_type": "code",
   "execution_count": null,
   "metadata": {},
   "outputs": [],
   "source": [
    "modelKRS.fit(Xb_train,yb_train)"
   ]
  },
  {
   "cell_type": "code",
   "execution_count": null,
   "metadata": {},
   "outputs": [],
   "source": [
    "modelKGS.fit(Xb_train,yb_train)"
   ]
  },
  {
   "cell_type": "code",
   "execution_count": null,
   "metadata": {},
   "outputs": [],
   "source": [
    "modelKRS.best_params_"
   ]
  },
  {
   "cell_type": "code",
   "execution_count": null,
   "metadata": {},
   "outputs": [],
   "source": [
    "modelKGS.best_params_"
   ]
  },
  {
   "cell_type": "code",
   "execution_count": null,
   "metadata": {},
   "outputs": [],
   "source": [
    "ybkh_predRS = modelKRS.predict(Xb_test)\n",
    "ybkh_predGS = modelKGS.predict(Xb_test)\n",
    "ybkh_predRSt = modelKRS.predict(Xb_train)\n",
    "ybkh_predGSt = modelKGS.predict(Xb_train)"
   ]
  },
  {
   "cell_type": "code",
   "execution_count": 152,
   "metadata": {},
   "outputs": [
    {
     "name": "stdout",
     "output_type": "stream",
     "text": [
      "              precision    recall  f1-score   support\n",
      "\n",
      "           0       0.79      0.90      0.84       577\n",
      "           1       0.79      0.60      0.68       341\n",
      "\n",
      "    accuracy                           0.79       918\n",
      "   macro avg       0.79      0.75      0.76       918\n",
      "weighted avg       0.79      0.79      0.78       918\n",
      "\n"
     ]
    }
   ],
   "source": [
    "print(classification_report(yb_test, ybkh_predRS))"
   ]
  },
  {
   "cell_type": "code",
   "execution_count": 153,
   "metadata": {},
   "outputs": [
    {
     "name": "stdout",
     "output_type": "stream",
     "text": [
      "              precision    recall  f1-score   support\n",
      "\n",
      "           0       0.80      0.91      0.85      1729\n",
      "           1       0.81      0.62      0.70      1024\n",
      "\n",
      "    accuracy                           0.80      2753\n",
      "   macro avg       0.80      0.77      0.78      2753\n",
      "weighted avg       0.80      0.80      0.80      2753\n",
      "\n"
     ]
    }
   ],
   "source": [
    "print(classification_report(yb_test, ybkh_predGS))"
   ]
  },
  {
   "cell_type": "code",
   "execution_count": 250,
   "metadata": {},
   "outputs": [
    {
     "data": {
      "text/html": [
       "<div>\n",
       "<style scoped>\n",
       "    .dataframe tbody tr th:only-of-type {\n",
       "        vertical-align: middle;\n",
       "    }\n",
       "\n",
       "    .dataframe tbody tr th {\n",
       "        vertical-align: top;\n",
       "    }\n",
       "\n",
       "    .dataframe thead th {\n",
       "        text-align: right;\n",
       "    }\n",
       "</style>\n",
       "<table border=\"1\" class=\"dataframe\">\n",
       "  <thead>\n",
       "    <tr style=\"text-align: right;\">\n",
       "      <th></th>\n",
       "      <th>Pred 1</th>\n",
       "      <th>Pred 0</th>\n",
       "    </tr>\n",
       "  </thead>\n",
       "  <tbody>\n",
       "    <tr>\n",
       "      <th>Act 1</th>\n",
       "      <td>204</td>\n",
       "      <td>137</td>\n",
       "    </tr>\n",
       "    <tr>\n",
       "      <th>Act 0</th>\n",
       "      <td>55</td>\n",
       "      <td>522</td>\n",
       "    </tr>\n",
       "  </tbody>\n",
       "</table>\n",
       "</div>"
      ],
      "text/plain": [
       "       Pred 1  Pred 0\n",
       "Act 1  204     137   \n",
       "Act 0  55      522   "
      ]
     },
     "execution_count": 250,
     "metadata": {},
     "output_type": "execute_result"
    }
   ],
   "source": [
    "cbkhRS = confusion_matrix(yb_test, ybkh_predRS, labels=[1, 0])\n",
    "cb_khRS = pd.DataFrame(cbkhRS,\n",
    "                 columns=['Pred 1', 'Pred 0'],\n",
    "                 index=['Act 1', 'Act 0'])\n",
    "cb_khRS"
   ]
  },
  {
   "cell_type": "code",
   "execution_count": null,
   "metadata": {},
   "outputs": [],
   "source": [
    "cbkhGS = confusion_matrix(yb_test, ybkh_predGS, labels=[1, 0])\n",
    "cb_khGS = pd.DataFrame(cbkhGS,\n",
    "                 columns=['Pred 1', 'Pred 0'],\n",
    "                 index=['Act 1', 'Act 0'])\n",
    "cb_khGS"
   ]
  },
  {
   "cell_type": "markdown",
   "metadata": {},
   "source": [
    "### 2. dfix hyper"
   ]
  },
  {
   "cell_type": "code",
   "execution_count": null,
   "metadata": {},
   "outputs": [],
   "source": [
    "modelkfh = KNeighborsClassifier()\n",
    "paramkf = {\n",
    "    'n_neighbors'=np.arange(5,15),\n",
    "    'weights'=['uniform','distance']\n",
    "}"
   ]
  },
  {
   "cell_type": "code",
   "execution_count": null,
   "metadata": {},
   "outputs": [],
   "source": [
    "modelKRS = RandomizedSearchCV(estimator = modelkfh, param_distributions = paramkf, cv = 3)\n",
    "\n",
    "modelKGS = GridSearchCV(modelkfh, paramkf, cv=3, n_jobs=-1, verbose=1)"
   ]
  },
  {
   "cell_type": "code",
   "execution_count": null,
   "metadata": {},
   "outputs": [],
   "source": [
    "modelKRS.fit(Xf_train,yf_train)"
   ]
  },
  {
   "cell_type": "code",
   "execution_count": null,
   "metadata": {},
   "outputs": [],
   "source": [
    "modelKGS.fit(Xf_train,yf_train)"
   ]
  },
  {
   "cell_type": "code",
   "execution_count": null,
   "metadata": {},
   "outputs": [],
   "source": [
    "modelKRS.best_params_"
   ]
  },
  {
   "cell_type": "code",
   "execution_count": null,
   "metadata": {},
   "outputs": [],
   "source": [
    "modelKGS.best_params_"
   ]
  },
  {
   "cell_type": "code",
   "execution_count": null,
   "metadata": {},
   "outputs": [],
   "source": [
    "yfkh_predRS = modelKRS.predict(Xf_test)\n",
    "yfkh_predGS = modelKGS.predict(Xf_test)\n",
    "yfkh_predRSt = modelKRS.predict(Xf_train)\n",
    "yfkh_predGSt = modelKGS.predict(Xf_train)"
   ]
  },
  {
   "cell_type": "markdown",
   "metadata": {},
   "source": [
    "# Model Selection"
   ]
  },
  {
   "cell_type": "code",
   "execution_count": null,
   "metadata": {},
   "outputs": [],
   "source": []
  },
  {
   "cell_type": "markdown",
   "metadata": {},
   "source": [
    "# Kesimpulan Sementara\n",
    "- Model ini dapat digunakan untuk melihat/mengklasifikasikan/menentukan index kepuasan kerja karyawan dengan roc_auc juga score ketelitian sebesar 81% dengan recall 0 yaitu 0.94 menggunakan algoritma Logistic Regression dengan Polynomial\n",
    "- Variabel kuat yang menentukan dalam penentuan sukses tidaknya suatu course ialah, Jumlah Review, Subject Course, Tipe Lisensi (Gratis/Berbayar), dan Level course"
   ]
  }
 ],
 "metadata": {
  "kernelspec": {
   "display_name": "Python 3",
   "language": "python",
   "name": "python3"
  },
  "language_info": {
   "codemirror_mode": {
    "name": "ipython",
    "version": 3
   },
   "file_extension": ".py",
   "mimetype": "text/x-python",
   "name": "python",
   "nbconvert_exporter": "python",
   "pygments_lexer": "ipython3",
   "version": "3.7.7"
  }
 },
 "nbformat": 4,
 "nbformat_minor": 4
}
