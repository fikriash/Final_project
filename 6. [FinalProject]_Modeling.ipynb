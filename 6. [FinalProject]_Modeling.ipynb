{
 "cells": [
  {
   "cell_type": "markdown",
   "metadata": {},
   "source": [
    "## -------------------------------- *Udemy_Course (Online Course Business)* --------------------------------"
   ]
  },
  {
   "cell_type": "markdown",
   "metadata": {},
   "source": [
    "------------------------------------------------------------------------------------------------------------------------------------------------------"
   ]
  },
  {
   "cell_type": "markdown",
   "metadata": {},
   "source": [
    "# (1-2) Definition, Problems, and Goals"
   ]
  },
  {
   "cell_type": "markdown",
   "metadata": {},
   "source": [
    "------------------------------------------------------------------------------------------------------------------------------------------------------"
   ]
  },
  {
   "cell_type": "markdown",
   "metadata": {},
   "source": [
    "### Definition"
   ]
  },
  {
   "cell_type": "markdown",
   "metadata": {},
   "source": [
    "Machine Learning ini merupakan salah satu model untuk menentukan sukses tidak nya suatu course yang akan dibuka oleh suatu Lembaga Pendidikan atau dalam problem ini ialah MOOC, yang dapat digunakan oleh perusahaan atau lembaga tersebut sebagai bahan pertimbangan dalam me-*release* course baru."
   ]
  },
  {
   "cell_type": "markdown",
   "metadata": {},
   "source": [
    "### Problems & Goals"
   ]
  },
  {
   "cell_type": "markdown",
   "metadata": {},
   "source": [
    "2.1 Problems\n",
    "- Kualitas Pendidikan Menurun saat diterapkannya Sistem Pendidikan Jarak Jauh berbasis Teknologi (mediaindonesia.com)\n",
    "- Penurunan partisipan pada Lembaga-lembaga Bimbingan Belajar akibat Covid-19 (sonora.id)\n",
    "- Kesulitan dalam mencari pekerjaan akibat pandemi covid (kompasiana.com)\n",
    "- Kesulitan untuk mengetahui course apa yang paling dibutuhkan mereka-mereka yang sedang ingin improving skill (Briyando, Boby.2020)\n",
    "\n",
    "2.2 Goals\n",
    "- Membuat model yang dapat memprediksi/mendeteksi sukses tidaknya suatu course yang akan dibuka oleh suatu MOOC dalam mendapatkan subscribers atau partisipan\n",
    "- Mengetahui variabel apa saja yang dapat mempengaruhi sukses/tidaknya suatu course dalam mendapatkan subscribers atau partisipan\n",
    "\n",
    "2.3 Limitasi\n",
    "- Model dapat digunakan oleh seluruh perusahaan berbasis Platform Media Pembelajaran Online / MOOC / Bimbel dan perusahaan sejenis lainnya.\n",
    "- Model hanya dapat memprediksi persentase sukses atau tidaknya course yang akan dibuka.\n"
   ]
  },
  {
   "cell_type": "markdown",
   "metadata": {},
   "source": [
    "# Import Package"
   ]
  },
  {
   "cell_type": "code",
   "execution_count": 2,
   "metadata": {},
   "outputs": [],
   "source": [
    "import pandas as pd\n",
    "import numpy as np\n",
    "import seaborn as sns\n",
    "import matplotlib.pyplot as plt\n",
    "import pickle\n",
    "import joblib\n",
    "import statsmodels.api as sm\n",
    "import warnings\n",
    "warnings.filterwarnings('ignore')\n",
    "pd.options.display.max_columns=999\n",
    "pd.set_option('display.max_colwidth', -1)\n",
    "\n",
    "%matplotlib inline\n",
    "\n",
    "from sklearn.linear_model import LogisticRegression, Lasso, Ridge, ElasticNet\n",
    "from sklearn.neighbors import KNeighborsClassifier\n",
    "from xgboost import XGBClassifier\n",
    "from sklearn.ensemble import RandomForestClassifier \n",
    "from sklearn.tree import DecisionTreeClassifier\n",
    "from sklearn.preprocessing import RobustScaler, MinMaxScaler,power_transform, StandardScaler\n",
    "from imblearn.over_sampling import SMOTE\n",
    "from sklearn.utils import resample\n",
    "from sklearn.decomposition import PCA\n",
    "from sklearn.metrics import accuracy_score, balanced_accuracy_score, f1_score, recall_score, precision_score\n",
    "from sklearn.metrics import classification_report, confusion_matrix, log_loss, roc_auc_score, roc_curve, auc\n",
    "from sklearn.model_selection import train_test_split, GridSearchCV, RandomizedSearchCV"
   ]
  },
  {
   "cell_type": "markdown",
   "metadata": {},
   "source": [
    "------------------------------------------------------------------------------------------------------------------------------------------------------"
   ]
  },
  {
   "cell_type": "markdown",
   "metadata": {},
   "source": [
    "# (3) Import Data"
   ]
  },
  {
   "cell_type": "markdown",
   "metadata": {},
   "source": [
    "------------------------------------------------------------------------------------------------------------------------------------------------------"
   ]
  },
  {
   "cell_type": "code",
   "execution_count": 5,
   "metadata": {},
   "outputs": [],
   "source": [
    "df_b = pd.read_csv('df_b.csv', index_col=0)\n",
    "dfix = pd.read_csv('dfix.csv', index_col=0)"
   ]
  },
  {
   "cell_type": "code",
   "execution_count": 6,
   "metadata": {},
   "outputs": [
    {
     "data": {
      "text/html": [
       "<div>\n",
       "<style scoped>\n",
       "    .dataframe tbody tr th:only-of-type {\n",
       "        vertical-align: middle;\n",
       "    }\n",
       "\n",
       "    .dataframe tbody tr th {\n",
       "        vertical-align: top;\n",
       "    }\n",
       "\n",
       "    .dataframe thead th {\n",
       "        text-align: right;\n",
       "    }\n",
       "</style>\n",
       "<table border=\"1\" class=\"dataframe\">\n",
       "  <thead>\n",
       "    <tr style=\"text-align: right;\">\n",
       "      <th></th>\n",
       "      <th>price</th>\n",
       "      <th>num_lectures</th>\n",
       "      <th>content_duration</th>\n",
       "      <th>year_p</th>\n",
       "      <th>month_p</th>\n",
       "      <th>date_p</th>\n",
       "      <th>is_success</th>\n",
       "      <th>level_enc</th>\n",
       "      <th>is_paid_False</th>\n",
       "      <th>is_paid_True</th>\n",
       "      <th>business_subject</th>\n",
       "      <th>graphic_subject</th>\n",
       "      <th>music_subject</th>\n",
       "      <th>webdev_subject</th>\n",
       "    </tr>\n",
       "    <tr>\n",
       "      <th>course_id</th>\n",
       "      <th></th>\n",
       "      <th></th>\n",
       "      <th></th>\n",
       "      <th></th>\n",
       "      <th></th>\n",
       "      <th></th>\n",
       "      <th></th>\n",
       "      <th></th>\n",
       "      <th></th>\n",
       "      <th></th>\n",
       "      <th></th>\n",
       "      <th></th>\n",
       "      <th></th>\n",
       "      <th></th>\n",
       "    </tr>\n",
       "  </thead>\n",
       "  <tbody>\n",
       "    <tr>\n",
       "      <th>1070968</th>\n",
       "      <td>200</td>\n",
       "      <td>51</td>\n",
       "      <td>1.5</td>\n",
       "      <td>2017</td>\n",
       "      <td>1</td>\n",
       "      <td>18</td>\n",
       "      <td>1</td>\n",
       "      <td>0</td>\n",
       "      <td>0</td>\n",
       "      <td>1</td>\n",
       "      <td>1</td>\n",
       "      <td>0</td>\n",
       "      <td>0</td>\n",
       "      <td>0</td>\n",
       "    </tr>\n",
       "    <tr>\n",
       "      <th>1113822</th>\n",
       "      <td>75</td>\n",
       "      <td>274</td>\n",
       "      <td>39.0</td>\n",
       "      <td>2017</td>\n",
       "      <td>3</td>\n",
       "      <td>9</td>\n",
       "      <td>1</td>\n",
       "      <td>0</td>\n",
       "      <td>0</td>\n",
       "      <td>1</td>\n",
       "      <td>1</td>\n",
       "      <td>0</td>\n",
       "      <td>0</td>\n",
       "      <td>0</td>\n",
       "    </tr>\n",
       "    <tr>\n",
       "      <th>1006314</th>\n",
       "      <td>45</td>\n",
       "      <td>51</td>\n",
       "      <td>2.5</td>\n",
       "      <td>2016</td>\n",
       "      <td>12</td>\n",
       "      <td>19</td>\n",
       "      <td>1</td>\n",
       "      <td>2</td>\n",
       "      <td>0</td>\n",
       "      <td>1</td>\n",
       "      <td>1</td>\n",
       "      <td>0</td>\n",
       "      <td>0</td>\n",
       "      <td>0</td>\n",
       "    </tr>\n",
       "    <tr>\n",
       "      <th>1210588</th>\n",
       "      <td>95</td>\n",
       "      <td>36</td>\n",
       "      <td>3.0</td>\n",
       "      <td>2017</td>\n",
       "      <td>5</td>\n",
       "      <td>30</td>\n",
       "      <td>1</td>\n",
       "      <td>0</td>\n",
       "      <td>0</td>\n",
       "      <td>1</td>\n",
       "      <td>1</td>\n",
       "      <td>0</td>\n",
       "      <td>0</td>\n",
       "      <td>0</td>\n",
       "    </tr>\n",
       "    <tr>\n",
       "      <th>1011058</th>\n",
       "      <td>200</td>\n",
       "      <td>26</td>\n",
       "      <td>2.0</td>\n",
       "      <td>2016</td>\n",
       "      <td>12</td>\n",
       "      <td>13</td>\n",
       "      <td>0</td>\n",
       "      <td>2</td>\n",
       "      <td>0</td>\n",
       "      <td>1</td>\n",
       "      <td>1</td>\n",
       "      <td>0</td>\n",
       "      <td>0</td>\n",
       "      <td>0</td>\n",
       "    </tr>\n",
       "  </tbody>\n",
       "</table>\n",
       "</div>"
      ],
      "text/plain": [
       "           price  num_lectures  content_duration  year_p  month_p  date_p  \\\n",
       "course_id                                                                   \n",
       "1070968    200    51            1.5               2017    1        18       \n",
       "1113822    75     274           39.0              2017    3        9        \n",
       "1006314    45     51            2.5               2016    12       19       \n",
       "1210588    95     36            3.0               2017    5        30       \n",
       "1011058    200    26            2.0               2016    12       13       \n",
       "\n",
       "           is_success  level_enc  is_paid_False  is_paid_True  \\\n",
       "course_id                                                       \n",
       "1070968    1           0          0              1              \n",
       "1113822    1           0          0              1              \n",
       "1006314    1           2          0              1              \n",
       "1210588    1           0          0              1              \n",
       "1011058    0           2          0              1              \n",
       "\n",
       "           business_subject  graphic_subject  music_subject  webdev_subject  \n",
       "course_id                                                                    \n",
       "1070968    1                 0                0              0               \n",
       "1113822    1                 0                0              0               \n",
       "1006314    1                 0                0              0               \n",
       "1210588    1                 0                0              0               \n",
       "1011058    1                 0                0              0               "
      ]
     },
     "execution_count": 6,
     "metadata": {},
     "output_type": "execute_result"
    }
   ],
   "source": [
    "df_b.head()"
   ]
  },
  {
   "cell_type": "code",
   "execution_count": 7,
   "metadata": {},
   "outputs": [
    {
     "data": {
      "text/html": [
       "<div>\n",
       "<style scoped>\n",
       "    .dataframe tbody tr th:only-of-type {\n",
       "        vertical-align: middle;\n",
       "    }\n",
       "\n",
       "    .dataframe tbody tr th {\n",
       "        vertical-align: top;\n",
       "    }\n",
       "\n",
       "    .dataframe thead th {\n",
       "        text-align: right;\n",
       "    }\n",
       "</style>\n",
       "<table border=\"1\" class=\"dataframe\">\n",
       "  <thead>\n",
       "    <tr style=\"text-align: right;\">\n",
       "      <th></th>\n",
       "      <th>year_p</th>\n",
       "      <th>is_success</th>\n",
       "      <th>level_enc</th>\n",
       "      <th>is_paid_False</th>\n",
       "      <th>is_paid_True</th>\n",
       "      <th>business_subject</th>\n",
       "      <th>graphic_subject</th>\n",
       "      <th>music_subject</th>\n",
       "      <th>webdev_subject</th>\n",
       "    </tr>\n",
       "    <tr>\n",
       "      <th>course_id</th>\n",
       "      <th></th>\n",
       "      <th></th>\n",
       "      <th></th>\n",
       "      <th></th>\n",
       "      <th></th>\n",
       "      <th></th>\n",
       "      <th></th>\n",
       "      <th></th>\n",
       "      <th></th>\n",
       "    </tr>\n",
       "  </thead>\n",
       "  <tbody>\n",
       "    <tr>\n",
       "      <th>1070968</th>\n",
       "      <td>2017</td>\n",
       "      <td>1</td>\n",
       "      <td>0</td>\n",
       "      <td>0</td>\n",
       "      <td>1</td>\n",
       "      <td>1</td>\n",
       "      <td>0</td>\n",
       "      <td>0</td>\n",
       "      <td>0</td>\n",
       "    </tr>\n",
       "    <tr>\n",
       "      <th>1113822</th>\n",
       "      <td>2017</td>\n",
       "      <td>1</td>\n",
       "      <td>0</td>\n",
       "      <td>0</td>\n",
       "      <td>1</td>\n",
       "      <td>1</td>\n",
       "      <td>0</td>\n",
       "      <td>0</td>\n",
       "      <td>0</td>\n",
       "    </tr>\n",
       "    <tr>\n",
       "      <th>1006314</th>\n",
       "      <td>2016</td>\n",
       "      <td>1</td>\n",
       "      <td>2</td>\n",
       "      <td>0</td>\n",
       "      <td>1</td>\n",
       "      <td>1</td>\n",
       "      <td>0</td>\n",
       "      <td>0</td>\n",
       "      <td>0</td>\n",
       "    </tr>\n",
       "    <tr>\n",
       "      <th>1210588</th>\n",
       "      <td>2017</td>\n",
       "      <td>1</td>\n",
       "      <td>0</td>\n",
       "      <td>0</td>\n",
       "      <td>1</td>\n",
       "      <td>1</td>\n",
       "      <td>0</td>\n",
       "      <td>0</td>\n",
       "      <td>0</td>\n",
       "    </tr>\n",
       "    <tr>\n",
       "      <th>1011058</th>\n",
       "      <td>2016</td>\n",
       "      <td>0</td>\n",
       "      <td>2</td>\n",
       "      <td>0</td>\n",
       "      <td>1</td>\n",
       "      <td>1</td>\n",
       "      <td>0</td>\n",
       "      <td>0</td>\n",
       "      <td>0</td>\n",
       "    </tr>\n",
       "  </tbody>\n",
       "</table>\n",
       "</div>"
      ],
      "text/plain": [
       "           year_p  is_success  level_enc  is_paid_False  is_paid_True  \\\n",
       "course_id                                                               \n",
       "1070968    2017    1           0          0              1              \n",
       "1113822    2017    1           0          0              1              \n",
       "1006314    2016    1           2          0              1              \n",
       "1210588    2017    1           0          0              1              \n",
       "1011058    2016    0           2          0              1              \n",
       "\n",
       "           business_subject  graphic_subject  music_subject  webdev_subject  \n",
       "course_id                                                                    \n",
       "1070968    1                 0                0              0               \n",
       "1113822    1                 0                0              0               \n",
       "1006314    1                 0                0              0               \n",
       "1210588    1                 0                0              0               \n",
       "1011058    1                 0                0              0               "
      ]
     },
     "execution_count": 7,
     "metadata": {},
     "output_type": "execute_result"
    }
   ],
   "source": [
    "dfix.head()"
   ]
  },
  {
   "cell_type": "markdown",
   "metadata": {},
   "source": [
    "------------------------------------------------------------------------------------------------------------------------------------------------------"
   ]
  },
  {
   "cell_type": "markdown",
   "metadata": {},
   "source": [
    "# Splitting Data"
   ]
  },
  {
   "cell_type": "markdown",
   "metadata": {},
   "source": [
    "- **Semua yang berakhiran \"b\", berarti df_base**\n",
    "- **Semua yang berakhiran \"f\", merupakan dfix hasil feature engineering**"
   ]
  },
  {
   "cell_type": "code",
   "execution_count": 8,
   "metadata": {},
   "outputs": [],
   "source": [
    "Xb = df_b.drop(columns ='is_success')\n",
    "yb = df_b.is_success\n",
    "\n",
    "Xf = dfix.drop(columns ='is_success')\n",
    "yf = dfix.is_success"
   ]
  },
  {
   "cell_type": "code",
   "execution_count": 9,
   "metadata": {},
   "outputs": [],
   "source": [
    "Xb_train, Xb_test, yb_train, yb_test = train_test_split(Xb, yb, stratify=yb, test_size = .25, random_state=0)\n",
    "Xf_train, Xf_test, yf_train, yf_test = train_test_split(Xf, yf, stratify=yf, test_size = .25, random_state=0)"
   ]
  },
  {
   "cell_type": "code",
   "execution_count": 10,
   "metadata": {},
   "outputs": [
    {
     "data": {
      "text/plain": [
       "(2753, 13)"
      ]
     },
     "execution_count": 10,
     "metadata": {},
     "output_type": "execute_result"
    }
   ],
   "source": [
    "Xb_train.shape"
   ]
  },
  {
   "cell_type": "code",
   "execution_count": 11,
   "metadata": {},
   "outputs": [
    {
     "data": {
      "text/plain": [
       "(2753, 8)"
      ]
     },
     "execution_count": 11,
     "metadata": {},
     "output_type": "execute_result"
    }
   ],
   "source": [
    "Xf_train.shape"
   ]
  },
  {
   "cell_type": "code",
   "execution_count": 12,
   "metadata": {},
   "outputs": [
    {
     "data": {
      "text/html": [
       "<div>\n",
       "<style scoped>\n",
       "    .dataframe tbody tr th:only-of-type {\n",
       "        vertical-align: middle;\n",
       "    }\n",
       "\n",
       "    .dataframe tbody tr th {\n",
       "        vertical-align: top;\n",
       "    }\n",
       "\n",
       "    .dataframe thead th {\n",
       "        text-align: right;\n",
       "    }\n",
       "</style>\n",
       "<table border=\"1\" class=\"dataframe\">\n",
       "  <thead>\n",
       "    <tr style=\"text-align: right;\">\n",
       "      <th></th>\n",
       "      <th>year_p</th>\n",
       "      <th>level_enc</th>\n",
       "      <th>is_paid_False</th>\n",
       "      <th>is_paid_True</th>\n",
       "      <th>business_subject</th>\n",
       "      <th>graphic_subject</th>\n",
       "      <th>music_subject</th>\n",
       "      <th>webdev_subject</th>\n",
       "    </tr>\n",
       "    <tr>\n",
       "      <th>course_id</th>\n",
       "      <th></th>\n",
       "      <th></th>\n",
       "      <th></th>\n",
       "      <th></th>\n",
       "      <th></th>\n",
       "      <th></th>\n",
       "      <th></th>\n",
       "      <th></th>\n",
       "    </tr>\n",
       "  </thead>\n",
       "  <tbody>\n",
       "    <tr>\n",
       "      <th>629088</th>\n",
       "      <td>2015</td>\n",
       "      <td>1</td>\n",
       "      <td>0</td>\n",
       "      <td>1</td>\n",
       "      <td>0</td>\n",
       "      <td>0</td>\n",
       "      <td>0</td>\n",
       "      <td>1</td>\n",
       "    </tr>\n",
       "    <tr>\n",
       "      <th>544556</th>\n",
       "      <td>2015</td>\n",
       "      <td>0</td>\n",
       "      <td>0</td>\n",
       "      <td>1</td>\n",
       "      <td>1</td>\n",
       "      <td>0</td>\n",
       "      <td>0</td>\n",
       "      <td>0</td>\n",
       "    </tr>\n",
       "    <tr>\n",
       "      <th>219838</th>\n",
       "      <td>2014</td>\n",
       "      <td>2</td>\n",
       "      <td>0</td>\n",
       "      <td>1</td>\n",
       "      <td>0</td>\n",
       "      <td>0</td>\n",
       "      <td>0</td>\n",
       "      <td>1</td>\n",
       "    </tr>\n",
       "    <tr>\n",
       "      <th>883394</th>\n",
       "      <td>2016</td>\n",
       "      <td>0</td>\n",
       "      <td>0</td>\n",
       "      <td>1</td>\n",
       "      <td>1</td>\n",
       "      <td>0</td>\n",
       "      <td>0</td>\n",
       "      <td>0</td>\n",
       "    </tr>\n",
       "    <tr>\n",
       "      <th>735550</th>\n",
       "      <td>2016</td>\n",
       "      <td>0</td>\n",
       "      <td>0</td>\n",
       "      <td>1</td>\n",
       "      <td>1</td>\n",
       "      <td>0</td>\n",
       "      <td>0</td>\n",
       "      <td>0</td>\n",
       "    </tr>\n",
       "  </tbody>\n",
       "</table>\n",
       "</div>"
      ],
      "text/plain": [
       "           year_p  level_enc  is_paid_False  is_paid_True  business_subject  \\\n",
       "course_id                                                                     \n",
       "629088     2015    1          0              1             0                  \n",
       "544556     2015    0          0              1             1                  \n",
       "219838     2014    2          0              1             0                  \n",
       "883394     2016    0          0              1             1                  \n",
       "735550     2016    0          0              1             1                  \n",
       "\n",
       "           graphic_subject  music_subject  webdev_subject  \n",
       "course_id                                                  \n",
       "629088     0                0              1               \n",
       "544556     0                0              0               \n",
       "219838     0                0              1               \n",
       "883394     0                0              0               \n",
       "735550     0                0              0               "
      ]
     },
     "execution_count": 12,
     "metadata": {},
     "output_type": "execute_result"
    }
   ],
   "source": [
    "Xf_train.head()"
   ]
  },
  {
   "cell_type": "code",
   "execution_count": 13,
   "metadata": {},
   "outputs": [
    {
     "data": {
      "text/plain": [
       "year_p              2015\n",
       "level_enc           1   \n",
       "is_paid_False       0   \n",
       "is_paid_True        1   \n",
       "business_subject    0   \n",
       "graphic_subject     0   \n",
       "music_subject       0   \n",
       "webdev_subject      1   \n",
       "Name: 629088, dtype: int64"
      ]
     },
     "execution_count": 13,
     "metadata": {},
     "output_type": "execute_result"
    }
   ],
   "source": [
    "Xf_train.iloc[0]"
   ]
  },
  {
   "cell_type": "markdown",
   "metadata": {},
   "source": [
    "# Modeling"
   ]
  },
  {
   "cell_type": "markdown",
   "metadata": {},
   "source": [
    "##### Dalam pembuatan model ini, akan dilimitasi bahwa model hanya digunakan sebagai alat untuk memprediksi/mendeteksi sukses tidak nya suatu course yang akan dibuka. \n",
    "##### Hasil prediksi akan berupa persentase kesuksesan / keberhasilan dari course yang akan di-*release* dengan feature-feature yang tersedia"
   ]
  },
  {
   "cell_type": "markdown",
   "metadata": {},
   "source": [
    "- Dalam penggunaan algoritma untuk membuat model **akan banyak classification report, confusion matrix, serta accuracy score dan roc_auc_score yang dihasilkan**. Oleh karena itu akan dijelaskan terlebih dahulu disini, sehingga ini dapat diterapkan ke setiap pembacaan classification report, confusion matrix, serta accuracy and roc_auc_score\n",
    "\n",
    "![ini image](https://i.ibb.co/jWc7mtX/Confusion-matrix.png)\n",
    "\n",
    "### Penjelasan Classification Report\n",
    "1. recall 0 (recall negatif) => merupakan jumlah prediksi benar di kelas negatif (TN) dibandingkan seluruh jumlah aktual negatif (TN + FP)\n",
    "2. recall 1 (recall positif) => merupakan jumlah prediksi benar di kelas positif (TP) dibandingkan seluruh jumlah aktual positif (TP + FN)\n",
    "3. precision 0 (precision negatif) => merupakan jumlah prediksi benar di kelas negatif (TN) dibandingkan seluruh jumlah tebakan negatif (TN + FN)\n",
    "4. precision 1 (precision positif) => merupakan jumlah prediksi benar di kelas positif (TP) dibandingkan seluruh jumlah tebakan positif (TP + FP)\n",
    "5. Accuracy => seluruh tebakan benar dibandingkan seluruh seluruh data\n",
    "\n",
    "- Dikarenakan dataset yang digunakan memiliki target yang balance, maka accuracy dapat juga di pertimbangkan sebagai penentu ketepatan model\n",
    "- Fokus model ialah untuk memperoleh recall negatif dan akurasi setinggi mungkin, sehingga False Positif dapat dihindari.\n",
    "- Alasan mengapa False Positif perlu dihindari dikarenakan:\n",
    "  - Course yang actualnya **SUKSES (1)** ditebak **TIDAK SUKSES(0)** (FN), perusahaan hanya rugi karena kehilangan kesempatan meraup keuntungan.\n",
    "  - Sedangkan ketika course yang actualnya **TIDAK SUKSES (0)** ditebak **SUKSES(1)**, maka perusahaan akan rugi karena kehilangan cost yang telah banyak dikeluarkan, apalagi jika lecture yang dikontrak banyak, maka mendapat kerugian juga karena sudang menggaji nya. Oleh karena itu kerugian ini lah yang harus dihindari\n",
    "- Artinya tujuan **pembuatan model akan dicari yang recall 0 dan accuracy nya tinggi**\n",
    "\n",
    "### Penjelasan Confusion Matrix\n",
    "1. TP ==> ialah ketika aktual positif ditebak positif\n",
    "2. FP ==> ialah ketika aktual negatif ditebak positif\n",
    "3. TN ==> ialah ketika aktual negatif ditebak negatif\n",
    "4. FN ==> ialah ketika aktual positif ditebak negatif\n"
   ]
  },
  {
   "cell_type": "code",
   "execution_count": null,
   "metadata": {},
   "outputs": [],
   "source": []
  },
  {
   "cell_type": "markdown",
   "metadata": {},
   "source": [
    "# (10-11, 14-15) Training with Base and Complex Model"
   ]
  },
  {
   "cell_type": "markdown",
   "metadata": {},
   "source": [
    "### Model 1 - Logistic Regeression"
   ]
  },
  {
   "cell_type": "markdown",
   "metadata": {},
   "source": [
    "### 1. Base"
   ]
  },
  {
   "cell_type": "code",
   "execution_count": 101,
   "metadata": {},
   "outputs": [
    {
     "data": {
      "text/plain": [
       "LogisticRegression()"
      ]
     },
     "execution_count": 101,
     "metadata": {},
     "output_type": "execute_result"
    }
   ],
   "source": [
    "model_b1 = LogisticRegression()\n",
    "model_b1.fit(Xb_train,yb_train)"
   ]
  },
  {
   "cell_type": "code",
   "execution_count": 102,
   "metadata": {},
   "outputs": [],
   "source": [
    "yb1_pred = model_b1.predict(Xb_test)\n",
    "yb1_predt = model_b1.predict(Xb_train)"
   ]
  },
  {
   "cell_type": "code",
   "execution_count": 103,
   "metadata": {},
   "outputs": [
    {
     "name": "stdout",
     "output_type": "stream",
     "text": [
      "              precision    recall  f1-score   support\n",
      "\n",
      "           0       0.78      0.80      0.79       577\n",
      "           1       0.65      0.62      0.63       341\n",
      "\n",
      "    accuracy                           0.73       918\n",
      "   macro avg       0.71      0.71      0.71       918\n",
      "weighted avg       0.73      0.73      0.73       918\n",
      "\n"
     ]
    }
   ],
   "source": [
    "print(classification_report(yb_test, yb1_pred))"
   ]
  },
  {
   "cell_type": "code",
   "execution_count": 104,
   "metadata": {},
   "outputs": [
    {
     "name": "stdout",
     "output_type": "stream",
     "text": [
      "              precision    recall  f1-score   support\n",
      "\n",
      "           0       0.77      0.83      0.80      1729\n",
      "           1       0.67      0.59      0.63      1024\n",
      "\n",
      "    accuracy                           0.74      2753\n",
      "   macro avg       0.72      0.71      0.72      2753\n",
      "weighted avg       0.74      0.74      0.74      2753\n",
      "\n"
     ]
    }
   ],
   "source": [
    "print(classification_report(yb_train, yb1_predt))"
   ]
  },
  {
   "cell_type": "code",
   "execution_count": 105,
   "metadata": {},
   "outputs": [
    {
     "data": {
      "text/html": [
       "<div>\n",
       "<style scoped>\n",
       "    .dataframe tbody tr th:only-of-type {\n",
       "        vertical-align: middle;\n",
       "    }\n",
       "\n",
       "    .dataframe tbody tr th {\n",
       "        vertical-align: top;\n",
       "    }\n",
       "\n",
       "    .dataframe thead th {\n",
       "        text-align: right;\n",
       "    }\n",
       "</style>\n",
       "<table border=\"1\" class=\"dataframe\">\n",
       "  <thead>\n",
       "    <tr style=\"text-align: right;\">\n",
       "      <th></th>\n",
       "      <th>Pred 1</th>\n",
       "      <th>Pred 0</th>\n",
       "    </tr>\n",
       "  </thead>\n",
       "  <tbody>\n",
       "    <tr>\n",
       "      <th>Act 1</th>\n",
       "      <td>210</td>\n",
       "      <td>131</td>\n",
       "    </tr>\n",
       "    <tr>\n",
       "      <th>Act 0</th>\n",
       "      <td>113</td>\n",
       "      <td>464</td>\n",
       "    </tr>\n",
       "  </tbody>\n",
       "</table>\n",
       "</div>"
      ],
      "text/plain": [
       "       Pred 1  Pred 0\n",
       "Act 1  210     131   \n",
       "Act 0  113     464   "
      ]
     },
     "execution_count": 105,
     "metadata": {},
     "output_type": "execute_result"
    }
   ],
   "source": [
    "cbb1 = confusion_matrix(yb_test, yb1_pred, labels=[1, 0])\n",
    "cb_b1 = pd.DataFrame(cbb1,\n",
    "                 columns=['Pred 1', 'Pred 0'],\n",
    "                 index=['Act 1', 'Act 0'])\n",
    "cb_b1"
   ]
  },
  {
   "cell_type": "code",
   "execution_count": 106,
   "metadata": {},
   "outputs": [],
   "source": [
    "roc_b1 = roc_auc_score(yb_test, yb1_pred)\n",
    "recall0_b1 = recall_score(yb_test, yb1_pred, pos_label=0)\n",
    "FNb1= cb_b1['Pred 0'].iloc[0]\n",
    "FPb1 = cb_b1['Pred 1'].iloc[1]"
   ]
  },
  {
   "cell_type": "markdown",
   "metadata": {},
   "source": [
    "### 2. Complex (dfix)"
   ]
  },
  {
   "cell_type": "code",
   "execution_count": 107,
   "metadata": {},
   "outputs": [
    {
     "data": {
      "text/plain": [
       "LogisticRegression()"
      ]
     },
     "execution_count": 107,
     "metadata": {},
     "output_type": "execute_result"
    }
   ],
   "source": [
    "model_f1 = LogisticRegression()\n",
    "model_f1.fit(Xf_train,yf_train)"
   ]
  },
  {
   "cell_type": "code",
   "execution_count": 108,
   "metadata": {},
   "outputs": [],
   "source": [
    "yf1_pred = model_f1.predict(Xf_test)\n",
    "yf1_predt = model_f1.predict(Xf_train)"
   ]
  },
  {
   "cell_type": "code",
   "execution_count": 109,
   "metadata": {},
   "outputs": [
    {
     "name": "stdout",
     "output_type": "stream",
     "text": [
      "              precision    recall  f1-score   support\n",
      "\n",
      "           0       0.82      0.79      0.80       577\n",
      "           1       0.66      0.70      0.68       341\n",
      "\n",
      "    accuracy                           0.76       918\n",
      "   macro avg       0.74      0.74      0.74       918\n",
      "weighted avg       0.76      0.76      0.76       918\n",
      "\n"
     ]
    }
   ],
   "source": [
    "print(classification_report(yf_test, yf1_pred))"
   ]
  },
  {
   "cell_type": "code",
   "execution_count": 110,
   "metadata": {},
   "outputs": [
    {
     "name": "stdout",
     "output_type": "stream",
     "text": [
      "              precision    recall  f1-score   support\n",
      "\n",
      "           0       0.81      0.81      0.81      1729\n",
      "           1       0.68      0.67      0.67      1024\n",
      "\n",
      "    accuracy                           0.76      2753\n",
      "   macro avg       0.74      0.74      0.74      2753\n",
      "weighted avg       0.76      0.76      0.76      2753\n",
      "\n"
     ]
    }
   ],
   "source": [
    "print(classification_report(yf_train, yf1_predt))"
   ]
  },
  {
   "cell_type": "code",
   "execution_count": 111,
   "metadata": {},
   "outputs": [
    {
     "data": {
      "text/html": [
       "<div>\n",
       "<style scoped>\n",
       "    .dataframe tbody tr th:only-of-type {\n",
       "        vertical-align: middle;\n",
       "    }\n",
       "\n",
       "    .dataframe tbody tr th {\n",
       "        vertical-align: top;\n",
       "    }\n",
       "\n",
       "    .dataframe thead th {\n",
       "        text-align: right;\n",
       "    }\n",
       "</style>\n",
       "<table border=\"1\" class=\"dataframe\">\n",
       "  <thead>\n",
       "    <tr style=\"text-align: right;\">\n",
       "      <th></th>\n",
       "      <th>Pred 1</th>\n",
       "      <th>Pred 0</th>\n",
       "    </tr>\n",
       "  </thead>\n",
       "  <tbody>\n",
       "    <tr>\n",
       "      <th>Act 1</th>\n",
       "      <td>239</td>\n",
       "      <td>102</td>\n",
       "    </tr>\n",
       "    <tr>\n",
       "      <th>Act 0</th>\n",
       "      <td>122</td>\n",
       "      <td>455</td>\n",
       "    </tr>\n",
       "  </tbody>\n",
       "</table>\n",
       "</div>"
      ],
      "text/plain": [
       "       Pred 1  Pred 0\n",
       "Act 1  239     102   \n",
       "Act 0  122     455   "
      ]
     },
     "execution_count": 111,
     "metadata": {},
     "output_type": "execute_result"
    }
   ],
   "source": [
    "cfb1 = confusion_matrix(yf_test, yf1_pred, labels=[1, 0])\n",
    "cf_b1 = pd.DataFrame(cfb1,\n",
    "                 columns=['Pred 1', 'Pred 0'],\n",
    "                 index=['Act 1', 'Act 0'])\n",
    "cf_b1"
   ]
  },
  {
   "cell_type": "code",
   "execution_count": 112,
   "metadata": {},
   "outputs": [],
   "source": [
    "roc_f1 = roc_auc_score(yf_test, yf1_pred)\n",
    "recall0_f1 = recall_score(yf_test, yf1_pred, pos_label=0)\n",
    "FNf1= cf_b1['Pred 0'].iloc[0]\n",
    "FPf1= cf_b1['Pred 1'].iloc[1]"
   ]
  },
  {
   "cell_type": "markdown",
   "metadata": {},
   "source": [
    "### Model 2 - XGB Classifier"
   ]
  },
  {
   "cell_type": "markdown",
   "metadata": {},
   "source": [
    "### 1. Base"
   ]
  },
  {
   "cell_type": "code",
   "execution_count": 113,
   "metadata": {},
   "outputs": [
    {
     "data": {
      "text/plain": [
       "XGBClassifier()"
      ]
     },
     "execution_count": 113,
     "metadata": {},
     "output_type": "execute_result"
    }
   ],
   "source": [
    "model_b2 = XGBClassifier()\n",
    "model_b2.fit(Xb_train,yb_train)"
   ]
  },
  {
   "cell_type": "code",
   "execution_count": 114,
   "metadata": {},
   "outputs": [],
   "source": [
    "yb2_pred = model_b2.predict(Xb_test)\n",
    "yb2_predt = model_b2.predict(Xb_train)"
   ]
  },
  {
   "cell_type": "code",
   "execution_count": 115,
   "metadata": {},
   "outputs": [
    {
     "name": "stdout",
     "output_type": "stream",
     "text": [
      "              precision    recall  f1-score   support\n",
      "\n",
      "           0       0.81      0.84      0.82       577\n",
      "           1       0.71      0.66      0.68       341\n",
      "\n",
      "    accuracy                           0.77       918\n",
      "   macro avg       0.76      0.75      0.75       918\n",
      "weighted avg       0.77      0.77      0.77       918\n",
      "\n"
     ]
    }
   ],
   "source": [
    "print(classification_report(yb_test, yb2_pred))"
   ]
  },
  {
   "cell_type": "code",
   "execution_count": 116,
   "metadata": {},
   "outputs": [
    {
     "name": "stdout",
     "output_type": "stream",
     "text": [
      "              precision    recall  f1-score   support\n",
      "\n",
      "           0       0.84      0.88      0.86      1729\n",
      "           1       0.78      0.71      0.74      1024\n",
      "\n",
      "    accuracy                           0.82      2753\n",
      "   macro avg       0.81      0.79      0.80      2753\n",
      "weighted avg       0.81      0.82      0.81      2753\n",
      "\n"
     ]
    }
   ],
   "source": [
    "print(classification_report(yb_train, yb2_predt))"
   ]
  },
  {
   "cell_type": "code",
   "execution_count": 117,
   "metadata": {},
   "outputs": [
    {
     "data": {
      "text/plain": [
       "0.7501893198208958"
      ]
     },
     "execution_count": 117,
     "metadata": {},
     "output_type": "execute_result"
    }
   ],
   "source": [
    "roc_auc_score(yb_test, yb2_pred)"
   ]
  },
  {
   "cell_type": "code",
   "execution_count": 118,
   "metadata": {},
   "outputs": [
    {
     "data": {
      "text/plain": [
       "0.7937634425607286"
      ]
     },
     "execution_count": 118,
     "metadata": {},
     "output_type": "execute_result"
    }
   ],
   "source": [
    "roc_auc_score(yb_train, yb2_predt)"
   ]
  },
  {
   "cell_type": "code",
   "execution_count": 119,
   "metadata": {},
   "outputs": [
    {
     "data": {
      "text/html": [
       "<div>\n",
       "<style scoped>\n",
       "    .dataframe tbody tr th:only-of-type {\n",
       "        vertical-align: middle;\n",
       "    }\n",
       "\n",
       "    .dataframe tbody tr th {\n",
       "        vertical-align: top;\n",
       "    }\n",
       "\n",
       "    .dataframe thead th {\n",
       "        text-align: right;\n",
       "    }\n",
       "</style>\n",
       "<table border=\"1\" class=\"dataframe\">\n",
       "  <thead>\n",
       "    <tr style=\"text-align: right;\">\n",
       "      <th></th>\n",
       "      <th>Pred 1</th>\n",
       "      <th>Pred 0</th>\n",
       "    </tr>\n",
       "  </thead>\n",
       "  <tbody>\n",
       "    <tr>\n",
       "      <th>Act 1</th>\n",
       "      <td>225</td>\n",
       "      <td>116</td>\n",
       "    </tr>\n",
       "    <tr>\n",
       "      <th>Act 0</th>\n",
       "      <td>92</td>\n",
       "      <td>485</td>\n",
       "    </tr>\n",
       "  </tbody>\n",
       "</table>\n",
       "</div>"
      ],
      "text/plain": [
       "       Pred 1  Pred 0\n",
       "Act 1  225     116   \n",
       "Act 0  92      485   "
      ]
     },
     "execution_count": 119,
     "metadata": {},
     "output_type": "execute_result"
    }
   ],
   "source": [
    "cbb2 = confusion_matrix(yb_test, yb2_pred, labels=[1, 0])\n",
    "cb_b2 = pd.DataFrame(cbb2,\n",
    "                 columns=['Pred 1', 'Pred 0'],\n",
    "                 index=['Act 1', 'Act 0'])\n",
    "cb_b2"
   ]
  },
  {
   "cell_type": "code",
   "execution_count": 120,
   "metadata": {},
   "outputs": [],
   "source": [
    "roc_b2 = roc_auc_score(yb_test, yb2_pred)\n",
    "recall0_b2 = recall_score(yb_test, yb2_pred, pos_label=0)\n",
    "FNb2= cb_b2['Pred 0'].iloc[0]\n",
    "FPb2 = cb_b2['Pred 1'].iloc[1]"
   ]
  },
  {
   "cell_type": "markdown",
   "metadata": {},
   "source": [
    "### 2. Complex (dfix)"
   ]
  },
  {
   "cell_type": "code",
   "execution_count": 121,
   "metadata": {},
   "outputs": [
    {
     "data": {
      "text/plain": [
       "XGBClassifier()"
      ]
     },
     "execution_count": 121,
     "metadata": {},
     "output_type": "execute_result"
    }
   ],
   "source": [
    "model_f2 = XGBClassifier()\n",
    "model_f2.fit(Xf_train,yf_train)"
   ]
  },
  {
   "cell_type": "code",
   "execution_count": 122,
   "metadata": {},
   "outputs": [],
   "source": [
    "yf2_pred = model_f2.predict(Xf_test)\n",
    "yf2_predt = model_f2.predict(Xf_train)"
   ]
  },
  {
   "cell_type": "code",
   "execution_count": 123,
   "metadata": {},
   "outputs": [
    {
     "name": "stdout",
     "output_type": "stream",
     "text": [
      "              precision    recall  f1-score   support\n",
      "\n",
      "           0       0.80      0.84      0.82       577\n",
      "           1       0.71      0.65      0.68       341\n",
      "\n",
      "    accuracy                           0.77       918\n",
      "   macro avg       0.76      0.75      0.75       918\n",
      "weighted avg       0.77      0.77      0.77       918\n",
      "\n"
     ]
    }
   ],
   "source": [
    "print(classification_report(yf_test, yf2_pred))"
   ]
  },
  {
   "cell_type": "code",
   "execution_count": 124,
   "metadata": {},
   "outputs": [
    {
     "name": "stdout",
     "output_type": "stream",
     "text": [
      "              precision    recall  f1-score   support\n",
      "\n",
      "           0       0.79      0.86      0.82      1729\n",
      "           1       0.72      0.61      0.66      1024\n",
      "\n",
      "    accuracy                           0.77      2753\n",
      "   macro avg       0.75      0.73      0.74      2753\n",
      "weighted avg       0.76      0.77      0.76      2753\n",
      "\n"
     ]
    }
   ],
   "source": [
    "print(classification_report(yf_train, yf2_predt))"
   ]
  },
  {
   "cell_type": "code",
   "execution_count": 125,
   "metadata": {},
   "outputs": [
    {
     "data": {
      "text/html": [
       "<div>\n",
       "<style scoped>\n",
       "    .dataframe tbody tr th:only-of-type {\n",
       "        vertical-align: middle;\n",
       "    }\n",
       "\n",
       "    .dataframe tbody tr th {\n",
       "        vertical-align: top;\n",
       "    }\n",
       "\n",
       "    .dataframe thead th {\n",
       "        text-align: right;\n",
       "    }\n",
       "</style>\n",
       "<table border=\"1\" class=\"dataframe\">\n",
       "  <thead>\n",
       "    <tr style=\"text-align: right;\">\n",
       "      <th></th>\n",
       "      <th>Pred 1</th>\n",
       "      <th>Pred 0</th>\n",
       "    </tr>\n",
       "  </thead>\n",
       "  <tbody>\n",
       "    <tr>\n",
       "      <th>Act 1</th>\n",
       "      <td>222</td>\n",
       "      <td>119</td>\n",
       "    </tr>\n",
       "    <tr>\n",
       "      <th>Act 0</th>\n",
       "      <td>91</td>\n",
       "      <td>486</td>\n",
       "    </tr>\n",
       "  </tbody>\n",
       "</table>\n",
       "</div>"
      ],
      "text/plain": [
       "       Pred 1  Pred 0\n",
       "Act 1  222     119   \n",
       "Act 0  91      486   "
      ]
     },
     "execution_count": 125,
     "metadata": {},
     "output_type": "execute_result"
    }
   ],
   "source": [
    "cfb2 = confusion_matrix(yf_test, yf2_pred, labels=[1, 0])\n",
    "cf_b2 = pd.DataFrame(cfb2,\n",
    "                 columns=['Pred 1', 'Pred 0'],\n",
    "                 index=['Act 1', 'Act 0'])\n",
    "cf_b2"
   ]
  },
  {
   "cell_type": "code",
   "execution_count": 126,
   "metadata": {},
   "outputs": [],
   "source": [
    "roc_f2 = roc_auc_score(yf_test, yf2_pred)\n",
    "recall0_f2 = recall_score(yf_test, yf2_pred, pos_label=0)\n",
    "FNf2= cf_b2['Pred 0'].iloc[0]\n",
    "FPf2 = cf_b2['Pred 1'].iloc[1]"
   ]
  },
  {
   "cell_type": "markdown",
   "metadata": {},
   "source": [
    "### Model 3 - KNN Classifier"
   ]
  },
  {
   "cell_type": "markdown",
   "metadata": {},
   "source": [
    "### 1. Base"
   ]
  },
  {
   "cell_type": "code",
   "execution_count": 127,
   "metadata": {},
   "outputs": [
    {
     "data": {
      "text/plain": [
       "KNeighborsClassifier()"
      ]
     },
     "execution_count": 127,
     "metadata": {},
     "output_type": "execute_result"
    }
   ],
   "source": [
    "model_b3 = KNeighborsClassifier()\n",
    "model_b3.fit(Xb_train,yb_train)"
   ]
  },
  {
   "cell_type": "code",
   "execution_count": 128,
   "metadata": {},
   "outputs": [],
   "source": [
    "yb3_pred = model_b3.predict(Xb_test)\n",
    "yb3_predt = model_b3.predict(Xb_train)"
   ]
  },
  {
   "cell_type": "code",
   "execution_count": 129,
   "metadata": {},
   "outputs": [
    {
     "name": "stdout",
     "output_type": "stream",
     "text": [
      "              precision    recall  f1-score   support\n",
      "\n",
      "           0       0.71      0.77      0.74       577\n",
      "           1       0.54      0.47      0.50       341\n",
      "\n",
      "    accuracy                           0.65       918\n",
      "   macro avg       0.62      0.62      0.62       918\n",
      "weighted avg       0.65      0.65      0.65       918\n",
      "\n"
     ]
    }
   ],
   "source": [
    "print(classification_report(yb_test, yb3_pred))"
   ]
  },
  {
   "cell_type": "code",
   "execution_count": 130,
   "metadata": {},
   "outputs": [
    {
     "name": "stdout",
     "output_type": "stream",
     "text": [
      "              precision    recall  f1-score   support\n",
      "\n",
      "           0       0.79      0.87      0.83      1729\n",
      "           1       0.73      0.61      0.66      1024\n",
      "\n",
      "    accuracy                           0.77      2753\n",
      "   macro avg       0.76      0.74      0.74      2753\n",
      "weighted avg       0.77      0.77      0.77      2753\n",
      "\n"
     ]
    }
   ],
   "source": [
    "print(classification_report(yb_train, yb3_predt))"
   ]
  },
  {
   "cell_type": "code",
   "execution_count": 131,
   "metadata": {},
   "outputs": [
    {
     "data": {
      "text/html": [
       "<div>\n",
       "<style scoped>\n",
       "    .dataframe tbody tr th:only-of-type {\n",
       "        vertical-align: middle;\n",
       "    }\n",
       "\n",
       "    .dataframe tbody tr th {\n",
       "        vertical-align: top;\n",
       "    }\n",
       "\n",
       "    .dataframe thead th {\n",
       "        text-align: right;\n",
       "    }\n",
       "</style>\n",
       "<table border=\"1\" class=\"dataframe\">\n",
       "  <thead>\n",
       "    <tr style=\"text-align: right;\">\n",
       "      <th></th>\n",
       "      <th>Pred 1</th>\n",
       "      <th>Pred 0</th>\n",
       "    </tr>\n",
       "  </thead>\n",
       "  <tbody>\n",
       "    <tr>\n",
       "      <th>Act 1</th>\n",
       "      <td>159</td>\n",
       "      <td>182</td>\n",
       "    </tr>\n",
       "    <tr>\n",
       "      <th>Act 0</th>\n",
       "      <td>135</td>\n",
       "      <td>442</td>\n",
       "    </tr>\n",
       "  </tbody>\n",
       "</table>\n",
       "</div>"
      ],
      "text/plain": [
       "       Pred 1  Pred 0\n",
       "Act 1  159     182   \n",
       "Act 0  135     442   "
      ]
     },
     "execution_count": 131,
     "metadata": {},
     "output_type": "execute_result"
    }
   ],
   "source": [
    "cbb3 = confusion_matrix(yb_test, yb3_pred, labels=[1, 0])\n",
    "cb_b3 = pd.DataFrame(cbb3,\n",
    "                 columns=['Pred 1', 'Pred 0'],\n",
    "                 index=['Act 1', 'Act 0'])\n",
    "cb_b3"
   ]
  },
  {
   "cell_type": "code",
   "execution_count": 132,
   "metadata": {},
   "outputs": [],
   "source": [
    "roc_b3 = roc_auc_score(yb_test, yb3_pred)\n",
    "recall0_b3 = recall_score(yb_test, yb3_pred, pos_label=0)\n",
    "FNb3= cb_b3['Pred 0'].iloc[0]\n",
    "FPb3 = cb_b3['Pred 1'].iloc[1]"
   ]
  },
  {
   "cell_type": "markdown",
   "metadata": {},
   "source": [
    "### 2. Complex (dfix)"
   ]
  },
  {
   "cell_type": "code",
   "execution_count": 133,
   "metadata": {},
   "outputs": [
    {
     "data": {
      "text/plain": [
       "KNeighborsClassifier()"
      ]
     },
     "execution_count": 133,
     "metadata": {},
     "output_type": "execute_result"
    }
   ],
   "source": [
    "model_f3 = KNeighborsClassifier()\n",
    "model_f3.fit(Xf_train,yf_train)"
   ]
  },
  {
   "cell_type": "code",
   "execution_count": 134,
   "metadata": {},
   "outputs": [],
   "source": [
    "yf3_pred = model_f3.predict(Xf_test)\n",
    "yf3_predt = model_f3.predict(Xf_train)"
   ]
  },
  {
   "cell_type": "code",
   "execution_count": 135,
   "metadata": {},
   "outputs": [
    {
     "name": "stdout",
     "output_type": "stream",
     "text": [
      "              precision    recall  f1-score   support\n",
      "\n",
      "           0       0.80      0.80      0.80       577\n",
      "           1       0.66      0.66      0.66       341\n",
      "\n",
      "    accuracy                           0.75       918\n",
      "   macro avg       0.73      0.73      0.73       918\n",
      "weighted avg       0.75      0.75      0.75       918\n",
      "\n"
     ]
    }
   ],
   "source": [
    "print(classification_report(yf_test, yf3_pred))"
   ]
  },
  {
   "cell_type": "code",
   "execution_count": 136,
   "metadata": {},
   "outputs": [
    {
     "name": "stdout",
     "output_type": "stream",
     "text": [
      "              precision    recall  f1-score   support\n",
      "\n",
      "           0       0.80      0.82      0.81      1729\n",
      "           1       0.68      0.65      0.66      1024\n",
      "\n",
      "    accuracy                           0.76      2753\n",
      "   macro avg       0.74      0.73      0.74      2753\n",
      "weighted avg       0.75      0.76      0.75      2753\n",
      "\n"
     ]
    }
   ],
   "source": [
    "print(classification_report(yf_train, yf3_predt))"
   ]
  },
  {
   "cell_type": "code",
   "execution_count": 137,
   "metadata": {},
   "outputs": [
    {
     "data": {
      "text/html": [
       "<div>\n",
       "<style scoped>\n",
       "    .dataframe tbody tr th:only-of-type {\n",
       "        vertical-align: middle;\n",
       "    }\n",
       "\n",
       "    .dataframe tbody tr th {\n",
       "        vertical-align: top;\n",
       "    }\n",
       "\n",
       "    .dataframe thead th {\n",
       "        text-align: right;\n",
       "    }\n",
       "</style>\n",
       "<table border=\"1\" class=\"dataframe\">\n",
       "  <thead>\n",
       "    <tr style=\"text-align: right;\">\n",
       "      <th></th>\n",
       "      <th>Pred 1</th>\n",
       "      <th>Pred 0</th>\n",
       "    </tr>\n",
       "  </thead>\n",
       "  <tbody>\n",
       "    <tr>\n",
       "      <th>Act 1</th>\n",
       "      <td>226</td>\n",
       "      <td>115</td>\n",
       "    </tr>\n",
       "    <tr>\n",
       "      <th>Act 0</th>\n",
       "      <td>118</td>\n",
       "      <td>459</td>\n",
       "    </tr>\n",
       "  </tbody>\n",
       "</table>\n",
       "</div>"
      ],
      "text/plain": [
       "       Pred 1  Pred 0\n",
       "Act 1  226     115   \n",
       "Act 0  118     459   "
      ]
     },
     "execution_count": 137,
     "metadata": {},
     "output_type": "execute_result"
    }
   ],
   "source": [
    "cfb3 = confusion_matrix(yf_test, yf3_pred, labels=[1, 0])\n",
    "cf_b3 = pd.DataFrame(cfb3,\n",
    "                 columns=['Pred 1', 'Pred 0'],\n",
    "                 index=['Act 1', 'Act 0'])\n",
    "cf_b3"
   ]
  },
  {
   "cell_type": "code",
   "execution_count": 138,
   "metadata": {},
   "outputs": [],
   "source": [
    "roc_f3 = roc_auc_score(yf_test, yf3_pred)\n",
    "recall0_f3 = recall_score(yf_test, yf3_pred, pos_label=0)\n",
    "FNf3= cf_b3['Pred 0'].iloc[0]\n",
    "FPf3 = cf_b3['Pred 1'].iloc[1]"
   ]
  },
  {
   "cell_type": "markdown",
   "metadata": {},
   "source": [
    "# Preprocessing"
   ]
  },
  {
   "cell_type": "markdown",
   "metadata": {},
   "source": [
    "### A. Scalling"
   ]
  },
  {
   "cell_type": "markdown",
   "metadata": {},
   "source": [
    "- Dikarenakan dataset terdapat banyak outlier dan target tidak terdistribusi normal, maka digunakan lah \"Robust Scaller\""
   ]
  },
  {
   "cell_type": "code",
   "execution_count": 137,
   "metadata": {},
   "outputs": [],
   "source": [
    "scaler = RobustScaler()"
   ]
  },
  {
   "cell_type": "code",
   "execution_count": 138,
   "metadata": {},
   "outputs": [],
   "source": [
    "Xb_scaled = scaler.fit_transform(Xb_train)\n",
    "Xf_scaled = scaler.fit_transform(Xf_train)\n",
    "Xb_tests = scaler.fit_transform(Xb_test)\n",
    "Xf_tests = scaler.fit_transform(Xf_test)"
   ]
  },
  {
   "cell_type": "markdown",
   "metadata": {},
   "source": [
    "### LogisticScaled"
   ]
  },
  {
   "cell_type": "markdown",
   "metadata": {},
   "source": [
    "### 1. Base Scaled"
   ]
  },
  {
   "cell_type": "code",
   "execution_count": 139,
   "metadata": {},
   "outputs": [
    {
     "data": {
      "text/plain": [
       "LogisticRegression()"
      ]
     },
     "execution_count": 139,
     "metadata": {},
     "output_type": "execute_result"
    }
   ],
   "source": [
    "model_b1.fit(Xb_scaled, yb_train)"
   ]
  },
  {
   "cell_type": "code",
   "execution_count": 140,
   "metadata": {},
   "outputs": [],
   "source": [
    "ybs_pred = model_b1.predict(Xb_tests)\n",
    "ybs_predt = model_b1.predict(Xb_scaled)"
   ]
  },
  {
   "cell_type": "code",
   "execution_count": 141,
   "metadata": {},
   "outputs": [
    {
     "name": "stdout",
     "output_type": "stream",
     "text": [
      "              precision    recall  f1-score   support\n",
      "\n",
      "           0       0.79      0.83      0.81       577\n",
      "           1       0.69      0.63      0.66       341\n",
      "\n",
      "    accuracy                           0.76       918\n",
      "   macro avg       0.74      0.73      0.73       918\n",
      "weighted avg       0.75      0.76      0.75       918\n",
      "\n"
     ]
    }
   ],
   "source": [
    "print(classification_report(yb_test, ybs_pred))"
   ]
  },
  {
   "cell_type": "code",
   "execution_count": 142,
   "metadata": {},
   "outputs": [
    {
     "name": "stdout",
     "output_type": "stream",
     "text": [
      "              precision    recall  f1-score   support\n",
      "\n",
      "           0       0.80      0.86      0.83      1729\n",
      "           1       0.73      0.62      0.67      1024\n",
      "\n",
      "    accuracy                           0.77      2753\n",
      "   macro avg       0.76      0.74      0.75      2753\n",
      "weighted avg       0.77      0.77      0.77      2753\n",
      "\n"
     ]
    }
   ],
   "source": [
    "print(classification_report(yb_train, ybs_predt))"
   ]
  },
  {
   "cell_type": "code",
   "execution_count": 143,
   "metadata": {},
   "outputs": [
    {
     "data": {
      "text/html": [
       "<div>\n",
       "<style scoped>\n",
       "    .dataframe tbody tr th:only-of-type {\n",
       "        vertical-align: middle;\n",
       "    }\n",
       "\n",
       "    .dataframe tbody tr th {\n",
       "        vertical-align: top;\n",
       "    }\n",
       "\n",
       "    .dataframe thead th {\n",
       "        text-align: right;\n",
       "    }\n",
       "</style>\n",
       "<table border=\"1\" class=\"dataframe\">\n",
       "  <thead>\n",
       "    <tr style=\"text-align: right;\">\n",
       "      <th></th>\n",
       "      <th>Pred 1</th>\n",
       "      <th>Pred 0</th>\n",
       "    </tr>\n",
       "  </thead>\n",
       "  <tbody>\n",
       "    <tr>\n",
       "      <th>Act 1</th>\n",
       "      <td>216</td>\n",
       "      <td>125</td>\n",
       "    </tr>\n",
       "    <tr>\n",
       "      <th>Act 0</th>\n",
       "      <td>99</td>\n",
       "      <td>478</td>\n",
       "    </tr>\n",
       "  </tbody>\n",
       "</table>\n",
       "</div>"
      ],
      "text/plain": [
       "       Pred 1  Pred 0\n",
       "Act 1  216     125   \n",
       "Act 0  99      478   "
      ]
     },
     "execution_count": 143,
     "metadata": {},
     "output_type": "execute_result"
    }
   ],
   "source": [
    "cbls = confusion_matrix(yb_test, ybs_pred, labels=[1, 0])\n",
    "cb_ls = pd.DataFrame(cbls,\n",
    "                 columns=['Pred 1', 'Pred 0'],\n",
    "                 index=['Act 1', 'Act 0'])\n",
    "cb_ls"
   ]
  },
  {
   "cell_type": "code",
   "execution_count": 144,
   "metadata": {},
   "outputs": [],
   "source": [
    "roc_bls = roc_auc_score(yb_test, ybs_pred)\n",
    "recall0_bls = recall_score(yb_test, ybs_pred, pos_label=0)\n",
    "FNbls= cb_ls['Pred 0'].iloc[0]\n",
    "FPbls = cb_ls['Pred 1'].iloc[1]"
   ]
  },
  {
   "cell_type": "markdown",
   "metadata": {},
   "source": [
    "### 2. Complex (dfix Scaled)"
   ]
  },
  {
   "cell_type": "code",
   "execution_count": 145,
   "metadata": {},
   "outputs": [
    {
     "data": {
      "text/plain": [
       "LogisticRegression()"
      ]
     },
     "execution_count": 145,
     "metadata": {},
     "output_type": "execute_result"
    }
   ],
   "source": [
    "model_f1.fit(Xf_scaled, yf_train)"
   ]
  },
  {
   "cell_type": "code",
   "execution_count": 146,
   "metadata": {},
   "outputs": [],
   "source": [
    "yfs_pred = model_f1.predict(Xf_tests)\n",
    "yfs_predt = model_f1.predict(Xf_scaled)"
   ]
  },
  {
   "cell_type": "code",
   "execution_count": 147,
   "metadata": {},
   "outputs": [
    {
     "name": "stdout",
     "output_type": "stream",
     "text": [
      "              precision    recall  f1-score   support\n",
      "\n",
      "           0       0.81      0.82      0.81       577\n",
      "           1       0.68      0.67      0.67       341\n",
      "\n",
      "    accuracy                           0.76       918\n",
      "   macro avg       0.74      0.74      0.74       918\n",
      "weighted avg       0.76      0.76      0.76       918\n",
      "\n"
     ]
    }
   ],
   "source": [
    "print(classification_report(yf_test, yfs_pred))"
   ]
  },
  {
   "cell_type": "code",
   "execution_count": 148,
   "metadata": {},
   "outputs": [
    {
     "name": "stdout",
     "output_type": "stream",
     "text": [
      "              precision    recall  f1-score   support\n",
      "\n",
      "           0       0.79      0.84      0.81      1729\n",
      "           1       0.70      0.63      0.66      1024\n",
      "\n",
      "    accuracy                           0.76      2753\n",
      "   macro avg       0.74      0.73      0.74      2753\n",
      "weighted avg       0.76      0.76      0.76      2753\n",
      "\n"
     ]
    }
   ],
   "source": [
    "print(classification_report(yf_train, yfs_predt))"
   ]
  },
  {
   "cell_type": "code",
   "execution_count": 149,
   "metadata": {},
   "outputs": [
    {
     "data": {
      "text/html": [
       "<div>\n",
       "<style scoped>\n",
       "    .dataframe tbody tr th:only-of-type {\n",
       "        vertical-align: middle;\n",
       "    }\n",
       "\n",
       "    .dataframe tbody tr th {\n",
       "        vertical-align: top;\n",
       "    }\n",
       "\n",
       "    .dataframe thead th {\n",
       "        text-align: right;\n",
       "    }\n",
       "</style>\n",
       "<table border=\"1\" class=\"dataframe\">\n",
       "  <thead>\n",
       "    <tr style=\"text-align: right;\">\n",
       "      <th></th>\n",
       "      <th>Pred 1</th>\n",
       "      <th>Pred 0</th>\n",
       "    </tr>\n",
       "  </thead>\n",
       "  <tbody>\n",
       "    <tr>\n",
       "      <th>Act 1</th>\n",
       "      <td>227</td>\n",
       "      <td>114</td>\n",
       "    </tr>\n",
       "    <tr>\n",
       "      <th>Act 0</th>\n",
       "      <td>105</td>\n",
       "      <td>472</td>\n",
       "    </tr>\n",
       "  </tbody>\n",
       "</table>\n",
       "</div>"
      ],
      "text/plain": [
       "       Pred 1  Pred 0\n",
       "Act 1  227     114   \n",
       "Act 0  105     472   "
      ]
     },
     "execution_count": 149,
     "metadata": {},
     "output_type": "execute_result"
    }
   ],
   "source": [
    "cfls = confusion_matrix(yf_test, yfs_pred, labels=[1, 0])\n",
    "cf_ls = pd.DataFrame(cfls,\n",
    "                 columns=['Pred 1', 'Pred 0'],\n",
    "                 index=['Act 1', 'Act 0'])\n",
    "cf_ls"
   ]
  },
  {
   "cell_type": "code",
   "execution_count": 150,
   "metadata": {},
   "outputs": [],
   "source": [
    "roc_fls = roc_auc_score(yf_test, yfs_pred)\n",
    "recall0_fls = recall_score(yf_test, yfs_pred, pos_label=0)\n",
    "FNfls= cf_ls['Pred 0'].iloc[0]\n",
    "FPfls = cf_ls['Pred 1'].iloc[1]"
   ]
  },
  {
   "cell_type": "markdown",
   "metadata": {},
   "source": [
    "### B. Manual Tunning KNN Scaled"
   ]
  },
  {
   "cell_type": "markdown",
   "metadata": {},
   "source": [
    "### 1. Base"
   ]
  },
  {
   "cell_type": "code",
   "execution_count": 151,
   "metadata": {},
   "outputs": [],
   "source": [
    "train_score3 = []\n",
    "test_score3 = []\n",
    "\n",
    "for k in range (1, 100, 2):\n",
    "    knn3 = KNeighborsClassifier(n_neighbors= k)\n",
    "    knn3.fit(Xb_scaled, yb_train)\n",
    "#     recall_score(y_test, y_predict)\n",
    "    train_score3.append(knn3.score(Xb_scaled, yb_train))\n",
    "    test_score3.append(knn3.score(Xb_tests, yb_test))"
   ]
  },
  {
   "cell_type": "code",
   "execution_count": 152,
   "metadata": {},
   "outputs": [
    {
     "data": {
      "image/png": "[encoded data removed]",
      "text/plain": [
       "<Figure size 432x288 with 1 Axes>"
      ]
     },
     "metadata": {
      "needs_background": "light"
     },
     "output_type": "display_data"
    }
   ],
   "source": [
    "plt.plot(range(1, 100, 2), train_score3, 'b', label='Train score dft3')\n",
    "plt.plot(range(1, 100, 2), test_score3, 'r', label='Test score dft3')\n",
    "plt.legend()\n",
    "plt.show()"
   ]
  },
  {
   "cell_type": "code",
   "execution_count": 153,
   "metadata": {},
   "outputs": [
    {
     "name": "stdout",
     "output_type": "stream",
     "text": [
      "[0.6993464052287581, 0.7429193899782135, 0.7472766884531591, 0.7418300653594772, 0.7440087145969498, 0.7527233115468409, 0.7472766884531591, 0.7505446623093682, 0.7559912854030502, 0.7538126361655774, 0.7494553376906318, 0.7581699346405228, 0.7483660130718954, 0.7505446623093682, 0.7450980392156863, 0.7472766884531591, 0.7450980392156863, 0.7461873638344226, 0.7440087145969498, 0.7483660130718954, 0.7429193899782135, 0.7418300653594772, 0.7440087145969498, 0.7429193899782135, 0.7450980392156863, 0.7527233115468409, 0.7483660130718954, 0.7494553376906318, 0.7505446623093682, 0.7527233115468409, 0.7461873638344226, 0.7559912854030502, 0.7505446623093682, 0.7559912854030502, 0.7559912854030502, 0.7505446623093682, 0.7559912854030502, 0.7505446623093682, 0.7538126361655774, 0.7549019607843137, 0.7527233115468409, 0.7516339869281046, 0.7505446623093682, 0.7527233115468409, 0.7505446623093682, 0.7505446623093682, 0.7516339869281046, 0.7549019607843137, 0.7527233115468409, 0.7527233115468409]\n"
     ]
    }
   ],
   "source": [
    "print(test_score3)"
   ]
  },
  {
   "cell_type": "code",
   "execution_count": 154,
   "metadata": {},
   "outputs": [
    {
     "data": {
      "text/plain": [
       "0.7581699346405228"
      ]
     },
     "execution_count": 154,
     "metadata": {},
     "output_type": "execute_result"
    }
   ],
   "source": [
    "np.max(test_score3)"
   ]
  },
  {
   "cell_type": "code",
   "execution_count": 155,
   "metadata": {},
   "outputs": [
    {
     "name": "stdout",
     "output_type": "stream",
     "text": [
      "[1, 3, 5, 7, 9, 11, 13, 15, 17, 19, 21, 23, 25, 27, 29, 31, 33, 35, 37, 39, 41, 43, 45, 47, 49, 51, 53, 55, 57, 59, 61, 63, 65, 67, 69, 71, 73, 75, 77, 79, 81, 83, 85, 87, 89, 91, 93, 95, 97, 99]\n"
     ]
    }
   ],
   "source": [
    "k = []\n",
    "for i in range(1, 100, 2):\n",
    "    k.append(i)\n",
    "print(k)"
   ]
  },
  {
   "cell_type": "code",
   "execution_count": 156,
   "metadata": {},
   "outputs": [],
   "source": [
    "n = k[np.argmax(test_score3)]"
   ]
  },
  {
   "cell_type": "code",
   "execution_count": 157,
   "metadata": {},
   "outputs": [
    {
     "data": {
      "text/plain": [
       "KNeighborsClassifier(n_neighbors=23)"
      ]
     },
     "execution_count": 157,
     "metadata": {},
     "output_type": "execute_result"
    }
   ],
   "source": [
    "modelknn_s3 = KNeighborsClassifier(n_neighbors=n)\n",
    "modelknn_s3.fit(Xb_scaled, yb_train)"
   ]
  },
  {
   "cell_type": "code",
   "execution_count": 158,
   "metadata": {},
   "outputs": [],
   "source": [
    "y_predk_s3 = modelknn_s3.predict(Xb_tests)"
   ]
  },
  {
   "cell_type": "code",
   "execution_count": 159,
   "metadata": {},
   "outputs": [
    {
     "data": {
      "text/plain": [
       "<matplotlib.axes._subplots.AxesSubplot at 0x1f4a47a6b88>"
      ]
     },
     "execution_count": 159,
     "metadata": {},
     "output_type": "execute_result"
    },
    {
     "data": {
      "image/png": "[encoded data removed]",
      "text/plain": [
       "<Figure size 432x288 with 2 Axes>"
      ]
     },
     "metadata": {
      "needs_background": "light"
     },
     "output_type": "display_data"
    }
   ],
   "source": [
    "cks3 = confusion_matrix(yb_test, y_predk_s3, labels=[1, 0])\n",
    "cknns3 = pd.DataFrame(cks3,\n",
    "                 columns=['Pred 1', 'Pred 0'],\n",
    "                 index=['Act 1', 'Act 0'])\n",
    "sns.heatmap(cknns3,annot=True )"
   ]
  },
  {
   "cell_type": "code",
   "execution_count": 160,
   "metadata": {},
   "outputs": [
    {
     "name": "stdout",
     "output_type": "stream",
     "text": [
      "              precision    recall  f1-score   support\n",
      "\n",
      "           0       0.80      0.82      0.81       577\n",
      "           1       0.68      0.65      0.67       341\n",
      "\n",
      "    accuracy                           0.76       918\n",
      "   macro avg       0.74      0.74      0.74       918\n",
      "weighted avg       0.76      0.76      0.76       918\n",
      "\n"
     ]
    }
   ],
   "source": [
    "print(classification_report(yb_test, y_predk_s3))"
   ]
  },
  {
   "cell_type": "markdown",
   "metadata": {},
   "source": [
    "# (12-13, 14-15) Hyperparameter Tunning"
   ]
  },
  {
   "cell_type": "markdown",
   "metadata": {},
   "source": [
    "### Logistic Regression"
   ]
  },
  {
   "cell_type": "markdown",
   "metadata": {},
   "source": [
    "### 1. Base hyper"
   ]
  },
  {
   "cell_type": "code",
   "execution_count": 161,
   "metadata": {},
   "outputs": [],
   "source": [
    "modelogh = LogisticRegression()\n",
    "paramlog = {\n",
    "    'penalty':['l1','l2','elasticnet'],\n",
    "    'multi_class': ['auto', 'ovr', 'multinomial'],\n",
    "    'max_iter':np.random.randint(300,400,10),\n",
    "    'l1_ratio': np.logspace(-3,0,15)\n",
    "}"
   ]
  },
  {
   "cell_type": "code",
   "execution_count": 162,
   "metadata": {},
   "outputs": [],
   "source": [
    "modelLRS = RandomizedSearchCV(\n",
    "    estimator = modelogh, \n",
    "    param_distributions = paramlog, cv = 3)\n",
    "\n",
    "modelLGS = GridSearchCV(modelogh, paramlog, cv=3, n_jobs=-1, verbose=1)"
   ]
  },
  {
   "cell_type": "code",
   "execution_count": 163,
   "metadata": {},
   "outputs": [
    {
     "data": {
      "text/plain": [
       "RandomizedSearchCV(cv=3, estimator=LogisticRegression(),\n",
       "                   param_distributions={'l1_ratio': array([0.001     , 0.00163789, 0.0026827 , 0.00439397, 0.00719686,\n",
       "       0.01178769, 0.01930698, 0.03162278, 0.05179475, 0.08483429,\n",
       "       0.13894955, 0.22758459, 0.37275937, 0.61054023, 1.        ]),\n",
       "                                        'max_iter': array([384, 322, 387, 343, 385, 391, 391, 391, 392, 381]),\n",
       "                                        'multi_class': ['auto', 'ovr',\n",
       "                                                        'multinomial'],\n",
       "                                        'penalty': ['l1', 'l2', 'elasticnet']})"
      ]
     },
     "execution_count": 163,
     "metadata": {},
     "output_type": "execute_result"
    }
   ],
   "source": [
    "modelLRS.fit(Xb_train,yb_train)"
   ]
  },
  {
   "cell_type": "code",
   "execution_count": 164,
   "metadata": {},
   "outputs": [
    {
     "name": "stdout",
     "output_type": "stream",
     "text": [
      "Fitting 3 folds for each of 1350 candidates, totalling 4050 fits\n"
     ]
    },
    {
     "name": "stderr",
     "output_type": "stream",
     "text": [
      "[Parallel(n_jobs=-1)]: Using backend LokyBackend with 8 concurrent workers.\n",
      "[Parallel(n_jobs=-1)]: Done  34 tasks      | elapsed:    4.1s\n",
      "[Parallel(n_jobs=-1)]: Done 472 tasks      | elapsed:   12.3s\n",
      "[Parallel(n_jobs=-1)]: Done 1472 tasks      | elapsed:   34.4s\n",
      "[Parallel(n_jobs=-1)]: Done 1915 tasks      | elapsed:   48.3s\n",
      "[Parallel(n_jobs=-1)]: Done 2522 tasks      | elapsed:  1.1min\n",
      "[Parallel(n_jobs=-1)]: Done 3072 tasks      | elapsed:  1.4min\n",
      "[Parallel(n_jobs=-1)]: Done 3890 tasks      | elapsed:  1.9min\n",
      "[Parallel(n_jobs=-1)]: Done 4035 out of 4050 | elapsed:  2.0min remaining:    0.3s\n",
      "[Parallel(n_jobs=-1)]: Done 4050 out of 4050 | elapsed:  2.0min finished\n"
     ]
    },
    {
     "data": {
      "text/plain": [
       "GridSearchCV(cv=3, estimator=LogisticRegression(), n_jobs=-1,\n",
       "             param_grid={'l1_ratio': array([0.001     , 0.00163789, 0.0026827 , 0.00439397, 0.00719686,\n",
       "       0.01178769, 0.01930698, 0.03162278, 0.05179475, 0.08483429,\n",
       "       0.13894955, 0.22758459, 0.37275937, 0.61054023, 1.        ]),\n",
       "                         'max_iter': array([384, 322, 387, 343, 385, 391, 391, 391, 392, 381]),\n",
       "                         'multi_class': ['auto', 'ovr', 'multinomial'],\n",
       "                         'penalty': ['l1', 'l2', 'elasticnet']},\n",
       "             verbose=1)"
      ]
     },
     "execution_count": 164,
     "metadata": {},
     "output_type": "execute_result"
    }
   ],
   "source": [
    "modelLGS.fit(Xb_train,yb_train)"
   ]
  },
  {
   "cell_type": "code",
   "execution_count": 165,
   "metadata": {},
   "outputs": [
    {
     "data": {
      "text/plain": [
       "{'penalty': 'l2',\n",
       " 'multi_class': 'multinomial',\n",
       " 'max_iter': 384,\n",
       " 'l1_ratio': 0.001}"
      ]
     },
     "execution_count": 165,
     "metadata": {},
     "output_type": "execute_result"
    }
   ],
   "source": [
    "modelLRS.best_params_"
   ]
  },
  {
   "cell_type": "code",
   "execution_count": 166,
   "metadata": {},
   "outputs": [
    {
     "data": {
      "text/plain": [
       "{'l1_ratio': 0.001,\n",
       " 'max_iter': 384,\n",
       " 'multi_class': 'multinomial',\n",
       " 'penalty': 'l2'}"
      ]
     },
     "execution_count": 166,
     "metadata": {},
     "output_type": "execute_result"
    }
   ],
   "source": [
    "modelLGS.best_params_"
   ]
  },
  {
   "cell_type": "code",
   "execution_count": 167,
   "metadata": {},
   "outputs": [],
   "source": [
    "yblh_predRS = modelLRS.predict(Xb_test)\n",
    "yblh_predGS = modelLGS.predict(Xb_test)\n",
    "yblh_predRSt = modelLRS.predict(Xb_train)\n",
    "yblh_predGSt = modelLGS.predict(Xb_train)"
   ]
  },
  {
   "cell_type": "code",
   "execution_count": 168,
   "metadata": {},
   "outputs": [
    {
     "name": "stdout",
     "output_type": "stream",
     "text": [
      "              precision    recall  f1-score   support\n",
      "\n",
      "           0       0.82      0.80      0.81       577\n",
      "           1       0.67      0.70      0.68       341\n",
      "\n",
      "    accuracy                           0.76       918\n",
      "   macro avg       0.74      0.75      0.74       918\n",
      "weighted avg       0.76      0.76      0.76       918\n",
      "\n"
     ]
    }
   ],
   "source": [
    "print(classification_report(yb_test, yblh_predRS))"
   ]
  },
  {
   "cell_type": "code",
   "execution_count": 169,
   "metadata": {},
   "outputs": [
    {
     "name": "stdout",
     "output_type": "stream",
     "text": [
      "              precision    recall  f1-score   support\n",
      "\n",
      "           0       0.82      0.80      0.81       577\n",
      "           1       0.67      0.70      0.68       341\n",
      "\n",
      "    accuracy                           0.76       918\n",
      "   macro avg       0.74      0.75      0.74       918\n",
      "weighted avg       0.76      0.76      0.76       918\n",
      "\n"
     ]
    }
   ],
   "source": [
    "print(classification_report(yb_test, yblh_predGS))"
   ]
  },
  {
   "cell_type": "code",
   "execution_count": 170,
   "metadata": {},
   "outputs": [
    {
     "data": {
      "text/html": [
       "<div>\n",
       "<style scoped>\n",
       "    .dataframe tbody tr th:only-of-type {\n",
       "        vertical-align: middle;\n",
       "    }\n",
       "\n",
       "    .dataframe tbody tr th {\n",
       "        vertical-align: top;\n",
       "    }\n",
       "\n",
       "    .dataframe thead th {\n",
       "        text-align: right;\n",
       "    }\n",
       "</style>\n",
       "<table border=\"1\" class=\"dataframe\">\n",
       "  <thead>\n",
       "    <tr style=\"text-align: right;\">\n",
       "      <th></th>\n",
       "      <th>Pred 1</th>\n",
       "      <th>Pred 0</th>\n",
       "    </tr>\n",
       "  </thead>\n",
       "  <tbody>\n",
       "    <tr>\n",
       "      <th>Act 1</th>\n",
       "      <td>237</td>\n",
       "      <td>104</td>\n",
       "    </tr>\n",
       "    <tr>\n",
       "      <th>Act 0</th>\n",
       "      <td>118</td>\n",
       "      <td>459</td>\n",
       "    </tr>\n",
       "  </tbody>\n",
       "</table>\n",
       "</div>"
      ],
      "text/plain": [
       "       Pred 1  Pred 0\n",
       "Act 1  237     104   \n",
       "Act 0  118     459   "
      ]
     },
     "execution_count": 170,
     "metadata": {},
     "output_type": "execute_result"
    }
   ],
   "source": [
    "cblhRS = confusion_matrix(yb_test, yblh_predRS, labels=[1, 0])\n",
    "cb_lhRS = pd.DataFrame(cblhRS,\n",
    "                 columns=['Pred 1', 'Pred 0'],\n",
    "                 index=['Act 1', 'Act 0'])\n",
    "cb_lhRS"
   ]
  },
  {
   "cell_type": "code",
   "execution_count": 171,
   "metadata": {},
   "outputs": [
    {
     "data": {
      "text/html": [
       "<div>\n",
       "<style scoped>\n",
       "    .dataframe tbody tr th:only-of-type {\n",
       "        vertical-align: middle;\n",
       "    }\n",
       "\n",
       "    .dataframe tbody tr th {\n",
       "        vertical-align: top;\n",
       "    }\n",
       "\n",
       "    .dataframe thead th {\n",
       "        text-align: right;\n",
       "    }\n",
       "</style>\n",
       "<table border=\"1\" class=\"dataframe\">\n",
       "  <thead>\n",
       "    <tr style=\"text-align: right;\">\n",
       "      <th></th>\n",
       "      <th>Pred 1</th>\n",
       "      <th>Pred 0</th>\n",
       "    </tr>\n",
       "  </thead>\n",
       "  <tbody>\n",
       "    <tr>\n",
       "      <th>Act 1</th>\n",
       "      <td>237</td>\n",
       "      <td>104</td>\n",
       "    </tr>\n",
       "    <tr>\n",
       "      <th>Act 0</th>\n",
       "      <td>118</td>\n",
       "      <td>459</td>\n",
       "    </tr>\n",
       "  </tbody>\n",
       "</table>\n",
       "</div>"
      ],
      "text/plain": [
       "       Pred 1  Pred 0\n",
       "Act 1  237     104   \n",
       "Act 0  118     459   "
      ]
     },
     "execution_count": 171,
     "metadata": {},
     "output_type": "execute_result"
    }
   ],
   "source": [
    "cblhGS = confusion_matrix(yb_test, yblh_predGS, labels=[1, 0])\n",
    "cb_lhGS = pd.DataFrame(cblhGS,\n",
    "                 columns=['Pred 1', 'Pred 0'],\n",
    "                 index=['Act 1', 'Act 0'])\n",
    "cb_lhGS"
   ]
  },
  {
   "cell_type": "code",
   "execution_count": 172,
   "metadata": {},
   "outputs": [],
   "source": [
    "roc_blhRS = roc_auc_score(yb_test, yblh_predRS)\n",
    "recall0_blhRS = recall_score(yb_test, yblh_predRS, pos_label=0)\n",
    "roc_blhGS = roc_auc_score(yb_test, yblh_predRS)\n",
    "recall0_blhGS = recall_score(yb_test, yblh_predRS, pos_label=0)\n",
    "FNblh_RS = cb_lhRS['Pred 0'].iloc[0]\n",
    "FPblh_RS = cb_lhRS['Pred 1'].iloc[1]\n",
    "FNblh_GS = cb_lhGS['Pred 0'].iloc[0]\n",
    "FPblh_GS = cb_lhGS['Pred 1'].iloc[1]"
   ]
  },
  {
   "cell_type": "markdown",
   "metadata": {},
   "source": [
    "### 2. Complex hyper"
   ]
  },
  {
   "cell_type": "code",
   "execution_count": 173,
   "metadata": {},
   "outputs": [],
   "source": [
    "modelogh = LogisticRegression()\n",
    "paramlog = {\n",
    "    'penalty':['l1','l2','elasticnet'],\n",
    "    'multi_class': ['auto', 'ovr', 'multinomial'],\n",
    "    'max_iter':np.random.randint(300,400,10),\n",
    "    'l1_ratio': np.logspace(-3,0,15)\n",
    "}"
   ]
  },
  {
   "cell_type": "code",
   "execution_count": 174,
   "metadata": {},
   "outputs": [],
   "source": [
    "modelLRS = RandomizedSearchCV(\n",
    "    estimator = modelogh, \n",
    "    param_distributions = paramlog, cv = 3)\n",
    "\n",
    "modelLGS = GridSearchCV(modelogh, paramlog, cv=3, n_jobs=-1, verbose=1)"
   ]
  },
  {
   "cell_type": "code",
   "execution_count": 175,
   "metadata": {},
   "outputs": [
    {
     "data": {
      "text/plain": [
       "RandomizedSearchCV(cv=3, estimator=LogisticRegression(),\n",
       "                   param_distributions={'l1_ratio': array([0.001     , 0.00163789, 0.0026827 , 0.00439397, 0.00719686,\n",
       "       0.01178769, 0.01930698, 0.03162278, 0.05179475, 0.08483429,\n",
       "       0.13894955, 0.22758459, 0.37275937, 0.61054023, 1.        ]),\n",
       "                                        'max_iter': array([386, 300, 391, 324, 388, 346, 328, 319, 381, 385]),\n",
       "                                        'multi_class': ['auto', 'ovr',\n",
       "                                                        'multinomial'],\n",
       "                                        'penalty': ['l1', 'l2', 'elasticnet']})"
      ]
     },
     "execution_count": 175,
     "metadata": {},
     "output_type": "execute_result"
    }
   ],
   "source": [
    "modelLRS.fit(Xf_train,yf_train)"
   ]
  },
  {
   "cell_type": "code",
   "execution_count": 176,
   "metadata": {},
   "outputs": [
    {
     "name": "stdout",
     "output_type": "stream",
     "text": [
      "Fitting 3 folds for each of 1350 candidates, totalling 4050 fits\n"
     ]
    },
    {
     "name": "stderr",
     "output_type": "stream",
     "text": [
      "[Parallel(n_jobs=-1)]: Using backend LokyBackend with 8 concurrent workers.\n",
      "[Parallel(n_jobs=-1)]: Done  52 tasks      | elapsed:    0.5s\n",
      "[Parallel(n_jobs=-1)]: Done 640 tasks      | elapsed:    4.6s\n",
      "[Parallel(n_jobs=-1)]: Done 1640 tasks      | elapsed:   11.6s\n",
      "[Parallel(n_jobs=-1)]: Done 3040 tasks      | elapsed:   21.2s\n",
      "[Parallel(n_jobs=-1)]: Done 4035 out of 4050 | elapsed:   27.7s remaining:    0.0s\n",
      "[Parallel(n_jobs=-1)]: Done 4050 out of 4050 | elapsed:   27.9s finished\n"
     ]
    },
    {
     "data": {
      "text/plain": [
       "GridSearchCV(cv=3, estimator=LogisticRegression(), n_jobs=-1,\n",
       "             param_grid={'l1_ratio': array([0.001     , 0.00163789, 0.0026827 , 0.00439397, 0.00719686,\n",
       "       0.01178769, 0.01930698, 0.03162278, 0.05179475, 0.08483429,\n",
       "       0.13894955, 0.22758459, 0.37275937, 0.61054023, 1.        ]),\n",
       "                         'max_iter': array([386, 300, 391, 324, 388, 346, 328, 319, 381, 385]),\n",
       "                         'multi_class': ['auto', 'ovr', 'multinomial'],\n",
       "                         'penalty': ['l1', 'l2', 'elasticnet']},\n",
       "             verbose=1)"
      ]
     },
     "execution_count": 176,
     "metadata": {},
     "output_type": "execute_result"
    }
   ],
   "source": [
    "modelLGS.fit(Xf_train,yf_train)"
   ]
  },
  {
   "cell_type": "code",
   "execution_count": 177,
   "metadata": {},
   "outputs": [
    {
     "data": {
      "text/plain": [
       "{'penalty': 'l2',\n",
       " 'multi_class': 'ovr',\n",
       " 'max_iter': 388,\n",
       " 'l1_ratio': 0.3727593720314938}"
      ]
     },
     "execution_count": 177,
     "metadata": {},
     "output_type": "execute_result"
    }
   ],
   "source": [
    "modelLRS.best_params_"
   ]
  },
  {
   "cell_type": "code",
   "execution_count": 178,
   "metadata": {},
   "outputs": [
    {
     "data": {
      "text/plain": [
       "{'l1_ratio': 0.001, 'max_iter': 386, 'multi_class': 'auto', 'penalty': 'l2'}"
      ]
     },
     "execution_count": 178,
     "metadata": {},
     "output_type": "execute_result"
    }
   ],
   "source": [
    "modelLGS.best_params_"
   ]
  },
  {
   "cell_type": "code",
   "execution_count": 179,
   "metadata": {},
   "outputs": [],
   "source": [
    "yflh_predRS = modelLRS.predict(Xf_test)\n",
    "yflh_predGS = modelLGS.predict(Xf_test)\n",
    "yflh_predRSt = modelLRS.predict(Xf_train)\n",
    "yflh_predGSt = modelLGS.predict(Xf_train)"
   ]
  },
  {
   "cell_type": "code",
   "execution_count": 180,
   "metadata": {},
   "outputs": [
    {
     "name": "stdout",
     "output_type": "stream",
     "text": [
      "              precision    recall  f1-score   support\n",
      "\n",
      "           0       0.82      0.79      0.80       577\n",
      "           1       0.66      0.70      0.68       341\n",
      "\n",
      "    accuracy                           0.76       918\n",
      "   macro avg       0.74      0.74      0.74       918\n",
      "weighted avg       0.76      0.76      0.76       918\n",
      "\n"
     ]
    }
   ],
   "source": [
    "print(classification_report(yf_test, yflh_predRS))"
   ]
  },
  {
   "cell_type": "code",
   "execution_count": 181,
   "metadata": {},
   "outputs": [
    {
     "name": "stdout",
     "output_type": "stream",
     "text": [
      "              precision    recall  f1-score   support\n",
      "\n",
      "           0       0.82      0.79      0.80       577\n",
      "           1       0.66      0.70      0.68       341\n",
      "\n",
      "    accuracy                           0.76       918\n",
      "   macro avg       0.74      0.74      0.74       918\n",
      "weighted avg       0.76      0.76      0.76       918\n",
      "\n"
     ]
    }
   ],
   "source": [
    "print(classification_report(yf_test, yflh_predGS))"
   ]
  },
  {
   "cell_type": "code",
   "execution_count": 182,
   "metadata": {},
   "outputs": [
    {
     "data": {
      "text/html": [
       "<div>\n",
       "<style scoped>\n",
       "    .dataframe tbody tr th:only-of-type {\n",
       "        vertical-align: middle;\n",
       "    }\n",
       "\n",
       "    .dataframe tbody tr th {\n",
       "        vertical-align: top;\n",
       "    }\n",
       "\n",
       "    .dataframe thead th {\n",
       "        text-align: right;\n",
       "    }\n",
       "</style>\n",
       "<table border=\"1\" class=\"dataframe\">\n",
       "  <thead>\n",
       "    <tr style=\"text-align: right;\">\n",
       "      <th></th>\n",
       "      <th>Pred 1</th>\n",
       "      <th>Pred 0</th>\n",
       "    </tr>\n",
       "  </thead>\n",
       "  <tbody>\n",
       "    <tr>\n",
       "      <th>Act 1</th>\n",
       "      <td>239</td>\n",
       "      <td>102</td>\n",
       "    </tr>\n",
       "    <tr>\n",
       "      <th>Act 0</th>\n",
       "      <td>122</td>\n",
       "      <td>455</td>\n",
       "    </tr>\n",
       "  </tbody>\n",
       "</table>\n",
       "</div>"
      ],
      "text/plain": [
       "       Pred 1  Pred 0\n",
       "Act 1  239     102   \n",
       "Act 0  122     455   "
      ]
     },
     "execution_count": 182,
     "metadata": {},
     "output_type": "execute_result"
    }
   ],
   "source": [
    "cflhRS = confusion_matrix(yf_test, yflh_predRS, labels=[1, 0])\n",
    "cf_lhRS = pd.DataFrame(cflhRS,\n",
    "                 columns=['Pred 1', 'Pred 0'],\n",
    "                 index=['Act 1', 'Act 0'])\n",
    "cf_lhRS"
   ]
  },
  {
   "cell_type": "code",
   "execution_count": 183,
   "metadata": {},
   "outputs": [
    {
     "data": {
      "text/html": [
       "<div>\n",
       "<style scoped>\n",
       "    .dataframe tbody tr th:only-of-type {\n",
       "        vertical-align: middle;\n",
       "    }\n",
       "\n",
       "    .dataframe tbody tr th {\n",
       "        vertical-align: top;\n",
       "    }\n",
       "\n",
       "    .dataframe thead th {\n",
       "        text-align: right;\n",
       "    }\n",
       "</style>\n",
       "<table border=\"1\" class=\"dataframe\">\n",
       "  <thead>\n",
       "    <tr style=\"text-align: right;\">\n",
       "      <th></th>\n",
       "      <th>Pred 1</th>\n",
       "      <th>Pred 0</th>\n",
       "    </tr>\n",
       "  </thead>\n",
       "  <tbody>\n",
       "    <tr>\n",
       "      <th>Act 1</th>\n",
       "      <td>239</td>\n",
       "      <td>102</td>\n",
       "    </tr>\n",
       "    <tr>\n",
       "      <th>Act 0</th>\n",
       "      <td>122</td>\n",
       "      <td>455</td>\n",
       "    </tr>\n",
       "  </tbody>\n",
       "</table>\n",
       "</div>"
      ],
      "text/plain": [
       "       Pred 1  Pred 0\n",
       "Act 1  239     102   \n",
       "Act 0  122     455   "
      ]
     },
     "execution_count": 183,
     "metadata": {},
     "output_type": "execute_result"
    }
   ],
   "source": [
    "cflhGS = confusion_matrix(yf_test, yflh_predGS, labels=[1, 0])\n",
    "cf_lhGS = pd.DataFrame(cflhGS,\n",
    "                 columns=['Pred 1', 'Pred 0'],\n",
    "                 index=['Act 1', 'Act 0'])\n",
    "cf_lhGS"
   ]
  },
  {
   "cell_type": "code",
   "execution_count": 184,
   "metadata": {},
   "outputs": [],
   "source": [
    "roc_flhRS = roc_auc_score(yf_test, yflh_predRS)\n",
    "recall0_flhRS = recall_score(yf_test, yflh_predRS, pos_label=0)\n",
    "roc_flhGS = roc_auc_score(yf_test, yflh_predGS)\n",
    "recall0_flhGS = recall_score(yf_test, yflh_predGS, pos_label=0)\n",
    "FNflh_RS = cf_lhRS['Pred 0'].iloc[0]\n",
    "FPflh_RS = cf_lhRS['Pred 1'].iloc[1]\n",
    "FNflh_GS = cf_lhGS['Pred 0'].iloc[0]\n",
    "FPflh_GS = cf_lhGS['Pred 1'].iloc[1]"
   ]
  },
  {
   "cell_type": "markdown",
   "metadata": {},
   "source": [
    "### 1. Base"
   ]
  },
  {
   "cell_type": "code",
   "execution_count": 185,
   "metadata": {},
   "outputs": [],
   "source": [
    "modelogh = LogisticRegression()\n",
    "paramlog = {\n",
    "    'penalty':['l1','l2','elasticnet'],\n",
    "    'multi_class': ['auto', 'ovr', 'multinomial'],\n",
    "    'max_iter':np.random.randint(300,400,10),\n",
    "    'l1_ratio': np.logspace(-3,0,15)\n",
    "}"
   ]
  },
  {
   "cell_type": "code",
   "execution_count": 186,
   "metadata": {},
   "outputs": [],
   "source": [
    "modelLRS = RandomizedSearchCV(\n",
    "    estimator = modelogh, \n",
    "    param_distributions = paramlog, cv = 3)\n",
    "\n",
    "modelLGS = GridSearchCV(modelogh, paramlog, cv=3, n_jobs=-1, verbose=1)"
   ]
  },
  {
   "cell_type": "code",
   "execution_count": 187,
   "metadata": {},
   "outputs": [
    {
     "data": {
      "text/plain": [
       "RandomizedSearchCV(cv=3, estimator=LogisticRegression(),\n",
       "                   param_distributions={'l1_ratio': array([0.001     , 0.00163789, 0.0026827 , 0.00439397, 0.00719686,\n",
       "       0.01178769, 0.01930698, 0.03162278, 0.05179475, 0.08483429,\n",
       "       0.13894955, 0.22758459, 0.37275937, 0.61054023, 1.        ]),\n",
       "                                        'max_iter': array([396, 338, 374, 329, 310, 332, 321, 344, 358, 392]),\n",
       "                                        'multi_class': ['auto', 'ovr',\n",
       "                                                        'multinomial'],\n",
       "                                        'penalty': ['l1', 'l2', 'elasticnet']})"
      ]
     },
     "execution_count": 187,
     "metadata": {},
     "output_type": "execute_result"
    }
   ],
   "source": [
    "modelLRS.fit(Xb_scaled,yb_train)"
   ]
  },
  {
   "cell_type": "code",
   "execution_count": 188,
   "metadata": {},
   "outputs": [
    {
     "name": "stdout",
     "output_type": "stream",
     "text": [
      "Fitting 3 folds for each of 1350 candidates, totalling 4050 fits\n"
     ]
    },
    {
     "name": "stderr",
     "output_type": "stream",
     "text": [
      "[Parallel(n_jobs=-1)]: Using backend LokyBackend with 8 concurrent workers.\n",
      "[Parallel(n_jobs=-1)]: Done  56 tasks      | elapsed:    0.3s\n",
      "[Parallel(n_jobs=-1)]: Done 1200 tasks      | elapsed:    4.2s\n",
      "[Parallel(n_jobs=-1)]: Done 3200 tasks      | elapsed:   11.6s\n",
      "[Parallel(n_jobs=-1)]: Done 4050 out of 4050 | elapsed:   14.7s finished\n"
     ]
    },
    {
     "data": {
      "text/plain": [
       "GridSearchCV(cv=3, estimator=LogisticRegression(), n_jobs=-1,\n",
       "             param_grid={'l1_ratio': array([0.001     , 0.00163789, 0.0026827 , 0.00439397, 0.00719686,\n",
       "       0.01178769, 0.01930698, 0.03162278, 0.05179475, 0.08483429,\n",
       "       0.13894955, 0.22758459, 0.37275937, 0.61054023, 1.        ]),\n",
       "                         'max_iter': array([396, 338, 374, 329, 310, 332, 321, 344, 358, 392]),\n",
       "                         'multi_class': ['auto', 'ovr', 'multinomial'],\n",
       "                         'penalty': ['l1', 'l2', 'elasticnet']},\n",
       "             verbose=1)"
      ]
     },
     "execution_count": 188,
     "metadata": {},
     "output_type": "execute_result"
    }
   ],
   "source": [
    "modelLGS.fit(Xb_scaled,yb_train)"
   ]
  },
  {
   "cell_type": "code",
   "execution_count": 189,
   "metadata": {},
   "outputs": [
    {
     "data": {
      "text/plain": [
       "{'penalty': 'l2',\n",
       " 'multi_class': 'auto',\n",
       " 'max_iter': 344,\n",
       " 'l1_ratio': 0.004393970560760791}"
      ]
     },
     "execution_count": 189,
     "metadata": {},
     "output_type": "execute_result"
    }
   ],
   "source": [
    "modelLRS.best_params_"
   ]
  },
  {
   "cell_type": "code",
   "execution_count": 190,
   "metadata": {},
   "outputs": [
    {
     "data": {
      "text/plain": [
       "{'l1_ratio': 0.001, 'max_iter': 396, 'multi_class': 'auto', 'penalty': 'l2'}"
      ]
     },
     "execution_count": 190,
     "metadata": {},
     "output_type": "execute_result"
    }
   ],
   "source": [
    "modelLGS.best_params_"
   ]
  },
  {
   "cell_type": "code",
   "execution_count": 191,
   "metadata": {},
   "outputs": [],
   "source": [
    "ybslh_predRS = modelLRS.predict(Xb_tests)\n",
    "ybslh_predGS = modelLGS.predict(Xb_tests)\n",
    "ybslh_predRSt = modelLRS.predict(Xb_scaled)\n",
    "ybslh_predGSt = modelLGS.predict(Xb_scaled)"
   ]
  },
  {
   "cell_type": "code",
   "execution_count": 192,
   "metadata": {},
   "outputs": [
    {
     "name": "stdout",
     "output_type": "stream",
     "text": [
      "              precision    recall  f1-score   support\n",
      "\n",
      "           0       0.79      0.83      0.81       577\n",
      "           1       0.69      0.63      0.66       341\n",
      "\n",
      "    accuracy                           0.76       918\n",
      "   macro avg       0.74      0.73      0.73       918\n",
      "weighted avg       0.75      0.76      0.75       918\n",
      "\n"
     ]
    }
   ],
   "source": [
    "print(classification_report(yb_test, ybslh_predRS))"
   ]
  },
  {
   "cell_type": "code",
   "execution_count": 193,
   "metadata": {},
   "outputs": [
    {
     "name": "stdout",
     "output_type": "stream",
     "text": [
      "              precision    recall  f1-score   support\n",
      "\n",
      "           0       0.79      0.83      0.81       577\n",
      "           1       0.69      0.63      0.66       341\n",
      "\n",
      "    accuracy                           0.76       918\n",
      "   macro avg       0.74      0.73      0.73       918\n",
      "weighted avg       0.75      0.76      0.75       918\n",
      "\n"
     ]
    }
   ],
   "source": [
    "print(classification_report(yb_test, ybslh_predGS))"
   ]
  },
  {
   "cell_type": "code",
   "execution_count": 194,
   "metadata": {},
   "outputs": [
    {
     "data": {
      "text/html": [
       "<div>\n",
       "<style scoped>\n",
       "    .dataframe tbody tr th:only-of-type {\n",
       "        vertical-align: middle;\n",
       "    }\n",
       "\n",
       "    .dataframe tbody tr th {\n",
       "        vertical-align: top;\n",
       "    }\n",
       "\n",
       "    .dataframe thead th {\n",
       "        text-align: right;\n",
       "    }\n",
       "</style>\n",
       "<table border=\"1\" class=\"dataframe\">\n",
       "  <thead>\n",
       "    <tr style=\"text-align: right;\">\n",
       "      <th></th>\n",
       "      <th>Pred 1</th>\n",
       "      <th>Pred 0</th>\n",
       "    </tr>\n",
       "  </thead>\n",
       "  <tbody>\n",
       "    <tr>\n",
       "      <th>Act 1</th>\n",
       "      <td>216</td>\n",
       "      <td>125</td>\n",
       "    </tr>\n",
       "    <tr>\n",
       "      <th>Act 0</th>\n",
       "      <td>99</td>\n",
       "      <td>478</td>\n",
       "    </tr>\n",
       "  </tbody>\n",
       "</table>\n",
       "</div>"
      ],
      "text/plain": [
       "       Pred 1  Pred 0\n",
       "Act 1  216     125   \n",
       "Act 0  99      478   "
      ]
     },
     "execution_count": 194,
     "metadata": {},
     "output_type": "execute_result"
    }
   ],
   "source": [
    "cbslhRS = confusion_matrix(yb_test, ybslh_predRS, labels=[1, 0])\n",
    "cbs_lhRS = pd.DataFrame(cbslhRS,\n",
    "                 columns=['Pred 1', 'Pred 0'],\n",
    "                 index=['Act 1', 'Act 0'])\n",
    "cbs_lhRS"
   ]
  },
  {
   "cell_type": "code",
   "execution_count": 195,
   "metadata": {},
   "outputs": [
    {
     "data": {
      "text/html": [
       "<div>\n",
       "<style scoped>\n",
       "    .dataframe tbody tr th:only-of-type {\n",
       "        vertical-align: middle;\n",
       "    }\n",
       "\n",
       "    .dataframe tbody tr th {\n",
       "        vertical-align: top;\n",
       "    }\n",
       "\n",
       "    .dataframe thead th {\n",
       "        text-align: right;\n",
       "    }\n",
       "</style>\n",
       "<table border=\"1\" class=\"dataframe\">\n",
       "  <thead>\n",
       "    <tr style=\"text-align: right;\">\n",
       "      <th></th>\n",
       "      <th>Pred 1</th>\n",
       "      <th>Pred 0</th>\n",
       "    </tr>\n",
       "  </thead>\n",
       "  <tbody>\n",
       "    <tr>\n",
       "      <th>Act 1</th>\n",
       "      <td>216</td>\n",
       "      <td>125</td>\n",
       "    </tr>\n",
       "    <tr>\n",
       "      <th>Act 0</th>\n",
       "      <td>99</td>\n",
       "      <td>478</td>\n",
       "    </tr>\n",
       "  </tbody>\n",
       "</table>\n",
       "</div>"
      ],
      "text/plain": [
       "       Pred 1  Pred 0\n",
       "Act 1  216     125   \n",
       "Act 0  99      478   "
      ]
     },
     "execution_count": 195,
     "metadata": {},
     "output_type": "execute_result"
    }
   ],
   "source": [
    "cbslhGS = confusion_matrix(yb_test, ybslh_predGS, labels=[1, 0])\n",
    "cbs_lhGS = pd.DataFrame(cbslhGS,\n",
    "                 columns=['Pred 1', 'Pred 0'],\n",
    "                 index=['Act 1', 'Act 0'])\n",
    "cbs_lhGS"
   ]
  },
  {
   "cell_type": "code",
   "execution_count": 196,
   "metadata": {},
   "outputs": [],
   "source": [
    "roc_bslhRS = roc_auc_score(yb_test, ybslh_predRS)\n",
    "recall0_bslhRS = recall_score(yb_test, ybslh_predRS, pos_label=0)\n",
    "roc_bslhGS = roc_auc_score(yb_test, ybslh_predGS)\n",
    "recall0_bslhGS = recall_score(yb_test, ybslh_predGS, pos_label=0)\n",
    "FNbslh_RS = cbs_lhRS['Pred 0'].iloc[0]\n",
    "FPbslh_RS = cbs_lhRS['Pred 1'].iloc[1]\n",
    "FNbslh_GS = cbs_lhGS['Pred 0'].iloc[0]\n",
    "FPbslh_GS = cbs_lhGS['Pred 1'].iloc[1]"
   ]
  },
  {
   "cell_type": "markdown",
   "metadata": {},
   "source": [
    "### 2. Complex (dfix scaled)"
   ]
  },
  {
   "cell_type": "code",
   "execution_count": 197,
   "metadata": {},
   "outputs": [],
   "source": [
    "modelogh = LogisticRegression()\n",
    "paramlog = {\n",
    "    'penalty':['l1','l2','elasticnet'],\n",
    "    'multi_class': ['auto', 'ovr', 'multinomial'],\n",
    "    'max_iter':np.random.randint(300,400,10),\n",
    "    'l1_ratio': np.logspace(-3,0,15)\n",
    "}"
   ]
  },
  {
   "cell_type": "code",
   "execution_count": 198,
   "metadata": {},
   "outputs": [],
   "source": [
    "modelLRS = RandomizedSearchCV(\n",
    "    estimator = modelogh, \n",
    "    param_distributions = paramlog, cv = 3)\n",
    "\n",
    "modelLGS = GridSearchCV(modelogh, paramlog, cv=3, n_jobs=-1, verbose=1)"
   ]
  },
  {
   "cell_type": "code",
   "execution_count": 199,
   "metadata": {},
   "outputs": [
    {
     "data": {
      "text/plain": [
       "RandomizedSearchCV(cv=3, estimator=LogisticRegression(),\n",
       "                   param_distributions={'l1_ratio': array([0.001     , 0.00163789, 0.0026827 , 0.00439397, 0.00719686,\n",
       "       0.01178769, 0.01930698, 0.03162278, 0.05179475, 0.08483429,\n",
       "       0.13894955, 0.22758459, 0.37275937, 0.61054023, 1.        ]),\n",
       "                                        'max_iter': array([366, 355, 376, 369, 379, 372, 374, 371, 307, 397]),\n",
       "                                        'multi_class': ['auto', 'ovr',\n",
       "                                                        'multinomial'],\n",
       "                                        'penalty': ['l1', 'l2', 'elasticnet']})"
      ]
     },
     "execution_count": 199,
     "metadata": {},
     "output_type": "execute_result"
    }
   ],
   "source": [
    "modelLRS.fit(Xf_scaled,yf_train)"
   ]
  },
  {
   "cell_type": "code",
   "execution_count": 200,
   "metadata": {},
   "outputs": [
    {
     "name": "stdout",
     "output_type": "stream",
     "text": [
      "Fitting 3 folds for each of 1350 candidates, totalling 4050 fits\n"
     ]
    },
    {
     "name": "stderr",
     "output_type": "stream",
     "text": [
      "[Parallel(n_jobs=-1)]: Using backend LokyBackend with 8 concurrent workers.\n",
      "[Parallel(n_jobs=-1)]: Done  56 tasks      | elapsed:    0.4s\n",
      "[Parallel(n_jobs=-1)]: Done 1200 tasks      | elapsed:    3.7s\n",
      "[Parallel(n_jobs=-1)]: Done 3200 tasks      | elapsed:    9.5s\n",
      "[Parallel(n_jobs=-1)]: Done 4050 out of 4050 | elapsed:   11.5s finished\n"
     ]
    },
    {
     "data": {
      "text/plain": [
       "GridSearchCV(cv=3, estimator=LogisticRegression(), n_jobs=-1,\n",
       "             param_grid={'l1_ratio': array([0.001     , 0.00163789, 0.0026827 , 0.00439397, 0.00719686,\n",
       "       0.01178769, 0.01930698, 0.03162278, 0.05179475, 0.08483429,\n",
       "       0.13894955, 0.22758459, 0.37275937, 0.61054023, 1.        ]),\n",
       "                         'max_iter': array([366, 355, 376, 369, 379, 372, 374, 371, 307, 397]),\n",
       "                         'multi_class': ['auto', 'ovr', 'multinomial'],\n",
       "                         'penalty': ['l1', 'l2', 'elasticnet']},\n",
       "             verbose=1)"
      ]
     },
     "execution_count": 200,
     "metadata": {},
     "output_type": "execute_result"
    }
   ],
   "source": [
    "modelLGS.fit(Xf_scaled,yf_train)"
   ]
  },
  {
   "cell_type": "code",
   "execution_count": 201,
   "metadata": {},
   "outputs": [
    {
     "data": {
      "text/plain": [
       "{'penalty': 'l2',\n",
       " 'multi_class': 'auto',\n",
       " 'max_iter': 379,\n",
       " 'l1_ratio': 0.0517947467923121}"
      ]
     },
     "execution_count": 201,
     "metadata": {},
     "output_type": "execute_result"
    }
   ],
   "source": [
    "modelLRS.best_params_"
   ]
  },
  {
   "cell_type": "code",
   "execution_count": 202,
   "metadata": {},
   "outputs": [
    {
     "data": {
      "text/plain": [
       "{'l1_ratio': 0.001, 'max_iter': 366, 'multi_class': 'auto', 'penalty': 'l2'}"
      ]
     },
     "execution_count": 202,
     "metadata": {},
     "output_type": "execute_result"
    }
   ],
   "source": [
    "modelLGS.best_params_"
   ]
  },
  {
   "cell_type": "code",
   "execution_count": 203,
   "metadata": {},
   "outputs": [],
   "source": [
    "yfslh_predRS = modelLRS.predict(Xf_tests)\n",
    "yfslh_predGS = modelLGS.predict(Xf_tests)\n",
    "yfslh_predRSt = modelLRS.predict(Xf_scaled)\n",
    "yfslh_predGSt = modelLGS.predict(Xf_scaled)"
   ]
  },
  {
   "cell_type": "code",
   "execution_count": 204,
   "metadata": {},
   "outputs": [
    {
     "name": "stdout",
     "output_type": "stream",
     "text": [
      "              precision    recall  f1-score   support\n",
      "\n",
      "           0       0.81      0.82      0.81       577\n",
      "           1       0.68      0.67      0.67       341\n",
      "\n",
      "    accuracy                           0.76       918\n",
      "   macro avg       0.74      0.74      0.74       918\n",
      "weighted avg       0.76      0.76      0.76       918\n",
      "\n"
     ]
    }
   ],
   "source": [
    "print(classification_report(yf_test, yfslh_predRS))"
   ]
  },
  {
   "cell_type": "code",
   "execution_count": 205,
   "metadata": {},
   "outputs": [
    {
     "name": "stdout",
     "output_type": "stream",
     "text": [
      "              precision    recall  f1-score   support\n",
      "\n",
      "           0       0.81      0.82      0.81       577\n",
      "           1       0.68      0.67      0.67       341\n",
      "\n",
      "    accuracy                           0.76       918\n",
      "   macro avg       0.74      0.74      0.74       918\n",
      "weighted avg       0.76      0.76      0.76       918\n",
      "\n"
     ]
    }
   ],
   "source": [
    "print(classification_report(yf_test, yfslh_predGS))"
   ]
  },
  {
   "cell_type": "code",
   "execution_count": 206,
   "metadata": {},
   "outputs": [
    {
     "data": {
      "text/html": [
       "<div>\n",
       "<style scoped>\n",
       "    .dataframe tbody tr th:only-of-type {\n",
       "        vertical-align: middle;\n",
       "    }\n",
       "\n",
       "    .dataframe tbody tr th {\n",
       "        vertical-align: top;\n",
       "    }\n",
       "\n",
       "    .dataframe thead th {\n",
       "        text-align: right;\n",
       "    }\n",
       "</style>\n",
       "<table border=\"1\" class=\"dataframe\">\n",
       "  <thead>\n",
       "    <tr style=\"text-align: right;\">\n",
       "      <th></th>\n",
       "      <th>Pred 1</th>\n",
       "      <th>Pred 0</th>\n",
       "    </tr>\n",
       "  </thead>\n",
       "  <tbody>\n",
       "    <tr>\n",
       "      <th>Act 1</th>\n",
       "      <td>227</td>\n",
       "      <td>114</td>\n",
       "    </tr>\n",
       "    <tr>\n",
       "      <th>Act 0</th>\n",
       "      <td>105</td>\n",
       "      <td>472</td>\n",
       "    </tr>\n",
       "  </tbody>\n",
       "</table>\n",
       "</div>"
      ],
      "text/plain": [
       "       Pred 1  Pred 0\n",
       "Act 1  227     114   \n",
       "Act 0  105     472   "
      ]
     },
     "execution_count": 206,
     "metadata": {},
     "output_type": "execute_result"
    }
   ],
   "source": [
    "cfslhRS = confusion_matrix(yf_test, yfslh_predRS, labels=[1, 0])\n",
    "cfs_lhRS = pd.DataFrame(cfslhRS,\n",
    "                 columns=['Pred 1', 'Pred 0'],\n",
    "                 index=['Act 1', 'Act 0'])\n",
    "cfs_lhRS"
   ]
  },
  {
   "cell_type": "code",
   "execution_count": 207,
   "metadata": {},
   "outputs": [
    {
     "data": {
      "text/html": [
       "<div>\n",
       "<style scoped>\n",
       "    .dataframe tbody tr th:only-of-type {\n",
       "        vertical-align: middle;\n",
       "    }\n",
       "\n",
       "    .dataframe tbody tr th {\n",
       "        vertical-align: top;\n",
       "    }\n",
       "\n",
       "    .dataframe thead th {\n",
       "        text-align: right;\n",
       "    }\n",
       "</style>\n",
       "<table border=\"1\" class=\"dataframe\">\n",
       "  <thead>\n",
       "    <tr style=\"text-align: right;\">\n",
       "      <th></th>\n",
       "      <th>Pred 1</th>\n",
       "      <th>Pred 0</th>\n",
       "    </tr>\n",
       "  </thead>\n",
       "  <tbody>\n",
       "    <tr>\n",
       "      <th>Act 1</th>\n",
       "      <td>227</td>\n",
       "      <td>114</td>\n",
       "    </tr>\n",
       "    <tr>\n",
       "      <th>Act 0</th>\n",
       "      <td>105</td>\n",
       "      <td>472</td>\n",
       "    </tr>\n",
       "  </tbody>\n",
       "</table>\n",
       "</div>"
      ],
      "text/plain": [
       "       Pred 1  Pred 0\n",
       "Act 1  227     114   \n",
       "Act 0  105     472   "
      ]
     },
     "execution_count": 207,
     "metadata": {},
     "output_type": "execute_result"
    }
   ],
   "source": [
    "cfslhGS = confusion_matrix(yf_test, yfslh_predGS, labels=[1, 0])\n",
    "cfs_lhGS = pd.DataFrame(cfslhGS,\n",
    "                 columns=['Pred 1', 'Pred 0'],\n",
    "                 index=['Act 1', 'Act 0'])\n",
    "cfs_lhGS"
   ]
  },
  {
   "cell_type": "code",
   "execution_count": 208,
   "metadata": {},
   "outputs": [],
   "source": [
    "roc_fslhRS = roc_auc_score(yf_test, yfslh_predRS)\n",
    "recall0_fslhRS = recall_score(yf_test, yfslh_predRS, pos_label=0)\n",
    "roc_fslhGS = roc_auc_score(yf_test, yfslh_predGS)\n",
    "recall0_fslhGS = recall_score(yf_test, yfslh_predGS, pos_label=0)\n",
    "FNfslh_RS = cfs_lhRS['Pred 0'].iloc[0]\n",
    "FPfslh_RS = cfs_lhRS['Pred 1'].iloc[1]\n",
    "FNfslh_GS = cfs_lhGS['Pred 0'].iloc[0]\n",
    "FPfslh_GS = cfs_lhGS['Pred 1'].iloc[1]"
   ]
  },
  {
   "cell_type": "markdown",
   "metadata": {},
   "source": [
    "### XGBClassifier"
   ]
  },
  {
   "cell_type": "markdown",
   "metadata": {},
   "source": [
    "### 1. Base hyper"
   ]
  },
  {
   "cell_type": "code",
   "execution_count": 209,
   "metadata": {},
   "outputs": [],
   "source": [
    "modelxgh = XGBClassifier()\n",
    "paramxg = {\n",
    "    'max_depth':np.random.randint(1,10,10),\n",
    "    'learning_rate': np.logspace(-3,0,15),\n",
    "    'n_estimators':np.random.randint(100,200,10),\n",
    "    'gamma':np.random.randint(1,10,10)\n",
    "}"
   ]
  },
  {
   "cell_type": "code",
   "execution_count": 210,
   "metadata": {},
   "outputs": [],
   "source": [
    "modelXRS = RandomizedSearchCV(\n",
    "    estimator = modelxgh, \n",
    "    param_distributions = paramxg, cv = 3)\n",
    "\n",
    "modelXGS = GridSearchCV(modelxgh, paramxg, cv=3, n_jobs=-1, verbose=1)"
   ]
  },
  {
   "cell_type": "code",
   "execution_count": 211,
   "metadata": {},
   "outputs": [
    {
     "data": {
      "text/plain": [
       "RandomizedSearchCV(cv=3, estimator=XGBClassifier(),\n",
       "                   param_distributions={'gamma': array([5, 8, 4, 2, 9, 2, 1, 8, 3, 4]),\n",
       "                                        'learning_rate': array([0.001     , 0.00163789, 0.0026827 , 0.00439397, 0.00719686,\n",
       "       0.01178769, 0.01930698, 0.03162278, 0.05179475, 0.08483429,\n",
       "       0.13894955, 0.22758459, 0.37275937, 0.61054023, 1.        ]),\n",
       "                                        'max_depth': array([6, 3, 5, 4, 3, 9, 2, 2, 1, 7]),\n",
       "                                        'n_estimators': array([135, 152, 100, 136, 121, 110, 170, 102, 113, 156])})"
      ]
     },
     "execution_count": 211,
     "metadata": {},
     "output_type": "execute_result"
    }
   ],
   "source": [
    "modelXRS.fit(Xb_train,yb_train)"
   ]
  },
  {
   "cell_type": "code",
   "execution_count": 212,
   "metadata": {},
   "outputs": [
    {
     "name": "stdout",
     "output_type": "stream",
     "text": [
      "Fitting 3 folds for each of 15000 candidates, totalling 45000 fits\n"
     ]
    },
    {
     "name": "stderr",
     "output_type": "stream",
     "text": [
      "[Parallel(n_jobs=-1)]: Using backend LokyBackend with 8 concurrent workers.\n",
      "[Parallel(n_jobs=-1)]: Done  34 tasks      | elapsed:    2.4s\n",
      "[Parallel(n_jobs=-1)]: Done 184 tasks      | elapsed:   11.4s\n",
      "[Parallel(n_jobs=-1)]: Done 434 tasks      | elapsed:   26.4s\n",
      "[Parallel(n_jobs=-1)]: Done 784 tasks      | elapsed:   50.3s\n",
      "[Parallel(n_jobs=-1)]: Done 1234 tasks      | elapsed:  1.3min\n",
      "[Parallel(n_jobs=-1)]: Done 1784 tasks      | elapsed:  1.9min\n",
      "[Parallel(n_jobs=-1)]: Done 2434 tasks      | elapsed:  2.6min\n",
      "[Parallel(n_jobs=-1)]: Done 3184 tasks      | elapsed:  3.6min\n",
      "[Parallel(n_jobs=-1)]: Done 4034 tasks      | elapsed:  5.0min\n",
      "[Parallel(n_jobs=-1)]: Done 4984 tasks      | elapsed:  7.4min\n",
      "[Parallel(n_jobs=-1)]: Done 6034 tasks      | elapsed:  9.5min\n",
      "[Parallel(n_jobs=-1)]: Done 7184 tasks      | elapsed: 11.7min\n",
      "[Parallel(n_jobs=-1)]: Done 8434 tasks      | elapsed: 14.2min\n",
      "[Parallel(n_jobs=-1)]: Done 9784 tasks      | elapsed: 16.8min\n",
      "[Parallel(n_jobs=-1)]: Done 11234 tasks      | elapsed: 19.7min\n",
      "[Parallel(n_jobs=-1)]: Done 12784 tasks      | elapsed: 22.7min\n",
      "[Parallel(n_jobs=-1)]: Done 14434 tasks      | elapsed: 25.6min\n",
      "[Parallel(n_jobs=-1)]: Done 16184 tasks      | elapsed: 29.2min\n",
      "[Parallel(n_jobs=-1)]: Done 18034 tasks      | elapsed: 33.6min\n",
      "[Parallel(n_jobs=-1)]: Done 19984 tasks      | elapsed: 38.1min\n",
      "[Parallel(n_jobs=-1)]: Done 22034 tasks      | elapsed: 42.0min\n",
      "[Parallel(n_jobs=-1)]: Done 24184 tasks      | elapsed: 46.5min\n",
      "[Parallel(n_jobs=-1)]: Done 26434 tasks      | elapsed: 51.2min\n",
      "[Parallel(n_jobs=-1)]: Done 28784 tasks      | elapsed: 56.3min\n",
      "[Parallel(n_jobs=-1)]: Done 31234 tasks      | elapsed: 61.1min\n",
      "[Parallel(n_jobs=-1)]: Done 33784 tasks      | elapsed: 66.3min\n",
      "[Parallel(n_jobs=-1)]: Done 36434 tasks      | elapsed: 69.4min\n",
      "[Parallel(n_jobs=-1)]: Done 39184 tasks      | elapsed: 72.7min\n",
      "[Parallel(n_jobs=-1)]: Done 42034 tasks      | elapsed: 75.9min\n",
      "[Parallel(n_jobs=-1)]: Done 44984 tasks      | elapsed: 79.2min\n",
      "[Parallel(n_jobs=-1)]: Done 45000 out of 45000 | elapsed: 79.2min finished\n"
     ]
    },
    {
     "data": {
      "text/plain": [
       "GridSearchCV(cv=3, estimator=XGBClassifier(), n_jobs=-1,\n",
       "             param_grid={'gamma': array([5, 8, 4, 2, 9, 2, 1, 8, 3, 4]),\n",
       "                         'learning_rate': array([0.001     , 0.00163789, 0.0026827 , 0.00439397, 0.00719686,\n",
       "       0.01178769, 0.01930698, 0.03162278, 0.05179475, 0.08483429,\n",
       "       0.13894955, 0.22758459, 0.37275937, 0.61054023, 1.        ]),\n",
       "                         'max_depth': array([6, 3, 5, 4, 3, 9, 2, 2, 1, 7]),\n",
       "                         'n_estimators': array([135, 152, 100, 136, 121, 110, 170, 102, 113, 156])},\n",
       "             verbose=1)"
      ]
     },
     "execution_count": 212,
     "metadata": {},
     "output_type": "execute_result"
    }
   ],
   "source": [
    "modelXGS.fit(Xb_train,yb_train)"
   ]
  },
  {
   "cell_type": "code",
   "execution_count": 213,
   "metadata": {},
   "outputs": [
    {
     "data": {
      "text/plain": [
       "{'n_estimators': 135,\n",
       " 'max_depth': 5,\n",
       " 'learning_rate': 0.011787686347935873,\n",
       " 'gamma': 5}"
      ]
     },
     "execution_count": 213,
     "metadata": {},
     "output_type": "execute_result"
    }
   ],
   "source": [
    "modelXRS.best_params_"
   ]
  },
  {
   "cell_type": "code",
   "execution_count": 214,
   "metadata": {},
   "outputs": [
    {
     "data": {
      "text/plain": [
       "{'gamma': 1,\n",
       " 'learning_rate': 0.0517947467923121,\n",
       " 'max_depth': 4,\n",
       " 'n_estimators': 113}"
      ]
     },
     "execution_count": 214,
     "metadata": {},
     "output_type": "execute_result"
    }
   ],
   "source": [
    "modelXGS.best_params_"
   ]
  },
  {
   "cell_type": "code",
   "execution_count": 215,
   "metadata": {},
   "outputs": [],
   "source": [
    "ybxh_predRS = modelXRS.predict(Xb_test)\n",
    "ybxh_predGS = modelXGS.predict(Xb_test)\n",
    "ybxh_predRSt = modelXRS.predict(Xb_train)\n",
    "ybxh_predGSt = modelXGS.predict(Xb_train)"
   ]
  },
  {
   "cell_type": "code",
   "execution_count": 216,
   "metadata": {},
   "outputs": [
    {
     "name": "stdout",
     "output_type": "stream",
     "text": [
      "              precision    recall  f1-score   support\n",
      "\n",
      "           0       0.82      0.81      0.82       577\n",
      "           1       0.69      0.70      0.69       341\n",
      "\n",
      "    accuracy                           0.77       918\n",
      "   macro avg       0.76      0.76      0.76       918\n",
      "weighted avg       0.77      0.77      0.77       918\n",
      "\n"
     ]
    }
   ],
   "source": [
    "print(classification_report(yb_test, ybxh_predRS))"
   ]
  },
  {
   "cell_type": "code",
   "execution_count": 217,
   "metadata": {},
   "outputs": [
    {
     "name": "stdout",
     "output_type": "stream",
     "text": [
      "              precision    recall  f1-score   support\n",
      "\n",
      "           0       0.80      0.83      0.82       577\n",
      "           1       0.69      0.65      0.67       341\n",
      "\n",
      "    accuracy                           0.76       918\n",
      "   macro avg       0.75      0.74      0.74       918\n",
      "weighted avg       0.76      0.76      0.76       918\n",
      "\n"
     ]
    }
   ],
   "source": [
    "print(classification_report(yb_test, ybxh_predGS))"
   ]
  },
  {
   "cell_type": "code",
   "execution_count": 218,
   "metadata": {},
   "outputs": [
    {
     "data": {
      "text/html": [
       "<div>\n",
       "<style scoped>\n",
       "    .dataframe tbody tr th:only-of-type {\n",
       "        vertical-align: middle;\n",
       "    }\n",
       "\n",
       "    .dataframe tbody tr th {\n",
       "        vertical-align: top;\n",
       "    }\n",
       "\n",
       "    .dataframe thead th {\n",
       "        text-align: right;\n",
       "    }\n",
       "</style>\n",
       "<table border=\"1\" class=\"dataframe\">\n",
       "  <thead>\n",
       "    <tr style=\"text-align: right;\">\n",
       "      <th></th>\n",
       "      <th>Pred 1</th>\n",
       "      <th>Pred 0</th>\n",
       "    </tr>\n",
       "  </thead>\n",
       "  <tbody>\n",
       "    <tr>\n",
       "      <th>Act 1</th>\n",
       "      <td>238</td>\n",
       "      <td>103</td>\n",
       "    </tr>\n",
       "    <tr>\n",
       "      <th>Act 0</th>\n",
       "      <td>107</td>\n",
       "      <td>470</td>\n",
       "    </tr>\n",
       "  </tbody>\n",
       "</table>\n",
       "</div>"
      ],
      "text/plain": [
       "       Pred 1  Pred 0\n",
       "Act 1  238     103   \n",
       "Act 0  107     470   "
      ]
     },
     "execution_count": 218,
     "metadata": {},
     "output_type": "execute_result"
    }
   ],
   "source": [
    "cbxhRS = confusion_matrix(yb_test, ybxh_predRS, labels=[1, 0])\n",
    "cb_xhRS = pd.DataFrame(cbxhRS,\n",
    "                 columns=['Pred 1', 'Pred 0'],\n",
    "                 index=['Act 1', 'Act 0'])\n",
    "cb_xhRS"
   ]
  },
  {
   "cell_type": "code",
   "execution_count": 219,
   "metadata": {},
   "outputs": [
    {
     "data": {
      "text/html": [
       "<div>\n",
       "<style scoped>\n",
       "    .dataframe tbody tr th:only-of-type {\n",
       "        vertical-align: middle;\n",
       "    }\n",
       "\n",
       "    .dataframe tbody tr th {\n",
       "        vertical-align: top;\n",
       "    }\n",
       "\n",
       "    .dataframe thead th {\n",
       "        text-align: right;\n",
       "    }\n",
       "</style>\n",
       "<table border=\"1\" class=\"dataframe\">\n",
       "  <thead>\n",
       "    <tr style=\"text-align: right;\">\n",
       "      <th></th>\n",
       "      <th>Pred 1</th>\n",
       "      <th>Pred 0</th>\n",
       "    </tr>\n",
       "  </thead>\n",
       "  <tbody>\n",
       "    <tr>\n",
       "      <th>Act 1</th>\n",
       "      <td>221</td>\n",
       "      <td>120</td>\n",
       "    </tr>\n",
       "    <tr>\n",
       "      <th>Act 0</th>\n",
       "      <td>97</td>\n",
       "      <td>480</td>\n",
       "    </tr>\n",
       "  </tbody>\n",
       "</table>\n",
       "</div>"
      ],
      "text/plain": [
       "       Pred 1  Pred 0\n",
       "Act 1  221     120   \n",
       "Act 0  97      480   "
      ]
     },
     "execution_count": 219,
     "metadata": {},
     "output_type": "execute_result"
    }
   ],
   "source": [
    "cbxhGS = confusion_matrix(yb_test, ybxh_predGS, labels=[1, 0])\n",
    "cb_xhGS = pd.DataFrame(cbxhGS,\n",
    "                 columns=['Pred 1', 'Pred 0'],\n",
    "                 index=['Act 1', 'Act 0'])\n",
    "cb_xhGS"
   ]
  },
  {
   "cell_type": "code",
   "execution_count": 220,
   "metadata": {},
   "outputs": [],
   "source": [
    "roc_bxhRS = roc_auc_score(yb_test, ybxh_predRS)\n",
    "recall0_bxhRS = recall_score(yb_test, ybxh_predRS, pos_label=0)\n",
    "roc_bxhGS = roc_auc_score(yb_test, ybxh_predGS)\n",
    "recall0_bxhGS = recall_score(yb_test, ybxh_predGS, pos_label=0)\n",
    "FNbxh_RS = cb_xhRS['Pred 0'].iloc[0]\n",
    "FPbxh_RS = cb_xhRS['Pred 1'].iloc[1]\n",
    "FNbxh_GS = cb_xhGS['Pred 0'].iloc[0]\n",
    "FPbxh_GS = cb_xhGS['Pred 1'].iloc[1]"
   ]
  },
  {
   "cell_type": "markdown",
   "metadata": {},
   "source": [
    "### 2. Complex (dfix)"
   ]
  },
  {
   "cell_type": "code",
   "execution_count": 221,
   "metadata": {},
   "outputs": [],
   "source": [
    "modelxgh = XGBClassifier()\n",
    "paramxg = {\n",
    "    'max_depth':np.random.randint(1,10,10),\n",
    "    'learning_rate': np.logspace(-3,0,15),\n",
    "    'n_estimators':np.random.randint(100,200,10),\n",
    "    'gamma':np.random.randint(1,10,10)\n",
    "}"
   ]
  },
  {
   "cell_type": "code",
   "execution_count": 222,
   "metadata": {},
   "outputs": [],
   "source": [
    "modelXRS = RandomizedSearchCV(\n",
    "    estimator = modelxgh, \n",
    "    param_distributions = paramxg, cv = 3)\n",
    "\n",
    "modelXGS = GridSearchCV(modelxgh, paramxg, cv=3, n_jobs=-1, verbose=1)"
   ]
  },
  {
   "cell_type": "code",
   "execution_count": 223,
   "metadata": {},
   "outputs": [
    {
     "data": {
      "text/plain": [
       "RandomizedSearchCV(cv=3, estimator=XGBClassifier(),\n",
       "                   param_distributions={'gamma': array([9, 4, 6, 9, 2, 8, 4, 7, 4, 7]),\n",
       "                                        'learning_rate': array([0.001     , 0.00163789, 0.0026827 , 0.00439397, 0.00719686,\n",
       "       0.01178769, 0.01930698, 0.03162278, 0.05179475, 0.08483429,\n",
       "       0.13894955, 0.22758459, 0.37275937, 0.61054023, 1.        ]),\n",
       "                                        'max_depth': array([2, 4, 2, 1, 8, 7, 5, 1, 9, 8]),\n",
       "                                        'n_estimators': array([110, 134, 153, 177, 118, 152, 154, 172, 139, 140])})"
      ]
     },
     "execution_count": 223,
     "metadata": {},
     "output_type": "execute_result"
    }
   ],
   "source": [
    "modelXRS.fit(Xf_train,yf_train)"
   ]
  },
  {
   "cell_type": "code",
   "execution_count": 224,
   "metadata": {},
   "outputs": [
    {
     "name": "stdout",
     "output_type": "stream",
     "text": [
      "Fitting 3 folds for each of 15000 candidates, totalling 45000 fits\n"
     ]
    },
    {
     "name": "stderr",
     "output_type": "stream",
     "text": [
      "[Parallel(n_jobs=-1)]: Using backend LokyBackend with 8 concurrent workers.\n",
      "[Parallel(n_jobs=-1)]: Done  34 tasks      | elapsed:    1.4s\n",
      "[Parallel(n_jobs=-1)]: Done 184 tasks      | elapsed:    8.1s\n",
      "[Parallel(n_jobs=-1)]: Done 434 tasks      | elapsed:   20.0s\n",
      "[Parallel(n_jobs=-1)]: Done 784 tasks      | elapsed:   38.1s\n",
      "[Parallel(n_jobs=-1)]: Done 1234 tasks      | elapsed:  1.0min\n",
      "[Parallel(n_jobs=-1)]: Done 1784 tasks      | elapsed:  1.5min\n",
      "[Parallel(n_jobs=-1)]: Done 2434 tasks      | elapsed:  2.0min\n",
      "[Parallel(n_jobs=-1)]: Done 3184 tasks      | elapsed:  2.7min\n",
      "[Parallel(n_jobs=-1)]: Done 4034 tasks      | elapsed:  3.5min\n",
      "[Parallel(n_jobs=-1)]: Done 4984 tasks      | elapsed:  4.3min\n",
      "[Parallel(n_jobs=-1)]: Done 6034 tasks      | elapsed:  5.3min\n",
      "[Parallel(n_jobs=-1)]: Done 7184 tasks      | elapsed:  6.4min\n",
      "[Parallel(n_jobs=-1)]: Done 8434 tasks      | elapsed:  7.6min\n",
      "[Parallel(n_jobs=-1)]: Done 9784 tasks      | elapsed:  8.8min\n",
      "[Parallel(n_jobs=-1)]: Done 11234 tasks      | elapsed: 10.1min\n",
      "[Parallel(n_jobs=-1)]: Done 12784 tasks      | elapsed: 11.4min\n",
      "[Parallel(n_jobs=-1)]: Done 14770 tasks      | elapsed: 12.9min\n",
      "[Parallel(n_jobs=-1)]: Done 16520 tasks      | elapsed: 14.3min\n",
      "[Parallel(n_jobs=-1)]: Done 18370 tasks      | elapsed: 16.0min\n",
      "[Parallel(n_jobs=-1)]: Done 20320 tasks      | elapsed: 17.5min\n",
      "[Parallel(n_jobs=-1)]: Done 22370 tasks      | elapsed: 19.4min\n",
      "[Parallel(n_jobs=-1)]: Done 24520 tasks      | elapsed: 21.2min\n",
      "[Parallel(n_jobs=-1)]: Done 26770 tasks      | elapsed: 22.9min\n",
      "[Parallel(n_jobs=-1)]: Done 29120 tasks      | elapsed: 25.1min\n",
      "[Parallel(n_jobs=-1)]: Done 31570 tasks      | elapsed: 27.3min\n",
      "[Parallel(n_jobs=-1)]: Done 34120 tasks      | elapsed: 29.6min\n",
      "[Parallel(n_jobs=-1)]: Done 36770 tasks      | elapsed: 32.0min\n",
      "[Parallel(n_jobs=-1)]: Done 39520 tasks      | elapsed: 34.4min\n",
      "[Parallel(n_jobs=-1)]: Done 42370 tasks      | elapsed: 36.8min\n",
      "[Parallel(n_jobs=-1)]: Done 45000 out of 45000 | elapsed: 39.2min finished\n"
     ]
    },
    {
     "data": {
      "text/plain": [
       "GridSearchCV(cv=3, estimator=XGBClassifier(), n_jobs=-1,\n",
       "             param_grid={'gamma': array([9, 4, 6, 9, 2, 8, 4, 7, 4, 7]),\n",
       "                         'learning_rate': array([0.001     , 0.00163789, 0.0026827 , 0.00439397, 0.00719686,\n",
       "       0.01178769, 0.01930698, 0.03162278, 0.05179475, 0.08483429,\n",
       "       0.13894955, 0.22758459, 0.37275937, 0.61054023, 1.        ]),\n",
       "                         'max_depth': array([2, 4, 2, 1, 8, 7, 5, 1, 9, 8]),\n",
       "                         'n_estimators': array([110, 134, 153, 177, 118, 152, 154, 172, 139, 140])},\n",
       "             verbose=1)"
      ]
     },
     "execution_count": 224,
     "metadata": {},
     "output_type": "execute_result"
    }
   ],
   "source": [
    "modelXGS.fit(Xf_train,yf_train)"
   ]
  },
  {
   "cell_type": "code",
   "execution_count": 225,
   "metadata": {},
   "outputs": [
    {
     "data": {
      "text/plain": [
       "{'n_estimators': 139,\n",
       " 'max_depth': 7,\n",
       " 'learning_rate': 0.03162277660168379,\n",
       " 'gamma': 2}"
      ]
     },
     "execution_count": 225,
     "metadata": {},
     "output_type": "execute_result"
    }
   ],
   "source": [
    "modelXRS.best_params_"
   ]
  },
  {
   "cell_type": "code",
   "execution_count": 226,
   "metadata": {},
   "outputs": [
    {
     "data": {
      "text/plain": [
       "{'gamma': 4,\n",
       " 'learning_rate': 0.03162277660168379,\n",
       " 'max_depth': 8,\n",
       " 'n_estimators': 153}"
      ]
     },
     "execution_count": 226,
     "metadata": {},
     "output_type": "execute_result"
    }
   ],
   "source": [
    "modelXGS.best_params_"
   ]
  },
  {
   "cell_type": "code",
   "execution_count": 227,
   "metadata": {},
   "outputs": [],
   "source": [
    "yfxh_predRS = modelXRS.predict(Xf_test)\n",
    "yfxh_predGS = modelXGS.predict(Xf_test)\n",
    "yfxh_predRSt = modelXRS.predict(Xf_train)\n",
    "yfxh_predGSt = modelXGS.predict(Xf_train)"
   ]
  },
  {
   "cell_type": "code",
   "execution_count": 228,
   "metadata": {},
   "outputs": [
    {
     "name": "stdout",
     "output_type": "stream",
     "text": [
      "              precision    recall  f1-score   support\n",
      "\n",
      "           0       0.81      0.81      0.81       577\n",
      "           1       0.68      0.67      0.68       341\n",
      "\n",
      "    accuracy                           0.76       918\n",
      "   macro avg       0.75      0.74      0.75       918\n",
      "weighted avg       0.76      0.76      0.76       918\n",
      "\n"
     ]
    }
   ],
   "source": [
    "print(classification_report(yf_test, yfxh_predRS))"
   ]
  },
  {
   "cell_type": "code",
   "execution_count": 229,
   "metadata": {},
   "outputs": [
    {
     "name": "stdout",
     "output_type": "stream",
     "text": [
      "              precision    recall  f1-score   support\n",
      "\n",
      "           0       0.81      0.81      0.81       577\n",
      "           1       0.68      0.68      0.68       341\n",
      "\n",
      "    accuracy                           0.76       918\n",
      "   macro avg       0.75      0.75      0.75       918\n",
      "weighted avg       0.76      0.76      0.76       918\n",
      "\n"
     ]
    }
   ],
   "source": [
    "print(classification_report(yf_test, yfxh_predGS))"
   ]
  },
  {
   "cell_type": "code",
   "execution_count": 230,
   "metadata": {},
   "outputs": [
    {
     "data": {
      "text/html": [
       "<div>\n",
       "<style scoped>\n",
       "    .dataframe tbody tr th:only-of-type {\n",
       "        vertical-align: middle;\n",
       "    }\n",
       "\n",
       "    .dataframe tbody tr th {\n",
       "        vertical-align: top;\n",
       "    }\n",
       "\n",
       "    .dataframe thead th {\n",
       "        text-align: right;\n",
       "    }\n",
       "</style>\n",
       "<table border=\"1\" class=\"dataframe\">\n",
       "  <thead>\n",
       "    <tr style=\"text-align: right;\">\n",
       "      <th></th>\n",
       "      <th>Pred 1</th>\n",
       "      <th>Pred 0</th>\n",
       "    </tr>\n",
       "  </thead>\n",
       "  <tbody>\n",
       "    <tr>\n",
       "      <th>Act 1</th>\n",
       "      <td>230</td>\n",
       "      <td>111</td>\n",
       "    </tr>\n",
       "    <tr>\n",
       "      <th>Act 0</th>\n",
       "      <td>107</td>\n",
       "      <td>470</td>\n",
       "    </tr>\n",
       "  </tbody>\n",
       "</table>\n",
       "</div>"
      ],
      "text/plain": [
       "       Pred 1  Pred 0\n",
       "Act 1  230     111   \n",
       "Act 0  107     470   "
      ]
     },
     "execution_count": 230,
     "metadata": {},
     "output_type": "execute_result"
    }
   ],
   "source": [
    "cfxhRS = confusion_matrix(yf_test, yfxh_predRS, labels=[1, 0])\n",
    "cf_xhRS = pd.DataFrame(cfxhRS,\n",
    "                 columns=['Pred 1', 'Pred 0'],\n",
    "                 index=['Act 1', 'Act 0'])\n",
    "cf_xhRS"
   ]
  },
  {
   "cell_type": "code",
   "execution_count": 231,
   "metadata": {},
   "outputs": [
    {
     "data": {
      "text/html": [
       "<div>\n",
       "<style scoped>\n",
       "    .dataframe tbody tr th:only-of-type {\n",
       "        vertical-align: middle;\n",
       "    }\n",
       "\n",
       "    .dataframe tbody tr th {\n",
       "        vertical-align: top;\n",
       "    }\n",
       "\n",
       "    .dataframe thead th {\n",
       "        text-align: right;\n",
       "    }\n",
       "</style>\n",
       "<table border=\"1\" class=\"dataframe\">\n",
       "  <thead>\n",
       "    <tr style=\"text-align: right;\">\n",
       "      <th></th>\n",
       "      <th>Pred 1</th>\n",
       "      <th>Pred 0</th>\n",
       "    </tr>\n",
       "  </thead>\n",
       "  <tbody>\n",
       "    <tr>\n",
       "      <th>Act 1</th>\n",
       "      <td>233</td>\n",
       "      <td>108</td>\n",
       "    </tr>\n",
       "    <tr>\n",
       "      <th>Act 0</th>\n",
       "      <td>109</td>\n",
       "      <td>468</td>\n",
       "    </tr>\n",
       "  </tbody>\n",
       "</table>\n",
       "</div>"
      ],
      "text/plain": [
       "       Pred 1  Pred 0\n",
       "Act 1  233     108   \n",
       "Act 0  109     468   "
      ]
     },
     "execution_count": 231,
     "metadata": {},
     "output_type": "execute_result"
    }
   ],
   "source": [
    "cfxhGS = confusion_matrix(yf_test, yfxh_predGS, labels=[1, 0])\n",
    "cf_xhGS = pd.DataFrame(cfxhGS,\n",
    "                 columns=['Pred 1', 'Pred 0'],\n",
    "                 index=['Act 1', 'Act 0'])\n",
    "cf_xhGS"
   ]
  },
  {
   "cell_type": "code",
   "execution_count": 232,
   "metadata": {},
   "outputs": [],
   "source": [
    "roc_fxhRS = roc_auc_score(yf_test, yfxh_predRS)\n",
    "recall0_fxhRS = recall_score(yf_test, yfxh_predRS, pos_label=0)\n",
    "roc_fxhGS = roc_auc_score(yf_test, yfxh_predGS)\n",
    "recall0_fxhGS = recall_score(yf_test, yfxh_predGS, pos_label=0)\n",
    "FNfxh_RS = cf_xhRS['Pred 0'].iloc[0]\n",
    "FPfxh_RS = cf_xhRS['Pred 1'].iloc[1]\n",
    "FNfxh_GS = cf_xhGS['Pred 0'].iloc[0]\n",
    "FPfxh_GS = cf_xhGS['Pred 1'].iloc[1]"
   ]
  },
  {
   "cell_type": "markdown",
   "metadata": {},
   "source": [
    "### KNN Classifier"
   ]
  },
  {
   "cell_type": "markdown",
   "metadata": {},
   "source": [
    "### 1. Base hyper"
   ]
  },
  {
   "cell_type": "code",
   "execution_count": 233,
   "metadata": {},
   "outputs": [],
   "source": [
    "modelkfh = KNeighborsClassifier()\n",
    "paramkf = {\n",
    "    \"n_neighbors\" : np.random.randint(100,200,10),\n",
    "    \"weights\" : [\"uniform\", \"distance\"],\n",
    "    \"p\" : np.random.randint(1,10,10)\n",
    "}"
   ]
  },
  {
   "cell_type": "code",
   "execution_count": 234,
   "metadata": {},
   "outputs": [],
   "source": [
    "modelKRS = RandomizedSearchCV(estimator = modelkfh, param_distributions = paramkf, cv = 3)\n",
    "\n",
    "modelKGS = GridSearchCV(modelkfh, paramkf, cv=3, n_jobs=-1, verbose=1)"
   ]
  },
  {
   "cell_type": "code",
   "execution_count": 235,
   "metadata": {},
   "outputs": [
    {
     "data": {
      "text/plain": [
       "RandomizedSearchCV(cv=3, estimator=KNeighborsClassifier(),\n",
       "                   param_distributions={'n_neighbors': array([185, 121, 154, 125, 109, 106, 133, 174, 158, 127]),\n",
       "                                        'p': array([2, 4, 2, 2, 4, 8, 2, 4, 8, 1]),\n",
       "                                        'weights': ['uniform', 'distance']})"
      ]
     },
     "execution_count": 235,
     "metadata": {},
     "output_type": "execute_result"
    }
   ],
   "source": [
    "modelKRS.fit(Xb_train,yb_train)"
   ]
  },
  {
   "cell_type": "code",
   "execution_count": 236,
   "metadata": {},
   "outputs": [
    {
     "name": "stdout",
     "output_type": "stream",
     "text": [
      "Fitting 3 folds for each of 200 candidates, totalling 600 fits\n"
     ]
    },
    {
     "name": "stderr",
     "output_type": "stream",
     "text": [
      "[Parallel(n_jobs=-1)]: Using backend LokyBackend with 8 concurrent workers.\n",
      "[Parallel(n_jobs=-1)]: Done  34 tasks      | elapsed:    1.7s\n",
      "[Parallel(n_jobs=-1)]: Done 184 tasks      | elapsed:    7.7s\n",
      "[Parallel(n_jobs=-1)]: Done 434 tasks      | elapsed:   16.8s\n",
      "[Parallel(n_jobs=-1)]: Done 600 out of 600 | elapsed:   23.5s finished\n"
     ]
    },
    {
     "data": {
      "text/plain": [
       "GridSearchCV(cv=3, estimator=KNeighborsClassifier(), n_jobs=-1,\n",
       "             param_grid={'n_neighbors': array([185, 121, 154, 125, 109, 106, 133, 174, 158, 127]),\n",
       "                         'p': array([2, 4, 2, 2, 4, 8, 2, 4, 8, 1]),\n",
       "                         'weights': ['uniform', 'distance']},\n",
       "             verbose=1)"
      ]
     },
     "execution_count": 236,
     "metadata": {},
     "output_type": "execute_result"
    }
   ],
   "source": [
    "modelKGS.fit(Xb_train,yb_train)"
   ]
  },
  {
   "cell_type": "code",
   "execution_count": 237,
   "metadata": {},
   "outputs": [
    {
     "data": {
      "text/plain": [
       "{'weights': 'uniform', 'p': 1, 'n_neighbors': 154}"
      ]
     },
     "execution_count": 237,
     "metadata": {},
     "output_type": "execute_result"
    }
   ],
   "source": [
    "modelKRS.best_params_"
   ]
  },
  {
   "cell_type": "code",
   "execution_count": 238,
   "metadata": {},
   "outputs": [
    {
     "data": {
      "text/plain": [
       "{'n_neighbors': 133, 'p': 1, 'weights': 'distance'}"
      ]
     },
     "execution_count": 238,
     "metadata": {},
     "output_type": "execute_result"
    }
   ],
   "source": [
    "modelKGS.best_params_"
   ]
  },
  {
   "cell_type": "code",
   "execution_count": 239,
   "metadata": {},
   "outputs": [],
   "source": [
    "ybkh_predRS = modelKRS.predict(Xb_test)\n",
    "ybkh_predGS = modelKGS.predict(Xb_test)\n",
    "ybkh_predRSt = modelKRS.predict(Xb_train)\n",
    "ybkh_predGSt = modelKGS.predict(Xb_train)"
   ]
  },
  {
   "cell_type": "code",
   "execution_count": 277,
   "metadata": {},
   "outputs": [
    {
     "name": "stdout",
     "output_type": "stream",
     "text": [
      "              precision    recall  f1-score   support\n",
      "\n",
      "           0       0.70      0.93      0.80      1729\n",
      "           1       0.75      0.33      0.45      1024\n",
      "\n",
      "    accuracy                           0.71      2753\n",
      "   macro avg       0.72      0.63      0.63      2753\n",
      "weighted avg       0.72      0.71      0.67      2753\n",
      "\n"
     ]
    }
   ],
   "source": [
    "print(classification_report(yb_train, ybkh_predRSt))"
   ]
  },
  {
   "cell_type": "code",
   "execution_count": 281,
   "metadata": {},
   "outputs": [
    {
     "data": {
      "text/plain": [
       "0.630118904532967"
      ]
     },
     "execution_count": 281,
     "metadata": {},
     "output_type": "execute_result"
    }
   ],
   "source": [
    "roc_auc_score(yb_train, ybkh_predRSt)"
   ]
  },
  {
   "cell_type": "code",
   "execution_count": 240,
   "metadata": {},
   "outputs": [
    {
     "name": "stdout",
     "output_type": "stream",
     "text": [
      "              precision    recall  f1-score   support\n",
      "\n",
      "           0       0.70      0.93      0.80       577\n",
      "           1       0.73      0.33      0.45       341\n",
      "\n",
      "    accuracy                           0.70       918\n",
      "   macro avg       0.71      0.63      0.62       918\n",
      "weighted avg       0.71      0.70      0.67       918\n",
      "\n"
     ]
    }
   ],
   "source": [
    "print(classification_report(yb_test, ybkh_predRS))"
   ]
  },
  {
   "cell_type": "code",
   "execution_count": 282,
   "metadata": {},
   "outputs": [
    {
     "data": {
      "text/plain": [
       "0.6263614509267776"
      ]
     },
     "execution_count": 282,
     "metadata": {},
     "output_type": "execute_result"
    }
   ],
   "source": [
    "roc_auc_score(yb_test, ybkh_predRS)"
   ]
  },
  {
   "cell_type": "code",
   "execution_count": 241,
   "metadata": {},
   "outputs": [
    {
     "name": "stdout",
     "output_type": "stream",
     "text": [
      "              precision    recall  f1-score   support\n",
      "\n",
      "           0       0.70      0.92      0.79       577\n",
      "           1       0.71      0.34      0.46       341\n",
      "\n",
      "    accuracy                           0.70       918\n",
      "   macro avg       0.70      0.63      0.63       918\n",
      "weighted avg       0.70      0.70      0.67       918\n",
      "\n"
     ]
    }
   ],
   "source": [
    "print(classification_report(yb_test, ybkh_predGS))"
   ]
  },
  {
   "cell_type": "code",
   "execution_count": null,
   "metadata": {},
   "outputs": [],
   "source": [
    "cbkhRS = confusion_matrix(yb_test, ybkh_predRS, labels=[1, 0])\n",
    "cb_khRS = pd.DataFrame(cbkhRS,\n",
    "                 columns=['Pred 1', 'Pred 0'],\n",
    "                 index=['Act 1', 'Act 0'])\n",
    "cb_khRS"
   ]
  },
  {
   "cell_type": "code",
   "execution_count": 243,
   "metadata": {},
   "outputs": [
    {
     "data": {
      "text/html": [
       "<div>\n",
       "<style scoped>\n",
       "    .dataframe tbody tr th:only-of-type {\n",
       "        vertical-align: middle;\n",
       "    }\n",
       "\n",
       "    .dataframe tbody tr th {\n",
       "        vertical-align: top;\n",
       "    }\n",
       "\n",
       "    .dataframe thead th {\n",
       "        text-align: right;\n",
       "    }\n",
       "</style>\n",
       "<table border=\"1\" class=\"dataframe\">\n",
       "  <thead>\n",
       "    <tr style=\"text-align: right;\">\n",
       "      <th></th>\n",
       "      <th>Pred 1</th>\n",
       "      <th>Pred 0</th>\n",
       "    </tr>\n",
       "  </thead>\n",
       "  <tbody>\n",
       "    <tr>\n",
       "      <th>Act 1</th>\n",
       "      <td>115</td>\n",
       "      <td>226</td>\n",
       "    </tr>\n",
       "    <tr>\n",
       "      <th>Act 0</th>\n",
       "      <td>48</td>\n",
       "      <td>529</td>\n",
       "    </tr>\n",
       "  </tbody>\n",
       "</table>\n",
       "</div>"
      ],
      "text/plain": [
       "       Pred 1  Pred 0\n",
       "Act 1  115     226   \n",
       "Act 0  48      529   "
      ]
     },
     "execution_count": 243,
     "metadata": {},
     "output_type": "execute_result"
    }
   ],
   "source": [
    "cbkhGS = confusion_matrix(yb_test, ybkh_predGS, labels=[1, 0])\n",
    "cb_khGS = pd.DataFrame(cbkhGS,\n",
    "                 columns=['Pred 1', 'Pred 0'],\n",
    "                 index=['Act 1', 'Act 0'])\n",
    "cb_khGS"
   ]
  },
  {
   "cell_type": "code",
   "execution_count": 244,
   "metadata": {},
   "outputs": [],
   "source": [
    "roc_bkhRS = roc_auc_score(yb_test, ybkh_predRS)\n",
    "recall0_bkhRS = recall_score(yb_test, ybkh_predRS, pos_label=0)\n",
    "roc_bkhGS = roc_auc_score(yb_test, ybkh_predGS)\n",
    "recall0_bkhGS = recall_score(yb_test, ybkh_predGS, pos_label=0)\n",
    "FNbkh_RS = cb_khRS['Pred 0'].iloc[0]\n",
    "FPbkh_RS = cb_khRS['Pred 1'].iloc[1]\n",
    "FNbkh_GS = cb_khGS['Pred 0'].iloc[0]\n",
    "FPbkh_GS = cb_khGS['Pred 1'].iloc[1]"
   ]
  },
  {
   "cell_type": "markdown",
   "metadata": {},
   "source": [
    "### 2. Complex (dfix)"
   ]
  },
  {
   "cell_type": "code",
   "execution_count": 245,
   "metadata": {},
   "outputs": [],
   "source": [
    "modelkfh = KNeighborsClassifier()\n",
    "paramkf = {\n",
    "    \"n_neighbors\" : np.random.randint(100,200,10),\n",
    "    \"weights\" : [\"uniform\", \"distance\"],\n",
    "    \"p\" : np.random.randint(1,10,10)\n",
    "}"
   ]
  },
  {
   "cell_type": "code",
   "execution_count": 246,
   "metadata": {},
   "outputs": [],
   "source": [
    "modelKRS = RandomizedSearchCV(estimator = modelkfh, param_distributions = paramkf, cv = 3)\n",
    "\n",
    "modelKGS = GridSearchCV(modelkfh, paramkf, cv=3, n_jobs=-1, verbose=1)"
   ]
  },
  {
   "cell_type": "code",
   "execution_count": 247,
   "metadata": {},
   "outputs": [
    {
     "data": {
      "text/plain": [
       "RandomizedSearchCV(cv=3, estimator=KNeighborsClassifier(),\n",
       "                   param_distributions={'n_neighbors': array([125, 152, 164, 138, 103, 116, 179, 185, 105, 119]),\n",
       "                                        'p': array([8, 8, 1, 6, 8, 6, 6, 5, 5, 6]),\n",
       "                                        'weights': ['uniform', 'distance']})"
      ]
     },
     "execution_count": 247,
     "metadata": {},
     "output_type": "execute_result"
    }
   ],
   "source": [
    "modelKRS.fit(Xf_train,yf_train)"
   ]
  },
  {
   "cell_type": "code",
   "execution_count": 248,
   "metadata": {},
   "outputs": [
    {
     "name": "stdout",
     "output_type": "stream",
     "text": [
      "Fitting 3 folds for each of 200 candidates, totalling 600 fits\n"
     ]
    },
    {
     "name": "stderr",
     "output_type": "stream",
     "text": [
      "[Parallel(n_jobs=-1)]: Using backend LokyBackend with 8 concurrent workers.\n",
      "[Parallel(n_jobs=-1)]: Done  34 tasks      | elapsed:    1.6s\n",
      "[Parallel(n_jobs=-1)]: Done 184 tasks      | elapsed:    9.0s\n",
      "[Parallel(n_jobs=-1)]: Done 434 tasks      | elapsed:   19.7s\n",
      "[Parallel(n_jobs=-1)]: Done 600 out of 600 | elapsed:   27.2s finished\n"
     ]
    },
    {
     "data": {
      "text/plain": [
       "GridSearchCV(cv=3, estimator=KNeighborsClassifier(), n_jobs=-1,\n",
       "             param_grid={'n_neighbors': array([125, 152, 164, 138, 103, 116, 179, 185, 105, 119]),\n",
       "                         'p': array([8, 8, 1, 6, 8, 6, 6, 5, 5, 6]),\n",
       "                         'weights': ['uniform', 'distance']},\n",
       "             verbose=1)"
      ]
     },
     "execution_count": 248,
     "metadata": {},
     "output_type": "execute_result"
    }
   ],
   "source": [
    "modelKGS.fit(Xf_train,yf_train)"
   ]
  },
  {
   "cell_type": "code",
   "execution_count": 249,
   "metadata": {},
   "outputs": [
    {
     "data": {
      "text/plain": [
       "{'weights': 'distance', 'p': 6, 'n_neighbors': 138}"
      ]
     },
     "execution_count": 249,
     "metadata": {},
     "output_type": "execute_result"
    }
   ],
   "source": [
    "modelKRS.best_params_"
   ]
  },
  {
   "cell_type": "code",
   "execution_count": 250,
   "metadata": {},
   "outputs": [
    {
     "data": {
      "text/plain": [
       "{'n_neighbors': 125, 'p': 1, 'weights': 'distance'}"
      ]
     },
     "execution_count": 250,
     "metadata": {},
     "output_type": "execute_result"
    }
   ],
   "source": [
    "modelKGS.best_params_"
   ]
  },
  {
   "cell_type": "code",
   "execution_count": 251,
   "metadata": {},
   "outputs": [],
   "source": [
    "yfkh_predRS = modelKRS.predict(Xf_test)\n",
    "yfkh_predGS = modelKGS.predict(Xf_test)\n",
    "yfkh_predRSt = modelKRS.predict(Xf_train)\n",
    "yfkh_predGSt = modelKGS.predict(Xf_train)"
   ]
  },
  {
   "cell_type": "code",
   "execution_count": 252,
   "metadata": {},
   "outputs": [
    {
     "name": "stdout",
     "output_type": "stream",
     "text": [
      "              precision    recall  f1-score   support\n",
      "\n",
      "           0       0.79      0.83      0.81       577\n",
      "           1       0.69      0.63      0.66       341\n",
      "\n",
      "    accuracy                           0.76       918\n",
      "   macro avg       0.74      0.73      0.74       918\n",
      "weighted avg       0.75      0.76      0.75       918\n",
      "\n"
     ]
    }
   ],
   "source": [
    "print(classification_report(yf_test, yfkh_predRS))"
   ]
  },
  {
   "cell_type": "code",
   "execution_count": 253,
   "metadata": {},
   "outputs": [
    {
     "name": "stdout",
     "output_type": "stream",
     "text": [
      "              precision    recall  f1-score   support\n",
      "\n",
      "           0       0.79      0.83      0.81       577\n",
      "           1       0.68      0.63      0.66       341\n",
      "\n",
      "    accuracy                           0.75       918\n",
      "   macro avg       0.74      0.73      0.73       918\n",
      "weighted avg       0.75      0.75      0.75       918\n",
      "\n"
     ]
    }
   ],
   "source": [
    "print(classification_report(yf_test, yfkh_predGS))"
   ]
  },
  {
   "cell_type": "code",
   "execution_count": 254,
   "metadata": {},
   "outputs": [
    {
     "data": {
      "text/html": [
       "<div>\n",
       "<style scoped>\n",
       "    .dataframe tbody tr th:only-of-type {\n",
       "        vertical-align: middle;\n",
       "    }\n",
       "\n",
       "    .dataframe tbody tr th {\n",
       "        vertical-align: top;\n",
       "    }\n",
       "\n",
       "    .dataframe thead th {\n",
       "        text-align: right;\n",
       "    }\n",
       "</style>\n",
       "<table border=\"1\" class=\"dataframe\">\n",
       "  <thead>\n",
       "    <tr style=\"text-align: right;\">\n",
       "      <th></th>\n",
       "      <th>Pred 1</th>\n",
       "      <th>Pred 0</th>\n",
       "    </tr>\n",
       "  </thead>\n",
       "  <tbody>\n",
       "    <tr>\n",
       "      <th>Act 1</th>\n",
       "      <td>216</td>\n",
       "      <td>125</td>\n",
       "    </tr>\n",
       "    <tr>\n",
       "      <th>Act 0</th>\n",
       "      <td>98</td>\n",
       "      <td>479</td>\n",
       "    </tr>\n",
       "  </tbody>\n",
       "</table>\n",
       "</div>"
      ],
      "text/plain": [
       "       Pred 1  Pred 0\n",
       "Act 1  216     125   \n",
       "Act 0  98      479   "
      ]
     },
     "execution_count": 254,
     "metadata": {},
     "output_type": "execute_result"
    }
   ],
   "source": [
    "cfkhRS = confusion_matrix(yf_test, yfkh_predRS, labels=[1, 0])\n",
    "cf_khRS = pd.DataFrame(cfkhRS,\n",
    "                 columns=['Pred 1', 'Pred 0'],\n",
    "                 index=['Act 1', 'Act 0'])\n",
    "cf_khRS"
   ]
  },
  {
   "cell_type": "code",
   "execution_count": 255,
   "metadata": {},
   "outputs": [
    {
     "data": {
      "text/html": [
       "<div>\n",
       "<style scoped>\n",
       "    .dataframe tbody tr th:only-of-type {\n",
       "        vertical-align: middle;\n",
       "    }\n",
       "\n",
       "    .dataframe tbody tr th {\n",
       "        vertical-align: top;\n",
       "    }\n",
       "\n",
       "    .dataframe thead th {\n",
       "        text-align: right;\n",
       "    }\n",
       "</style>\n",
       "<table border=\"1\" class=\"dataframe\">\n",
       "  <thead>\n",
       "    <tr style=\"text-align: right;\">\n",
       "      <th></th>\n",
       "      <th>Pred 1</th>\n",
       "      <th>Pred 0</th>\n",
       "    </tr>\n",
       "  </thead>\n",
       "  <tbody>\n",
       "    <tr>\n",
       "      <th>Act 1</th>\n",
       "      <td>216</td>\n",
       "      <td>125</td>\n",
       "    </tr>\n",
       "    <tr>\n",
       "      <th>Act 0</th>\n",
       "      <td>100</td>\n",
       "      <td>477</td>\n",
       "    </tr>\n",
       "  </tbody>\n",
       "</table>\n",
       "</div>"
      ],
      "text/plain": [
       "       Pred 1  Pred 0\n",
       "Act 1  216     125   \n",
       "Act 0  100     477   "
      ]
     },
     "execution_count": 255,
     "metadata": {},
     "output_type": "execute_result"
    }
   ],
   "source": [
    "cfkhGS = confusion_matrix(yf_test, yfkh_predGS, labels=[1, 0])\n",
    "cf_khGS = pd.DataFrame(cfkhGS,\n",
    "                 columns=['Pred 1', 'Pred 0'],\n",
    "                 index=['Act 1', 'Act 0'])\n",
    "cf_khGS"
   ]
  },
  {
   "cell_type": "code",
   "execution_count": 256,
   "metadata": {},
   "outputs": [],
   "source": [
    "roc_fkhRS = roc_auc_score(yf_test, yfkh_predRS)\n",
    "recall0_fkhRS = recall_score(yf_test, yfkh_predRS, pos_label=0)\n",
    "roc_fkhGS = roc_auc_score(yf_test, yfkh_predGS)\n",
    "recall0_fkhGS = recall_score(yf_test, yfkh_predGS, pos_label=0)\n",
    "FNfkh_RS = cf_khRS['Pred 0'].iloc[0]\n",
    "FPfkh_RS = cf_khRS['Pred 1'].iloc[1]\n",
    "FNfkh_GS = cf_khGS['Pred 0'].iloc[0]\n",
    "FPfkh_GS = cf_khGS['Pred 1'].iloc[1]"
   ]
  },
  {
   "cell_type": "markdown",
   "metadata": {},
   "source": [
    "# (16-17) Evaluation & Model Selection"
   ]
  },
  {
   "cell_type": "code",
   "execution_count": 257,
   "metadata": {},
   "outputs": [],
   "source": [
    "score = pd.DataFrame(\n",
    "    index=['roc_auc', 'recall_0', 'False Negatif','False Positif'], \n",
    "    columns=['b1','f1','b2','f2','b3','f3','bls','fls','blhRS','blhGS','flhRS','flhGS','bslhRS','bslhGS','fslhRS','fslhGS','bxhRS','bxhGS','fxhRS','fxhGS','bkhRS','bkhGS','fkhRS','fkhGS'],\n",
    "    data=[\n",
    "        [roc_b1,roc_f1,roc_b2,roc_f2,roc_b3,roc_f3,roc_bls,roc_fls,roc_blhRS,roc_blhGS,roc_flhRS,roc_flhGS,roc_bslhRS,roc_bslhGS,roc_fslhRS,roc_fslhGS,roc_bxhRS,roc_bxhGS,roc_fxhRS,roc_fxhGS,roc_bkhRS,roc_bkhGS,roc_fkhRS,roc_fkhGS],\n",
    "        [recall0_b1,recall0_f1,recall0_b2,recall0_f2,recall0_b3,recall0_f3,recall0_bls,recall0_fls,recall0_blhRS,recall0_blhGS,recall0_flhRS,recall0_flhGS,recall0_bslhRS,recall0_bslhGS,recall0_fslhRS,recall0_fslhGS,recall0_bxhRS,recall0_bxhGS,recall0_fxhRS,recall0_fxhGS,recall0_bkhRS,recall0_bkhGS,recall0_fkhRS,recall0_fkhGS],\n",
    "        [FNb1,FNf1,FNb2,FNf2,FNb3,FNf3,FNbls,FNfls,FNblh_RS,FNblh_GS,FNflh_RS,FNflh_GS,FNbslh_RS,FNbslh_GS,FNfslh_RS,FNfslh_GS,FNbxh_RS,FNbxh_GS,FNfxh_RS,FNfxh_GS,FNbkh_RS,FNbkh_GS,FNfkh_RS,FNfkh_GS],\n",
    "        [FPb1,FPf1,FPb2,FPf2,FPb3,FPf3,FPbls,FPfls,FPblh_RS,FPblh_GS,FPflh_RS,FPflh_GS,FPbslh_RS,FPbslh_GS,FPfslh_RS,FPfslh_GS,FPbxh_RS,FPbxh_GS,FPfxh_RS,FPfxh_GS,FPbkh_RS,FPbkh_GS,FPfkh_RS,FPfkh_GS]\n",
    "    ]).T"
   ]
  },
  {
   "cell_type": "code",
   "execution_count": 260,
   "metadata": {},
   "outputs": [
    {
     "data": {
      "text/html": [
       "<div>\n",
       "<style scoped>\n",
       "    .dataframe tbody tr th:only-of-type {\n",
       "        vertical-align: middle;\n",
       "    }\n",
       "\n",
       "    .dataframe tbody tr th {\n",
       "        vertical-align: top;\n",
       "    }\n",
       "\n",
       "    .dataframe thead th {\n",
       "        text-align: right;\n",
       "    }\n",
       "</style>\n",
       "<table border=\"1\" class=\"dataframe\">\n",
       "  <thead>\n",
       "    <tr style=\"text-align: right;\">\n",
       "      <th></th>\n",
       "      <th>roc_auc</th>\n",
       "      <th>recall_0</th>\n",
       "      <th>False Negatif</th>\n",
       "      <th>False Positif</th>\n",
       "    </tr>\n",
       "  </thead>\n",
       "  <tbody>\n",
       "    <tr>\n",
       "      <th>bkhRS</th>\n",
       "      <td>0.626</td>\n",
       "      <td>0.927</td>\n",
       "      <td>230.0</td>\n",
       "      <td>42.0</td>\n",
       "    </tr>\n",
       "    <tr>\n",
       "      <th>bkhGS</th>\n",
       "      <td>0.627</td>\n",
       "      <td>0.917</td>\n",
       "      <td>226.0</td>\n",
       "      <td>48.0</td>\n",
       "    </tr>\n",
       "    <tr>\n",
       "      <th>f2</th>\n",
       "      <td>0.747</td>\n",
       "      <td>0.842</td>\n",
       "      <td>119.0</td>\n",
       "      <td>91.0</td>\n",
       "    </tr>\n",
       "    <tr>\n",
       "      <th>b2</th>\n",
       "      <td>0.750</td>\n",
       "      <td>0.841</td>\n",
       "      <td>116.0</td>\n",
       "      <td>92.0</td>\n",
       "    </tr>\n",
       "    <tr>\n",
       "      <th>bxhGS</th>\n",
       "      <td>0.740</td>\n",
       "      <td>0.832</td>\n",
       "      <td>120.0</td>\n",
       "      <td>97.0</td>\n",
       "    </tr>\n",
       "    <tr>\n",
       "      <th>fkhRS</th>\n",
       "      <td>0.732</td>\n",
       "      <td>0.830</td>\n",
       "      <td>125.0</td>\n",
       "      <td>98.0</td>\n",
       "    </tr>\n",
       "    <tr>\n",
       "      <th>bslhRS</th>\n",
       "      <td>0.731</td>\n",
       "      <td>0.828</td>\n",
       "      <td>125.0</td>\n",
       "      <td>99.0</td>\n",
       "    </tr>\n",
       "    <tr>\n",
       "      <th>bslhGS</th>\n",
       "      <td>0.731</td>\n",
       "      <td>0.828</td>\n",
       "      <td>125.0</td>\n",
       "      <td>99.0</td>\n",
       "    </tr>\n",
       "    <tr>\n",
       "      <th>bls</th>\n",
       "      <td>0.731</td>\n",
       "      <td>0.828</td>\n",
       "      <td>125.0</td>\n",
       "      <td>99.0</td>\n",
       "    </tr>\n",
       "    <tr>\n",
       "      <th>fkhGS</th>\n",
       "      <td>0.730</td>\n",
       "      <td>0.827</td>\n",
       "      <td>125.0</td>\n",
       "      <td>100.0</td>\n",
       "    </tr>\n",
       "    <tr>\n",
       "      <th>fslhRS</th>\n",
       "      <td>0.742</td>\n",
       "      <td>0.818</td>\n",
       "      <td>114.0</td>\n",
       "      <td>105.0</td>\n",
       "    </tr>\n",
       "    <tr>\n",
       "      <th>fslhGS</th>\n",
       "      <td>0.742</td>\n",
       "      <td>0.818</td>\n",
       "      <td>114.0</td>\n",
       "      <td>105.0</td>\n",
       "    </tr>\n",
       "    <tr>\n",
       "      <th>fls</th>\n",
       "      <td>0.742</td>\n",
       "      <td>0.818</td>\n",
       "      <td>114.0</td>\n",
       "      <td>105.0</td>\n",
       "    </tr>\n",
       "    <tr>\n",
       "      <th>bxhRS</th>\n",
       "      <td>0.756</td>\n",
       "      <td>0.815</td>\n",
       "      <td>103.0</td>\n",
       "      <td>107.0</td>\n",
       "    </tr>\n",
       "    <tr>\n",
       "      <th>fxhRS</th>\n",
       "      <td>0.745</td>\n",
       "      <td>0.815</td>\n",
       "      <td>111.0</td>\n",
       "      <td>107.0</td>\n",
       "    </tr>\n",
       "    <tr>\n",
       "      <th>fxhGS</th>\n",
       "      <td>0.747</td>\n",
       "      <td>0.811</td>\n",
       "      <td>108.0</td>\n",
       "      <td>109.0</td>\n",
       "    </tr>\n",
       "    <tr>\n",
       "      <th>b1</th>\n",
       "      <td>0.710</td>\n",
       "      <td>0.804</td>\n",
       "      <td>131.0</td>\n",
       "      <td>113.0</td>\n",
       "    </tr>\n",
       "    <tr>\n",
       "      <th>blhGS</th>\n",
       "      <td>0.745</td>\n",
       "      <td>0.795</td>\n",
       "      <td>104.0</td>\n",
       "      <td>118.0</td>\n",
       "    </tr>\n",
       "    <tr>\n",
       "      <th>blhRS</th>\n",
       "      <td>0.745</td>\n",
       "      <td>0.795</td>\n",
       "      <td>104.0</td>\n",
       "      <td>118.0</td>\n",
       "    </tr>\n",
       "    <tr>\n",
       "      <th>f3</th>\n",
       "      <td>0.729</td>\n",
       "      <td>0.795</td>\n",
       "      <td>115.0</td>\n",
       "      <td>118.0</td>\n",
       "    </tr>\n",
       "    <tr>\n",
       "      <th>flhRS</th>\n",
       "      <td>0.745</td>\n",
       "      <td>0.789</td>\n",
       "      <td>102.0</td>\n",
       "      <td>122.0</td>\n",
       "    </tr>\n",
       "    <tr>\n",
       "      <th>flhGS</th>\n",
       "      <td>0.745</td>\n",
       "      <td>0.789</td>\n",
       "      <td>102.0</td>\n",
       "      <td>122.0</td>\n",
       "    </tr>\n",
       "    <tr>\n",
       "      <th>f1</th>\n",
       "      <td>0.745</td>\n",
       "      <td>0.789</td>\n",
       "      <td>102.0</td>\n",
       "      <td>122.0</td>\n",
       "    </tr>\n",
       "    <tr>\n",
       "      <th>b3</th>\n",
       "      <td>0.616</td>\n",
       "      <td>0.766</td>\n",
       "      <td>182.0</td>\n",
       "      <td>135.0</td>\n",
       "    </tr>\n",
       "  </tbody>\n",
       "</table>\n",
       "</div>"
      ],
      "text/plain": [
       "        roc_auc  recall_0  False Negatif  False Positif\n",
       "bkhRS   0.626    0.927     230.0          42.0         \n",
       "bkhGS   0.627    0.917     226.0          48.0         \n",
       "f2      0.747    0.842     119.0          91.0         \n",
       "b2      0.750    0.841     116.0          92.0         \n",
       "bxhGS   0.740    0.832     120.0          97.0         \n",
       "fkhRS   0.732    0.830     125.0          98.0         \n",
       "bslhRS  0.731    0.828     125.0          99.0         \n",
       "bslhGS  0.731    0.828     125.0          99.0         \n",
       "bls     0.731    0.828     125.0          99.0         \n",
       "fkhGS   0.730    0.827     125.0          100.0        \n",
       "fslhRS  0.742    0.818     114.0          105.0        \n",
       "fslhGS  0.742    0.818     114.0          105.0        \n",
       "fls     0.742    0.818     114.0          105.0        \n",
       "bxhRS   0.756    0.815     103.0          107.0        \n",
       "fxhRS   0.745    0.815     111.0          107.0        \n",
       "fxhGS   0.747    0.811     108.0          109.0        \n",
       "b1      0.710    0.804     131.0          113.0        \n",
       "blhGS   0.745    0.795     104.0          118.0        \n",
       "blhRS   0.745    0.795     104.0          118.0        \n",
       "f3      0.729    0.795     115.0          118.0        \n",
       "flhRS   0.745    0.789     102.0          122.0        \n",
       "flhGS   0.745    0.789     102.0          122.0        \n",
       "f1      0.745    0.789     102.0          122.0        \n",
       "b3      0.616    0.766     182.0          135.0        "
      ]
     },
     "execution_count": 260,
     "metadata": {},
     "output_type": "execute_result"
    }
   ],
   "source": [
    "round(score,3).sort_values(by='recall_0', ascending=False)"
   ]
  },
  {
   "cell_type": "markdown",
   "metadata": {},
   "source": [
    "- Berdasarkan tabel score di atas, 2 algoritma terbaik ialah KNN hyper (jika dilihat dari jumlah False Positif nya), dan XGBoost Classifier (jika dilihat roc_auc dan Jumlah Tebakan Salah nya). Memang berdasarkan False positif, model hyper knn dapat memperoleh false positif yang paling kecil, akan tetapi jumlah seluruh tebakan salah nya pun menjadi sangat besar (272 False), oleh karena itulah nilai roc_auc nya lebih kecil dibandingkan XGBoost. XGBoost memiliki nilai roc_auc yang bisa dibilang cukup lebih besar dibandingkan hyper knn, artinya model XGBoost sudah dapat memisahkan jawaban 0 dan 1 secara tepat sesuai aktualnya. Sehingga jumlah tebakan benar nya pun lebih besar."
   ]
  },
  {
   "cell_type": "markdown",
   "metadata": {},
   "source": [
    "#### Oleh karena itu, Model terpilih ialah XGBoost Base"
   ]
  },
  {
   "cell_type": "markdown",
   "metadata": {},
   "source": [
    "# (18-19) Export & Try Model"
   ]
  },
  {
   "cell_type": "code",
   "execution_count": 359,
   "metadata": {},
   "outputs": [],
   "source": [
    "modelbest = XGBClassifier()"
   ]
  },
  {
   "cell_type": "code",
   "execution_count": 360,
   "metadata": {},
   "outputs": [
    {
     "data": {
      "text/plain": [
       "XGBClassifier()"
      ]
     },
     "execution_count": 360,
     "metadata": {},
     "output_type": "execute_result"
    }
   ],
   "source": [
    "modelbest.fit(Xb_train, yb_train)"
   ]
  },
  {
   "cell_type": "code",
   "execution_count": 361,
   "metadata": {},
   "outputs": [
    {
     "name": "stdout",
     "output_type": "stream",
     "text": [
      "              precision    recall  f1-score   support\n",
      "\n",
      "           0       0.81      0.84      0.82       577\n",
      "           1       0.71      0.66      0.68       341\n",
      "\n",
      "    accuracy                           0.77       918\n",
      "   macro avg       0.76      0.75      0.75       918\n",
      "weighted avg       0.77      0.77      0.77       918\n",
      "\n"
     ]
    }
   ],
   "source": [
    "y_pred = modelbest.predict(Xb_test)\n",
    "print(classification_report(yb_test, y_pred))"
   ]
  },
  {
   "cell_type": "code",
   "execution_count": 362,
   "metadata": {},
   "outputs": [
    {
     "data": {
      "text/plain": [
       "['xgbase']"
      ]
     },
     "execution_count": 362,
     "metadata": {},
     "output_type": "execute_result"
    }
   ],
   "source": [
    "joblib.dump(model_b2,'xgbase')"
   ]
  },
  {
   "cell_type": "code",
   "execution_count": 363,
   "metadata": {},
   "outputs": [],
   "source": [
    "bestmodel = joblib.load('xgbase')"
   ]
  },
  {
   "cell_type": "code",
   "execution_count": 383,
   "metadata": {},
   "outputs": [
    {
     "data": {
      "text/html": [
       "<div>\n",
       "<style scoped>\n",
       "    .dataframe tbody tr th:only-of-type {\n",
       "        vertical-align: middle;\n",
       "    }\n",
       "\n",
       "    .dataframe tbody tr th {\n",
       "        vertical-align: top;\n",
       "    }\n",
       "\n",
       "    .dataframe thead th {\n",
       "        text-align: right;\n",
       "    }\n",
       "</style>\n",
       "<table border=\"1\" class=\"dataframe\">\n",
       "  <thead>\n",
       "    <tr style=\"text-align: right;\">\n",
       "      <th></th>\n",
       "      <th>price</th>\n",
       "      <th>num_lectures</th>\n",
       "      <th>content_duration</th>\n",
       "      <th>year_p</th>\n",
       "      <th>month_p</th>\n",
       "      <th>date_p</th>\n",
       "      <th>level_enc</th>\n",
       "      <th>is_paid_False</th>\n",
       "      <th>is_paid_True</th>\n",
       "      <th>business_subject</th>\n",
       "      <th>graphic_subject</th>\n",
       "      <th>music_subject</th>\n",
       "      <th>webdev_subject</th>\n",
       "    </tr>\n",
       "  </thead>\n",
       "  <tbody>\n",
       "    <tr>\n",
       "      <th>1114164</th>\n",
       "      <td>20.0</td>\n",
       "      <td>11.0</td>\n",
       "      <td>1.0</td>\n",
       "      <td>2017.0</td>\n",
       "      <td>2.0</td>\n",
       "      <td>20.0</td>\n",
       "      <td>0.0</td>\n",
       "      <td>0.0</td>\n",
       "      <td>1.0</td>\n",
       "      <td>0.0</td>\n",
       "      <td>1.0</td>\n",
       "      <td>0.0</td>\n",
       "      <td>0.0</td>\n",
       "    </tr>\n",
       "  </tbody>\n",
       "</table>\n",
       "</div>"
      ],
      "text/plain": [
       "         price  num_lectures  content_duration  year_p  month_p  date_p  \\\n",
       "1114164  20.0   11.0          1.0               2017.0  2.0      20.0     \n",
       "\n",
       "         level_enc  is_paid_False  is_paid_True  business_subject  \\\n",
       "1114164  0.0        0.0            1.0           0.0                \n",
       "\n",
       "         graphic_subject  music_subject  webdev_subject  \n",
       "1114164  1.0              0.0            0.0             "
      ]
     },
     "execution_count": 383,
     "metadata": {},
     "output_type": "execute_result"
    }
   ],
   "source": [
    "sample = pd.DataFrame([Xb_test.iloc[1]])\n",
    "sample"
   ]
  },
  {
   "cell_type": "code",
   "execution_count": 389,
   "metadata": {},
   "outputs": [
    {
     "data": {
      "text/html": [
       "<div>\n",
       "<style scoped>\n",
       "    .dataframe tbody tr th:only-of-type {\n",
       "        vertical-align: middle;\n",
       "    }\n",
       "\n",
       "    .dataframe tbody tr th {\n",
       "        vertical-align: top;\n",
       "    }\n",
       "\n",
       "    .dataframe thead th {\n",
       "        text-align: right;\n",
       "    }\n",
       "</style>\n",
       "<table border=\"1\" class=\"dataframe\">\n",
       "  <thead>\n",
       "    <tr style=\"text-align: right;\">\n",
       "      <th></th>\n",
       "      <th>price</th>\n",
       "      <th>num_lectures</th>\n",
       "      <th>content_duration</th>\n",
       "      <th>year_p</th>\n",
       "      <th>month_p</th>\n",
       "      <th>date_p</th>\n",
       "      <th>level_enc</th>\n",
       "      <th>is_paid_False</th>\n",
       "      <th>is_paid_True</th>\n",
       "      <th>business_subject</th>\n",
       "      <th>graphic_subject</th>\n",
       "      <th>music_subject</th>\n",
       "      <th>webdev_subject</th>\n",
       "    </tr>\n",
       "    <tr>\n",
       "      <th>course_id</th>\n",
       "      <th></th>\n",
       "      <th></th>\n",
       "      <th></th>\n",
       "      <th></th>\n",
       "      <th></th>\n",
       "      <th></th>\n",
       "      <th></th>\n",
       "      <th></th>\n",
       "      <th></th>\n",
       "      <th></th>\n",
       "      <th></th>\n",
       "      <th></th>\n",
       "      <th></th>\n",
       "    </tr>\n",
       "  </thead>\n",
       "  <tbody>\n",
       "    <tr>\n",
       "      <th>683394</th>\n",
       "      <td>20</td>\n",
       "      <td>23</td>\n",
       "      <td>1.5</td>\n",
       "      <td>2015</td>\n",
       "      <td>12</td>\n",
       "      <td>2</td>\n",
       "      <td>1</td>\n",
       "      <td>0</td>\n",
       "      <td>1</td>\n",
       "      <td>0</td>\n",
       "      <td>0</td>\n",
       "      <td>0</td>\n",
       "      <td>1</td>\n",
       "    </tr>\n",
       "    <tr>\n",
       "      <th>1114164</th>\n",
       "      <td>20</td>\n",
       "      <td>11</td>\n",
       "      <td>1.0</td>\n",
       "      <td>2017</td>\n",
       "      <td>2</td>\n",
       "      <td>20</td>\n",
       "      <td>0</td>\n",
       "      <td>0</td>\n",
       "      <td>1</td>\n",
       "      <td>0</td>\n",
       "      <td>1</td>\n",
       "      <td>0</td>\n",
       "      <td>0</td>\n",
       "    </tr>\n",
       "    <tr>\n",
       "      <th>897314</th>\n",
       "      <td>65</td>\n",
       "      <td>52</td>\n",
       "      <td>3.5</td>\n",
       "      <td>2016</td>\n",
       "      <td>7</td>\n",
       "      <td>18</td>\n",
       "      <td>2</td>\n",
       "      <td>0</td>\n",
       "      <td>1</td>\n",
       "      <td>0</td>\n",
       "      <td>0</td>\n",
       "      <td>0</td>\n",
       "      <td>1</td>\n",
       "    </tr>\n",
       "    <tr>\n",
       "      <th>944906</th>\n",
       "      <td>40</td>\n",
       "      <td>12</td>\n",
       "      <td>1.0</td>\n",
       "      <td>2016</td>\n",
       "      <td>9</td>\n",
       "      <td>9</td>\n",
       "      <td>1</td>\n",
       "      <td>0</td>\n",
       "      <td>1</td>\n",
       "      <td>0</td>\n",
       "      <td>0</td>\n",
       "      <td>0</td>\n",
       "      <td>1</td>\n",
       "    </tr>\n",
       "    <tr>\n",
       "      <th>951608</th>\n",
       "      <td>80</td>\n",
       "      <td>38</td>\n",
       "      <td>2.5</td>\n",
       "      <td>2016</td>\n",
       "      <td>11</td>\n",
       "      <td>16</td>\n",
       "      <td>1</td>\n",
       "      <td>0</td>\n",
       "      <td>1</td>\n",
       "      <td>0</td>\n",
       "      <td>0</td>\n",
       "      <td>1</td>\n",
       "      <td>0</td>\n",
       "    </tr>\n",
       "  </tbody>\n",
       "</table>\n",
       "</div>"
      ],
      "text/plain": [
       "           price  num_lectures  content_duration  year_p  month_p  date_p  \\\n",
       "course_id                                                                   \n",
       "683394     20     23            1.5               2015    12       2        \n",
       "1114164    20     11            1.0               2017    2        20       \n",
       "897314     65     52            3.5               2016    7        18       \n",
       "944906     40     12            1.0               2016    9        9        \n",
       "951608     80     38            2.5               2016    11       16       \n",
       "\n",
       "           level_enc  is_paid_False  is_paid_True  business_subject  \\\n",
       "course_id                                                             \n",
       "683394     1          0              1             0                  \n",
       "1114164    0          0              1             0                  \n",
       "897314     2          0              1             0                  \n",
       "944906     1          0              1             0                  \n",
       "951608     1          0              1             0                  \n",
       "\n",
       "           graphic_subject  music_subject  webdev_subject  \n",
       "course_id                                                  \n",
       "683394     0                0              1               \n",
       "1114164    1                0              0               \n",
       "897314     0                0              1               \n",
       "944906     0                0              1               \n",
       "951608     0                1              0               "
      ]
     },
     "execution_count": 389,
     "metadata": {},
     "output_type": "execute_result"
    }
   ],
   "source": [
    "Xb_test.head()"
   ]
  },
  {
   "cell_type": "code",
   "execution_count": null,
   "metadata": {},
   "outputs": [],
   "source": [
    "predict_ = bestmodel.predict_proba(sample)"
   ]
  },
  {
   "cell_type": "code",
   "execution_count": 407,
   "metadata": {},
   "outputs": [
    {
     "data": {
      "text/plain": [
       "0.2372956"
      ]
     },
     "execution_count": 407,
     "metadata": {},
     "output_type": "execute_result"
    }
   ],
   "source": [
    "hasil_predict = predict_[0][1]\n",
    "hasil_predict"
   ]
  },
  {
   "cell_type": "code",
   "execution_count": 381,
   "metadata": {},
   "outputs": [
    {
     "data": {
      "text/plain": [
       "0"
      ]
     },
     "execution_count": 381,
     "metadata": {},
     "output_type": "execute_result"
    }
   ],
   "source": [
    "yb_test.iloc[1]"
   ]
  },
  {
   "cell_type": "code",
   "execution_count": 384,
   "metadata": {},
   "outputs": [
    {
     "data": {
      "text/plain": [
       "Index(['price', 'num_lectures', 'content_duration', 'year_p', 'month_p',\n",
       "       'date_p', 'level_enc', 'is_paid_False', 'is_paid_True',\n",
       "       'business_subject', 'graphic_subject', 'music_subject',\n",
       "       'webdev_subject'],\n",
       "      dtype='object')"
      ]
     },
     "execution_count": 384,
     "metadata": {},
     "output_type": "execute_result"
    }
   ],
   "source": [
    "Xb_test.columns"
   ]
  },
  {
   "cell_type": "code",
   "execution_count": 392,
   "metadata": {},
   "outputs": [],
   "source": [
    "course_id=1123423\n",
    "price = 5\n",
    "num_lectures=2\n",
    "content_duration=3.5\n",
    "year_p = 2020\n",
    "month_p=8\n",
    "date_p=31\n",
    "level_enc=1\n",
    "is_paid_False=0\n",
    "is_paid_True=1\n",
    "business_subject=0\n",
    "graphic_subject=0\n",
    "music_subject=1\n",
    "webdev_subject=0"
   ]
  },
  {
   "cell_type": "code",
   "execution_count": 405,
   "metadata": {},
   "outputs": [
    {
     "data": {
      "text/html": [
       "<div>\n",
       "<style scoped>\n",
       "    .dataframe tbody tr th:only-of-type {\n",
       "        vertical-align: middle;\n",
       "    }\n",
       "\n",
       "    .dataframe tbody tr th {\n",
       "        vertical-align: top;\n",
       "    }\n",
       "\n",
       "    .dataframe thead th {\n",
       "        text-align: right;\n",
       "    }\n",
       "</style>\n",
       "<table border=\"1\" class=\"dataframe\">\n",
       "  <thead>\n",
       "    <tr style=\"text-align: right;\">\n",
       "      <th></th>\n",
       "      <th>price</th>\n",
       "      <th>num_lectures</th>\n",
       "      <th>content_duration</th>\n",
       "      <th>year_p</th>\n",
       "      <th>month_p</th>\n",
       "      <th>date_p</th>\n",
       "      <th>level_enc</th>\n",
       "      <th>is_paid_False</th>\n",
       "      <th>is_paid_True</th>\n",
       "      <th>business_subject</th>\n",
       "      <th>graphic_subject</th>\n",
       "      <th>music_subject</th>\n",
       "      <th>webdev_subject</th>\n",
       "    </tr>\n",
       "  </thead>\n",
       "  <tbody>\n",
       "    <tr>\n",
       "      <th>1123423</th>\n",
       "      <td>5.0</td>\n",
       "      <td>2.0</td>\n",
       "      <td>3.5</td>\n",
       "      <td>2020.0</td>\n",
       "      <td>8.0</td>\n",
       "      <td>31.0</td>\n",
       "      <td>1.0</td>\n",
       "      <td>0.0</td>\n",
       "      <td>1.0</td>\n",
       "      <td>0.0</td>\n",
       "      <td>0.0</td>\n",
       "      <td>1.0</td>\n",
       "      <td>0.0</td>\n",
       "    </tr>\n",
       "  </tbody>\n",
       "</table>\n",
       "</div>"
      ],
      "text/plain": [
       "         price  num_lectures  content_duration  year_p  month_p  date_p  \\\n",
       "1123423  5.0    2.0           3.5               2020.0  8.0      31.0     \n",
       "\n",
       "         level_enc  is_paid_False  is_paid_True  business_subject  \\\n",
       "1123423  1.0        0.0            1.0           0.0                \n",
       "\n",
       "         graphic_subject  music_subject  webdev_subject  \n",
       "1123423  0.0              1.0            0.0             "
      ]
     },
     "execution_count": 405,
     "metadata": {},
     "output_type": "execute_result"
    }
   ],
   "source": [
    "sample1 = pd.DataFrame(\n",
    "            columns=[course_id],\n",
    "            index=[\n",
    "                'price', 'num_lectures', 'content_duration', 'year_p', 'month_p',\n",
    "                'date_p', 'level_enc', 'is_paid_False', 'is_paid_True',\n",
    "                'business_subject', 'graphic_subject', 'music_subject',\n",
    "                'webdev_subject'\n",
    "            ],\n",
    "            data = [price,num_lectures,content_duration,year_p,month_p,date_p,level_enc,is_paid_False,is_paid_True,business_subject,graphic_subject,music_subject,webdev_subject]\n",
    "        ).T\n",
    "sample1"
   ]
  },
  {
   "cell_type": "markdown",
   "metadata": {},
   "source": [
    "# Kesimpulan\n",
    "- Model ini dapat digunakan untuk memprediksi/mendeteksi sukses tidaknya suatu course yang akan dibuka oleh suatu MOOC dalam mendapatkan subscribers atau partisipan menggunakan algoritma XGBClassifier Base dengan **roc_auc 0.750**, **accuracy 77%**, dan **recall_0** serta **recall_1** berturut-turut yaitu **0.84** dan **0.66** \n",
    "- Variabel kuat yang menentukan dalam penentuan sukses tidaknya suatu course ialah, **Jumlah Review, Subject Course, Tipe Lisensi (Gratis/Berbayar), dan Level course**"
   ]
  },
  {
   "cell_type": "markdown",
   "metadata": {},
   "source": [
    "# Saran\n",
    "- Diperlukan penelitian lebih lanjut terkait batasan penentuan label sukses dan tidak sukses atas jumlah subscriber dalam pembuatan model.\n",
    "- Diperlukan pengembangan lebih lanjut terkait prediksi jumlah subscriber yang diperoleh agar dapat dilakukan perhitungan loss & profit untuk perusahaan"
   ]
  },
  {
   "cell_type": "markdown",
   "metadata": {},
   "source": [
    "# Referensi\n",
    "\n",
    "1. https://mediaindonesia.com/read/detail/321039-dampak-pandemi-kualitas-pendidikan-alami-penurunan\n",
    "2. https://suteki.co.id/7-dampak-positif-pandemi-covid-19-bagi-dunia-pendidikan/\n",
    "3. https://www.sonora.id/read/422146758/dampak-pandemi-covid-19-jumlah-siswa-bimbel-turun-signifikan?page=all\n",
    "4. Zuriati, Suci & Briando, Bobby. (2020). Persepsi Siswa Terhadap Pembelajaran Online Di Masa Pandemi Pada Sekolah Menengah Atas Negeri Empat Tanjungpinang.\n",
    "5. https://www.kompas.com/tren/read/2020/08/11/102500165/pandemi-covid-19-apa-saja-dampak-pada-sektor-ketenagakerjaan-indonesia-?page=all\n",
    "6. https://www.merdeka.com/teknologi/bersiaplah-7-tren-teknologi-tahun-2015-ini-akan-mengubah-dunia.html"
   ]
  },
  {
   "cell_type": "markdown",
   "metadata": {},
   "source": [
    "------------------------------------------------------------------------------------------------------------------------------------------------------"
   ]
  },
  {
   "cell_type": "code",
   "execution_count": null,
   "metadata": {},
   "outputs": [],
   "source": []
  }
 ],
 "metadata": {
  "kernelspec": {
   "display_name": "Python 3",
   "language": "python",
   "name": "python3"
  },
  "language_info": {
   "codemirror_mode": {
    "name": "ipython",
    "version": 3
   },
   "file_extension": ".py",
   "mimetype": "text/x-python",
   "name": "python",
   "nbconvert_exporter": "python",
   "pygments_lexer": "ipython3",
   "version": "3.7.7"
  }
 },
 "nbformat": 4,
 "nbformat_minor": 4
}
