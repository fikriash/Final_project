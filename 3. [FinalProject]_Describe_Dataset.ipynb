{
 "cells": [
  {
   "cell_type": "markdown",
   "metadata": {},
   "source": [
    "## -------------------------------- *Udemy_Course (Online Course Business)* --------------------------------"
   ]
  },
  {
   "cell_type": "markdown",
   "metadata": {},
   "source": [
    "------------------------------------------------------------------------------------------------------------------------------------------------------"
   ]
  },
  {
   "cell_type": "markdown",
   "metadata": {},
   "source": [
    "# (1-2) Definition, Problems, and Goals"
   ]
  },
  {
   "cell_type": "markdown",
   "metadata": {},
   "source": [
    "------------------------------------------------------------------------------------------------------------------------------------------------------"
   ]
  },
  {
   "cell_type": "markdown",
   "metadata": {},
   "source": [
    "### Definition"
   ]
  },
  {
   "cell_type": "markdown",
   "metadata": {},
   "source": [
    "Machine Learning ini merupakan salah satu model untuk menentukan sukses tidak nya suatu course yang akan dibuka oleh suatu Lembaga Pendidikan atau dalam problem ini ialah MOOC, yang dapat digunakan oleh perusahaan atau lembaga tersebut sebagai bahan pertimbangan dalam me-*release* course baru."
   ]
  },
  {
   "cell_type": "markdown",
   "metadata": {},
   "source": [
    "### Problems & Goals"
   ]
  },
  {
   "cell_type": "markdown",
   "metadata": {},
   "source": [
    "2.1 Problems\n",
    "- Kualitas Pendidikan Menurun saat diterapkannya Sistem Pendidikan Jarak Jauh berbasis Teknologi (mediaindonesia.com)\n",
    "- Penurunan partisipan pada Lembaga-lembaga Bimbingan Belajar akibat Covid-19 (sonora.id)\n",
    "- Kesulitan dalam mencari pekerjaan akibat pandemi covid (kompasiana.com)\n",
    "- Kesulitan untuk mengetahui course apa yang paling dibutuhkan mereka-mereka yang sedang ingin improving skill (Briyando, Boby.2020)\n",
    "\n",
    "2.2 Goals\n",
    "- Membuat model yang dapat memprediksi/mendeteksi sukses tidaknya suatu course yang akan dibuka oleh suatu MOOC dalam mendapatkan subscribers atau partisipan\n",
    "- Mengetahui variabel apa saja yang dapat mempengaruhi sukses/tidaknya suatu course dalam mendapatkan subscribers atau partisipan\n",
    "\n",
    "2.3 Limitasi\n",
    "- Model dapat digunakan oleh seluruh perusahaan berbasis Platform Media Pembelajaran Online / MOOC / Bimbel dan perusahaan sejenis lainnya.\n",
    "- Model hanya dapat memprediksi persentase sukses atau tidaknya course yang akan dibuka.\n"
   ]
  },
  {
   "cell_type": "markdown",
   "metadata": {},
   "source": [
    "# Import Package"
   ]
  },
  {
   "cell_type": "code",
   "execution_count": 1,
   "metadata": {},
   "outputs": [],
   "source": [
    "import pandas as pd\n",
    "import numpy as np\n",
    "import matplotlib.pyplot as plt\n",
    "import seaborn as sns\n",
    "import warnings\n",
    "warnings.filterwarnings('ignore')\n",
    "pd.options.display.max_columns=999\n",
    "pd.set_option('display.max_colwidth', -1)\n",
    "\n",
    "%matplotlib inline"
   ]
  },
  {
   "cell_type": "markdown",
   "metadata": {},
   "source": [
    "------------------------------------------------------------------------------------------------------------------------------------------------------"
   ]
  },
  {
   "cell_type": "markdown",
   "metadata": {},
   "source": [
    "# (3) Import Data"
   ]
  },
  {
   "cell_type": "markdown",
   "metadata": {},
   "source": [
    "------------------------------------------------------------------------------------------------------------------------------------------------------"
   ]
  },
  {
   "cell_type": "code",
   "execution_count": 2,
   "metadata": {},
   "outputs": [],
   "source": [
    "df = pd.read_csv('udemy.csv', parse_dates=['published_timestamp'])\n",
    "df1 = df.copy()\n",
    "df1['content_duration'] = round(df1['content_duration'],2)"
   ]
  },
  {
   "cell_type": "code",
   "execution_count": 3,
   "metadata": {},
   "outputs": [
    {
     "data": {
      "text/html": [
       "<div>\n",
       "<style scoped>\n",
       "    .dataframe tbody tr th:only-of-type {\n",
       "        vertical-align: middle;\n",
       "    }\n",
       "\n",
       "    .dataframe tbody tr th {\n",
       "        vertical-align: top;\n",
       "    }\n",
       "\n",
       "    .dataframe thead th {\n",
       "        text-align: right;\n",
       "    }\n",
       "</style>\n",
       "<table border=\"1\" class=\"dataframe\">\n",
       "  <thead>\n",
       "    <tr style=\"text-align: right;\">\n",
       "      <th></th>\n",
       "      <th>course_id</th>\n",
       "      <th>course_title</th>\n",
       "      <th>url</th>\n",
       "      <th>is_paid</th>\n",
       "      <th>price</th>\n",
       "      <th>num_subscribers</th>\n",
       "      <th>num_reviews</th>\n",
       "      <th>num_lectures</th>\n",
       "      <th>level</th>\n",
       "      <th>content_duration</th>\n",
       "      <th>published_timestamp</th>\n",
       "      <th>subject</th>\n",
       "    </tr>\n",
       "  </thead>\n",
       "  <tbody>\n",
       "    <tr>\n",
       "      <th>0</th>\n",
       "      <td>1070968</td>\n",
       "      <td>Ultimate Investment Banking Course</td>\n",
       "      <td>https://www.udemy.com/ultimate-investment-banking-course/</td>\n",
       "      <td>True</td>\n",
       "      <td>200</td>\n",
       "      <td>2147</td>\n",
       "      <td>23</td>\n",
       "      <td>51</td>\n",
       "      <td>All Levels</td>\n",
       "      <td>1.5</td>\n",
       "      <td>2017-01-18 20:58:58+00:00</td>\n",
       "      <td>Business Finance</td>\n",
       "    </tr>\n",
       "    <tr>\n",
       "      <th>1</th>\n",
       "      <td>1113822</td>\n",
       "      <td>Complete GST Course &amp; Certification - Grow Your CA Practice</td>\n",
       "      <td>https://www.udemy.com/goods-and-services-tax/</td>\n",
       "      <td>True</td>\n",
       "      <td>75</td>\n",
       "      <td>2792</td>\n",
       "      <td>923</td>\n",
       "      <td>274</td>\n",
       "      <td>All Levels</td>\n",
       "      <td>39.0</td>\n",
       "      <td>2017-03-09 16:34:20+00:00</td>\n",
       "      <td>Business Finance</td>\n",
       "    </tr>\n",
       "    <tr>\n",
       "      <th>2</th>\n",
       "      <td>1006314</td>\n",
       "      <td>Financial Modeling for Business Analysts and Consultants</td>\n",
       "      <td>https://www.udemy.com/financial-modeling-for-business-analysts-and-consultants/</td>\n",
       "      <td>True</td>\n",
       "      <td>45</td>\n",
       "      <td>2174</td>\n",
       "      <td>74</td>\n",
       "      <td>51</td>\n",
       "      <td>Intermediate Level</td>\n",
       "      <td>2.5</td>\n",
       "      <td>2016-12-19 19:26:30+00:00</td>\n",
       "      <td>Business Finance</td>\n",
       "    </tr>\n",
       "    <tr>\n",
       "      <th>3</th>\n",
       "      <td>1210588</td>\n",
       "      <td>Beginner to Pro - Financial Analysis in Excel 2017</td>\n",
       "      <td>https://www.udemy.com/complete-excel-finance-course-from-beginner-to-pro/</td>\n",
       "      <td>True</td>\n",
       "      <td>95</td>\n",
       "      <td>2451</td>\n",
       "      <td>11</td>\n",
       "      <td>36</td>\n",
       "      <td>All Levels</td>\n",
       "      <td>3.0</td>\n",
       "      <td>2017-05-30 20:07:24+00:00</td>\n",
       "      <td>Business Finance</td>\n",
       "    </tr>\n",
       "    <tr>\n",
       "      <th>4</th>\n",
       "      <td>1011058</td>\n",
       "      <td>How To Maximize Your Profits Trading Options</td>\n",
       "      <td>https://www.udemy.com/how-to-maximize-your-profits-trading-options/</td>\n",
       "      <td>True</td>\n",
       "      <td>200</td>\n",
       "      <td>1276</td>\n",
       "      <td>45</td>\n",
       "      <td>26</td>\n",
       "      <td>Intermediate Level</td>\n",
       "      <td>2.0</td>\n",
       "      <td>2016-12-13 14:57:18+00:00</td>\n",
       "      <td>Business Finance</td>\n",
       "    </tr>\n",
       "  </tbody>\n",
       "</table>\n",
       "</div>"
      ],
      "text/plain": [
       "   course_id                                                 course_title  \\\n",
       "0  1070968    Ultimate Investment Banking Course                            \n",
       "1  1113822    Complete GST Course & Certification - Grow Your CA Practice   \n",
       "2  1006314    Financial Modeling for Business Analysts and Consultants      \n",
       "3  1210588    Beginner to Pro - Financial Analysis in Excel 2017            \n",
       "4  1011058    How To Maximize Your Profits Trading Options                  \n",
       "\n",
       "                                                                               url  \\\n",
       "0  https://www.udemy.com/ultimate-investment-banking-course/                         \n",
       "1  https://www.udemy.com/goods-and-services-tax/                                     \n",
       "2  https://www.udemy.com/financial-modeling-for-business-analysts-and-consultants/   \n",
       "3  https://www.udemy.com/complete-excel-finance-course-from-beginner-to-pro/         \n",
       "4  https://www.udemy.com/how-to-maximize-your-profits-trading-options/               \n",
       "\n",
       "   is_paid  price  num_subscribers  num_reviews  num_lectures  \\\n",
       "0  True     200    2147             23           51             \n",
       "1  True     75     2792             923          274            \n",
       "2  True     45     2174             74           51             \n",
       "3  True     95     2451             11           36             \n",
       "4  True     200    1276             45           26             \n",
       "\n",
       "                level  content_duration       published_timestamp  \\\n",
       "0  All Levels          1.5              2017-01-18 20:58:58+00:00   \n",
       "1  All Levels          39.0             2017-03-09 16:34:20+00:00   \n",
       "2  Intermediate Level  2.5              2016-12-19 19:26:30+00:00   \n",
       "3  All Levels          3.0              2017-05-30 20:07:24+00:00   \n",
       "4  Intermediate Level  2.0              2016-12-13 14:57:18+00:00   \n",
       "\n",
       "            subject  \n",
       "0  Business Finance  \n",
       "1  Business Finance  \n",
       "2  Business Finance  \n",
       "3  Business Finance  \n",
       "4  Business Finance  "
      ]
     },
     "execution_count": 3,
     "metadata": {},
     "output_type": "execute_result"
    }
   ],
   "source": [
    "df1.head()"
   ]
  },
  {
   "cell_type": "markdown",
   "metadata": {},
   "source": [
    "------------------------------------------------------------------------------------------------------------------------------------------------------"
   ]
  },
  {
   "cell_type": "markdown",
   "metadata": {},
   "source": [
    "# (4) Cek Missing Value"
   ]
  },
  {
   "cell_type": "markdown",
   "metadata": {},
   "source": [
    "------------------------------------------------------------------------------------------------------------------------------------------------------"
   ]
  },
  {
   "cell_type": "code",
   "execution_count": 4,
   "metadata": {},
   "outputs": [
    {
     "data": {
      "text/plain": [
       "course_id              0\n",
       "course_title           0\n",
       "url                    0\n",
       "is_paid                0\n",
       "price                  0\n",
       "num_subscribers        0\n",
       "num_reviews            0\n",
       "num_lectures           0\n",
       "level                  0\n",
       "content_duration       0\n",
       "published_timestamp    0\n",
       "subject                0\n",
       "dtype: int64"
      ]
     },
     "execution_count": 4,
     "metadata": {},
     "output_type": "execute_result"
    }
   ],
   "source": [
    "df1.isna().sum()"
   ]
  },
  {
   "cell_type": "code",
   "execution_count": 5,
   "metadata": {},
   "outputs": [
    {
     "data": {
      "image/png": "[encoded data removed]",
      "text/plain": [
       "<Figure size 576x432 with 1 Axes>"
      ]
     },
     "metadata": {
      "needs_background": "light"
     },
     "output_type": "display_data"
    }
   ],
   "source": [
    "plt.figure(figsize=(8,6))\n",
    "sns.heatmap(df1.isna(), cmap='viridis', yticklabels=False, cbar=False)\n",
    "plt.show()"
   ]
  },
  {
   "cell_type": "markdown",
   "metadata": {},
   "source": [
    "- **Tidak terdapat null, sehingga Handling Missing Value tidak perlu dilakukan**"
   ]
  },
  {
   "cell_type": "markdown",
   "metadata": {},
   "source": [
    "------------------------------------------------------------------------------------------------------------------------------------------------------"
   ]
  },
  {
   "cell_type": "markdown",
   "metadata": {},
   "source": [
    "# (5) Describe Data"
   ]
  },
  {
   "cell_type": "markdown",
   "metadata": {},
   "source": [
    "------------------------------------------------------------------------------------------------------------------------------------------------------"
   ]
  },
  {
   "cell_type": "code",
   "execution_count": 6,
   "metadata": {},
   "outputs": [
    {
     "name": "stdout",
     "output_type": "stream",
     "text": [
      "<class 'pandas.core.frame.DataFrame'>\n",
      "RangeIndex: 3678 entries, 0 to 3677\n",
      "Data columns (total 12 columns):\n",
      " #   Column               Non-Null Count  Dtype              \n",
      "---  ------               --------------  -----              \n",
      " 0   course_id            3678 non-null   int64              \n",
      " 1   course_title         3678 non-null   object             \n",
      " 2   url                  3678 non-null   object             \n",
      " 3   is_paid              3678 non-null   bool               \n",
      " 4   price                3678 non-null   int64              \n",
      " 5   num_subscribers      3678 non-null   int64              \n",
      " 6   num_reviews          3678 non-null   int64              \n",
      " 7   num_lectures         3678 non-null   int64              \n",
      " 8   level                3678 non-null   object             \n",
      " 9   content_duration     3678 non-null   float64            \n",
      " 10  published_timestamp  3678 non-null   datetime64[ns, UTC]\n",
      " 11  subject              3678 non-null   object             \n",
      "dtypes: bool(1), datetime64[ns, UTC](1), float64(1), int64(5), object(4)\n",
      "memory usage: 319.8+ KB\n"
     ]
    }
   ],
   "source": [
    "df1.info()"
   ]
  },
  {
   "cell_type": "code",
   "execution_count": 7,
   "metadata": {},
   "outputs": [
    {
     "data": {
      "text/plain": [
       "Index(['course_id', 'course_title', 'url', 'is_paid', 'price',\n",
       "       'num_subscribers', 'num_reviews', 'num_lectures', 'level',\n",
       "       'content_duration', 'published_timestamp', 'subject'],\n",
       "      dtype='object')"
      ]
     },
     "execution_count": 7,
     "metadata": {},
     "output_type": "execute_result"
    }
   ],
   "source": [
    "df1.columns"
   ]
  },
  {
   "cell_type": "markdown",
   "metadata": {},
   "source": [
    "### Variabel\n",
    "\n",
    "- course_id: ID setiap jenis course\n",
    "- course_title: Nama Course\n",
    "- url: url dari course_title\n",
    "- is paid: Tipe Course (Gratis / Berbayar)\n",
    "- price: Harga course (dalam satuan USD)\n",
    "- num_subscriber: Jumlah subscriber atau student\n",
    "- num_reviews: Jumlah subscriber atau partisipan yang memberikan review\n",
    "- num_lectures: Jumlah instruktur\n",
    "- level: Level course \n",
    "- content_duration: Durasi konten dari satu course nya (dalam satuan hours)\n",
    "- published_timestamp: Keterangan waktu perilisan course\n",
    "- subject: Kategori course"
   ]
  },
  {
   "cell_type": "markdown",
   "metadata": {},
   "source": [
    "Berdasarkan kolom-kolom di atas, belum terdapatnya kolom target (sukses/tidak). Oleh karena itu, kolom target Sukses/Tidak Sukses akan di buat di tahap Feature Engineering berdasarkan Jumlah Subscriber. "
   ]
  },
  {
   "cell_type": "code",
   "execution_count": 8,
   "metadata": {},
   "outputs": [
    {
     "data": {
      "text/plain": [
       "array(['Business Finance', 'Graphic Design', 'Musical Instruments',\n",
       "       'Web Development'], dtype=object)"
      ]
     },
     "execution_count": 8,
     "metadata": {},
     "output_type": "execute_result"
    }
   ],
   "source": [
    "df1.subject.unique()"
   ]
  },
  {
   "cell_type": "code",
   "execution_count": 9,
   "metadata": {},
   "outputs": [
    {
     "data": {
      "text/plain": [
       "array(['All Levels', 'Intermediate Level', 'Beginner Level',\n",
       "       'Expert Level'], dtype=object)"
      ]
     },
     "execution_count": 9,
     "metadata": {},
     "output_type": "execute_result"
    }
   ],
   "source": [
    "df1.level.unique()"
   ]
  },
  {
   "cell_type": "code",
   "execution_count": 10,
   "metadata": {},
   "outputs": [
    {
     "data": {
      "text/html": [
       "<div>\n",
       "<style scoped>\n",
       "    .dataframe tbody tr th:only-of-type {\n",
       "        vertical-align: middle;\n",
       "    }\n",
       "\n",
       "    .dataframe tbody tr th {\n",
       "        vertical-align: top;\n",
       "    }\n",
       "\n",
       "    .dataframe thead th {\n",
       "        text-align: right;\n",
       "    }\n",
       "</style>\n",
       "<table border=\"1\" class=\"dataframe\">\n",
       "  <thead>\n",
       "    <tr style=\"text-align: right;\">\n",
       "      <th></th>\n",
       "      <th>count</th>\n",
       "      <th>mean</th>\n",
       "      <th>std</th>\n",
       "      <th>min</th>\n",
       "      <th>25%</th>\n",
       "      <th>50%</th>\n",
       "      <th>75%</th>\n",
       "      <th>max</th>\n",
       "    </tr>\n",
       "  </thead>\n",
       "  <tbody>\n",
       "    <tr>\n",
       "      <th>course_id</th>\n",
       "      <td>3678.0</td>\n",
       "      <td>675971.963295</td>\n",
       "      <td>343273.156040</td>\n",
       "      <td>8324.0</td>\n",
       "      <td>407692.5</td>\n",
       "      <td>687917.0</td>\n",
       "      <td>961355.50</td>\n",
       "      <td>1282064.0</td>\n",
       "    </tr>\n",
       "    <tr>\n",
       "      <th>price</th>\n",
       "      <td>3678.0</td>\n",
       "      <td>66.049483</td>\n",
       "      <td>61.005755</td>\n",
       "      <td>0.0</td>\n",
       "      <td>20.0</td>\n",
       "      <td>45.0</td>\n",
       "      <td>95.00</td>\n",
       "      <td>200.0</td>\n",
       "    </tr>\n",
       "    <tr>\n",
       "      <th>num_subscribers</th>\n",
       "      <td>3678.0</td>\n",
       "      <td>3197.150625</td>\n",
       "      <td>9504.117010</td>\n",
       "      <td>0.0</td>\n",
       "      <td>111.0</td>\n",
       "      <td>911.5</td>\n",
       "      <td>2546.00</td>\n",
       "      <td>268923.0</td>\n",
       "    </tr>\n",
       "    <tr>\n",
       "      <th>num_reviews</th>\n",
       "      <td>3678.0</td>\n",
       "      <td>156.259108</td>\n",
       "      <td>935.452044</td>\n",
       "      <td>0.0</td>\n",
       "      <td>4.0</td>\n",
       "      <td>18.0</td>\n",
       "      <td>67.00</td>\n",
       "      <td>27445.0</td>\n",
       "    </tr>\n",
       "    <tr>\n",
       "      <th>num_lectures</th>\n",
       "      <td>3678.0</td>\n",
       "      <td>40.108755</td>\n",
       "      <td>50.383346</td>\n",
       "      <td>0.0</td>\n",
       "      <td>15.0</td>\n",
       "      <td>25.0</td>\n",
       "      <td>45.75</td>\n",
       "      <td>779.0</td>\n",
       "    </tr>\n",
       "    <tr>\n",
       "      <th>content_duration</th>\n",
       "      <td>3678.0</td>\n",
       "      <td>4.094527</td>\n",
       "      <td>6.053835</td>\n",
       "      <td>0.0</td>\n",
       "      <td>1.0</td>\n",
       "      <td>2.0</td>\n",
       "      <td>4.50</td>\n",
       "      <td>78.5</td>\n",
       "    </tr>\n",
       "  </tbody>\n",
       "</table>\n",
       "</div>"
      ],
      "text/plain": [
       "                   count           mean            std     min       25%  \\\n",
       "course_id         3678.0  675971.963295  343273.156040  8324.0  407692.5   \n",
       "price             3678.0  66.049483      61.005755      0.0     20.0       \n",
       "num_subscribers   3678.0  3197.150625    9504.117010    0.0     111.0      \n",
       "num_reviews       3678.0  156.259108     935.452044     0.0     4.0        \n",
       "num_lectures      3678.0  40.108755      50.383346      0.0     15.0       \n",
       "content_duration  3678.0  4.094527       6.053835       0.0     1.0        \n",
       "\n",
       "                       50%        75%        max  \n",
       "course_id         687917.0  961355.50  1282064.0  \n",
       "price             45.0      95.00      200.0      \n",
       "num_subscribers   911.5     2546.00    268923.0   \n",
       "num_reviews       18.0      67.00      27445.0    \n",
       "num_lectures      25.0      45.75      779.0      \n",
       "content_duration  2.0       4.50       78.5       "
      ]
     },
     "execution_count": 10,
     "metadata": {},
     "output_type": "execute_result"
    }
   ],
   "source": [
    "tab_desc1 = df1.describe().T\n",
    "tab_desc1"
   ]
  },
  {
   "cell_type": "code",
   "execution_count": 11,
   "metadata": {},
   "outputs": [
    {
     "data": {
      "text/plain": [
       "3.0"
      ]
     },
     "execution_count": 11,
     "metadata": {},
     "output_type": "execute_result"
    }
   ],
   "source": [
    "z = [1,2,3,4,5,6,7,8,8]\n",
    "np.quantile(z, 0.25)"
   ]
  },
  {
   "cell_type": "code",
   "execution_count": 12,
   "metadata": {},
   "outputs": [
    {
     "data": {
      "text/html": [
       "<div>\n",
       "<style scoped>\n",
       "    .dataframe tbody tr th:only-of-type {\n",
       "        vertical-align: middle;\n",
       "    }\n",
       "\n",
       "    .dataframe tbody tr th {\n",
       "        vertical-align: top;\n",
       "    }\n",
       "\n",
       "    .dataframe thead th {\n",
       "        text-align: right;\n",
       "    }\n",
       "</style>\n",
       "<table border=\"1\" class=\"dataframe\">\n",
       "  <thead>\n",
       "    <tr style=\"text-align: right;\">\n",
       "      <th></th>\n",
       "      <th>count</th>\n",
       "      <th>unique</th>\n",
       "      <th>top</th>\n",
       "      <th>freq</th>\n",
       "    </tr>\n",
       "  </thead>\n",
       "  <tbody>\n",
       "    <tr>\n",
       "      <th>course_title</th>\n",
       "      <td>3678</td>\n",
       "      <td>3663</td>\n",
       "      <td>Acoustic Blues Guitar Lessons</td>\n",
       "      <td>3</td>\n",
       "    </tr>\n",
       "    <tr>\n",
       "      <th>url</th>\n",
       "      <td>3678</td>\n",
       "      <td>3672</td>\n",
       "      <td>https://www.udemy.com/understanding-financial-statements/</td>\n",
       "      <td>2</td>\n",
       "    </tr>\n",
       "    <tr>\n",
       "      <th>level</th>\n",
       "      <td>3678</td>\n",
       "      <td>4</td>\n",
       "      <td>All Levels</td>\n",
       "      <td>1929</td>\n",
       "    </tr>\n",
       "    <tr>\n",
       "      <th>subject</th>\n",
       "      <td>3678</td>\n",
       "      <td>4</td>\n",
       "      <td>Web Development</td>\n",
       "      <td>1200</td>\n",
       "    </tr>\n",
       "  </tbody>\n",
       "</table>\n",
       "</div>"
      ],
      "text/plain": [
       "             count unique  \\\n",
       "course_title  3678  3663    \n",
       "url           3678  3672    \n",
       "level         3678  4       \n",
       "subject       3678  4       \n",
       "\n",
       "                                                                    top  freq  \n",
       "course_title  Acoustic Blues Guitar Lessons                              3     \n",
       "url           https://www.udemy.com/understanding-financial-statements/  2     \n",
       "level         All Levels                                                 1929  \n",
       "subject       Web Development                                            1200  "
      ]
     },
     "execution_count": 12,
     "metadata": {},
     "output_type": "execute_result"
    }
   ],
   "source": [
    "tab_desc2 = df1.describe(include='O').T\n",
    "tab_desc2"
   ]
  },
  {
   "cell_type": "code",
   "execution_count": 13,
   "metadata": {},
   "outputs": [],
   "source": [
    "dfDesc = []\n",
    "for i in df1.columns:\n",
    "    dfDesc.append([\n",
    "        i,\n",
    "        df1[i].dtypes,\n",
    "        df1[i].isna().sum(),\n",
    "        round((df1[i].isna().sum()/len(df1)*100),2),\n",
    "        df1[i].nunique(),\n",
    "        df1[i].drop_duplicates().sample(2).values\n",
    "    ])"
   ]
  },
  {
   "cell_type": "code",
   "execution_count": 14,
   "metadata": {},
   "outputs": [
    {
     "data": {
      "text/html": [
       "<div>\n",
       "<style scoped>\n",
       "    .dataframe tbody tr th:only-of-type {\n",
       "        vertical-align: middle;\n",
       "    }\n",
       "\n",
       "    .dataframe tbody tr th {\n",
       "        vertical-align: top;\n",
       "    }\n",
       "\n",
       "    .dataframe thead th {\n",
       "        text-align: right;\n",
       "    }\n",
       "</style>\n",
       "<table border=\"1\" class=\"dataframe\">\n",
       "  <thead>\n",
       "    <tr style=\"text-align: right;\">\n",
       "      <th></th>\n",
       "      <th>Feature</th>\n",
       "      <th>dtypes</th>\n",
       "      <th>null</th>\n",
       "      <th>null%</th>\n",
       "      <th>nunique</th>\n",
       "      <th>sample</th>\n",
       "    </tr>\n",
       "  </thead>\n",
       "  <tbody>\n",
       "    <tr>\n",
       "      <th>0</th>\n",
       "      <td>course_id</td>\n",
       "      <td>int64</td>\n",
       "      <td>0</td>\n",
       "      <td>0.0</td>\n",
       "      <td>3672</td>\n",
       "      <td>[53277, 1068986]</td>\n",
       "    </tr>\n",
       "    <tr>\n",
       "      <th>1</th>\n",
       "      <td>course_title</td>\n",
       "      <td>object</td>\n",
       "      <td>0</td>\n",
       "      <td>0.0</td>\n",
       "      <td>3663</td>\n",
       "      <td>[ExpressJS Fundamentals, Drumming for Beginners - Simple Way To Learn How To Drum]</td>\n",
       "    </tr>\n",
       "    <tr>\n",
       "      <th>2</th>\n",
       "      <td>url</td>\n",
       "      <td>object</td>\n",
       "      <td>0</td>\n",
       "      <td>0.0</td>\n",
       "      <td>3672</td>\n",
       "      <td>[https://www.udemy.com/guitar-fundamentals-for-beginners/, https://www.udemy.com/making-tax-digital/]</td>\n",
       "    </tr>\n",
       "    <tr>\n",
       "      <th>3</th>\n",
       "      <td>is_paid</td>\n",
       "      <td>bool</td>\n",
       "      <td>0</td>\n",
       "      <td>0.0</td>\n",
       "      <td>2</td>\n",
       "      <td>[True, False]</td>\n",
       "    </tr>\n",
       "    <tr>\n",
       "      <th>4</th>\n",
       "      <td>price</td>\n",
       "      <td>int64</td>\n",
       "      <td>0</td>\n",
       "      <td>0.0</td>\n",
       "      <td>38</td>\n",
       "      <td>[25, 95]</td>\n",
       "    </tr>\n",
       "    <tr>\n",
       "      <th>5</th>\n",
       "      <td>num_subscribers</td>\n",
       "      <td>int64</td>\n",
       "      <td>0</td>\n",
       "      <td>0.0</td>\n",
       "      <td>2197</td>\n",
       "      <td>[1074, 1437]</td>\n",
       "    </tr>\n",
       "    <tr>\n",
       "      <th>6</th>\n",
       "      <td>num_reviews</td>\n",
       "      <td>int64</td>\n",
       "      <td>0</td>\n",
       "      <td>0.0</td>\n",
       "      <td>511</td>\n",
       "      <td>[56, 418]</td>\n",
       "    </tr>\n",
       "    <tr>\n",
       "      <th>7</th>\n",
       "      <td>num_lectures</td>\n",
       "      <td>int64</td>\n",
       "      <td>0</td>\n",
       "      <td>0.0</td>\n",
       "      <td>229</td>\n",
       "      <td>[62, 284]</td>\n",
       "    </tr>\n",
       "    <tr>\n",
       "      <th>8</th>\n",
       "      <td>level</td>\n",
       "      <td>object</td>\n",
       "      <td>0</td>\n",
       "      <td>0.0</td>\n",
       "      <td>4</td>\n",
       "      <td>[Expert Level, Intermediate Level]</td>\n",
       "    </tr>\n",
       "    <tr>\n",
       "      <th>9</th>\n",
       "      <td>content_duration</td>\n",
       "      <td>float64</td>\n",
       "      <td>0</td>\n",
       "      <td>0.0</td>\n",
       "      <td>105</td>\n",
       "      <td>[42.0, 20.0]</td>\n",
       "    </tr>\n",
       "    <tr>\n",
       "      <th>10</th>\n",
       "      <td>published_timestamp</td>\n",
       "      <td>datetime64[ns, UTC]</td>\n",
       "      <td>0</td>\n",
       "      <td>0.0</td>\n",
       "      <td>3672</td>\n",
       "      <td>[2017-03-24T20:06:57.000000000, 2015-03-06T01:31:54.000000000]</td>\n",
       "    </tr>\n",
       "    <tr>\n",
       "      <th>11</th>\n",
       "      <td>subject</td>\n",
       "      <td>object</td>\n",
       "      <td>0</td>\n",
       "      <td>0.0</td>\n",
       "      <td>4</td>\n",
       "      <td>[Business Finance, Musical Instruments]</td>\n",
       "    </tr>\n",
       "  </tbody>\n",
       "</table>\n",
       "</div>"
      ],
      "text/plain": [
       "                Feature               dtypes  null  null%  nunique  \\\n",
       "0   course_id            int64                0     0.0    3672      \n",
       "1   course_title         object               0     0.0    3663      \n",
       "2   url                  object               0     0.0    3672      \n",
       "3   is_paid              bool                 0     0.0    2         \n",
       "4   price                int64                0     0.0    38        \n",
       "5   num_subscribers      int64                0     0.0    2197      \n",
       "6   num_reviews          int64                0     0.0    511       \n",
       "7   num_lectures         int64                0     0.0    229       \n",
       "8   level                object               0     0.0    4         \n",
       "9   content_duration     float64              0     0.0    105       \n",
       "10  published_timestamp  datetime64[ns, UTC]  0     0.0    3672      \n",
       "11  subject              object               0     0.0    4         \n",
       "\n",
       "                                                                                                   sample  \n",
       "0   [53277, 1068986]                                                                                       \n",
       "1   [ExpressJS Fundamentals, Drumming for Beginners - Simple Way To Learn How To Drum]                     \n",
       "2   [https://www.udemy.com/guitar-fundamentals-for-beginners/, https://www.udemy.com/making-tax-digital/]  \n",
       "3   [True, False]                                                                                          \n",
       "4   [25, 95]                                                                                               \n",
       "5   [1074, 1437]                                                                                           \n",
       "6   [56, 418]                                                                                              \n",
       "7   [62, 284]                                                                                              \n",
       "8   [Expert Level, Intermediate Level]                                                                     \n",
       "9   [42.0, 20.0]                                                                                           \n",
       "10  [2017-03-24T20:06:57.000000000, 2015-03-06T01:31:54.000000000]                                         \n",
       "11  [Business Finance, Musical Instruments]                                                                "
      ]
     },
     "execution_count": 14,
     "metadata": {},
     "output_type": "execute_result"
    }
   ],
   "source": [
    "tab_desc3 = pd.DataFrame(dfDesc, columns=['Feature','dtypes','null','null%','nunique','sample'])\n",
    "tab_desc3"
   ]
  },
  {
   "cell_type": "markdown",
   "metadata": {},
   "source": [
    "- Course ID dan Course title tidak sama jumlah nunique nya. Kemungkinan ada satu course title memiliki lebih dari 1 course_id\n",
    "- Selain itu, jumlah data ialah 3678, sedangkan course_id dan url hanya 3672. **Ada sejumlah data memiliki course_id yang sama (terduplikasi)**"
   ]
  },
  {
   "cell_type": "code",
   "execution_count": 15,
   "metadata": {},
   "outputs": [
    {
     "data": {
      "text/plain": [
       "Acoustic Blues Guitar Lessons                                   3\n",
       "Creating an animated greeting card via Google Slides            3\n",
       "The Complete Web Developer Masterclass: Beginner To Advanced    2\n",
       "MicroStation - Células                                          2\n",
       "Drum Lessons For Beginners                                      2\n",
       "Name: course_title, dtype: int64"
      ]
     },
     "execution_count": 15,
     "metadata": {},
     "output_type": "execute_result"
    }
   ],
   "source": [
    "df1.course_title.value_counts().head()"
   ]
  },
  {
   "cell_type": "code",
   "execution_count": 16,
   "metadata": {},
   "outputs": [
    {
     "data": {
      "text/html": [
       "<div>\n",
       "<style scoped>\n",
       "    .dataframe tbody tr th:only-of-type {\n",
       "        vertical-align: middle;\n",
       "    }\n",
       "\n",
       "    .dataframe tbody tr th {\n",
       "        vertical-align: top;\n",
       "    }\n",
       "\n",
       "    .dataframe thead th {\n",
       "        text-align: right;\n",
       "    }\n",
       "</style>\n",
       "<table border=\"1\" class=\"dataframe\">\n",
       "  <thead>\n",
       "    <tr style=\"text-align: right;\">\n",
       "      <th></th>\n",
       "      <th>course_id</th>\n",
       "      <th>course_title</th>\n",
       "      <th>url</th>\n",
       "      <th>is_paid</th>\n",
       "      <th>price</th>\n",
       "      <th>num_subscribers</th>\n",
       "      <th>num_reviews</th>\n",
       "      <th>num_lectures</th>\n",
       "      <th>level</th>\n",
       "      <th>content_duration</th>\n",
       "      <th>published_timestamp</th>\n",
       "      <th>subject</th>\n",
       "    </tr>\n",
       "  </thead>\n",
       "  <tbody>\n",
       "    <tr>\n",
       "      <th>1301</th>\n",
       "      <td>692920</td>\n",
       "      <td>Creating an animated greeting card via Google Slides</td>\n",
       "      <td>https://www.udemy.com/creating-an-animated-greeting-card-via-google-slides/</td>\n",
       "      <td>True</td>\n",
       "      <td>20</td>\n",
       "      <td>1504</td>\n",
       "      <td>10</td>\n",
       "      <td>9</td>\n",
       "      <td>Beginner Level</td>\n",
       "      <td>1.5</td>\n",
       "      <td>2016-01-05 20:31:49+00:00</td>\n",
       "      <td>Graphic Design</td>\n",
       "    </tr>\n",
       "    <tr>\n",
       "      <th>1334</th>\n",
       "      <td>699376</td>\n",
       "      <td>Creating an animated greeting card via Google Slides</td>\n",
       "      <td>https://www.udemy.com/creating-an-animated-greeting-card-via-google-slides-2/</td>\n",
       "      <td>True</td>\n",
       "      <td>20</td>\n",
       "      <td>549</td>\n",
       "      <td>10</td>\n",
       "      <td>8</td>\n",
       "      <td>Beginner Level</td>\n",
       "      <td>1.0</td>\n",
       "      <td>2016-04-12 01:24:14+00:00</td>\n",
       "      <td>Graphic Design</td>\n",
       "    </tr>\n",
       "    <tr>\n",
       "      <th>1447</th>\n",
       "      <td>699380</td>\n",
       "      <td>Creating an animated greeting card via Google Slides</td>\n",
       "      <td>https://www.udemy.com/creating-an-animated-greeting-card-via-google-slides-3/</td>\n",
       "      <td>True</td>\n",
       "      <td>20</td>\n",
       "      <td>770</td>\n",
       "      <td>8</td>\n",
       "      <td>8</td>\n",
       "      <td>Intermediate Level</td>\n",
       "      <td>1.0</td>\n",
       "      <td>2016-05-06 15:54:32+00:00</td>\n",
       "      <td>Graphic Design</td>\n",
       "    </tr>\n",
       "  </tbody>\n",
       "</table>\n",
       "</div>"
      ],
      "text/plain": [
       "      course_id                                          course_title  \\\n",
       "1301  692920     Creating an animated greeting card via Google Slides   \n",
       "1334  699376     Creating an animated greeting card via Google Slides   \n",
       "1447  699380     Creating an animated greeting card via Google Slides   \n",
       "\n",
       "                                                                                url  \\\n",
       "1301  https://www.udemy.com/creating-an-animated-greeting-card-via-google-slides/     \n",
       "1334  https://www.udemy.com/creating-an-animated-greeting-card-via-google-slides-2/   \n",
       "1447  https://www.udemy.com/creating-an-animated-greeting-card-via-google-slides-3/   \n",
       "\n",
       "      is_paid  price  num_subscribers  num_reviews  num_lectures  \\\n",
       "1301  True     20     1504             10           9              \n",
       "1334  True     20     549              10           8              \n",
       "1447  True     20     770              8            8              \n",
       "\n",
       "                   level  content_duration       published_timestamp  \\\n",
       "1301  Beginner Level      1.5              2016-01-05 20:31:49+00:00   \n",
       "1334  Beginner Level      1.0              2016-04-12 01:24:14+00:00   \n",
       "1447  Intermediate Level  1.0              2016-05-06 15:54:32+00:00   \n",
       "\n",
       "             subject  \n",
       "1301  Graphic Design  \n",
       "1334  Graphic Design  \n",
       "1447  Graphic Design  "
      ]
     },
     "execution_count": 16,
     "metadata": {},
     "output_type": "execute_result"
    }
   ],
   "source": [
    "df1[df1.course_title=='Creating an animated greeting card via Google Slides']"
   ]
  },
  {
   "cell_type": "code",
   "execution_count": 17,
   "metadata": {},
   "outputs": [],
   "source": [
    "id_duplikat = df1.course_id.value_counts().head(6).index # kenapa cuman sampai 6, karena value counts berikutnya cuman 1 setiap course id\n",
    "index_loc = []\n",
    "for i in id_duplikat:\n",
    "    index_loc.append([\n",
    "        i,\n",
    "        df1.index[df1.course_id==i]\n",
    "    ])"
   ]
  },
  {
   "cell_type": "code",
   "execution_count": 18,
   "metadata": {},
   "outputs": [
    {
     "data": {
      "text/html": [
       "<div>\n",
       "<style scoped>\n",
       "    .dataframe tbody tr th:only-of-type {\n",
       "        vertical-align: middle;\n",
       "    }\n",
       "\n",
       "    .dataframe tbody tr th {\n",
       "        vertical-align: top;\n",
       "    }\n",
       "\n",
       "    .dataframe thead th {\n",
       "        text-align: right;\n",
       "    }\n",
       "</style>\n",
       "<table border=\"1\" class=\"dataframe\">\n",
       "  <thead>\n",
       "    <tr style=\"text-align: right;\">\n",
       "      <th></th>\n",
       "      <th>course_id</th>\n",
       "      <th>loc_index</th>\n",
       "    </tr>\n",
       "  </thead>\n",
       "  <tbody>\n",
       "    <tr>\n",
       "      <th>0</th>\n",
       "      <td>185526</td>\n",
       "      <td>Int64Index([1234, 1473], dtype='int64')</td>\n",
       "    </tr>\n",
       "    <tr>\n",
       "      <th>1</th>\n",
       "      <td>1084454</td>\n",
       "      <td>Int64Index([463, 1100], dtype='int64')</td>\n",
       "    </tr>\n",
       "    <tr>\n",
       "      <th>2</th>\n",
       "      <td>837322</td>\n",
       "      <td>Int64Index([453, 787], dtype='int64')</td>\n",
       "    </tr>\n",
       "    <tr>\n",
       "      <th>3</th>\n",
       "      <td>28295</td>\n",
       "      <td>Int64Index([2478, 2561], dtype='int64')</td>\n",
       "    </tr>\n",
       "    <tr>\n",
       "      <th>4</th>\n",
       "      <td>1035638</td>\n",
       "      <td>Int64Index([778, 894], dtype='int64')</td>\n",
       "    </tr>\n",
       "    <tr>\n",
       "      <th>5</th>\n",
       "      <td>1157298</td>\n",
       "      <td>Int64Index([454, 788], dtype='int64')</td>\n",
       "    </tr>\n",
       "  </tbody>\n",
       "</table>\n",
       "</div>"
      ],
      "text/plain": [
       "   course_id                                loc_index\n",
       "0  185526     Int64Index([1234, 1473], dtype='int64')\n",
       "1  1084454    Int64Index([463, 1100], dtype='int64') \n",
       "2  837322     Int64Index([453, 787], dtype='int64')  \n",
       "3  28295      Int64Index([2478, 2561], dtype='int64')\n",
       "4  1035638    Int64Index([778, 894], dtype='int64')  \n",
       "5  1157298    Int64Index([454, 788], dtype='int64')  "
      ]
     },
     "execution_count": 18,
     "metadata": {},
     "output_type": "execute_result"
    }
   ],
   "source": [
    "tab_desc4 = pd.DataFrame(index_loc, columns=['course_id', 'loc_index'])\n",
    "tab_desc4"
   ]
  },
  {
   "cell_type": "markdown",
   "metadata": {},
   "source": [
    "- Setiap course yang sama tersebut akan didrop salah satunya"
   ]
  },
  {
   "cell_type": "code",
   "execution_count": 19,
   "metadata": {},
   "outputs": [
    {
     "data": {
      "text/html": [
       "<div>\n",
       "<style scoped>\n",
       "    .dataframe tbody tr th:only-of-type {\n",
       "        vertical-align: middle;\n",
       "    }\n",
       "\n",
       "    .dataframe tbody tr th {\n",
       "        vertical-align: top;\n",
       "    }\n",
       "\n",
       "    .dataframe thead th {\n",
       "        text-align: right;\n",
       "    }\n",
       "</style>\n",
       "<table border=\"1\" class=\"dataframe\">\n",
       "  <thead>\n",
       "    <tr style=\"text-align: right;\">\n",
       "      <th></th>\n",
       "      <th>course_id</th>\n",
       "      <th>course_title</th>\n",
       "      <th>url</th>\n",
       "      <th>is_paid</th>\n",
       "      <th>price</th>\n",
       "      <th>num_subscribers</th>\n",
       "      <th>num_reviews</th>\n",
       "      <th>num_lectures</th>\n",
       "      <th>level</th>\n",
       "      <th>content_duration</th>\n",
       "      <th>published_timestamp</th>\n",
       "      <th>subject</th>\n",
       "    </tr>\n",
       "  </thead>\n",
       "  <tbody>\n",
       "    <tr>\n",
       "      <th>463</th>\n",
       "      <td>1084454</td>\n",
       "      <td>CFA Level 2- Quantitative Methods</td>\n",
       "      <td>https://www.udemy.com/cfa-level-2-quantitative-methods/</td>\n",
       "      <td>True</td>\n",
       "      <td>40</td>\n",
       "      <td>0</td>\n",
       "      <td>0</td>\n",
       "      <td>35</td>\n",
       "      <td>All Levels</td>\n",
       "      <td>5.50</td>\n",
       "      <td>2017-07-02 14:29:35+00:00</td>\n",
       "      <td>Business Finance</td>\n",
       "    </tr>\n",
       "    <tr>\n",
       "      <th>1100</th>\n",
       "      <td>1084454</td>\n",
       "      <td>CFA Level 2- Quantitative Methods</td>\n",
       "      <td>https://www.udemy.com/cfa-level-2-quantitative-methods/</td>\n",
       "      <td>True</td>\n",
       "      <td>40</td>\n",
       "      <td>0</td>\n",
       "      <td>0</td>\n",
       "      <td>35</td>\n",
       "      <td>All Levels</td>\n",
       "      <td>5.50</td>\n",
       "      <td>2017-07-02 14:29:35+00:00</td>\n",
       "      <td>Business Finance</td>\n",
       "    </tr>\n",
       "    <tr>\n",
       "      <th>1234</th>\n",
       "      <td>185526</td>\n",
       "      <td>MicroStation - Células</td>\n",
       "      <td>https://www.udemy.com/microstation-celulas/</td>\n",
       "      <td>True</td>\n",
       "      <td>20</td>\n",
       "      <td>0</td>\n",
       "      <td>0</td>\n",
       "      <td>9</td>\n",
       "      <td>Beginner Level</td>\n",
       "      <td>0.62</td>\n",
       "      <td>2014-04-15 21:48:55+00:00</td>\n",
       "      <td>Graphic Design</td>\n",
       "    </tr>\n",
       "    <tr>\n",
       "      <th>1473</th>\n",
       "      <td>185526</td>\n",
       "      <td>MicroStation - Células</td>\n",
       "      <td>https://www.udemy.com/microstation-celulas/</td>\n",
       "      <td>True</td>\n",
       "      <td>20</td>\n",
       "      <td>0</td>\n",
       "      <td>0</td>\n",
       "      <td>9</td>\n",
       "      <td>Beginner Level</td>\n",
       "      <td>0.62</td>\n",
       "      <td>2014-04-15 21:48:55+00:00</td>\n",
       "      <td>Graphic Design</td>\n",
       "    </tr>\n",
       "  </tbody>\n",
       "</table>\n",
       "</div>"
      ],
      "text/plain": [
       "      course_id                       course_title  \\\n",
       "463   1084454    CFA Level 2- Quantitative Methods   \n",
       "1100  1084454    CFA Level 2- Quantitative Methods   \n",
       "1234  185526     MicroStation - Células              \n",
       "1473  185526     MicroStation - Células              \n",
       "\n",
       "                                                          url  is_paid  price  \\\n",
       "463   https://www.udemy.com/cfa-level-2-quantitative-methods/  True     40      \n",
       "1100  https://www.udemy.com/cfa-level-2-quantitative-methods/  True     40      \n",
       "1234  https://www.udemy.com/microstation-celulas/              True     20      \n",
       "1473  https://www.udemy.com/microstation-celulas/              True     20      \n",
       "\n",
       "      num_subscribers  num_reviews  num_lectures           level  \\\n",
       "463   0                0            35            All Levels       \n",
       "1100  0                0            35            All Levels       \n",
       "1234  0                0            9             Beginner Level   \n",
       "1473  0                0            9             Beginner Level   \n",
       "\n",
       "      content_duration       published_timestamp           subject  \n",
       "463   5.50             2017-07-02 14:29:35+00:00  Business Finance  \n",
       "1100  5.50             2017-07-02 14:29:35+00:00  Business Finance  \n",
       "1234  0.62             2014-04-15 21:48:55+00:00  Graphic Design    \n",
       "1473  0.62             2014-04-15 21:48:55+00:00  Graphic Design    "
      ]
     },
     "execution_count": 19,
     "metadata": {},
     "output_type": "execute_result"
    }
   ],
   "source": [
    "tab_desc5 = df1[(df1.course_id==185526) | (df1.course_id==1084454)]\n",
    "tab_desc5"
   ]
  },
  {
   "cell_type": "code",
   "execution_count": 20,
   "metadata": {},
   "outputs": [
    {
     "data": {
      "image/png": "[encoded data removed]",
      "text/plain": [
       "<Figure size 792x576 with 2 Axes>"
      ]
     },
     "metadata": {
      "needs_background": "light"
     },
     "output_type": "display_data"
    }
   ],
   "source": [
    "plt.figure(figsize=(11, 8))\n",
    "\n",
    "sns_plot = sns.heatmap(df1.corr(), annot=True, square=True, linewidths=0.25)\n",
    "# plt.savefig('heatmap.png')\n",
    "plt.show()"
   ]
  },
  {
   "cell_type": "markdown",
   "metadata": {},
   "source": [
    "- Hipotesis awal variabel yang berhubungan dengan **Jumlah Subscribers** berdasarkan nilai korelasi tertinggi\n",
    "\n",
    "1. Jumlah Reviews\n",
    "2. Paid or not\n",
    "3. Content duration\n",
    "4. Jumlah Lectures"
   ]
  }
 ],
 "metadata": {
  "kernelspec": {
   "display_name": "Python 3.8.3 64-bit",
   "language": "python",
   "name": "python38364bitf98a9d7598a340bdaa881acb74c38372"
  },
  "language_info": {
   "codemirror_mode": {
    "name": "ipython",
    "version": 3
   },
   "file_extension": ".py",
   "mimetype": "text/x-python",
   "name": "python",
   "nbconvert_exporter": "python",
   "pygments_lexer": "ipython3",
   "version": "3.8.3rc1"
  }
 },
 "nbformat": 4,
 "nbformat_minor": 4
}
