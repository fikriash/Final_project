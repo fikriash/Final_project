{
 "cells": [
  {
   "cell_type": "markdown",
   "metadata": {},
   "source": [
    "##### Project ini belum sepenuhnya selesai dikarenakan info mendadak terkait perubahan schedule upload file. Masih dalam tahap hyper tunning. Oleh karena itu kesimpulan yang dibuat dalam file ini masih bersifat sementara."
   ]
  },
  {
   "cell_type": "markdown",
   "metadata": {},
   "source": [
    "Framework - FinalProject\n",
    "1. Define Problem\n",
    "2. Define Goals\n",
    "3. Data Collect & Import\n",
    "4. Cek Missing Value\n",
    "5. Describe Data\n",
    "6. EDA -- Handling Missing Value\n",
    "7. Feature Engineering -- Handling Outliers\n",
    "8. Export file finalProject Fix\n",
    "9. Handling Imbalance Data\n",
    "--------------------------------------------\n",
    "10. Train with Base Algorithm\n",
    "11. Train with Complex Algorithm\n",
    "12. Train Base with Hyper param\n",
    "13. Train Complex with Hyper param\n",
    "--------------------------------------------\n",
    "14. Classification Report\n",
    "15. Confusion Matrix\n",
    "16. Evaluation Model (Score Dibuat DataFrame)\n",
    "--------------------------------------------\n",
    "17. Memilih Model\n",
    "18. Export Model\n",
    "19. Dashboard (Joblib/Pickle)"
   ]
  },
  {
   "cell_type": "markdown",
   "metadata": {},
   "source": [
    "## ----------------------------- *Udemy_Course (Online Course Bussines)* -----------------------------"
   ]
  },
  {
   "cell_type": "markdown",
   "metadata": {},
   "source": [
    "------------------------------------------------------------------------------------------------------------------------------------------------------"
   ]
  },
  {
   "cell_type": "markdown",
   "metadata": {},
   "source": [
    "# (1-2) Definition, Problems, and Goals"
   ]
  },
  {
   "cell_type": "markdown",
   "metadata": {},
   "source": [
    "------------------------------------------------------------------------------------------------------------------------------------------------------"
   ]
  },
  {
   "cell_type": "markdown",
   "metadata": {},
   "source": [
    "### Definition"
   ]
  },
  {
   "cell_type": "markdown",
   "metadata": {},
   "source": [
    "Machine Learning ini merupakan salah satu model untuk menentukan sukses tidak nya suatu course yang akan dibuka oleh suatu Lembaga Pendidikan atau dalam problem ini ialah MOOC, yang dapat digunakan oleh perusahaan atau lembaga tersebut sebagai bahan pertimbangan dalam me-*release* course baru."
   ]
  },
  {
   "cell_type": "markdown",
   "metadata": {},
   "source": [
    "### Problems & Goals"
   ]
  },
  {
   "cell_type": "markdown",
   "metadata": {},
   "source": [
    "2.1 Problems\n",
    "- Kualitas Pendidikan Menurun saat diterapkannya Sistem Pendidikan Jarak Jauh berbasis Teknologi (mediaindonesia.com)\n",
    "- Penurunan partisipan pada Lembaga-lembaga Bimbingan Belajar akibat Covid-19 (sonora.id)\n",
    "- Kesulitan dalam mencari pekerjaan akibat pandemi covid, sehingga memiliki skill-skill yang bagus dapat menjadi nilai jual utama. Sehingga course2 dari lembaga-lembaga pendidikan non-formal akan banyak dicari\n",
    "- Kesulitan untuk mengetahui course apa yang paling dibutuhkan mereka-mereka yang sedang ingin improving skill\n",
    "\n",
    "2.2 Goals\n",
    "- Membuat model yang dapat memprediksi/mendeteksi sukses tidaknya suatu course yang akan dibuka oleh suatu MOOC dalam mendapatkan subscribers atau partisipan\n",
    "- Mengetahui variabel apa saja yang dapat mempengaruhi sukses/tidaknya suatu course dalam mendapatkan subscribers atau partisipan\n",
    "\n",
    "2.3 Limitasi\n",
    "- Model dapat digunakan oleh seluruh perusahaan berbasis Platform Media Pembelajaran Online / MOOC / Bimbel dan perusahaan sejenis lainnya.\n",
    "- Model hanya dapat memprediksi persentase sukses atau tidaknya course yang akan dibuka.\n"
   ]
  },
  {
   "cell_type": "markdown",
   "metadata": {},
   "source": [
    "# Import Package"
   ]
  },
  {
   "cell_type": "code",
   "execution_count": 1,
   "metadata": {},
   "outputs": [],
   "source": [
    "import pandas as pd\n",
    "import numpy as np\n",
    "import seaborn as sns\n",
    "import matplotlib.pyplot as plt\n",
    "import pickle\n",
    "import joblib\n",
    "import statsmodels.api as sm\n",
    "import warnings\n",
    "warnings.filterwarnings('ignore')\n",
    "pd.options.display.max_columns=999\n",
    "pd.set_option('display.max_colwidth', -1)\n",
    "\n",
    "%matplotlib inline\n",
    "\n",
    "from sklearn.linear_model import LogisticRegression, Lasso, Ridge, ElasticNet\n",
    "from sklearn.neighbors import KNeighborsClassifier\n",
    "from xgboost import XGBClassifier\n",
    "from sklearn.ensemble import RandomForestClassifier \n",
    "from sklearn.tree import DecisionTreeClassifier\n",
    "from sklearn.preprocessing import RobustScaler, MinMaxScaler,power_transform, StandardScaler\n",
    "from imblearn.over_sampling import SMOTE\n",
    "from sklearn.utils import resample\n",
    "from sklearn.decomposition import PCA\n",
    "from sklearn.metrics import accuracy_score, balanced_accuracy_score, f1_score, recall_score, precision_score\n",
    "from sklearn.metrics import classification_report, confusion_matrix, log_loss, roc_auc_score, roc_curve, auc\n",
    "from sklearn.model_selection import train_test_split, GridSearchCV, RandomizedSearchCV"
   ]
  },
  {
   "cell_type": "markdown",
   "metadata": {},
   "source": [
    "------------------------------------------------------------------------------------------------------------------------------------------------------"
   ]
  },
  {
   "cell_type": "markdown",
   "metadata": {},
   "source": [
    "# (3) Import Data"
   ]
  },
  {
   "cell_type": "markdown",
   "metadata": {},
   "source": [
    "------------------------------------------------------------------------------------------------------------------------------------------------------"
   ]
  },
  {
   "cell_type": "code",
   "execution_count": 2,
   "metadata": {},
   "outputs": [],
   "source": [
    "df = pd.read_csv('udemy.csv', parse_dates=['published_timestamp'])\n",
    "df1 = df.copy()\n",
    "df1['content_duration'] = round(df1['content_duration'],2)"
   ]
  },
  {
   "cell_type": "code",
   "execution_count": 3,
   "metadata": {},
   "outputs": [
    {
     "data": {
      "text/html": [
       "<div>\n",
       "<style scoped>\n",
       "    .dataframe tbody tr th:only-of-type {\n",
       "        vertical-align: middle;\n",
       "    }\n",
       "\n",
       "    .dataframe tbody tr th {\n",
       "        vertical-align: top;\n",
       "    }\n",
       "\n",
       "    .dataframe thead th {\n",
       "        text-align: right;\n",
       "    }\n",
       "</style>\n",
       "<table border=\"1\" class=\"dataframe\">\n",
       "  <thead>\n",
       "    <tr style=\"text-align: right;\">\n",
       "      <th></th>\n",
       "      <th>course_id</th>\n",
       "      <th>course_title</th>\n",
       "      <th>url</th>\n",
       "      <th>is_paid</th>\n",
       "      <th>price</th>\n",
       "      <th>num_subscribers</th>\n",
       "      <th>num_reviews</th>\n",
       "      <th>num_lectures</th>\n",
       "      <th>level</th>\n",
       "      <th>content_duration</th>\n",
       "      <th>published_timestamp</th>\n",
       "      <th>subject</th>\n",
       "    </tr>\n",
       "  </thead>\n",
       "  <tbody>\n",
       "    <tr>\n",
       "      <th>0</th>\n",
       "      <td>1070968</td>\n",
       "      <td>Ultimate Investment Banking Course</td>\n",
       "      <td>https://www.udemy.com/ultimate-investment-banking-course/</td>\n",
       "      <td>True</td>\n",
       "      <td>200</td>\n",
       "      <td>2147</td>\n",
       "      <td>23</td>\n",
       "      <td>51</td>\n",
       "      <td>All Levels</td>\n",
       "      <td>1.5</td>\n",
       "      <td>2017-01-18 20:58:58+00:00</td>\n",
       "      <td>Business Finance</td>\n",
       "    </tr>\n",
       "    <tr>\n",
       "      <th>1</th>\n",
       "      <td>1113822</td>\n",
       "      <td>Complete GST Course &amp; Certification - Grow Your CA Practice</td>\n",
       "      <td>https://www.udemy.com/goods-and-services-tax/</td>\n",
       "      <td>True</td>\n",
       "      <td>75</td>\n",
       "      <td>2792</td>\n",
       "      <td>923</td>\n",
       "      <td>274</td>\n",
       "      <td>All Levels</td>\n",
       "      <td>39.0</td>\n",
       "      <td>2017-03-09 16:34:20+00:00</td>\n",
       "      <td>Business Finance</td>\n",
       "    </tr>\n",
       "    <tr>\n",
       "      <th>2</th>\n",
       "      <td>1006314</td>\n",
       "      <td>Financial Modeling for Business Analysts and Consultants</td>\n",
       "      <td>https://www.udemy.com/financial-modeling-for-business-analysts-and-consultants/</td>\n",
       "      <td>True</td>\n",
       "      <td>45</td>\n",
       "      <td>2174</td>\n",
       "      <td>74</td>\n",
       "      <td>51</td>\n",
       "      <td>Intermediate Level</td>\n",
       "      <td>2.5</td>\n",
       "      <td>2016-12-19 19:26:30+00:00</td>\n",
       "      <td>Business Finance</td>\n",
       "    </tr>\n",
       "    <tr>\n",
       "      <th>3</th>\n",
       "      <td>1210588</td>\n",
       "      <td>Beginner to Pro - Financial Analysis in Excel 2017</td>\n",
       "      <td>https://www.udemy.com/complete-excel-finance-course-from-beginner-to-pro/</td>\n",
       "      <td>True</td>\n",
       "      <td>95</td>\n",
       "      <td>2451</td>\n",
       "      <td>11</td>\n",
       "      <td>36</td>\n",
       "      <td>All Levels</td>\n",
       "      <td>3.0</td>\n",
       "      <td>2017-05-30 20:07:24+00:00</td>\n",
       "      <td>Business Finance</td>\n",
       "    </tr>\n",
       "    <tr>\n",
       "      <th>4</th>\n",
       "      <td>1011058</td>\n",
       "      <td>How To Maximize Your Profits Trading Options</td>\n",
       "      <td>https://www.udemy.com/how-to-maximize-your-profits-trading-options/</td>\n",
       "      <td>True</td>\n",
       "      <td>200</td>\n",
       "      <td>1276</td>\n",
       "      <td>45</td>\n",
       "      <td>26</td>\n",
       "      <td>Intermediate Level</td>\n",
       "      <td>2.0</td>\n",
       "      <td>2016-12-13 14:57:18+00:00</td>\n",
       "      <td>Business Finance</td>\n",
       "    </tr>\n",
       "  </tbody>\n",
       "</table>\n",
       "</div>"
      ],
      "text/plain": [
       "   course_id                                                 course_title  \\\n",
       "0  1070968    Ultimate Investment Banking Course                            \n",
       "1  1113822    Complete GST Course & Certification - Grow Your CA Practice   \n",
       "2  1006314    Financial Modeling for Business Analysts and Consultants      \n",
       "3  1210588    Beginner to Pro - Financial Analysis in Excel 2017            \n",
       "4  1011058    How To Maximize Your Profits Trading Options                  \n",
       "\n",
       "                                                                               url  \\\n",
       "0  https://www.udemy.com/ultimate-investment-banking-course/                         \n",
       "1  https://www.udemy.com/goods-and-services-tax/                                     \n",
       "2  https://www.udemy.com/financial-modeling-for-business-analysts-and-consultants/   \n",
       "3  https://www.udemy.com/complete-excel-finance-course-from-beginner-to-pro/         \n",
       "4  https://www.udemy.com/how-to-maximize-your-profits-trading-options/               \n",
       "\n",
       "   is_paid  price  num_subscribers  num_reviews  num_lectures  \\\n",
       "0  True     200    2147             23           51             \n",
       "1  True     75     2792             923          274            \n",
       "2  True     45     2174             74           51             \n",
       "3  True     95     2451             11           36             \n",
       "4  True     200    1276             45           26             \n",
       "\n",
       "                level  content_duration       published_timestamp  \\\n",
       "0  All Levels          1.5              2017-01-18 20:58:58+00:00   \n",
       "1  All Levels          39.0             2017-03-09 16:34:20+00:00   \n",
       "2  Intermediate Level  2.5              2016-12-19 19:26:30+00:00   \n",
       "3  All Levels          3.0              2017-05-30 20:07:24+00:00   \n",
       "4  Intermediate Level  2.0              2016-12-13 14:57:18+00:00   \n",
       "\n",
       "            subject  \n",
       "0  Business Finance  \n",
       "1  Business Finance  \n",
       "2  Business Finance  \n",
       "3  Business Finance  \n",
       "4  Business Finance  "
      ]
     },
     "execution_count": 3,
     "metadata": {},
     "output_type": "execute_result"
    }
   ],
   "source": [
    "df1.head()"
   ]
  },
  {
   "cell_type": "markdown",
   "metadata": {},
   "source": [
    "------------------------------------------------------------------------------------------------------------------------------------------------------"
   ]
  },
  {
   "cell_type": "markdown",
   "metadata": {},
   "source": [
    "# (4) Cek Missing Value"
   ]
  },
  {
   "cell_type": "markdown",
   "metadata": {},
   "source": [
    "------------------------------------------------------------------------------------------------------------------------------------------------------"
   ]
  },
  {
   "cell_type": "code",
   "execution_count": 4,
   "metadata": {},
   "outputs": [
    {
     "data": {
      "text/plain": [
       "course_id              0\n",
       "course_title           0\n",
       "url                    0\n",
       "is_paid                0\n",
       "price                  0\n",
       "num_subscribers        0\n",
       "num_reviews            0\n",
       "num_lectures           0\n",
       "level                  0\n",
       "content_duration       0\n",
       "published_timestamp    0\n",
       "subject                0\n",
       "dtype: int64"
      ]
     },
     "execution_count": 4,
     "metadata": {},
     "output_type": "execute_result"
    }
   ],
   "source": [
    "df1.isna().sum()"
   ]
  },
  {
   "cell_type": "code",
   "execution_count": 5,
   "metadata": {},
   "outputs": [
    {
     "data": {
      "image/png": "[encoded data removed]",
      "text/plain": [
       "<Figure size 576x432 with 1 Axes>"
      ]
     },
     "metadata": {
      "needs_background": "light"
     },
     "output_type": "display_data"
    }
   ],
   "source": [
    "plt.figure(figsize=(8,6))\n",
    "sns.heatmap(df1.isna(), cmap='viridis', yticklabels=False, cbar=False)\n",
    "plt.show()"
   ]
  },
  {
   "cell_type": "markdown",
   "metadata": {},
   "source": [
    "- **Tidak terdapat null, sehingga Handling Missing Value tidak perlu dilakukan**"
   ]
  },
  {
   "cell_type": "markdown",
   "metadata": {},
   "source": [
    "------------------------------------------------------------------------------------------------------------------------------------------------------"
   ]
  },
  {
   "cell_type": "markdown",
   "metadata": {},
   "source": [
    "# (5) Describe Data"
   ]
  },
  {
   "cell_type": "markdown",
   "metadata": {},
   "source": [
    "------------------------------------------------------------------------------------------------------------------------------------------------------"
   ]
  },
  {
   "cell_type": "code",
   "execution_count": 6,
   "metadata": {},
   "outputs": [
    {
     "name": "stdout",
     "output_type": "stream",
     "text": [
      "<class 'pandas.core.frame.DataFrame'>\n",
      "RangeIndex: 3678 entries, 0 to 3677\n",
      "Data columns (total 12 columns):\n",
      " #   Column               Non-Null Count  Dtype              \n",
      "---  ------               --------------  -----              \n",
      " 0   course_id            3678 non-null   int64              \n",
      " 1   course_title         3678 non-null   object             \n",
      " 2   url                  3678 non-null   object             \n",
      " 3   is_paid              3678 non-null   bool               \n",
      " 4   price                3678 non-null   int64              \n",
      " 5   num_subscribers      3678 non-null   int64              \n",
      " 6   num_reviews          3678 non-null   int64              \n",
      " 7   num_lectures         3678 non-null   int64              \n",
      " 8   level                3678 non-null   object             \n",
      " 9   content_duration     3678 non-null   float64            \n",
      " 10  published_timestamp  3678 non-null   datetime64[ns, UTC]\n",
      " 11  subject              3678 non-null   object             \n",
      "dtypes: bool(1), datetime64[ns, UTC](1), float64(1), int64(5), object(4)\n",
      "memory usage: 319.8+ KB\n"
     ]
    }
   ],
   "source": [
    "df1.info()"
   ]
  },
  {
   "cell_type": "code",
   "execution_count": 7,
   "metadata": {},
   "outputs": [
    {
     "data": {
      "text/plain": [
       "Index(['course_id', 'course_title', 'url', 'is_paid', 'price',\n",
       "       'num_subscribers', 'num_reviews', 'num_lectures', 'level',\n",
       "       'content_duration', 'published_timestamp', 'subject'],\n",
       "      dtype='object')"
      ]
     },
     "execution_count": 7,
     "metadata": {},
     "output_type": "execute_result"
    }
   ],
   "source": [
    "df1.columns"
   ]
  },
  {
   "cell_type": "markdown",
   "metadata": {},
   "source": [
    "### Variabel\n",
    "\n",
    "- course_id: ID setiap jenis course\n",
    "- course_title: Nama Course\n",
    "- url: url dari course_title\n",
    "- is paid: Tipe Course (Gratis / Berbayar)\n",
    "- price: Harga course (dalam satuan USD)\n",
    "- num_subscriber: Jumlah subscriber atau student\n",
    "- num_reviews: Jumlah subscriber atau partisipan yang memberikan review\n",
    "- num_lectures: Jumlah instruktur\n",
    "- level: Level course \n",
    "- content_duration: Durasi konten dari satu course nya (dalam satuan hours)\n",
    "- published_timestamp: Keterangan waktu perilisan course\n",
    "- subject: Kategori course"
   ]
  },
  {
   "cell_type": "markdown",
   "metadata": {},
   "source": [
    "Berdasarkan kolom-kolom di atas, belum terdapatnya kolom target (sukses/tidak). Oleh karena itu, kolom target Sukses/Tidak Sukses akan di buat di tahap Feature Engineering berdasarkan Jumlah Subscriber. "
   ]
  },
  {
   "cell_type": "code",
   "execution_count": 8,
   "metadata": {},
   "outputs": [
    {
     "data": {
      "text/plain": [
       "array(['Business Finance', 'Graphic Design', 'Musical Instruments',\n",
       "       'Web Development'], dtype=object)"
      ]
     },
     "execution_count": 8,
     "metadata": {},
     "output_type": "execute_result"
    }
   ],
   "source": [
    "df1.subject.unique()"
   ]
  },
  {
   "cell_type": "code",
   "execution_count": 9,
   "metadata": {},
   "outputs": [
    {
     "data": {
      "text/plain": [
       "array(['All Levels', 'Intermediate Level', 'Beginner Level',\n",
       "       'Expert Level'], dtype=object)"
      ]
     },
     "execution_count": 9,
     "metadata": {},
     "output_type": "execute_result"
    }
   ],
   "source": [
    "df1.level.unique()"
   ]
  },
  {
   "cell_type": "code",
   "execution_count": 10,
   "metadata": {},
   "outputs": [
    {
     "data": {
      "text/html": [
       "<div>\n",
       "<style scoped>\n",
       "    .dataframe tbody tr th:only-of-type {\n",
       "        vertical-align: middle;\n",
       "    }\n",
       "\n",
       "    .dataframe tbody tr th {\n",
       "        vertical-align: top;\n",
       "    }\n",
       "\n",
       "    .dataframe thead th {\n",
       "        text-align: right;\n",
       "    }\n",
       "</style>\n",
       "<table border=\"1\" class=\"dataframe\">\n",
       "  <thead>\n",
       "    <tr style=\"text-align: right;\">\n",
       "      <th></th>\n",
       "      <th>count</th>\n",
       "      <th>mean</th>\n",
       "      <th>std</th>\n",
       "      <th>min</th>\n",
       "      <th>25%</th>\n",
       "      <th>50%</th>\n",
       "      <th>75%</th>\n",
       "      <th>max</th>\n",
       "    </tr>\n",
       "  </thead>\n",
       "  <tbody>\n",
       "    <tr>\n",
       "      <th>course_id</th>\n",
       "      <td>3678.0</td>\n",
       "      <td>675971.963295</td>\n",
       "      <td>343273.156040</td>\n",
       "      <td>8324.0</td>\n",
       "      <td>407692.5</td>\n",
       "      <td>687917.0</td>\n",
       "      <td>961355.50</td>\n",
       "      <td>1282064.0</td>\n",
       "    </tr>\n",
       "    <tr>\n",
       "      <th>price</th>\n",
       "      <td>3678.0</td>\n",
       "      <td>66.049483</td>\n",
       "      <td>61.005755</td>\n",
       "      <td>0.0</td>\n",
       "      <td>20.0</td>\n",
       "      <td>45.0</td>\n",
       "      <td>95.00</td>\n",
       "      <td>200.0</td>\n",
       "    </tr>\n",
       "    <tr>\n",
       "      <th>num_subscribers</th>\n",
       "      <td>3678.0</td>\n",
       "      <td>3197.150625</td>\n",
       "      <td>9504.117010</td>\n",
       "      <td>0.0</td>\n",
       "      <td>111.0</td>\n",
       "      <td>911.5</td>\n",
       "      <td>2546.00</td>\n",
       "      <td>268923.0</td>\n",
       "    </tr>\n",
       "    <tr>\n",
       "      <th>num_reviews</th>\n",
       "      <td>3678.0</td>\n",
       "      <td>156.259108</td>\n",
       "      <td>935.452044</td>\n",
       "      <td>0.0</td>\n",
       "      <td>4.0</td>\n",
       "      <td>18.0</td>\n",
       "      <td>67.00</td>\n",
       "      <td>27445.0</td>\n",
       "    </tr>\n",
       "    <tr>\n",
       "      <th>num_lectures</th>\n",
       "      <td>3678.0</td>\n",
       "      <td>40.108755</td>\n",
       "      <td>50.383346</td>\n",
       "      <td>0.0</td>\n",
       "      <td>15.0</td>\n",
       "      <td>25.0</td>\n",
       "      <td>45.75</td>\n",
       "      <td>779.0</td>\n",
       "    </tr>\n",
       "    <tr>\n",
       "      <th>content_duration</th>\n",
       "      <td>3678.0</td>\n",
       "      <td>4.094527</td>\n",
       "      <td>6.053835</td>\n",
       "      <td>0.0</td>\n",
       "      <td>1.0</td>\n",
       "      <td>2.0</td>\n",
       "      <td>4.50</td>\n",
       "      <td>78.5</td>\n",
       "    </tr>\n",
       "  </tbody>\n",
       "</table>\n",
       "</div>"
      ],
      "text/plain": [
       "                   count           mean            std     min       25%  \\\n",
       "course_id         3678.0  675971.963295  343273.156040  8324.0  407692.5   \n",
       "price             3678.0  66.049483      61.005755      0.0     20.0       \n",
       "num_subscribers   3678.0  3197.150625    9504.117010    0.0     111.0      \n",
       "num_reviews       3678.0  156.259108     935.452044     0.0     4.0        \n",
       "num_lectures      3678.0  40.108755      50.383346      0.0     15.0       \n",
       "content_duration  3678.0  4.094527       6.053835       0.0     1.0        \n",
       "\n",
       "                       50%        75%        max  \n",
       "course_id         687917.0  961355.50  1282064.0  \n",
       "price             45.0      95.00      200.0      \n",
       "num_subscribers   911.5     2546.00    268923.0   \n",
       "num_reviews       18.0      67.00      27445.0    \n",
       "num_lectures      25.0      45.75      779.0      \n",
       "content_duration  2.0       4.50       78.5       "
      ]
     },
     "execution_count": 10,
     "metadata": {},
     "output_type": "execute_result"
    }
   ],
   "source": [
    "tab_desc1 = df1.describe().T\n",
    "tab_desc1"
   ]
  },
  {
   "cell_type": "code",
   "execution_count": 11,
   "metadata": {},
   "outputs": [
    {
     "data": {
      "text/html": [
       "<div>\n",
       "<style scoped>\n",
       "    .dataframe tbody tr th:only-of-type {\n",
       "        vertical-align: middle;\n",
       "    }\n",
       "\n",
       "    .dataframe tbody tr th {\n",
       "        vertical-align: top;\n",
       "    }\n",
       "\n",
       "    .dataframe thead th {\n",
       "        text-align: right;\n",
       "    }\n",
       "</style>\n",
       "<table border=\"1\" class=\"dataframe\">\n",
       "  <thead>\n",
       "    <tr style=\"text-align: right;\">\n",
       "      <th></th>\n",
       "      <th>count</th>\n",
       "      <th>unique</th>\n",
       "      <th>top</th>\n",
       "      <th>freq</th>\n",
       "    </tr>\n",
       "  </thead>\n",
       "  <tbody>\n",
       "    <tr>\n",
       "      <th>course_title</th>\n",
       "      <td>3678</td>\n",
       "      <td>3663</td>\n",
       "      <td>Acoustic Blues Guitar Lessons</td>\n",
       "      <td>3</td>\n",
       "    </tr>\n",
       "    <tr>\n",
       "      <th>url</th>\n",
       "      <td>3678</td>\n",
       "      <td>3672</td>\n",
       "      <td>https://www.udemy.com/essentials-of-money-value/</td>\n",
       "      <td>2</td>\n",
       "    </tr>\n",
       "    <tr>\n",
       "      <th>level</th>\n",
       "      <td>3678</td>\n",
       "      <td>4</td>\n",
       "      <td>All Levels</td>\n",
       "      <td>1929</td>\n",
       "    </tr>\n",
       "    <tr>\n",
       "      <th>subject</th>\n",
       "      <td>3678</td>\n",
       "      <td>4</td>\n",
       "      <td>Web Development</td>\n",
       "      <td>1200</td>\n",
       "    </tr>\n",
       "  </tbody>\n",
       "</table>\n",
       "</div>"
      ],
      "text/plain": [
       "             count unique                                               top  \\\n",
       "course_title  3678  3663   Acoustic Blues Guitar Lessons                      \n",
       "url           3678  3672   https://www.udemy.com/essentials-of-money-value/   \n",
       "level         3678  4      All Levels                                         \n",
       "subject       3678  4      Web Development                                    \n",
       "\n",
       "              freq  \n",
       "course_title  3     \n",
       "url           2     \n",
       "level         1929  \n",
       "subject       1200  "
      ]
     },
     "execution_count": 11,
     "metadata": {},
     "output_type": "execute_result"
    }
   ],
   "source": [
    "tab_desc2 = df1.describe(include='O').T\n",
    "tab_desc2"
   ]
  },
  {
   "cell_type": "code",
   "execution_count": 12,
   "metadata": {},
   "outputs": [],
   "source": [
    "dfDesc = []\n",
    "for i in df1.columns:\n",
    "    dfDesc.append([\n",
    "        i,\n",
    "        df1[i].dtypes,\n",
    "        df1[i].isna().sum(),\n",
    "        round((df1[i].isna().sum()/len(df1)*100),2),\n",
    "        df1[i].nunique(),\n",
    "        df1[i].drop_duplicates().sample(2).values\n",
    "    ])"
   ]
  },
  {
   "cell_type": "code",
   "execution_count": 13,
   "metadata": {},
   "outputs": [
    {
     "data": {
      "text/html": [
       "<div>\n",
       "<style scoped>\n",
       "    .dataframe tbody tr th:only-of-type {\n",
       "        vertical-align: middle;\n",
       "    }\n",
       "\n",
       "    .dataframe tbody tr th {\n",
       "        vertical-align: top;\n",
       "    }\n",
       "\n",
       "    .dataframe thead th {\n",
       "        text-align: right;\n",
       "    }\n",
       "</style>\n",
       "<table border=\"1\" class=\"dataframe\">\n",
       "  <thead>\n",
       "    <tr style=\"text-align: right;\">\n",
       "      <th></th>\n",
       "      <th>Feature</th>\n",
       "      <th>dtypes</th>\n",
       "      <th>null</th>\n",
       "      <th>null%</th>\n",
       "      <th>nunique</th>\n",
       "      <th>sample</th>\n",
       "    </tr>\n",
       "  </thead>\n",
       "  <tbody>\n",
       "    <tr>\n",
       "      <th>0</th>\n",
       "      <td>course_id</td>\n",
       "      <td>int64</td>\n",
       "      <td>0</td>\n",
       "      <td>0.0</td>\n",
       "      <td>3672</td>\n",
       "      <td>[797040, 904240]</td>\n",
       "    </tr>\n",
       "    <tr>\n",
       "      <th>1</th>\n",
       "      <td>course_title</td>\n",
       "      <td>object</td>\n",
       "      <td>0</td>\n",
       "      <td>0.0</td>\n",
       "      <td>3663</td>\n",
       "      <td>[Learn Laravel: Create Your Web App Step-By-Step, Stop Creditors from Harassing you and Avoid Bankruptcy]</td>\n",
       "    </tr>\n",
       "    <tr>\n",
       "      <th>2</th>\n",
       "      <td>url</td>\n",
       "      <td>object</td>\n",
       "      <td>0</td>\n",
       "      <td>0.0</td>\n",
       "      <td>3672</td>\n",
       "      <td>[https://www.udemy.com/learn-to-program-javascript-in-ten-easy-steps/, https://www.udemy.com/beginner-guitar-masterclass/]</td>\n",
       "    </tr>\n",
       "    <tr>\n",
       "      <th>3</th>\n",
       "      <td>is_paid</td>\n",
       "      <td>bool</td>\n",
       "      <td>0</td>\n",
       "      <td>0.0</td>\n",
       "      <td>2</td>\n",
       "      <td>[False, True]</td>\n",
       "    </tr>\n",
       "    <tr>\n",
       "      <th>4</th>\n",
       "      <td>price</td>\n",
       "      <td>int64</td>\n",
       "      <td>0</td>\n",
       "      <td>0.0</td>\n",
       "      <td>38</td>\n",
       "      <td>[190, 180]</td>\n",
       "    </tr>\n",
       "    <tr>\n",
       "      <th>5</th>\n",
       "      <td>num_subscribers</td>\n",
       "      <td>int64</td>\n",
       "      <td>0</td>\n",
       "      <td>0.0</td>\n",
       "      <td>2197</td>\n",
       "      <td>[5830, 867]</td>\n",
       "    </tr>\n",
       "    <tr>\n",
       "      <th>6</th>\n",
       "      <td>num_reviews</td>\n",
       "      <td>int64</td>\n",
       "      <td>0</td>\n",
       "      <td>0.0</td>\n",
       "      <td>511</td>\n",
       "      <td>[989, 650]</td>\n",
       "    </tr>\n",
       "    <tr>\n",
       "      <th>7</th>\n",
       "      <td>num_lectures</td>\n",
       "      <td>int64</td>\n",
       "      <td>0</td>\n",
       "      <td>0.0</td>\n",
       "      <td>229</td>\n",
       "      <td>[384, 183]</td>\n",
       "    </tr>\n",
       "    <tr>\n",
       "      <th>8</th>\n",
       "      <td>level</td>\n",
       "      <td>object</td>\n",
       "      <td>0</td>\n",
       "      <td>0.0</td>\n",
       "      <td>4</td>\n",
       "      <td>[Intermediate Level, Beginner Level]</td>\n",
       "    </tr>\n",
       "    <tr>\n",
       "      <th>9</th>\n",
       "      <td>content_duration</td>\n",
       "      <td>float64</td>\n",
       "      <td>0</td>\n",
       "      <td>0.0</td>\n",
       "      <td>105</td>\n",
       "      <td>[20.5, 22.5]</td>\n",
       "    </tr>\n",
       "    <tr>\n",
       "      <th>10</th>\n",
       "      <td>published_timestamp</td>\n",
       "      <td>datetime64[ns, UTC]</td>\n",
       "      <td>0</td>\n",
       "      <td>0.0</td>\n",
       "      <td>3672</td>\n",
       "      <td>[2017-03-30T15:22:46.000000000, 2016-06-27T21:19:23.000000000]</td>\n",
       "    </tr>\n",
       "    <tr>\n",
       "      <th>11</th>\n",
       "      <td>subject</td>\n",
       "      <td>object</td>\n",
       "      <td>0</td>\n",
       "      <td>0.0</td>\n",
       "      <td>4</td>\n",
       "      <td>[Graphic Design, Musical Instruments]</td>\n",
       "    </tr>\n",
       "  </tbody>\n",
       "</table>\n",
       "</div>"
      ],
      "text/plain": [
       "                Feature               dtypes  null  null%  nunique  \\\n",
       "0   course_id            int64                0     0.0    3672      \n",
       "1   course_title         object               0     0.0    3663      \n",
       "2   url                  object               0     0.0    3672      \n",
       "3   is_paid              bool                 0     0.0    2         \n",
       "4   price                int64                0     0.0    38        \n",
       "5   num_subscribers      int64                0     0.0    2197      \n",
       "6   num_reviews          int64                0     0.0    511       \n",
       "7   num_lectures         int64                0     0.0    229       \n",
       "8   level                object               0     0.0    4         \n",
       "9   content_duration     float64              0     0.0    105       \n",
       "10  published_timestamp  datetime64[ns, UTC]  0     0.0    3672      \n",
       "11  subject              object               0     0.0    4         \n",
       "\n",
       "                                                                                                                        sample  \n",
       "0   [797040, 904240]                                                                                                            \n",
       "1   [Learn Laravel: Create Your Web App Step-By-Step, Stop Creditors from Harassing you and Avoid Bankruptcy]                   \n",
       "2   [https://www.udemy.com/learn-to-program-javascript-in-ten-easy-steps/, https://www.udemy.com/beginner-guitar-masterclass/]  \n",
       "3   [False, True]                                                                                                               \n",
       "4   [190, 180]                                                                                                                  \n",
       "5   [5830, 867]                                                                                                                 \n",
       "6   [989, 650]                                                                                                                  \n",
       "7   [384, 183]                                                                                                                  \n",
       "8   [Intermediate Level, Beginner Level]                                                                                        \n",
       "9   [20.5, 22.5]                                                                                                                \n",
       "10  [2017-03-30T15:22:46.000000000, 2016-06-27T21:19:23.000000000]                                                              \n",
       "11  [Graphic Design, Musical Instruments]                                                                                       "
      ]
     },
     "execution_count": 13,
     "metadata": {},
     "output_type": "execute_result"
    }
   ],
   "source": [
    "tab_desc3 = pd.DataFrame(dfDesc, columns=['Feature','dtypes','null','null%','nunique','sample'])\n",
    "tab_desc3"
   ]
  },
  {
   "cell_type": "markdown",
   "metadata": {},
   "source": [
    "- Course ID dan Course title tidak sama jumlah nunique nya. Kemungkinan ada beberapa course title yang terduplikasi\n",
    "- Selain itu, jumlah data ialah 3678, sedangkan course_id dan url hanya 3672. **Ada sejumlah data memiliki course_id yang sama**\n",
    "- Jumlah Course_title ternyata lebih sedikit lagi dibandingkan course_id dan url. **Artinya ada beberapa course yg course_title nya sama**"
   ]
  },
  {
   "cell_type": "code",
   "execution_count": 14,
   "metadata": {},
   "outputs": [
    {
     "data": {
      "text/plain": [
       "Acoustic Blues Guitar Lessons                             3\n",
       "Creating an animated greeting card via Google Slides      3\n",
       "Aprende a tocar el acordeón de botones                    2\n",
       "MicroStation - Células                                    2\n",
       "Learn Web Designing & HTML5/CSS3 Essentials in 4-Hours    2\n",
       "Name: course_title, dtype: int64"
      ]
     },
     "execution_count": 14,
     "metadata": {},
     "output_type": "execute_result"
    }
   ],
   "source": [
    "df1.course_title.value_counts().head()"
   ]
  },
  {
   "cell_type": "code",
   "execution_count": 15,
   "metadata": {},
   "outputs": [
    {
     "data": {
      "text/html": [
       "<div>\n",
       "<style scoped>\n",
       "    .dataframe tbody tr th:only-of-type {\n",
       "        vertical-align: middle;\n",
       "    }\n",
       "\n",
       "    .dataframe tbody tr th {\n",
       "        vertical-align: top;\n",
       "    }\n",
       "\n",
       "    .dataframe thead th {\n",
       "        text-align: right;\n",
       "    }\n",
       "</style>\n",
       "<table border=\"1\" class=\"dataframe\">\n",
       "  <thead>\n",
       "    <tr style=\"text-align: right;\">\n",
       "      <th></th>\n",
       "      <th>course_id</th>\n",
       "      <th>course_title</th>\n",
       "      <th>url</th>\n",
       "      <th>is_paid</th>\n",
       "      <th>price</th>\n",
       "      <th>num_subscribers</th>\n",
       "      <th>num_reviews</th>\n",
       "      <th>num_lectures</th>\n",
       "      <th>level</th>\n",
       "      <th>content_duration</th>\n",
       "      <th>published_timestamp</th>\n",
       "      <th>subject</th>\n",
       "    </tr>\n",
       "  </thead>\n",
       "  <tbody>\n",
       "    <tr>\n",
       "      <th>1301</th>\n",
       "      <td>692920</td>\n",
       "      <td>Creating an animated greeting card via Google Slides</td>\n",
       "      <td>https://www.udemy.com/creating-an-animated-greeting-card-via-google-slides/</td>\n",
       "      <td>True</td>\n",
       "      <td>20</td>\n",
       "      <td>1504</td>\n",
       "      <td>10</td>\n",
       "      <td>9</td>\n",
       "      <td>Beginner Level</td>\n",
       "      <td>1.5</td>\n",
       "      <td>2016-01-05 20:31:49+00:00</td>\n",
       "      <td>Graphic Design</td>\n",
       "    </tr>\n",
       "    <tr>\n",
       "      <th>1334</th>\n",
       "      <td>699376</td>\n",
       "      <td>Creating an animated greeting card via Google Slides</td>\n",
       "      <td>https://www.udemy.com/creating-an-animated-greeting-card-via-google-slides-2/</td>\n",
       "      <td>True</td>\n",
       "      <td>20</td>\n",
       "      <td>549</td>\n",
       "      <td>10</td>\n",
       "      <td>8</td>\n",
       "      <td>Beginner Level</td>\n",
       "      <td>1.0</td>\n",
       "      <td>2016-04-12 01:24:14+00:00</td>\n",
       "      <td>Graphic Design</td>\n",
       "    </tr>\n",
       "    <tr>\n",
       "      <th>1447</th>\n",
       "      <td>699380</td>\n",
       "      <td>Creating an animated greeting card via Google Slides</td>\n",
       "      <td>https://www.udemy.com/creating-an-animated-greeting-card-via-google-slides-3/</td>\n",
       "      <td>True</td>\n",
       "      <td>20</td>\n",
       "      <td>770</td>\n",
       "      <td>8</td>\n",
       "      <td>8</td>\n",
       "      <td>Intermediate Level</td>\n",
       "      <td>1.0</td>\n",
       "      <td>2016-05-06 15:54:32+00:00</td>\n",
       "      <td>Graphic Design</td>\n",
       "    </tr>\n",
       "  </tbody>\n",
       "</table>\n",
       "</div>"
      ],
      "text/plain": [
       "      course_id                                          course_title  \\\n",
       "1301  692920     Creating an animated greeting card via Google Slides   \n",
       "1334  699376     Creating an animated greeting card via Google Slides   \n",
       "1447  699380     Creating an animated greeting card via Google Slides   \n",
       "\n",
       "                                                                                url  \\\n",
       "1301  https://www.udemy.com/creating-an-animated-greeting-card-via-google-slides/     \n",
       "1334  https://www.udemy.com/creating-an-animated-greeting-card-via-google-slides-2/   \n",
       "1447  https://www.udemy.com/creating-an-animated-greeting-card-via-google-slides-3/   \n",
       "\n",
       "      is_paid  price  num_subscribers  num_reviews  num_lectures  \\\n",
       "1301  True     20     1504             10           9              \n",
       "1334  True     20     549              10           8              \n",
       "1447  True     20     770              8            8              \n",
       "\n",
       "                   level  content_duration       published_timestamp  \\\n",
       "1301  Beginner Level      1.5              2016-01-05 20:31:49+00:00   \n",
       "1334  Beginner Level      1.0              2016-04-12 01:24:14+00:00   \n",
       "1447  Intermediate Level  1.0              2016-05-06 15:54:32+00:00   \n",
       "\n",
       "             subject  \n",
       "1301  Graphic Design  \n",
       "1334  Graphic Design  \n",
       "1447  Graphic Design  "
      ]
     },
     "execution_count": 15,
     "metadata": {},
     "output_type": "execute_result"
    }
   ],
   "source": [
    "df1[df1.course_title=='Creating an animated greeting card via Google Slides']"
   ]
  },
  {
   "cell_type": "code",
   "execution_count": 16,
   "metadata": {},
   "outputs": [],
   "source": [
    "id_duplikat = df1.course_id.value_counts().head(6).index\n",
    "index_loc = []\n",
    "for i in id_duplikat:\n",
    "    index_loc.append([\n",
    "        i,\n",
    "        df1.index[df1.course_id==i]\n",
    "    ])"
   ]
  },
  {
   "cell_type": "code",
   "execution_count": 17,
   "metadata": {},
   "outputs": [
    {
     "data": {
      "text/html": [
       "<div>\n",
       "<style scoped>\n",
       "    .dataframe tbody tr th:only-of-type {\n",
       "        vertical-align: middle;\n",
       "    }\n",
       "\n",
       "    .dataframe tbody tr th {\n",
       "        vertical-align: top;\n",
       "    }\n",
       "\n",
       "    .dataframe thead th {\n",
       "        text-align: right;\n",
       "    }\n",
       "</style>\n",
       "<table border=\"1\" class=\"dataframe\">\n",
       "  <thead>\n",
       "    <tr style=\"text-align: right;\">\n",
       "      <th></th>\n",
       "      <th>course_id</th>\n",
       "      <th>loc_index</th>\n",
       "    </tr>\n",
       "  </thead>\n",
       "  <tbody>\n",
       "    <tr>\n",
       "      <th>0</th>\n",
       "      <td>185526</td>\n",
       "      <td>Int64Index([1234, 1473], dtype='int64')</td>\n",
       "    </tr>\n",
       "    <tr>\n",
       "      <th>1</th>\n",
       "      <td>1084454</td>\n",
       "      <td>Int64Index([463, 1100], dtype='int64')</td>\n",
       "    </tr>\n",
       "    <tr>\n",
       "      <th>2</th>\n",
       "      <td>837322</td>\n",
       "      <td>Int64Index([453, 787], dtype='int64')</td>\n",
       "    </tr>\n",
       "    <tr>\n",
       "      <th>3</th>\n",
       "      <td>28295</td>\n",
       "      <td>Int64Index([2478, 2561], dtype='int64')</td>\n",
       "    </tr>\n",
       "    <tr>\n",
       "      <th>4</th>\n",
       "      <td>1035638</td>\n",
       "      <td>Int64Index([778, 894], dtype='int64')</td>\n",
       "    </tr>\n",
       "    <tr>\n",
       "      <th>5</th>\n",
       "      <td>1157298</td>\n",
       "      <td>Int64Index([454, 788], dtype='int64')</td>\n",
       "    </tr>\n",
       "  </tbody>\n",
       "</table>\n",
       "</div>"
      ],
      "text/plain": [
       "   course_id                                loc_index\n",
       "0  185526     Int64Index([1234, 1473], dtype='int64')\n",
       "1  1084454    Int64Index([463, 1100], dtype='int64') \n",
       "2  837322     Int64Index([453, 787], dtype='int64')  \n",
       "3  28295      Int64Index([2478, 2561], dtype='int64')\n",
       "4  1035638    Int64Index([778, 894], dtype='int64')  \n",
       "5  1157298    Int64Index([454, 788], dtype='int64')  "
      ]
     },
     "execution_count": 17,
     "metadata": {},
     "output_type": "execute_result"
    }
   ],
   "source": [
    "tab_desc4 = pd.DataFrame(index_loc, columns=['course_id', 'loc_index'])\n",
    "tab_desc4"
   ]
  },
  {
   "cell_type": "markdown",
   "metadata": {},
   "source": [
    "- Setiap course yang sama tersebut akan didrop salah satunya"
   ]
  },
  {
   "cell_type": "code",
   "execution_count": 18,
   "metadata": {},
   "outputs": [
    {
     "data": {
      "text/html": [
       "<div>\n",
       "<style scoped>\n",
       "    .dataframe tbody tr th:only-of-type {\n",
       "        vertical-align: middle;\n",
       "    }\n",
       "\n",
       "    .dataframe tbody tr th {\n",
       "        vertical-align: top;\n",
       "    }\n",
       "\n",
       "    .dataframe thead th {\n",
       "        text-align: right;\n",
       "    }\n",
       "</style>\n",
       "<table border=\"1\" class=\"dataframe\">\n",
       "  <thead>\n",
       "    <tr style=\"text-align: right;\">\n",
       "      <th></th>\n",
       "      <th>course_id</th>\n",
       "      <th>course_title</th>\n",
       "      <th>url</th>\n",
       "      <th>is_paid</th>\n",
       "      <th>price</th>\n",
       "      <th>num_subscribers</th>\n",
       "      <th>num_reviews</th>\n",
       "      <th>num_lectures</th>\n",
       "      <th>level</th>\n",
       "      <th>content_duration</th>\n",
       "      <th>published_timestamp</th>\n",
       "      <th>subject</th>\n",
       "    </tr>\n",
       "  </thead>\n",
       "  <tbody>\n",
       "    <tr>\n",
       "      <th>463</th>\n",
       "      <td>1084454</td>\n",
       "      <td>CFA Level 2- Quantitative Methods</td>\n",
       "      <td>https://www.udemy.com/cfa-level-2-quantitative-methods/</td>\n",
       "      <td>True</td>\n",
       "      <td>40</td>\n",
       "      <td>0</td>\n",
       "      <td>0</td>\n",
       "      <td>35</td>\n",
       "      <td>All Levels</td>\n",
       "      <td>5.50</td>\n",
       "      <td>2017-07-02 14:29:35+00:00</td>\n",
       "      <td>Business Finance</td>\n",
       "    </tr>\n",
       "    <tr>\n",
       "      <th>1100</th>\n",
       "      <td>1084454</td>\n",
       "      <td>CFA Level 2- Quantitative Methods</td>\n",
       "      <td>https://www.udemy.com/cfa-level-2-quantitative-methods/</td>\n",
       "      <td>True</td>\n",
       "      <td>40</td>\n",
       "      <td>0</td>\n",
       "      <td>0</td>\n",
       "      <td>35</td>\n",
       "      <td>All Levels</td>\n",
       "      <td>5.50</td>\n",
       "      <td>2017-07-02 14:29:35+00:00</td>\n",
       "      <td>Business Finance</td>\n",
       "    </tr>\n",
       "    <tr>\n",
       "      <th>1234</th>\n",
       "      <td>185526</td>\n",
       "      <td>MicroStation - Células</td>\n",
       "      <td>https://www.udemy.com/microstation-celulas/</td>\n",
       "      <td>True</td>\n",
       "      <td>20</td>\n",
       "      <td>0</td>\n",
       "      <td>0</td>\n",
       "      <td>9</td>\n",
       "      <td>Beginner Level</td>\n",
       "      <td>0.62</td>\n",
       "      <td>2014-04-15 21:48:55+00:00</td>\n",
       "      <td>Graphic Design</td>\n",
       "    </tr>\n",
       "    <tr>\n",
       "      <th>1473</th>\n",
       "      <td>185526</td>\n",
       "      <td>MicroStation - Células</td>\n",
       "      <td>https://www.udemy.com/microstation-celulas/</td>\n",
       "      <td>True</td>\n",
       "      <td>20</td>\n",
       "      <td>0</td>\n",
       "      <td>0</td>\n",
       "      <td>9</td>\n",
       "      <td>Beginner Level</td>\n",
       "      <td>0.62</td>\n",
       "      <td>2014-04-15 21:48:55+00:00</td>\n",
       "      <td>Graphic Design</td>\n",
       "    </tr>\n",
       "  </tbody>\n",
       "</table>\n",
       "</div>"
      ],
      "text/plain": [
       "      course_id                       course_title  \\\n",
       "463   1084454    CFA Level 2- Quantitative Methods   \n",
       "1100  1084454    CFA Level 2- Quantitative Methods   \n",
       "1234  185526     MicroStation - Células              \n",
       "1473  185526     MicroStation - Células              \n",
       "\n",
       "                                                          url  is_paid  price  \\\n",
       "463   https://www.udemy.com/cfa-level-2-quantitative-methods/  True     40      \n",
       "1100  https://www.udemy.com/cfa-level-2-quantitative-methods/  True     40      \n",
       "1234  https://www.udemy.com/microstation-celulas/              True     20      \n",
       "1473  https://www.udemy.com/microstation-celulas/              True     20      \n",
       "\n",
       "      num_subscribers  num_reviews  num_lectures           level  \\\n",
       "463   0                0            35            All Levels       \n",
       "1100  0                0            35            All Levels       \n",
       "1234  0                0            9             Beginner Level   \n",
       "1473  0                0            9             Beginner Level   \n",
       "\n",
       "      content_duration       published_timestamp           subject  \n",
       "463   5.50             2017-07-02 14:29:35+00:00  Business Finance  \n",
       "1100  5.50             2017-07-02 14:29:35+00:00  Business Finance  \n",
       "1234  0.62             2014-04-15 21:48:55+00:00  Graphic Design    \n",
       "1473  0.62             2014-04-15 21:48:55+00:00  Graphic Design    "
      ]
     },
     "execution_count": 18,
     "metadata": {},
     "output_type": "execute_result"
    }
   ],
   "source": [
    "tab_desc5 = df1[(df1.course_id==185526) | (df1.course_id==1084454)]\n",
    "tab_desc5"
   ]
  },
  {
   "cell_type": "code",
   "execution_count": 19,
   "metadata": {},
   "outputs": [
    {
     "data": {
      "image/png": "[encoded data removed]",
      "text/plain": [
       "<Figure size 1080x720 with 2 Axes>"
      ]
     },
     "metadata": {
      "needs_background": "light"
     },
     "output_type": "display_data"
    }
   ],
   "source": [
    "plt.figure(figsize=(15, 10))\n",
    "\n",
    "sns.heatmap(df1.corr(), annot=True, square=True, linewidths=0.25)\n",
    "plt.show()"
   ]
  },
  {
   "cell_type": "markdown",
   "metadata": {},
   "source": [
    "- Hipotesis awal variabel yang berhubungan dengan **Jumlah Subscribers** berdasarkan nilai korelasi tertinggi\n",
    "\n",
    "1. Jumlah Reviews\n",
    "2. Paid or not\n",
    "3. Content duration\n",
    "4. Jumlah Lectures"
   ]
  },
  {
   "cell_type": "markdown",
   "metadata": {},
   "source": [
    "------------------------------------------------------------------------------------------------------------------------------------------------------"
   ]
  },
  {
   "cell_type": "markdown",
   "metadata": {},
   "source": [
    "# (6) EDA without Handling Missing Value"
   ]
  },
  {
   "cell_type": "markdown",
   "metadata": {},
   "source": [
    "------------------------------------------------------------------------------------------------------------------------------------------------------"
   ]
  },
  {
   "cell_type": "markdown",
   "metadata": {},
   "source": [
    "## a. Analisa 1 variabel (Persebaran Data)"
   ]
  },
  {
   "cell_type": "markdown",
   "metadata": {},
   "source": [
    "##### a1. Subscribers"
   ]
  },
  {
   "cell_type": "code",
   "execution_count": 20,
   "metadata": {},
   "outputs": [
    {
     "data": {
      "image/png": "[encoded data removed]",
      "text/plain": [
       "<Figure size 576x360 with 1 Axes>"
      ]
     },
     "metadata": {
      "needs_background": "light"
     },
     "output_type": "display_data"
    },
    {
     "data": {
      "image/png": "[encoded data removed]",
      "text/plain": [
       "<Figure size 432x288 with 1 Axes>"
      ]
     },
     "metadata": {
      "needs_background": "light"
     },
     "output_type": "display_data"
    }
   ],
   "source": [
    "plt.figure(figsize=(8,5))\n",
    "\n",
    "plt.subplot(2,2,1)\n",
    "sns.distplot(df1.num_subscribers, bins=50)\n",
    "plt.title('G1. Histogram of Subscriber', fontsize=15)\n",
    "plt.ylabel('Count', fontsize=12)\n",
    "plt.xlabel('Subscribers', fontsize=12)\n",
    "plt.tick_params(labelsize=10) # ukuran xticks & yticks\n",
    "plt.tight_layout()\n",
    "plt.show()\n",
    "\n",
    "plt.subplot(2,2,2)\n",
    "sns.distplot(df1.num_subscribers, bins=50)\n",
    "plt.title('G1.2 Histogram of Subscriber', fontsize=8)\n",
    "plt.ylabel('Count', fontsize=8)\n",
    "plt.xlabel('Subscribers', fontsize=8)\n",
    "plt.xlim(0,30000)\n",
    "plt.tick_params(labelsize=10) # ukuran xticks & yticks\n",
    "plt.tight_layout()\n",
    "plt.show()"
   ]
  },
  {
   "cell_type": "markdown",
   "metadata": {},
   "source": [
    "- Berdasarkan Grafik G1, bentuk histogram jumlah subscriber merupakan skewness positif. Skewness yang bernilai positif berarti ekor distribusi berada di sebelah kanan nilai terbanyak. Sebagian besar distribusi berada di nilai rendah. Artinya, kemungkinan **Jumlah persebaran data subscriber sebagian besar pada jumlah 0 sampai ± 30000**"
   ]
  },
  {
   "cell_type": "code",
   "execution_count": 21,
   "metadata": {},
   "outputs": [
    {
     "data": {
      "image/png": "[encoded data removed]",
      "text/plain": [
       "<Figure size 576x360 with 1 Axes>"
      ]
     },
     "metadata": {
      "needs_background": "light"
     },
     "output_type": "display_data"
    }
   ],
   "source": [
    "plt.figure(figsize=(8,5))\n",
    "sns.boxplot(df1.num_subscribers, color='salmon')\n",
    "plt.title('G2. Boxplot Subscribers', fontsize=20)\n",
    "plt.show()"
   ]
  },
  {
   "cell_type": "markdown",
   "metadata": {},
   "source": [
    "- Grafik G2 menunjukan bahwa **sebagian besar Persebaran Data berada pada rentang jumlah subscriber yang kecil**"
   ]
  },
  {
   "cell_type": "code",
   "execution_count": 22,
   "metadata": {},
   "outputs": [],
   "source": [
    "uf_subs = (1.5*(df1.num_subscribers.quantile(0.75)-df1.num_subscribers.quantile(0.25))) + df1.num_subscribers.quantile(0.75)\n",
    "b=df1.num_subscribers[df1.num_subscribers<=uf_subs]"
   ]
  },
  {
   "cell_type": "code",
   "execution_count": 23,
   "metadata": {},
   "outputs": [
    {
     "data": {
      "image/png": "[encoded data removed]",
      "text/plain": [
       "<Figure size 576x360 with 1 Axes>"
      ]
     },
     "metadata": {
      "needs_background": "light"
     },
     "output_type": "display_data"
    }
   ],
   "source": [
    "plt.figure(figsize=(8,5))\n",
    "sns.boxplot(df1.num_subscribers[df1.num_subscribers<=3100], color='salmon')\n",
    "plt.title('G2.1 Boxplot Subscribers', fontsize=20)\n",
    "plt.show()"
   ]
  },
  {
   "cell_type": "markdown",
   "metadata": {},
   "source": [
    "- Sebagian besar persebaran data yang dimaksud Grafik G2 ditunjukan pada grafik ini, yaitu hanya pada rentang jumlah subscriber 0 sampai 3102"
   ]
  },
  {
   "cell_type": "code",
   "execution_count": 24,
   "metadata": {},
   "outputs": [],
   "source": [
    "a = df1.num_subscribers.value_counts().head(10)\n",
    "tab_eda1 = pd.DataFrame(a)"
   ]
  },
  {
   "cell_type": "code",
   "execution_count": 25,
   "metadata": {},
   "outputs": [],
   "source": [
    "tab_eda1['Num_Sub'] = tab_eda1.index\n",
    "index = np.arange(1,11)\n",
    "tab_eda1['index'] = index\n",
    "tab_eda1.rename(columns={\"num_subscribers\":\"Jumlah Data\"}, inplace=True)"
   ]
  },
  {
   "cell_type": "code",
   "execution_count": 26,
   "metadata": {},
   "outputs": [
    {
     "data": {
      "text/html": [
       "<div>\n",
       "<style scoped>\n",
       "    .dataframe tbody tr th:only-of-type {\n",
       "        vertical-align: middle;\n",
       "    }\n",
       "\n",
       "    .dataframe tbody tr th {\n",
       "        vertical-align: top;\n",
       "    }\n",
       "\n",
       "    .dataframe thead th {\n",
       "        text-align: right;\n",
       "    }\n",
       "</style>\n",
       "<table border=\"1\" class=\"dataframe\">\n",
       "  <thead>\n",
       "    <tr style=\"text-align: right;\">\n",
       "      <th></th>\n",
       "      <th>Num_Sub</th>\n",
       "      <th>Jumlah Data</th>\n",
       "    </tr>\n",
       "  </thead>\n",
       "  <tbody>\n",
       "    <tr>\n",
       "      <th>1</th>\n",
       "      <td>0</td>\n",
       "      <td>70</td>\n",
       "    </tr>\n",
       "    <tr>\n",
       "      <th>2</th>\n",
       "      <td>1</td>\n",
       "      <td>49</td>\n",
       "    </tr>\n",
       "    <tr>\n",
       "      <th>3</th>\n",
       "      <td>5</td>\n",
       "      <td>28</td>\n",
       "    </tr>\n",
       "    <tr>\n",
       "      <th>4</th>\n",
       "      <td>2</td>\n",
       "      <td>27</td>\n",
       "    </tr>\n",
       "    <tr>\n",
       "      <th>5</th>\n",
       "      <td>4</td>\n",
       "      <td>26</td>\n",
       "    </tr>\n",
       "    <tr>\n",
       "      <th>6</th>\n",
       "      <td>3</td>\n",
       "      <td>26</td>\n",
       "    </tr>\n",
       "    <tr>\n",
       "      <th>7</th>\n",
       "      <td>7</td>\n",
       "      <td>24</td>\n",
       "    </tr>\n",
       "    <tr>\n",
       "      <th>8</th>\n",
       "      <td>11</td>\n",
       "      <td>23</td>\n",
       "    </tr>\n",
       "    <tr>\n",
       "      <th>9</th>\n",
       "      <td>13</td>\n",
       "      <td>19</td>\n",
       "    </tr>\n",
       "    <tr>\n",
       "      <th>10</th>\n",
       "      <td>6</td>\n",
       "      <td>18</td>\n",
       "    </tr>\n",
       "  </tbody>\n",
       "</table>\n",
       "</div>"
      ],
      "text/plain": [
       "    Num_Sub  Jumlah Data\n",
       "1   0        70         \n",
       "2   1        49         \n",
       "3   5        28         \n",
       "4   2        27         \n",
       "5   4        26         \n",
       "6   3        26         \n",
       "7   7        24         \n",
       "8   11       23         \n",
       "9   13       19         \n",
       "10  6        18         "
      ]
     },
     "execution_count": 26,
     "metadata": {},
     "output_type": "execute_result"
    }
   ],
   "source": [
    "newcol = ['Num_Sub','Jumlah Data','index']\n",
    "tab_eda1 = tab_eda1[newcol]\n",
    "tab_eda1 = tab_eda1.set_index(index)\n",
    "tab_eda1.drop(columns='index',inplace=True)\n",
    "tab_eda1"
   ]
  },
  {
   "cell_type": "markdown",
   "metadata": {},
   "source": [
    "- Tabel tab_eda1 di atas merupakan **jumlah 10 data course tertinggi** dari **setiap number subscribers**\n",
    "- Contoh pembacaan : Ada sejumlah 70 course yang memiliki subscriber 0"
   ]
  },
  {
   "cell_type": "code",
   "execution_count": 27,
   "metadata": {},
   "outputs": [],
   "source": [
    "feature_num = df1[['num_subscribers', 'num_reviews', 'num_lectures', 'content_duration', 'price', 'subject', 'level']]\n",
    "for i in feature_num:\n",
    "    if feature_num[i].dtype in ['object','bool']:\n",
    "        pass\n",
    "    elif i == 'price':\n",
    "        pass\n",
    "    else:\n",
    "        feature_num[i +'_log'] = np.log(feature_num[i] + 1)\n",
    "log_feature = [f for f in feature_num.columns if '_log' in f]"
   ]
  },
  {
   "cell_type": "code",
   "execution_count": 28,
   "metadata": {},
   "outputs": [
    {
     "data": {
      "image/png": "[encoded data removed]",
      "text/plain": [
       "<Figure size 648x288 with 1 Axes>"
      ]
     },
     "metadata": {
      "needs_background": "light"
     },
     "output_type": "display_data"
    }
   ],
   "source": [
    "plt.figure(figsize=(9,4))\n",
    "ax = sns.boxplot(x='subject', y='num_subscribers_log', data=feature_num, palette='rainbow')\n",
    "ax.set_xlabel('', fontsize=12)\n",
    "ax.set_ylabel('num_subscribers_log', fontsize=12)\n",
    "ax.set_title('G3. Distribution of num_subscribers_log based on Subject', fontsize=14, weight='bold')\n",
    "plt.show()"
   ]
  },
  {
   "cell_type": "markdown",
   "metadata": {},
   "source": [
    "- Berdasarkan grafik G3, **Web Development** adalah course yang paling banyak diikuti, disusul Business Finance, Graphic Design, dan Musical Instruments.\n",
    "- Masing-masing subject memiliki data yang tidak simetris"
   ]
  },
  {
   "cell_type": "code",
   "execution_count": 29,
   "metadata": {},
   "outputs": [
    {
     "data": {
      "image/png": "[encoded data removed]",
      "text/plain": [
       "<Figure size 648x288 with 1 Axes>"
      ]
     },
     "metadata": {
      "needs_background": "light"
     },
     "output_type": "display_data"
    }
   ],
   "source": [
    "plt.figure(figsize=(9,4))\n",
    "plt.grid()\n",
    "ax = sns.boxplot(x='level', y='num_subscribers_log', data=feature_num, palette='viridis')\n",
    "ax.set_xlabel('', fontsize=12)\n",
    "ax.set_ylabel('num_subscribers_log', fontsize=12)\n",
    "ax.set_title('G4. Distribution of num_subscribers_log based on Level', fontsize=14, weight='bold')\n",
    "plt.show()"
   ]
  },
  {
   "cell_type": "markdown",
   "metadata": {},
   "source": [
    "- Sebagian besar course banyak tersedia pada All level dan Beginner\n",
    "- Expert Level merupakan yang paling sedikit"
   ]
  },
  {
   "cell_type": "markdown",
   "metadata": {},
   "source": [
    "##### a2. Num_reviews"
   ]
  },
  {
   "cell_type": "code",
   "execution_count": 30,
   "metadata": {},
   "outputs": [
    {
     "data": {
      "image/png": "[encoded data removed]",
      "text/plain": [
       "<Figure size 576x360 with 1 Axes>"
      ]
     },
     "metadata": {
      "needs_background": "light"
     },
     "output_type": "display_data"
    }
   ],
   "source": [
    "plt.figure(figsize=(8,5))\n",
    "sns.boxplot(df1.num_reviews)\n",
    "plt.title('G5. Boxplot of num_reviews', fontsize=20)\n",
    "plt.ylabel('Count', fontsize=15)\n",
    "plt.xlabel('Number of Reviews', fontsize=15)  \n",
    "plt.tick_params(labelsize=10) # ukuran xticks & yticks\n",
    "plt.tight_layout()\n",
    "plt.show()"
   ]
  },
  {
   "cell_type": "markdown",
   "metadata": {},
   "source": [
    "- Sebagian besar data berdasarkan grafik G5, memiliki jumlah review yang sedikit"
   ]
  },
  {
   "cell_type": "code",
   "execution_count": 31,
   "metadata": {},
   "outputs": [
    {
     "data": {
      "text/plain": [
       "494"
      ]
     },
     "execution_count": 31,
     "metadata": {},
     "output_type": "execute_result"
    }
   ],
   "source": [
    "uf_review = (1.5*(df1.num_reviews.quantile(0.75)-df1.num_reviews.quantile(0.25))) + df1.num_reviews.quantile(0.75)\n",
    "df1.num_reviews[df1.num_reviews>uf_review].count()"
   ]
  },
  {
   "cell_type": "code",
   "execution_count": 32,
   "metadata": {},
   "outputs": [
    {
     "data": {
      "image/png": "[encoded data removed]",
      "text/plain": [
       "<Figure size 648x288 with 1 Axes>"
      ]
     },
     "metadata": {
      "needs_background": "light"
     },
     "output_type": "display_data"
    }
   ],
   "source": [
    "plt.figure(figsize=(9,4))\n",
    "ax = sns.boxplot(x='subject', y='num_reviews_log', data=feature_num, palette='rainbow')\n",
    "ax.set_xlabel('', fontsize=12)\n",
    "ax.set_ylabel('num_reviews_log', fontsize=12)\n",
    "ax.set_title('G6. Distribution of num_reviews_log based on Subject', fontsize=14, weight='bold')\n",
    "plt.show()"
   ]
  },
  {
   "cell_type": "markdown",
   "metadata": {},
   "source": [
    "- Web Development memiliki data jumlah review yang cukup simetris, artinya memang sebagian besar data pada subject Web Development memiliki rata2 jumlah review yang tinggi. Berbeda dengan 3 lainnya yang tidak simetris."
   ]
  },
  {
   "cell_type": "code",
   "execution_count": 33,
   "metadata": {},
   "outputs": [
    {
     "data": {
      "image/png": "[encoded data removed]",
      "text/plain": [
       "<Figure size 648x288 with 1 Axes>"
      ]
     },
     "metadata": {
      "needs_background": "light"
     },
     "output_type": "display_data"
    }
   ],
   "source": [
    "plt.figure(figsize=(9,4))\n",
    "ax = sns.boxplot(x='level', y='num_reviews_log', data=feature_num, palette='viridis')\n",
    "ax.set_xlabel('', fontsize=12)\n",
    "ax.set_ylabel('num_reviews_log', fontsize=12)\n",
    "ax.set_title('G7. Distribution of num_reviews_log based on Level', fontsize=14, weight='bold')\n",
    "plt.show()"
   ]
  },
  {
   "cell_type": "markdown",
   "metadata": {},
   "source": [
    "- Sebagian besar course pada semua jenis level berada pada rentang jumlah review yang kecil/sedikit"
   ]
  },
  {
   "cell_type": "markdown",
   "metadata": {},
   "source": [
    "##### a3. Num_lectures"
   ]
  },
  {
   "cell_type": "code",
   "execution_count": 34,
   "metadata": {},
   "outputs": [
    {
     "data": {
      "image/png": "[encoded data removed]",
      "text/plain": [
       "<Figure size 576x360 with 1 Axes>"
      ]
     },
     "metadata": {
      "needs_background": "light"
     },
     "output_type": "display_data"
    }
   ],
   "source": [
    "plt.figure(figsize=(8,5))\n",
    "sns.boxplot(df1.num_lectures)\n",
    "plt.title('G8. Boxplot of num_lectures', fontsize=20)\n",
    "plt.ylabel('Count', fontsize=15)\n",
    "plt.xlabel('Number of Lectures', fontsize=15)  \n",
    "plt.tick_params(labelsize=10) # ukuran xticks & yticks\n",
    "plt.tight_layout()\n",
    "plt.show()"
   ]
  },
  {
   "cell_type": "markdown",
   "metadata": {},
   "source": [
    "- Persebaran Jumlah lecture tidak simetris. Sebagan besar course memiliki lecture di rentang 1-50"
   ]
  },
  {
   "cell_type": "code",
   "execution_count": 35,
   "metadata": {},
   "outputs": [
    {
     "data": {
      "text/plain": [
       "1949.0"
      ]
     },
     "execution_count": 35,
     "metadata": {},
     "output_type": "execute_result"
    }
   ],
   "source": [
    "df1.num_subscribers[df1.num_lectures>100].median()"
   ]
  },
  {
   "cell_type": "code",
   "execution_count": 36,
   "metadata": {},
   "outputs": [
    {
     "data": {
      "text/plain": [
       "293"
      ]
     },
     "execution_count": 36,
     "metadata": {},
     "output_type": "execute_result"
    }
   ],
   "source": [
    "uf_lecture = (1.5*(df1.num_lectures.quantile(0.75)-df1.num_lectures.quantile(0.25))) + df1.num_lectures.quantile(0.75)\n",
    "df1.num_lectures[df1.num_lectures>uf_lecture].count()"
   ]
  },
  {
   "cell_type": "markdown",
   "metadata": {},
   "source": [
    "- Berdasarkan grafik G4, terdapat **293 Outlier** dalam data jumlah lectures. Outlier tidak perlu didrop\n",
    "- Upper Fence jumlah lectures adalah 91.875"
   ]
  },
  {
   "cell_type": "markdown",
   "metadata": {},
   "source": [
    "##### a4. price"
   ]
  },
  {
   "cell_type": "code",
   "execution_count": 37,
   "metadata": {},
   "outputs": [
    {
     "data": {
      "image/png": "[encoded data removed]",
      "text/plain": [
       "<Figure size 576x360 with 1 Axes>"
      ]
     },
     "metadata": {
      "needs_background": "light"
     },
     "output_type": "display_data"
    }
   ],
   "source": [
    "plt.figure(figsize=(8,5))\n",
    "sns.boxplot(df1.price)\n",
    "plt.title('G9. Boxplot of Price', fontsize=20)\n",
    "plt.ylabel('Count', fontsize=15)\n",
    "plt.xlabel('Number of Price', fontsize=15)  \n",
    "plt.tick_params(labelsize=10) # ukuran xticks & yticks\n",
    "plt.tight_layout()\n",
    "plt.show()"
   ]
  },
  {
   "cell_type": "markdown",
   "metadata": {},
   "source": [
    "- Harga terdistribusi secara skewness negatif. Sebagian besar data harga berada pada rentang harga yg rendah"
   ]
  },
  {
   "cell_type": "code",
   "execution_count": 38,
   "metadata": {},
   "outputs": [
    {
     "data": {
      "text/plain": [
       "0"
      ]
     },
     "execution_count": 38,
     "metadata": {},
     "output_type": "execute_result"
    }
   ],
   "source": [
    "uf_price = (1.5*(df1.price.quantile(0.75)-df1.price.quantile(0.25))) + df1.price.quantile(0.75)\n",
    "df1.price[df1.price>uf_price].count()"
   ]
  },
  {
   "cell_type": "markdown",
   "metadata": {},
   "source": [
    "- Berdasarkan grafik G5, **Tidak terdapat Outlier** dalam data price\n",
    "- Upper Fence price adalah 207.5"
   ]
  },
  {
   "cell_type": "code",
   "execution_count": 39,
   "metadata": {},
   "outputs": [
    {
     "data": {
      "image/png": "[encoded data removed]",
      "text/plain": [
       "<Figure size 648x288 with 1 Axes>"
      ]
     },
     "metadata": {
      "needs_background": "light"
     },
     "output_type": "display_data"
    }
   ],
   "source": [
    "plt.figure(figsize=(9,4))\n",
    "ax = sns.boxplot(x='subject', y='price', data=feature_num, palette='rainbow')\n",
    "ax.set_xlabel('', fontsize=12)\n",
    "ax.set_ylabel('price', fontsize=12)\n",
    "ax.set_title('G10. Distribution of Price based on Subject', fontsize=14, weight='bold')\n",
    "plt.show()"
   ]
  },
  {
   "cell_type": "markdown",
   "metadata": {},
   "source": [
    "- Sebagian besar course yang memiliki harga tinggi ialah course dengan Subject Web Development"
   ]
  },
  {
   "cell_type": "code",
   "execution_count": 40,
   "metadata": {},
   "outputs": [
    {
     "data": {
      "image/png": "[encoded data removed]",
      "text/plain": [
       "<Figure size 648x288 with 1 Axes>"
      ]
     },
     "metadata": {
      "needs_background": "light"
     },
     "output_type": "display_data"
    }
   ],
   "source": [
    "plt.figure(figsize=(9,4))\n",
    "ax = sns.boxplot(x='level', y='price', data=feature_num, palette='viridis')\n",
    "ax.set_xlabel('', fontsize=12)\n",
    "ax.set_ylabel('price', fontsize=12)\n",
    "ax.set_title('G11. Distribution of Price based on Level', fontsize=14, weight='bold')\n",
    "plt.show()"
   ]
  },
  {
   "cell_type": "markdown",
   "metadata": {},
   "source": [
    "- Course dengan level Expert merupakan course yang mendominasi harga tinggi"
   ]
  },
  {
   "cell_type": "markdown",
   "metadata": {},
   "source": [
    "##### a5. Content Duration"
   ]
  },
  {
   "cell_type": "code",
   "execution_count": 41,
   "metadata": {},
   "outputs": [
    {
     "data": {
      "image/png": "[encoded data removed]",
      "text/plain": [
       "<Figure size 576x360 with 1 Axes>"
      ]
     },
     "metadata": {
      "needs_background": "light"
     },
     "output_type": "display_data"
    }
   ],
   "source": [
    "plt.figure(figsize=(8,5))\n",
    "sns.boxplot(df1.content_duration)\n",
    "plt.title('G12. Boxplot of Content Duration', fontsize=20)\n",
    "plt.ylabel('Count', fontsize=15)\n",
    "plt.xlabel('Content Duration', fontsize=15)  \n",
    "plt.tick_params(labelsize=10) # ukuran xticks & yticks\n",
    "plt.tight_layout()\n",
    "plt.show()"
   ]
  },
  {
   "cell_type": "markdown",
   "metadata": {},
   "source": [
    "- Sebagian besar course memiliki durasi konten singkat"
   ]
  },
  {
   "cell_type": "code",
   "execution_count": 42,
   "metadata": {},
   "outputs": [
    {
     "data": {
      "text/plain": [
       "313"
      ]
     },
     "execution_count": 42,
     "metadata": {},
     "output_type": "execute_result"
    }
   ],
   "source": [
    "uf_duration = (1.5*(df1.content_duration.quantile(0.75)-df1.content_duration.quantile(0.25))) + df1.content_duration.quantile(0.75)\n",
    "df1.content_duration[df1.content_duration>uf_duration].count()"
   ]
  },
  {
   "cell_type": "markdown",
   "metadata": {},
   "source": [
    "- Berdasarkan grafik G6, **Terdapat 313 Outlier** dalam data content duration\n",
    "- Upper Fence content duration adalah 9.75"
   ]
  },
  {
   "cell_type": "markdown",
   "metadata": {},
   "source": [
    "## b. Analisa 2 variabel"
   ]
  },
  {
   "cell_type": "markdown",
   "metadata": {},
   "source": [
    "##### b1. Subscribers vs Review"
   ]
  },
  {
   "cell_type": "code",
   "execution_count": 43,
   "metadata": {},
   "outputs": [
    {
     "data": {
      "text/html": [
       "<div>\n",
       "<style scoped>\n",
       "    .dataframe tbody tr th:only-of-type {\n",
       "        vertical-align: middle;\n",
       "    }\n",
       "\n",
       "    .dataframe tbody tr th {\n",
       "        vertical-align: top;\n",
       "    }\n",
       "\n",
       "    .dataframe thead th {\n",
       "        text-align: right;\n",
       "    }\n",
       "</style>\n",
       "<table border=\"1\" class=\"dataframe\">\n",
       "  <thead>\n",
       "    <tr style=\"text-align: right;\">\n",
       "      <th></th>\n",
       "      <th>num_reviews</th>\n",
       "      <th>num_subscribers</th>\n",
       "    </tr>\n",
       "  </thead>\n",
       "  <tbody>\n",
       "    <tr>\n",
       "      <th>1050</th>\n",
       "      <td>1</td>\n",
       "      <td>7</td>\n",
       "    </tr>\n",
       "    <tr>\n",
       "      <th>1326</th>\n",
       "      <td>1</td>\n",
       "      <td>2</td>\n",
       "    </tr>\n",
       "    <tr>\n",
       "      <th>1323</th>\n",
       "      <td>1</td>\n",
       "      <td>8</td>\n",
       "    </tr>\n",
       "    <tr>\n",
       "      <th>1319</th>\n",
       "      <td>1</td>\n",
       "      <td>3</td>\n",
       "    </tr>\n",
       "    <tr>\n",
       "      <th>250</th>\n",
       "      <td>1</td>\n",
       "      <td>12</td>\n",
       "    </tr>\n",
       "  </tbody>\n",
       "</table>\n",
       "</div>"
      ],
      "text/plain": [
       "      num_reviews  num_subscribers\n",
       "1050  1            7              \n",
       "1326  1            2              \n",
       "1323  1            8              \n",
       "1319  1            3              \n",
       "250   1            12             "
      ]
     },
     "execution_count": 43,
     "metadata": {},
     "output_type": "execute_result"
    }
   ],
   "source": [
    "tab_eda2 = df1[['num_reviews','num_subscribers']][(df1.num_subscribers>0) & (df1.num_reviews>0)].sort_values(by='num_reviews')\n",
    "tab_eda2.head()"
   ]
  },
  {
   "cell_type": "code",
   "execution_count": 44,
   "metadata": {},
   "outputs": [
    {
     "data": {
      "image/png": "[encoded data removed]",
      "text/plain": [
       "<Figure size 576x432 with 1 Axes>"
      ]
     },
     "metadata": {
      "needs_background": "light"
     },
     "output_type": "display_data"
    }
   ],
   "source": [
    "plt.figure(figsize=(8,6))\n",
    "sns.scatterplot(x='num_reviews', y='num_subscribers', data=tab_eda2, color='g')\n",
    "plt.title('G13. Number Reviews vs Number Subscribers', fontsize=15)\n",
    "plt.xlabel('num_reviews', fontsize=12)\n",
    "plt.ylabel('num_subscribers', fontsize=12)\n",
    "plt.show()"
   ]
  },
  {
   "cell_type": "markdown",
   "metadata": {},
   "source": [
    "- Secara umum memang berdasarkan grafik G7, **semakin banyak reviewers, subscriber semakin besar.** Dan kenaikan jumlah subscribers mulai stabil saat num_reviews >11rb"
   ]
  },
  {
   "cell_type": "markdown",
   "metadata": {},
   "source": [
    "##### b2. Subscribers vs is_paid"
   ]
  },
  {
   "cell_type": "code",
   "execution_count": 45,
   "metadata": {},
   "outputs": [
    {
     "data": {
      "text/html": [
       "<div>\n",
       "<style scoped>\n",
       "    .dataframe tbody tr th:only-of-type {\n",
       "        vertical-align: middle;\n",
       "    }\n",
       "\n",
       "    .dataframe tbody tr th {\n",
       "        vertical-align: top;\n",
       "    }\n",
       "\n",
       "    .dataframe thead th {\n",
       "        text-align: right;\n",
       "    }\n",
       "</style>\n",
       "<table border=\"1\" class=\"dataframe\">\n",
       "  <thead>\n",
       "    <tr style=\"text-align: right;\">\n",
       "      <th>col_0</th>\n",
       "      <th>Jumlah</th>\n",
       "    </tr>\n",
       "    <tr>\n",
       "      <th>is_paid</th>\n",
       "      <th></th>\n",
       "    </tr>\n",
       "  </thead>\n",
       "  <tbody>\n",
       "    <tr>\n",
       "      <th>True</th>\n",
       "      <td>8183595</td>\n",
       "    </tr>\n",
       "    <tr>\n",
       "      <th>False</th>\n",
       "      <td>3575525</td>\n",
       "    </tr>\n",
       "  </tbody>\n",
       "</table>\n",
       "</div>"
      ],
      "text/plain": [
       "col_0     Jumlah\n",
       "is_paid         \n",
       "True     8183595\n",
       "False    3575525"
      ]
     },
     "execution_count": 45,
     "metadata": {},
     "output_type": "execute_result"
    }
   ],
   "source": [
    "tab_eda3 = pd.crosstab(index=df1.is_paid, columns='Jumlah', values=df1.num_subscribers, aggfunc='sum').sort_values(by='Jumlah', ascending=False)\n",
    "tab_eda3"
   ]
  },
  {
   "cell_type": "code",
   "execution_count": 46,
   "metadata": {},
   "outputs": [
    {
     "data": {
      "image/png": "[encoded data removed]",
      "text/plain": [
       "<Figure size 648x432 with 1 Axes>"
      ]
     },
     "metadata": {
      "needs_background": "light"
     },
     "output_type": "display_data"
    }
   ],
   "source": [
    "(pd.crosstab(index=df1.is_paid, columns='Jumlah', values=df1.num_subscribers, aggfunc='sum').sort_values(by='Jumlah', ascending=False)).plot(\n",
    "    figsize=(9,6), \n",
    "    kind='bar',\n",
    "    color = 'ck'\n",
    ")\n",
    "plt.title('G14. Efek Tipe Lisensi dengan Jumlah Subscriber', fontsize=15)\n",
    "plt.ylabel('Jumlah Subscribers', color ='m', fontsize=12)\n",
    "plt.xlabel('is_paid?', color='m', fontsize=12)  \n",
    "plt.tick_params(labelsize=10)\n",
    "plt.xticks(rotation=360)\n",
    "plt.show()"
   ]
  },
  {
   "cell_type": "markdown",
   "metadata": {},
   "source": [
    "- **Tipe konten berbayar lebih banyak mendapatkan jumlah subscriber nya dibandingkan yang tidak berbayar**. Akan tetapi, disini lisensi berbayar ini memiliki price yang beraneka ragam. Oleh karena itu perlu dilihat lebih lanjut lagi apakah harga memiliki pengaruh juga terhadap Jumlah subscribers nya "
   ]
  },
  {
   "cell_type": "markdown",
   "metadata": {},
   "source": [
    "##### b3. Subscribers Vs Price"
   ]
  },
  {
   "cell_type": "code",
   "execution_count": 47,
   "metadata": {},
   "outputs": [
    {
     "data": {
      "text/html": [
       "<div>\n",
       "<style scoped>\n",
       "    .dataframe tbody tr th:only-of-type {\n",
       "        vertical-align: middle;\n",
       "    }\n",
       "\n",
       "    .dataframe tbody tr th {\n",
       "        vertical-align: top;\n",
       "    }\n",
       "\n",
       "    .dataframe thead th {\n",
       "        text-align: right;\n",
       "    }\n",
       "</style>\n",
       "<table border=\"1\" class=\"dataframe\">\n",
       "  <thead>\n",
       "    <tr style=\"text-align: right;\">\n",
       "      <th>col_0</th>\n",
       "      <th>Total Subscribers</th>\n",
       "    </tr>\n",
       "    <tr>\n",
       "      <th>price</th>\n",
       "      <th></th>\n",
       "    </tr>\n",
       "  </thead>\n",
       "  <tbody>\n",
       "    <tr>\n",
       "      <th>50</th>\n",
       "      <td>717383</td>\n",
       "    </tr>\n",
       "    <tr>\n",
       "      <th>195</th>\n",
       "      <td>939254</td>\n",
       "    </tr>\n",
       "    <tr>\n",
       "      <th>20</th>\n",
       "      <td>1320658</td>\n",
       "    </tr>\n",
       "    <tr>\n",
       "      <th>200</th>\n",
       "      <td>1336331</td>\n",
       "    </tr>\n",
       "    <tr>\n",
       "      <th>0</th>\n",
       "      <td>3575525</td>\n",
       "    </tr>\n",
       "  </tbody>\n",
       "</table>\n",
       "</div>"
      ],
      "text/plain": [
       "col_0  Total Subscribers\n",
       "price                   \n",
       "50     717383           \n",
       "195    939254           \n",
       "20     1320658          \n",
       "200    1336331          \n",
       "0      3575525          "
      ]
     },
     "execution_count": 47,
     "metadata": {},
     "output_type": "execute_result"
    }
   ],
   "source": [
    "tab_eda4 = pd.crosstab(index=df1.price, columns='Total Subscribers', values=df1.num_subscribers, aggfunc='sum').sort_values(by='Total Subscribers', ascending=True)\n",
    "tab_eda4.tail()"
   ]
  },
  {
   "cell_type": "markdown",
   "metadata": {},
   "source": [
    "- Berdasarkan tab_eda4 di atas, Jumlah price 0 (lisensi gratis) memang memperoleh subscribers terbanyak, sedangkan varian berbayar dengan beraneka ragam price, maksimal hanya mendappatkan jumlah subscribers 1,3 jutaan. "
   ]
  },
  {
   "cell_type": "code",
   "execution_count": 48,
   "metadata": {},
   "outputs": [
    {
     "data": {
      "image/png": "[encoded data removed]",
      "text/plain": [
       "<Figure size 576x360 with 1 Axes>"
      ]
     },
     "metadata": {
      "needs_background": "light"
     },
     "output_type": "display_data"
    }
   ],
   "source": [
    "(pd.crosstab(index=df1.price, columns='Total Subscribers', values=df1.num_subscribers, aggfunc='sum')).plot(\n",
    "    figsize=(8,5), \n",
    "    kind='line',\n",
    "    color = 'c'\n",
    ")\n",
    "plt.title('G15. Efek Price dengan Jumlah Subscriber', fontsize=15)\n",
    "plt.ylabel('Jumlah Subscribers', color ='m', fontsize=12)\n",
    "plt.xlabel('Price', color='m', fontsize=12)  \n",
    "plt.tick_params(labelsize=10)\n",
    "plt.xticks(rotation=360)\n",
    "plt.show()"
   ]
  },
  {
   "cell_type": "markdown",
   "metadata": {},
   "source": [
    "- Berdasarkan grafik G9, memang terjadi penurunan saat course menjadi lisensi berbayar, ini merupakan hal yang wajar, karena dalam lisensi berbayar tsb di pecah dalam beberapa variasi harga. Akan tetapi berdasarkan data crosstab sebelumnya jelas menyatakan bahwa jumlah subscriber dari konten berbayar jauh lebih banyak di bandingkan yang gratis **jika hanya dikelompokan menjadi 2 kategori (Gratis dan Berbayar). Jumlah harga memang tidak terlalu berpengaruh terhadap jumlah subscribers, namun ada beberapa titik yang dapat mencapai jumlah maksimal subscribernya. Artinya, ketika membuat konten dengan lisensi berbayar, harus diperhatikan lebih lanjut mengenai range harga yang tepat agar tetep bisa mendapatkan jumlah subscriber maksimal**"
   ]
  },
  {
   "cell_type": "markdown",
   "metadata": {},
   "source": [
    "- Disini saya coba membuat 3 kategori price, untuk melihat range harga berapa yang dapat mencapai subscribers maksimal"
   ]
  },
  {
   "cell_type": "code",
   "execution_count": 49,
   "metadata": {},
   "outputs": [],
   "source": [
    "tab_eda5 = df1[['num_subscribers', 'price','subject','level']][df1.price>0]"
   ]
  },
  {
   "cell_type": "code",
   "execution_count": 50,
   "metadata": {},
   "outputs": [
    {
     "data": {
      "text/html": [
       "<div>\n",
       "<style scoped>\n",
       "    .dataframe tbody tr th:only-of-type {\n",
       "        vertical-align: middle;\n",
       "    }\n",
       "\n",
       "    .dataframe tbody tr th {\n",
       "        vertical-align: top;\n",
       "    }\n",
       "\n",
       "    .dataframe thead th {\n",
       "        text-align: right;\n",
       "    }\n",
       "</style>\n",
       "<table border=\"1\" class=\"dataframe\">\n",
       "  <thead>\n",
       "    <tr style=\"text-align: right;\">\n",
       "      <th></th>\n",
       "      <th>num_subscribers</th>\n",
       "      <th>price</th>\n",
       "      <th>subject</th>\n",
       "      <th>level</th>\n",
       "      <th>price_bin</th>\n",
       "    </tr>\n",
       "  </thead>\n",
       "  <tbody>\n",
       "    <tr>\n",
       "      <th>0</th>\n",
       "      <td>2147</td>\n",
       "      <td>200</td>\n",
       "      <td>Business Finance</td>\n",
       "      <td>All Levels</td>\n",
       "      <td>Mahal</td>\n",
       "    </tr>\n",
       "    <tr>\n",
       "      <th>1</th>\n",
       "      <td>2792</td>\n",
       "      <td>75</td>\n",
       "      <td>Business Finance</td>\n",
       "      <td>All Levels</td>\n",
       "      <td>Terjangkau</td>\n",
       "    </tr>\n",
       "    <tr>\n",
       "      <th>2</th>\n",
       "      <td>2174</td>\n",
       "      <td>45</td>\n",
       "      <td>Business Finance</td>\n",
       "      <td>Intermediate Level</td>\n",
       "      <td>Terjangkau</td>\n",
       "    </tr>\n",
       "    <tr>\n",
       "      <th>3</th>\n",
       "      <td>2451</td>\n",
       "      <td>95</td>\n",
       "      <td>Business Finance</td>\n",
       "      <td>All Levels</td>\n",
       "      <td>Mahal</td>\n",
       "    </tr>\n",
       "    <tr>\n",
       "      <th>4</th>\n",
       "      <td>1276</td>\n",
       "      <td>200</td>\n",
       "      <td>Business Finance</td>\n",
       "      <td>Intermediate Level</td>\n",
       "      <td>Mahal</td>\n",
       "    </tr>\n",
       "    <tr>\n",
       "      <th>5</th>\n",
       "      <td>9221</td>\n",
       "      <td>150</td>\n",
       "      <td>Business Finance</td>\n",
       "      <td>All Levels</td>\n",
       "      <td>Mahal</td>\n",
       "    </tr>\n",
       "    <tr>\n",
       "      <th>6</th>\n",
       "      <td>1540</td>\n",
       "      <td>65</td>\n",
       "      <td>Business Finance</td>\n",
       "      <td>Beginner Level</td>\n",
       "      <td>Terjangkau</td>\n",
       "    </tr>\n",
       "    <tr>\n",
       "      <th>7</th>\n",
       "      <td>2917</td>\n",
       "      <td>95</td>\n",
       "      <td>Business Finance</td>\n",
       "      <td>All Levels</td>\n",
       "      <td>Mahal</td>\n",
       "    </tr>\n",
       "    <tr>\n",
       "      <th>8</th>\n",
       "      <td>5172</td>\n",
       "      <td>195</td>\n",
       "      <td>Business Finance</td>\n",
       "      <td>Expert Level</td>\n",
       "      <td>Mahal</td>\n",
       "    </tr>\n",
       "    <tr>\n",
       "      <th>9</th>\n",
       "      <td>827</td>\n",
       "      <td>200</td>\n",
       "      <td>Business Finance</td>\n",
       "      <td>All Levels</td>\n",
       "      <td>Mahal</td>\n",
       "    </tr>\n",
       "  </tbody>\n",
       "</table>\n",
       "</div>"
      ],
      "text/plain": [
       "   num_subscribers  price           subject               level   price_bin\n",
       "0  2147             200    Business Finance  All Levels          Mahal     \n",
       "1  2792             75     Business Finance  All Levels          Terjangkau\n",
       "2  2174             45     Business Finance  Intermediate Level  Terjangkau\n",
       "3  2451             95     Business Finance  All Levels          Mahal     \n",
       "4  1276             200    Business Finance  Intermediate Level  Mahal     \n",
       "5  9221             150    Business Finance  All Levels          Mahal     \n",
       "6  1540             65     Business Finance  Beginner Level      Terjangkau\n",
       "7  2917             95     Business Finance  All Levels          Mahal     \n",
       "8  5172             195    Business Finance  Expert Level        Mahal     \n",
       "9  827              200    Business Finance  All Levels          Mahal     "
      ]
     },
     "execution_count": 50,
     "metadata": {},
     "output_type": "execute_result"
    }
   ],
   "source": [
    "tab_eda5['price_bin'] = pd.qcut(tab_eda5.price, 3, labels=['Murah', 'Terjangkau' ,'Mahal'])\n",
    "tab_eda5.head(10)"
   ]
  },
  {
   "cell_type": "markdown",
   "metadata": {},
   "source": [
    "- Binning digunakan dengan menggunakan qcut agar dapat membagi secara merata jumlah data berdasarkan nilai quantile nya. Sehingga penarikan kesimpulan akan lebih akurat"
   ]
  },
  {
   "cell_type": "code",
   "execution_count": 51,
   "metadata": {},
   "outputs": [
    {
     "data": {
      "text/html": [
       "<div>\n",
       "<style scoped>\n",
       "    .dataframe tbody tr th:only-of-type {\n",
       "        vertical-align: middle;\n",
       "    }\n",
       "\n",
       "    .dataframe tbody tr th {\n",
       "        vertical-align: top;\n",
       "    }\n",
       "\n",
       "    .dataframe thead th {\n",
       "        text-align: right;\n",
       "    }\n",
       "</style>\n",
       "<table border=\"1\" class=\"dataframe\">\n",
       "  <thead>\n",
       "    <tr style=\"text-align: right;\">\n",
       "      <th>price_bin</th>\n",
       "      <th>Murah</th>\n",
       "      <th>Terjangkau</th>\n",
       "      <th>Mahal</th>\n",
       "    </tr>\n",
       "    <tr>\n",
       "      <th>row_0</th>\n",
       "      <th></th>\n",
       "      <th></th>\n",
       "      <th></th>\n",
       "    </tr>\n",
       "  </thead>\n",
       "  <tbody>\n",
       "    <tr>\n",
       "      <th>Jumlah Data</th>\n",
       "      <td>1150</td>\n",
       "      <td>1131</td>\n",
       "      <td>1087</td>\n",
       "    </tr>\n",
       "  </tbody>\n",
       "</table>\n",
       "</div>"
      ],
      "text/plain": [
       "price_bin    Murah  Terjangkau  Mahal\n",
       "row_0                                \n",
       "Jumlah Data  1150   1131        1087 "
      ]
     },
     "execution_count": 51,
     "metadata": {},
     "output_type": "execute_result"
    }
   ],
   "source": [
    "tab_eda6 = pd.crosstab(index='Jumlah Data', columns=tab_eda5.price_bin, values=tab_eda5.num_subscribers, aggfunc='count')\n",
    "tab_eda6"
   ]
  },
  {
   "cell_type": "code",
   "execution_count": 52,
   "metadata": {},
   "outputs": [
    {
     "data": {
      "text/html": [
       "<div>\n",
       "<style scoped>\n",
       "    .dataframe tbody tr th:only-of-type {\n",
       "        vertical-align: middle;\n",
       "    }\n",
       "\n",
       "    .dataframe tbody tr th {\n",
       "        vertical-align: top;\n",
       "    }\n",
       "\n",
       "    .dataframe thead th {\n",
       "        text-align: right;\n",
       "    }\n",
       "</style>\n",
       "<table border=\"1\" class=\"dataframe\">\n",
       "  <thead>\n",
       "    <tr style=\"text-align: right;\">\n",
       "      <th>price_bin</th>\n",
       "      <th>Murah</th>\n",
       "      <th>Terjangkau</th>\n",
       "      <th>Mahal</th>\n",
       "    </tr>\n",
       "    <tr>\n",
       "      <th>row_0</th>\n",
       "      <th></th>\n",
       "      <th></th>\n",
       "      <th></th>\n",
       "    </tr>\n",
       "  </thead>\n",
       "  <tbody>\n",
       "    <tr>\n",
       "      <th>Jumlah Subscribers</th>\n",
       "      <td>1778233</td>\n",
       "      <td>1855861</td>\n",
       "      <td>4549501</td>\n",
       "    </tr>\n",
       "  </tbody>\n",
       "</table>\n",
       "</div>"
      ],
      "text/plain": [
       "price_bin             Murah  Terjangkau    Mahal\n",
       "row_0                                           \n",
       "Jumlah Subscribers  1778233  1855861     4549501"
      ]
     },
     "execution_count": 52,
     "metadata": {},
     "output_type": "execute_result"
    }
   ],
   "source": [
    "tab_eda61 = pd.crosstab(index='Jumlah Subscribers', columns=tab_eda5.price_bin, values=tab_eda5.num_subscribers, aggfunc='sum')\n",
    "tab_eda61"
   ]
  },
  {
   "cell_type": "code",
   "execution_count": 53,
   "metadata": {},
   "outputs": [
    {
     "data": {
      "text/plain": [
       "[(75.0, 200.0], (30.0, 75.0], (19.999, 30.0]]\n",
       "Categories (3, interval[float64]): [(19.999, 30.0] < (30.0, 75.0] < (75.0, 200.0]]"
      ]
     },
     "execution_count": 53,
     "metadata": {},
     "output_type": "execute_result"
    }
   ],
   "source": [
    "out = pd.qcut(tab_eda5.price,3)\n",
    "out.unique()"
   ]
  },
  {
   "cell_type": "code",
   "execution_count": 54,
   "metadata": {},
   "outputs": [
    {
     "data": {
      "image/png": "[encoded data removed]",
      "text/plain": [
       "<Figure size 576x432 with 1 Axes>"
      ]
     },
     "metadata": {
      "needs_background": "light"
     },
     "output_type": "display_data"
    }
   ],
   "source": [
    "plt.figure(figsize=(8,6))\n",
    "sns.barplot(x=tab_eda61.columns, y=tab_eda61.iloc[0], palette='rocket')\n",
    "plt.xlabel('Price Category', c='m', fontsize=12)\n",
    "plt.ylabel('Jumlah Subscribers', c='m', fontsize=12)\n",
    "for i in range(0,3):\n",
    "    plt.text(i-0.2, 100000, tab_eda61.iloc[0][i], fontweight='bold', color='white')\n",
    "plt.title('G16. Price Range vs Jumlah Subscribers', fontsize=15)\n",
    "plt.show()"
   ]
  },
  {
   "cell_type": "markdown",
   "metadata": {},
   "source": [
    "- Berdasarkan hasil binning, ternyata **range Kategori harga Mahal (75-200 USD)** yang mendapatkan jumlah subscribers **maksimal**"
   ]
  },
  {
   "cell_type": "code",
   "execution_count": 55,
   "metadata": {},
   "outputs": [
    {
     "data": {
      "text/html": [
       "<div>\n",
       "<style scoped>\n",
       "    .dataframe tbody tr th:only-of-type {\n",
       "        vertical-align: middle;\n",
       "    }\n",
       "\n",
       "    .dataframe tbody tr th {\n",
       "        vertical-align: top;\n",
       "    }\n",
       "\n",
       "    .dataframe thead th {\n",
       "        text-align: right;\n",
       "    }\n",
       "</style>\n",
       "<table border=\"1\" class=\"dataframe\">\n",
       "  <thead>\n",
       "    <tr style=\"text-align: right;\">\n",
       "      <th>level</th>\n",
       "      <th>All Levels</th>\n",
       "      <th>Beginner Level</th>\n",
       "      <th>Expert Level</th>\n",
       "      <th>Intermediate Level</th>\n",
       "    </tr>\n",
       "    <tr>\n",
       "      <th>row_0</th>\n",
       "      <th></th>\n",
       "      <th></th>\n",
       "      <th></th>\n",
       "      <th></th>\n",
       "    </tr>\n",
       "  </thead>\n",
       "  <tbody>\n",
       "    <tr>\n",
       "      <th>Jumlah Subscriber</th>\n",
       "      <td>3123740</td>\n",
       "      <td>1158367</td>\n",
       "      <td>30434</td>\n",
       "      <td>236960</td>\n",
       "    </tr>\n",
       "  </tbody>\n",
       "</table>\n",
       "</div>"
      ],
      "text/plain": [
       "level              All Levels  Beginner Level  Expert Level  \\\n",
       "row_0                                                         \n",
       "Jumlah Subscriber  3123740     1158367         30434          \n",
       "\n",
       "level              Intermediate Level  \n",
       "row_0                                  \n",
       "Jumlah Subscriber  236960              "
      ]
     },
     "execution_count": 55,
     "metadata": {},
     "output_type": "execute_result"
    }
   ],
   "source": [
    "tab_eda7 = tab_eda5[tab_eda5.price_bin=='Mahal']\n",
    "tab_eda71 = pd.crosstab(index='Jumlah Subscriber', columns=tab_eda7.level, values=tab_eda7.num_subscribers, aggfunc='sum')\n",
    "tab_eda71"
   ]
  },
  {
   "cell_type": "markdown",
   "metadata": {},
   "source": [
    "- Berdasarkan grafik G10 dan tab_eda71, untuk memaksimalkan jumlah subcribers pada range harga mahal ialah dengan menerapkan All Levels pada course nya"
   ]
  },
  {
   "cell_type": "code",
   "execution_count": 56,
   "metadata": {},
   "outputs": [
    {
     "data": {
      "text/html": [
       "<div>\n",
       "<style scoped>\n",
       "    .dataframe tbody tr th:only-of-type {\n",
       "        vertical-align: middle;\n",
       "    }\n",
       "\n",
       "    .dataframe tbody tr th {\n",
       "        vertical-align: top;\n",
       "    }\n",
       "\n",
       "    .dataframe thead th {\n",
       "        text-align: right;\n",
       "    }\n",
       "</style>\n",
       "<table border=\"1\" class=\"dataframe\">\n",
       "  <thead>\n",
       "    <tr style=\"text-align: right;\">\n",
       "      <th>subject</th>\n",
       "      <th>Business Finance</th>\n",
       "      <th>Graphic Design</th>\n",
       "      <th>Musical Instruments</th>\n",
       "      <th>Web Development</th>\n",
       "    </tr>\n",
       "    <tr>\n",
       "      <th>row_0</th>\n",
       "      <th></th>\n",
       "      <th></th>\n",
       "      <th></th>\n",
       "      <th></th>\n",
       "    </tr>\n",
       "  </thead>\n",
       "  <tbody>\n",
       "    <tr>\n",
       "      <th>Jumlah Subscriber</th>\n",
       "      <td>634781</td>\n",
       "      <td>387982</td>\n",
       "      <td>243389</td>\n",
       "      <td>3283349</td>\n",
       "    </tr>\n",
       "  </tbody>\n",
       "</table>\n",
       "</div>"
      ],
      "text/plain": [
       "subject            Business Finance  Graphic Design  Musical Instruments  \\\n",
       "row_0                                                                      \n",
       "Jumlah Subscriber  634781            387982          243389                \n",
       "\n",
       "subject            Web Development  \n",
       "row_0                               \n",
       "Jumlah Subscriber  3283349          "
      ]
     },
     "execution_count": 56,
     "metadata": {},
     "output_type": "execute_result"
    }
   ],
   "source": [
    "tab_eda72 = pd.crosstab(index='Jumlah Subscriber', columns=tab_eda7.subject, values=tab_eda7.num_subscribers, aggfunc='sum')\n",
    "tab_eda72"
   ]
  },
  {
   "cell_type": "markdown",
   "metadata": {},
   "source": [
    "- Berdasarkan grafik G10 dan tab_eda72, untuk memaksimalkan jumlah subcribers pada range harga mahal ialah dengan subject Web Development"
   ]
  },
  {
   "cell_type": "markdown",
   "metadata": {},
   "source": [
    "- Sehingga berdasarkan analisa pada harga ini, Jumlah subscriber dapat diperoleh maksimal pada range harga **Mahal (75-200)**, dengan subject **Web Development**, dan level **All Level**"
   ]
  },
  {
   "cell_type": "markdown",
   "metadata": {},
   "source": [
    "##### b4. Subscribers vs Content Duration"
   ]
  },
  {
   "cell_type": "code",
   "execution_count": 57,
   "metadata": {},
   "outputs": [],
   "source": [
    "tab_eda9 = df1[['num_subscribers', 'num_reviews','num_lectures', 'content_duration', 'level', 'subject', 'price']][(df1.content_duration>0)].sort_values(by='content_duration')"
   ]
  },
  {
   "cell_type": "code",
   "execution_count": 58,
   "metadata": {},
   "outputs": [
    {
     "data": {
      "image/png": "[encoded data removed]",
      "text/plain": [
       "<Figure size 576x432 with 1 Axes>"
      ]
     },
     "metadata": {
      "needs_background": "light"
     },
     "output_type": "display_data"
    }
   ],
   "source": [
    "plt.figure(figsize=(8,6))\n",
    "plt.plot(tab_eda9.content_duration,tab_eda9.num_subscribers, 'go-')\n",
    "plt.title('G17. Content Duration vs Number Subscribers', fontsize=15)\n",
    "plt.xlabel('Duration', fontsize=12)\n",
    "plt.ylabel('num_subscribers', fontsize=12)\n",
    "plt.show()"
   ]
  },
  {
   "cell_type": "markdown",
   "metadata": {},
   "source": [
    "- Berdasarkan grafik G11, content_duration **tidak berpengaruh** terhadap jumlah subscribers"
   ]
  },
  {
   "cell_type": "markdown",
   "metadata": {},
   "source": [
    "- Namun disini saya akan coba kelompokkan content duration dan melihat pada range berapa durasi konten dapat memperoleh jumlah subscribers yang maksimal"
   ]
  },
  {
   "cell_type": "code",
   "execution_count": 59,
   "metadata": {},
   "outputs": [
    {
     "data": {
      "text/plain": [
       "array([ 0.13,  0.32,  0.45,  0.47,  0.48,  0.5 ,  0.52,  0.53,  0.55,\n",
       "        0.57,  0.58,  0.6 ,  0.62,  0.63,  0.65,  0.67,  0.68,  0.7 ,\n",
       "        0.72,  0.73,  1.  ,  1.5 ,  2.  ,  2.5 ,  3.  ,  3.5 ,  4.  ,\n",
       "        4.5 ,  5.  ,  5.5 ,  6.  ,  6.5 ,  7.  ,  7.5 ,  8.  ,  8.5 ,\n",
       "        9.  ,  9.5 , 10.  , 10.5 , 11.  , 11.5 , 12.  , 12.5 , 13.  ,\n",
       "       13.5 , 14.  , 14.5 , 15.  , 15.5 , 16.  , 16.5 , 17.  , 17.5 ,\n",
       "       18.  , 18.5 , 19.  , 19.5 , 20.  , 20.5 , 21.  , 21.5 , 22.  ,\n",
       "       22.5 , 23.  , 23.5 , 24.  , 24.5 , 25.  , 25.5 , 26.  , 26.5 ,\n",
       "       27.5 , 28.5 , 29.  , 29.5 , 30.  , 30.5 , 31.  , 31.5 , 32.5 ,\n",
       "       33.  , 34.  , 37.5 , 38.  , 39.  , 42.  , 43.  , 43.5 , 44.5 ,\n",
       "       45.  , 46.5 , 47.  , 48.5 , 51.  , 57.  , 60.  , 62.  , 66.5 ,\n",
       "       68.5 , 70.  , 71.5 , 76.5 , 78.5 ])"
      ]
     },
     "execution_count": 59,
     "metadata": {},
     "output_type": "execute_result"
    }
   ],
   "source": [
    "tab_eda9.content_duration.unique()"
   ]
  },
  {
   "cell_type": "code",
   "execution_count": 60,
   "metadata": {},
   "outputs": [
    {
     "data": {
      "text/html": [
       "<div>\n",
       "<style scoped>\n",
       "    .dataframe tbody tr th:only-of-type {\n",
       "        vertical-align: middle;\n",
       "    }\n",
       "\n",
       "    .dataframe tbody tr th {\n",
       "        vertical-align: top;\n",
       "    }\n",
       "\n",
       "    .dataframe thead th {\n",
       "        text-align: right;\n",
       "    }\n",
       "</style>\n",
       "<table border=\"1\" class=\"dataframe\">\n",
       "  <thead>\n",
       "    <tr style=\"text-align: right;\">\n",
       "      <th></th>\n",
       "      <th>num_subscribers</th>\n",
       "      <th>num_reviews</th>\n",
       "      <th>num_lectures</th>\n",
       "      <th>content_duration</th>\n",
       "      <th>level</th>\n",
       "      <th>subject</th>\n",
       "      <th>price</th>\n",
       "      <th>duration_bin</th>\n",
       "    </tr>\n",
       "  </thead>\n",
       "  <tbody>\n",
       "    <tr>\n",
       "      <th>116</th>\n",
       "      <td>307</td>\n",
       "      <td>8</td>\n",
       "      <td>5</td>\n",
       "      <td>0.13</td>\n",
       "      <td>All Levels</td>\n",
       "      <td>Business Finance</td>\n",
       "      <td>25</td>\n",
       "      <td>Singkat</td>\n",
       "    </tr>\n",
       "    <tr>\n",
       "      <th>448</th>\n",
       "      <td>605</td>\n",
       "      <td>19</td>\n",
       "      <td>4</td>\n",
       "      <td>0.32</td>\n",
       "      <td>All Levels</td>\n",
       "      <td>Business Finance</td>\n",
       "      <td>20</td>\n",
       "      <td>Singkat</td>\n",
       "    </tr>\n",
       "  </tbody>\n",
       "</table>\n",
       "</div>"
      ],
      "text/plain": [
       "     num_subscribers  num_reviews  num_lectures  content_duration       level  \\\n",
       "116  307              8            5             0.13              All Levels   \n",
       "448  605              19           4             0.32              All Levels   \n",
       "\n",
       "              subject  price duration_bin  \n",
       "116  Business Finance  25     Singkat      \n",
       "448  Business Finance  20     Singkat      "
      ]
     },
     "execution_count": 60,
     "metadata": {},
     "output_type": "execute_result"
    }
   ],
   "source": [
    "tab_eda9['duration_bin'] = pd.cut(tab_eda9['content_duration'], bins=[0, tab_eda9.content_duration.quantile(0.25), tab_eda9.content_duration.quantile(0.5), tab_eda9.content_duration.quantile(0.75), df['content_duration'].max()], labels=['Singkat', 'Cukup', 'Lama', 'Sangat Lama'])\n",
    "tab_eda9.head(2)"
   ]
  },
  {
   "cell_type": "code",
   "execution_count": 61,
   "metadata": {},
   "outputs": [
    {
     "data": {
      "text/html": [
       "<div>\n",
       "<style scoped>\n",
       "    .dataframe tbody tr th:only-of-type {\n",
       "        vertical-align: middle;\n",
       "    }\n",
       "\n",
       "    .dataframe tbody tr th {\n",
       "        vertical-align: top;\n",
       "    }\n",
       "\n",
       "    .dataframe thead th {\n",
       "        text-align: right;\n",
       "    }\n",
       "</style>\n",
       "<table border=\"1\" class=\"dataframe\">\n",
       "  <thead>\n",
       "    <tr style=\"text-align: right;\">\n",
       "      <th>duration_bin</th>\n",
       "      <th>Singkat</th>\n",
       "      <th>Cukup</th>\n",
       "      <th>Lama</th>\n",
       "      <th>Sangat Lama</th>\n",
       "    </tr>\n",
       "    <tr>\n",
       "      <th>row_0</th>\n",
       "      <th></th>\n",
       "      <th></th>\n",
       "      <th></th>\n",
       "      <th></th>\n",
       "    </tr>\n",
       "  </thead>\n",
       "  <tbody>\n",
       "    <tr>\n",
       "      <th>Jumlah Data</th>\n",
       "      <td>933</td>\n",
       "      <td>926</td>\n",
       "      <td>957</td>\n",
       "      <td>861</td>\n",
       "    </tr>\n",
       "  </tbody>\n",
       "</table>\n",
       "</div>"
      ],
      "text/plain": [
       "duration_bin  Singkat  Cukup  Lama  Sangat Lama\n",
       "row_0                                          \n",
       "Jumlah Data   933      926    957   861        "
      ]
     },
     "execution_count": 61,
     "metadata": {},
     "output_type": "execute_result"
    }
   ],
   "source": [
    "tab_eda91 = pd.crosstab(index='Jumlah Data', columns=tab_eda9.duration_bin, values=tab_eda9.num_subscribers, aggfunc='count')\n",
    "tab_eda91"
   ]
  },
  {
   "cell_type": "code",
   "execution_count": 62,
   "metadata": {},
   "outputs": [
    {
     "data": {
      "text/html": [
       "<div>\n",
       "<style scoped>\n",
       "    .dataframe tbody tr th:only-of-type {\n",
       "        vertical-align: middle;\n",
       "    }\n",
       "\n",
       "    .dataframe tbody tr th {\n",
       "        vertical-align: top;\n",
       "    }\n",
       "\n",
       "    .dataframe thead th {\n",
       "        text-align: right;\n",
       "    }\n",
       "</style>\n",
       "<table border=\"1\" class=\"dataframe\">\n",
       "  <thead>\n",
       "    <tr style=\"text-align: right;\">\n",
       "      <th>duration_bin</th>\n",
       "      <th>Singkat</th>\n",
       "      <th>Cukup</th>\n",
       "      <th>Lama</th>\n",
       "      <th>Sangat Lama</th>\n",
       "    </tr>\n",
       "    <tr>\n",
       "      <th>row_0</th>\n",
       "      <th></th>\n",
       "      <th></th>\n",
       "      <th></th>\n",
       "      <th></th>\n",
       "    </tr>\n",
       "  </thead>\n",
       "  <tbody>\n",
       "    <tr>\n",
       "      <th>Jumlah Subscriber</th>\n",
       "      <td>1797668</td>\n",
       "      <td>2558127</td>\n",
       "      <td>3028817</td>\n",
       "      <td>4374508</td>\n",
       "    </tr>\n",
       "  </tbody>\n",
       "</table>\n",
       "</div>"
      ],
      "text/plain": [
       "duration_bin       Singkat    Cukup     Lama  Sangat Lama\n",
       "row_0                                                    \n",
       "Jumlah Subscriber  1797668  2558127  3028817  4374508    "
      ]
     },
     "execution_count": 62,
     "metadata": {},
     "output_type": "execute_result"
    }
   ],
   "source": [
    "tab_eda92 = pd.crosstab(index='Jumlah Subscriber', columns=tab_eda9.duration_bin, values=tab_eda9.num_subscribers, aggfunc='sum')\n",
    "tab_eda92"
   ]
  },
  {
   "cell_type": "code",
   "execution_count": 63,
   "metadata": {},
   "outputs": [
    {
     "data": {
      "image/png": "[encoded data removed]",
      "text/plain": [
       "<Figure size 576x432 with 1 Axes>"
      ]
     },
     "metadata": {
      "needs_background": "light"
     },
     "output_type": "display_data"
    }
   ],
   "source": [
    "plt.figure(figsize=(8,6))\n",
    "sns.barplot(x=tab_eda92.columns, y=tab_eda92.iloc[0], palette='rocket')\n",
    "plt.xlabel('Duration Category', c='m', fontsize=12)\n",
    "plt.ylabel('Jumlah Subscribers', c='m', fontsize=12)\n",
    "for i in range(0,4):\n",
    "    plt.text(i-0.2, 100000, tab_eda92.iloc[0][i], fontweight='bold', color='white')\n",
    "plt.title('G18. Duration Range vs Jumlah Subscribers', fontsize=15)\n",
    "\n",
    "plt.show()"
   ]
  },
  {
   "cell_type": "markdown",
   "metadata": {},
   "source": [
    "- **Semakin lama content duration, jumlah subscribers semakin banyak**. Dan memperoleh jumlah subscribers maksimal pada durasi dg kategori sangat lama (4.5 - 78.5)"
   ]
  },
  {
   "cell_type": "markdown",
   "metadata": {},
   "source": [
    "##### b5. Subscribers vs lecture"
   ]
  },
  {
   "cell_type": "code",
   "execution_count": 64,
   "metadata": {},
   "outputs": [],
   "source": [
    "tab_eda10 = df1[['num_subscribers', 'num_lectures', 'subject']][(df1.content_duration>0)].sort_values(by='num_lectures')"
   ]
  },
  {
   "cell_type": "code",
   "execution_count": 65,
   "metadata": {},
   "outputs": [
    {
     "data": {
      "image/png": "[encoded data removed]",
      "text/plain": [
       "<Figure size 576x432 with 1 Axes>"
      ]
     },
     "metadata": {
      "needs_background": "light"
     },
     "output_type": "display_data"
    }
   ],
   "source": [
    "plt.figure(figsize=(8,6))\n",
    "plt.plot(tab_eda10.num_lectures,tab_eda9.num_subscribers,'bo-')\n",
    "plt.title('G19. Number of Lectures vs Number Subscribers', fontsize=15)\n",
    "plt.xlabel('num_lecture', fontsize=12)\n",
    "plt.ylabel('num_subscribers', fontsize=12)\n",
    "\n",
    "plt.show()"
   ]
  },
  {
   "cell_type": "markdown",
   "metadata": {},
   "source": [
    "- Berdasarkan grafik G13, num_lecture **tidak begitu berpengaruh** terhadap jumlah subscribers"
   ]
  },
  {
   "cell_type": "markdown",
   "metadata": {},
   "source": [
    "##### b6. Subscribers vs Subject"
   ]
  },
  {
   "cell_type": "code",
   "execution_count": 66,
   "metadata": {},
   "outputs": [
    {
     "data": {
      "text/html": [
       "<div>\n",
       "<style scoped>\n",
       "    .dataframe tbody tr th:only-of-type {\n",
       "        vertical-align: middle;\n",
       "    }\n",
       "\n",
       "    .dataframe tbody tr th {\n",
       "        vertical-align: top;\n",
       "    }\n",
       "\n",
       "    .dataframe thead th {\n",
       "        text-align: right;\n",
       "    }\n",
       "</style>\n",
       "<table border=\"1\" class=\"dataframe\">\n",
       "  <thead>\n",
       "    <tr style=\"text-align: right;\">\n",
       "      <th>col_0</th>\n",
       "      <th>Jumlah Subscriber</th>\n",
       "    </tr>\n",
       "    <tr>\n",
       "      <th>subject</th>\n",
       "      <th></th>\n",
       "    </tr>\n",
       "  </thead>\n",
       "  <tbody>\n",
       "    <tr>\n",
       "      <th>Web Development</th>\n",
       "      <td>7980572</td>\n",
       "    </tr>\n",
       "    <tr>\n",
       "      <th>Business Finance</th>\n",
       "      <td>1868711</td>\n",
       "    </tr>\n",
       "    <tr>\n",
       "      <th>Graphic Design</th>\n",
       "      <td>1063148</td>\n",
       "    </tr>\n",
       "    <tr>\n",
       "      <th>Musical Instruments</th>\n",
       "      <td>846689</td>\n",
       "    </tr>\n",
       "  </tbody>\n",
       "</table>\n",
       "</div>"
      ],
      "text/plain": [
       "col_0                Jumlah Subscriber\n",
       "subject                               \n",
       "Web Development      7980572          \n",
       "Business Finance     1868711          \n",
       "Graphic Design       1063148          \n",
       "Musical Instruments  846689           "
      ]
     },
     "execution_count": 66,
     "metadata": {},
     "output_type": "execute_result"
    }
   ],
   "source": [
    "tab_eda11 = df1[['num_subscribers', 'subject']][(df1.content_duration>0)]\n",
    "tab_eda11a = pd.crosstab(index=tab_eda11.subject, columns='Jumlah Subscriber', values=tab_eda11.num_subscribers, aggfunc='sum').sort_values(by='Jumlah Subscriber', ascending=False)\n",
    "tab_eda11a"
   ]
  },
  {
   "cell_type": "code",
   "execution_count": 67,
   "metadata": {},
   "outputs": [
    {
     "data": {
      "image/png": "[encoded data removed]",
      "text/plain": [
       "<Figure size 576x432 with 1 Axes>"
      ]
     },
     "metadata": {
      "needs_background": "light"
     },
     "output_type": "display_data"
    }
   ],
   "source": [
    "plt.figure(figsize=(8,6))\n",
    "sns.barplot(x=tab_eda11a.index, y=tab_eda11a['Jumlah Subscriber'].iloc[:], palette='rocket')\n",
    "plt.xlabel('Subject Category', c='m', fontsize=12)\n",
    "plt.ylabel('Jumlah Subscribers', c='m', fontsize=12)\n",
    "for i in range(0,4):\n",
    "    plt.text(i-0.2, 100000, tab_eda11a['Jumlah Subscriber'].iloc[i], fontweight='bold', color='white')\n",
    "plt.title('G20. Subject vs Jumlah Subscribers', fontsize=15)\n",
    "plt.show()"
   ]
  },
  {
   "cell_type": "markdown",
   "metadata": {},
   "source": [
    "- Subject **Web Development** ialah subject yang paling banyak diminati para subscriber untuk dibeli"
   ]
  },
  {
   "cell_type": "markdown",
   "metadata": {},
   "source": [
    "##### b7. Subscribers vs Level"
   ]
  },
  {
   "cell_type": "code",
   "execution_count": 68,
   "metadata": {},
   "outputs": [],
   "source": [
    "tab_eda12 = df1[['num_subscribers', 'level']][(df1.content_duration>0)]\n",
    "tab_eda12a = pd.crosstab(index=tab_eda12.level, columns='Jumlah Subscriber', values=tab_eda12.num_subscribers, aggfunc='sum').sort_values(by='Jumlah Subscriber', ascending=False)"
   ]
  },
  {
   "cell_type": "code",
   "execution_count": 69,
   "metadata": {},
   "outputs": [
    {
     "data": {
      "text/html": [
       "<div>\n",
       "<style scoped>\n",
       "    .dataframe tbody tr th:only-of-type {\n",
       "        vertical-align: middle;\n",
       "    }\n",
       "\n",
       "    .dataframe tbody tr th {\n",
       "        vertical-align: top;\n",
       "    }\n",
       "\n",
       "    .dataframe thead th {\n",
       "        text-align: right;\n",
       "    }\n",
       "</style>\n",
       "<table border=\"1\" class=\"dataframe\">\n",
       "  <thead>\n",
       "    <tr style=\"text-align: right;\">\n",
       "      <th>level</th>\n",
       "      <th>All Levels</th>\n",
       "      <th>Beginner Level</th>\n",
       "      <th>Expert Level</th>\n",
       "      <th>Intermediate Level</th>\n",
       "    </tr>\n",
       "    <tr>\n",
       "      <th>row_0</th>\n",
       "      <th></th>\n",
       "      <th></th>\n",
       "      <th></th>\n",
       "      <th></th>\n",
       "    </tr>\n",
       "  </thead>\n",
       "  <tbody>\n",
       "    <tr>\n",
       "      <th>Jumlah Subscriber</th>\n",
       "      <td>1928</td>\n",
       "      <td>1270</td>\n",
       "      <td>58</td>\n",
       "      <td>421</td>\n",
       "    </tr>\n",
       "  </tbody>\n",
       "</table>\n",
       "</div>"
      ],
      "text/plain": [
       "level              All Levels  Beginner Level  Expert Level  \\\n",
       "row_0                                                         \n",
       "Jumlah Subscriber  1928        1270            58             \n",
       "\n",
       "level              Intermediate Level  \n",
       "row_0                                  \n",
       "Jumlah Subscriber  421                 "
      ]
     },
     "execution_count": 69,
     "metadata": {},
     "output_type": "execute_result"
    }
   ],
   "source": [
    "pd.crosstab(index='Jumlah Subscriber', columns=tab_eda12.level, values=tab_eda12.num_subscribers, aggfunc='count')"
   ]
  },
  {
   "cell_type": "code",
   "execution_count": 70,
   "metadata": {},
   "outputs": [
    {
     "data": {
      "image/png": "[encoded data removed]",
      "text/plain": [
       "<Figure size 576x432 with 1 Axes>"
      ]
     },
     "metadata": {
      "needs_background": "light"
     },
     "output_type": "display_data"
    }
   ],
   "source": [
    "plt.figure(figsize=(8,6))\n",
    "sns.barplot(x=tab_eda12a.index, y=tab_eda12a['Jumlah Subscriber'].iloc[:], palette='rocket')\n",
    "plt.xlabel('Level', c='m', fontsize=12)\n",
    "plt.ylabel('Jumlah Subscribers', c='m', fontsize=12)\n",
    "for i in range(0,4):\n",
    "    plt.text(i-0.2, 100000, tab_eda12a['Jumlah Subscriber'][i], fontweight='bold', color='orange')\n",
    "plt.title('G21. Level vs Jumlah Subscribers', fontsize=15)\n",
    "\n",
    "plt.show()"
   ]
  },
  {
   "cell_type": "markdown",
   "metadata": {},
   "source": [
    "- Level course yang dapat mencapai subscriber maksimal secara keseluruhan ialah pada All Level"
   ]
  },
  {
   "cell_type": "markdown",
   "metadata": {},
   "source": [
    "##### b8. Reviews vs Content_duration"
   ]
  },
  {
   "cell_type": "code",
   "execution_count": 71,
   "metadata": {},
   "outputs": [
    {
     "data": {
      "text/html": [
       "<div>\n",
       "<style scoped>\n",
       "    .dataframe tbody tr th:only-of-type {\n",
       "        vertical-align: middle;\n",
       "    }\n",
       "\n",
       "    .dataframe tbody tr th {\n",
       "        vertical-align: top;\n",
       "    }\n",
       "\n",
       "    .dataframe thead th {\n",
       "        text-align: right;\n",
       "    }\n",
       "</style>\n",
       "<table border=\"1\" class=\"dataframe\">\n",
       "  <thead>\n",
       "    <tr style=\"text-align: right;\">\n",
       "      <th></th>\n",
       "      <th>num_subscribers</th>\n",
       "      <th>num_reviews</th>\n",
       "      <th>num_lectures</th>\n",
       "      <th>content_duration</th>\n",
       "      <th>level</th>\n",
       "      <th>subject</th>\n",
       "      <th>price</th>\n",
       "      <th>duration_bin</th>\n",
       "    </tr>\n",
       "  </thead>\n",
       "  <tbody>\n",
       "    <tr>\n",
       "      <th>116</th>\n",
       "      <td>307</td>\n",
       "      <td>8</td>\n",
       "      <td>5</td>\n",
       "      <td>0.13</td>\n",
       "      <td>All Levels</td>\n",
       "      <td>Business Finance</td>\n",
       "      <td>25</td>\n",
       "      <td>Singkat</td>\n",
       "    </tr>\n",
       "    <tr>\n",
       "      <th>448</th>\n",
       "      <td>605</td>\n",
       "      <td>19</td>\n",
       "      <td>4</td>\n",
       "      <td>0.32</td>\n",
       "      <td>All Levels</td>\n",
       "      <td>Business Finance</td>\n",
       "      <td>20</td>\n",
       "      <td>Singkat</td>\n",
       "    </tr>\n",
       "    <tr>\n",
       "      <th>984</th>\n",
       "      <td>327</td>\n",
       "      <td>1</td>\n",
       "      <td>12</td>\n",
       "      <td>0.45</td>\n",
       "      <td>Beginner Level</td>\n",
       "      <td>Business Finance</td>\n",
       "      <td>20</td>\n",
       "      <td>Singkat</td>\n",
       "    </tr>\n",
       "    <tr>\n",
       "      <th>718</th>\n",
       "      <td>23</td>\n",
       "      <td>7</td>\n",
       "      <td>6</td>\n",
       "      <td>0.47</td>\n",
       "      <td>All Levels</td>\n",
       "      <td>Business Finance</td>\n",
       "      <td>20</td>\n",
       "      <td>Singkat</td>\n",
       "    </tr>\n",
       "    <tr>\n",
       "      <th>1937</th>\n",
       "      <td>1582</td>\n",
       "      <td>11</td>\n",
       "      <td>6</td>\n",
       "      <td>0.48</td>\n",
       "      <td>All Levels</td>\n",
       "      <td>Musical Instruments</td>\n",
       "      <td>20</td>\n",
       "      <td>Singkat</td>\n",
       "    </tr>\n",
       "  </tbody>\n",
       "</table>\n",
       "</div>"
      ],
      "text/plain": [
       "      num_subscribers  num_reviews  num_lectures  content_duration  \\\n",
       "116   307              8            5             0.13               \n",
       "448   605              19           4             0.32               \n",
       "984   327              1            12            0.45               \n",
       "718   23               7            6             0.47               \n",
       "1937  1582             11           6             0.48               \n",
       "\n",
       "               level              subject  price duration_bin  \n",
       "116   All Levels      Business Finance     25     Singkat      \n",
       "448   All Levels      Business Finance     20     Singkat      \n",
       "984   Beginner Level  Business Finance     20     Singkat      \n",
       "718   All Levels      Business Finance     20     Singkat      \n",
       "1937  All Levels      Musical Instruments  20     Singkat      "
      ]
     },
     "execution_count": 71,
     "metadata": {},
     "output_type": "execute_result"
    }
   ],
   "source": [
    "tab_eda13 = tab_eda9.copy()\n",
    "tab_eda13.head()"
   ]
  },
  {
   "cell_type": "code",
   "execution_count": 72,
   "metadata": {},
   "outputs": [
    {
     "data": {
      "image/png": "[encoded data removed]",
      "text/plain": [
       "<Figure size 576x432 with 1 Axes>"
      ]
     },
     "metadata": {
      "needs_background": "light"
     },
     "output_type": "display_data"
    }
   ],
   "source": [
    "plt.figure(figsize=(8,6))\n",
    "tab_eda13['log_reviews'] = np.log(tab_eda13.num_reviews)\n",
    "sns.boxplot(x='duration_bin', y='log_reviews', data=tab_eda13, palette='ocean')\n",
    "plt.title('G22. Number of Review vs Content_duration', fontsize=15)\n",
    "plt.xlabel('Duration', fontsize=12)\n",
    "plt.ylabel('log_reviews', fontsize=12)\n",
    "\n",
    "plt.show()"
   ]
  },
  {
   "cell_type": "markdown",
   "metadata": {},
   "source": [
    "- Semakin lama content_duration, semakin banyak reviewers"
   ]
  },
  {
   "cell_type": "code",
   "execution_count": 73,
   "metadata": {},
   "outputs": [],
   "source": [
    "tab_eda131 = pd.crosstab(index=tab_eda13.duration_bin, columns='Jumlah Review', values=tab_eda13.num_reviews, aggfunc='sum').sort_values(by='Jumlah Review', ascending=True)"
   ]
  },
  {
   "cell_type": "code",
   "execution_count": 74,
   "metadata": {},
   "outputs": [
    {
     "data": {
      "text/html": [
       "<div>\n",
       "<style scoped>\n",
       "    .dataframe tbody tr th:only-of-type {\n",
       "        vertical-align: middle;\n",
       "    }\n",
       "\n",
       "    .dataframe tbody tr th {\n",
       "        vertical-align: top;\n",
       "    }\n",
       "\n",
       "    .dataframe thead th {\n",
       "        text-align: right;\n",
       "    }\n",
       "</style>\n",
       "<table border=\"1\" class=\"dataframe\">\n",
       "  <thead>\n",
       "    <tr style=\"text-align: right;\">\n",
       "      <th>col_0</th>\n",
       "      <th>Jumlah Review</th>\n",
       "    </tr>\n",
       "    <tr>\n",
       "      <th>duration_bin</th>\n",
       "      <th></th>\n",
       "    </tr>\n",
       "  </thead>\n",
       "  <tbody>\n",
       "    <tr>\n",
       "      <th>Singkat</th>\n",
       "      <td>50621</td>\n",
       "    </tr>\n",
       "    <tr>\n",
       "      <th>Cukup</th>\n",
       "      <td>63225</td>\n",
       "    </tr>\n",
       "    <tr>\n",
       "      <th>Lama</th>\n",
       "      <td>90332</td>\n",
       "    </tr>\n",
       "    <tr>\n",
       "      <th>Sangat Lama</th>\n",
       "      <td>370543</td>\n",
       "    </tr>\n",
       "  </tbody>\n",
       "</table>\n",
       "</div>"
      ],
      "text/plain": [
       "col_0         Jumlah Review\n",
       "duration_bin               \n",
       "Singkat       50621        \n",
       "Cukup         63225        \n",
       "Lama          90332        \n",
       "Sangat Lama   370543       "
      ]
     },
     "execution_count": 74,
     "metadata": {},
     "output_type": "execute_result"
    }
   ],
   "source": [
    "tab_eda131"
   ]
  },
  {
   "cell_type": "markdown",
   "metadata": {},
   "source": [
    "- Semakin lama durasi konten, maka jumlah reviews akan semakin banyak. Dan dapat mencapai num_reviews terbanyak pada durasi 'Sangat Lama'."
   ]
  },
  {
   "cell_type": "markdown",
   "metadata": {},
   "source": [
    "##### b9. Reviews vs num_lectures"
   ]
  },
  {
   "cell_type": "code",
   "execution_count": 75,
   "metadata": {},
   "outputs": [
    {
     "data": {
      "text/plain": [
       "<Figure size 576x432 with 0 Axes>"
      ]
     },
     "metadata": {},
     "output_type": "display_data"
    },
    {
     "data": {
      "image/png": "[encoded data removed]",
      "text/plain": [
       "<Figure size 360x360 with 1 Axes>"
      ]
     },
     "metadata": {
      "needs_background": "light"
     },
     "output_type": "display_data"
    }
   ],
   "source": [
    "tab_eda14 = df1[['num_lectures','num_reviews']][(df1.num_subscribers>0) & (df1.num_reviews>0)].sort_values(by='num_lectures')\n",
    "plt.figure(figsize=(8,6))\n",
    "sns.lmplot(x='num_lectures',y='num_reviews', data=tab_eda14, palette='rainbow')\n",
    "plt.title('G23. Number of Lectures vs Number Reviews', fontsize=15)\n",
    "plt.xlabel('num_lectures', fontsize=12)\n",
    "plt.ylabel('num_reviews', fontsize=12)\n",
    "\n",
    "plt.show()"
   ]
  },
  {
   "cell_type": "markdown",
   "metadata": {},
   "source": [
    "- Pengaruh jumlah lecture terhadap jumlah review tidak begitu kuat"
   ]
  },
  {
   "cell_type": "markdown",
   "metadata": {},
   "source": [
    "##### b10. Content_duration vs num_lectures"
   ]
  },
  {
   "cell_type": "code",
   "execution_count": 76,
   "metadata": {},
   "outputs": [],
   "source": [
    "tab_eda15 = tab_eda9[['num_lectures', 'content_duration', 'duration_bin','price']].sort_values(by='content_duration')"
   ]
  },
  {
   "cell_type": "code",
   "execution_count": 77,
   "metadata": {},
   "outputs": [
    {
     "data": {
      "text/plain": [
       "<Figure size 576x432 with 0 Axes>"
      ]
     },
     "metadata": {},
     "output_type": "display_data"
    },
    {
     "data": {
      "image/png": "[encoded data removed]",
      "text/plain": [
       "<Figure size 360x360 with 1 Axes>"
      ]
     },
     "metadata": {
      "needs_background": "light"
     },
     "output_type": "display_data"
    }
   ],
   "source": [
    "plt.figure(figsize=(8,6))\n",
    "sns.lmplot(x='content_duration', y='num_lectures', data=tab_eda15, palette='ocean')\n",
    "plt.title('G24. Content Duration vs Number Lectures', fontsize=15)\n",
    "plt.xlabel('content_duration', fontsize=12)\n",
    "plt.ylabel('num_lectures', fontsize=12)\n",
    "\n",
    "plt.show()"
   ]
  },
  {
   "cell_type": "markdown",
   "metadata": {},
   "source": [
    "- Jumlah lecture dan durasi konten memiliki korelasi positif yang kuat"
   ]
  },
  {
   "cell_type": "code",
   "execution_count": 78,
   "metadata": {},
   "outputs": [
    {
     "data": {
      "text/html": [
       "<div>\n",
       "<style scoped>\n",
       "    .dataframe tbody tr th:only-of-type {\n",
       "        vertical-align: middle;\n",
       "    }\n",
       "\n",
       "    .dataframe tbody tr th {\n",
       "        vertical-align: top;\n",
       "    }\n",
       "\n",
       "    .dataframe thead th {\n",
       "        text-align: right;\n",
       "    }\n",
       "</style>\n",
       "<table border=\"1\" class=\"dataframe\">\n",
       "  <thead>\n",
       "    <tr style=\"text-align: right;\">\n",
       "      <th></th>\n",
       "      <th>course_id</th>\n",
       "      <th>course_title</th>\n",
       "      <th>url</th>\n",
       "      <th>is_paid</th>\n",
       "      <th>price</th>\n",
       "      <th>num_subscribers</th>\n",
       "      <th>num_reviews</th>\n",
       "      <th>num_lectures</th>\n",
       "      <th>level</th>\n",
       "      <th>content_duration</th>\n",
       "      <th>published_timestamp</th>\n",
       "      <th>subject</th>\n",
       "    </tr>\n",
       "  </thead>\n",
       "  <tbody>\n",
       "    <tr>\n",
       "      <th>892</th>\n",
       "      <td>627332</td>\n",
       "      <td>Mutual Funds for Investors in Retirement Accounts</td>\n",
       "      <td>https://www.udemy.com/mutual-funds-for-investors-in-retirement-accounts/</td>\n",
       "      <td>True</td>\n",
       "      <td>20</td>\n",
       "      <td>0</td>\n",
       "      <td>0</td>\n",
       "      <td>0</td>\n",
       "      <td>All Levels</td>\n",
       "      <td>0.0</td>\n",
       "      <td>2015-12-17 05:38:38+00:00</td>\n",
       "      <td>Business Finance</td>\n",
       "    </tr>\n",
       "  </tbody>\n",
       "</table>\n",
       "</div>"
      ],
      "text/plain": [
       "     course_id                                       course_title  \\\n",
       "892  627332     Mutual Funds for Investors in Retirement Accounts   \n",
       "\n",
       "                                                                          url  \\\n",
       "892  https://www.udemy.com/mutual-funds-for-investors-in-retirement-accounts/   \n",
       "\n",
       "     is_paid  price  num_subscribers  num_reviews  num_lectures       level  \\\n",
       "892  True     20     0                0            0             All Levels   \n",
       "\n",
       "     content_duration       published_timestamp           subject  \n",
       "892  0.0              2015-12-17 05:38:38+00:00  Business Finance  "
      ]
     },
     "execution_count": 78,
     "metadata": {},
     "output_type": "execute_result"
    }
   ],
   "source": [
    "df1[df1.num_lectures==0]"
   ]
  },
  {
   "cell_type": "markdown",
   "metadata": {},
   "source": [
    "![Ini image](https://i.ibb.co/PwRKT8s/IMG-course-0-duration.png)"
   ]
  },
  {
   "cell_type": "code",
   "execution_count": 79,
   "metadata": {},
   "outputs": [],
   "source": [
    "publish_dt = df1['published_timestamp'].dt"
   ]
  },
  {
   "cell_type": "code",
   "execution_count": 80,
   "metadata": {},
   "outputs": [],
   "source": [
    "df1['year_p'] = publish_dt.year\n",
    "df1['month_p'] = publish_dt.month\n",
    "df1['date_p'] = publish_dt.day"
   ]
  },
  {
   "cell_type": "code",
   "execution_count": 81,
   "metadata": {},
   "outputs": [],
   "source": [
    "df1.drop(columns=['published_timestamp'], inplace=True)"
   ]
  },
  {
   "cell_type": "code",
   "execution_count": 82,
   "metadata": {},
   "outputs": [
    {
     "data": {
      "image/png": "[encoded data removed]",
      "text/plain": [
       "<Figure size 1080x720 with 2 Axes>"
      ]
     },
     "metadata": {
      "needs_background": "light"
     },
     "output_type": "display_data"
    }
   ],
   "source": [
    "plt.figure(figsize=(15, 10))\n",
    "\n",
    "sns.heatmap(df1.corr(), annot=True, square=True, linewidths=0.25)\n",
    "plt.show()"
   ]
  },
  {
   "cell_type": "code",
   "execution_count": 83,
   "metadata": {},
   "outputs": [
    {
     "data": {
      "image/png": "[encoded data removed]",
      "text/plain": [
       "<Figure size 864x360 with 1 Axes>"
      ]
     },
     "metadata": {
      "needs_background": "light"
     },
     "output_type": "display_data"
    }
   ],
   "source": [
    "plt.figure(figsize=(12,5))\n",
    "mama = df1.copy()\n",
    "mama['log_subs'] = np.log(mama.num_subscribers)\n",
    "sns.boxplot(x='year_p', y='log_subs', data=mama, palette='rainbow')\n",
    "plt.title('G26. Log Subscribers by Year', fontsize=15)\n",
    "plt.xlabel('Year', fontsize=12)\n",
    "plt.ylabel('log_subs', fontsize=12)\n",
    "plt.show()"
   ]
  },
  {
   "cell_type": "markdown",
   "metadata": {},
   "source": [
    "- Semakin bertambahnya tahun perilisan, semakin menurun jumlah subscriber"
   ]
  },
  {
   "cell_type": "markdown",
   "metadata": {},
   "source": [
    "##### Kesimpulan Analisis\n",
    "\n",
    "- Jumlah review sangat kuat dalam mempengaruhi perolehan jumlah subscribers.\n",
    "- Tipe lisensi gratis sangat mudah untuk memperoleh banyak subscriber, sedangkan tipe lisensi berbayar dapat dimaksimalkan untuk memperoleh subscribers dengan membuat pengelompokkan harga. Berdasarkan data, range harga yang dapat memaksimalkan jumlah subscriber ialah pada range harga 75-200 USD\n",
    "- Content duration dan Jumlah lecture memiliki pengaruh yang kecil terhadap jumlah subscribers namun lebih besar pengaruhnya terhadap jumlah review\n",
    "- Subject yang paling banyak diminati secara keseluruhan ialah Web Development dan Business Finance, sedangkan pada range harga 75-200 ialah Web Development\n",
    "- Level course yang cukup banyak mendapatkan jumlah subscribers yang tinggi ialah All Levels"
   ]
  },
  {
   "cell_type": "markdown",
   "metadata": {},
   "source": [
    "# (7) Feature Engineering & Feature Selection"
   ]
  },
  {
   "cell_type": "code",
   "execution_count": 84,
   "metadata": {},
   "outputs": [],
   "source": [
    "def success(x):\n",
    "    if x <= 1500:\n",
    "        return 0\n",
    "    elif x > 1500:\n",
    "        return 1"
   ]
  },
  {
   "cell_type": "code",
   "execution_count": 85,
   "metadata": {},
   "outputs": [
    {
     "data": {
      "text/html": [
       "<div>\n",
       "<style scoped>\n",
       "    .dataframe tbody tr th:only-of-type {\n",
       "        vertical-align: middle;\n",
       "    }\n",
       "\n",
       "    .dataframe tbody tr th {\n",
       "        vertical-align: top;\n",
       "    }\n",
       "\n",
       "    .dataframe thead th {\n",
       "        text-align: right;\n",
       "    }\n",
       "</style>\n",
       "<table border=\"1\" class=\"dataframe\">\n",
       "  <thead>\n",
       "    <tr style=\"text-align: right;\">\n",
       "      <th></th>\n",
       "      <th>is_paid</th>\n",
       "      <th>price</th>\n",
       "      <th>num_subscribers</th>\n",
       "      <th>num_reviews</th>\n",
       "      <th>num_lectures</th>\n",
       "      <th>level</th>\n",
       "      <th>content_duration</th>\n",
       "      <th>subject</th>\n",
       "      <th>year_p</th>\n",
       "      <th>month_p</th>\n",
       "      <th>date_p</th>\n",
       "      <th>is_success</th>\n",
       "    </tr>\n",
       "    <tr>\n",
       "      <th>course_id</th>\n",
       "      <th></th>\n",
       "      <th></th>\n",
       "      <th></th>\n",
       "      <th></th>\n",
       "      <th></th>\n",
       "      <th></th>\n",
       "      <th></th>\n",
       "      <th></th>\n",
       "      <th></th>\n",
       "      <th></th>\n",
       "      <th></th>\n",
       "      <th></th>\n",
       "    </tr>\n",
       "  </thead>\n",
       "  <tbody>\n",
       "    <tr>\n",
       "      <th>1070968</th>\n",
       "      <td>True</td>\n",
       "      <td>200</td>\n",
       "      <td>2147</td>\n",
       "      <td>23</td>\n",
       "      <td>51</td>\n",
       "      <td>All Levels</td>\n",
       "      <td>1.5</td>\n",
       "      <td>Business Finance</td>\n",
       "      <td>2017</td>\n",
       "      <td>1</td>\n",
       "      <td>18</td>\n",
       "      <td>1</td>\n",
       "    </tr>\n",
       "    <tr>\n",
       "      <th>1113822</th>\n",
       "      <td>True</td>\n",
       "      <td>75</td>\n",
       "      <td>2792</td>\n",
       "      <td>923</td>\n",
       "      <td>274</td>\n",
       "      <td>All Levels</td>\n",
       "      <td>39.0</td>\n",
       "      <td>Business Finance</td>\n",
       "      <td>2017</td>\n",
       "      <td>3</td>\n",
       "      <td>9</td>\n",
       "      <td>1</td>\n",
       "    </tr>\n",
       "    <tr>\n",
       "      <th>1006314</th>\n",
       "      <td>True</td>\n",
       "      <td>45</td>\n",
       "      <td>2174</td>\n",
       "      <td>74</td>\n",
       "      <td>51</td>\n",
       "      <td>Intermediate Level</td>\n",
       "      <td>2.5</td>\n",
       "      <td>Business Finance</td>\n",
       "      <td>2016</td>\n",
       "      <td>12</td>\n",
       "      <td>19</td>\n",
       "      <td>1</td>\n",
       "    </tr>\n",
       "    <tr>\n",
       "      <th>1210588</th>\n",
       "      <td>True</td>\n",
       "      <td>95</td>\n",
       "      <td>2451</td>\n",
       "      <td>11</td>\n",
       "      <td>36</td>\n",
       "      <td>All Levels</td>\n",
       "      <td>3.0</td>\n",
       "      <td>Business Finance</td>\n",
       "      <td>2017</td>\n",
       "      <td>5</td>\n",
       "      <td>30</td>\n",
       "      <td>1</td>\n",
       "    </tr>\n",
       "    <tr>\n",
       "      <th>1011058</th>\n",
       "      <td>True</td>\n",
       "      <td>200</td>\n",
       "      <td>1276</td>\n",
       "      <td>45</td>\n",
       "      <td>26</td>\n",
       "      <td>Intermediate Level</td>\n",
       "      <td>2.0</td>\n",
       "      <td>Business Finance</td>\n",
       "      <td>2016</td>\n",
       "      <td>12</td>\n",
       "      <td>13</td>\n",
       "      <td>0</td>\n",
       "    </tr>\n",
       "  </tbody>\n",
       "</table>\n",
       "</div>"
      ],
      "text/plain": [
       "           is_paid  price  num_subscribers  num_reviews  num_lectures  \\\n",
       "course_id                                                               \n",
       "1070968    True     200    2147             23           51             \n",
       "1113822    True     75     2792             923          274            \n",
       "1006314    True     45     2174             74           51             \n",
       "1210588    True     95     2451             11           36             \n",
       "1011058    True     200    1276             45           26             \n",
       "\n",
       "                        level  content_duration           subject  year_p  \\\n",
       "course_id                                                                   \n",
       "1070968    All Levels          1.5               Business Finance  2017     \n",
       "1113822    All Levels          39.0              Business Finance  2017     \n",
       "1006314    Intermediate Level  2.5               Business Finance  2016     \n",
       "1210588    All Levels          3.0               Business Finance  2017     \n",
       "1011058    Intermediate Level  2.0               Business Finance  2016     \n",
       "\n",
       "           month_p  date_p  is_success  \n",
       "course_id                               \n",
       "1070968    1        18      1           \n",
       "1113822    3        9       1           \n",
       "1006314    12       19      1           \n",
       "1210588    5        30      1           \n",
       "1011058    12       13      0           "
      ]
     },
     "execution_count": 85,
     "metadata": {},
     "output_type": "execute_result"
    }
   ],
   "source": [
    "df_b = df1[(df1.content_duration>0) & (df1.num_lectures>0)]\n",
    "df_b.drop([1473,1100,2561,787,894,788], axis=0, inplace=True)\n",
    "df_b.set_index('course_id',inplace=True)\n",
    "df_b.drop(columns=['url', 'course_title'], inplace=True)\n",
    "df_b['is_success'] = df_b['num_subscribers'].apply(success)\n",
    "df_b.head()"
   ]
  },
  {
   "cell_type": "code",
   "execution_count": 86,
   "metadata": {},
   "outputs": [
    {
     "data": {
      "text/html": [
       "<div>\n",
       "<style scoped>\n",
       "    .dataframe tbody tr th:only-of-type {\n",
       "        vertical-align: middle;\n",
       "    }\n",
       "\n",
       "    .dataframe tbody tr th {\n",
       "        vertical-align: top;\n",
       "    }\n",
       "\n",
       "    .dataframe thead th {\n",
       "        text-align: right;\n",
       "    }\n",
       "</style>\n",
       "<table border=\"1\" class=\"dataframe\">\n",
       "  <thead>\n",
       "    <tr style=\"text-align: right;\">\n",
       "      <th></th>\n",
       "      <th>is_paid</th>\n",
       "      <th>price</th>\n",
       "      <th>num_subscribers</th>\n",
       "      <th>num_reviews</th>\n",
       "      <th>level</th>\n",
       "      <th>subject</th>\n",
       "      <th>year_p</th>\n",
       "      <th>is_success</th>\n",
       "    </tr>\n",
       "    <tr>\n",
       "      <th>course_id</th>\n",
       "      <th></th>\n",
       "      <th></th>\n",
       "      <th></th>\n",
       "      <th></th>\n",
       "      <th></th>\n",
       "      <th></th>\n",
       "      <th></th>\n",
       "      <th></th>\n",
       "    </tr>\n",
       "  </thead>\n",
       "  <tbody>\n",
       "    <tr>\n",
       "      <th>775618</th>\n",
       "      <td>True</td>\n",
       "      <td>100</td>\n",
       "      <td>1040</td>\n",
       "      <td>14</td>\n",
       "      <td>All Levels</td>\n",
       "      <td>Web Development</td>\n",
       "      <td>2016</td>\n",
       "      <td>0</td>\n",
       "    </tr>\n",
       "    <tr>\n",
       "      <th>1088178</th>\n",
       "      <td>True</td>\n",
       "      <td>25</td>\n",
       "      <td>306</td>\n",
       "      <td>3</td>\n",
       "      <td>Beginner Level</td>\n",
       "      <td>Web Development</td>\n",
       "      <td>2017</td>\n",
       "      <td>0</td>\n",
       "    </tr>\n",
       "    <tr>\n",
       "      <th>635248</th>\n",
       "      <td>True</td>\n",
       "      <td>40</td>\n",
       "      <td>513</td>\n",
       "      <td>169</td>\n",
       "      <td>All Levels</td>\n",
       "      <td>Web Development</td>\n",
       "      <td>2015</td>\n",
       "      <td>0</td>\n",
       "    </tr>\n",
       "    <tr>\n",
       "      <th>905096</th>\n",
       "      <td>True</td>\n",
       "      <td>50</td>\n",
       "      <td>300</td>\n",
       "      <td>31</td>\n",
       "      <td>All Levels</td>\n",
       "      <td>Web Development</td>\n",
       "      <td>2016</td>\n",
       "      <td>0</td>\n",
       "    </tr>\n",
       "    <tr>\n",
       "      <th>297602</th>\n",
       "      <td>True</td>\n",
       "      <td>45</td>\n",
       "      <td>901</td>\n",
       "      <td>36</td>\n",
       "      <td>Beginner Level</td>\n",
       "      <td>Web Development</td>\n",
       "      <td>2014</td>\n",
       "      <td>0</td>\n",
       "    </tr>\n",
       "  </tbody>\n",
       "</table>\n",
       "</div>"
      ],
      "text/plain": [
       "           is_paid  price  num_subscribers  num_reviews           level  \\\n",
       "course_id                                                                 \n",
       "775618     True     100    1040             14           All Levels       \n",
       "1088178    True     25     306              3            Beginner Level   \n",
       "635248     True     40     513              169          All Levels       \n",
       "905096     True     50     300              31           All Levels       \n",
       "297602     True     45     901              36           Beginner Level   \n",
       "\n",
       "                   subject  year_p  is_success  \n",
       "course_id                                       \n",
       "775618     Web Development  2016    0           \n",
       "1088178    Web Development  2017    0           \n",
       "635248     Web Development  2015    0           \n",
       "905096     Web Development  2016    0           \n",
       "297602     Web Development  2014    0           "
      ]
     },
     "execution_count": 86,
     "metadata": {},
     "output_type": "execute_result"
    }
   ],
   "source": [
    "dfix = df1[(df1.content_duration>0) & (df1.num_lectures>0)]\n",
    "dfix.drop([1473,1100,2561,787,894,788], axis=0, inplace=True)\n",
    "dfix.set_index('course_id',inplace=True)\n",
    "dfix.drop(columns=['url', 'course_title','num_lectures','content_duration','month_p','date_p'], inplace=True)\n",
    "dfix['is_success'] = dfix['num_subscribers'].apply(success)\n",
    "dfix.tail()"
   ]
  },
  {
   "cell_type": "code",
   "execution_count": 87,
   "metadata": {},
   "outputs": [
    {
     "data": {
      "text/html": [
       "<div>\n",
       "<style scoped>\n",
       "    .dataframe tbody tr th:only-of-type {\n",
       "        vertical-align: middle;\n",
       "    }\n",
       "\n",
       "    .dataframe tbody tr th {\n",
       "        vertical-align: top;\n",
       "    }\n",
       "\n",
       "    .dataframe thead th {\n",
       "        text-align: right;\n",
       "    }\n",
       "</style>\n",
       "<table border=\"1\" class=\"dataframe\">\n",
       "  <thead>\n",
       "    <tr style=\"text-align: right;\">\n",
       "      <th></th>\n",
       "      <th>price</th>\n",
       "      <th>num_subscribers</th>\n",
       "      <th>num_reviews</th>\n",
       "      <th>num_lectures</th>\n",
       "      <th>level</th>\n",
       "      <th>content_duration</th>\n",
       "      <th>year_p</th>\n",
       "      <th>month_p</th>\n",
       "      <th>date_p</th>\n",
       "      <th>is_success</th>\n",
       "      <th>level_enc</th>\n",
       "      <th>is_paid_False</th>\n",
       "      <th>is_paid_True</th>\n",
       "      <th>subject_Business Finance</th>\n",
       "      <th>subject_Graphic Design</th>\n",
       "      <th>subject_Musical Instruments</th>\n",
       "      <th>subject_Web Development</th>\n",
       "    </tr>\n",
       "    <tr>\n",
       "      <th>course_id</th>\n",
       "      <th></th>\n",
       "      <th></th>\n",
       "      <th></th>\n",
       "      <th></th>\n",
       "      <th></th>\n",
       "      <th></th>\n",
       "      <th></th>\n",
       "      <th></th>\n",
       "      <th></th>\n",
       "      <th></th>\n",
       "      <th></th>\n",
       "      <th></th>\n",
       "      <th></th>\n",
       "      <th></th>\n",
       "      <th></th>\n",
       "      <th></th>\n",
       "      <th></th>\n",
       "    </tr>\n",
       "  </thead>\n",
       "  <tbody>\n",
       "    <tr>\n",
       "      <th>1070968</th>\n",
       "      <td>200</td>\n",
       "      <td>2147</td>\n",
       "      <td>23</td>\n",
       "      <td>51</td>\n",
       "      <td>All Levels</td>\n",
       "      <td>1.5</td>\n",
       "      <td>2017</td>\n",
       "      <td>1</td>\n",
       "      <td>18</td>\n",
       "      <td>1</td>\n",
       "      <td>0</td>\n",
       "      <td>0</td>\n",
       "      <td>1</td>\n",
       "      <td>1</td>\n",
       "      <td>0</td>\n",
       "      <td>0</td>\n",
       "      <td>0</td>\n",
       "    </tr>\n",
       "    <tr>\n",
       "      <th>1113822</th>\n",
       "      <td>75</td>\n",
       "      <td>2792</td>\n",
       "      <td>923</td>\n",
       "      <td>274</td>\n",
       "      <td>All Levels</td>\n",
       "      <td>39.0</td>\n",
       "      <td>2017</td>\n",
       "      <td>3</td>\n",
       "      <td>9</td>\n",
       "      <td>1</td>\n",
       "      <td>0</td>\n",
       "      <td>0</td>\n",
       "      <td>1</td>\n",
       "      <td>1</td>\n",
       "      <td>0</td>\n",
       "      <td>0</td>\n",
       "      <td>0</td>\n",
       "    </tr>\n",
       "    <tr>\n",
       "      <th>1006314</th>\n",
       "      <td>45</td>\n",
       "      <td>2174</td>\n",
       "      <td>74</td>\n",
       "      <td>51</td>\n",
       "      <td>Intermediate Level</td>\n",
       "      <td>2.5</td>\n",
       "      <td>2016</td>\n",
       "      <td>12</td>\n",
       "      <td>19</td>\n",
       "      <td>1</td>\n",
       "      <td>2</td>\n",
       "      <td>0</td>\n",
       "      <td>1</td>\n",
       "      <td>1</td>\n",
       "      <td>0</td>\n",
       "      <td>0</td>\n",
       "      <td>0</td>\n",
       "    </tr>\n",
       "    <tr>\n",
       "      <th>1210588</th>\n",
       "      <td>95</td>\n",
       "      <td>2451</td>\n",
       "      <td>11</td>\n",
       "      <td>36</td>\n",
       "      <td>All Levels</td>\n",
       "      <td>3.0</td>\n",
       "      <td>2017</td>\n",
       "      <td>5</td>\n",
       "      <td>30</td>\n",
       "      <td>1</td>\n",
       "      <td>0</td>\n",
       "      <td>0</td>\n",
       "      <td>1</td>\n",
       "      <td>1</td>\n",
       "      <td>0</td>\n",
       "      <td>0</td>\n",
       "      <td>0</td>\n",
       "    </tr>\n",
       "    <tr>\n",
       "      <th>1011058</th>\n",
       "      <td>200</td>\n",
       "      <td>1276</td>\n",
       "      <td>45</td>\n",
       "      <td>26</td>\n",
       "      <td>Intermediate Level</td>\n",
       "      <td>2.0</td>\n",
       "      <td>2016</td>\n",
       "      <td>12</td>\n",
       "      <td>13</td>\n",
       "      <td>0</td>\n",
       "      <td>2</td>\n",
       "      <td>0</td>\n",
       "      <td>1</td>\n",
       "      <td>1</td>\n",
       "      <td>0</td>\n",
       "      <td>0</td>\n",
       "      <td>0</td>\n",
       "    </tr>\n",
       "  </tbody>\n",
       "</table>\n",
       "</div>"
      ],
      "text/plain": [
       "           price  num_subscribers  num_reviews  num_lectures  \\\n",
       "course_id                                                      \n",
       "1070968    200    2147             23           51             \n",
       "1113822    75     2792             923          274            \n",
       "1006314    45     2174             74           51             \n",
       "1210588    95     2451             11           36             \n",
       "1011058    200    1276             45           26             \n",
       "\n",
       "                        level  content_duration  year_p  month_p  date_p  \\\n",
       "course_id                                                                  \n",
       "1070968    All Levels          1.5               2017    1        18       \n",
       "1113822    All Levels          39.0              2017    3        9        \n",
       "1006314    Intermediate Level  2.5               2016    12       19       \n",
       "1210588    All Levels          3.0               2017    5        30       \n",
       "1011058    Intermediate Level  2.0               2016    12       13       \n",
       "\n",
       "           is_success  level_enc  is_paid_False  is_paid_True  \\\n",
       "course_id                                                       \n",
       "1070968    1           0          0              1              \n",
       "1113822    1           0          0              1              \n",
       "1006314    1           2          0              1              \n",
       "1210588    1           0          0              1              \n",
       "1011058    0           2          0              1              \n",
       "\n",
       "           subject_Business Finance  subject_Graphic Design  \\\n",
       "course_id                                                     \n",
       "1070968    1                         0                        \n",
       "1113822    1                         0                        \n",
       "1006314    1                         0                        \n",
       "1210588    1                         0                        \n",
       "1011058    1                         0                        \n",
       "\n",
       "           subject_Musical Instruments  subject_Web Development  \n",
       "course_id                                                        \n",
       "1070968    0                            0                        \n",
       "1113822    0                            0                        \n",
       "1006314    0                            0                        \n",
       "1210588    0                            0                        \n",
       "1011058    0                            0                        "
      ]
     },
     "execution_count": 87,
     "metadata": {},
     "output_type": "execute_result"
    }
   ],
   "source": [
    "df_b['level_enc'] = df_b.level.map({\n",
    "    \"All Levels\":0,\n",
    "    \"Beginner Level\":1,\n",
    "    \"Intermediate Level\":2,\n",
    "    \"Expert Level\":3,\n",
    "})\n",
    "df_b = pd.get_dummies(df_b, columns=['is_paid','subject'], prefix_sep='_')\n",
    "df_b.head()"
   ]
  },
  {
   "cell_type": "code",
   "execution_count": 88,
   "metadata": {},
   "outputs": [
    {
     "data": {
      "text/html": [
       "<div>\n",
       "<style scoped>\n",
       "    .dataframe tbody tr th:only-of-type {\n",
       "        vertical-align: middle;\n",
       "    }\n",
       "\n",
       "    .dataframe tbody tr th {\n",
       "        vertical-align: top;\n",
       "    }\n",
       "\n",
       "    .dataframe thead th {\n",
       "        text-align: right;\n",
       "    }\n",
       "</style>\n",
       "<table border=\"1\" class=\"dataframe\">\n",
       "  <thead>\n",
       "    <tr style=\"text-align: right;\">\n",
       "      <th></th>\n",
       "      <th>price</th>\n",
       "      <th>num_subscribers</th>\n",
       "      <th>num_reviews</th>\n",
       "      <th>level</th>\n",
       "      <th>year_p</th>\n",
       "      <th>is_success</th>\n",
       "      <th>level_enc</th>\n",
       "      <th>is_paid_False</th>\n",
       "      <th>is_paid_True</th>\n",
       "      <th>subject_Business Finance</th>\n",
       "      <th>subject_Graphic Design</th>\n",
       "      <th>subject_Musical Instruments</th>\n",
       "      <th>subject_Web Development</th>\n",
       "    </tr>\n",
       "    <tr>\n",
       "      <th>course_id</th>\n",
       "      <th></th>\n",
       "      <th></th>\n",
       "      <th></th>\n",
       "      <th></th>\n",
       "      <th></th>\n",
       "      <th></th>\n",
       "      <th></th>\n",
       "      <th></th>\n",
       "      <th></th>\n",
       "      <th></th>\n",
       "      <th></th>\n",
       "      <th></th>\n",
       "      <th></th>\n",
       "    </tr>\n",
       "  </thead>\n",
       "  <tbody>\n",
       "    <tr>\n",
       "      <th>1070968</th>\n",
       "      <td>200</td>\n",
       "      <td>2147</td>\n",
       "      <td>23</td>\n",
       "      <td>All Levels</td>\n",
       "      <td>2017</td>\n",
       "      <td>1</td>\n",
       "      <td>0</td>\n",
       "      <td>0</td>\n",
       "      <td>1</td>\n",
       "      <td>1</td>\n",
       "      <td>0</td>\n",
       "      <td>0</td>\n",
       "      <td>0</td>\n",
       "    </tr>\n",
       "    <tr>\n",
       "      <th>1113822</th>\n",
       "      <td>75</td>\n",
       "      <td>2792</td>\n",
       "      <td>923</td>\n",
       "      <td>All Levels</td>\n",
       "      <td>2017</td>\n",
       "      <td>1</td>\n",
       "      <td>0</td>\n",
       "      <td>0</td>\n",
       "      <td>1</td>\n",
       "      <td>1</td>\n",
       "      <td>0</td>\n",
       "      <td>0</td>\n",
       "      <td>0</td>\n",
       "    </tr>\n",
       "    <tr>\n",
       "      <th>1006314</th>\n",
       "      <td>45</td>\n",
       "      <td>2174</td>\n",
       "      <td>74</td>\n",
       "      <td>Intermediate Level</td>\n",
       "      <td>2016</td>\n",
       "      <td>1</td>\n",
       "      <td>2</td>\n",
       "      <td>0</td>\n",
       "      <td>1</td>\n",
       "      <td>1</td>\n",
       "      <td>0</td>\n",
       "      <td>0</td>\n",
       "      <td>0</td>\n",
       "    </tr>\n",
       "    <tr>\n",
       "      <th>1210588</th>\n",
       "      <td>95</td>\n",
       "      <td>2451</td>\n",
       "      <td>11</td>\n",
       "      <td>All Levels</td>\n",
       "      <td>2017</td>\n",
       "      <td>1</td>\n",
       "      <td>0</td>\n",
       "      <td>0</td>\n",
       "      <td>1</td>\n",
       "      <td>1</td>\n",
       "      <td>0</td>\n",
       "      <td>0</td>\n",
       "      <td>0</td>\n",
       "    </tr>\n",
       "    <tr>\n",
       "      <th>1011058</th>\n",
       "      <td>200</td>\n",
       "      <td>1276</td>\n",
       "      <td>45</td>\n",
       "      <td>Intermediate Level</td>\n",
       "      <td>2016</td>\n",
       "      <td>0</td>\n",
       "      <td>2</td>\n",
       "      <td>0</td>\n",
       "      <td>1</td>\n",
       "      <td>1</td>\n",
       "      <td>0</td>\n",
       "      <td>0</td>\n",
       "      <td>0</td>\n",
       "    </tr>\n",
       "  </tbody>\n",
       "</table>\n",
       "</div>"
      ],
      "text/plain": [
       "           price  num_subscribers  num_reviews               level  year_p  \\\n",
       "course_id                                                                    \n",
       "1070968    200    2147             23           All Levels          2017     \n",
       "1113822    75     2792             923          All Levels          2017     \n",
       "1006314    45     2174             74           Intermediate Level  2016     \n",
       "1210588    95     2451             11           All Levels          2017     \n",
       "1011058    200    1276             45           Intermediate Level  2016     \n",
       "\n",
       "           is_success  level_enc  is_paid_False  is_paid_True  \\\n",
       "course_id                                                       \n",
       "1070968    1           0          0              1              \n",
       "1113822    1           0          0              1              \n",
       "1006314    1           2          0              1              \n",
       "1210588    1           0          0              1              \n",
       "1011058    0           2          0              1              \n",
       "\n",
       "           subject_Business Finance  subject_Graphic Design  \\\n",
       "course_id                                                     \n",
       "1070968    1                         0                        \n",
       "1113822    1                         0                        \n",
       "1006314    1                         0                        \n",
       "1210588    1                         0                        \n",
       "1011058    1                         0                        \n",
       "\n",
       "           subject_Musical Instruments  subject_Web Development  \n",
       "course_id                                                        \n",
       "1070968    0                            0                        \n",
       "1113822    0                            0                        \n",
       "1006314    0                            0                        \n",
       "1210588    0                            0                        \n",
       "1011058    0                            0                        "
      ]
     },
     "execution_count": 88,
     "metadata": {},
     "output_type": "execute_result"
    }
   ],
   "source": [
    "dfix['level_enc'] = dfix.level.map({\n",
    "    \"All Levels\":0,\n",
    "    \"Beginner Level\":1,\n",
    "    \"Intermediate Level\":2,\n",
    "    \"Expert Level\":3,\n",
    "})\n",
    "dfix = pd.get_dummies(dfix, columns=['is_paid','subject'], prefix_sep='_')\n",
    "dfix.head()"
   ]
  },
  {
   "cell_type": "code",
   "execution_count": 89,
   "metadata": {},
   "outputs": [
    {
     "data": {
      "text/html": [
       "<div>\n",
       "<style scoped>\n",
       "    .dataframe tbody tr th:only-of-type {\n",
       "        vertical-align: middle;\n",
       "    }\n",
       "\n",
       "    .dataframe tbody tr th {\n",
       "        vertical-align: top;\n",
       "    }\n",
       "\n",
       "    .dataframe thead th {\n",
       "        text-align: right;\n",
       "    }\n",
       "</style>\n",
       "<table border=\"1\" class=\"dataframe\">\n",
       "  <thead>\n",
       "    <tr style=\"text-align: right;\">\n",
       "      <th></th>\n",
       "      <th>price</th>\n",
       "      <th>num_lectures</th>\n",
       "      <th>content_duration</th>\n",
       "      <th>year_p</th>\n",
       "      <th>month_p</th>\n",
       "      <th>date_p</th>\n",
       "      <th>is_success</th>\n",
       "      <th>level_enc</th>\n",
       "      <th>is_paid_False</th>\n",
       "      <th>is_paid_True</th>\n",
       "      <th>business_subject</th>\n",
       "      <th>graphic_subject</th>\n",
       "      <th>music_subject</th>\n",
       "      <th>webdev_subject</th>\n",
       "    </tr>\n",
       "    <tr>\n",
       "      <th>course_id</th>\n",
       "      <th></th>\n",
       "      <th></th>\n",
       "      <th></th>\n",
       "      <th></th>\n",
       "      <th></th>\n",
       "      <th></th>\n",
       "      <th></th>\n",
       "      <th></th>\n",
       "      <th></th>\n",
       "      <th></th>\n",
       "      <th></th>\n",
       "      <th></th>\n",
       "      <th></th>\n",
       "      <th></th>\n",
       "    </tr>\n",
       "  </thead>\n",
       "  <tbody>\n",
       "    <tr>\n",
       "      <th>1070968</th>\n",
       "      <td>200</td>\n",
       "      <td>51</td>\n",
       "      <td>1.5</td>\n",
       "      <td>2017</td>\n",
       "      <td>1</td>\n",
       "      <td>18</td>\n",
       "      <td>1</td>\n",
       "      <td>0</td>\n",
       "      <td>0</td>\n",
       "      <td>1</td>\n",
       "      <td>1</td>\n",
       "      <td>0</td>\n",
       "      <td>0</td>\n",
       "      <td>0</td>\n",
       "    </tr>\n",
       "    <tr>\n",
       "      <th>1113822</th>\n",
       "      <td>75</td>\n",
       "      <td>274</td>\n",
       "      <td>39.0</td>\n",
       "      <td>2017</td>\n",
       "      <td>3</td>\n",
       "      <td>9</td>\n",
       "      <td>1</td>\n",
       "      <td>0</td>\n",
       "      <td>0</td>\n",
       "      <td>1</td>\n",
       "      <td>1</td>\n",
       "      <td>0</td>\n",
       "      <td>0</td>\n",
       "      <td>0</td>\n",
       "    </tr>\n",
       "    <tr>\n",
       "      <th>1006314</th>\n",
       "      <td>45</td>\n",
       "      <td>51</td>\n",
       "      <td>2.5</td>\n",
       "      <td>2016</td>\n",
       "      <td>12</td>\n",
       "      <td>19</td>\n",
       "      <td>1</td>\n",
       "      <td>2</td>\n",
       "      <td>0</td>\n",
       "      <td>1</td>\n",
       "      <td>1</td>\n",
       "      <td>0</td>\n",
       "      <td>0</td>\n",
       "      <td>0</td>\n",
       "    </tr>\n",
       "    <tr>\n",
       "      <th>1210588</th>\n",
       "      <td>95</td>\n",
       "      <td>36</td>\n",
       "      <td>3.0</td>\n",
       "      <td>2017</td>\n",
       "      <td>5</td>\n",
       "      <td>30</td>\n",
       "      <td>1</td>\n",
       "      <td>0</td>\n",
       "      <td>0</td>\n",
       "      <td>1</td>\n",
       "      <td>1</td>\n",
       "      <td>0</td>\n",
       "      <td>0</td>\n",
       "      <td>0</td>\n",
       "    </tr>\n",
       "    <tr>\n",
       "      <th>1011058</th>\n",
       "      <td>200</td>\n",
       "      <td>26</td>\n",
       "      <td>2.0</td>\n",
       "      <td>2016</td>\n",
       "      <td>12</td>\n",
       "      <td>13</td>\n",
       "      <td>0</td>\n",
       "      <td>2</td>\n",
       "      <td>0</td>\n",
       "      <td>1</td>\n",
       "      <td>1</td>\n",
       "      <td>0</td>\n",
       "      <td>0</td>\n",
       "      <td>0</td>\n",
       "    </tr>\n",
       "  </tbody>\n",
       "</table>\n",
       "</div>"
      ],
      "text/plain": [
       "           price  num_lectures  content_duration  year_p  month_p  date_p  \\\n",
       "course_id                                                                   \n",
       "1070968    200    51            1.5               2017    1        18       \n",
       "1113822    75     274           39.0              2017    3        9        \n",
       "1006314    45     51            2.5               2016    12       19       \n",
       "1210588    95     36            3.0               2017    5        30       \n",
       "1011058    200    26            2.0               2016    12       13       \n",
       "\n",
       "           is_success  level_enc  is_paid_False  is_paid_True  \\\n",
       "course_id                                                       \n",
       "1070968    1           0          0              1              \n",
       "1113822    1           0          0              1              \n",
       "1006314    1           2          0              1              \n",
       "1210588    1           0          0              1              \n",
       "1011058    0           2          0              1              \n",
       "\n",
       "           business_subject  graphic_subject  music_subject  webdev_subject  \n",
       "course_id                                                                    \n",
       "1070968    1                 0                0              0               \n",
       "1113822    1                 0                0              0               \n",
       "1006314    1                 0                0              0               \n",
       "1210588    1                 0                0              0               \n",
       "1011058    1                 0                0              0               "
      ]
     },
     "execution_count": 89,
     "metadata": {},
     "output_type": "execute_result"
    }
   ],
   "source": [
    "df_b.drop(columns=['level','num_subscribers','num_reviews'], inplace=True)\n",
    "df_b.rename(columns={\n",
    "    \"subject_Business Finance\":\"business_subject\",\n",
    "    \"subject_Graphic Design\":\"graphic_subject\",\n",
    "    \"subject_Musical Instruments\":\"music_subject\",\n",
    "    \"subject_Web Development\":\"webdev_subject\"\n",
    "}, inplace=True)\n",
    "df_b.head()"
   ]
  },
  {
   "cell_type": "code",
   "execution_count": 90,
   "metadata": {},
   "outputs": [
    {
     "data": {
      "text/html": [
       "<div>\n",
       "<style scoped>\n",
       "    .dataframe tbody tr th:only-of-type {\n",
       "        vertical-align: middle;\n",
       "    }\n",
       "\n",
       "    .dataframe tbody tr th {\n",
       "        vertical-align: top;\n",
       "    }\n",
       "\n",
       "    .dataframe thead th {\n",
       "        text-align: right;\n",
       "    }\n",
       "</style>\n",
       "<table border=\"1\" class=\"dataframe\">\n",
       "  <thead>\n",
       "    <tr style=\"text-align: right;\">\n",
       "      <th></th>\n",
       "      <th>year_p</th>\n",
       "      <th>is_success</th>\n",
       "      <th>level_enc</th>\n",
       "      <th>is_paid_False</th>\n",
       "      <th>is_paid_True</th>\n",
       "      <th>business_subject</th>\n",
       "      <th>graphic_subject</th>\n",
       "      <th>music_subject</th>\n",
       "      <th>webdev_subject</th>\n",
       "    </tr>\n",
       "    <tr>\n",
       "      <th>course_id</th>\n",
       "      <th></th>\n",
       "      <th></th>\n",
       "      <th></th>\n",
       "      <th></th>\n",
       "      <th></th>\n",
       "      <th></th>\n",
       "      <th></th>\n",
       "      <th></th>\n",
       "      <th></th>\n",
       "    </tr>\n",
       "  </thead>\n",
       "  <tbody>\n",
       "    <tr>\n",
       "      <th>1070968</th>\n",
       "      <td>2017</td>\n",
       "      <td>1</td>\n",
       "      <td>0</td>\n",
       "      <td>0</td>\n",
       "      <td>1</td>\n",
       "      <td>1</td>\n",
       "      <td>0</td>\n",
       "      <td>0</td>\n",
       "      <td>0</td>\n",
       "    </tr>\n",
       "    <tr>\n",
       "      <th>1113822</th>\n",
       "      <td>2017</td>\n",
       "      <td>1</td>\n",
       "      <td>0</td>\n",
       "      <td>0</td>\n",
       "      <td>1</td>\n",
       "      <td>1</td>\n",
       "      <td>0</td>\n",
       "      <td>0</td>\n",
       "      <td>0</td>\n",
       "    </tr>\n",
       "    <tr>\n",
       "      <th>1006314</th>\n",
       "      <td>2016</td>\n",
       "      <td>1</td>\n",
       "      <td>2</td>\n",
       "      <td>0</td>\n",
       "      <td>1</td>\n",
       "      <td>1</td>\n",
       "      <td>0</td>\n",
       "      <td>0</td>\n",
       "      <td>0</td>\n",
       "    </tr>\n",
       "    <tr>\n",
       "      <th>1210588</th>\n",
       "      <td>2017</td>\n",
       "      <td>1</td>\n",
       "      <td>0</td>\n",
       "      <td>0</td>\n",
       "      <td>1</td>\n",
       "      <td>1</td>\n",
       "      <td>0</td>\n",
       "      <td>0</td>\n",
       "      <td>0</td>\n",
       "    </tr>\n",
       "    <tr>\n",
       "      <th>1011058</th>\n",
       "      <td>2016</td>\n",
       "      <td>0</td>\n",
       "      <td>2</td>\n",
       "      <td>0</td>\n",
       "      <td>1</td>\n",
       "      <td>1</td>\n",
       "      <td>0</td>\n",
       "      <td>0</td>\n",
       "      <td>0</td>\n",
       "    </tr>\n",
       "  </tbody>\n",
       "</table>\n",
       "</div>"
      ],
      "text/plain": [
       "           year_p  is_success  level_enc  is_paid_False  is_paid_True  \\\n",
       "course_id                                                               \n",
       "1070968    2017    1           0          0              1              \n",
       "1113822    2017    1           0          0              1              \n",
       "1006314    2016    1           2          0              1              \n",
       "1210588    2017    1           0          0              1              \n",
       "1011058    2016    0           2          0              1              \n",
       "\n",
       "           business_subject  graphic_subject  music_subject  webdev_subject  \n",
       "course_id                                                                    \n",
       "1070968    1                 0                0              0               \n",
       "1113822    1                 0                0              0               \n",
       "1006314    1                 0                0              0               \n",
       "1210588    1                 0                0              0               \n",
       "1011058    1                 0                0              0               "
      ]
     },
     "execution_count": 90,
     "metadata": {},
     "output_type": "execute_result"
    }
   ],
   "source": [
    "dfix.drop(columns=['level','price','num_subscribers','num_reviews'], inplace=True)\n",
    "dfix.rename(columns={\n",
    "    \"subject_Business Finance\":\"business_subject\",\n",
    "    \"subject_Graphic Design\":\"graphic_subject\",\n",
    "    \"subject_Musical Instruments\":\"music_subject\",\n",
    "    \"subject_Web Development\":\"webdev_subject\"\n",
    "}, inplace=True)\n",
    "dfix.head()"
   ]
  },
  {
   "cell_type": "code",
   "execution_count": 91,
   "metadata": {},
   "outputs": [
    {
     "name": "stdout",
     "output_type": "stream",
     "text": [
      "<class 'pandas.core.frame.DataFrame'>\n",
      "Int64Index: 3671 entries, 1070968 to 297602\n",
      "Data columns (total 14 columns):\n",
      " #   Column            Non-Null Count  Dtype  \n",
      "---  ------            --------------  -----  \n",
      " 0   price             3671 non-null   int64  \n",
      " 1   num_lectures      3671 non-null   int64  \n",
      " 2   content_duration  3671 non-null   float64\n",
      " 3   year_p            3671 non-null   int64  \n",
      " 4   month_p           3671 non-null   int64  \n",
      " 5   date_p            3671 non-null   int64  \n",
      " 6   is_success        3671 non-null   int64  \n",
      " 7   level_enc         3671 non-null   int64  \n",
      " 8   is_paid_False     3671 non-null   uint8  \n",
      " 9   is_paid_True      3671 non-null   uint8  \n",
      " 10  business_subject  3671 non-null   uint8  \n",
      " 11  graphic_subject   3671 non-null   uint8  \n",
      " 12  music_subject     3671 non-null   uint8  \n",
      " 13  webdev_subject    3671 non-null   uint8  \n",
      "dtypes: float64(1), int64(7), uint8(6)\n",
      "memory usage: 279.6 KB\n"
     ]
    }
   ],
   "source": [
    "df_b.info()"
   ]
  },
  {
   "cell_type": "code",
   "execution_count": 92,
   "metadata": {},
   "outputs": [
    {
     "name": "stdout",
     "output_type": "stream",
     "text": [
      "<class 'pandas.core.frame.DataFrame'>\n",
      "Int64Index: 3671 entries, 1070968 to 297602\n",
      "Data columns (total 9 columns):\n",
      " #   Column            Non-Null Count  Dtype\n",
      "---  ------            --------------  -----\n",
      " 0   year_p            3671 non-null   int64\n",
      " 1   is_success        3671 non-null   int64\n",
      " 2   level_enc         3671 non-null   int64\n",
      " 3   is_paid_False     3671 non-null   uint8\n",
      " 4   is_paid_True      3671 non-null   uint8\n",
      " 5   business_subject  3671 non-null   uint8\n",
      " 6   graphic_subject   3671 non-null   uint8\n",
      " 7   music_subject     3671 non-null   uint8\n",
      " 8   webdev_subject    3671 non-null   uint8\n",
      "dtypes: int64(3), uint8(6)\n",
      "memory usage: 136.2 KB\n"
     ]
    }
   ],
   "source": [
    "dfix.info()"
   ]
  },
  {
   "cell_type": "markdown",
   "metadata": {},
   "source": [
    "# (8) Exporting Clean File"
   ]
  },
  {
   "cell_type": "code",
   "execution_count": 93,
   "metadata": {},
   "outputs": [],
   "source": [
    "dfix.to_csv('final_f.csv')\n",
    "df_b.to_csv('final_b.csv')"
   ]
  },
  {
   "cell_type": "markdown",
   "metadata": {},
   "source": [
    "# (9) Handling Imbalance Data"
   ]
  },
  {
   "cell_type": "code",
   "execution_count": 94,
   "metadata": {},
   "outputs": [
    {
     "data": {
      "text/plain": [
       "0    0.628167\n",
       "1    0.371833\n",
       "Name: is_success, dtype: float64"
      ]
     },
     "execution_count": 94,
     "metadata": {},
     "output_type": "execute_result"
    }
   ],
   "source": [
    "dfix.is_success.value_counts(normalize=True)"
   ]
  },
  {
   "cell_type": "markdown",
   "metadata": {},
   "source": [
    "- Data sudah balance jadi tidak perlu ada handling imbalance"
   ]
  },
  {
   "cell_type": "markdown",
   "metadata": {},
   "source": [
    "# Splitting Data"
   ]
  },
  {
   "cell_type": "markdown",
   "metadata": {},
   "source": [
    "- **Semua yang berakhiran \"b\", berarti df_base**\n",
    "- **Semua yang berakhiran \"f\", merupakan dfix hasil feature engineering**"
   ]
  },
  {
   "cell_type": "code",
   "execution_count": 95,
   "metadata": {},
   "outputs": [],
   "source": [
    "Xb = df_b.drop(columns ='is_success')\n",
    "yb = df_b.is_success\n",
    "\n",
    "Xf = dfix.drop(columns ='is_success')\n",
    "yf = dfix.is_success"
   ]
  },
  {
   "cell_type": "code",
   "execution_count": 96,
   "metadata": {},
   "outputs": [],
   "source": [
    "Xb_train, Xb_test, yb_train, yb_test = train_test_split(Xb, yb, stratify=yb, test_size = .25, random_state=0)\n",
    "Xf_train, Xf_test, yf_train, yf_test = train_test_split(Xf, yf, stratify=yf, test_size = .25, random_state=0)"
   ]
  },
  {
   "cell_type": "code",
   "execution_count": 97,
   "metadata": {},
   "outputs": [
    {
     "data": {
      "text/plain": [
       "(2753, 13)"
      ]
     },
     "execution_count": 97,
     "metadata": {},
     "output_type": "execute_result"
    }
   ],
   "source": [
    "Xb_train.shape"
   ]
  },
  {
   "cell_type": "code",
   "execution_count": 98,
   "metadata": {},
   "outputs": [
    {
     "data": {
      "text/plain": [
       "(2753, 8)"
      ]
     },
     "execution_count": 98,
     "metadata": {},
     "output_type": "execute_result"
    }
   ],
   "source": [
    "Xf_train.shape"
   ]
  },
  {
   "cell_type": "code",
   "execution_count": 99,
   "metadata": {},
   "outputs": [
    {
     "data": {
      "text/html": [
       "<div>\n",
       "<style scoped>\n",
       "    .dataframe tbody tr th:only-of-type {\n",
       "        vertical-align: middle;\n",
       "    }\n",
       "\n",
       "    .dataframe tbody tr th {\n",
       "        vertical-align: top;\n",
       "    }\n",
       "\n",
       "    .dataframe thead th {\n",
       "        text-align: right;\n",
       "    }\n",
       "</style>\n",
       "<table border=\"1\" class=\"dataframe\">\n",
       "  <thead>\n",
       "    <tr style=\"text-align: right;\">\n",
       "      <th></th>\n",
       "      <th>year_p</th>\n",
       "      <th>level_enc</th>\n",
       "      <th>is_paid_False</th>\n",
       "      <th>is_paid_True</th>\n",
       "      <th>business_subject</th>\n",
       "      <th>graphic_subject</th>\n",
       "      <th>music_subject</th>\n",
       "      <th>webdev_subject</th>\n",
       "    </tr>\n",
       "    <tr>\n",
       "      <th>course_id</th>\n",
       "      <th></th>\n",
       "      <th></th>\n",
       "      <th></th>\n",
       "      <th></th>\n",
       "      <th></th>\n",
       "      <th></th>\n",
       "      <th></th>\n",
       "      <th></th>\n",
       "    </tr>\n",
       "  </thead>\n",
       "  <tbody>\n",
       "    <tr>\n",
       "      <th>629088</th>\n",
       "      <td>2015</td>\n",
       "      <td>1</td>\n",
       "      <td>0</td>\n",
       "      <td>1</td>\n",
       "      <td>0</td>\n",
       "      <td>0</td>\n",
       "      <td>0</td>\n",
       "      <td>1</td>\n",
       "    </tr>\n",
       "    <tr>\n",
       "      <th>544556</th>\n",
       "      <td>2015</td>\n",
       "      <td>0</td>\n",
       "      <td>0</td>\n",
       "      <td>1</td>\n",
       "      <td>1</td>\n",
       "      <td>0</td>\n",
       "      <td>0</td>\n",
       "      <td>0</td>\n",
       "    </tr>\n",
       "    <tr>\n",
       "      <th>219838</th>\n",
       "      <td>2014</td>\n",
       "      <td>2</td>\n",
       "      <td>0</td>\n",
       "      <td>1</td>\n",
       "      <td>0</td>\n",
       "      <td>0</td>\n",
       "      <td>0</td>\n",
       "      <td>1</td>\n",
       "    </tr>\n",
       "    <tr>\n",
       "      <th>883394</th>\n",
       "      <td>2016</td>\n",
       "      <td>0</td>\n",
       "      <td>0</td>\n",
       "      <td>1</td>\n",
       "      <td>1</td>\n",
       "      <td>0</td>\n",
       "      <td>0</td>\n",
       "      <td>0</td>\n",
       "    </tr>\n",
       "    <tr>\n",
       "      <th>735550</th>\n",
       "      <td>2016</td>\n",
       "      <td>0</td>\n",
       "      <td>0</td>\n",
       "      <td>1</td>\n",
       "      <td>1</td>\n",
       "      <td>0</td>\n",
       "      <td>0</td>\n",
       "      <td>0</td>\n",
       "    </tr>\n",
       "  </tbody>\n",
       "</table>\n",
       "</div>"
      ],
      "text/plain": [
       "           year_p  level_enc  is_paid_False  is_paid_True  business_subject  \\\n",
       "course_id                                                                     \n",
       "629088     2015    1          0              1             0                  \n",
       "544556     2015    0          0              1             1                  \n",
       "219838     2014    2          0              1             0                  \n",
       "883394     2016    0          0              1             1                  \n",
       "735550     2016    0          0              1             1                  \n",
       "\n",
       "           graphic_subject  music_subject  webdev_subject  \n",
       "course_id                                                  \n",
       "629088     0                0              1               \n",
       "544556     0                0              0               \n",
       "219838     0                0              1               \n",
       "883394     0                0              0               \n",
       "735550     0                0              0               "
      ]
     },
     "execution_count": 99,
     "metadata": {},
     "output_type": "execute_result"
    }
   ],
   "source": [
    "Xf_train.head()"
   ]
  },
  {
   "cell_type": "code",
   "execution_count": 100,
   "metadata": {},
   "outputs": [
    {
     "data": {
      "text/plain": [
       "year_p              2015\n",
       "level_enc           1   \n",
       "is_paid_False       0   \n",
       "is_paid_True        1   \n",
       "business_subject    0   \n",
       "graphic_subject     0   \n",
       "music_subject       0   \n",
       "webdev_subject      1   \n",
       "Name: 629088, dtype: int64"
      ]
     },
     "execution_count": 100,
     "metadata": {},
     "output_type": "execute_result"
    }
   ],
   "source": [
    "Xf_train.iloc[0]"
   ]
  },
  {
   "cell_type": "markdown",
   "metadata": {},
   "source": [
    "# Modeling"
   ]
  },
  {
   "cell_type": "markdown",
   "metadata": {},
   "source": [
    "##### Dalam pembuatan model ini, akan dilimitasi bahwa model hanya digunakan sebagai alat untuk memprediksi/mendeteksi sukses tidak nya suatu course yang akan dibuka. \n",
    "##### Hasil prediksi akan berupa persentase kesuksesan / keberhasilan dari course yang akan di-*release* dengan feature-feature yang tersedia"
   ]
  },
  {
   "cell_type": "markdown",
   "metadata": {},
   "source": [
    "- Dalam penggunaan algoritma untuk membuat model **akan banyak classification report, confusion matrix, serta accuracy score dan roc_auc_score yang dihasilkan**. Oleh karena itu akan dijelaskan terlebih dahulu disini, sehingga ini dapat diterapkan ke setiap pembacaan classification report, confusion matrix, serta accuracy and roc_auc_score\n",
    "\n",
    "![ini image](https://i.ibb.co/jWc7mtX/Confusion-matrix.png)\n",
    "\n",
    "### Penjelasan Classification Report\n",
    "1. recall 0 (recall negatif) => merupakan jumlah prediksi benar di kelas negatif (TN) dibandingkan seluruh jumlah aktual negatif (TN + FP)\n",
    "2. recall 1 (recall positif) => merupakan jumlah prediksi benar di kelas positif (TP) dibandingkan seluruh jumlah aktual positif (TP + FN)\n",
    "3. precision 0 (precision negatif) => merupakan jumlah prediksi benar di kelas negatif (TN) dibandingkan seluruh jumlah tebakan negatif (TN + FN)\n",
    "4. precision 1 (precision positif) => merupakan jumlah prediksi benar di kelas positif (TP) dibandingkan seluruh jumlah tebakan positif (TP + FP)\n",
    "5. Accuracy => seluruh tebakan benar dibandingkan seluruh seluruh data\n",
    "\n",
    "- Dikarenakan dataset yang digunakan memiliki target yang balance, maka accuracy dapat juga di pertimbangkan sebagai penentu ketepatan model\n",
    "- Fokus model ialah untuk memperoleh recall negatif dan akurasi setinggi mungkin, sehingga False Positif dapat dihindari.\n",
    "- Alasan mengapa False Positif perlu dihindari dikarenakan:\n",
    "  - Course yang actualnya **SUKSES (1)** ditebak **TIDAK SUKSES(0)** (FN), perusahaan hanya rugi karena kehilangan kesempatan meraup keuntungan.\n",
    "  - Sedangkan ketika course yang actualnya **TIDAK SUKSES (0)** ditebak **SUKSES(1)**, maka perusahaan akan rugi karena kehilangan cost yang telah banyak dikeluarkan, apalagi jika lecture yang dikontrak banyak, maka mendapat kerugian juga karena sudang menggaji nya. Oleh karena itu kerugian ini lah yang harus dihindari\n",
    "- Artinya tujuan **pembuatan model akan dicari yang recall 0 dan accuracy nya tinggi**\n",
    "\n",
    "### Penjelasan Confusion Matrix\n",
    "1. TP ==> ialah ketika aktual positif ditebak positif\n",
    "2. FP ==> ialah ketika aktual negatif ditebak positif\n",
    "3. TN ==> ialah ketika aktual negatif ditebak negatif\n",
    "4. FN ==> ialah ketika aktual positif ditebak negatif\n"
   ]
  },
  {
   "cell_type": "code",
   "execution_count": null,
   "metadata": {},
   "outputs": [],
   "source": []
  },
  {
   "cell_type": "markdown",
   "metadata": {},
   "source": [
    "# (10-11, 14-15) Training with Base and Complex Model"
   ]
  },
  {
   "cell_type": "markdown",
   "metadata": {},
   "source": [
    "### Model 1 - Logistic Regeression"
   ]
  },
  {
   "cell_type": "markdown",
   "metadata": {},
   "source": [
    "### 1. Base"
   ]
  },
  {
   "cell_type": "code",
   "execution_count": 101,
   "metadata": {},
   "outputs": [
    {
     "data": {
      "text/plain": [
       "LogisticRegression()"
      ]
     },
     "execution_count": 101,
     "metadata": {},
     "output_type": "execute_result"
    }
   ],
   "source": [
    "model_b1 = LogisticRegression()\n",
    "model_b1.fit(Xb_train,yb_train)"
   ]
  },
  {
   "cell_type": "code",
   "execution_count": 102,
   "metadata": {},
   "outputs": [],
   "source": [
    "yb1_pred = model_b1.predict(Xb_test)\n",
    "yb1_predt = model_b1.predict(Xb_train)"
   ]
  },
  {
   "cell_type": "code",
   "execution_count": 103,
   "metadata": {},
   "outputs": [
    {
     "name": "stdout",
     "output_type": "stream",
     "text": [
      "              precision    recall  f1-score   support\n",
      "\n",
      "           0       0.78      0.80      0.79       577\n",
      "           1       0.65      0.62      0.63       341\n",
      "\n",
      "    accuracy                           0.73       918\n",
      "   macro avg       0.71      0.71      0.71       918\n",
      "weighted avg       0.73      0.73      0.73       918\n",
      "\n"
     ]
    }
   ],
   "source": [
    "print(classification_report(yb_test, yb1_pred))"
   ]
  },
  {
   "cell_type": "code",
   "execution_count": 104,
   "metadata": {},
   "outputs": [
    {
     "name": "stdout",
     "output_type": "stream",
     "text": [
      "              precision    recall  f1-score   support\n",
      "\n",
      "           0       0.77      0.83      0.80      1729\n",
      "           1       0.67      0.59      0.63      1024\n",
      "\n",
      "    accuracy                           0.74      2753\n",
      "   macro avg       0.72      0.71      0.72      2753\n",
      "weighted avg       0.74      0.74      0.74      2753\n",
      "\n"
     ]
    }
   ],
   "source": [
    "print(classification_report(yb_train, yb1_predt))"
   ]
  },
  {
   "cell_type": "code",
   "execution_count": 105,
   "metadata": {},
   "outputs": [
    {
     "data": {
      "text/html": [
       "<div>\n",
       "<style scoped>\n",
       "    .dataframe tbody tr th:only-of-type {\n",
       "        vertical-align: middle;\n",
       "    }\n",
       "\n",
       "    .dataframe tbody tr th {\n",
       "        vertical-align: top;\n",
       "    }\n",
       "\n",
       "    .dataframe thead th {\n",
       "        text-align: right;\n",
       "    }\n",
       "</style>\n",
       "<table border=\"1\" class=\"dataframe\">\n",
       "  <thead>\n",
       "    <tr style=\"text-align: right;\">\n",
       "      <th></th>\n",
       "      <th>Pred 1</th>\n",
       "      <th>Pred 0</th>\n",
       "    </tr>\n",
       "  </thead>\n",
       "  <tbody>\n",
       "    <tr>\n",
       "      <th>Act 1</th>\n",
       "      <td>210</td>\n",
       "      <td>131</td>\n",
       "    </tr>\n",
       "    <tr>\n",
       "      <th>Act 0</th>\n",
       "      <td>113</td>\n",
       "      <td>464</td>\n",
       "    </tr>\n",
       "  </tbody>\n",
       "</table>\n",
       "</div>"
      ],
      "text/plain": [
       "       Pred 1  Pred 0\n",
       "Act 1  210     131   \n",
       "Act 0  113     464   "
      ]
     },
     "execution_count": 105,
     "metadata": {},
     "output_type": "execute_result"
    }
   ],
   "source": [
    "cbb1 = confusion_matrix(yb_test, yb1_pred, labels=[1, 0])\n",
    "cb_b1 = pd.DataFrame(cbb1,\n",
    "                 columns=['Pred 1', 'Pred 0'],\n",
    "                 index=['Act 1', 'Act 0'])\n",
    "cb_b1"
   ]
  },
  {
   "cell_type": "code",
   "execution_count": 106,
   "metadata": {},
   "outputs": [],
   "source": [
    "roc_b1 = roc_auc_score(yb_test, yb1_pred)\n",
    "recall0_b1 = recall_score(yb_test, yb1_pred, pos_label=0)\n",
    "FNb1= cb_b1['Pred 0'].iloc[0]\n",
    "FPb1 = cb_b1['Pred 1'].iloc[1]"
   ]
  },
  {
   "cell_type": "markdown",
   "metadata": {},
   "source": [
    "### 2. Complex (dfix)"
   ]
  },
  {
   "cell_type": "code",
   "execution_count": 107,
   "metadata": {},
   "outputs": [
    {
     "data": {
      "text/plain": [
       "LogisticRegression()"
      ]
     },
     "execution_count": 107,
     "metadata": {},
     "output_type": "execute_result"
    }
   ],
   "source": [
    "model_f1 = LogisticRegression()\n",
    "model_f1.fit(Xf_train,yf_train)"
   ]
  },
  {
   "cell_type": "code",
   "execution_count": 108,
   "metadata": {},
   "outputs": [],
   "source": [
    "yf1_pred = model_f1.predict(Xf_test)\n",
    "yf1_predt = model_f1.predict(Xf_train)"
   ]
  },
  {
   "cell_type": "code",
   "execution_count": 109,
   "metadata": {},
   "outputs": [
    {
     "name": "stdout",
     "output_type": "stream",
     "text": [
      "              precision    recall  f1-score   support\n",
      "\n",
      "           0       0.82      0.79      0.80       577\n",
      "           1       0.66      0.70      0.68       341\n",
      "\n",
      "    accuracy                           0.76       918\n",
      "   macro avg       0.74      0.74      0.74       918\n",
      "weighted avg       0.76      0.76      0.76       918\n",
      "\n"
     ]
    }
   ],
   "source": [
    "print(classification_report(yf_test, yf1_pred))"
   ]
  },
  {
   "cell_type": "code",
   "execution_count": 110,
   "metadata": {},
   "outputs": [
    {
     "name": "stdout",
     "output_type": "stream",
     "text": [
      "              precision    recall  f1-score   support\n",
      "\n",
      "           0       0.81      0.81      0.81      1729\n",
      "           1       0.68      0.67      0.67      1024\n",
      "\n",
      "    accuracy                           0.76      2753\n",
      "   macro avg       0.74      0.74      0.74      2753\n",
      "weighted avg       0.76      0.76      0.76      2753\n",
      "\n"
     ]
    }
   ],
   "source": [
    "print(classification_report(yf_train, yf1_predt))"
   ]
  },
  {
   "cell_type": "code",
   "execution_count": 111,
   "metadata": {},
   "outputs": [
    {
     "data": {
      "text/html": [
       "<div>\n",
       "<style scoped>\n",
       "    .dataframe tbody tr th:only-of-type {\n",
       "        vertical-align: middle;\n",
       "    }\n",
       "\n",
       "    .dataframe tbody tr th {\n",
       "        vertical-align: top;\n",
       "    }\n",
       "\n",
       "    .dataframe thead th {\n",
       "        text-align: right;\n",
       "    }\n",
       "</style>\n",
       "<table border=\"1\" class=\"dataframe\">\n",
       "  <thead>\n",
       "    <tr style=\"text-align: right;\">\n",
       "      <th></th>\n",
       "      <th>Pred 1</th>\n",
       "      <th>Pred 0</th>\n",
       "    </tr>\n",
       "  </thead>\n",
       "  <tbody>\n",
       "    <tr>\n",
       "      <th>Act 1</th>\n",
       "      <td>239</td>\n",
       "      <td>102</td>\n",
       "    </tr>\n",
       "    <tr>\n",
       "      <th>Act 0</th>\n",
       "      <td>122</td>\n",
       "      <td>455</td>\n",
       "    </tr>\n",
       "  </tbody>\n",
       "</table>\n",
       "</div>"
      ],
      "text/plain": [
       "       Pred 1  Pred 0\n",
       "Act 1  239     102   \n",
       "Act 0  122     455   "
      ]
     },
     "execution_count": 111,
     "metadata": {},
     "output_type": "execute_result"
    }
   ],
   "source": [
    "cfb1 = confusion_matrix(yf_test, yf1_pred, labels=[1, 0])\n",
    "cf_b1 = pd.DataFrame(cfb1,\n",
    "                 columns=['Pred 1', 'Pred 0'],\n",
    "                 index=['Act 1', 'Act 0'])\n",
    "cf_b1"
   ]
  },
  {
   "cell_type": "code",
   "execution_count": 112,
   "metadata": {},
   "outputs": [],
   "source": [
    "roc_f1 = roc_auc_score(yf_test, yf1_pred)\n",
    "recall0_f1 = recall_score(yf_test, yf1_pred, pos_label=0)\n",
    "FNf1= cf_b1['Pred 0'].iloc[0]\n",
    "FPf1= cf_b1['Pred 1'].iloc[1]"
   ]
  },
  {
   "cell_type": "markdown",
   "metadata": {},
   "source": [
    "### Model 2 - XGB Classifier"
   ]
  },
  {
   "cell_type": "markdown",
   "metadata": {},
   "source": [
    "### 1. Base"
   ]
  },
  {
   "cell_type": "code",
   "execution_count": 113,
   "metadata": {},
   "outputs": [
    {
     "data": {
      "text/plain": [
       "XGBClassifier()"
      ]
     },
     "execution_count": 113,
     "metadata": {},
     "output_type": "execute_result"
    }
   ],
   "source": [
    "model_b2 = XGBClassifier()\n",
    "model_b2.fit(Xb_train,yb_train)"
   ]
  },
  {
   "cell_type": "code",
   "execution_count": 114,
   "metadata": {},
   "outputs": [],
   "source": [
    "yb2_pred = model_b2.predict(Xb_test)\n",
    "yb2_predt = model_b2.predict(Xb_train)"
   ]
  },
  {
   "cell_type": "code",
   "execution_count": 115,
   "metadata": {},
   "outputs": [
    {
     "name": "stdout",
     "output_type": "stream",
     "text": [
      "              precision    recall  f1-score   support\n",
      "\n",
      "           0       0.81      0.84      0.82       577\n",
      "           1       0.71      0.66      0.68       341\n",
      "\n",
      "    accuracy                           0.77       918\n",
      "   macro avg       0.76      0.75      0.75       918\n",
      "weighted avg       0.77      0.77      0.77       918\n",
      "\n"
     ]
    }
   ],
   "source": [
    "print(classification_report(yb_test, yb2_pred))"
   ]
  },
  {
   "cell_type": "code",
   "execution_count": 116,
   "metadata": {},
   "outputs": [
    {
     "name": "stdout",
     "output_type": "stream",
     "text": [
      "              precision    recall  f1-score   support\n",
      "\n",
      "           0       0.84      0.88      0.86      1729\n",
      "           1       0.78      0.71      0.74      1024\n",
      "\n",
      "    accuracy                           0.82      2753\n",
      "   macro avg       0.81      0.79      0.80      2753\n",
      "weighted avg       0.81      0.82      0.81      2753\n",
      "\n"
     ]
    }
   ],
   "source": [
    "print(classification_report(yb_train, yb2_predt))"
   ]
  },
  {
   "cell_type": "code",
   "execution_count": 280,
   "metadata": {},
   "outputs": [
    {
     "data": {
      "text/plain": [
       "0.7501893198208958"
      ]
     },
     "execution_count": 280,
     "metadata": {},
     "output_type": "execute_result"
    }
   ],
   "source": [
    "roc_auc_score(yb_test, yb2_pred)"
   ]
  },
  {
   "cell_type": "code",
   "execution_count": 279,
   "metadata": {},
   "outputs": [
    {
     "data": {
      "text/plain": [
       "0.7937634425607286"
      ]
     },
     "execution_count": 279,
     "metadata": {},
     "output_type": "execute_result"
    }
   ],
   "source": [
    "roc_auc_score(yb_train, yb2_predt)"
   ]
  },
  {
   "cell_type": "code",
   "execution_count": 117,
   "metadata": {},
   "outputs": [
    {
     "data": {
      "text/html": [
       "<div>\n",
       "<style scoped>\n",
       "    .dataframe tbody tr th:only-of-type {\n",
       "        vertical-align: middle;\n",
       "    }\n",
       "\n",
       "    .dataframe tbody tr th {\n",
       "        vertical-align: top;\n",
       "    }\n",
       "\n",
       "    .dataframe thead th {\n",
       "        text-align: right;\n",
       "    }\n",
       "</style>\n",
       "<table border=\"1\" class=\"dataframe\">\n",
       "  <thead>\n",
       "    <tr style=\"text-align: right;\">\n",
       "      <th></th>\n",
       "      <th>Pred 1</th>\n",
       "      <th>Pred 0</th>\n",
       "    </tr>\n",
       "  </thead>\n",
       "  <tbody>\n",
       "    <tr>\n",
       "      <th>Act 1</th>\n",
       "      <td>225</td>\n",
       "      <td>116</td>\n",
       "    </tr>\n",
       "    <tr>\n",
       "      <th>Act 0</th>\n",
       "      <td>92</td>\n",
       "      <td>485</td>\n",
       "    </tr>\n",
       "  </tbody>\n",
       "</table>\n",
       "</div>"
      ],
      "text/plain": [
       "       Pred 1  Pred 0\n",
       "Act 1  225     116   \n",
       "Act 0  92      485   "
      ]
     },
     "execution_count": 117,
     "metadata": {},
     "output_type": "execute_result"
    }
   ],
   "source": [
    "cbb2 = confusion_matrix(yb_test, yb2_pred, labels=[1, 0])\n",
    "cb_b2 = pd.DataFrame(cbb2,\n",
    "                 columns=['Pred 1', 'Pred 0'],\n",
    "                 index=['Act 1', 'Act 0'])\n",
    "cb_b2"
   ]
  },
  {
   "cell_type": "code",
   "execution_count": 118,
   "metadata": {},
   "outputs": [],
   "source": [
    "roc_b2 = roc_auc_score(yb_test, yb2_pred)\n",
    "recall0_b2 = recall_score(yb_test, yb2_pred, pos_label=0)\n",
    "FNb2= cb_b2['Pred 0'].iloc[0]\n",
    "FPb2 = cb_b2['Pred 1'].iloc[1]"
   ]
  },
  {
   "cell_type": "markdown",
   "metadata": {},
   "source": [
    "### 2. Complex (dfix)"
   ]
  },
  {
   "cell_type": "code",
   "execution_count": 119,
   "metadata": {},
   "outputs": [
    {
     "data": {
      "text/plain": [
       "XGBClassifier()"
      ]
     },
     "execution_count": 119,
     "metadata": {},
     "output_type": "execute_result"
    }
   ],
   "source": [
    "model_f2 = XGBClassifier()\n",
    "model_f2.fit(Xf_train,yf_train)"
   ]
  },
  {
   "cell_type": "code",
   "execution_count": 120,
   "metadata": {},
   "outputs": [],
   "source": [
    "yf2_pred = model_f2.predict(Xf_test)\n",
    "yf2_predt = model_f2.predict(Xf_train)"
   ]
  },
  {
   "cell_type": "code",
   "execution_count": 121,
   "metadata": {},
   "outputs": [
    {
     "name": "stdout",
     "output_type": "stream",
     "text": [
      "              precision    recall  f1-score   support\n",
      "\n",
      "           0       0.80      0.84      0.82       577\n",
      "           1       0.71      0.65      0.68       341\n",
      "\n",
      "    accuracy                           0.77       918\n",
      "   macro avg       0.76      0.75      0.75       918\n",
      "weighted avg       0.77      0.77      0.77       918\n",
      "\n"
     ]
    }
   ],
   "source": [
    "print(classification_report(yf_test, yf2_pred))"
   ]
  },
  {
   "cell_type": "code",
   "execution_count": 122,
   "metadata": {},
   "outputs": [
    {
     "name": "stdout",
     "output_type": "stream",
     "text": [
      "              precision    recall  f1-score   support\n",
      "\n",
      "           0       0.79      0.86      0.82      1729\n",
      "           1       0.72      0.61      0.66      1024\n",
      "\n",
      "    accuracy                           0.77      2753\n",
      "   macro avg       0.75      0.73      0.74      2753\n",
      "weighted avg       0.76      0.77      0.76      2753\n",
      "\n"
     ]
    }
   ],
   "source": [
    "print(classification_report(yf_train, yf2_predt))"
   ]
  },
  {
   "cell_type": "code",
   "execution_count": 123,
   "metadata": {},
   "outputs": [
    {
     "data": {
      "text/html": [
       "<div>\n",
       "<style scoped>\n",
       "    .dataframe tbody tr th:only-of-type {\n",
       "        vertical-align: middle;\n",
       "    }\n",
       "\n",
       "    .dataframe tbody tr th {\n",
       "        vertical-align: top;\n",
       "    }\n",
       "\n",
       "    .dataframe thead th {\n",
       "        text-align: right;\n",
       "    }\n",
       "</style>\n",
       "<table border=\"1\" class=\"dataframe\">\n",
       "  <thead>\n",
       "    <tr style=\"text-align: right;\">\n",
       "      <th></th>\n",
       "      <th>Pred 1</th>\n",
       "      <th>Pred 0</th>\n",
       "    </tr>\n",
       "  </thead>\n",
       "  <tbody>\n",
       "    <tr>\n",
       "      <th>Act 1</th>\n",
       "      <td>222</td>\n",
       "      <td>119</td>\n",
       "    </tr>\n",
       "    <tr>\n",
       "      <th>Act 0</th>\n",
       "      <td>91</td>\n",
       "      <td>486</td>\n",
       "    </tr>\n",
       "  </tbody>\n",
       "</table>\n",
       "</div>"
      ],
      "text/plain": [
       "       Pred 1  Pred 0\n",
       "Act 1  222     119   \n",
       "Act 0  91      486   "
      ]
     },
     "execution_count": 123,
     "metadata": {},
     "output_type": "execute_result"
    }
   ],
   "source": [
    "cfb2 = confusion_matrix(yf_test, yf2_pred, labels=[1, 0])\n",
    "cf_b2 = pd.DataFrame(cfb2,\n",
    "                 columns=['Pred 1', 'Pred 0'],\n",
    "                 index=['Act 1', 'Act 0'])\n",
    "cf_b2"
   ]
  },
  {
   "cell_type": "code",
   "execution_count": 124,
   "metadata": {},
   "outputs": [],
   "source": [
    "roc_f2 = roc_auc_score(yf_test, yf2_pred)\n",
    "recall0_f2 = recall_score(yf_test, yf2_pred, pos_label=0)\n",
    "FNf2= cf_b2['Pred 0'].iloc[0]\n",
    "FPf2 = cf_b2['Pred 1'].iloc[1]"
   ]
  },
  {
   "cell_type": "markdown",
   "metadata": {},
   "source": [
    "### Model 3 - KNN Classifier"
   ]
  },
  {
   "cell_type": "markdown",
   "metadata": {},
   "source": [
    "### 1. Base"
   ]
  },
  {
   "cell_type": "code",
   "execution_count": 125,
   "metadata": {},
   "outputs": [
    {
     "data": {
      "text/plain": [
       "KNeighborsClassifier()"
      ]
     },
     "execution_count": 125,
     "metadata": {},
     "output_type": "execute_result"
    }
   ],
   "source": [
    "model_b3 = KNeighborsClassifier()\n",
    "model_b3.fit(Xb_train,yb_train)"
   ]
  },
  {
   "cell_type": "code",
   "execution_count": 126,
   "metadata": {},
   "outputs": [],
   "source": [
    "yb3_pred = model_b3.predict(Xb_test)\n",
    "yb3_predt = model_b3.predict(Xb_train)"
   ]
  },
  {
   "cell_type": "code",
   "execution_count": 127,
   "metadata": {},
   "outputs": [
    {
     "name": "stdout",
     "output_type": "stream",
     "text": [
      "              precision    recall  f1-score   support\n",
      "\n",
      "           0       0.71      0.77      0.74       577\n",
      "           1       0.54      0.47      0.50       341\n",
      "\n",
      "    accuracy                           0.65       918\n",
      "   macro avg       0.62      0.62      0.62       918\n",
      "weighted avg       0.65      0.65      0.65       918\n",
      "\n"
     ]
    }
   ],
   "source": [
    "print(classification_report(yb_test, yb3_pred))"
   ]
  },
  {
   "cell_type": "code",
   "execution_count": 128,
   "metadata": {},
   "outputs": [
    {
     "name": "stdout",
     "output_type": "stream",
     "text": [
      "              precision    recall  f1-score   support\n",
      "\n",
      "           0       0.79      0.87      0.83      1729\n",
      "           1       0.73      0.61      0.66      1024\n",
      "\n",
      "    accuracy                           0.77      2753\n",
      "   macro avg       0.76      0.74      0.74      2753\n",
      "weighted avg       0.77      0.77      0.77      2753\n",
      "\n"
     ]
    }
   ],
   "source": [
    "print(classification_report(yb_train, yb3_predt))"
   ]
  },
  {
   "cell_type": "code",
   "execution_count": 129,
   "metadata": {},
   "outputs": [
    {
     "data": {
      "text/html": [
       "<div>\n",
       "<style scoped>\n",
       "    .dataframe tbody tr th:only-of-type {\n",
       "        vertical-align: middle;\n",
       "    }\n",
       "\n",
       "    .dataframe tbody tr th {\n",
       "        vertical-align: top;\n",
       "    }\n",
       "\n",
       "    .dataframe thead th {\n",
       "        text-align: right;\n",
       "    }\n",
       "</style>\n",
       "<table border=\"1\" class=\"dataframe\">\n",
       "  <thead>\n",
       "    <tr style=\"text-align: right;\">\n",
       "      <th></th>\n",
       "      <th>Pred 1</th>\n",
       "      <th>Pred 0</th>\n",
       "    </tr>\n",
       "  </thead>\n",
       "  <tbody>\n",
       "    <tr>\n",
       "      <th>Act 1</th>\n",
       "      <td>159</td>\n",
       "      <td>182</td>\n",
       "    </tr>\n",
       "    <tr>\n",
       "      <th>Act 0</th>\n",
       "      <td>135</td>\n",
       "      <td>442</td>\n",
       "    </tr>\n",
       "  </tbody>\n",
       "</table>\n",
       "</div>"
      ],
      "text/plain": [
       "       Pred 1  Pred 0\n",
       "Act 1  159     182   \n",
       "Act 0  135     442   "
      ]
     },
     "execution_count": 129,
     "metadata": {},
     "output_type": "execute_result"
    }
   ],
   "source": [
    "cbb3 = confusion_matrix(yb_test, yb3_pred, labels=[1, 0])\n",
    "cb_b3 = pd.DataFrame(cbb3,\n",
    "                 columns=['Pred 1', 'Pred 0'],\n",
    "                 index=['Act 1', 'Act 0'])\n",
    "cb_b3"
   ]
  },
  {
   "cell_type": "code",
   "execution_count": 130,
   "metadata": {},
   "outputs": [],
   "source": [
    "roc_b3 = roc_auc_score(yb_test, yb3_pred)\n",
    "recall0_b3 = recall_score(yb_test, yb3_pred, pos_label=0)\n",
    "FNb3= cb_b3['Pred 0'].iloc[0]\n",
    "FPb3 = cb_b3['Pred 1'].iloc[1]"
   ]
  },
  {
   "cell_type": "markdown",
   "metadata": {},
   "source": [
    "### 2. Complex (dfix)"
   ]
  },
  {
   "cell_type": "code",
   "execution_count": 131,
   "metadata": {},
   "outputs": [
    {
     "data": {
      "text/plain": [
       "KNeighborsClassifier()"
      ]
     },
     "execution_count": 131,
     "metadata": {},
     "output_type": "execute_result"
    }
   ],
   "source": [
    "model_f3 = KNeighborsClassifier()\n",
    "model_f3.fit(Xf_train,yf_train)"
   ]
  },
  {
   "cell_type": "code",
   "execution_count": 132,
   "metadata": {},
   "outputs": [],
   "source": [
    "yf3_pred = model_f3.predict(Xf_test)\n",
    "yf3_predt = model_f3.predict(Xf_train)"
   ]
  },
  {
   "cell_type": "code",
   "execution_count": 133,
   "metadata": {},
   "outputs": [
    {
     "name": "stdout",
     "output_type": "stream",
     "text": [
      "              precision    recall  f1-score   support\n",
      "\n",
      "           0       0.80      0.80      0.80       577\n",
      "           1       0.66      0.66      0.66       341\n",
      "\n",
      "    accuracy                           0.75       918\n",
      "   macro avg       0.73      0.73      0.73       918\n",
      "weighted avg       0.75      0.75      0.75       918\n",
      "\n"
     ]
    }
   ],
   "source": [
    "print(classification_report(yf_test, yf3_pred))"
   ]
  },
  {
   "cell_type": "code",
   "execution_count": 134,
   "metadata": {},
   "outputs": [
    {
     "name": "stdout",
     "output_type": "stream",
     "text": [
      "              precision    recall  f1-score   support\n",
      "\n",
      "           0       0.80      0.82      0.81      1729\n",
      "           1       0.68      0.65      0.66      1024\n",
      "\n",
      "    accuracy                           0.76      2753\n",
      "   macro avg       0.74      0.73      0.74      2753\n",
      "weighted avg       0.75      0.76      0.75      2753\n",
      "\n"
     ]
    }
   ],
   "source": [
    "print(classification_report(yf_train, yf3_predt))"
   ]
  },
  {
   "cell_type": "code",
   "execution_count": 135,
   "metadata": {},
   "outputs": [
    {
     "data": {
      "text/html": [
       "<div>\n",
       "<style scoped>\n",
       "    .dataframe tbody tr th:only-of-type {\n",
       "        vertical-align: middle;\n",
       "    }\n",
       "\n",
       "    .dataframe tbody tr th {\n",
       "        vertical-align: top;\n",
       "    }\n",
       "\n",
       "    .dataframe thead th {\n",
       "        text-align: right;\n",
       "    }\n",
       "</style>\n",
       "<table border=\"1\" class=\"dataframe\">\n",
       "  <thead>\n",
       "    <tr style=\"text-align: right;\">\n",
       "      <th></th>\n",
       "      <th>Pred 1</th>\n",
       "      <th>Pred 0</th>\n",
       "    </tr>\n",
       "  </thead>\n",
       "  <tbody>\n",
       "    <tr>\n",
       "      <th>Act 1</th>\n",
       "      <td>226</td>\n",
       "      <td>115</td>\n",
       "    </tr>\n",
       "    <tr>\n",
       "      <th>Act 0</th>\n",
       "      <td>118</td>\n",
       "      <td>459</td>\n",
       "    </tr>\n",
       "  </tbody>\n",
       "</table>\n",
       "</div>"
      ],
      "text/plain": [
       "       Pred 1  Pred 0\n",
       "Act 1  226     115   \n",
       "Act 0  118     459   "
      ]
     },
     "execution_count": 135,
     "metadata": {},
     "output_type": "execute_result"
    }
   ],
   "source": [
    "cfb3 = confusion_matrix(yf_test, yf3_pred, labels=[1, 0])\n",
    "cf_b3 = pd.DataFrame(cfb3,\n",
    "                 columns=['Pred 1', 'Pred 0'],\n",
    "                 index=['Act 1', 'Act 0'])\n",
    "cf_b3"
   ]
  },
  {
   "cell_type": "code",
   "execution_count": 136,
   "metadata": {},
   "outputs": [],
   "source": [
    "roc_f3 = roc_auc_score(yf_test, yf3_pred)\n",
    "recall0_f3 = recall_score(yf_test, yf3_pred, pos_label=0)\n",
    "FNf3= cf_b3['Pred 0'].iloc[0]\n",
    "FPf3 = cf_b3['Pred 1'].iloc[1]"
   ]
  },
  {
   "cell_type": "markdown",
   "metadata": {},
   "source": [
    "# Preprocessing"
   ]
  },
  {
   "cell_type": "markdown",
   "metadata": {},
   "source": [
    "### A. Scalling"
   ]
  },
  {
   "cell_type": "markdown",
   "metadata": {},
   "source": [
    "- Dikarenakan dataset terdapat banyak outlier dan target tidak terdistribusi normal, maka digunakan lah \"Robust Scaller\""
   ]
  },
  {
   "cell_type": "code",
   "execution_count": 137,
   "metadata": {},
   "outputs": [],
   "source": [
    "scaler = RobustScaler()"
   ]
  },
  {
   "cell_type": "code",
   "execution_count": 138,
   "metadata": {},
   "outputs": [],
   "source": [
    "Xb_scaled = scaler.fit_transform(Xb_train)\n",
    "Xf_scaled = scaler.fit_transform(Xf_train)\n",
    "Xb_tests = scaler.fit_transform(Xb_test)\n",
    "Xf_tests = scaler.fit_transform(Xf_test)"
   ]
  },
  {
   "cell_type": "markdown",
   "metadata": {},
   "source": [
    "### LogisticScaled"
   ]
  },
  {
   "cell_type": "markdown",
   "metadata": {},
   "source": [
    "### 1. Base Scaled"
   ]
  },
  {
   "cell_type": "code",
   "execution_count": 139,
   "metadata": {},
   "outputs": [
    {
     "data": {
      "text/plain": [
       "LogisticRegression()"
      ]
     },
     "execution_count": 139,
     "metadata": {},
     "output_type": "execute_result"
    }
   ],
   "source": [
    "model_b1.fit(Xb_scaled, yb_train)"
   ]
  },
  {
   "cell_type": "code",
   "execution_count": 140,
   "metadata": {},
   "outputs": [],
   "source": [
    "ybs_pred = model_b1.predict(Xb_tests)\n",
    "ybs_predt = model_b1.predict(Xb_scaled)"
   ]
  },
  {
   "cell_type": "code",
   "execution_count": 141,
   "metadata": {},
   "outputs": [
    {
     "name": "stdout",
     "output_type": "stream",
     "text": [
      "              precision    recall  f1-score   support\n",
      "\n",
      "           0       0.79      0.83      0.81       577\n",
      "           1       0.69      0.63      0.66       341\n",
      "\n",
      "    accuracy                           0.76       918\n",
      "   macro avg       0.74      0.73      0.73       918\n",
      "weighted avg       0.75      0.76      0.75       918\n",
      "\n"
     ]
    }
   ],
   "source": [
    "print(classification_report(yb_test, ybs_pred))"
   ]
  },
  {
   "cell_type": "code",
   "execution_count": 142,
   "metadata": {},
   "outputs": [
    {
     "name": "stdout",
     "output_type": "stream",
     "text": [
      "              precision    recall  f1-score   support\n",
      "\n",
      "           0       0.80      0.86      0.83      1729\n",
      "           1       0.73      0.62      0.67      1024\n",
      "\n",
      "    accuracy                           0.77      2753\n",
      "   macro avg       0.76      0.74      0.75      2753\n",
      "weighted avg       0.77      0.77      0.77      2753\n",
      "\n"
     ]
    }
   ],
   "source": [
    "print(classification_report(yb_train, ybs_predt))"
   ]
  },
  {
   "cell_type": "code",
   "execution_count": 143,
   "metadata": {},
   "outputs": [
    {
     "data": {
      "text/html": [
       "<div>\n",
       "<style scoped>\n",
       "    .dataframe tbody tr th:only-of-type {\n",
       "        vertical-align: middle;\n",
       "    }\n",
       "\n",
       "    .dataframe tbody tr th {\n",
       "        vertical-align: top;\n",
       "    }\n",
       "\n",
       "    .dataframe thead th {\n",
       "        text-align: right;\n",
       "    }\n",
       "</style>\n",
       "<table border=\"1\" class=\"dataframe\">\n",
       "  <thead>\n",
       "    <tr style=\"text-align: right;\">\n",
       "      <th></th>\n",
       "      <th>Pred 1</th>\n",
       "      <th>Pred 0</th>\n",
       "    </tr>\n",
       "  </thead>\n",
       "  <tbody>\n",
       "    <tr>\n",
       "      <th>Act 1</th>\n",
       "      <td>216</td>\n",
       "      <td>125</td>\n",
       "    </tr>\n",
       "    <tr>\n",
       "      <th>Act 0</th>\n",
       "      <td>99</td>\n",
       "      <td>478</td>\n",
       "    </tr>\n",
       "  </tbody>\n",
       "</table>\n",
       "</div>"
      ],
      "text/plain": [
       "       Pred 1  Pred 0\n",
       "Act 1  216     125   \n",
       "Act 0  99      478   "
      ]
     },
     "execution_count": 143,
     "metadata": {},
     "output_type": "execute_result"
    }
   ],
   "source": [
    "cbls = confusion_matrix(yb_test, ybs_pred, labels=[1, 0])\n",
    "cb_ls = pd.DataFrame(cbls,\n",
    "                 columns=['Pred 1', 'Pred 0'],\n",
    "                 index=['Act 1', 'Act 0'])\n",
    "cb_ls"
   ]
  },
  {
   "cell_type": "code",
   "execution_count": 144,
   "metadata": {},
   "outputs": [],
   "source": [
    "roc_bls = roc_auc_score(yb_test, ybs_pred)\n",
    "recall0_bls = recall_score(yb_test, ybs_pred, pos_label=0)\n",
    "FNbls= cb_ls['Pred 0'].iloc[0]\n",
    "FPbls = cb_ls['Pred 1'].iloc[1]"
   ]
  },
  {
   "cell_type": "markdown",
   "metadata": {},
   "source": [
    "### 2. Complex (dfix Scaled)"
   ]
  },
  {
   "cell_type": "code",
   "execution_count": 145,
   "metadata": {},
   "outputs": [
    {
     "data": {
      "text/plain": [
       "LogisticRegression()"
      ]
     },
     "execution_count": 145,
     "metadata": {},
     "output_type": "execute_result"
    }
   ],
   "source": [
    "model_f1.fit(Xf_scaled, yf_train)"
   ]
  },
  {
   "cell_type": "code",
   "execution_count": 146,
   "metadata": {},
   "outputs": [],
   "source": [
    "yfs_pred = model_f1.predict(Xf_tests)\n",
    "yfs_predt = model_f1.predict(Xf_scaled)"
   ]
  },
  {
   "cell_type": "code",
   "execution_count": 147,
   "metadata": {},
   "outputs": [
    {
     "name": "stdout",
     "output_type": "stream",
     "text": [
      "              precision    recall  f1-score   support\n",
      "\n",
      "           0       0.81      0.82      0.81       577\n",
      "           1       0.68      0.67      0.67       341\n",
      "\n",
      "    accuracy                           0.76       918\n",
      "   macro avg       0.74      0.74      0.74       918\n",
      "weighted avg       0.76      0.76      0.76       918\n",
      "\n"
     ]
    }
   ],
   "source": [
    "print(classification_report(yf_test, yfs_pred))"
   ]
  },
  {
   "cell_type": "code",
   "execution_count": 148,
   "metadata": {},
   "outputs": [
    {
     "name": "stdout",
     "output_type": "stream",
     "text": [
      "              precision    recall  f1-score   support\n",
      "\n",
      "           0       0.79      0.84      0.81      1729\n",
      "           1       0.70      0.63      0.66      1024\n",
      "\n",
      "    accuracy                           0.76      2753\n",
      "   macro avg       0.74      0.73      0.74      2753\n",
      "weighted avg       0.76      0.76      0.76      2753\n",
      "\n"
     ]
    }
   ],
   "source": [
    "print(classification_report(yf_train, yfs_predt))"
   ]
  },
  {
   "cell_type": "code",
   "execution_count": 149,
   "metadata": {},
   "outputs": [
    {
     "data": {
      "text/html": [
       "<div>\n",
       "<style scoped>\n",
       "    .dataframe tbody tr th:only-of-type {\n",
       "        vertical-align: middle;\n",
       "    }\n",
       "\n",
       "    .dataframe tbody tr th {\n",
       "        vertical-align: top;\n",
       "    }\n",
       "\n",
       "    .dataframe thead th {\n",
       "        text-align: right;\n",
       "    }\n",
       "</style>\n",
       "<table border=\"1\" class=\"dataframe\">\n",
       "  <thead>\n",
       "    <tr style=\"text-align: right;\">\n",
       "      <th></th>\n",
       "      <th>Pred 1</th>\n",
       "      <th>Pred 0</th>\n",
       "    </tr>\n",
       "  </thead>\n",
       "  <tbody>\n",
       "    <tr>\n",
       "      <th>Act 1</th>\n",
       "      <td>227</td>\n",
       "      <td>114</td>\n",
       "    </tr>\n",
       "    <tr>\n",
       "      <th>Act 0</th>\n",
       "      <td>105</td>\n",
       "      <td>472</td>\n",
       "    </tr>\n",
       "  </tbody>\n",
       "</table>\n",
       "</div>"
      ],
      "text/plain": [
       "       Pred 1  Pred 0\n",
       "Act 1  227     114   \n",
       "Act 0  105     472   "
      ]
     },
     "execution_count": 149,
     "metadata": {},
     "output_type": "execute_result"
    }
   ],
   "source": [
    "cfls = confusion_matrix(yf_test, yfs_pred, labels=[1, 0])\n",
    "cf_ls = pd.DataFrame(cfls,\n",
    "                 columns=['Pred 1', 'Pred 0'],\n",
    "                 index=['Act 1', 'Act 0'])\n",
    "cf_ls"
   ]
  },
  {
   "cell_type": "code",
   "execution_count": 150,
   "metadata": {},
   "outputs": [],
   "source": [
    "roc_fls = roc_auc_score(yf_test, yfs_pred)\n",
    "recall0_fls = recall_score(yf_test, yfs_pred, pos_label=0)\n",
    "FNfls= cf_ls['Pred 0'].iloc[0]\n",
    "FPfls = cf_ls['Pred 1'].iloc[1]"
   ]
  },
  {
   "cell_type": "markdown",
   "metadata": {},
   "source": [
    "### B. Manual Tunning KNN Scaled"
   ]
  },
  {
   "cell_type": "markdown",
   "metadata": {},
   "source": [
    "### 1. Base"
   ]
  },
  {
   "cell_type": "code",
   "execution_count": 151,
   "metadata": {},
   "outputs": [],
   "source": [
    "train_score3 = []\n",
    "test_score3 = []\n",
    "\n",
    "for k in range (1, 100, 2):\n",
    "    knn3 = KNeighborsClassifier(n_neighbors= k)\n",
    "    knn3.fit(Xb_scaled, yb_train)\n",
    "#     recall_score(y_test, y_predict)\n",
    "    train_score3.append(knn3.score(Xb_scaled, yb_train))\n",
    "    test_score3.append(knn3.score(Xb_tests, yb_test))"
   ]
  },
  {
   "cell_type": "code",
   "execution_count": 152,
   "metadata": {},
   "outputs": [
    {
     "data": {
      "image/png": "[encoded data removed]",
      "text/plain": [
       "<Figure size 432x288 with 1 Axes>"
      ]
     },
     "metadata": {
      "needs_background": "light"
     },
     "output_type": "display_data"
    }
   ],
   "source": [
    "plt.plot(range(1, 100, 2), train_score3, 'b', label='Train score dft3')\n",
    "plt.plot(range(1, 100, 2), test_score3, 'r', label='Test score dft3')\n",
    "plt.legend()\n",
    "plt.show()"
   ]
  },
  {
   "cell_type": "code",
   "execution_count": 153,
   "metadata": {},
   "outputs": [
    {
     "name": "stdout",
     "output_type": "stream",
     "text": [
      "[0.6993464052287581, 0.7429193899782135, 0.7472766884531591, 0.7418300653594772, 0.7440087145969498, 0.7527233115468409, 0.7472766884531591, 0.7505446623093682, 0.7559912854030502, 0.7538126361655774, 0.7494553376906318, 0.7581699346405228, 0.7483660130718954, 0.7505446623093682, 0.7450980392156863, 0.7472766884531591, 0.7450980392156863, 0.7461873638344226, 0.7440087145969498, 0.7483660130718954, 0.7429193899782135, 0.7418300653594772, 0.7440087145969498, 0.7429193899782135, 0.7450980392156863, 0.7527233115468409, 0.7483660130718954, 0.7494553376906318, 0.7505446623093682, 0.7527233115468409, 0.7461873638344226, 0.7559912854030502, 0.7505446623093682, 0.7559912854030502, 0.7559912854030502, 0.7505446623093682, 0.7559912854030502, 0.7505446623093682, 0.7538126361655774, 0.7549019607843137, 0.7527233115468409, 0.7516339869281046, 0.7505446623093682, 0.7527233115468409, 0.7505446623093682, 0.7505446623093682, 0.7516339869281046, 0.7549019607843137, 0.7527233115468409, 0.7527233115468409]\n"
     ]
    }
   ],
   "source": [
    "print(test_score3)"
   ]
  },
  {
   "cell_type": "code",
   "execution_count": 154,
   "metadata": {},
   "outputs": [
    {
     "data": {
      "text/plain": [
       "0.7581699346405228"
      ]
     },
     "execution_count": 154,
     "metadata": {},
     "output_type": "execute_result"
    }
   ],
   "source": [
    "np.max(test_score3)"
   ]
  },
  {
   "cell_type": "code",
   "execution_count": 155,
   "metadata": {},
   "outputs": [
    {
     "name": "stdout",
     "output_type": "stream",
     "text": [
      "[1, 3, 5, 7, 9, 11, 13, 15, 17, 19, 21, 23, 25, 27, 29, 31, 33, 35, 37, 39, 41, 43, 45, 47, 49, 51, 53, 55, 57, 59, 61, 63, 65, 67, 69, 71, 73, 75, 77, 79, 81, 83, 85, 87, 89, 91, 93, 95, 97, 99]\n"
     ]
    }
   ],
   "source": [
    "k = []\n",
    "for i in range(1, 100, 2):\n",
    "    k.append(i)\n",
    "print(k)"
   ]
  },
  {
   "cell_type": "code",
   "execution_count": 156,
   "metadata": {},
   "outputs": [],
   "source": [
    "n = k[np.argmax(test_score3)]"
   ]
  },
  {
   "cell_type": "code",
   "execution_count": 157,
   "metadata": {},
   "outputs": [
    {
     "data": {
      "text/plain": [
       "KNeighborsClassifier(n_neighbors=23)"
      ]
     },
     "execution_count": 157,
     "metadata": {},
     "output_type": "execute_result"
    }
   ],
   "source": [
    "modelknn_s3 = KNeighborsClassifier(n_neighbors=n)\n",
    "modelknn_s3.fit(Xb_scaled, yb_train)"
   ]
  },
  {
   "cell_type": "code",
   "execution_count": 158,
   "metadata": {},
   "outputs": [],
   "source": [
    "y_predk_s3 = modelknn_s3.predict(Xb_tests)"
   ]
  },
  {
   "cell_type": "code",
   "execution_count": 159,
   "metadata": {},
   "outputs": [
    {
     "data": {
      "text/plain": [
       "<matplotlib.axes._subplots.AxesSubplot at 0x1f4a47a6b88>"
      ]
     },
     "execution_count": 159,
     "metadata": {},
     "output_type": "execute_result"
    },
    {
     "data": {
      "image/png": "[encoded data removed]",
      "text/plain": [
       "<Figure size 432x288 with 2 Axes>"
      ]
     },
     "metadata": {
      "needs_background": "light"
     },
     "output_type": "display_data"
    }
   ],
   "source": [
    "cks3 = confusion_matrix(yb_test, y_predk_s3, labels=[1, 0])\n",
    "cknns3 = pd.DataFrame(cks3,\n",
    "                 columns=['Pred 1', 'Pred 0'],\n",
    "                 index=['Act 1', 'Act 0'])\n",
    "sns.heatmap(cknns3,annot=True )"
   ]
  },
  {
   "cell_type": "code",
   "execution_count": 160,
   "metadata": {},
   "outputs": [
    {
     "name": "stdout",
     "output_type": "stream",
     "text": [
      "              precision    recall  f1-score   support\n",
      "\n",
      "           0       0.80      0.82      0.81       577\n",
      "           1       0.68      0.65      0.67       341\n",
      "\n",
      "    accuracy                           0.76       918\n",
      "   macro avg       0.74      0.74      0.74       918\n",
      "weighted avg       0.76      0.76      0.76       918\n",
      "\n"
     ]
    }
   ],
   "source": [
    "print(classification_report(yb_test, y_predk_s3))"
   ]
  },
  {
   "cell_type": "markdown",
   "metadata": {},
   "source": [
    "# (12-13, 14-15) Hyperparameter Tunning"
   ]
  },
  {
   "cell_type": "markdown",
   "metadata": {},
   "source": [
    "### Logistic Regression"
   ]
  },
  {
   "cell_type": "markdown",
   "metadata": {},
   "source": [
    "### 1. Base hyper"
   ]
  },
  {
   "cell_type": "code",
   "execution_count": 161,
   "metadata": {},
   "outputs": [],
   "source": [
    "modelogh = LogisticRegression()\n",
    "paramlog = {\n",
    "    'penalty':['l1','l2','elasticnet'],\n",
    "    'multi_class': ['auto', 'ovr', 'multinomial'],\n",
    "    'max_iter':np.random.randint(300,400,10),\n",
    "    'l1_ratio': np.logspace(-3,0,15)\n",
    "}"
   ]
  },
  {
   "cell_type": "code",
   "execution_count": 162,
   "metadata": {},
   "outputs": [],
   "source": [
    "modelLRS = RandomizedSearchCV(\n",
    "    estimator = modelogh, \n",
    "    param_distributions = paramlog, cv = 3)\n",
    "\n",
    "modelLGS = GridSearchCV(modelogh, paramlog, cv=3, n_jobs=-1, verbose=1)"
   ]
  },
  {
   "cell_type": "code",
   "execution_count": 163,
   "metadata": {},
   "outputs": [
    {
     "data": {
      "text/plain": [
       "RandomizedSearchCV(cv=3, estimator=LogisticRegression(),\n",
       "                   param_distributions={'l1_ratio': array([0.001     , 0.00163789, 0.0026827 , 0.00439397, 0.00719686,\n",
       "       0.01178769, 0.01930698, 0.03162278, 0.05179475, 0.08483429,\n",
       "       0.13894955, 0.22758459, 0.37275937, 0.61054023, 1.        ]),\n",
       "                                        'max_iter': array([384, 322, 387, 343, 385, 391, 391, 391, 392, 381]),\n",
       "                                        'multi_class': ['auto', 'ovr',\n",
       "                                                        'multinomial'],\n",
       "                                        'penalty': ['l1', 'l2', 'elasticnet']})"
      ]
     },
     "execution_count": 163,
     "metadata": {},
     "output_type": "execute_result"
    }
   ],
   "source": [
    "modelLRS.fit(Xb_train,yb_train)"
   ]
  },
  {
   "cell_type": "code",
   "execution_count": 164,
   "metadata": {},
   "outputs": [
    {
     "name": "stdout",
     "output_type": "stream",
     "text": [
      "Fitting 3 folds for each of 1350 candidates, totalling 4050 fits\n"
     ]
    },
    {
     "name": "stderr",
     "output_type": "stream",
     "text": [
      "[Parallel(n_jobs=-1)]: Using backend LokyBackend with 8 concurrent workers.\n",
      "[Parallel(n_jobs=-1)]: Done  34 tasks      | elapsed:    4.1s\n",
      "[Parallel(n_jobs=-1)]: Done 472 tasks      | elapsed:   12.3s\n",
      "[Parallel(n_jobs=-1)]: Done 1472 tasks      | elapsed:   34.4s\n",
      "[Parallel(n_jobs=-1)]: Done 1915 tasks      | elapsed:   48.3s\n",
      "[Parallel(n_jobs=-1)]: Done 2522 tasks      | elapsed:  1.1min\n",
      "[Parallel(n_jobs=-1)]: Done 3072 tasks      | elapsed:  1.4min\n",
      "[Parallel(n_jobs=-1)]: Done 3890 tasks      | elapsed:  1.9min\n",
      "[Parallel(n_jobs=-1)]: Done 4035 out of 4050 | elapsed:  2.0min remaining:    0.3s\n",
      "[Parallel(n_jobs=-1)]: Done 4050 out of 4050 | elapsed:  2.0min finished\n"
     ]
    },
    {
     "data": {
      "text/plain": [
       "GridSearchCV(cv=3, estimator=LogisticRegression(), n_jobs=-1,\n",
       "             param_grid={'l1_ratio': array([0.001     , 0.00163789, 0.0026827 , 0.00439397, 0.00719686,\n",
       "       0.01178769, 0.01930698, 0.03162278, 0.05179475, 0.08483429,\n",
       "       0.13894955, 0.22758459, 0.37275937, 0.61054023, 1.        ]),\n",
       "                         'max_iter': array([384, 322, 387, 343, 385, 391, 391, 391, 392, 381]),\n",
       "                         'multi_class': ['auto', 'ovr', 'multinomial'],\n",
       "                         'penalty': ['l1', 'l2', 'elasticnet']},\n",
       "             verbose=1)"
      ]
     },
     "execution_count": 164,
     "metadata": {},
     "output_type": "execute_result"
    }
   ],
   "source": [
    "modelLGS.fit(Xb_train,yb_train)"
   ]
  },
  {
   "cell_type": "code",
   "execution_count": 165,
   "metadata": {},
   "outputs": [
    {
     "data": {
      "text/plain": [
       "{'penalty': 'l2',\n",
       " 'multi_class': 'multinomial',\n",
       " 'max_iter': 384,\n",
       " 'l1_ratio': 0.001}"
      ]
     },
     "execution_count": 165,
     "metadata": {},
     "output_type": "execute_result"
    }
   ],
   "source": [
    "modelLRS.best_params_"
   ]
  },
  {
   "cell_type": "code",
   "execution_count": 166,
   "metadata": {},
   "outputs": [
    {
     "data": {
      "text/plain": [
       "{'l1_ratio': 0.001,\n",
       " 'max_iter': 384,\n",
       " 'multi_class': 'multinomial',\n",
       " 'penalty': 'l2'}"
      ]
     },
     "execution_count": 166,
     "metadata": {},
     "output_type": "execute_result"
    }
   ],
   "source": [
    "modelLGS.best_params_"
   ]
  },
  {
   "cell_type": "code",
   "execution_count": 167,
   "metadata": {},
   "outputs": [],
   "source": [
    "yblh_predRS = modelLRS.predict(Xb_test)\n",
    "yblh_predGS = modelLGS.predict(Xb_test)\n",
    "yblh_predRSt = modelLRS.predict(Xb_train)\n",
    "yblh_predGSt = modelLGS.predict(Xb_train)"
   ]
  },
  {
   "cell_type": "code",
   "execution_count": 168,
   "metadata": {},
   "outputs": [
    {
     "name": "stdout",
     "output_type": "stream",
     "text": [
      "              precision    recall  f1-score   support\n",
      "\n",
      "           0       0.82      0.80      0.81       577\n",
      "           1       0.67      0.70      0.68       341\n",
      "\n",
      "    accuracy                           0.76       918\n",
      "   macro avg       0.74      0.75      0.74       918\n",
      "weighted avg       0.76      0.76      0.76       918\n",
      "\n"
     ]
    }
   ],
   "source": [
    "print(classification_report(yb_test, yblh_predRS))"
   ]
  },
  {
   "cell_type": "code",
   "execution_count": 169,
   "metadata": {},
   "outputs": [
    {
     "name": "stdout",
     "output_type": "stream",
     "text": [
      "              precision    recall  f1-score   support\n",
      "\n",
      "           0       0.82      0.80      0.81       577\n",
      "           1       0.67      0.70      0.68       341\n",
      "\n",
      "    accuracy                           0.76       918\n",
      "   macro avg       0.74      0.75      0.74       918\n",
      "weighted avg       0.76      0.76      0.76       918\n",
      "\n"
     ]
    }
   ],
   "source": [
    "print(classification_report(yb_test, yblh_predGS))"
   ]
  },
  {
   "cell_type": "code",
   "execution_count": 170,
   "metadata": {},
   "outputs": [
    {
     "data": {
      "text/html": [
       "<div>\n",
       "<style scoped>\n",
       "    .dataframe tbody tr th:only-of-type {\n",
       "        vertical-align: middle;\n",
       "    }\n",
       "\n",
       "    .dataframe tbody tr th {\n",
       "        vertical-align: top;\n",
       "    }\n",
       "\n",
       "    .dataframe thead th {\n",
       "        text-align: right;\n",
       "    }\n",
       "</style>\n",
       "<table border=\"1\" class=\"dataframe\">\n",
       "  <thead>\n",
       "    <tr style=\"text-align: right;\">\n",
       "      <th></th>\n",
       "      <th>Pred 1</th>\n",
       "      <th>Pred 0</th>\n",
       "    </tr>\n",
       "  </thead>\n",
       "  <tbody>\n",
       "    <tr>\n",
       "      <th>Act 1</th>\n",
       "      <td>237</td>\n",
       "      <td>104</td>\n",
       "    </tr>\n",
       "    <tr>\n",
       "      <th>Act 0</th>\n",
       "      <td>118</td>\n",
       "      <td>459</td>\n",
       "    </tr>\n",
       "  </tbody>\n",
       "</table>\n",
       "</div>"
      ],
      "text/plain": [
       "       Pred 1  Pred 0\n",
       "Act 1  237     104   \n",
       "Act 0  118     459   "
      ]
     },
     "execution_count": 170,
     "metadata": {},
     "output_type": "execute_result"
    }
   ],
   "source": [
    "cblhRS = confusion_matrix(yb_test, yblh_predRS, labels=[1, 0])\n",
    "cb_lhRS = pd.DataFrame(cblhRS,\n",
    "                 columns=['Pred 1', 'Pred 0'],\n",
    "                 index=['Act 1', 'Act 0'])\n",
    "cb_lhRS"
   ]
  },
  {
   "cell_type": "code",
   "execution_count": 171,
   "metadata": {},
   "outputs": [
    {
     "data": {
      "text/html": [
       "<div>\n",
       "<style scoped>\n",
       "    .dataframe tbody tr th:only-of-type {\n",
       "        vertical-align: middle;\n",
       "    }\n",
       "\n",
       "    .dataframe tbody tr th {\n",
       "        vertical-align: top;\n",
       "    }\n",
       "\n",
       "    .dataframe thead th {\n",
       "        text-align: right;\n",
       "    }\n",
       "</style>\n",
       "<table border=\"1\" class=\"dataframe\">\n",
       "  <thead>\n",
       "    <tr style=\"text-align: right;\">\n",
       "      <th></th>\n",
       "      <th>Pred 1</th>\n",
       "      <th>Pred 0</th>\n",
       "    </tr>\n",
       "  </thead>\n",
       "  <tbody>\n",
       "    <tr>\n",
       "      <th>Act 1</th>\n",
       "      <td>237</td>\n",
       "      <td>104</td>\n",
       "    </tr>\n",
       "    <tr>\n",
       "      <th>Act 0</th>\n",
       "      <td>118</td>\n",
       "      <td>459</td>\n",
       "    </tr>\n",
       "  </tbody>\n",
       "</table>\n",
       "</div>"
      ],
      "text/plain": [
       "       Pred 1  Pred 0\n",
       "Act 1  237     104   \n",
       "Act 0  118     459   "
      ]
     },
     "execution_count": 171,
     "metadata": {},
     "output_type": "execute_result"
    }
   ],
   "source": [
    "cblhGS = confusion_matrix(yb_test, yblh_predGS, labels=[1, 0])\n",
    "cb_lhGS = pd.DataFrame(cblhGS,\n",
    "                 columns=['Pred 1', 'Pred 0'],\n",
    "                 index=['Act 1', 'Act 0'])\n",
    "cb_lhGS"
   ]
  },
  {
   "cell_type": "code",
   "execution_count": 172,
   "metadata": {},
   "outputs": [],
   "source": [
    "roc_blhRS = roc_auc_score(yb_test, yblh_predRS)\n",
    "recall0_blhRS = recall_score(yb_test, yblh_predRS, pos_label=0)\n",
    "roc_blhGS = roc_auc_score(yb_test, yblh_predRS)\n",
    "recall0_blhGS = recall_score(yb_test, yblh_predRS, pos_label=0)\n",
    "FNblh_RS = cb_lhRS['Pred 0'].iloc[0]\n",
    "FPblh_RS = cb_lhRS['Pred 1'].iloc[1]\n",
    "FNblh_GS = cb_lhGS['Pred 0'].iloc[0]\n",
    "FPblh_GS = cb_lhGS['Pred 1'].iloc[1]"
   ]
  },
  {
   "cell_type": "markdown",
   "metadata": {},
   "source": [
    "### 2. Complex hyper"
   ]
  },
  {
   "cell_type": "code",
   "execution_count": 173,
   "metadata": {},
   "outputs": [],
   "source": [
    "modelogh = LogisticRegression()\n",
    "paramlog = {\n",
    "    'penalty':['l1','l2','elasticnet'],\n",
    "    'multi_class': ['auto', 'ovr', 'multinomial'],\n",
    "    'max_iter':np.random.randint(300,400,10),\n",
    "    'l1_ratio': np.logspace(-3,0,15)\n",
    "}"
   ]
  },
  {
   "cell_type": "code",
   "execution_count": 174,
   "metadata": {},
   "outputs": [],
   "source": [
    "modelLRS = RandomizedSearchCV(\n",
    "    estimator = modelogh, \n",
    "    param_distributions = paramlog, cv = 3)\n",
    "\n",
    "modelLGS = GridSearchCV(modelogh, paramlog, cv=3, n_jobs=-1, verbose=1)"
   ]
  },
  {
   "cell_type": "code",
   "execution_count": 175,
   "metadata": {},
   "outputs": [
    {
     "data": {
      "text/plain": [
       "RandomizedSearchCV(cv=3, estimator=LogisticRegression(),\n",
       "                   param_distributions={'l1_ratio': array([0.001     , 0.00163789, 0.0026827 , 0.00439397, 0.00719686,\n",
       "       0.01178769, 0.01930698, 0.03162278, 0.05179475, 0.08483429,\n",
       "       0.13894955, 0.22758459, 0.37275937, 0.61054023, 1.        ]),\n",
       "                                        'max_iter': array([386, 300, 391, 324, 388, 346, 328, 319, 381, 385]),\n",
       "                                        'multi_class': ['auto', 'ovr',\n",
       "                                                        'multinomial'],\n",
       "                                        'penalty': ['l1', 'l2', 'elasticnet']})"
      ]
     },
     "execution_count": 175,
     "metadata": {},
     "output_type": "execute_result"
    }
   ],
   "source": [
    "modelLRS.fit(Xf_train,yf_train)"
   ]
  },
  {
   "cell_type": "code",
   "execution_count": 176,
   "metadata": {},
   "outputs": [
    {
     "name": "stdout",
     "output_type": "stream",
     "text": [
      "Fitting 3 folds for each of 1350 candidates, totalling 4050 fits\n"
     ]
    },
    {
     "name": "stderr",
     "output_type": "stream",
     "text": [
      "[Parallel(n_jobs=-1)]: Using backend LokyBackend with 8 concurrent workers.\n",
      "[Parallel(n_jobs=-1)]: Done  52 tasks      | elapsed:    0.5s\n",
      "[Parallel(n_jobs=-1)]: Done 640 tasks      | elapsed:    4.6s\n",
      "[Parallel(n_jobs=-1)]: Done 1640 tasks      | elapsed:   11.6s\n",
      "[Parallel(n_jobs=-1)]: Done 3040 tasks      | elapsed:   21.2s\n",
      "[Parallel(n_jobs=-1)]: Done 4035 out of 4050 | elapsed:   27.7s remaining:    0.0s\n",
      "[Parallel(n_jobs=-1)]: Done 4050 out of 4050 | elapsed:   27.9s finished\n"
     ]
    },
    {
     "data": {
      "text/plain": [
       "GridSearchCV(cv=3, estimator=LogisticRegression(), n_jobs=-1,\n",
       "             param_grid={'l1_ratio': array([0.001     , 0.00163789, 0.0026827 , 0.00439397, 0.00719686,\n",
       "       0.01178769, 0.01930698, 0.03162278, 0.05179475, 0.08483429,\n",
       "       0.13894955, 0.22758459, 0.37275937, 0.61054023, 1.        ]),\n",
       "                         'max_iter': array([386, 300, 391, 324, 388, 346, 328, 319, 381, 385]),\n",
       "                         'multi_class': ['auto', 'ovr', 'multinomial'],\n",
       "                         'penalty': ['l1', 'l2', 'elasticnet']},\n",
       "             verbose=1)"
      ]
     },
     "execution_count": 176,
     "metadata": {},
     "output_type": "execute_result"
    }
   ],
   "source": [
    "modelLGS.fit(Xf_train,yf_train)"
   ]
  },
  {
   "cell_type": "code",
   "execution_count": 177,
   "metadata": {},
   "outputs": [
    {
     "data": {
      "text/plain": [
       "{'penalty': 'l2',\n",
       " 'multi_class': 'ovr',\n",
       " 'max_iter': 388,\n",
       " 'l1_ratio': 0.3727593720314938}"
      ]
     },
     "execution_count": 177,
     "metadata": {},
     "output_type": "execute_result"
    }
   ],
   "source": [
    "modelLRS.best_params_"
   ]
  },
  {
   "cell_type": "code",
   "execution_count": 178,
   "metadata": {},
   "outputs": [
    {
     "data": {
      "text/plain": [
       "{'l1_ratio': 0.001, 'max_iter': 386, 'multi_class': 'auto', 'penalty': 'l2'}"
      ]
     },
     "execution_count": 178,
     "metadata": {},
     "output_type": "execute_result"
    }
   ],
   "source": [
    "modelLGS.best_params_"
   ]
  },
  {
   "cell_type": "code",
   "execution_count": 179,
   "metadata": {},
   "outputs": [],
   "source": [
    "yflh_predRS = modelLRS.predict(Xf_test)\n",
    "yflh_predGS = modelLGS.predict(Xf_test)\n",
    "yflh_predRSt = modelLRS.predict(Xf_train)\n",
    "yflh_predGSt = modelLGS.predict(Xf_train)"
   ]
  },
  {
   "cell_type": "code",
   "execution_count": 180,
   "metadata": {},
   "outputs": [
    {
     "name": "stdout",
     "output_type": "stream",
     "text": [
      "              precision    recall  f1-score   support\n",
      "\n",
      "           0       0.82      0.79      0.80       577\n",
      "           1       0.66      0.70      0.68       341\n",
      "\n",
      "    accuracy                           0.76       918\n",
      "   macro avg       0.74      0.74      0.74       918\n",
      "weighted avg       0.76      0.76      0.76       918\n",
      "\n"
     ]
    }
   ],
   "source": [
    "print(classification_report(yf_test, yflh_predRS))"
   ]
  },
  {
   "cell_type": "code",
   "execution_count": 181,
   "metadata": {},
   "outputs": [
    {
     "name": "stdout",
     "output_type": "stream",
     "text": [
      "              precision    recall  f1-score   support\n",
      "\n",
      "           0       0.82      0.79      0.80       577\n",
      "           1       0.66      0.70      0.68       341\n",
      "\n",
      "    accuracy                           0.76       918\n",
      "   macro avg       0.74      0.74      0.74       918\n",
      "weighted avg       0.76      0.76      0.76       918\n",
      "\n"
     ]
    }
   ],
   "source": [
    "print(classification_report(yf_test, yflh_predGS))"
   ]
  },
  {
   "cell_type": "code",
   "execution_count": 182,
   "metadata": {},
   "outputs": [
    {
     "data": {
      "text/html": [
       "<div>\n",
       "<style scoped>\n",
       "    .dataframe tbody tr th:only-of-type {\n",
       "        vertical-align: middle;\n",
       "    }\n",
       "\n",
       "    .dataframe tbody tr th {\n",
       "        vertical-align: top;\n",
       "    }\n",
       "\n",
       "    .dataframe thead th {\n",
       "        text-align: right;\n",
       "    }\n",
       "</style>\n",
       "<table border=\"1\" class=\"dataframe\">\n",
       "  <thead>\n",
       "    <tr style=\"text-align: right;\">\n",
       "      <th></th>\n",
       "      <th>Pred 1</th>\n",
       "      <th>Pred 0</th>\n",
       "    </tr>\n",
       "  </thead>\n",
       "  <tbody>\n",
       "    <tr>\n",
       "      <th>Act 1</th>\n",
       "      <td>239</td>\n",
       "      <td>102</td>\n",
       "    </tr>\n",
       "    <tr>\n",
       "      <th>Act 0</th>\n",
       "      <td>122</td>\n",
       "      <td>455</td>\n",
       "    </tr>\n",
       "  </tbody>\n",
       "</table>\n",
       "</div>"
      ],
      "text/plain": [
       "       Pred 1  Pred 0\n",
       "Act 1  239     102   \n",
       "Act 0  122     455   "
      ]
     },
     "execution_count": 182,
     "metadata": {},
     "output_type": "execute_result"
    }
   ],
   "source": [
    "cflhRS = confusion_matrix(yf_test, yflh_predRS, labels=[1, 0])\n",
    "cf_lhRS = pd.DataFrame(cflhRS,\n",
    "                 columns=['Pred 1', 'Pred 0'],\n",
    "                 index=['Act 1', 'Act 0'])\n",
    "cf_lhRS"
   ]
  },
  {
   "cell_type": "code",
   "execution_count": 183,
   "metadata": {},
   "outputs": [
    {
     "data": {
      "text/html": [
       "<div>\n",
       "<style scoped>\n",
       "    .dataframe tbody tr th:only-of-type {\n",
       "        vertical-align: middle;\n",
       "    }\n",
       "\n",
       "    .dataframe tbody tr th {\n",
       "        vertical-align: top;\n",
       "    }\n",
       "\n",
       "    .dataframe thead th {\n",
       "        text-align: right;\n",
       "    }\n",
       "</style>\n",
       "<table border=\"1\" class=\"dataframe\">\n",
       "  <thead>\n",
       "    <tr style=\"text-align: right;\">\n",
       "      <th></th>\n",
       "      <th>Pred 1</th>\n",
       "      <th>Pred 0</th>\n",
       "    </tr>\n",
       "  </thead>\n",
       "  <tbody>\n",
       "    <tr>\n",
       "      <th>Act 1</th>\n",
       "      <td>239</td>\n",
       "      <td>102</td>\n",
       "    </tr>\n",
       "    <tr>\n",
       "      <th>Act 0</th>\n",
       "      <td>122</td>\n",
       "      <td>455</td>\n",
       "    </tr>\n",
       "  </tbody>\n",
       "</table>\n",
       "</div>"
      ],
      "text/plain": [
       "       Pred 1  Pred 0\n",
       "Act 1  239     102   \n",
       "Act 0  122     455   "
      ]
     },
     "execution_count": 183,
     "metadata": {},
     "output_type": "execute_result"
    }
   ],
   "source": [
    "cflhGS = confusion_matrix(yf_test, yflh_predGS, labels=[1, 0])\n",
    "cf_lhGS = pd.DataFrame(cflhGS,\n",
    "                 columns=['Pred 1', 'Pred 0'],\n",
    "                 index=['Act 1', 'Act 0'])\n",
    "cf_lhGS"
   ]
  },
  {
   "cell_type": "code",
   "execution_count": 184,
   "metadata": {},
   "outputs": [],
   "source": [
    "roc_flhRS = roc_auc_score(yf_test, yflh_predRS)\n",
    "recall0_flhRS = recall_score(yf_test, yflh_predRS, pos_label=0)\n",
    "roc_flhGS = roc_auc_score(yf_test, yflh_predGS)\n",
    "recall0_flhGS = recall_score(yf_test, yflh_predGS, pos_label=0)\n",
    "FNflh_RS = cf_lhRS['Pred 0'].iloc[0]\n",
    "FPflh_RS = cf_lhRS['Pred 1'].iloc[1]\n",
    "FNflh_GS = cf_lhGS['Pred 0'].iloc[0]\n",
    "FPflh_GS = cf_lhGS['Pred 1'].iloc[1]"
   ]
  },
  {
   "cell_type": "markdown",
   "metadata": {},
   "source": [
    "### Logistic Scalling"
   ]
  },
  {
   "cell_type": "markdown",
   "metadata": {},
   "source": [
    "### 1. Base"
   ]
  },
  {
   "cell_type": "code",
   "execution_count": 185,
   "metadata": {},
   "outputs": [],
   "source": [
    "modelogh = LogisticRegression()\n",
    "paramlog = {\n",
    "    'penalty':['l1','l2','elasticnet'],\n",
    "    'multi_class': ['auto', 'ovr', 'multinomial'],\n",
    "    'max_iter':np.random.randint(300,400,10),\n",
    "    'l1_ratio': np.logspace(-3,0,15)\n",
    "}"
   ]
  },
  {
   "cell_type": "code",
   "execution_count": 186,
   "metadata": {},
   "outputs": [],
   "source": [
    "modelLRS = RandomizedSearchCV(\n",
    "    estimator = modelogh, \n",
    "    param_distributions = paramlog, cv = 3)\n",
    "\n",
    "modelLGS = GridSearchCV(modelogh, paramlog, cv=3, n_jobs=-1, verbose=1)"
   ]
  },
  {
   "cell_type": "code",
   "execution_count": 187,
   "metadata": {},
   "outputs": [
    {
     "data": {
      "text/plain": [
       "RandomizedSearchCV(cv=3, estimator=LogisticRegression(),\n",
       "                   param_distributions={'l1_ratio': array([0.001     , 0.00163789, 0.0026827 , 0.00439397, 0.00719686,\n",
       "       0.01178769, 0.01930698, 0.03162278, 0.05179475, 0.08483429,\n",
       "       0.13894955, 0.22758459, 0.37275937, 0.61054023, 1.        ]),\n",
       "                                        'max_iter': array([396, 338, 374, 329, 310, 332, 321, 344, 358, 392]),\n",
       "                                        'multi_class': ['auto', 'ovr',\n",
       "                                                        'multinomial'],\n",
       "                                        'penalty': ['l1', 'l2', 'elasticnet']})"
      ]
     },
     "execution_count": 187,
     "metadata": {},
     "output_type": "execute_result"
    }
   ],
   "source": [
    "modelLRS.fit(Xb_scaled,yb_train)"
   ]
  },
  {
   "cell_type": "code",
   "execution_count": 188,
   "metadata": {},
   "outputs": [
    {
     "name": "stdout",
     "output_type": "stream",
     "text": [
      "Fitting 3 folds for each of 1350 candidates, totalling 4050 fits\n"
     ]
    },
    {
     "name": "stderr",
     "output_type": "stream",
     "text": [
      "[Parallel(n_jobs=-1)]: Using backend LokyBackend with 8 concurrent workers.\n",
      "[Parallel(n_jobs=-1)]: Done  56 tasks      | elapsed:    0.3s\n",
      "[Parallel(n_jobs=-1)]: Done 1200 tasks      | elapsed:    4.2s\n",
      "[Parallel(n_jobs=-1)]: Done 3200 tasks      | elapsed:   11.6s\n",
      "[Parallel(n_jobs=-1)]: Done 4050 out of 4050 | elapsed:   14.7s finished\n"
     ]
    },
    {
     "data": {
      "text/plain": [
       "GridSearchCV(cv=3, estimator=LogisticRegression(), n_jobs=-1,\n",
       "             param_grid={'l1_ratio': array([0.001     , 0.00163789, 0.0026827 , 0.00439397, 0.00719686,\n",
       "       0.01178769, 0.01930698, 0.03162278, 0.05179475, 0.08483429,\n",
       "       0.13894955, 0.22758459, 0.37275937, 0.61054023, 1.        ]),\n",
       "                         'max_iter': array([396, 338, 374, 329, 310, 332, 321, 344, 358, 392]),\n",
       "                         'multi_class': ['auto', 'ovr', 'multinomial'],\n",
       "                         'penalty': ['l1', 'l2', 'elasticnet']},\n",
       "             verbose=1)"
      ]
     },
     "execution_count": 188,
     "metadata": {},
     "output_type": "execute_result"
    }
   ],
   "source": [
    "modelLGS.fit(Xb_scaled,yb_train)"
   ]
  },
  {
   "cell_type": "code",
   "execution_count": 189,
   "metadata": {},
   "outputs": [
    {
     "data": {
      "text/plain": [
       "{'penalty': 'l2',\n",
       " 'multi_class': 'auto',\n",
       " 'max_iter': 344,\n",
       " 'l1_ratio': 0.004393970560760791}"
      ]
     },
     "execution_count": 189,
     "metadata": {},
     "output_type": "execute_result"
    }
   ],
   "source": [
    "modelLRS.best_params_"
   ]
  },
  {
   "cell_type": "code",
   "execution_count": 190,
   "metadata": {},
   "outputs": [
    {
     "data": {
      "text/plain": [
       "{'l1_ratio': 0.001, 'max_iter': 396, 'multi_class': 'auto', 'penalty': 'l2'}"
      ]
     },
     "execution_count": 190,
     "metadata": {},
     "output_type": "execute_result"
    }
   ],
   "source": [
    "modelLGS.best_params_"
   ]
  },
  {
   "cell_type": "code",
   "execution_count": 191,
   "metadata": {},
   "outputs": [],
   "source": [
    "ybslh_predRS = modelLRS.predict(Xb_tests)\n",
    "ybslh_predGS = modelLGS.predict(Xb_tests)\n",
    "ybslh_predRSt = modelLRS.predict(Xb_scaled)\n",
    "ybslh_predGSt = modelLGS.predict(Xb_scaled)"
   ]
  },
  {
   "cell_type": "code",
   "execution_count": 192,
   "metadata": {},
   "outputs": [
    {
     "name": "stdout",
     "output_type": "stream",
     "text": [
      "              precision    recall  f1-score   support\n",
      "\n",
      "           0       0.79      0.83      0.81       577\n",
      "           1       0.69      0.63      0.66       341\n",
      "\n",
      "    accuracy                           0.76       918\n",
      "   macro avg       0.74      0.73      0.73       918\n",
      "weighted avg       0.75      0.76      0.75       918\n",
      "\n"
     ]
    }
   ],
   "source": [
    "print(classification_report(yb_test, ybslh_predRS))"
   ]
  },
  {
   "cell_type": "code",
   "execution_count": 193,
   "metadata": {},
   "outputs": [
    {
     "name": "stdout",
     "output_type": "stream",
     "text": [
      "              precision    recall  f1-score   support\n",
      "\n",
      "           0       0.79      0.83      0.81       577\n",
      "           1       0.69      0.63      0.66       341\n",
      "\n",
      "    accuracy                           0.76       918\n",
      "   macro avg       0.74      0.73      0.73       918\n",
      "weighted avg       0.75      0.76      0.75       918\n",
      "\n"
     ]
    }
   ],
   "source": [
    "print(classification_report(yb_test, ybslh_predGS))"
   ]
  },
  {
   "cell_type": "code",
   "execution_count": 194,
   "metadata": {},
   "outputs": [
    {
     "data": {
      "text/html": [
       "<div>\n",
       "<style scoped>\n",
       "    .dataframe tbody tr th:only-of-type {\n",
       "        vertical-align: middle;\n",
       "    }\n",
       "\n",
       "    .dataframe tbody tr th {\n",
       "        vertical-align: top;\n",
       "    }\n",
       "\n",
       "    .dataframe thead th {\n",
       "        text-align: right;\n",
       "    }\n",
       "</style>\n",
       "<table border=\"1\" class=\"dataframe\">\n",
       "  <thead>\n",
       "    <tr style=\"text-align: right;\">\n",
       "      <th></th>\n",
       "      <th>Pred 1</th>\n",
       "      <th>Pred 0</th>\n",
       "    </tr>\n",
       "  </thead>\n",
       "  <tbody>\n",
       "    <tr>\n",
       "      <th>Act 1</th>\n",
       "      <td>216</td>\n",
       "      <td>125</td>\n",
       "    </tr>\n",
       "    <tr>\n",
       "      <th>Act 0</th>\n",
       "      <td>99</td>\n",
       "      <td>478</td>\n",
       "    </tr>\n",
       "  </tbody>\n",
       "</table>\n",
       "</div>"
      ],
      "text/plain": [
       "       Pred 1  Pred 0\n",
       "Act 1  216     125   \n",
       "Act 0  99      478   "
      ]
     },
     "execution_count": 194,
     "metadata": {},
     "output_type": "execute_result"
    }
   ],
   "source": [
    "cbslhRS = confusion_matrix(yb_test, ybslh_predRS, labels=[1, 0])\n",
    "cbs_lhRS = pd.DataFrame(cbslhRS,\n",
    "                 columns=['Pred 1', 'Pred 0'],\n",
    "                 index=['Act 1', 'Act 0'])\n",
    "cbs_lhRS"
   ]
  },
  {
   "cell_type": "code",
   "execution_count": 195,
   "metadata": {},
   "outputs": [
    {
     "data": {
      "text/html": [
       "<div>\n",
       "<style scoped>\n",
       "    .dataframe tbody tr th:only-of-type {\n",
       "        vertical-align: middle;\n",
       "    }\n",
       "\n",
       "    .dataframe tbody tr th {\n",
       "        vertical-align: top;\n",
       "    }\n",
       "\n",
       "    .dataframe thead th {\n",
       "        text-align: right;\n",
       "    }\n",
       "</style>\n",
       "<table border=\"1\" class=\"dataframe\">\n",
       "  <thead>\n",
       "    <tr style=\"text-align: right;\">\n",
       "      <th></th>\n",
       "      <th>Pred 1</th>\n",
       "      <th>Pred 0</th>\n",
       "    </tr>\n",
       "  </thead>\n",
       "  <tbody>\n",
       "    <tr>\n",
       "      <th>Act 1</th>\n",
       "      <td>216</td>\n",
       "      <td>125</td>\n",
       "    </tr>\n",
       "    <tr>\n",
       "      <th>Act 0</th>\n",
       "      <td>99</td>\n",
       "      <td>478</td>\n",
       "    </tr>\n",
       "  </tbody>\n",
       "</table>\n",
       "</div>"
      ],
      "text/plain": [
       "       Pred 1  Pred 0\n",
       "Act 1  216     125   \n",
       "Act 0  99      478   "
      ]
     },
     "execution_count": 195,
     "metadata": {},
     "output_type": "execute_result"
    }
   ],
   "source": [
    "cbslhGS = confusion_matrix(yb_test, ybslh_predGS, labels=[1, 0])\n",
    "cbs_lhGS = pd.DataFrame(cbslhGS,\n",
    "                 columns=['Pred 1', 'Pred 0'],\n",
    "                 index=['Act 1', 'Act 0'])\n",
    "cbs_lhGS"
   ]
  },
  {
   "cell_type": "code",
   "execution_count": 196,
   "metadata": {},
   "outputs": [],
   "source": [
    "roc_bslhRS = roc_auc_score(yb_test, ybslh_predRS)\n",
    "recall0_bslhRS = recall_score(yb_test, ybslh_predRS, pos_label=0)\n",
    "roc_bslhGS = roc_auc_score(yb_test, ybslh_predGS)\n",
    "recall0_bslhGS = recall_score(yb_test, ybslh_predGS, pos_label=0)\n",
    "FNbslh_RS = cbs_lhRS['Pred 0'].iloc[0]\n",
    "FPbslh_RS = cbs_lhRS['Pred 1'].iloc[1]\n",
    "FNbslh_GS = cbs_lhGS['Pred 0'].iloc[0]\n",
    "FPbslh_GS = cbs_lhGS['Pred 1'].iloc[1]"
   ]
  },
  {
   "cell_type": "markdown",
   "metadata": {},
   "source": [
    "### 2. Complex (dfix scaled)"
   ]
  },
  {
   "cell_type": "code",
   "execution_count": 197,
   "metadata": {},
   "outputs": [],
   "source": [
    "modelogh = LogisticRegression()\n",
    "paramlog = {\n",
    "    'penalty':['l1','l2','elasticnet'],\n",
    "    'multi_class': ['auto', 'ovr', 'multinomial'],\n",
    "    'max_iter':np.random.randint(300,400,10),\n",
    "    'l1_ratio': np.logspace(-3,0,15)\n",
    "}"
   ]
  },
  {
   "cell_type": "code",
   "execution_count": 198,
   "metadata": {},
   "outputs": [],
   "source": [
    "modelLRS = RandomizedSearchCV(\n",
    "    estimator = modelogh, \n",
    "    param_distributions = paramlog, cv = 3)\n",
    "\n",
    "modelLGS = GridSearchCV(modelogh, paramlog, cv=3, n_jobs=-1, verbose=1)"
   ]
  },
  {
   "cell_type": "code",
   "execution_count": 199,
   "metadata": {},
   "outputs": [
    {
     "data": {
      "text/plain": [
       "RandomizedSearchCV(cv=3, estimator=LogisticRegression(),\n",
       "                   param_distributions={'l1_ratio': array([0.001     , 0.00163789, 0.0026827 , 0.00439397, 0.00719686,\n",
       "       0.01178769, 0.01930698, 0.03162278, 0.05179475, 0.08483429,\n",
       "       0.13894955, 0.22758459, 0.37275937, 0.61054023, 1.        ]),\n",
       "                                        'max_iter': array([366, 355, 376, 369, 379, 372, 374, 371, 307, 397]),\n",
       "                                        'multi_class': ['auto', 'ovr',\n",
       "                                                        'multinomial'],\n",
       "                                        'penalty': ['l1', 'l2', 'elasticnet']})"
      ]
     },
     "execution_count": 199,
     "metadata": {},
     "output_type": "execute_result"
    }
   ],
   "source": [
    "modelLRS.fit(Xf_scaled,yf_train)"
   ]
  },
  {
   "cell_type": "code",
   "execution_count": 200,
   "metadata": {},
   "outputs": [
    {
     "name": "stdout",
     "output_type": "stream",
     "text": [
      "Fitting 3 folds for each of 1350 candidates, totalling 4050 fits\n"
     ]
    },
    {
     "name": "stderr",
     "output_type": "stream",
     "text": [
      "[Parallel(n_jobs=-1)]: Using backend LokyBackend with 8 concurrent workers.\n",
      "[Parallel(n_jobs=-1)]: Done  56 tasks      | elapsed:    0.4s\n",
      "[Parallel(n_jobs=-1)]: Done 1200 tasks      | elapsed:    3.7s\n",
      "[Parallel(n_jobs=-1)]: Done 3200 tasks      | elapsed:    9.5s\n",
      "[Parallel(n_jobs=-1)]: Done 4050 out of 4050 | elapsed:   11.5s finished\n"
     ]
    },
    {
     "data": {
      "text/plain": [
       "GridSearchCV(cv=3, estimator=LogisticRegression(), n_jobs=-1,\n",
       "             param_grid={'l1_ratio': array([0.001     , 0.00163789, 0.0026827 , 0.00439397, 0.00719686,\n",
       "       0.01178769, 0.01930698, 0.03162278, 0.05179475, 0.08483429,\n",
       "       0.13894955, 0.22758459, 0.37275937, 0.61054023, 1.        ]),\n",
       "                         'max_iter': array([366, 355, 376, 369, 379, 372, 374, 371, 307, 397]),\n",
       "                         'multi_class': ['auto', 'ovr', 'multinomial'],\n",
       "                         'penalty': ['l1', 'l2', 'elasticnet']},\n",
       "             verbose=1)"
      ]
     },
     "execution_count": 200,
     "metadata": {},
     "output_type": "execute_result"
    }
   ],
   "source": [
    "modelLGS.fit(Xf_scaled,yf_train)"
   ]
  },
  {
   "cell_type": "code",
   "execution_count": 201,
   "metadata": {},
   "outputs": [
    {
     "data": {
      "text/plain": [
       "{'penalty': 'l2',\n",
       " 'multi_class': 'auto',\n",
       " 'max_iter': 379,\n",
       " 'l1_ratio': 0.0517947467923121}"
      ]
     },
     "execution_count": 201,
     "metadata": {},
     "output_type": "execute_result"
    }
   ],
   "source": [
    "modelLRS.best_params_"
   ]
  },
  {
   "cell_type": "code",
   "execution_count": 202,
   "metadata": {},
   "outputs": [
    {
     "data": {
      "text/plain": [
       "{'l1_ratio': 0.001, 'max_iter': 366, 'multi_class': 'auto', 'penalty': 'l2'}"
      ]
     },
     "execution_count": 202,
     "metadata": {},
     "output_type": "execute_result"
    }
   ],
   "source": [
    "modelLGS.best_params_"
   ]
  },
  {
   "cell_type": "code",
   "execution_count": 203,
   "metadata": {},
   "outputs": [],
   "source": [
    "yfslh_predRS = modelLRS.predict(Xf_tests)\n",
    "yfslh_predGS = modelLGS.predict(Xf_tests)\n",
    "yfslh_predRSt = modelLRS.predict(Xf_scaled)\n",
    "yfslh_predGSt = modelLGS.predict(Xf_scaled)"
   ]
  },
  {
   "cell_type": "code",
   "execution_count": 204,
   "metadata": {},
   "outputs": [
    {
     "name": "stdout",
     "output_type": "stream",
     "text": [
      "              precision    recall  f1-score   support\n",
      "\n",
      "           0       0.81      0.82      0.81       577\n",
      "           1       0.68      0.67      0.67       341\n",
      "\n",
      "    accuracy                           0.76       918\n",
      "   macro avg       0.74      0.74      0.74       918\n",
      "weighted avg       0.76      0.76      0.76       918\n",
      "\n"
     ]
    }
   ],
   "source": [
    "print(classification_report(yf_test, yfslh_predRS))"
   ]
  },
  {
   "cell_type": "code",
   "execution_count": 205,
   "metadata": {},
   "outputs": [
    {
     "name": "stdout",
     "output_type": "stream",
     "text": [
      "              precision    recall  f1-score   support\n",
      "\n",
      "           0       0.81      0.82      0.81       577\n",
      "           1       0.68      0.67      0.67       341\n",
      "\n",
      "    accuracy                           0.76       918\n",
      "   macro avg       0.74      0.74      0.74       918\n",
      "weighted avg       0.76      0.76      0.76       918\n",
      "\n"
     ]
    }
   ],
   "source": [
    "print(classification_report(yf_test, yfslh_predGS))"
   ]
  },
  {
   "cell_type": "code",
   "execution_count": 206,
   "metadata": {},
   "outputs": [
    {
     "data": {
      "text/html": [
       "<div>\n",
       "<style scoped>\n",
       "    .dataframe tbody tr th:only-of-type {\n",
       "        vertical-align: middle;\n",
       "    }\n",
       "\n",
       "    .dataframe tbody tr th {\n",
       "        vertical-align: top;\n",
       "    }\n",
       "\n",
       "    .dataframe thead th {\n",
       "        text-align: right;\n",
       "    }\n",
       "</style>\n",
       "<table border=\"1\" class=\"dataframe\">\n",
       "  <thead>\n",
       "    <tr style=\"text-align: right;\">\n",
       "      <th></th>\n",
       "      <th>Pred 1</th>\n",
       "      <th>Pred 0</th>\n",
       "    </tr>\n",
       "  </thead>\n",
       "  <tbody>\n",
       "    <tr>\n",
       "      <th>Act 1</th>\n",
       "      <td>227</td>\n",
       "      <td>114</td>\n",
       "    </tr>\n",
       "    <tr>\n",
       "      <th>Act 0</th>\n",
       "      <td>105</td>\n",
       "      <td>472</td>\n",
       "    </tr>\n",
       "  </tbody>\n",
       "</table>\n",
       "</div>"
      ],
      "text/plain": [
       "       Pred 1  Pred 0\n",
       "Act 1  227     114   \n",
       "Act 0  105     472   "
      ]
     },
     "execution_count": 206,
     "metadata": {},
     "output_type": "execute_result"
    }
   ],
   "source": [
    "cfslhRS = confusion_matrix(yf_test, yfslh_predRS, labels=[1, 0])\n",
    "cfs_lhRS = pd.DataFrame(cfslhRS,\n",
    "                 columns=['Pred 1', 'Pred 0'],\n",
    "                 index=['Act 1', 'Act 0'])\n",
    "cfs_lhRS"
   ]
  },
  {
   "cell_type": "code",
   "execution_count": 207,
   "metadata": {},
   "outputs": [
    {
     "data": {
      "text/html": [
       "<div>\n",
       "<style scoped>\n",
       "    .dataframe tbody tr th:only-of-type {\n",
       "        vertical-align: middle;\n",
       "    }\n",
       "\n",
       "    .dataframe tbody tr th {\n",
       "        vertical-align: top;\n",
       "    }\n",
       "\n",
       "    .dataframe thead th {\n",
       "        text-align: right;\n",
       "    }\n",
       "</style>\n",
       "<table border=\"1\" class=\"dataframe\">\n",
       "  <thead>\n",
       "    <tr style=\"text-align: right;\">\n",
       "      <th></th>\n",
       "      <th>Pred 1</th>\n",
       "      <th>Pred 0</th>\n",
       "    </tr>\n",
       "  </thead>\n",
       "  <tbody>\n",
       "    <tr>\n",
       "      <th>Act 1</th>\n",
       "      <td>227</td>\n",
       "      <td>114</td>\n",
       "    </tr>\n",
       "    <tr>\n",
       "      <th>Act 0</th>\n",
       "      <td>105</td>\n",
       "      <td>472</td>\n",
       "    </tr>\n",
       "  </tbody>\n",
       "</table>\n",
       "</div>"
      ],
      "text/plain": [
       "       Pred 1  Pred 0\n",
       "Act 1  227     114   \n",
       "Act 0  105     472   "
      ]
     },
     "execution_count": 207,
     "metadata": {},
     "output_type": "execute_result"
    }
   ],
   "source": [
    "cfslhGS = confusion_matrix(yf_test, yfslh_predGS, labels=[1, 0])\n",
    "cfs_lhGS = pd.DataFrame(cfslhGS,\n",
    "                 columns=['Pred 1', 'Pred 0'],\n",
    "                 index=['Act 1', 'Act 0'])\n",
    "cfs_lhGS"
   ]
  },
  {
   "cell_type": "code",
   "execution_count": 208,
   "metadata": {},
   "outputs": [],
   "source": [
    "roc_fslhRS = roc_auc_score(yf_test, yfslh_predRS)\n",
    "recall0_fslhRS = recall_score(yf_test, yfslh_predRS, pos_label=0)\n",
    "roc_fslhGS = roc_auc_score(yf_test, yfslh_predGS)\n",
    "recall0_fslhGS = recall_score(yf_test, yfslh_predGS, pos_label=0)\n",
    "FNfslh_RS = cfs_lhRS['Pred 0'].iloc[0]\n",
    "FPfslh_RS = cfs_lhRS['Pred 1'].iloc[1]\n",
    "FNfslh_GS = cfs_lhGS['Pred 0'].iloc[0]\n",
    "FPfslh_GS = cfs_lhGS['Pred 1'].iloc[1]"
   ]
  },
  {
   "cell_type": "markdown",
   "metadata": {},
   "source": [
    "### XGBClassifier"
   ]
  },
  {
   "cell_type": "markdown",
   "metadata": {},
   "source": [
    "### 1. Base hyper"
   ]
  },
  {
   "cell_type": "code",
   "execution_count": 209,
   "metadata": {},
   "outputs": [],
   "source": [
    "modelxgh = XGBClassifier()\n",
    "paramxg = {\n",
    "    'max_depth':np.random.randint(1,10,10),\n",
    "    'learning_rate': np.logspace(-3,0,15),\n",
    "    'n_estimators':np.random.randint(100,200,10),\n",
    "    'gamma':np.random.randint(1,10,10)\n",
    "}"
   ]
  },
  {
   "cell_type": "code",
   "execution_count": 210,
   "metadata": {},
   "outputs": [],
   "source": [
    "modelXRS = RandomizedSearchCV(\n",
    "    estimator = modelxgh, \n",
    "    param_distributions = paramxg, cv = 3)\n",
    "\n",
    "modelXGS = GridSearchCV(modelxgh, paramxg, cv=3, n_jobs=-1, verbose=1)"
   ]
  },
  {
   "cell_type": "code",
   "execution_count": 211,
   "metadata": {},
   "outputs": [
    {
     "data": {
      "text/plain": [
       "RandomizedSearchCV(cv=3, estimator=XGBClassifier(),\n",
       "                   param_distributions={'gamma': array([5, 8, 4, 2, 9, 2, 1, 8, 3, 4]),\n",
       "                                        'learning_rate': array([0.001     , 0.00163789, 0.0026827 , 0.00439397, 0.00719686,\n",
       "       0.01178769, 0.01930698, 0.03162278, 0.05179475, 0.08483429,\n",
       "       0.13894955, 0.22758459, 0.37275937, 0.61054023, 1.        ]),\n",
       "                                        'max_depth': array([6, 3, 5, 4, 3, 9, 2, 2, 1, 7]),\n",
       "                                        'n_estimators': array([135, 152, 100, 136, 121, 110, 170, 102, 113, 156])})"
      ]
     },
     "execution_count": 211,
     "metadata": {},
     "output_type": "execute_result"
    }
   ],
   "source": [
    "modelXRS.fit(Xb_train,yb_train)"
   ]
  },
  {
   "cell_type": "code",
   "execution_count": 212,
   "metadata": {},
   "outputs": [
    {
     "name": "stdout",
     "output_type": "stream",
     "text": [
      "Fitting 3 folds for each of 15000 candidates, totalling 45000 fits\n"
     ]
    },
    {
     "name": "stderr",
     "output_type": "stream",
     "text": [
      "[Parallel(n_jobs=-1)]: Using backend LokyBackend with 8 concurrent workers.\n",
      "[Parallel(n_jobs=-1)]: Done  34 tasks      | elapsed:    2.4s\n",
      "[Parallel(n_jobs=-1)]: Done 184 tasks      | elapsed:   11.4s\n",
      "[Parallel(n_jobs=-1)]: Done 434 tasks      | elapsed:   26.4s\n",
      "[Parallel(n_jobs=-1)]: Done 784 tasks      | elapsed:   50.3s\n",
      "[Parallel(n_jobs=-1)]: Done 1234 tasks      | elapsed:  1.3min\n",
      "[Parallel(n_jobs=-1)]: Done 1784 tasks      | elapsed:  1.9min\n",
      "[Parallel(n_jobs=-1)]: Done 2434 tasks      | elapsed:  2.6min\n",
      "[Parallel(n_jobs=-1)]: Done 3184 tasks      | elapsed:  3.6min\n",
      "[Parallel(n_jobs=-1)]: Done 4034 tasks      | elapsed:  5.0min\n",
      "[Parallel(n_jobs=-1)]: Done 4984 tasks      | elapsed:  7.4min\n",
      "[Parallel(n_jobs=-1)]: Done 6034 tasks      | elapsed:  9.5min\n",
      "[Parallel(n_jobs=-1)]: Done 7184 tasks      | elapsed: 11.7min\n",
      "[Parallel(n_jobs=-1)]: Done 8434 tasks      | elapsed: 14.2min\n",
      "[Parallel(n_jobs=-1)]: Done 9784 tasks      | elapsed: 16.8min\n",
      "[Parallel(n_jobs=-1)]: Done 11234 tasks      | elapsed: 19.7min\n",
      "[Parallel(n_jobs=-1)]: Done 12784 tasks      | elapsed: 22.7min\n",
      "[Parallel(n_jobs=-1)]: Done 14434 tasks      | elapsed: 25.6min\n",
      "[Parallel(n_jobs=-1)]: Done 16184 tasks      | elapsed: 29.2min\n",
      "[Parallel(n_jobs=-1)]: Done 18034 tasks      | elapsed: 33.6min\n",
      "[Parallel(n_jobs=-1)]: Done 19984 tasks      | elapsed: 38.1min\n",
      "[Parallel(n_jobs=-1)]: Done 22034 tasks      | elapsed: 42.0min\n",
      "[Parallel(n_jobs=-1)]: Done 24184 tasks      | elapsed: 46.5min\n",
      "[Parallel(n_jobs=-1)]: Done 26434 tasks      | elapsed: 51.2min\n",
      "[Parallel(n_jobs=-1)]: Done 28784 tasks      | elapsed: 56.3min\n",
      "[Parallel(n_jobs=-1)]: Done 31234 tasks      | elapsed: 61.1min\n",
      "[Parallel(n_jobs=-1)]: Done 33784 tasks      | elapsed: 66.3min\n",
      "[Parallel(n_jobs=-1)]: Done 36434 tasks      | elapsed: 69.4min\n",
      "[Parallel(n_jobs=-1)]: Done 39184 tasks      | elapsed: 72.7min\n",
      "[Parallel(n_jobs=-1)]: Done 42034 tasks      | elapsed: 75.9min\n",
      "[Parallel(n_jobs=-1)]: Done 44984 tasks      | elapsed: 79.2min\n",
      "[Parallel(n_jobs=-1)]: Done 45000 out of 45000 | elapsed: 79.2min finished\n"
     ]
    },
    {
     "data": {
      "text/plain": [
       "GridSearchCV(cv=3, estimator=XGBClassifier(), n_jobs=-1,\n",
       "             param_grid={'gamma': array([5, 8, 4, 2, 9, 2, 1, 8, 3, 4]),\n",
       "                         'learning_rate': array([0.001     , 0.00163789, 0.0026827 , 0.00439397, 0.00719686,\n",
       "       0.01178769, 0.01930698, 0.03162278, 0.05179475, 0.08483429,\n",
       "       0.13894955, 0.22758459, 0.37275937, 0.61054023, 1.        ]),\n",
       "                         'max_depth': array([6, 3, 5, 4, 3, 9, 2, 2, 1, 7]),\n",
       "                         'n_estimators': array([135, 152, 100, 136, 121, 110, 170, 102, 113, 156])},\n",
       "             verbose=1)"
      ]
     },
     "execution_count": 212,
     "metadata": {},
     "output_type": "execute_result"
    }
   ],
   "source": [
    "modelXGS.fit(Xb_train,yb_train)"
   ]
  },
  {
   "cell_type": "code",
   "execution_count": 213,
   "metadata": {},
   "outputs": [
    {
     "data": {
      "text/plain": [
       "{'n_estimators': 135,\n",
       " 'max_depth': 5,\n",
       " 'learning_rate': 0.011787686347935873,\n",
       " 'gamma': 5}"
      ]
     },
     "execution_count": 213,
     "metadata": {},
     "output_type": "execute_result"
    }
   ],
   "source": [
    "modelXRS.best_params_"
   ]
  },
  {
   "cell_type": "code",
   "execution_count": 214,
   "metadata": {},
   "outputs": [
    {
     "data": {
      "text/plain": [
       "{'gamma': 1,\n",
       " 'learning_rate': 0.0517947467923121,\n",
       " 'max_depth': 4,\n",
       " 'n_estimators': 113}"
      ]
     },
     "execution_count": 214,
     "metadata": {},
     "output_type": "execute_result"
    }
   ],
   "source": [
    "modelXGS.best_params_"
   ]
  },
  {
   "cell_type": "code",
   "execution_count": 215,
   "metadata": {},
   "outputs": [],
   "source": [
    "ybxh_predRS = modelXRS.predict(Xb_test)\n",
    "ybxh_predGS = modelXGS.predict(Xb_test)\n",
    "ybxh_predRSt = modelXRS.predict(Xb_train)\n",
    "ybxh_predGSt = modelXGS.predict(Xb_train)"
   ]
  },
  {
   "cell_type": "code",
   "execution_count": 216,
   "metadata": {},
   "outputs": [
    {
     "name": "stdout",
     "output_type": "stream",
     "text": [
      "              precision    recall  f1-score   support\n",
      "\n",
      "           0       0.82      0.81      0.82       577\n",
      "           1       0.69      0.70      0.69       341\n",
      "\n",
      "    accuracy                           0.77       918\n",
      "   macro avg       0.76      0.76      0.76       918\n",
      "weighted avg       0.77      0.77      0.77       918\n",
      "\n"
     ]
    }
   ],
   "source": [
    "print(classification_report(yb_test, ybxh_predRS))"
   ]
  },
  {
   "cell_type": "code",
   "execution_count": 217,
   "metadata": {},
   "outputs": [
    {
     "name": "stdout",
     "output_type": "stream",
     "text": [
      "              precision    recall  f1-score   support\n",
      "\n",
      "           0       0.80      0.83      0.82       577\n",
      "           1       0.69      0.65      0.67       341\n",
      "\n",
      "    accuracy                           0.76       918\n",
      "   macro avg       0.75      0.74      0.74       918\n",
      "weighted avg       0.76      0.76      0.76       918\n",
      "\n"
     ]
    }
   ],
   "source": [
    "print(classification_report(yb_test, ybxh_predGS))"
   ]
  },
  {
   "cell_type": "code",
   "execution_count": 218,
   "metadata": {},
   "outputs": [
    {
     "data": {
      "text/html": [
       "<div>\n",
       "<style scoped>\n",
       "    .dataframe tbody tr th:only-of-type {\n",
       "        vertical-align: middle;\n",
       "    }\n",
       "\n",
       "    .dataframe tbody tr th {\n",
       "        vertical-align: top;\n",
       "    }\n",
       "\n",
       "    .dataframe thead th {\n",
       "        text-align: right;\n",
       "    }\n",
       "</style>\n",
       "<table border=\"1\" class=\"dataframe\">\n",
       "  <thead>\n",
       "    <tr style=\"text-align: right;\">\n",
       "      <th></th>\n",
       "      <th>Pred 1</th>\n",
       "      <th>Pred 0</th>\n",
       "    </tr>\n",
       "  </thead>\n",
       "  <tbody>\n",
       "    <tr>\n",
       "      <th>Act 1</th>\n",
       "      <td>238</td>\n",
       "      <td>103</td>\n",
       "    </tr>\n",
       "    <tr>\n",
       "      <th>Act 0</th>\n",
       "      <td>107</td>\n",
       "      <td>470</td>\n",
       "    </tr>\n",
       "  </tbody>\n",
       "</table>\n",
       "</div>"
      ],
      "text/plain": [
       "       Pred 1  Pred 0\n",
       "Act 1  238     103   \n",
       "Act 0  107     470   "
      ]
     },
     "execution_count": 218,
     "metadata": {},
     "output_type": "execute_result"
    }
   ],
   "source": [
    "cbxhRS = confusion_matrix(yb_test, ybxh_predRS, labels=[1, 0])\n",
    "cb_xhRS = pd.DataFrame(cbxhRS,\n",
    "                 columns=['Pred 1', 'Pred 0'],\n",
    "                 index=['Act 1', 'Act 0'])\n",
    "cb_xhRS"
   ]
  },
  {
   "cell_type": "code",
   "execution_count": 219,
   "metadata": {},
   "outputs": [
    {
     "data": {
      "text/html": [
       "<div>\n",
       "<style scoped>\n",
       "    .dataframe tbody tr th:only-of-type {\n",
       "        vertical-align: middle;\n",
       "    }\n",
       "\n",
       "    .dataframe tbody tr th {\n",
       "        vertical-align: top;\n",
       "    }\n",
       "\n",
       "    .dataframe thead th {\n",
       "        text-align: right;\n",
       "    }\n",
       "</style>\n",
       "<table border=\"1\" class=\"dataframe\">\n",
       "  <thead>\n",
       "    <tr style=\"text-align: right;\">\n",
       "      <th></th>\n",
       "      <th>Pred 1</th>\n",
       "      <th>Pred 0</th>\n",
       "    </tr>\n",
       "  </thead>\n",
       "  <tbody>\n",
       "    <tr>\n",
       "      <th>Act 1</th>\n",
       "      <td>221</td>\n",
       "      <td>120</td>\n",
       "    </tr>\n",
       "    <tr>\n",
       "      <th>Act 0</th>\n",
       "      <td>97</td>\n",
       "      <td>480</td>\n",
       "    </tr>\n",
       "  </tbody>\n",
       "</table>\n",
       "</div>"
      ],
      "text/plain": [
       "       Pred 1  Pred 0\n",
       "Act 1  221     120   \n",
       "Act 0  97      480   "
      ]
     },
     "execution_count": 219,
     "metadata": {},
     "output_type": "execute_result"
    }
   ],
   "source": [
    "cbxhGS = confusion_matrix(yb_test, ybxh_predGS, labels=[1, 0])\n",
    "cb_xhGS = pd.DataFrame(cbxhGS,\n",
    "                 columns=['Pred 1', 'Pred 0'],\n",
    "                 index=['Act 1', 'Act 0'])\n",
    "cb_xhGS"
   ]
  },
  {
   "cell_type": "code",
   "execution_count": 220,
   "metadata": {},
   "outputs": [],
   "source": [
    "roc_bxhRS = roc_auc_score(yb_test, ybxh_predRS)\n",
    "recall0_bxhRS = recall_score(yb_test, ybxh_predRS, pos_label=0)\n",
    "roc_bxhGS = roc_auc_score(yb_test, ybxh_predGS)\n",
    "recall0_bxhGS = recall_score(yb_test, ybxh_predGS, pos_label=0)\n",
    "FNbxh_RS = cb_xhRS['Pred 0'].iloc[0]\n",
    "FPbxh_RS = cb_xhRS['Pred 1'].iloc[1]\n",
    "FNbxh_GS = cb_xhGS['Pred 0'].iloc[0]\n",
    "FPbxh_GS = cb_xhGS['Pred 1'].iloc[1]"
   ]
  },
  {
   "cell_type": "markdown",
   "metadata": {},
   "source": [
    "### 2. Complex (dfix)"
   ]
  },
  {
   "cell_type": "code",
   "execution_count": 221,
   "metadata": {},
   "outputs": [],
   "source": [
    "modelxgh = XGBClassifier()\n",
    "paramxg = {\n",
    "    'max_depth':np.random.randint(1,10,10),\n",
    "    'learning_rate': np.logspace(-3,0,15),\n",
    "    'n_estimators':np.random.randint(100,200,10),\n",
    "    'gamma':np.random.randint(1,10,10)\n",
    "}"
   ]
  },
  {
   "cell_type": "code",
   "execution_count": 222,
   "metadata": {},
   "outputs": [],
   "source": [
    "modelXRS = RandomizedSearchCV(\n",
    "    estimator = modelxgh, \n",
    "    param_distributions = paramxg, cv = 3)\n",
    "\n",
    "modelXGS = GridSearchCV(modelxgh, paramxg, cv=3, n_jobs=-1, verbose=1)"
   ]
  },
  {
   "cell_type": "code",
   "execution_count": 223,
   "metadata": {},
   "outputs": [
    {
     "data": {
      "text/plain": [
       "RandomizedSearchCV(cv=3, estimator=XGBClassifier(),\n",
       "                   param_distributions={'gamma': array([9, 4, 6, 9, 2, 8, 4, 7, 4, 7]),\n",
       "                                        'learning_rate': array([0.001     , 0.00163789, 0.0026827 , 0.00439397, 0.00719686,\n",
       "       0.01178769, 0.01930698, 0.03162278, 0.05179475, 0.08483429,\n",
       "       0.13894955, 0.22758459, 0.37275937, 0.61054023, 1.        ]),\n",
       "                                        'max_depth': array([2, 4, 2, 1, 8, 7, 5, 1, 9, 8]),\n",
       "                                        'n_estimators': array([110, 134, 153, 177, 118, 152, 154, 172, 139, 140])})"
      ]
     },
     "execution_count": 223,
     "metadata": {},
     "output_type": "execute_result"
    }
   ],
   "source": [
    "modelXRS.fit(Xf_train,yf_train)"
   ]
  },
  {
   "cell_type": "code",
   "execution_count": 224,
   "metadata": {},
   "outputs": [
    {
     "name": "stdout",
     "output_type": "stream",
     "text": [
      "Fitting 3 folds for each of 15000 candidates, totalling 45000 fits\n"
     ]
    },
    {
     "name": "stderr",
     "output_type": "stream",
     "text": [
      "[Parallel(n_jobs=-1)]: Using backend LokyBackend with 8 concurrent workers.\n",
      "[Parallel(n_jobs=-1)]: Done  34 tasks      | elapsed:    1.4s\n",
      "[Parallel(n_jobs=-1)]: Done 184 tasks      | elapsed:    8.1s\n",
      "[Parallel(n_jobs=-1)]: Done 434 tasks      | elapsed:   20.0s\n",
      "[Parallel(n_jobs=-1)]: Done 784 tasks      | elapsed:   38.1s\n",
      "[Parallel(n_jobs=-1)]: Done 1234 tasks      | elapsed:  1.0min\n",
      "[Parallel(n_jobs=-1)]: Done 1784 tasks      | elapsed:  1.5min\n",
      "[Parallel(n_jobs=-1)]: Done 2434 tasks      | elapsed:  2.0min\n",
      "[Parallel(n_jobs=-1)]: Done 3184 tasks      | elapsed:  2.7min\n",
      "[Parallel(n_jobs=-1)]: Done 4034 tasks      | elapsed:  3.5min\n",
      "[Parallel(n_jobs=-1)]: Done 4984 tasks      | elapsed:  4.3min\n",
      "[Parallel(n_jobs=-1)]: Done 6034 tasks      | elapsed:  5.3min\n",
      "[Parallel(n_jobs=-1)]: Done 7184 tasks      | elapsed:  6.4min\n",
      "[Parallel(n_jobs=-1)]: Done 8434 tasks      | elapsed:  7.6min\n",
      "[Parallel(n_jobs=-1)]: Done 9784 tasks      | elapsed:  8.8min\n",
      "[Parallel(n_jobs=-1)]: Done 11234 tasks      | elapsed: 10.1min\n",
      "[Parallel(n_jobs=-1)]: Done 12784 tasks      | elapsed: 11.4min\n",
      "[Parallel(n_jobs=-1)]: Done 14770 tasks      | elapsed: 12.9min\n",
      "[Parallel(n_jobs=-1)]: Done 16520 tasks      | elapsed: 14.3min\n",
      "[Parallel(n_jobs=-1)]: Done 18370 tasks      | elapsed: 16.0min\n",
      "[Parallel(n_jobs=-1)]: Done 20320 tasks      | elapsed: 17.5min\n",
      "[Parallel(n_jobs=-1)]: Done 22370 tasks      | elapsed: 19.4min\n",
      "[Parallel(n_jobs=-1)]: Done 24520 tasks      | elapsed: 21.2min\n",
      "[Parallel(n_jobs=-1)]: Done 26770 tasks      | elapsed: 22.9min\n",
      "[Parallel(n_jobs=-1)]: Done 29120 tasks      | elapsed: 25.1min\n",
      "[Parallel(n_jobs=-1)]: Done 31570 tasks      | elapsed: 27.3min\n",
      "[Parallel(n_jobs=-1)]: Done 34120 tasks      | elapsed: 29.6min\n",
      "[Parallel(n_jobs=-1)]: Done 36770 tasks      | elapsed: 32.0min\n",
      "[Parallel(n_jobs=-1)]: Done 39520 tasks      | elapsed: 34.4min\n",
      "[Parallel(n_jobs=-1)]: Done 42370 tasks      | elapsed: 36.8min\n",
      "[Parallel(n_jobs=-1)]: Done 45000 out of 45000 | elapsed: 39.2min finished\n"
     ]
    },
    {
     "data": {
      "text/plain": [
       "GridSearchCV(cv=3, estimator=XGBClassifier(), n_jobs=-1,\n",
       "             param_grid={'gamma': array([9, 4, 6, 9, 2, 8, 4, 7, 4, 7]),\n",
       "                         'learning_rate': array([0.001     , 0.00163789, 0.0026827 , 0.00439397, 0.00719686,\n",
       "       0.01178769, 0.01930698, 0.03162278, 0.05179475, 0.08483429,\n",
       "       0.13894955, 0.22758459, 0.37275937, 0.61054023, 1.        ]),\n",
       "                         'max_depth': array([2, 4, 2, 1, 8, 7, 5, 1, 9, 8]),\n",
       "                         'n_estimators': array([110, 134, 153, 177, 118, 152, 154, 172, 139, 140])},\n",
       "             verbose=1)"
      ]
     },
     "execution_count": 224,
     "metadata": {},
     "output_type": "execute_result"
    }
   ],
   "source": [
    "modelXGS.fit(Xf_train,yf_train)"
   ]
  },
  {
   "cell_type": "code",
   "execution_count": 225,
   "metadata": {},
   "outputs": [
    {
     "data": {
      "text/plain": [
       "{'n_estimators': 139,\n",
       " 'max_depth': 7,\n",
       " 'learning_rate': 0.03162277660168379,\n",
       " 'gamma': 2}"
      ]
     },
     "execution_count": 225,
     "metadata": {},
     "output_type": "execute_result"
    }
   ],
   "source": [
    "modelXRS.best_params_"
   ]
  },
  {
   "cell_type": "code",
   "execution_count": 226,
   "metadata": {},
   "outputs": [
    {
     "data": {
      "text/plain": [
       "{'gamma': 4,\n",
       " 'learning_rate': 0.03162277660168379,\n",
       " 'max_depth': 8,\n",
       " 'n_estimators': 153}"
      ]
     },
     "execution_count": 226,
     "metadata": {},
     "output_type": "execute_result"
    }
   ],
   "source": [
    "modelXGS.best_params_"
   ]
  },
  {
   "cell_type": "code",
   "execution_count": 227,
   "metadata": {},
   "outputs": [],
   "source": [
    "yfxh_predRS = modelXRS.predict(Xf_test)\n",
    "yfxh_predGS = modelXGS.predict(Xf_test)\n",
    "yfxh_predRSt = modelXRS.predict(Xf_train)\n",
    "yfxh_predGSt = modelXGS.predict(Xf_train)"
   ]
  },
  {
   "cell_type": "code",
   "execution_count": 228,
   "metadata": {},
   "outputs": [
    {
     "name": "stdout",
     "output_type": "stream",
     "text": [
      "              precision    recall  f1-score   support\n",
      "\n",
      "           0       0.81      0.81      0.81       577\n",
      "           1       0.68      0.67      0.68       341\n",
      "\n",
      "    accuracy                           0.76       918\n",
      "   macro avg       0.75      0.74      0.75       918\n",
      "weighted avg       0.76      0.76      0.76       918\n",
      "\n"
     ]
    }
   ],
   "source": [
    "print(classification_report(yf_test, yfxh_predRS))"
   ]
  },
  {
   "cell_type": "code",
   "execution_count": 229,
   "metadata": {},
   "outputs": [
    {
     "name": "stdout",
     "output_type": "stream",
     "text": [
      "              precision    recall  f1-score   support\n",
      "\n",
      "           0       0.81      0.81      0.81       577\n",
      "           1       0.68      0.68      0.68       341\n",
      "\n",
      "    accuracy                           0.76       918\n",
      "   macro avg       0.75      0.75      0.75       918\n",
      "weighted avg       0.76      0.76      0.76       918\n",
      "\n"
     ]
    }
   ],
   "source": [
    "print(classification_report(yf_test, yfxh_predGS))"
   ]
  },
  {
   "cell_type": "code",
   "execution_count": 230,
   "metadata": {},
   "outputs": [
    {
     "data": {
      "text/html": [
       "<div>\n",
       "<style scoped>\n",
       "    .dataframe tbody tr th:only-of-type {\n",
       "        vertical-align: middle;\n",
       "    }\n",
       "\n",
       "    .dataframe tbody tr th {\n",
       "        vertical-align: top;\n",
       "    }\n",
       "\n",
       "    .dataframe thead th {\n",
       "        text-align: right;\n",
       "    }\n",
       "</style>\n",
       "<table border=\"1\" class=\"dataframe\">\n",
       "  <thead>\n",
       "    <tr style=\"text-align: right;\">\n",
       "      <th></th>\n",
       "      <th>Pred 1</th>\n",
       "      <th>Pred 0</th>\n",
       "    </tr>\n",
       "  </thead>\n",
       "  <tbody>\n",
       "    <tr>\n",
       "      <th>Act 1</th>\n",
       "      <td>230</td>\n",
       "      <td>111</td>\n",
       "    </tr>\n",
       "    <tr>\n",
       "      <th>Act 0</th>\n",
       "      <td>107</td>\n",
       "      <td>470</td>\n",
       "    </tr>\n",
       "  </tbody>\n",
       "</table>\n",
       "</div>"
      ],
      "text/plain": [
       "       Pred 1  Pred 0\n",
       "Act 1  230     111   \n",
       "Act 0  107     470   "
      ]
     },
     "execution_count": 230,
     "metadata": {},
     "output_type": "execute_result"
    }
   ],
   "source": [
    "cfxhRS = confusion_matrix(yf_test, yfxh_predRS, labels=[1, 0])\n",
    "cf_xhRS = pd.DataFrame(cfxhRS,\n",
    "                 columns=['Pred 1', 'Pred 0'],\n",
    "                 index=['Act 1', 'Act 0'])\n",
    "cf_xhRS"
   ]
  },
  {
   "cell_type": "code",
   "execution_count": 231,
   "metadata": {},
   "outputs": [
    {
     "data": {
      "text/html": [
       "<div>\n",
       "<style scoped>\n",
       "    .dataframe tbody tr th:only-of-type {\n",
       "        vertical-align: middle;\n",
       "    }\n",
       "\n",
       "    .dataframe tbody tr th {\n",
       "        vertical-align: top;\n",
       "    }\n",
       "\n",
       "    .dataframe thead th {\n",
       "        text-align: right;\n",
       "    }\n",
       "</style>\n",
       "<table border=\"1\" class=\"dataframe\">\n",
       "  <thead>\n",
       "    <tr style=\"text-align: right;\">\n",
       "      <th></th>\n",
       "      <th>Pred 1</th>\n",
       "      <th>Pred 0</th>\n",
       "    </tr>\n",
       "  </thead>\n",
       "  <tbody>\n",
       "    <tr>\n",
       "      <th>Act 1</th>\n",
       "      <td>233</td>\n",
       "      <td>108</td>\n",
       "    </tr>\n",
       "    <tr>\n",
       "      <th>Act 0</th>\n",
       "      <td>109</td>\n",
       "      <td>468</td>\n",
       "    </tr>\n",
       "  </tbody>\n",
       "</table>\n",
       "</div>"
      ],
      "text/plain": [
       "       Pred 1  Pred 0\n",
       "Act 1  233     108   \n",
       "Act 0  109     468   "
      ]
     },
     "execution_count": 231,
     "metadata": {},
     "output_type": "execute_result"
    }
   ],
   "source": [
    "cfxhGS = confusion_matrix(yf_test, yfxh_predGS, labels=[1, 0])\n",
    "cf_xhGS = pd.DataFrame(cfxhGS,\n",
    "                 columns=['Pred 1', 'Pred 0'],\n",
    "                 index=['Act 1', 'Act 0'])\n",
    "cf_xhGS"
   ]
  },
  {
   "cell_type": "code",
   "execution_count": 232,
   "metadata": {},
   "outputs": [],
   "source": [
    "roc_fxhRS = roc_auc_score(yf_test, yfxh_predRS)\n",
    "recall0_fxhRS = recall_score(yf_test, yfxh_predRS, pos_label=0)\n",
    "roc_fxhGS = roc_auc_score(yf_test, yfxh_predGS)\n",
    "recall0_fxhGS = recall_score(yf_test, yfxh_predGS, pos_label=0)\n",
    "FNfxh_RS = cf_xhRS['Pred 0'].iloc[0]\n",
    "FPfxh_RS = cf_xhRS['Pred 1'].iloc[1]\n",
    "FNfxh_GS = cf_xhGS['Pred 0'].iloc[0]\n",
    "FPfxh_GS = cf_xhGS['Pred 1'].iloc[1]"
   ]
  },
  {
   "cell_type": "markdown",
   "metadata": {},
   "source": [
    "### KNN Classifier"
   ]
  },
  {
   "cell_type": "markdown",
   "metadata": {},
   "source": [
    "### 1. Base hyper"
   ]
  },
  {
   "cell_type": "code",
   "execution_count": 233,
   "metadata": {},
   "outputs": [],
   "source": [
    "modelkfh = KNeighborsClassifier()\n",
    "paramkf = {\n",
    "    \"n_neighbors\" : np.random.randint(100,200,10),\n",
    "    \"weights\" : [\"uniform\", \"distance\"],\n",
    "    \"p\" : np.random.randint(1,10,10)\n",
    "}"
   ]
  },
  {
   "cell_type": "code",
   "execution_count": 234,
   "metadata": {},
   "outputs": [],
   "source": [
    "modelKRS = RandomizedSearchCV(estimator = modelkfh, param_distributions = paramkf, cv = 3)\n",
    "\n",
    "modelKGS = GridSearchCV(modelkfh, paramkf, cv=3, n_jobs=-1, verbose=1)"
   ]
  },
  {
   "cell_type": "code",
   "execution_count": 235,
   "metadata": {},
   "outputs": [
    {
     "data": {
      "text/plain": [
       "RandomizedSearchCV(cv=3, estimator=KNeighborsClassifier(),\n",
       "                   param_distributions={'n_neighbors': array([185, 121, 154, 125, 109, 106, 133, 174, 158, 127]),\n",
       "                                        'p': array([2, 4, 2, 2, 4, 8, 2, 4, 8, 1]),\n",
       "                                        'weights': ['uniform', 'distance']})"
      ]
     },
     "execution_count": 235,
     "metadata": {},
     "output_type": "execute_result"
    }
   ],
   "source": [
    "modelKRS.fit(Xb_train,yb_train)"
   ]
  },
  {
   "cell_type": "code",
   "execution_count": 236,
   "metadata": {},
   "outputs": [
    {
     "name": "stdout",
     "output_type": "stream",
     "text": [
      "Fitting 3 folds for each of 200 candidates, totalling 600 fits\n"
     ]
    },
    {
     "name": "stderr",
     "output_type": "stream",
     "text": [
      "[Parallel(n_jobs=-1)]: Using backend LokyBackend with 8 concurrent workers.\n",
      "[Parallel(n_jobs=-1)]: Done  34 tasks      | elapsed:    1.7s\n",
      "[Parallel(n_jobs=-1)]: Done 184 tasks      | elapsed:    7.7s\n",
      "[Parallel(n_jobs=-1)]: Done 434 tasks      | elapsed:   16.8s\n",
      "[Parallel(n_jobs=-1)]: Done 600 out of 600 | elapsed:   23.5s finished\n"
     ]
    },
    {
     "data": {
      "text/plain": [
       "GridSearchCV(cv=3, estimator=KNeighborsClassifier(), n_jobs=-1,\n",
       "             param_grid={'n_neighbors': array([185, 121, 154, 125, 109, 106, 133, 174, 158, 127]),\n",
       "                         'p': array([2, 4, 2, 2, 4, 8, 2, 4, 8, 1]),\n",
       "                         'weights': ['uniform', 'distance']},\n",
       "             verbose=1)"
      ]
     },
     "execution_count": 236,
     "metadata": {},
     "output_type": "execute_result"
    }
   ],
   "source": [
    "modelKGS.fit(Xb_train,yb_train)"
   ]
  },
  {
   "cell_type": "code",
   "execution_count": 237,
   "metadata": {},
   "outputs": [
    {
     "data": {
      "text/plain": [
       "{'weights': 'uniform', 'p': 1, 'n_neighbors': 154}"
      ]
     },
     "execution_count": 237,
     "metadata": {},
     "output_type": "execute_result"
    }
   ],
   "source": [
    "modelKRS.best_params_"
   ]
  },
  {
   "cell_type": "code",
   "execution_count": 238,
   "metadata": {},
   "outputs": [
    {
     "data": {
      "text/plain": [
       "{'n_neighbors': 133, 'p': 1, 'weights': 'distance'}"
      ]
     },
     "execution_count": 238,
     "metadata": {},
     "output_type": "execute_result"
    }
   ],
   "source": [
    "modelKGS.best_params_"
   ]
  },
  {
   "cell_type": "code",
   "execution_count": 239,
   "metadata": {},
   "outputs": [],
   "source": [
    "ybkh_predRS = modelKRS.predict(Xb_test)\n",
    "ybkh_predGS = modelKGS.predict(Xb_test)\n",
    "ybkh_predRSt = modelKRS.predict(Xb_train)\n",
    "ybkh_predGSt = modelKGS.predict(Xb_train)"
   ]
  },
  {
   "cell_type": "code",
   "execution_count": 277,
   "metadata": {},
   "outputs": [
    {
     "name": "stdout",
     "output_type": "stream",
     "text": [
      "              precision    recall  f1-score   support\n",
      "\n",
      "           0       0.70      0.93      0.80      1729\n",
      "           1       0.75      0.33      0.45      1024\n",
      "\n",
      "    accuracy                           0.71      2753\n",
      "   macro avg       0.72      0.63      0.63      2753\n",
      "weighted avg       0.72      0.71      0.67      2753\n",
      "\n"
     ]
    }
   ],
   "source": [
    "print(classification_report(yb_train, ybkh_predRSt))"
   ]
  },
  {
   "cell_type": "code",
   "execution_count": 281,
   "metadata": {},
   "outputs": [
    {
     "data": {
      "text/plain": [
       "0.630118904532967"
      ]
     },
     "execution_count": 281,
     "metadata": {},
     "output_type": "execute_result"
    }
   ],
   "source": [
    "roc_auc_score(yb_train, ybkh_predRSt)"
   ]
  },
  {
   "cell_type": "code",
   "execution_count": 240,
   "metadata": {},
   "outputs": [
    {
     "name": "stdout",
     "output_type": "stream",
     "text": [
      "              precision    recall  f1-score   support\n",
      "\n",
      "           0       0.70      0.93      0.80       577\n",
      "           1       0.73      0.33      0.45       341\n",
      "\n",
      "    accuracy                           0.70       918\n",
      "   macro avg       0.71      0.63      0.62       918\n",
      "weighted avg       0.71      0.70      0.67       918\n",
      "\n"
     ]
    }
   ],
   "source": [
    "print(classification_report(yb_test, ybkh_predRS))"
   ]
  },
  {
   "cell_type": "code",
   "execution_count": 282,
   "metadata": {},
   "outputs": [
    {
     "data": {
      "text/plain": [
       "0.6263614509267776"
      ]
     },
     "execution_count": 282,
     "metadata": {},
     "output_type": "execute_result"
    }
   ],
   "source": [
    "roc_auc_score(yb_test, ybkh_predRS)"
   ]
  },
  {
   "cell_type": "code",
   "execution_count": 241,
   "metadata": {},
   "outputs": [
    {
     "name": "stdout",
     "output_type": "stream",
     "text": [
      "              precision    recall  f1-score   support\n",
      "\n",
      "           0       0.70      0.92      0.79       577\n",
      "           1       0.71      0.34      0.46       341\n",
      "\n",
      "    accuracy                           0.70       918\n",
      "   macro avg       0.70      0.63      0.63       918\n",
      "weighted avg       0.70      0.70      0.67       918\n",
      "\n"
     ]
    }
   ],
   "source": [
    "print(classification_report(yb_test, ybkh_predGS))"
   ]
  },
  {
   "cell_type": "code",
   "execution_count": 242,
   "metadata": {},
   "outputs": [
    {
     "data": {
      "text/html": [
       "<div>\n",
       "<style scoped>\n",
       "    .dataframe tbody tr th:only-of-type {\n",
       "        vertical-align: middle;\n",
       "    }\n",
       "\n",
       "    .dataframe tbody tr th {\n",
       "        vertical-align: top;\n",
       "    }\n",
       "\n",
       "    .dataframe thead th {\n",
       "        text-align: right;\n",
       "    }\n",
       "</style>\n",
       "<table border=\"1\" class=\"dataframe\">\n",
       "  <thead>\n",
       "    <tr style=\"text-align: right;\">\n",
       "      <th></th>\n",
       "      <th>Pred 1</th>\n",
       "      <th>Pred 0</th>\n",
       "    </tr>\n",
       "  </thead>\n",
       "  <tbody>\n",
       "    <tr>\n",
       "      <th>Act 1</th>\n",
       "      <td>111</td>\n",
       "      <td>230</td>\n",
       "    </tr>\n",
       "    <tr>\n",
       "      <th>Act 0</th>\n",
       "      <td>42</td>\n",
       "      <td>535</td>\n",
       "    </tr>\n",
       "  </tbody>\n",
       "</table>\n",
       "</div>"
      ],
      "text/plain": [
       "       Pred 1  Pred 0\n",
       "Act 1  111     230   \n",
       "Act 0  42      535   "
      ]
     },
     "execution_count": 242,
     "metadata": {},
     "output_type": "execute_result"
    }
   ],
   "source": [
    "cbkhRS = confusion_matrix(yb_test, ybkh_predRS, labels=[1, 0])\n",
    "cb_khRS = pd.DataFrame(cbkhRS,\n",
    "                 columns=['Pred 1', 'Pred 0'],\n",
    "                 index=['Act 1', 'Act 0'])\n",
    "cb_khRS"
   ]
  },
  {
   "cell_type": "code",
   "execution_count": 243,
   "metadata": {},
   "outputs": [
    {
     "data": {
      "text/html": [
       "<div>\n",
       "<style scoped>\n",
       "    .dataframe tbody tr th:only-of-type {\n",
       "        vertical-align: middle;\n",
       "    }\n",
       "\n",
       "    .dataframe tbody tr th {\n",
       "        vertical-align: top;\n",
       "    }\n",
       "\n",
       "    .dataframe thead th {\n",
       "        text-align: right;\n",
       "    }\n",
       "</style>\n",
       "<table border=\"1\" class=\"dataframe\">\n",
       "  <thead>\n",
       "    <tr style=\"text-align: right;\">\n",
       "      <th></th>\n",
       "      <th>Pred 1</th>\n",
       "      <th>Pred 0</th>\n",
       "    </tr>\n",
       "  </thead>\n",
       "  <tbody>\n",
       "    <tr>\n",
       "      <th>Act 1</th>\n",
       "      <td>115</td>\n",
       "      <td>226</td>\n",
       "    </tr>\n",
       "    <tr>\n",
       "      <th>Act 0</th>\n",
       "      <td>48</td>\n",
       "      <td>529</td>\n",
       "    </tr>\n",
       "  </tbody>\n",
       "</table>\n",
       "</div>"
      ],
      "text/plain": [
       "       Pred 1  Pred 0\n",
       "Act 1  115     226   \n",
       "Act 0  48      529   "
      ]
     },
     "execution_count": 243,
     "metadata": {},
     "output_type": "execute_result"
    }
   ],
   "source": [
    "cbkhGS = confusion_matrix(yb_test, ybkh_predGS, labels=[1, 0])\n",
    "cb_khGS = pd.DataFrame(cbkhGS,\n",
    "                 columns=['Pred 1', 'Pred 0'],\n",
    "                 index=['Act 1', 'Act 0'])\n",
    "cb_khGS"
   ]
  },
  {
   "cell_type": "code",
   "execution_count": 244,
   "metadata": {},
   "outputs": [],
   "source": [
    "roc_bkhRS = roc_auc_score(yb_test, ybkh_predRS)\n",
    "recall0_bkhRS = recall_score(yb_test, ybkh_predRS, pos_label=0)\n",
    "roc_bkhGS = roc_auc_score(yb_test, ybkh_predGS)\n",
    "recall0_bkhGS = recall_score(yb_test, ybkh_predGS, pos_label=0)\n",
    "FNbkh_RS = cb_khRS['Pred 0'].iloc[0]\n",
    "FPbkh_RS = cb_khRS['Pred 1'].iloc[1]\n",
    "FNbkh_GS = cb_khGS['Pred 0'].iloc[0]\n",
    "FPbkh_GS = cb_khGS['Pred 1'].iloc[1]"
   ]
  },
  {
   "cell_type": "markdown",
   "metadata": {},
   "source": [
    "### 2. Complex (dfix)"
   ]
  },
  {
   "cell_type": "code",
   "execution_count": 245,
   "metadata": {},
   "outputs": [],
   "source": [
    "modelkfh = KNeighborsClassifier()\n",
    "paramkf = {\n",
    "    \"n_neighbors\" : np.random.randint(100,200,10),\n",
    "    \"weights\" : [\"uniform\", \"distance\"],\n",
    "    \"p\" : np.random.randint(1,10,10)\n",
    "}"
   ]
  },
  {
   "cell_type": "code",
   "execution_count": 246,
   "metadata": {},
   "outputs": [],
   "source": [
    "modelKRS = RandomizedSearchCV(estimator = modelkfh, param_distributions = paramkf, cv = 3)\n",
    "\n",
    "modelKGS = GridSearchCV(modelkfh, paramkf, cv=3, n_jobs=-1, verbose=1)"
   ]
  },
  {
   "cell_type": "code",
   "execution_count": 247,
   "metadata": {},
   "outputs": [
    {
     "data": {
      "text/plain": [
       "RandomizedSearchCV(cv=3, estimator=KNeighborsClassifier(),\n",
       "                   param_distributions={'n_neighbors': array([125, 152, 164, 138, 103, 116, 179, 185, 105, 119]),\n",
       "                                        'p': array([8, 8, 1, 6, 8, 6, 6, 5, 5, 6]),\n",
       "                                        'weights': ['uniform', 'distance']})"
      ]
     },
     "execution_count": 247,
     "metadata": {},
     "output_type": "execute_result"
    }
   ],
   "source": [
    "modelKRS.fit(Xf_train,yf_train)"
   ]
  },
  {
   "cell_type": "code",
   "execution_count": 248,
   "metadata": {},
   "outputs": [
    {
     "name": "stdout",
     "output_type": "stream",
     "text": [
      "Fitting 3 folds for each of 200 candidates, totalling 600 fits\n"
     ]
    },
    {
     "name": "stderr",
     "output_type": "stream",
     "text": [
      "[Parallel(n_jobs=-1)]: Using backend LokyBackend with 8 concurrent workers.\n",
      "[Parallel(n_jobs=-1)]: Done  34 tasks      | elapsed:    1.6s\n",
      "[Parallel(n_jobs=-1)]: Done 184 tasks      | elapsed:    9.0s\n",
      "[Parallel(n_jobs=-1)]: Done 434 tasks      | elapsed:   19.7s\n",
      "[Parallel(n_jobs=-1)]: Done 600 out of 600 | elapsed:   27.2s finished\n"
     ]
    },
    {
     "data": {
      "text/plain": [
       "GridSearchCV(cv=3, estimator=KNeighborsClassifier(), n_jobs=-1,\n",
       "             param_grid={'n_neighbors': array([125, 152, 164, 138, 103, 116, 179, 185, 105, 119]),\n",
       "                         'p': array([8, 8, 1, 6, 8, 6, 6, 5, 5, 6]),\n",
       "                         'weights': ['uniform', 'distance']},\n",
       "             verbose=1)"
      ]
     },
     "execution_count": 248,
     "metadata": {},
     "output_type": "execute_result"
    }
   ],
   "source": [
    "modelKGS.fit(Xf_train,yf_train)"
   ]
  },
  {
   "cell_type": "code",
   "execution_count": 249,
   "metadata": {},
   "outputs": [
    {
     "data": {
      "text/plain": [
       "{'weights': 'distance', 'p': 6, 'n_neighbors': 138}"
      ]
     },
     "execution_count": 249,
     "metadata": {},
     "output_type": "execute_result"
    }
   ],
   "source": [
    "modelKRS.best_params_"
   ]
  },
  {
   "cell_type": "code",
   "execution_count": 250,
   "metadata": {},
   "outputs": [
    {
     "data": {
      "text/plain": [
       "{'n_neighbors': 125, 'p': 1, 'weights': 'distance'}"
      ]
     },
     "execution_count": 250,
     "metadata": {},
     "output_type": "execute_result"
    }
   ],
   "source": [
    "modelKGS.best_params_"
   ]
  },
  {
   "cell_type": "code",
   "execution_count": 251,
   "metadata": {},
   "outputs": [],
   "source": [
    "yfkh_predRS = modelKRS.predict(Xf_test)\n",
    "yfkh_predGS = modelKGS.predict(Xf_test)\n",
    "yfkh_predRSt = modelKRS.predict(Xf_train)\n",
    "yfkh_predGSt = modelKGS.predict(Xf_train)"
   ]
  },
  {
   "cell_type": "code",
   "execution_count": 252,
   "metadata": {},
   "outputs": [
    {
     "name": "stdout",
     "output_type": "stream",
     "text": [
      "              precision    recall  f1-score   support\n",
      "\n",
      "           0       0.79      0.83      0.81       577\n",
      "           1       0.69      0.63      0.66       341\n",
      "\n",
      "    accuracy                           0.76       918\n",
      "   macro avg       0.74      0.73      0.74       918\n",
      "weighted avg       0.75      0.76      0.75       918\n",
      "\n"
     ]
    }
   ],
   "source": [
    "print(classification_report(yf_test, yfkh_predRS))"
   ]
  },
  {
   "cell_type": "code",
   "execution_count": 253,
   "metadata": {},
   "outputs": [
    {
     "name": "stdout",
     "output_type": "stream",
     "text": [
      "              precision    recall  f1-score   support\n",
      "\n",
      "           0       0.79      0.83      0.81       577\n",
      "           1       0.68      0.63      0.66       341\n",
      "\n",
      "    accuracy                           0.75       918\n",
      "   macro avg       0.74      0.73      0.73       918\n",
      "weighted avg       0.75      0.75      0.75       918\n",
      "\n"
     ]
    }
   ],
   "source": [
    "print(classification_report(yf_test, yfkh_predGS))"
   ]
  },
  {
   "cell_type": "code",
   "execution_count": 254,
   "metadata": {},
   "outputs": [
    {
     "data": {
      "text/html": [
       "<div>\n",
       "<style scoped>\n",
       "    .dataframe tbody tr th:only-of-type {\n",
       "        vertical-align: middle;\n",
       "    }\n",
       "\n",
       "    .dataframe tbody tr th {\n",
       "        vertical-align: top;\n",
       "    }\n",
       "\n",
       "    .dataframe thead th {\n",
       "        text-align: right;\n",
       "    }\n",
       "</style>\n",
       "<table border=\"1\" class=\"dataframe\">\n",
       "  <thead>\n",
       "    <tr style=\"text-align: right;\">\n",
       "      <th></th>\n",
       "      <th>Pred 1</th>\n",
       "      <th>Pred 0</th>\n",
       "    </tr>\n",
       "  </thead>\n",
       "  <tbody>\n",
       "    <tr>\n",
       "      <th>Act 1</th>\n",
       "      <td>216</td>\n",
       "      <td>125</td>\n",
       "    </tr>\n",
       "    <tr>\n",
       "      <th>Act 0</th>\n",
       "      <td>98</td>\n",
       "      <td>479</td>\n",
       "    </tr>\n",
       "  </tbody>\n",
       "</table>\n",
       "</div>"
      ],
      "text/plain": [
       "       Pred 1  Pred 0\n",
       "Act 1  216     125   \n",
       "Act 0  98      479   "
      ]
     },
     "execution_count": 254,
     "metadata": {},
     "output_type": "execute_result"
    }
   ],
   "source": [
    "cfkhRS = confusion_matrix(yf_test, yfkh_predRS, labels=[1, 0])\n",
    "cf_khRS = pd.DataFrame(cfkhRS,\n",
    "                 columns=['Pred 1', 'Pred 0'],\n",
    "                 index=['Act 1', 'Act 0'])\n",
    "cf_khRS"
   ]
  },
  {
   "cell_type": "code",
   "execution_count": 255,
   "metadata": {},
   "outputs": [
    {
     "data": {
      "text/html": [
       "<div>\n",
       "<style scoped>\n",
       "    .dataframe tbody tr th:only-of-type {\n",
       "        vertical-align: middle;\n",
       "    }\n",
       "\n",
       "    .dataframe tbody tr th {\n",
       "        vertical-align: top;\n",
       "    }\n",
       "\n",
       "    .dataframe thead th {\n",
       "        text-align: right;\n",
       "    }\n",
       "</style>\n",
       "<table border=\"1\" class=\"dataframe\">\n",
       "  <thead>\n",
       "    <tr style=\"text-align: right;\">\n",
       "      <th></th>\n",
       "      <th>Pred 1</th>\n",
       "      <th>Pred 0</th>\n",
       "    </tr>\n",
       "  </thead>\n",
       "  <tbody>\n",
       "    <tr>\n",
       "      <th>Act 1</th>\n",
       "      <td>216</td>\n",
       "      <td>125</td>\n",
       "    </tr>\n",
       "    <tr>\n",
       "      <th>Act 0</th>\n",
       "      <td>100</td>\n",
       "      <td>477</td>\n",
       "    </tr>\n",
       "  </tbody>\n",
       "</table>\n",
       "</div>"
      ],
      "text/plain": [
       "       Pred 1  Pred 0\n",
       "Act 1  216     125   \n",
       "Act 0  100     477   "
      ]
     },
     "execution_count": 255,
     "metadata": {},
     "output_type": "execute_result"
    }
   ],
   "source": [
    "cfkhGS = confusion_matrix(yf_test, yfkh_predGS, labels=[1, 0])\n",
    "cf_khGS = pd.DataFrame(cfkhGS,\n",
    "                 columns=['Pred 1', 'Pred 0'],\n",
    "                 index=['Act 1', 'Act 0'])\n",
    "cf_khGS"
   ]
  },
  {
   "cell_type": "code",
   "execution_count": 256,
   "metadata": {},
   "outputs": [],
   "source": [
    "roc_fkhRS = roc_auc_score(yf_test, yfkh_predRS)\n",
    "recall0_fkhRS = recall_score(yf_test, yfkh_predRS, pos_label=0)\n",
    "roc_fkhGS = roc_auc_score(yf_test, yfkh_predGS)\n",
    "recall0_fkhGS = recall_score(yf_test, yfkh_predGS, pos_label=0)\n",
    "FNfkh_RS = cf_khRS['Pred 0'].iloc[0]\n",
    "FPfkh_RS = cf_khRS['Pred 1'].iloc[1]\n",
    "FNfkh_GS = cf_khGS['Pred 0'].iloc[0]\n",
    "FPfkh_GS = cf_khGS['Pred 1'].iloc[1]"
   ]
  },
  {
   "cell_type": "markdown",
   "metadata": {},
   "source": [
    "# (16-17) Evaluation & Model Selection"
   ]
  },
  {
   "cell_type": "code",
   "execution_count": 257,
   "metadata": {},
   "outputs": [],
   "source": [
    "score = pd.DataFrame(\n",
    "    index=['roc_auc', 'recall_0', 'False Negatif','False Positif'], \n",
    "    columns=['b1','f1','b2','f2','b3','f3','bls','fls','blhRS','blhGS','flhRS','flhGS','bslhRS','bslhGS','fslhRS','fslhGS','bxhRS','bxhGS','fxhRS','fxhGS','bkhRS','bkhGS','fkhRS','fkhGS'],\n",
    "    data=[\n",
    "        [roc_b1,roc_f1,roc_b2,roc_f2,roc_b3,roc_f3,roc_bls,roc_fls,roc_blhRS,roc_blhGS,roc_flhRS,roc_flhGS,roc_bslhRS,roc_bslhGS,roc_fslhRS,roc_fslhGS,roc_bxhRS,roc_bxhGS,roc_fxhRS,roc_fxhGS,roc_bkhRS,roc_bkhGS,roc_fkhRS,roc_fkhGS],\n",
    "        [recall0_b1,recall0_f1,recall0_b2,recall0_f2,recall0_b3,recall0_f3,recall0_bls,recall0_fls,recall0_blhRS,recall0_blhGS,recall0_flhRS,recall0_flhGS,recall0_bslhRS,recall0_bslhGS,recall0_fslhRS,recall0_fslhGS,recall0_bxhRS,recall0_bxhGS,recall0_fxhRS,recall0_fxhGS,recall0_bkhRS,recall0_bkhGS,recall0_fkhRS,recall0_fkhGS],\n",
    "        [FNb1,FNf1,FNb2,FNf2,FNb3,FNf3,FNbls,FNfls,FNblh_RS,FNblh_GS,FNflh_RS,FNflh_GS,FNbslh_RS,FNbslh_GS,FNfslh_RS,FNfslh_GS,FNbxh_RS,FNbxh_GS,FNfxh_RS,FNfxh_GS,FNbkh_RS,FNbkh_GS,FNfkh_RS,FNfkh_GS],\n",
    "        [FPb1,FPf1,FPb2,FPf2,FPb3,FPf3,FPbls,FPfls,FPblh_RS,FPblh_GS,FPflh_RS,FPflh_GS,FPbslh_RS,FPbslh_GS,FPfslh_RS,FPfslh_GS,FPbxh_RS,FPbxh_GS,FPfxh_RS,FPfxh_GS,FPbkh_RS,FPbkh_GS,FPfkh_RS,FPfkh_GS]\n",
    "    ]).T"
   ]
  },
  {
   "cell_type": "code",
   "execution_count": 260,
   "metadata": {},
   "outputs": [
    {
     "data": {
      "text/html": [
       "<div>\n",
       "<style scoped>\n",
       "    .dataframe tbody tr th:only-of-type {\n",
       "        vertical-align: middle;\n",
       "    }\n",
       "\n",
       "    .dataframe tbody tr th {\n",
       "        vertical-align: top;\n",
       "    }\n",
       "\n",
       "    .dataframe thead th {\n",
       "        text-align: right;\n",
       "    }\n",
       "</style>\n",
       "<table border=\"1\" class=\"dataframe\">\n",
       "  <thead>\n",
       "    <tr style=\"text-align: right;\">\n",
       "      <th></th>\n",
       "      <th>roc_auc</th>\n",
       "      <th>recall_0</th>\n",
       "      <th>False Negatif</th>\n",
       "      <th>False Positif</th>\n",
       "    </tr>\n",
       "  </thead>\n",
       "  <tbody>\n",
       "    <tr>\n",
       "      <th>bkhRS</th>\n",
       "      <td>0.626</td>\n",
       "      <td>0.927</td>\n",
       "      <td>230.0</td>\n",
       "      <td>42.0</td>\n",
       "    </tr>\n",
       "    <tr>\n",
       "      <th>bkhGS</th>\n",
       "      <td>0.627</td>\n",
       "      <td>0.917</td>\n",
       "      <td>226.0</td>\n",
       "      <td>48.0</td>\n",
       "    </tr>\n",
       "    <tr>\n",
       "      <th>f2</th>\n",
       "      <td>0.747</td>\n",
       "      <td>0.842</td>\n",
       "      <td>119.0</td>\n",
       "      <td>91.0</td>\n",
       "    </tr>\n",
       "    <tr>\n",
       "      <th>b2</th>\n",
       "      <td>0.750</td>\n",
       "      <td>0.841</td>\n",
       "      <td>116.0</td>\n",
       "      <td>92.0</td>\n",
       "    </tr>\n",
       "    <tr>\n",
       "      <th>bxhGS</th>\n",
       "      <td>0.740</td>\n",
       "      <td>0.832</td>\n",
       "      <td>120.0</td>\n",
       "      <td>97.0</td>\n",
       "    </tr>\n",
       "    <tr>\n",
       "      <th>fkhRS</th>\n",
       "      <td>0.732</td>\n",
       "      <td>0.830</td>\n",
       "      <td>125.0</td>\n",
       "      <td>98.0</td>\n",
       "    </tr>\n",
       "    <tr>\n",
       "      <th>bslhRS</th>\n",
       "      <td>0.731</td>\n",
       "      <td>0.828</td>\n",
       "      <td>125.0</td>\n",
       "      <td>99.0</td>\n",
       "    </tr>\n",
       "    <tr>\n",
       "      <th>bslhGS</th>\n",
       "      <td>0.731</td>\n",
       "      <td>0.828</td>\n",
       "      <td>125.0</td>\n",
       "      <td>99.0</td>\n",
       "    </tr>\n",
       "    <tr>\n",
       "      <th>bls</th>\n",
       "      <td>0.731</td>\n",
       "      <td>0.828</td>\n",
       "      <td>125.0</td>\n",
       "      <td>99.0</td>\n",
       "    </tr>\n",
       "    <tr>\n",
       "      <th>fkhGS</th>\n",
       "      <td>0.730</td>\n",
       "      <td>0.827</td>\n",
       "      <td>125.0</td>\n",
       "      <td>100.0</td>\n",
       "    </tr>\n",
       "    <tr>\n",
       "      <th>fslhRS</th>\n",
       "      <td>0.742</td>\n",
       "      <td>0.818</td>\n",
       "      <td>114.0</td>\n",
       "      <td>105.0</td>\n",
       "    </tr>\n",
       "    <tr>\n",
       "      <th>fslhGS</th>\n",
       "      <td>0.742</td>\n",
       "      <td>0.818</td>\n",
       "      <td>114.0</td>\n",
       "      <td>105.0</td>\n",
       "    </tr>\n",
       "    <tr>\n",
       "      <th>fls</th>\n",
       "      <td>0.742</td>\n",
       "      <td>0.818</td>\n",
       "      <td>114.0</td>\n",
       "      <td>105.0</td>\n",
       "    </tr>\n",
       "    <tr>\n",
       "      <th>bxhRS</th>\n",
       "      <td>0.756</td>\n",
       "      <td>0.815</td>\n",
       "      <td>103.0</td>\n",
       "      <td>107.0</td>\n",
       "    </tr>\n",
       "    <tr>\n",
       "      <th>fxhRS</th>\n",
       "      <td>0.745</td>\n",
       "      <td>0.815</td>\n",
       "      <td>111.0</td>\n",
       "      <td>107.0</td>\n",
       "    </tr>\n",
       "    <tr>\n",
       "      <th>fxhGS</th>\n",
       "      <td>0.747</td>\n",
       "      <td>0.811</td>\n",
       "      <td>108.0</td>\n",
       "      <td>109.0</td>\n",
       "    </tr>\n",
       "    <tr>\n",
       "      <th>b1</th>\n",
       "      <td>0.710</td>\n",
       "      <td>0.804</td>\n",
       "      <td>131.0</td>\n",
       "      <td>113.0</td>\n",
       "    </tr>\n",
       "    <tr>\n",
       "      <th>blhGS</th>\n",
       "      <td>0.745</td>\n",
       "      <td>0.795</td>\n",
       "      <td>104.0</td>\n",
       "      <td>118.0</td>\n",
       "    </tr>\n",
       "    <tr>\n",
       "      <th>blhRS</th>\n",
       "      <td>0.745</td>\n",
       "      <td>0.795</td>\n",
       "      <td>104.0</td>\n",
       "      <td>118.0</td>\n",
       "    </tr>\n",
       "    <tr>\n",
       "      <th>f3</th>\n",
       "      <td>0.729</td>\n",
       "      <td>0.795</td>\n",
       "      <td>115.0</td>\n",
       "      <td>118.0</td>\n",
       "    </tr>\n",
       "    <tr>\n",
       "      <th>flhRS</th>\n",
       "      <td>0.745</td>\n",
       "      <td>0.789</td>\n",
       "      <td>102.0</td>\n",
       "      <td>122.0</td>\n",
       "    </tr>\n",
       "    <tr>\n",
       "      <th>flhGS</th>\n",
       "      <td>0.745</td>\n",
       "      <td>0.789</td>\n",
       "      <td>102.0</td>\n",
       "      <td>122.0</td>\n",
       "    </tr>\n",
       "    <tr>\n",
       "      <th>f1</th>\n",
       "      <td>0.745</td>\n",
       "      <td>0.789</td>\n",
       "      <td>102.0</td>\n",
       "      <td>122.0</td>\n",
       "    </tr>\n",
       "    <tr>\n",
       "      <th>b3</th>\n",
       "      <td>0.616</td>\n",
       "      <td>0.766</td>\n",
       "      <td>182.0</td>\n",
       "      <td>135.0</td>\n",
       "    </tr>\n",
       "  </tbody>\n",
       "</table>\n",
       "</div>"
      ],
      "text/plain": [
       "        roc_auc  recall_0  False Negatif  False Positif\n",
       "bkhRS   0.626    0.927     230.0          42.0         \n",
       "bkhGS   0.627    0.917     226.0          48.0         \n",
       "f2      0.747    0.842     119.0          91.0         \n",
       "b2      0.750    0.841     116.0          92.0         \n",
       "bxhGS   0.740    0.832     120.0          97.0         \n",
       "fkhRS   0.732    0.830     125.0          98.0         \n",
       "bslhRS  0.731    0.828     125.0          99.0         \n",
       "bslhGS  0.731    0.828     125.0          99.0         \n",
       "bls     0.731    0.828     125.0          99.0         \n",
       "fkhGS   0.730    0.827     125.0          100.0        \n",
       "fslhRS  0.742    0.818     114.0          105.0        \n",
       "fslhGS  0.742    0.818     114.0          105.0        \n",
       "fls     0.742    0.818     114.0          105.0        \n",
       "bxhRS   0.756    0.815     103.0          107.0        \n",
       "fxhRS   0.745    0.815     111.0          107.0        \n",
       "fxhGS   0.747    0.811     108.0          109.0        \n",
       "b1      0.710    0.804     131.0          113.0        \n",
       "blhGS   0.745    0.795     104.0          118.0        \n",
       "blhRS   0.745    0.795     104.0          118.0        \n",
       "f3      0.729    0.795     115.0          118.0        \n",
       "flhRS   0.745    0.789     102.0          122.0        \n",
       "flhGS   0.745    0.789     102.0          122.0        \n",
       "f1      0.745    0.789     102.0          122.0        \n",
       "b3      0.616    0.766     182.0          135.0        "
      ]
     },
     "execution_count": 260,
     "metadata": {},
     "output_type": "execute_result"
    }
   ],
   "source": [
    "round(score,3).sort_values(by='recall_0', ascending=False)"
   ]
  },
  {
   "cell_type": "markdown",
   "metadata": {},
   "source": [
    "- Berdasarkan tabel score di atas, 2 algoritma terbaik ialah KNN hyper (jika dilihat dari jumlah False Positif nya), dan XGBoost Classifier (jika dilihat roc_auc dan Jumlah Tebakan Salah nya). Memang berdasarkan False positif, model hyper knn dapat memperoleh false positif yang paling kecil, akan tetapi jumlah seluruh tebakan salah nya pun menjadi sangat besar (272 False), oleh karena itulah nilai roc_auc nya lebih kecil dibandingkan XGBoost. XGBoost memiliki nilai roc_auc yang bisa dibilang cukup lebih besar dibandingkan hyper knn, artinya model XGBoost sudah dapat memisahkan jawaban 0 dan 1 secara tepat sesuai aktualnya. Sehingga jumlah tebakan benar nya pun lebih besar."
   ]
  },
  {
   "cell_type": "markdown",
   "metadata": {},
   "source": [
    "#### Oleh karena itu, Model terpilih ialah XGBoost Base"
   ]
  },
  {
   "cell_type": "markdown",
   "metadata": {},
   "source": [
    "# (18-19) Export & Try Model"
   ]
  },
  {
   "cell_type": "code",
   "execution_count": 359,
   "metadata": {},
   "outputs": [],
   "source": [
    "modelbest = XGBClassifier()"
   ]
  },
  {
   "cell_type": "code",
   "execution_count": 360,
   "metadata": {},
   "outputs": [
    {
     "data": {
      "text/plain": [
       "XGBClassifier()"
      ]
     },
     "execution_count": 360,
     "metadata": {},
     "output_type": "execute_result"
    }
   ],
   "source": [
    "modelbest.fit(Xb_train, yb_train)"
   ]
  },
  {
   "cell_type": "code",
   "execution_count": 361,
   "metadata": {},
   "outputs": [
    {
     "name": "stdout",
     "output_type": "stream",
     "text": [
      "              precision    recall  f1-score   support\n",
      "\n",
      "           0       0.81      0.84      0.82       577\n",
      "           1       0.71      0.66      0.68       341\n",
      "\n",
      "    accuracy                           0.77       918\n",
      "   macro avg       0.76      0.75      0.75       918\n",
      "weighted avg       0.77      0.77      0.77       918\n",
      "\n"
     ]
    }
   ],
   "source": [
    "y_pred = modelbest.predict(Xb_test)\n",
    "print(classification_report(yb_test, y_pred))"
   ]
  },
  {
   "cell_type": "code",
   "execution_count": 362,
   "metadata": {},
   "outputs": [
    {
     "data": {
      "text/plain": [
       "['xgbase']"
      ]
     },
     "execution_count": 362,
     "metadata": {},
     "output_type": "execute_result"
    }
   ],
   "source": [
    "joblib.dump(model_b2,'xgbase')"
   ]
  },
  {
   "cell_type": "code",
   "execution_count": 363,
   "metadata": {},
   "outputs": [],
   "source": [
    "bestmodel = joblib.load('xgbase')"
   ]
  },
  {
   "cell_type": "code",
   "execution_count": 378,
   "metadata": {},
   "outputs": [
    {
     "data": {
      "text/html": [
       "<div>\n",
       "<style scoped>\n",
       "    .dataframe tbody tr th:only-of-type {\n",
       "        vertical-align: middle;\n",
       "    }\n",
       "\n",
       "    .dataframe tbody tr th {\n",
       "        vertical-align: top;\n",
       "    }\n",
       "\n",
       "    .dataframe thead th {\n",
       "        text-align: right;\n",
       "    }\n",
       "</style>\n",
       "<table border=\"1\" class=\"dataframe\">\n",
       "  <thead>\n",
       "    <tr style=\"text-align: right;\">\n",
       "      <th></th>\n",
       "      <th>price</th>\n",
       "      <th>num_lectures</th>\n",
       "      <th>content_duration</th>\n",
       "      <th>year_p</th>\n",
       "      <th>month_p</th>\n",
       "      <th>date_p</th>\n",
       "      <th>level_enc</th>\n",
       "      <th>is_paid_False</th>\n",
       "      <th>is_paid_True</th>\n",
       "      <th>business_subject</th>\n",
       "      <th>graphic_subject</th>\n",
       "      <th>music_subject</th>\n",
       "      <th>webdev_subject</th>\n",
       "    </tr>\n",
       "  </thead>\n",
       "  <tbody>\n",
       "    <tr>\n",
       "      <th>1114164</th>\n",
       "      <td>20.0</td>\n",
       "      <td>11.0</td>\n",
       "      <td>1.0</td>\n",
       "      <td>2017.0</td>\n",
       "      <td>2.0</td>\n",
       "      <td>20.0</td>\n",
       "      <td>0.0</td>\n",
       "      <td>0.0</td>\n",
       "      <td>1.0</td>\n",
       "      <td>0.0</td>\n",
       "      <td>1.0</td>\n",
       "      <td>0.0</td>\n",
       "      <td>0.0</td>\n",
       "    </tr>\n",
       "  </tbody>\n",
       "</table>\n",
       "</div>"
      ],
      "text/plain": [
       "         price  num_lectures  content_duration  year_p  month_p  date_p  \\\n",
       "1114164  20.0   11.0          1.0               2017.0  2.0      20.0     \n",
       "\n",
       "         level_enc  is_paid_False  is_paid_True  business_subject  \\\n",
       "1114164  0.0        0.0            1.0           0.0                \n",
       "\n",
       "         graphic_subject  music_subject  webdev_subject  \n",
       "1114164  1.0              0.0            0.0             "
      ]
     },
     "execution_count": 378,
     "metadata": {},
     "output_type": "execute_result"
    }
   ],
   "source": [
    "sample = pd.DataFrame([Xb_test.iloc[1]])\n",
    "sample"
   ]
  },
  {
   "cell_type": "code",
   "execution_count": 379,
   "metadata": {},
   "outputs": [],
   "source": [
    "predict_ = bestmodel.predict_proba(sample).tolist()"
   ]
  },
  {
   "cell_type": "code",
   "execution_count": 380,
   "metadata": {},
   "outputs": [
    {
     "data": {
      "text/plain": [
       "0.17553642392158508"
      ]
     },
     "execution_count": 380,
     "metadata": {},
     "output_type": "execute_result"
    }
   ],
   "source": [
    "hasil_predict = predict_[0][1]\n",
    "hasil_predict"
   ]
  },
  {
   "cell_type": "code",
   "execution_count": 381,
   "metadata": {},
   "outputs": [
    {
     "data": {
      "text/plain": [
       "0"
      ]
     },
     "execution_count": 381,
     "metadata": {},
     "output_type": "execute_result"
    }
   ],
   "source": [
    "yb_test.iloc[1]"
   ]
  },
  {
   "cell_type": "markdown",
   "metadata": {},
   "source": [
    "# Kesimpulan\n",
    "- Model ini dapat digunakan untuk memprediksi/mendeteksi sukses tidaknya suatu course yang akan dibuka oleh suatu MOOC dalam mendapatkan subscribers atau partisipan menggunakan algoritma XGBClassifier Base dengan **roc_auc 0.750**, **accuracy 77%**, dan **recall_0** serta **recall_1** berturut-turut yaitu **0.84** dan **0.66** \n",
    "- Variabel kuat yang menentukan dalam penentuan sukses tidaknya suatu course ialah, **Jumlah Review, Subject Course, Tipe Lisensi (Gratis/Berbayar), dan Level course**"
   ]
  },
  {
   "cell_type": "markdown",
   "metadata": {},
   "source": [
    "# Saran\n",
    "- Diperlukan penelitian lebih lanjut terkait batasan penentuan label sukses dan tidak sukses atas jumlah subscriber dalam pembuatan model.\n",
    "- Diperlukan pengembangan lebih lanjut terkait prediksi jumlah subscriber yang diperoleh agar dapat dilakukan perhitungan loss & profit untuk perusahaan"
   ]
  },
  {
   "cell_type": "markdown",
   "metadata": {},
   "source": [
    "# Referensi\n",
    "\n",
    "1. https://mediaindonesia.com/read/detail/321039-dampak-pandemi-kualitas-pendidikan-alami-penurunan\n",
    "2. https://suteki.co.id/7-dampak-positif-pandemi-covid-19-bagi-dunia-pendidikan/\n",
    "3. https://www.sonora.id/read/422146758/dampak-pandemi-covid-19-jumlah-siswa-bimbel-turun-signifikan?page=all"
   ]
  },
  {
   "cell_type": "markdown",
   "metadata": {},
   "source": [
    "------------------------------------------------------------------------------------------------------------------------------------------------------"
   ]
  },
  {
   "cell_type": "code",
   "execution_count": null,
   "metadata": {},
   "outputs": [],
   "source": []
  }
 ],
 "metadata": {
  "kernelspec": {
   "display_name": "Python 3",
   "language": "python",
   "name": "python3"
  },
  "language_info": {
   "codemirror_mode": {
    "name": "ipython",
    "version": 3
   },
   "file_extension": ".py",
   "mimetype": "text/x-python",
   "name": "python",
   "nbconvert_exporter": "python",
   "pygments_lexer": "ipython3",
   "version": "3.7.7"
  }
 },
 "nbformat": 4,
 "nbformat_minor": 4
}
