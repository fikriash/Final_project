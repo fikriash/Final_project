{
 "cells": [
  {
   "cell_type": "code",
   "execution_count": null,
   "metadata": {},
   "outputs": [],
   "source": []
  },
  {
   "cell_type": "markdown",
   "metadata": {},
   "source": [
    "## -------------------------------- *Udemy_Course (Online Course Business)* --------------------------------"
   ]
  },
  {
   "cell_type": "markdown",
   "metadata": {},
   "source": [
    "------------------------------------------------------------------------------------------------------------------------------------------------------"
   ]
  },
  {
   "cell_type": "markdown",
   "metadata": {},
   "source": [
    "# (1-2) Definition, Problems, and Goals"
   ]
  },
  {
   "cell_type": "markdown",
   "metadata": {},
   "source": [
    "------------------------------------------------------------------------------------------------------------------------------------------------------"
   ]
  },
  {
   "cell_type": "markdown",
   "metadata": {},
   "source": [
    "### Definition"
   ]
  },
  {
   "cell_type": "markdown",
   "metadata": {},
   "source": [
    "Machine Learning ini merupakan salah satu model untuk menentukan sukses tidak nya suatu course yang akan dibuka oleh suatu Lembaga Pendidikan atau dalam problem ini ialah MOOC, yang dapat digunakan oleh perusahaan atau lembaga tersebut sebagai bahan pertimbangan dalam me-*release* course baru."
   ]
  },
  {
   "cell_type": "markdown",
   "metadata": {},
   "source": [
    "### Problems & Goals"
   ]
  },
  {
   "cell_type": "markdown",
   "metadata": {},
   "source": [
    "2.1 Problems\n",
    "- Kualitas Pendidikan Menurun saat diterapkannya Sistem Pendidikan Jarak Jauh berbasis Teknologi (mediaindonesia.com)\n",
    "- Penurunan partisipan pada Lembaga-lembaga Bimbingan Belajar akibat Covid-19 (sonora.id)\n",
    "- Kesulitan dalam mencari pekerjaan akibat pandemi covid (kompasiana.com)\n",
    "- Kesulitan untuk mengetahui course apa yang paling dibutuhkan mereka-mereka yang sedang ingin improving skill (Briyando, Boby.2020)\n",
    "\n",
    "2.2 Goals\n",
    "- Membuat model yang dapat memprediksi/mendeteksi sukses tidaknya suatu course yang akan dibuka oleh suatu MOOC dalam mendapatkan subscribers atau partisipan\n",
    "- Mengetahui variabel apa saja yang dapat mempengaruhi sukses/tidaknya suatu course dalam mendapatkan subscribers atau partisipan\n",
    "\n",
    "2.3 Limitasi\n",
    "- Model dapat digunakan oleh seluruh perusahaan berbasis Platform Media Pembelajaran Online / MOOC / Bimbel dan perusahaan sejenis lainnya.\n",
    "- Model hanya dapat memprediksi persentase sukses atau tidaknya course yang akan dibuka.\n"
   ]
  },
  {
   "cell_type": "markdown",
   "metadata": {},
   "source": [
    "# Import Package"
   ]
  },
  {
   "cell_type": "code",
   "execution_count": 1,
   "metadata": {},
   "outputs": [],
   "source": [
    "import pandas as pd\n",
    "import numpy as np\n",
    "import seaborn as sns\n",
    "import matplotlib.pyplot as plt\n",
    "import pickle\n",
    "import joblib\n",
    "import statsmodels.api as sm\n",
    "import warnings\n",
    "warnings.filterwarnings('ignore')\n",
    "pd.options.display.max_columns=999\n",
    "pd.set_option('display.max_colwidth', -1)\n",
    "\n",
    "%matplotlib inline"
   ]
  },
  {
   "cell_type": "markdown",
   "metadata": {},
   "source": [
    "------------------------------------------------------------------------------------------------------------------------------------------------------"
   ]
  },
  {
   "cell_type": "markdown",
   "metadata": {},
   "source": [
    "# (3) Import Data"
   ]
  },
  {
   "cell_type": "markdown",
   "metadata": {},
   "source": [
    "------------------------------------------------------------------------------------------------------------------------------------------------------"
   ]
  },
  {
   "cell_type": "code",
   "execution_count": 2,
   "metadata": {},
   "outputs": [],
   "source": [
    "df = pd.read_csv('udemy.csv', parse_dates=['published_timestamp'])\n",
    "df1 = df.copy()\n",
    "df1['content_duration'] = round(df1['content_duration'],2)"
   ]
  },
  {
   "cell_type": "code",
   "execution_count": 3,
   "metadata": {},
   "outputs": [
    {
     "data": {
      "text/html": [
       "<div>\n",
       "<style scoped>\n",
       "    .dataframe tbody tr th:only-of-type {\n",
       "        vertical-align: middle;\n",
       "    }\n",
       "\n",
       "    .dataframe tbody tr th {\n",
       "        vertical-align: top;\n",
       "    }\n",
       "\n",
       "    .dataframe thead th {\n",
       "        text-align: right;\n",
       "    }\n",
       "</style>\n",
       "<table border=\"1\" class=\"dataframe\">\n",
       "  <thead>\n",
       "    <tr style=\"text-align: right;\">\n",
       "      <th></th>\n",
       "      <th>course_id</th>\n",
       "      <th>course_title</th>\n",
       "      <th>url</th>\n",
       "      <th>is_paid</th>\n",
       "      <th>price</th>\n",
       "      <th>num_subscribers</th>\n",
       "      <th>num_reviews</th>\n",
       "      <th>num_lectures</th>\n",
       "      <th>level</th>\n",
       "      <th>content_duration</th>\n",
       "      <th>published_timestamp</th>\n",
       "      <th>subject</th>\n",
       "    </tr>\n",
       "  </thead>\n",
       "  <tbody>\n",
       "    <tr>\n",
       "      <th>0</th>\n",
       "      <td>1070968</td>\n",
       "      <td>Ultimate Investment Banking Course</td>\n",
       "      <td>https://www.udemy.com/ultimate-investment-banking-course/</td>\n",
       "      <td>True</td>\n",
       "      <td>200</td>\n",
       "      <td>2147</td>\n",
       "      <td>23</td>\n",
       "      <td>51</td>\n",
       "      <td>All Levels</td>\n",
       "      <td>1.5</td>\n",
       "      <td>2017-01-18 20:58:58+00:00</td>\n",
       "      <td>Business Finance</td>\n",
       "    </tr>\n",
       "    <tr>\n",
       "      <th>1</th>\n",
       "      <td>1113822</td>\n",
       "      <td>Complete GST Course &amp; Certification - Grow Your CA Practice</td>\n",
       "      <td>https://www.udemy.com/goods-and-services-tax/</td>\n",
       "      <td>True</td>\n",
       "      <td>75</td>\n",
       "      <td>2792</td>\n",
       "      <td>923</td>\n",
       "      <td>274</td>\n",
       "      <td>All Levels</td>\n",
       "      <td>39.0</td>\n",
       "      <td>2017-03-09 16:34:20+00:00</td>\n",
       "      <td>Business Finance</td>\n",
       "    </tr>\n",
       "    <tr>\n",
       "      <th>2</th>\n",
       "      <td>1006314</td>\n",
       "      <td>Financial Modeling for Business Analysts and Consultants</td>\n",
       "      <td>https://www.udemy.com/financial-modeling-for-business-analysts-and-consultants/</td>\n",
       "      <td>True</td>\n",
       "      <td>45</td>\n",
       "      <td>2174</td>\n",
       "      <td>74</td>\n",
       "      <td>51</td>\n",
       "      <td>Intermediate Level</td>\n",
       "      <td>2.5</td>\n",
       "      <td>2016-12-19 19:26:30+00:00</td>\n",
       "      <td>Business Finance</td>\n",
       "    </tr>\n",
       "    <tr>\n",
       "      <th>3</th>\n",
       "      <td>1210588</td>\n",
       "      <td>Beginner to Pro - Financial Analysis in Excel 2017</td>\n",
       "      <td>https://www.udemy.com/complete-excel-finance-course-from-beginner-to-pro/</td>\n",
       "      <td>True</td>\n",
       "      <td>95</td>\n",
       "      <td>2451</td>\n",
       "      <td>11</td>\n",
       "      <td>36</td>\n",
       "      <td>All Levels</td>\n",
       "      <td>3.0</td>\n",
       "      <td>2017-05-30 20:07:24+00:00</td>\n",
       "      <td>Business Finance</td>\n",
       "    </tr>\n",
       "    <tr>\n",
       "      <th>4</th>\n",
       "      <td>1011058</td>\n",
       "      <td>How To Maximize Your Profits Trading Options</td>\n",
       "      <td>https://www.udemy.com/how-to-maximize-your-profits-trading-options/</td>\n",
       "      <td>True</td>\n",
       "      <td>200</td>\n",
       "      <td>1276</td>\n",
       "      <td>45</td>\n",
       "      <td>26</td>\n",
       "      <td>Intermediate Level</td>\n",
       "      <td>2.0</td>\n",
       "      <td>2016-12-13 14:57:18+00:00</td>\n",
       "      <td>Business Finance</td>\n",
       "    </tr>\n",
       "  </tbody>\n",
       "</table>\n",
       "</div>"
      ],
      "text/plain": [
       "   course_id                                                 course_title  \\\n",
       "0  1070968    Ultimate Investment Banking Course                            \n",
       "1  1113822    Complete GST Course & Certification - Grow Your CA Practice   \n",
       "2  1006314    Financial Modeling for Business Analysts and Consultants      \n",
       "3  1210588    Beginner to Pro - Financial Analysis in Excel 2017            \n",
       "4  1011058    How To Maximize Your Profits Trading Options                  \n",
       "\n",
       "                                                                               url  \\\n",
       "0  https://www.udemy.com/ultimate-investment-banking-course/                         \n",
       "1  https://www.udemy.com/goods-and-services-tax/                                     \n",
       "2  https://www.udemy.com/financial-modeling-for-business-analysts-and-consultants/   \n",
       "3  https://www.udemy.com/complete-excel-finance-course-from-beginner-to-pro/         \n",
       "4  https://www.udemy.com/how-to-maximize-your-profits-trading-options/               \n",
       "\n",
       "   is_paid  price  num_subscribers  num_reviews  num_lectures  \\\n",
       "0  True     200    2147             23           51             \n",
       "1  True     75     2792             923          274            \n",
       "2  True     45     2174             74           51             \n",
       "3  True     95     2451             11           36             \n",
       "4  True     200    1276             45           26             \n",
       "\n",
       "                level  content_duration       published_timestamp  \\\n",
       "0  All Levels          1.5              2017-01-18 20:58:58+00:00   \n",
       "1  All Levels          39.0             2017-03-09 16:34:20+00:00   \n",
       "2  Intermediate Level  2.5              2016-12-19 19:26:30+00:00   \n",
       "3  All Levels          3.0              2017-05-30 20:07:24+00:00   \n",
       "4  Intermediate Level  2.0              2016-12-13 14:57:18+00:00   \n",
       "\n",
       "            subject  \n",
       "0  Business Finance  \n",
       "1  Business Finance  \n",
       "2  Business Finance  \n",
       "3  Business Finance  \n",
       "4  Business Finance  "
      ]
     },
     "execution_count": 3,
     "metadata": {},
     "output_type": "execute_result"
    }
   ],
   "source": [
    "df1.head()"
   ]
  },
  {
   "cell_type": "markdown",
   "metadata": {},
   "source": [
    "------------------------------------------------------------------------------------------------------------------------------------------------------"
   ]
  },
  {
   "cell_type": "markdown",
   "metadata": {},
   "source": [
    "# (4) Cek Missing Value"
   ]
  },
  {
   "cell_type": "markdown",
   "metadata": {},
   "source": [
    "------------------------------------------------------------------------------------------------------------------------------------------------------"
   ]
  },
  {
   "cell_type": "code",
   "execution_count": 4,
   "metadata": {},
   "outputs": [
    {
     "data": {
      "text/plain": [
       "course_id              0\n",
       "course_title           0\n",
       "url                    0\n",
       "is_paid                0\n",
       "price                  0\n",
       "num_subscribers        0\n",
       "num_reviews            0\n",
       "num_lectures           0\n",
       "level                  0\n",
       "content_duration       0\n",
       "published_timestamp    0\n",
       "subject                0\n",
       "dtype: int64"
      ]
     },
     "execution_count": 4,
     "metadata": {},
     "output_type": "execute_result"
    }
   ],
   "source": [
    "df1.isna().sum()"
   ]
  },
  {
   "cell_type": "code",
   "execution_count": 5,
   "metadata": {},
   "outputs": [
    {
     "data": {
      "image/png": "[encoded data removed]",
      "text/plain": [
       "<Figure size 576x432 with 1 Axes>"
      ]
     },
     "metadata": {
      "needs_background": "light"
     },
     "output_type": "display_data"
    }
   ],
   "source": [
    "plt.figure(figsize=(8,6))\n",
    "sns.heatmap(df1.isna(), cmap='viridis', yticklabels=False, cbar=False)\n",
    "plt.show()"
   ]
  },
  {
   "cell_type": "markdown",
   "metadata": {},
   "source": [
    "- **Tidak terdapat null, sehingga Handling Missing Value tidak perlu dilakukan**"
   ]
  },
  {
   "cell_type": "markdown",
   "metadata": {},
   "source": [
    "------------------------------------------------------------------------------------------------------------------------------------------------------"
   ]
  },
  {
   "cell_type": "markdown",
   "metadata": {},
   "source": [
    "# (5) Describe Data"
   ]
  },
  {
   "cell_type": "markdown",
   "metadata": {},
   "source": [
    "------------------------------------------------------------------------------------------------------------------------------------------------------"
   ]
  },
  {
   "cell_type": "code",
   "execution_count": 6,
   "metadata": {},
   "outputs": [
    {
     "name": "stdout",
     "output_type": "stream",
     "text": [
      "<class 'pandas.core.frame.DataFrame'>\n",
      "RangeIndex: 3678 entries, 0 to 3677\n",
      "Data columns (total 12 columns):\n",
      " #   Column               Non-Null Count  Dtype              \n",
      "---  ------               --------------  -----              \n",
      " 0   course_id            3678 non-null   int64              \n",
      " 1   course_title         3678 non-null   object             \n",
      " 2   url                  3678 non-null   object             \n",
      " 3   is_paid              3678 non-null   bool               \n",
      " 4   price                3678 non-null   int64              \n",
      " 5   num_subscribers      3678 non-null   int64              \n",
      " 6   num_reviews          3678 non-null   int64              \n",
      " 7   num_lectures         3678 non-null   int64              \n",
      " 8   level                3678 non-null   object             \n",
      " 9   content_duration     3678 non-null   float64            \n",
      " 10  published_timestamp  3678 non-null   datetime64[ns, UTC]\n",
      " 11  subject              3678 non-null   object             \n",
      "dtypes: bool(1), datetime64[ns, UTC](1), float64(1), int64(5), object(4)\n",
      "memory usage: 319.8+ KB\n"
     ]
    }
   ],
   "source": [
    "df1.info()"
   ]
  },
  {
   "cell_type": "code",
   "execution_count": 7,
   "metadata": {},
   "outputs": [
    {
     "data": {
      "text/plain": [
       "Index(['course_id', 'course_title', 'url', 'is_paid', 'price',\n",
       "       'num_subscribers', 'num_reviews', 'num_lectures', 'level',\n",
       "       'content_duration', 'published_timestamp', 'subject'],\n",
       "      dtype='object')"
      ]
     },
     "execution_count": 7,
     "metadata": {},
     "output_type": "execute_result"
    }
   ],
   "source": [
    "df1.columns"
   ]
  },
  {
   "cell_type": "markdown",
   "metadata": {},
   "source": [
    "### Variabel\n",
    "\n",
    "- course_id: ID setiap jenis course\n",
    "- course_title: Nama Course\n",
    "- url: url dari course_title\n",
    "- is paid: Tipe Course (Gratis / Berbayar)\n",
    "- price: Harga course (dalam satuan USD)\n",
    "- num_subscriber: Jumlah subscriber atau student\n",
    "- num_reviews: Jumlah subscriber atau partisipan yang memberikan review\n",
    "- num_lectures: Jumlah instruktur\n",
    "- level: Level course \n",
    "- content_duration: Durasi konten dari satu course nya (dalam satuan hours)\n",
    "- published_timestamp: Keterangan waktu perilisan course\n",
    "- subject: Kategori course"
   ]
  },
  {
   "cell_type": "markdown",
   "metadata": {},
   "source": [
    "Berdasarkan kolom-kolom di atas, belum terdapatnya kolom target (sukses/tidak). Oleh karena itu, kolom target Sukses/Tidak Sukses akan di buat di tahap Feature Engineering berdasarkan Jumlah Subscriber. "
   ]
  },
  {
   "cell_type": "code",
   "execution_count": 8,
   "metadata": {},
   "outputs": [
    {
     "data": {
      "text/plain": [
       "array(['Business Finance', 'Graphic Design', 'Musical Instruments',\n",
       "       'Web Development'], dtype=object)"
      ]
     },
     "execution_count": 8,
     "metadata": {},
     "output_type": "execute_result"
    }
   ],
   "source": [
    "df1.subject.unique()"
   ]
  },
  {
   "cell_type": "code",
   "execution_count": 9,
   "metadata": {},
   "outputs": [
    {
     "data": {
      "text/plain": [
       "array(['All Levels', 'Intermediate Level', 'Beginner Level',\n",
       "       'Expert Level'], dtype=object)"
      ]
     },
     "execution_count": 9,
     "metadata": {},
     "output_type": "execute_result"
    }
   ],
   "source": [
    "df1.level.unique()"
   ]
  },
  {
   "cell_type": "code",
   "execution_count": 10,
   "metadata": {},
   "outputs": [
    {
     "data": {
      "text/html": [
       "<div>\n",
       "<style scoped>\n",
       "    .dataframe tbody tr th:only-of-type {\n",
       "        vertical-align: middle;\n",
       "    }\n",
       "\n",
       "    .dataframe tbody tr th {\n",
       "        vertical-align: top;\n",
       "    }\n",
       "\n",
       "    .dataframe thead th {\n",
       "        text-align: right;\n",
       "    }\n",
       "</style>\n",
       "<table border=\"1\" class=\"dataframe\">\n",
       "  <thead>\n",
       "    <tr style=\"text-align: right;\">\n",
       "      <th></th>\n",
       "      <th>count</th>\n",
       "      <th>mean</th>\n",
       "      <th>std</th>\n",
       "      <th>min</th>\n",
       "      <th>25%</th>\n",
       "      <th>50%</th>\n",
       "      <th>75%</th>\n",
       "      <th>max</th>\n",
       "    </tr>\n",
       "  </thead>\n",
       "  <tbody>\n",
       "    <tr>\n",
       "      <th>course_id</th>\n",
       "      <td>3678.0</td>\n",
       "      <td>675971.963295</td>\n",
       "      <td>343273.156040</td>\n",
       "      <td>8324.0</td>\n",
       "      <td>407692.5</td>\n",
       "      <td>687917.0</td>\n",
       "      <td>961355.50</td>\n",
       "      <td>1282064.0</td>\n",
       "    </tr>\n",
       "    <tr>\n",
       "      <th>price</th>\n",
       "      <td>3678.0</td>\n",
       "      <td>66.049483</td>\n",
       "      <td>61.005755</td>\n",
       "      <td>0.0</td>\n",
       "      <td>20.0</td>\n",
       "      <td>45.0</td>\n",
       "      <td>95.00</td>\n",
       "      <td>200.0</td>\n",
       "    </tr>\n",
       "    <tr>\n",
       "      <th>num_subscribers</th>\n",
       "      <td>3678.0</td>\n",
       "      <td>3197.150625</td>\n",
       "      <td>9504.117010</td>\n",
       "      <td>0.0</td>\n",
       "      <td>111.0</td>\n",
       "      <td>911.5</td>\n",
       "      <td>2546.00</td>\n",
       "      <td>268923.0</td>\n",
       "    </tr>\n",
       "    <tr>\n",
       "      <th>num_reviews</th>\n",
       "      <td>3678.0</td>\n",
       "      <td>156.259108</td>\n",
       "      <td>935.452044</td>\n",
       "      <td>0.0</td>\n",
       "      <td>4.0</td>\n",
       "      <td>18.0</td>\n",
       "      <td>67.00</td>\n",
       "      <td>27445.0</td>\n",
       "    </tr>\n",
       "    <tr>\n",
       "      <th>num_lectures</th>\n",
       "      <td>3678.0</td>\n",
       "      <td>40.108755</td>\n",
       "      <td>50.383346</td>\n",
       "      <td>0.0</td>\n",
       "      <td>15.0</td>\n",
       "      <td>25.0</td>\n",
       "      <td>45.75</td>\n",
       "      <td>779.0</td>\n",
       "    </tr>\n",
       "    <tr>\n",
       "      <th>content_duration</th>\n",
       "      <td>3678.0</td>\n",
       "      <td>4.094527</td>\n",
       "      <td>6.053835</td>\n",
       "      <td>0.0</td>\n",
       "      <td>1.0</td>\n",
       "      <td>2.0</td>\n",
       "      <td>4.50</td>\n",
       "      <td>78.5</td>\n",
       "    </tr>\n",
       "  </tbody>\n",
       "</table>\n",
       "</div>"
      ],
      "text/plain": [
       "                   count           mean            std     min       25%  \\\n",
       "course_id         3678.0  675971.963295  343273.156040  8324.0  407692.5   \n",
       "price             3678.0  66.049483      61.005755      0.0     20.0       \n",
       "num_subscribers   3678.0  3197.150625    9504.117010    0.0     111.0      \n",
       "num_reviews       3678.0  156.259108     935.452044     0.0     4.0        \n",
       "num_lectures      3678.0  40.108755      50.383346      0.0     15.0       \n",
       "content_duration  3678.0  4.094527       6.053835       0.0     1.0        \n",
       "\n",
       "                       50%        75%        max  \n",
       "course_id         687917.0  961355.50  1282064.0  \n",
       "price             45.0      95.00      200.0      \n",
       "num_subscribers   911.5     2546.00    268923.0   \n",
       "num_reviews       18.0      67.00      27445.0    \n",
       "num_lectures      25.0      45.75      779.0      \n",
       "content_duration  2.0       4.50       78.5       "
      ]
     },
     "execution_count": 10,
     "metadata": {},
     "output_type": "execute_result"
    }
   ],
   "source": [
    "tab_desc1 = df1.describe().T\n",
    "tab_desc1"
   ]
  },
  {
   "cell_type": "code",
   "execution_count": 11,
   "metadata": {},
   "outputs": [
    {
     "data": {
      "text/plain": [
       "3.0"
      ]
     },
     "execution_count": 11,
     "metadata": {},
     "output_type": "execute_result"
    }
   ],
   "source": [
    "z = [1,2,3,4,5,6,7,8,8]\n",
    "np.quantile(z, 0.25)"
   ]
  },
  {
   "cell_type": "code",
   "execution_count": 12,
   "metadata": {},
   "outputs": [
    {
     "data": {
      "text/html": [
       "<div>\n",
       "<style scoped>\n",
       "    .dataframe tbody tr th:only-of-type {\n",
       "        vertical-align: middle;\n",
       "    }\n",
       "\n",
       "    .dataframe tbody tr th {\n",
       "        vertical-align: top;\n",
       "    }\n",
       "\n",
       "    .dataframe thead th {\n",
       "        text-align: right;\n",
       "    }\n",
       "</style>\n",
       "<table border=\"1\" class=\"dataframe\">\n",
       "  <thead>\n",
       "    <tr style=\"text-align: right;\">\n",
       "      <th></th>\n",
       "      <th>count</th>\n",
       "      <th>unique</th>\n",
       "      <th>top</th>\n",
       "      <th>freq</th>\n",
       "    </tr>\n",
       "  </thead>\n",
       "  <tbody>\n",
       "    <tr>\n",
       "      <th>course_title</th>\n",
       "      <td>3678</td>\n",
       "      <td>3663</td>\n",
       "      <td>Creating an animated greeting card via Google Slides</td>\n",
       "      <td>3</td>\n",
       "    </tr>\n",
       "    <tr>\n",
       "      <th>url</th>\n",
       "      <td>3678</td>\n",
       "      <td>3672</td>\n",
       "      <td>https://www.udemy.com/cfa-level-2-quantitative-methods/</td>\n",
       "      <td>2</td>\n",
       "    </tr>\n",
       "    <tr>\n",
       "      <th>level</th>\n",
       "      <td>3678</td>\n",
       "      <td>4</td>\n",
       "      <td>All Levels</td>\n",
       "      <td>1929</td>\n",
       "    </tr>\n",
       "    <tr>\n",
       "      <th>subject</th>\n",
       "      <td>3678</td>\n",
       "      <td>4</td>\n",
       "      <td>Web Development</td>\n",
       "      <td>1200</td>\n",
       "    </tr>\n",
       "  </tbody>\n",
       "</table>\n",
       "</div>"
      ],
      "text/plain": [
       "             count unique  \\\n",
       "course_title  3678  3663    \n",
       "url           3678  3672    \n",
       "level         3678  4       \n",
       "subject       3678  4       \n",
       "\n",
       "                                                                  top  freq  \n",
       "course_title  Creating an animated greeting card via Google Slides     3     \n",
       "url           https://www.udemy.com/cfa-level-2-quantitative-methods/  2     \n",
       "level         All Levels                                               1929  \n",
       "subject       Web Development                                          1200  "
      ]
     },
     "execution_count": 12,
     "metadata": {},
     "output_type": "execute_result"
    }
   ],
   "source": [
    "tab_desc2 = df1.describe(include='O').T\n",
    "tab_desc2"
   ]
  },
  {
   "cell_type": "code",
   "execution_count": 13,
   "metadata": {},
   "outputs": [],
   "source": [
    "dfDesc = []\n",
    "for i in df1.columns:\n",
    "    dfDesc.append([\n",
    "        i,\n",
    "        df1[i].dtypes,\n",
    "        df1[i].isna().sum(),\n",
    "        round((df1[i].isna().sum()/len(df1)*100),2),\n",
    "        df1[i].nunique(),\n",
    "        df1[i].drop_duplicates().sample(2).values\n",
    "    ])"
   ]
  },
  {
   "cell_type": "code",
   "execution_count": 14,
   "metadata": {},
   "outputs": [
    {
     "data": {
      "text/html": [
       "<div>\n",
       "<style scoped>\n",
       "    .dataframe tbody tr th:only-of-type {\n",
       "        vertical-align: middle;\n",
       "    }\n",
       "\n",
       "    .dataframe tbody tr th {\n",
       "        vertical-align: top;\n",
       "    }\n",
       "\n",
       "    .dataframe thead th {\n",
       "        text-align: right;\n",
       "    }\n",
       "</style>\n",
       "<table border=\"1\" class=\"dataframe\">\n",
       "  <thead>\n",
       "    <tr style=\"text-align: right;\">\n",
       "      <th></th>\n",
       "      <th>Feature</th>\n",
       "      <th>dtypes</th>\n",
       "      <th>null</th>\n",
       "      <th>null%</th>\n",
       "      <th>nunique</th>\n",
       "      <th>sample</th>\n",
       "    </tr>\n",
       "  </thead>\n",
       "  <tbody>\n",
       "    <tr>\n",
       "      <th>0</th>\n",
       "      <td>course_id</td>\n",
       "      <td>int64</td>\n",
       "      <td>0</td>\n",
       "      <td>0.0</td>\n",
       "      <td>3672</td>\n",
       "      <td>[420926, 179978]</td>\n",
       "    </tr>\n",
       "    <tr>\n",
       "      <th>1</th>\n",
       "      <td>course_title</td>\n",
       "      <td>object</td>\n",
       "      <td>0</td>\n",
       "      <td>0.0</td>\n",
       "      <td>3663</td>\n",
       "      <td>[How to start a successful career in finance?, Master ASP . NET 4 from scratch]</td>\n",
       "    </tr>\n",
       "    <tr>\n",
       "      <th>2</th>\n",
       "      <td>url</td>\n",
       "      <td>object</td>\n",
       "      <td>0</td>\n",
       "      <td>0.0</td>\n",
       "      <td>3672</td>\n",
       "      <td>[https://www.udemy.com/how-to-create-your-own-steampunk-vehicle-part-1/, https://www.udemy.com/how-to-learn-ruby-on-rails/]</td>\n",
       "    </tr>\n",
       "    <tr>\n",
       "      <th>3</th>\n",
       "      <td>is_paid</td>\n",
       "      <td>bool</td>\n",
       "      <td>0</td>\n",
       "      <td>0.0</td>\n",
       "      <td>2</td>\n",
       "      <td>[True, False]</td>\n",
       "    </tr>\n",
       "    <tr>\n",
       "      <th>4</th>\n",
       "      <td>price</td>\n",
       "      <td>int64</td>\n",
       "      <td>0</td>\n",
       "      <td>0.0</td>\n",
       "      <td>38</td>\n",
       "      <td>[70, 60]</td>\n",
       "    </tr>\n",
       "    <tr>\n",
       "      <th>5</th>\n",
       "      <td>num_subscribers</td>\n",
       "      <td>int64</td>\n",
       "      <td>0</td>\n",
       "      <td>0.0</td>\n",
       "      <td>2197</td>\n",
       "      <td>[1284, 12458]</td>\n",
       "    </tr>\n",
       "    <tr>\n",
       "      <th>6</th>\n",
       "      <td>num_reviews</td>\n",
       "      <td>int64</td>\n",
       "      <td>0</td>\n",
       "      <td>0.0</td>\n",
       "      <td>511</td>\n",
       "      <td>[1236, 17]</td>\n",
       "    </tr>\n",
       "    <tr>\n",
       "      <th>7</th>\n",
       "      <td>num_lectures</td>\n",
       "      <td>int64</td>\n",
       "      <td>0</td>\n",
       "      <td>0.0</td>\n",
       "      <td>229</td>\n",
       "      <td>[68, 15]</td>\n",
       "    </tr>\n",
       "    <tr>\n",
       "      <th>8</th>\n",
       "      <td>level</td>\n",
       "      <td>object</td>\n",
       "      <td>0</td>\n",
       "      <td>0.0</td>\n",
       "      <td>4</td>\n",
       "      <td>[Expert Level, All Levels]</td>\n",
       "    </tr>\n",
       "    <tr>\n",
       "      <th>9</th>\n",
       "      <td>content_duration</td>\n",
       "      <td>float64</td>\n",
       "      <td>0</td>\n",
       "      <td>0.0</td>\n",
       "      <td>105</td>\n",
       "      <td>[0.53, 46.5]</td>\n",
       "    </tr>\n",
       "    <tr>\n",
       "      <th>10</th>\n",
       "      <td>published_timestamp</td>\n",
       "      <td>datetime64[ns, UTC]</td>\n",
       "      <td>0</td>\n",
       "      <td>0.0</td>\n",
       "      <td>3672</td>\n",
       "      <td>[2016-10-03T16:42:12.000000000, 2017-06-19T21:42:44.000000000]</td>\n",
       "    </tr>\n",
       "    <tr>\n",
       "      <th>11</th>\n",
       "      <td>subject</td>\n",
       "      <td>object</td>\n",
       "      <td>0</td>\n",
       "      <td>0.0</td>\n",
       "      <td>4</td>\n",
       "      <td>[Graphic Design, Business Finance]</td>\n",
       "    </tr>\n",
       "  </tbody>\n",
       "</table>\n",
       "</div>"
      ],
      "text/plain": [
       "                Feature               dtypes  null  null%  nunique  \\\n",
       "0   course_id            int64                0     0.0    3672      \n",
       "1   course_title         object               0     0.0    3663      \n",
       "2   url                  object               0     0.0    3672      \n",
       "3   is_paid              bool                 0     0.0    2         \n",
       "4   price                int64                0     0.0    38        \n",
       "5   num_subscribers      int64                0     0.0    2197      \n",
       "6   num_reviews          int64                0     0.0    511       \n",
       "7   num_lectures         int64                0     0.0    229       \n",
       "8   level                object               0     0.0    4         \n",
       "9   content_duration     float64              0     0.0    105       \n",
       "10  published_timestamp  datetime64[ns, UTC]  0     0.0    3672      \n",
       "11  subject              object               0     0.0    4         \n",
       "\n",
       "                                                                                                                         sample  \n",
       "0   [420926, 179978]                                                                                                             \n",
       "1   [How to start a successful career in finance?, Master ASP . NET 4 from scratch]                                              \n",
       "2   [https://www.udemy.com/how-to-create-your-own-steampunk-vehicle-part-1/, https://www.udemy.com/how-to-learn-ruby-on-rails/]  \n",
       "3   [True, False]                                                                                                                \n",
       "4   [70, 60]                                                                                                                     \n",
       "5   [1284, 12458]                                                                                                                \n",
       "6   [1236, 17]                                                                                                                   \n",
       "7   [68, 15]                                                                                                                     \n",
       "8   [Expert Level, All Levels]                                                                                                   \n",
       "9   [0.53, 46.5]                                                                                                                 \n",
       "10  [2016-10-03T16:42:12.000000000, 2017-06-19T21:42:44.000000000]                                                               \n",
       "11  [Graphic Design, Business Finance]                                                                                           "
      ]
     },
     "execution_count": 14,
     "metadata": {},
     "output_type": "execute_result"
    }
   ],
   "source": [
    "tab_desc3 = pd.DataFrame(dfDesc, columns=['Feature','dtypes','null','null%','nunique','sample'])\n",
    "tab_desc3"
   ]
  },
  {
   "cell_type": "markdown",
   "metadata": {},
   "source": [
    "- Course ID dan Course title tidak sama jumlah nunique nya. Kemungkinan ada satu course title memiliki lebih dari 1 course_id\n",
    "- Selain itu, jumlah data ialah 3678, sedangkan course_id dan url hanya 3672. **Ada sejumlah data memiliki course_id yang sama (terduplikasi)**"
   ]
  },
  {
   "cell_type": "code",
   "execution_count": 15,
   "metadata": {},
   "outputs": [
    {
     "data": {
      "text/plain": [
       "Creating an animated greeting card via Google Slides            3\n",
       "Acoustic Blues Guitar Lessons                                   3\n",
       "Understanding Financial Statements                              2\n",
       "How to Make a Wordpress Website 2017                            2\n",
       "The Complete Web Developer Masterclass: Beginner To Advanced    2\n",
       "Name: course_title, dtype: int64"
      ]
     },
     "execution_count": 15,
     "metadata": {},
     "output_type": "execute_result"
    }
   ],
   "source": [
    "df1.course_title.value_counts().head()"
   ]
  },
  {
   "cell_type": "code",
   "execution_count": 16,
   "metadata": {},
   "outputs": [
    {
     "data": {
      "text/html": [
       "<div>\n",
       "<style scoped>\n",
       "    .dataframe tbody tr th:only-of-type {\n",
       "        vertical-align: middle;\n",
       "    }\n",
       "\n",
       "    .dataframe tbody tr th {\n",
       "        vertical-align: top;\n",
       "    }\n",
       "\n",
       "    .dataframe thead th {\n",
       "        text-align: right;\n",
       "    }\n",
       "</style>\n",
       "<table border=\"1\" class=\"dataframe\">\n",
       "  <thead>\n",
       "    <tr style=\"text-align: right;\">\n",
       "      <th></th>\n",
       "      <th>course_id</th>\n",
       "      <th>course_title</th>\n",
       "      <th>url</th>\n",
       "      <th>is_paid</th>\n",
       "      <th>price</th>\n",
       "      <th>num_subscribers</th>\n",
       "      <th>num_reviews</th>\n",
       "      <th>num_lectures</th>\n",
       "      <th>level</th>\n",
       "      <th>content_duration</th>\n",
       "      <th>published_timestamp</th>\n",
       "      <th>subject</th>\n",
       "    </tr>\n",
       "  </thead>\n",
       "  <tbody>\n",
       "    <tr>\n",
       "      <th>1301</th>\n",
       "      <td>692920</td>\n",
       "      <td>Creating an animated greeting card via Google Slides</td>\n",
       "      <td>https://www.udemy.com/creating-an-animated-greeting-card-via-google-slides/</td>\n",
       "      <td>True</td>\n",
       "      <td>20</td>\n",
       "      <td>1504</td>\n",
       "      <td>10</td>\n",
       "      <td>9</td>\n",
       "      <td>Beginner Level</td>\n",
       "      <td>1.5</td>\n",
       "      <td>2016-01-05 20:31:49+00:00</td>\n",
       "      <td>Graphic Design</td>\n",
       "    </tr>\n",
       "    <tr>\n",
       "      <th>1334</th>\n",
       "      <td>699376</td>\n",
       "      <td>Creating an animated greeting card via Google Slides</td>\n",
       "      <td>https://www.udemy.com/creating-an-animated-greeting-card-via-google-slides-2/</td>\n",
       "      <td>True</td>\n",
       "      <td>20</td>\n",
       "      <td>549</td>\n",
       "      <td>10</td>\n",
       "      <td>8</td>\n",
       "      <td>Beginner Level</td>\n",
       "      <td>1.0</td>\n",
       "      <td>2016-04-12 01:24:14+00:00</td>\n",
       "      <td>Graphic Design</td>\n",
       "    </tr>\n",
       "    <tr>\n",
       "      <th>1447</th>\n",
       "      <td>699380</td>\n",
       "      <td>Creating an animated greeting card via Google Slides</td>\n",
       "      <td>https://www.udemy.com/creating-an-animated-greeting-card-via-google-slides-3/</td>\n",
       "      <td>True</td>\n",
       "      <td>20</td>\n",
       "      <td>770</td>\n",
       "      <td>8</td>\n",
       "      <td>8</td>\n",
       "      <td>Intermediate Level</td>\n",
       "      <td>1.0</td>\n",
       "      <td>2016-05-06 15:54:32+00:00</td>\n",
       "      <td>Graphic Design</td>\n",
       "    </tr>\n",
       "  </tbody>\n",
       "</table>\n",
       "</div>"
      ],
      "text/plain": [
       "      course_id                                          course_title  \\\n",
       "1301  692920     Creating an animated greeting card via Google Slides   \n",
       "1334  699376     Creating an animated greeting card via Google Slides   \n",
       "1447  699380     Creating an animated greeting card via Google Slides   \n",
       "\n",
       "                                                                                url  \\\n",
       "1301  https://www.udemy.com/creating-an-animated-greeting-card-via-google-slides/     \n",
       "1334  https://www.udemy.com/creating-an-animated-greeting-card-via-google-slides-2/   \n",
       "1447  https://www.udemy.com/creating-an-animated-greeting-card-via-google-slides-3/   \n",
       "\n",
       "      is_paid  price  num_subscribers  num_reviews  num_lectures  \\\n",
       "1301  True     20     1504             10           9              \n",
       "1334  True     20     549              10           8              \n",
       "1447  True     20     770              8            8              \n",
       "\n",
       "                   level  content_duration       published_timestamp  \\\n",
       "1301  Beginner Level      1.5              2016-01-05 20:31:49+00:00   \n",
       "1334  Beginner Level      1.0              2016-04-12 01:24:14+00:00   \n",
       "1447  Intermediate Level  1.0              2016-05-06 15:54:32+00:00   \n",
       "\n",
       "             subject  \n",
       "1301  Graphic Design  \n",
       "1334  Graphic Design  \n",
       "1447  Graphic Design  "
      ]
     },
     "execution_count": 16,
     "metadata": {},
     "output_type": "execute_result"
    }
   ],
   "source": [
    "df1[df1.course_title=='Creating an animated greeting card via Google Slides']"
   ]
  },
  {
   "cell_type": "code",
   "execution_count": 17,
   "metadata": {},
   "outputs": [],
   "source": [
    "id_duplikat = df1.course_id.value_counts().head(6).index # kenapa cuman sampai 6, karena value counts berikutnya cuman 1 setiap course id\n",
    "index_loc = []\n",
    "for i in id_duplikat:\n",
    "    index_loc.append([\n",
    "        i,\n",
    "        df1.index[df1.course_id==i]\n",
    "    ])"
   ]
  },
  {
   "cell_type": "code",
   "execution_count": 18,
   "metadata": {},
   "outputs": [
    {
     "data": {
      "text/html": [
       "<div>\n",
       "<style scoped>\n",
       "    .dataframe tbody tr th:only-of-type {\n",
       "        vertical-align: middle;\n",
       "    }\n",
       "\n",
       "    .dataframe tbody tr th {\n",
       "        vertical-align: top;\n",
       "    }\n",
       "\n",
       "    .dataframe thead th {\n",
       "        text-align: right;\n",
       "    }\n",
       "</style>\n",
       "<table border=\"1\" class=\"dataframe\">\n",
       "  <thead>\n",
       "    <tr style=\"text-align: right;\">\n",
       "      <th></th>\n",
       "      <th>course_id</th>\n",
       "      <th>loc_index</th>\n",
       "    </tr>\n",
       "  </thead>\n",
       "  <tbody>\n",
       "    <tr>\n",
       "      <th>0</th>\n",
       "      <td>185526</td>\n",
       "      <td>Int64Index([1234, 1473], dtype='int64')</td>\n",
       "    </tr>\n",
       "    <tr>\n",
       "      <th>1</th>\n",
       "      <td>1084454</td>\n",
       "      <td>Int64Index([463, 1100], dtype='int64')</td>\n",
       "    </tr>\n",
       "    <tr>\n",
       "      <th>2</th>\n",
       "      <td>837322</td>\n",
       "      <td>Int64Index([453, 787], dtype='int64')</td>\n",
       "    </tr>\n",
       "    <tr>\n",
       "      <th>3</th>\n",
       "      <td>28295</td>\n",
       "      <td>Int64Index([2478, 2561], dtype='int64')</td>\n",
       "    </tr>\n",
       "    <tr>\n",
       "      <th>4</th>\n",
       "      <td>1035638</td>\n",
       "      <td>Int64Index([778, 894], dtype='int64')</td>\n",
       "    </tr>\n",
       "    <tr>\n",
       "      <th>5</th>\n",
       "      <td>1157298</td>\n",
       "      <td>Int64Index([454, 788], dtype='int64')</td>\n",
       "    </tr>\n",
       "  </tbody>\n",
       "</table>\n",
       "</div>"
      ],
      "text/plain": [
       "   course_id                                loc_index\n",
       "0  185526     Int64Index([1234, 1473], dtype='int64')\n",
       "1  1084454    Int64Index([463, 1100], dtype='int64') \n",
       "2  837322     Int64Index([453, 787], dtype='int64')  \n",
       "3  28295      Int64Index([2478, 2561], dtype='int64')\n",
       "4  1035638    Int64Index([778, 894], dtype='int64')  \n",
       "5  1157298    Int64Index([454, 788], dtype='int64')  "
      ]
     },
     "execution_count": 18,
     "metadata": {},
     "output_type": "execute_result"
    }
   ],
   "source": [
    "tab_desc4 = pd.DataFrame(index_loc, columns=['course_id', 'loc_index'])\n",
    "tab_desc4"
   ]
  },
  {
   "cell_type": "markdown",
   "metadata": {},
   "source": [
    "- Setiap course yang sama tersebut akan didrop salah satunya"
   ]
  },
  {
   "cell_type": "code",
   "execution_count": 19,
   "metadata": {},
   "outputs": [
    {
     "data": {
      "text/html": [
       "<div>\n",
       "<style scoped>\n",
       "    .dataframe tbody tr th:only-of-type {\n",
       "        vertical-align: middle;\n",
       "    }\n",
       "\n",
       "    .dataframe tbody tr th {\n",
       "        vertical-align: top;\n",
       "    }\n",
       "\n",
       "    .dataframe thead th {\n",
       "        text-align: right;\n",
       "    }\n",
       "</style>\n",
       "<table border=\"1\" class=\"dataframe\">\n",
       "  <thead>\n",
       "    <tr style=\"text-align: right;\">\n",
       "      <th></th>\n",
       "      <th>course_id</th>\n",
       "      <th>course_title</th>\n",
       "      <th>url</th>\n",
       "      <th>is_paid</th>\n",
       "      <th>price</th>\n",
       "      <th>num_subscribers</th>\n",
       "      <th>num_reviews</th>\n",
       "      <th>num_lectures</th>\n",
       "      <th>level</th>\n",
       "      <th>content_duration</th>\n",
       "      <th>published_timestamp</th>\n",
       "      <th>subject</th>\n",
       "    </tr>\n",
       "  </thead>\n",
       "  <tbody>\n",
       "    <tr>\n",
       "      <th>463</th>\n",
       "      <td>1084454</td>\n",
       "      <td>CFA Level 2- Quantitative Methods</td>\n",
       "      <td>https://www.udemy.com/cfa-level-2-quantitative-methods/</td>\n",
       "      <td>True</td>\n",
       "      <td>40</td>\n",
       "      <td>0</td>\n",
       "      <td>0</td>\n",
       "      <td>35</td>\n",
       "      <td>All Levels</td>\n",
       "      <td>5.50</td>\n",
       "      <td>2017-07-02 14:29:35+00:00</td>\n",
       "      <td>Business Finance</td>\n",
       "    </tr>\n",
       "    <tr>\n",
       "      <th>1100</th>\n",
       "      <td>1084454</td>\n",
       "      <td>CFA Level 2- Quantitative Methods</td>\n",
       "      <td>https://www.udemy.com/cfa-level-2-quantitative-methods/</td>\n",
       "      <td>True</td>\n",
       "      <td>40</td>\n",
       "      <td>0</td>\n",
       "      <td>0</td>\n",
       "      <td>35</td>\n",
       "      <td>All Levels</td>\n",
       "      <td>5.50</td>\n",
       "      <td>2017-07-02 14:29:35+00:00</td>\n",
       "      <td>Business Finance</td>\n",
       "    </tr>\n",
       "    <tr>\n",
       "      <th>1234</th>\n",
       "      <td>185526</td>\n",
       "      <td>MicroStation - Células</td>\n",
       "      <td>https://www.udemy.com/microstation-celulas/</td>\n",
       "      <td>True</td>\n",
       "      <td>20</td>\n",
       "      <td>0</td>\n",
       "      <td>0</td>\n",
       "      <td>9</td>\n",
       "      <td>Beginner Level</td>\n",
       "      <td>0.62</td>\n",
       "      <td>2014-04-15 21:48:55+00:00</td>\n",
       "      <td>Graphic Design</td>\n",
       "    </tr>\n",
       "    <tr>\n",
       "      <th>1473</th>\n",
       "      <td>185526</td>\n",
       "      <td>MicroStation - Células</td>\n",
       "      <td>https://www.udemy.com/microstation-celulas/</td>\n",
       "      <td>True</td>\n",
       "      <td>20</td>\n",
       "      <td>0</td>\n",
       "      <td>0</td>\n",
       "      <td>9</td>\n",
       "      <td>Beginner Level</td>\n",
       "      <td>0.62</td>\n",
       "      <td>2014-04-15 21:48:55+00:00</td>\n",
       "      <td>Graphic Design</td>\n",
       "    </tr>\n",
       "  </tbody>\n",
       "</table>\n",
       "</div>"
      ],
      "text/plain": [
       "      course_id                       course_title  \\\n",
       "463   1084454    CFA Level 2- Quantitative Methods   \n",
       "1100  1084454    CFA Level 2- Quantitative Methods   \n",
       "1234  185526     MicroStation - Células              \n",
       "1473  185526     MicroStation - Células              \n",
       "\n",
       "                                                          url  is_paid  price  \\\n",
       "463   https://www.udemy.com/cfa-level-2-quantitative-methods/  True     40      \n",
       "1100  https://www.udemy.com/cfa-level-2-quantitative-methods/  True     40      \n",
       "1234  https://www.udemy.com/microstation-celulas/              True     20      \n",
       "1473  https://www.udemy.com/microstation-celulas/              True     20      \n",
       "\n",
       "      num_subscribers  num_reviews  num_lectures           level  \\\n",
       "463   0                0            35            All Levels       \n",
       "1100  0                0            35            All Levels       \n",
       "1234  0                0            9             Beginner Level   \n",
       "1473  0                0            9             Beginner Level   \n",
       "\n",
       "      content_duration       published_timestamp           subject  \n",
       "463   5.50             2017-07-02 14:29:35+00:00  Business Finance  \n",
       "1100  5.50             2017-07-02 14:29:35+00:00  Business Finance  \n",
       "1234  0.62             2014-04-15 21:48:55+00:00  Graphic Design    \n",
       "1473  0.62             2014-04-15 21:48:55+00:00  Graphic Design    "
      ]
     },
     "execution_count": 19,
     "metadata": {},
     "output_type": "execute_result"
    }
   ],
   "source": [
    "tab_desc5 = df1[(df1.course_id==185526) | (df1.course_id==1084454)]\n",
    "tab_desc5"
   ]
  },
  {
   "cell_type": "code",
   "execution_count": 20,
   "metadata": {},
   "outputs": [
    {
     "data": {
      "image/png": "[encoded data removed]",
      "text/plain": [
       "<Figure size 792x576 with 2 Axes>"
      ]
     },
     "metadata": {
      "needs_background": "light"
     },
     "output_type": "display_data"
    }
   ],
   "source": [
    "plt.figure(figsize=(11, 8))\n",
    "\n",
    "sns_plot = sns.heatmap(df1.corr(), annot=True, square=True, linewidths=0.25)\n",
    "# plt.savefig('heatmap.png')\n",
    "plt.show()"
   ]
  },
  {
   "cell_type": "markdown",
   "metadata": {},
   "source": [
    "- Hipotesis awal variabel yang berhubungan dengan **Jumlah Subscribers** berdasarkan nilai korelasi tertinggi\n",
    "\n",
    "1. Jumlah Reviews\n",
    "2. Paid or not\n",
    "3. Content duration\n",
    "4. Jumlah Lectures"
   ]
  },
  {
   "cell_type": "markdown",
   "metadata": {},
   "source": [
    "------------------------------------------------------------------------------------------------------------------------------------------------------"
   ]
  },
  {
   "cell_type": "markdown",
   "metadata": {},
   "source": [
    "# (6) EDA without Handling Missing Value"
   ]
  },
  {
   "cell_type": "markdown",
   "metadata": {},
   "source": [
    "------------------------------------------------------------------------------------------------------------------------------------------------------"
   ]
  },
  {
   "cell_type": "markdown",
   "metadata": {},
   "source": [
    "## a. Analisa 1 variabel (Persebaran Data)"
   ]
  },
  {
   "cell_type": "markdown",
   "metadata": {},
   "source": [
    "##### a1. Subscribers"
   ]
  },
  {
   "cell_type": "code",
   "execution_count": 21,
   "metadata": {},
   "outputs": [
    {
     "data": {
      "image/png": "[encoded data removed]",
      "text/plain": [
       "<Figure size 576x360 with 1 Axes>"
      ]
     },
     "metadata": {
      "needs_background": "light"
     },
     "output_type": "display_data"
    },
    {
     "data": {
      "image/png": "[encoded data removed]",
      "text/plain": [
       "<Figure size 432x288 with 1 Axes>"
      ]
     },
     "metadata": {
      "needs_background": "light"
     },
     "output_type": "display_data"
    }
   ],
   "source": [
    "plt.figure(figsize=(8,5))\n",
    "\n",
    "plt.subplot(2,2,1)\n",
    "sns.distplot(df1.num_subscribers, bins=10)\n",
    "plt.title('G1. Histogram of Subscriber', fontsize=15)\n",
    "plt.ylabel('Count', fontsize=12)\n",
    "plt.xlabel('Subscribers', fontsize=12)\n",
    "plt.tick_params(labelsize=10) # ukuran xticks & yticks\n",
    "plt.tight_layout()\n",
    "plt.show()\n",
    "\n",
    "plt.subplot(2,2,2)\n",
    "sns.distplot(df1.num_subscribers, bins=50)\n",
    "plt.title('G1.2 Histogram of Subscriber', fontsize=8)\n",
    "plt.ylabel('Count', fontsize=8)\n",
    "plt.xlabel('Subscribers', fontsize=8)\n",
    "plt.xlim(0,30000)\n",
    "plt.tick_params(labelsize=10) # ukuran xticks & yticks\n",
    "plt.tight_layout()\n",
    "plt.show()"
   ]
  },
  {
   "cell_type": "markdown",
   "metadata": {},
   "source": [
    "- Histogram digunakan untuk melihat dispersi atau frekuensi data\n",
    "- Berdasarkan Grafik G1, bentuk histogram jumlah subscriber merupakan skewness positif. Skewness yang bernilai positif berarti ekor distribusi berada di sebelah kanan nilai terbanyak. Sebagian besar distribusi berada di nilai rendah. Artinya, kemungkinan Jumlah persebaran data subscriber sebagian besar pada jumlah 0 sampai ± 6000"
   ]
  },
  {
   "cell_type": "code",
   "execution_count": 22,
   "metadata": {},
   "outputs": [
    {
     "data": {
      "image/png": "[encoded data removed]",
      "text/plain": [
       "<Figure size 576x360 with 1 Axes>"
      ]
     },
     "metadata": {
      "needs_background": "light"
     },
     "output_type": "display_data"
    }
   ],
   "source": [
    "plt.figure(figsize=(8,5))\n",
    "sns.boxplot(np.log(df1.num_subscribers), color='salmon')\n",
    "plt.title('G2. Boxplot Log Subscribers', fontsize=20)\n",
    "plt.savefig('G2.png')\n",
    "plt.show()"
   ]
  },
  {
   "cell_type": "markdown",
   "metadata": {},
   "source": [
    "- Fungsi boxplot ialah untuk melihat kesimetrisan dan derajat penyebaran data, simetris median di tengah2 dan whisker sama panjang"
   ]
  },
  {
   "cell_type": "markdown",
   "metadata": {},
   "source": [
    "- Grafik G2 menunjukan bahwa **Persebaran Data Subscriber tidak simetris, dan data berada pada rentang jumlah subscriber yang kecil**"
   ]
  },
  {
   "cell_type": "code",
   "execution_count": 23,
   "metadata": {},
   "outputs": [],
   "source": [
    "uf_subs = (1.5*(df1.num_subscribers.quantile(0.75)-df1.num_subscribers.quantile(0.25))) + df1.num_subscribers.quantile(0.75)\n",
    "b=df1.num_subscribers[df1.num_subscribers<=uf_subs]"
   ]
  },
  {
   "cell_type": "code",
   "execution_count": 24,
   "metadata": {},
   "outputs": [
    {
     "data": {
      "image/png": "[encoded data removed]",
      "text/plain": [
       "<Figure size 576x360 with 1 Axes>"
      ]
     },
     "metadata": {
      "needs_background": "light"
     },
     "output_type": "display_data"
    }
   ],
   "source": [
    "plt.figure(figsize=(8,5))\n",
    "sns.boxplot(df1.num_subscribers[df1.num_subscribers<=3100], color='salmon')\n",
    "plt.title('G2.1 Boxplot Subscribers', fontsize=20)\n",
    "plt.show()"
   ]
  },
  {
   "cell_type": "markdown",
   "metadata": {},
   "source": [
    "- Sebagian besar persebaran data yang dimaksud Grafik G2 ditunjukan pada grafik ini, yaitu hanya pada rentang jumlah subscriber 0 sampai 3102"
   ]
  },
  {
   "cell_type": "code",
   "execution_count": 25,
   "metadata": {},
   "outputs": [],
   "source": [
    "a = df1.num_subscribers.value_counts().head(10)\n",
    "tab_eda1 = pd.DataFrame(a)"
   ]
  },
  {
   "cell_type": "code",
   "execution_count": 26,
   "metadata": {},
   "outputs": [],
   "source": [
    "tab_eda1['Num_Sub'] = tab_eda1.index\n",
    "index = np.arange(1,11)\n",
    "tab_eda1['index'] = index\n",
    "tab_eda1.rename(columns={\"num_subscribers\":\"Jumlah Data\"}, inplace=True)"
   ]
  },
  {
   "cell_type": "code",
   "execution_count": 27,
   "metadata": {},
   "outputs": [
    {
     "data": {
      "text/html": [
       "<div>\n",
       "<style scoped>\n",
       "    .dataframe tbody tr th:only-of-type {\n",
       "        vertical-align: middle;\n",
       "    }\n",
       "\n",
       "    .dataframe tbody tr th {\n",
       "        vertical-align: top;\n",
       "    }\n",
       "\n",
       "    .dataframe thead th {\n",
       "        text-align: right;\n",
       "    }\n",
       "</style>\n",
       "<table border=\"1\" class=\"dataframe\">\n",
       "  <thead>\n",
       "    <tr style=\"text-align: right;\">\n",
       "      <th></th>\n",
       "      <th>Num_Sub</th>\n",
       "      <th>Jumlah Data</th>\n",
       "    </tr>\n",
       "  </thead>\n",
       "  <tbody>\n",
       "    <tr>\n",
       "      <th>1</th>\n",
       "      <td>0</td>\n",
       "      <td>70</td>\n",
       "    </tr>\n",
       "    <tr>\n",
       "      <th>2</th>\n",
       "      <td>1</td>\n",
       "      <td>49</td>\n",
       "    </tr>\n",
       "    <tr>\n",
       "      <th>3</th>\n",
       "      <td>5</td>\n",
       "      <td>28</td>\n",
       "    </tr>\n",
       "    <tr>\n",
       "      <th>4</th>\n",
       "      <td>2</td>\n",
       "      <td>27</td>\n",
       "    </tr>\n",
       "    <tr>\n",
       "      <th>5</th>\n",
       "      <td>4</td>\n",
       "      <td>26</td>\n",
       "    </tr>\n",
       "    <tr>\n",
       "      <th>6</th>\n",
       "      <td>3</td>\n",
       "      <td>26</td>\n",
       "    </tr>\n",
       "    <tr>\n",
       "      <th>7</th>\n",
       "      <td>7</td>\n",
       "      <td>24</td>\n",
       "    </tr>\n",
       "    <tr>\n",
       "      <th>8</th>\n",
       "      <td>11</td>\n",
       "      <td>23</td>\n",
       "    </tr>\n",
       "    <tr>\n",
       "      <th>9</th>\n",
       "      <td>13</td>\n",
       "      <td>19</td>\n",
       "    </tr>\n",
       "    <tr>\n",
       "      <th>10</th>\n",
       "      <td>6</td>\n",
       "      <td>18</td>\n",
       "    </tr>\n",
       "  </tbody>\n",
       "</table>\n",
       "</div>"
      ],
      "text/plain": [
       "    Num_Sub  Jumlah Data\n",
       "1   0        70         \n",
       "2   1        49         \n",
       "3   5        28         \n",
       "4   2        27         \n",
       "5   4        26         \n",
       "6   3        26         \n",
       "7   7        24         \n",
       "8   11       23         \n",
       "9   13       19         \n",
       "10  6        18         "
      ]
     },
     "execution_count": 27,
     "metadata": {},
     "output_type": "execute_result"
    }
   ],
   "source": [
    "newcol = ['Num_Sub','Jumlah Data','index']\n",
    "tab_eda1 = tab_eda1[newcol]\n",
    "tab_eda1 = tab_eda1.set_index(index)\n",
    "tab_eda1.drop(columns='index',inplace=True)\n",
    "tab_eda1"
   ]
  },
  {
   "cell_type": "markdown",
   "metadata": {},
   "source": [
    "- Tabel tab_eda1 di atas merupakan **jumlah 10 data course tertinggi** dari **setiap number subscribers**\n",
    "- Contoh pembacaan : Ada sejumlah 70 course yang memiliki subscriber 0"
   ]
  },
  {
   "cell_type": "code",
   "execution_count": 28,
   "metadata": {},
   "outputs": [],
   "source": [
    "feature_num = df1[['num_subscribers', 'num_reviews', 'num_lectures', 'content_duration', 'price', 'subject', 'level']]\n",
    "for i in feature_num:\n",
    "    if feature_num[i].dtype in ['object','bool']:\n",
    "        pass\n",
    "    elif i == 'price':\n",
    "        pass\n",
    "    else:\n",
    "        feature_num[i +'_log'] = np.log(feature_num[i] + 1)\n",
    "log_feature = [f for f in feature_num.columns if '_log' in f]"
   ]
  },
  {
   "cell_type": "code",
   "execution_count": 29,
   "metadata": {},
   "outputs": [
    {
     "data": {
      "image/png": "[encoded data removed]",
      "text/plain": [
       "<Figure size 648x288 with 1 Axes>"
      ]
     },
     "metadata": {
      "needs_background": "light"
     },
     "output_type": "display_data"
    }
   ],
   "source": [
    "plt.figure(figsize=(9,4))\n",
    "ax = sns.boxplot(x='subject', y='num_subscribers_log', data=feature_num, palette='rainbow')\n",
    "ax.set_xlabel('', fontsize=12)\n",
    "ax.set_ylabel('num_subscribers_log', fontsize=12)\n",
    "ax.set_title('G3. Distribution of num_subscribers_log based on Subject', fontsize=14, weight='bold')\n",
    "plt.show()"
   ]
  },
  {
   "cell_type": "markdown",
   "metadata": {},
   "source": [
    "- Berdasarkan grafik G3, **Web Development** adalah course yang memiliki frekuensi subscriber tinggi2, disusul Business Finance, Graphic Design, dan Musical Instruments.\n",
    "- Masing-masing subject memiliki data yang tidak simetris"
   ]
  },
  {
   "cell_type": "code",
   "execution_count": 30,
   "metadata": {},
   "outputs": [
    {
     "data": {
      "image/png": "[encoded data removed]",
      "text/plain": [
       "<Figure size 648x288 with 1 Axes>"
      ]
     },
     "metadata": {
      "needs_background": "light"
     },
     "output_type": "display_data"
    }
   ],
   "source": [
    "plt.figure(figsize=(9,4))\n",
    "plt.grid()\n",
    "ax = sns.boxplot(x='level', y='num_subscribers_log', data=feature_num, palette='viridis')\n",
    "ax.set_xlabel('', fontsize=12)\n",
    "ax.set_ylabel('num_subscribers_log', fontsize=12)\n",
    "ax.set_title('G4. Distribution of num_subscribers_log based on Level', fontsize=14, weight='bold')\n",
    "plt.show()"
   ]
  },
  {
   "cell_type": "markdown",
   "metadata": {},
   "source": [
    "- Persebaran subscribers di masing2 subject tidak simetris\n",
    "- Expert level memiliki frekuensi subscribers rendah dibanding 3 level lain\n",
    "- Subscribers2 tinggi berada pada All Levels dan Beginner Level"
   ]
  },
  {
   "cell_type": "code",
   "execution_count": 31,
   "metadata": {},
   "outputs": [
    {
     "data": {
      "text/plain": [
       "All Levels        38\n",
       "Beginner Level    14\n",
       "Name: level, dtype: int64"
      ]
     },
     "execution_count": 31,
     "metadata": {},
     "output_type": "execute_result"
    }
   ],
   "source": [
    "df1.level[df1.num_subscribers>=30000].value_counts()"
   ]
  },
  {
   "cell_type": "markdown",
   "metadata": {},
   "source": [
    "##### a2. Num_reviews"
   ]
  },
  {
   "cell_type": "code",
   "execution_count": 32,
   "metadata": {},
   "outputs": [
    {
     "data": {
      "image/png": "[encoded data removed]",
      "text/plain": [
       "<Figure size 576x360 with 1 Axes>"
      ]
     },
     "metadata": {
      "needs_background": "light"
     },
     "output_type": "display_data"
    }
   ],
   "source": [
    "plt.figure(figsize=(8,5))\n",
    "sns.boxplot(np.log(df1.num_reviews))\n",
    "plt.title('G5. Boxplot of num_reviews', fontsize=20)\n",
    "plt.ylabel('Count', fontsize=15)\n",
    "plt.xlabel('Number of Reviews', fontsize=15)  \n",
    "plt.tick_params(labelsize=10) # ukuran xticks & yticks\n",
    "plt.tight_layout()\n",
    "plt.show()"
   ]
  },
  {
   "cell_type": "markdown",
   "metadata": {},
   "source": [
    "- Sebagian besar data berdasarkan grafik G5, frekuensi angka review rendah dan tidak simetris"
   ]
  },
  {
   "cell_type": "code",
   "execution_count": 33,
   "metadata": {},
   "outputs": [
    {
     "data": {
      "text/plain": [
       "494"
      ]
     },
     "execution_count": 33,
     "metadata": {},
     "output_type": "execute_result"
    }
   ],
   "source": [
    "uf_review = (1.5*(df1.num_reviews.quantile(0.75)-df1.num_reviews.quantile(0.25))) + df1.num_reviews.quantile(0.75)\n",
    "df1.num_reviews[df1.num_reviews>uf_review].count()"
   ]
  },
  {
   "cell_type": "code",
   "execution_count": 34,
   "metadata": {},
   "outputs": [
    {
     "data": {
      "image/png": "[encoded data removed]",
      "text/plain": [
       "<Figure size 648x288 with 1 Axes>"
      ]
     },
     "metadata": {
      "needs_background": "light"
     },
     "output_type": "display_data"
    }
   ],
   "source": [
    "plt.figure(figsize=(9,4))\n",
    "ax = sns.boxplot(x='subject', y='num_reviews_log', data=feature_num, palette='rainbow')\n",
    "ax.set_xlabel('', fontsize=12)\n",
    "ax.set_ylabel('num_reviews_log', fontsize=12)\n",
    "ax.set_title('G6. Distribution of num_reviews_log based on Subject', fontsize=14, weight='bold')\n",
    "plt.show()"
   ]
  },
  {
   "cell_type": "markdown",
   "metadata": {},
   "source": [
    "- Subject web development ialah salah satu subject yang rata2 memiliki frekuensi review yang banyak di bandingkan 3 lainnya. Ini dapat berarti bahwa subject Development yang paling banyak disukai, karena melihat frekuensi subscribers pada grafik G3 itu tinggi. \n",
    "- Web Development memiliki data jumlah review yang cukup simetris. Berbeda dengan 3 lainnya yang tidak simetris."
   ]
  },
  {
   "cell_type": "code",
   "execution_count": 35,
   "metadata": {},
   "outputs": [
    {
     "data": {
      "image/png": "[encoded data removed]",
      "text/plain": [
       "<Figure size 648x288 with 1 Axes>"
      ]
     },
     "metadata": {
      "needs_background": "light"
     },
     "output_type": "display_data"
    }
   ],
   "source": [
    "plt.figure(figsize=(9,4))\n",
    "ax = sns.boxplot(x='level', y='num_reviews_log', data=feature_num, palette='viridis')\n",
    "ax.set_xlabel('', fontsize=12)\n",
    "ax.set_ylabel('num_reviews_log', fontsize=12)\n",
    "ax.set_title('G7. Distribution of num_reviews_log based on Level', fontsize=14, weight='bold')\n",
    "plt.show()"
   ]
  },
  {
   "cell_type": "markdown",
   "metadata": {},
   "source": [
    "- Expert level merupakan level course yang memiliki frekuensi jumlah review yang rendah"
   ]
  },
  {
   "cell_type": "markdown",
   "metadata": {},
   "source": [
    "##### a3. Num_lectures"
   ]
  },
  {
   "cell_type": "code",
   "execution_count": 36,
   "metadata": {},
   "outputs": [
    {
     "data": {
      "image/png": "[encoded data removed]",
      "text/plain": [
       "<Figure size 576x360 with 1 Axes>"
      ]
     },
     "metadata": {
      "needs_background": "light"
     },
     "output_type": "display_data"
    }
   ],
   "source": [
    "plt.figure(figsize=(8,5))\n",
    "sns.boxplot(df1.num_lectures)\n",
    "plt.title('G8. Boxplot of num_lectures', fontsize=20)\n",
    "plt.ylabel('Count', fontsize=15)\n",
    "plt.xlabel('Number of Lectures', fontsize=15)  \n",
    "plt.tick_params(labelsize=10) # ukuran xticks & yticks\n",
    "plt.tight_layout()\n",
    "plt.show()"
   ]
  },
  {
   "cell_type": "markdown",
   "metadata": {},
   "source": [
    "- Persebaran Jumlah lecture tidak simetris. Sebagan besar course memiliki lecture di rentang 1-50"
   ]
  },
  {
   "cell_type": "code",
   "execution_count": 37,
   "metadata": {},
   "outputs": [
    {
     "data": {
      "text/plain": [
       "1949.0"
      ]
     },
     "execution_count": 37,
     "metadata": {},
     "output_type": "execute_result"
    }
   ],
   "source": [
    "df1.num_subscribers[df1.num_lectures>100].median()"
   ]
  },
  {
   "cell_type": "code",
   "execution_count": 38,
   "metadata": {},
   "outputs": [
    {
     "data": {
      "text/plain": [
       "293"
      ]
     },
     "execution_count": 38,
     "metadata": {},
     "output_type": "execute_result"
    }
   ],
   "source": [
    "uf_lecture = (1.5*(df1.num_lectures.quantile(0.75)-df1.num_lectures.quantile(0.25))) + df1.num_lectures.quantile(0.75)\n",
    "df1.num_lectures[df1.num_lectures>uf_lecture].count()"
   ]
  },
  {
   "cell_type": "markdown",
   "metadata": {},
   "source": [
    "##### a4. price"
   ]
  },
  {
   "cell_type": "code",
   "execution_count": 39,
   "metadata": {},
   "outputs": [
    {
     "data": {
      "image/png": "[encoded data removed]",
      "text/plain": [
       "<Figure size 576x360 with 1 Axes>"
      ]
     },
     "metadata": {
      "needs_background": "light"
     },
     "output_type": "display_data"
    }
   ],
   "source": [
    "plt.figure(figsize=(8,5))\n",
    "sns.boxplot(df1.price)\n",
    "plt.title('G9. Boxplot of Price', fontsize=20)\n",
    "plt.ylabel('Count', fontsize=15)\n",
    "plt.xlabel('Number of Price', fontsize=15)  \n",
    "plt.tick_params(labelsize=10) # ukuran xticks & yticks\n",
    "plt.tight_layout()\n",
    "plt.show()"
   ]
  },
  {
   "cell_type": "markdown",
   "metadata": {},
   "source": [
    "- Sebagian besar course banyak yang berharga rendah"
   ]
  },
  {
   "cell_type": "code",
   "execution_count": 40,
   "metadata": {},
   "outputs": [
    {
     "data": {
      "text/plain": [
       "0"
      ]
     },
     "execution_count": 40,
     "metadata": {},
     "output_type": "execute_result"
    }
   ],
   "source": [
    "uf_price = (1.5*(df1.price.quantile(0.75)-df1.price.quantile(0.25))) + df1.price.quantile(0.75)\n",
    "df1.price[df1.price>uf_price].count()"
   ]
  },
  {
   "cell_type": "code",
   "execution_count": 41,
   "metadata": {},
   "outputs": [
    {
     "data": {
      "image/png": "[encoded data removed]",
      "text/plain": [
       "<Figure size 648x288 with 1 Axes>"
      ]
     },
     "metadata": {
      "needs_background": "light"
     },
     "output_type": "display_data"
    }
   ],
   "source": [
    "plt.figure(figsize=(9,4))\n",
    "ax = sns.boxplot(x='subject', y='price', data=feature_num, palette='rainbow')\n",
    "ax.set_xlabel('', fontsize=12)\n",
    "ax.set_ylabel('price', fontsize=12)\n",
    "ax.set_title('G10. Distribution of Price based on Subject', fontsize=14, weight='bold')\n",
    "plt.show()"
   ]
  },
  {
   "cell_type": "markdown",
   "metadata": {},
   "source": [
    "- Sebagian besar course yang memiliki harga tinggi ialah course dengan Subject Web Development dan Business Finance\n",
    "- Subject yang paling banyak berharga rendah ialah Musical Instrumen"
   ]
  },
  {
   "cell_type": "code",
   "execution_count": 42,
   "metadata": {},
   "outputs": [],
   "source": [
    "publish_dt = df1['published_timestamp'].dt"
   ]
  },
  {
   "cell_type": "code",
   "execution_count": 43,
   "metadata": {},
   "outputs": [],
   "source": [
    "df1['year_p'] = publish_dt.year\n",
    "df1['month_p'] = publish_dt.month\n",
    "df1['date_p'] = publish_dt.day"
   ]
  },
  {
   "cell_type": "code",
   "execution_count": 44,
   "metadata": {},
   "outputs": [],
   "source": [
    "df1.drop(columns=['published_timestamp'], inplace=True)"
   ]
  },
  {
   "cell_type": "code",
   "execution_count": 45,
   "metadata": {},
   "outputs": [
    {
     "data": {
      "text/plain": [
       "2016    228\n",
       "2015    171\n",
       "2014    120\n",
       "2017    112\n",
       "2013    39 \n",
       "2012    10 \n",
       "Name: year_p, dtype: int64"
      ]
     },
     "execution_count": 45,
     "metadata": {},
     "output_type": "execute_result"
    }
   ],
   "source": [
    "df1.year_p[df1.subject=='Musical Instruments'].value_counts()"
   ]
  },
  {
   "cell_type": "code",
   "execution_count": 46,
   "metadata": {},
   "outputs": [
    {
     "data": {
      "image/png": "[encoded data removed]",
      "text/plain": [
       "<Figure size 648x288 with 1 Axes>"
      ]
     },
     "metadata": {
      "needs_background": "light"
     },
     "output_type": "display_data"
    }
   ],
   "source": [
    "plt.figure(figsize=(9,4))\n",
    "ax = sns.boxplot(x='level', y='price', data=feature_num, palette='viridis')\n",
    "ax.set_xlabel('', fontsize=12)\n",
    "ax.set_ylabel('price', fontsize=12)\n",
    "ax.set_title('G11. Distribution of Price based on Level', fontsize=14, weight='bold')\n",
    "plt.show()"
   ]
  },
  {
   "cell_type": "markdown",
   "metadata": {},
   "source": [
    "- Course dengan level Expert merupakan course yang mendominasi harga tinggi"
   ]
  },
  {
   "cell_type": "code",
   "execution_count": 47,
   "metadata": {},
   "outputs": [
    {
     "data": {
      "text/plain": [
       "73.02229134266459"
      ]
     },
     "execution_count": 47,
     "metadata": {},
     "output_type": "execute_result"
    }
   ],
   "source": [
    "df1.price[df1.level=='All Levels'].mean()"
   ]
  },
  {
   "cell_type": "markdown",
   "metadata": {},
   "source": [
    "##### a5. Content Duration"
   ]
  },
  {
   "cell_type": "code",
   "execution_count": 48,
   "metadata": {},
   "outputs": [
    {
     "data": {
      "image/png": "[encoded data removed]",
      "text/plain": [
       "<Figure size 576x360 with 1 Axes>"
      ]
     },
     "metadata": {
      "needs_background": "light"
     },
     "output_type": "display_data"
    }
   ],
   "source": [
    "plt.figure(figsize=(8,5))\n",
    "sns.boxplot(df1.content_duration)\n",
    "plt.title('G12. Boxplot of Content Duration', fontsize=20)\n",
    "plt.ylabel('Count', fontsize=15)\n",
    "plt.xlabel('Content Duration', fontsize=15)  \n",
    "plt.tick_params(labelsize=10) # ukuran xticks & yticks\n",
    "plt.tight_layout()\n",
    "plt.show()"
   ]
  },
  {
   "cell_type": "markdown",
   "metadata": {},
   "source": [
    "- Sebagian besar course memiliki durasi konten singkat (rata-rata 4-5 h)"
   ]
  },
  {
   "cell_type": "code",
   "execution_count": 49,
   "metadata": {},
   "outputs": [
    {
     "data": {
      "text/plain": [
       "313"
      ]
     },
     "execution_count": 49,
     "metadata": {},
     "output_type": "execute_result"
    }
   ],
   "source": [
    "uf_duration = (1.5*(df1.content_duration.quantile(0.75)-df1.content_duration.quantile(0.25))) + df1.content_duration.quantile(0.75)\n",
    "df1.content_duration[df1.content_duration>uf_duration].count()"
   ]
  },
  {
   "cell_type": "markdown",
   "metadata": {},
   "source": [
    "## b. Analisa 2 variabel"
   ]
  },
  {
   "cell_type": "markdown",
   "metadata": {},
   "source": [
    "##### b1. Subscribers vs Review"
   ]
  },
  {
   "cell_type": "code",
   "execution_count": 50,
   "metadata": {},
   "outputs": [],
   "source": [
    "tab_eda2 = df1[['num_reviews','num_subscribers']][(df1.num_subscribers>0) & (df1.num_reviews>0)].sort_values(by='num_reviews')"
   ]
  },
  {
   "cell_type": "code",
   "execution_count": 51,
   "metadata": {},
   "outputs": [
    {
     "data": {
      "image/png": "[encoded data removed]",
      "text/plain": [
       "<Figure size 576x432 with 1 Axes>"
      ]
     },
     "metadata": {
      "needs_background": "light"
     },
     "output_type": "display_data"
    }
   ],
   "source": [
    "plt.figure(figsize=(8,6))\n",
    "sns.scatterplot(x='num_reviews', y='num_subscribers', data=tab_eda2, color='g')\n",
    "plt.title('G13. Number Reviews vs Number Subscribers', fontsize=15)\n",
    "plt.xlabel('num_reviews', fontsize=12)\n",
    "plt.ylabel('num_subscribers', fontsize=12)\n",
    "plt.show()"
   ]
  },
  {
   "cell_type": "markdown",
   "metadata": {},
   "source": [
    "- Secara umum memang berdasarkan grafik G7, **semakin banyak reviewers, subscriber semakin besar.**"
   ]
  },
  {
   "cell_type": "code",
   "execution_count": 52,
   "metadata": {},
   "outputs": [
    {
     "data": {
      "text/html": [
       "<div>\n",
       "<style scoped>\n",
       "    .dataframe tbody tr th:only-of-type {\n",
       "        vertical-align: middle;\n",
       "    }\n",
       "\n",
       "    .dataframe tbody tr th {\n",
       "        vertical-align: top;\n",
       "    }\n",
       "\n",
       "    .dataframe thead th {\n",
       "        text-align: right;\n",
       "    }\n",
       "</style>\n",
       "<table border=\"1\" class=\"dataframe\">\n",
       "  <thead>\n",
       "    <tr style=\"text-align: right;\">\n",
       "      <th></th>\n",
       "      <th>course_id</th>\n",
       "      <th>course_title</th>\n",
       "      <th>url</th>\n",
       "      <th>is_paid</th>\n",
       "      <th>price</th>\n",
       "      <th>num_subscribers</th>\n",
       "      <th>num_reviews</th>\n",
       "      <th>num_lectures</th>\n",
       "      <th>level</th>\n",
       "      <th>content_duration</th>\n",
       "      <th>subject</th>\n",
       "      <th>year_p</th>\n",
       "      <th>month_p</th>\n",
       "      <th>date_p</th>\n",
       "    </tr>\n",
       "  </thead>\n",
       "  <tbody>\n",
       "    <tr>\n",
       "      <th>2827</th>\n",
       "      <td>41295</td>\n",
       "      <td>Learn HTML5 Programming From Scratch</td>\n",
       "      <td>https://www.udemy.com/learn-html5-programming-from-scratch/</td>\n",
       "      <td>False</td>\n",
       "      <td>0</td>\n",
       "      <td>268923</td>\n",
       "      <td>8629</td>\n",
       "      <td>45</td>\n",
       "      <td>All Levels</td>\n",
       "      <td>10.5</td>\n",
       "      <td>Web Development</td>\n",
       "      <td>2013</td>\n",
       "      <td>2</td>\n",
       "      <td>14</td>\n",
       "    </tr>\n",
       "  </tbody>\n",
       "</table>\n",
       "</div>"
      ],
      "text/plain": [
       "      course_id                          course_title  \\\n",
       "2827  41295      Learn HTML5 Programming From Scratch   \n",
       "\n",
       "                                                              url  is_paid  \\\n",
       "2827  https://www.udemy.com/learn-html5-programming-from-scratch/  False     \n",
       "\n",
       "      price  num_subscribers  num_reviews  num_lectures       level  \\\n",
       "2827  0      268923           8629         45            All Levels   \n",
       "\n",
       "      content_duration          subject  year_p  month_p  date_p  \n",
       "2827  10.5              Web Development  2013    2        14      "
      ]
     },
     "execution_count": 52,
     "metadata": {},
     "output_type": "execute_result"
    }
   ],
   "source": [
    "df1[df1.num_subscribers>=260000]"
   ]
  },
  {
   "cell_type": "markdown",
   "metadata": {},
   "source": [
    "- data pada subscribers max adalah webdev, yang merupakan subject dengan frekuensi subscribers tinggi. Dan yang membuat nya bisa mendapatkan subscribers outliers ialah karena harga nya yang gratis"
   ]
  },
  {
   "cell_type": "markdown",
   "metadata": {},
   "source": [
    "##### b2. Subscribers vs is_paid"
   ]
  },
  {
   "cell_type": "code",
   "execution_count": 53,
   "metadata": {},
   "outputs": [
    {
     "data": {
      "text/plain": [
       "True     3368\n",
       "False    310 \n",
       "Name: is_paid, dtype: int64"
      ]
     },
     "execution_count": 53,
     "metadata": {},
     "output_type": "execute_result"
    }
   ],
   "source": [
    "df1.is_paid.value_counts()"
   ]
  },
  {
   "cell_type": "markdown",
   "metadata": {},
   "source": [
    "- Dikarenakan jumlah subscriber memiliki outliers dan jumlah data antara tipe berbayar dengan gratis tidak balance, maka dalam analisis Subscribers vs is_paid akan digunakan nilai median per tipe lisensi nya"
   ]
  },
  {
   "cell_type": "code",
   "execution_count": 54,
   "metadata": {},
   "outputs": [
    {
     "data": {
      "text/html": [
       "<div>\n",
       "<style scoped>\n",
       "    .dataframe tbody tr th:only-of-type {\n",
       "        vertical-align: middle;\n",
       "    }\n",
       "\n",
       "    .dataframe tbody tr th {\n",
       "        vertical-align: top;\n",
       "    }\n",
       "\n",
       "    .dataframe thead th {\n",
       "        text-align: right;\n",
       "    }\n",
       "</style>\n",
       "<table border=\"1\" class=\"dataframe\">\n",
       "  <thead>\n",
       "    <tr style=\"text-align: right;\">\n",
       "      <th></th>\n",
       "      <th>Median</th>\n",
       "    </tr>\n",
       "  </thead>\n",
       "  <tbody>\n",
       "    <tr>\n",
       "      <th>is_paid_True</th>\n",
       "      <td>734.5</td>\n",
       "    </tr>\n",
       "    <tr>\n",
       "      <th>is_paid_False</th>\n",
       "      <td>4869.5</td>\n",
       "    </tr>\n",
       "  </tbody>\n",
       "</table>\n",
       "</div>"
      ],
      "text/plain": [
       "               Median\n",
       "is_paid_True   734.5 \n",
       "is_paid_False  4869.5"
      ]
     },
     "execution_count": 54,
     "metadata": {},
     "output_type": "execute_result"
    }
   ],
   "source": [
    "tab_eda3 = pd.DataFrame(\n",
    "    index=['is_paid_True', 'is_paid_False'],\n",
    "    columns = ['Median'],\n",
    "    data = [df1.num_subscribers[df1.is_paid==True].quantile(.5), df1.num_subscribers[df1.is_paid==False].quantile(0.5)]\n",
    ")\n",
    "tab_eda3"
   ]
  },
  {
   "cell_type": "code",
   "execution_count": 55,
   "metadata": {},
   "outputs": [
    {
     "data": {
      "text/plain": [
       "[True, False]"
      ]
     },
     "execution_count": 55,
     "metadata": {},
     "output_type": "execute_result"
    }
   ],
   "source": [
    "df1.is_paid.unique().tolist()"
   ]
  },
  {
   "cell_type": "code",
   "execution_count": 56,
   "metadata": {},
   "outputs": [
    {
     "data": {
      "image/png": "[encoded data removed]",
      "text/plain": [
       "<Figure size 432x288 with 1 Axes>"
      ]
     },
     "metadata": {
      "needs_background": "light"
     },
     "output_type": "display_data"
    }
   ],
   "source": [
    "sns.barplot(x=df1.is_paid.unique().tolist(), y=[tab_eda3.iloc[0]['Median'],tab_eda3.iloc[1]['Median']])\n",
    "plt.title('G14. Tipe Lisensi VS Jumlah Subscriber (Median)', fontsize=15)\n",
    "plt.ylabel('Median Subscribers', color ='m', fontsize=12)\n",
    "plt.xlabel('is_paid?', color='m', fontsize=12)  \n",
    "plt.tick_params(labelsize=10)\n",
    "plt.xticks(rotation=360)\n",
    "plt.text(0-0.1, 300, tab_eda3.iloc[1]['Median'], fontweight='bold', color='white')\n",
    "plt.text(1-0.1, 300, tab_eda3.iloc[0]['Median'], fontweight='bold', color='white')\n",
    "plt.savefig('G14.png')\n",
    "plt.show()"
   ]
  },
  {
   "cell_type": "markdown",
   "metadata": {},
   "source": [
    "- **Terlihat berdasarkan grafik G14 dan jumlah data per tipe lisensi, walaupun jumlah data pada lisensi berbayar lebih banyak, Tipe lisensi Gratis memiliki nilai median subscribers lebih banyak. Artinya sebagian besar data pada lisensi gratis memiliki subscriber tinggi-tinggi**. Lisensi berbayar ini memiliki berbagai macam variasi price. Oleh karena itu perlu dilihat lebih lanjut lagi apakah harga memiliki pengaruh juga terhadap Jumlah subscribers nya dengan memecah data lisensi berbayar."
   ]
  },
  {
   "cell_type": "markdown",
   "metadata": {},
   "source": [
    "##### b3. Subscribers Vs Price"
   ]
  },
  {
   "cell_type": "code",
   "execution_count": 57,
   "metadata": {},
   "outputs": [
    {
     "data": {
      "text/html": [
       "<div>\n",
       "<style scoped>\n",
       "    .dataframe tbody tr th:only-of-type {\n",
       "        vertical-align: middle;\n",
       "    }\n",
       "\n",
       "    .dataframe tbody tr th {\n",
       "        vertical-align: top;\n",
       "    }\n",
       "\n",
       "    .dataframe thead th {\n",
       "        text-align: right;\n",
       "    }\n",
       "</style>\n",
       "<table border=\"1\" class=\"dataframe\">\n",
       "  <thead>\n",
       "    <tr style=\"text-align: right;\">\n",
       "      <th>col_0</th>\n",
       "      <th>Median Subscribers</th>\n",
       "    </tr>\n",
       "    <tr>\n",
       "      <th>price</th>\n",
       "      <th></th>\n",
       "    </tr>\n",
       "  </thead>\n",
       "  <tbody>\n",
       "    <tr>\n",
       "      <th>160</th>\n",
       "      <td>2326.0</td>\n",
       "    </tr>\n",
       "    <tr>\n",
       "      <th>0</th>\n",
       "      <td>4869.5</td>\n",
       "    </tr>\n",
       "    <tr>\n",
       "      <th>110</th>\n",
       "      <td>4935.5</td>\n",
       "    </tr>\n",
       "    <tr>\n",
       "      <th>190</th>\n",
       "      <td>5707.0</td>\n",
       "    </tr>\n",
       "    <tr>\n",
       "      <th>155</th>\n",
       "      <td>6178.0</td>\n",
       "    </tr>\n",
       "  </tbody>\n",
       "</table>\n",
       "</div>"
      ],
      "text/plain": [
       "col_0  Median Subscribers\n",
       "price                    \n",
       "160    2326.0            \n",
       "0      4869.5            \n",
       "110    4935.5            \n",
       "190    5707.0            \n",
       "155    6178.0            "
      ]
     },
     "execution_count": 57,
     "metadata": {},
     "output_type": "execute_result"
    }
   ],
   "source": [
    "tab_eda4 = pd.crosstab(index=df1.price, columns='Median Subscribers', values=df1.num_subscribers, aggfunc='median').sort_values(by='Median Subscribers', ascending=True)\n",
    "tab_eda4.tail()"
   ]
  },
  {
   "cell_type": "markdown",
   "metadata": {},
   "source": [
    "- Berdasarkan tab_eda4 di atas, dapat dikatakan median subscribers disetiap kenaikan harga cenderung mengalami kenaikan"
   ]
  },
  {
   "cell_type": "code",
   "execution_count": 58,
   "metadata": {},
   "outputs": [
    {
     "data": {
      "image/png": "[encoded data removed]",
      "text/plain": [
       "<Figure size 576x360 with 1 Axes>"
      ]
     },
     "metadata": {
      "needs_background": "light"
     },
     "output_type": "display_data"
    }
   ],
   "source": [
    "(pd.crosstab(index=df1.price, columns='Median Subscribers', values=df1.num_subscribers, aggfunc='median')).plot(\n",
    "    figsize=(8,5), \n",
    "    kind='line',\n",
    "    color = 'r'\n",
    ")\n",
    "plt.title('G15. Efek Price VS Jumlah Subscriber', fontsize=15)\n",
    "plt.ylabel('Jumlah Subscribers', color ='m', fontsize=12)\n",
    "plt.xlabel('Price', color='m', fontsize=12)  \n",
    "plt.tick_params(labelsize=10)\n",
    "plt.xticks(rotation=360)\n",
    "plt.savefig('G15.png')\n",
    "plt.show()"
   ]
  },
  {
   "cell_type": "markdown",
   "metadata": {},
   "source": [
    "- Berdasarkan **grafik G15**, **terjadi penurunan saat course menjadi lisensi berbayar**, ini merupakan hal yang wajar, karena ketika course berubah lisensi dari gratis menjadi berbayar akan ada kualitas yang dipertaruhkan. Akan tetapi berdasarkan **grafik G15**, dapat dilihat bahwa **median subscriber dari mulai harga 25 USD hingga 200 USD cenderung mengalami kenaikan, dan terdapat beberapa titik harga yang dapat mencapai subscribers maksimal**. Oleh karena itu, ketika membuat konten dengan lisensi berbayar, perlu dicari lebih lanjut mengenai range harga yang tepat agar tetep bisa mendapatkan jumlah subscriber optimal**"
   ]
  },
  {
   "cell_type": "code",
   "execution_count": 59,
   "metadata": {},
   "outputs": [
    {
     "data": {
      "text/plain": [
       "Business Finance       163\n",
       "Musical Instruments    143\n",
       "Web Development        121\n",
       "Graphic Design         41 \n",
       "Name: subject, dtype: int64"
      ]
     },
     "execution_count": 59,
     "metadata": {},
     "output_type": "execute_result"
    }
   ],
   "source": [
    "df1.subject[df1.price==50].value_counts()"
   ]
  },
  {
   "cell_type": "code",
   "execution_count": 60,
   "metadata": {},
   "outputs": [
    {
     "data": {
      "text/html": [
       "<div>\n",
       "<style scoped>\n",
       "    .dataframe tbody tr th:only-of-type {\n",
       "        vertical-align: middle;\n",
       "    }\n",
       "\n",
       "    .dataframe tbody tr th {\n",
       "        vertical-align: top;\n",
       "    }\n",
       "\n",
       "    .dataframe thead th {\n",
       "        text-align: right;\n",
       "    }\n",
       "</style>\n",
       "<table border=\"1\" class=\"dataframe\">\n",
       "  <thead>\n",
       "    <tr style=\"text-align: right;\">\n",
       "      <th></th>\n",
       "      <th>course_id</th>\n",
       "      <th>course_title</th>\n",
       "      <th>url</th>\n",
       "      <th>is_paid</th>\n",
       "      <th>price</th>\n",
       "      <th>num_subscribers</th>\n",
       "      <th>num_reviews</th>\n",
       "      <th>num_lectures</th>\n",
       "      <th>level</th>\n",
       "      <th>content_duration</th>\n",
       "      <th>subject</th>\n",
       "      <th>year_p</th>\n",
       "      <th>month_p</th>\n",
       "      <th>date_p</th>\n",
       "    </tr>\n",
       "  </thead>\n",
       "  <tbody>\n",
       "    <tr>\n",
       "      <th>3230</th>\n",
       "      <td>625204</td>\n",
       "      <td>The Web Developer Bootcamp</td>\n",
       "      <td>https://www.udemy.com/the-web-developer-bootcamp/</td>\n",
       "      <td>True</td>\n",
       "      <td>200</td>\n",
       "      <td>121584</td>\n",
       "      <td>27445</td>\n",
       "      <td>342</td>\n",
       "      <td>All Levels</td>\n",
       "      <td>43.0</td>\n",
       "      <td>Web Development</td>\n",
       "      <td>2015</td>\n",
       "      <td>11</td>\n",
       "      <td>2</td>\n",
       "    </tr>\n",
       "    <tr>\n",
       "      <th>3232</th>\n",
       "      <td>764164</td>\n",
       "      <td>The Complete Web Developer Course 2.0</td>\n",
       "      <td>https://www.udemy.com/the-complete-web-developer-course-2/</td>\n",
       "      <td>True</td>\n",
       "      <td>200</td>\n",
       "      <td>114512</td>\n",
       "      <td>22412</td>\n",
       "      <td>304</td>\n",
       "      <td>All Levels</td>\n",
       "      <td>30.5</td>\n",
       "      <td>Web Development</td>\n",
       "      <td>2016</td>\n",
       "      <td>3</td>\n",
       "      <td>8</td>\n",
       "    </tr>\n",
       "    <tr>\n",
       "      <th>3204</th>\n",
       "      <td>756150</td>\n",
       "      <td>Angular 4 (formerly Angular 2) - The Complete Guide</td>\n",
       "      <td>https://www.udemy.com/the-complete-guide-to-angular-2/</td>\n",
       "      <td>True</td>\n",
       "      <td>190</td>\n",
       "      <td>73783</td>\n",
       "      <td>19649</td>\n",
       "      <td>329</td>\n",
       "      <td>All Levels</td>\n",
       "      <td>22.0</td>\n",
       "      <td>Web Development</td>\n",
       "      <td>2016</td>\n",
       "      <td>2</td>\n",
       "      <td>11</td>\n",
       "    </tr>\n",
       "  </tbody>\n",
       "</table>\n",
       "</div>"
      ],
      "text/plain": [
       "      course_id                                         course_title  \\\n",
       "3230  625204     The Web Developer Bootcamp                            \n",
       "3232  764164     The Complete Web Developer Course 2.0                 \n",
       "3204  756150     Angular 4 (formerly Angular 2) - The Complete Guide   \n",
       "\n",
       "                                                             url  is_paid  \\\n",
       "3230  https://www.udemy.com/the-web-developer-bootcamp/           True      \n",
       "3232  https://www.udemy.com/the-complete-web-developer-course-2/  True      \n",
       "3204  https://www.udemy.com/the-complete-guide-to-angular-2/      True      \n",
       "\n",
       "      price  num_subscribers  num_reviews  num_lectures       level  \\\n",
       "3230  200    121584           27445        342           All Levels   \n",
       "3232  200    114512           22412        304           All Levels   \n",
       "3204  190    73783            19649        329           All Levels   \n",
       "\n",
       "      content_duration          subject  year_p  month_p  date_p  \n",
       "3230  43.0              Web Development  2015    11       2       \n",
       "3232  30.5              Web Development  2016    3        8       \n",
       "3204  22.0              Web Development  2016    2        11      "
      ]
     },
     "execution_count": 60,
     "metadata": {},
     "output_type": "execute_result"
    }
   ],
   "source": [
    "df1[df1.price>=180].sort_values(by='num_reviews', ascending=False).head(3)"
   ]
  },
  {
   "cell_type": "code",
   "execution_count": 61,
   "metadata": {},
   "outputs": [
    {
     "data": {
      "text/plain": [
       "2016    152\n",
       "2015    126\n",
       "2017    125\n",
       "2014    37 \n",
       "2013    13 \n",
       "2012    2  \n",
       "Name: year_p, dtype: int64"
      ]
     },
     "execution_count": 61,
     "metadata": {},
     "output_type": "execute_result"
    }
   ],
   "source": [
    "df1.year_p[df1.price>=180].value_counts()"
   ]
  },
  {
   "cell_type": "markdown",
   "metadata": {},
   "source": [
    "- Mengapa bisa di harga 200 subscribers malah bertambah atau trend naik? karena rata2 subject pada harga tersebut ialah webdev dan bisnis finance\n",
    "\n",
    "- Memang kenapa dengan 2 subject tersebut?\n",
    "1. 2 subject tersebut merupakan subject yg paling banyak diminati\n",
    "2. Kebanyakan tahun rilis dari subject2 pada harga tersebut ialah pada tahun 2015,2016, dan 2017. Dimulai tahun 2015, perkembangan teknologi mulai mengenal AI dan Big Data. (https://www.merdeka.com/)\n",
    "\n",
    "- Oleh karena itulah hal ini dapat terjadi"
   ]
  },
  {
   "cell_type": "markdown",
   "metadata": {},
   "source": [
    "- Disini saya coba membuat 3 kategori price, untuk melihat range harga berapa yang dapat mencapai subscribers maksimal"
   ]
  },
  {
   "cell_type": "code",
   "execution_count": 62,
   "metadata": {},
   "outputs": [],
   "source": [
    "tab_eda5 = df1[['num_subscribers','num_lectures','price','subject','level']][df1.price>0]"
   ]
  },
  {
   "cell_type": "code",
   "execution_count": 63,
   "metadata": {},
   "outputs": [
    {
     "data": {
      "text/html": [
       "<div>\n",
       "<style scoped>\n",
       "    .dataframe tbody tr th:only-of-type {\n",
       "        vertical-align: middle;\n",
       "    }\n",
       "\n",
       "    .dataframe tbody tr th {\n",
       "        vertical-align: top;\n",
       "    }\n",
       "\n",
       "    .dataframe thead th {\n",
       "        text-align: right;\n",
       "    }\n",
       "</style>\n",
       "<table border=\"1\" class=\"dataframe\">\n",
       "  <thead>\n",
       "    <tr style=\"text-align: right;\">\n",
       "      <th></th>\n",
       "      <th>num_subscribers</th>\n",
       "      <th>num_lectures</th>\n",
       "      <th>price</th>\n",
       "      <th>subject</th>\n",
       "      <th>level</th>\n",
       "      <th>price_bin</th>\n",
       "    </tr>\n",
       "  </thead>\n",
       "  <tbody>\n",
       "    <tr>\n",
       "      <th>0</th>\n",
       "      <td>2147</td>\n",
       "      <td>51</td>\n",
       "      <td>200</td>\n",
       "      <td>Business Finance</td>\n",
       "      <td>All Levels</td>\n",
       "      <td>Mahal</td>\n",
       "    </tr>\n",
       "    <tr>\n",
       "      <th>1</th>\n",
       "      <td>2792</td>\n",
       "      <td>274</td>\n",
       "      <td>75</td>\n",
       "      <td>Business Finance</td>\n",
       "      <td>All Levels</td>\n",
       "      <td>Terjangkau</td>\n",
       "    </tr>\n",
       "    <tr>\n",
       "      <th>2</th>\n",
       "      <td>2174</td>\n",
       "      <td>51</td>\n",
       "      <td>45</td>\n",
       "      <td>Business Finance</td>\n",
       "      <td>Intermediate Level</td>\n",
       "      <td>Terjangkau</td>\n",
       "    </tr>\n",
       "    <tr>\n",
       "      <th>3</th>\n",
       "      <td>2451</td>\n",
       "      <td>36</td>\n",
       "      <td>95</td>\n",
       "      <td>Business Finance</td>\n",
       "      <td>All Levels</td>\n",
       "      <td>Mahal</td>\n",
       "    </tr>\n",
       "    <tr>\n",
       "      <th>4</th>\n",
       "      <td>1276</td>\n",
       "      <td>26</td>\n",
       "      <td>200</td>\n",
       "      <td>Business Finance</td>\n",
       "      <td>Intermediate Level</td>\n",
       "      <td>Mahal</td>\n",
       "    </tr>\n",
       "    <tr>\n",
       "      <th>5</th>\n",
       "      <td>9221</td>\n",
       "      <td>25</td>\n",
       "      <td>150</td>\n",
       "      <td>Business Finance</td>\n",
       "      <td>All Levels</td>\n",
       "      <td>Mahal</td>\n",
       "    </tr>\n",
       "    <tr>\n",
       "      <th>6</th>\n",
       "      <td>1540</td>\n",
       "      <td>26</td>\n",
       "      <td>65</td>\n",
       "      <td>Business Finance</td>\n",
       "      <td>Beginner Level</td>\n",
       "      <td>Terjangkau</td>\n",
       "    </tr>\n",
       "    <tr>\n",
       "      <th>7</th>\n",
       "      <td>2917</td>\n",
       "      <td>23</td>\n",
       "      <td>95</td>\n",
       "      <td>Business Finance</td>\n",
       "      <td>All Levels</td>\n",
       "      <td>Mahal</td>\n",
       "    </tr>\n",
       "    <tr>\n",
       "      <th>8</th>\n",
       "      <td>5172</td>\n",
       "      <td>38</td>\n",
       "      <td>195</td>\n",
       "      <td>Business Finance</td>\n",
       "      <td>Expert Level</td>\n",
       "      <td>Mahal</td>\n",
       "    </tr>\n",
       "    <tr>\n",
       "      <th>9</th>\n",
       "      <td>827</td>\n",
       "      <td>15</td>\n",
       "      <td>200</td>\n",
       "      <td>Business Finance</td>\n",
       "      <td>All Levels</td>\n",
       "      <td>Mahal</td>\n",
       "    </tr>\n",
       "  </tbody>\n",
       "</table>\n",
       "</div>"
      ],
      "text/plain": [
       "   num_subscribers  num_lectures  price           subject               level  \\\n",
       "0  2147             51            200    Business Finance  All Levels           \n",
       "1  2792             274           75     Business Finance  All Levels           \n",
       "2  2174             51            45     Business Finance  Intermediate Level   \n",
       "3  2451             36            95     Business Finance  All Levels           \n",
       "4  1276             26            200    Business Finance  Intermediate Level   \n",
       "5  9221             25            150    Business Finance  All Levels           \n",
       "6  1540             26            65     Business Finance  Beginner Level       \n",
       "7  2917             23            95     Business Finance  All Levels           \n",
       "8  5172             38            195    Business Finance  Expert Level         \n",
       "9  827              15            200    Business Finance  All Levels           \n",
       "\n",
       "    price_bin  \n",
       "0  Mahal       \n",
       "1  Terjangkau  \n",
       "2  Terjangkau  \n",
       "3  Mahal       \n",
       "4  Mahal       \n",
       "5  Mahal       \n",
       "6  Terjangkau  \n",
       "7  Mahal       \n",
       "8  Mahal       \n",
       "9  Mahal       "
      ]
     },
     "execution_count": 63,
     "metadata": {},
     "output_type": "execute_result"
    }
   ],
   "source": [
    "tab_eda5['price_bin'] = pd.qcut(tab_eda5.price, 3, labels=['Murah', 'Terjangkau' ,'Mahal'])\n",
    "tab_eda5.head(10)"
   ]
  },
  {
   "cell_type": "markdown",
   "metadata": {},
   "source": [
    "- Binning digunakan dengan menggunakan qcut agar dapat membagi secara merata jumlah data berdasarkan nilai quantile nya. Sehingga penarikan kesimpulan akan lebih akurat"
   ]
  },
  {
   "cell_type": "code",
   "execution_count": 64,
   "metadata": {},
   "outputs": [
    {
     "data": {
      "text/html": [
       "<div>\n",
       "<style scoped>\n",
       "    .dataframe tbody tr th:only-of-type {\n",
       "        vertical-align: middle;\n",
       "    }\n",
       "\n",
       "    .dataframe tbody tr th {\n",
       "        vertical-align: top;\n",
       "    }\n",
       "\n",
       "    .dataframe thead th {\n",
       "        text-align: right;\n",
       "    }\n",
       "</style>\n",
       "<table border=\"1\" class=\"dataframe\">\n",
       "  <thead>\n",
       "    <tr style=\"text-align: right;\">\n",
       "      <th>price_bin</th>\n",
       "      <th>Murah</th>\n",
       "      <th>Terjangkau</th>\n",
       "      <th>Mahal</th>\n",
       "    </tr>\n",
       "    <tr>\n",
       "      <th>row_0</th>\n",
       "      <th></th>\n",
       "      <th></th>\n",
       "      <th></th>\n",
       "    </tr>\n",
       "  </thead>\n",
       "  <tbody>\n",
       "    <tr>\n",
       "      <th>Jumlah Data</th>\n",
       "      <td>1150</td>\n",
       "      <td>1131</td>\n",
       "      <td>1087</td>\n",
       "    </tr>\n",
       "  </tbody>\n",
       "</table>\n",
       "</div>"
      ],
      "text/plain": [
       "price_bin    Murah  Terjangkau  Mahal\n",
       "row_0                                \n",
       "Jumlah Data  1150   1131        1087 "
      ]
     },
     "execution_count": 64,
     "metadata": {},
     "output_type": "execute_result"
    }
   ],
   "source": [
    "tab_eda6 = pd.crosstab(index='Jumlah Data', columns=tab_eda5.price_bin, values=tab_eda5.num_subscribers, aggfunc='count')\n",
    "tab_eda6"
   ]
  },
  {
   "cell_type": "code",
   "execution_count": 65,
   "metadata": {},
   "outputs": [
    {
     "data": {
      "text/html": [
       "<div>\n",
       "<style scoped>\n",
       "    .dataframe tbody tr th:only-of-type {\n",
       "        vertical-align: middle;\n",
       "    }\n",
       "\n",
       "    .dataframe tbody tr th {\n",
       "        vertical-align: top;\n",
       "    }\n",
       "\n",
       "    .dataframe thead th {\n",
       "        text-align: right;\n",
       "    }\n",
       "</style>\n",
       "<table border=\"1\" class=\"dataframe\">\n",
       "  <thead>\n",
       "    <tr style=\"text-align: right;\">\n",
       "      <th>price_bin</th>\n",
       "      <th>Murah</th>\n",
       "      <th>Terjangkau</th>\n",
       "      <th>Mahal</th>\n",
       "    </tr>\n",
       "    <tr>\n",
       "      <th>row_0</th>\n",
       "      <th></th>\n",
       "      <th></th>\n",
       "      <th></th>\n",
       "    </tr>\n",
       "  </thead>\n",
       "  <tbody>\n",
       "    <tr>\n",
       "      <th>Jumlah Subscribers</th>\n",
       "      <td>1778233</td>\n",
       "      <td>1855861</td>\n",
       "      <td>4549501</td>\n",
       "    </tr>\n",
       "  </tbody>\n",
       "</table>\n",
       "</div>"
      ],
      "text/plain": [
       "price_bin             Murah  Terjangkau    Mahal\n",
       "row_0                                           \n",
       "Jumlah Subscribers  1778233  1855861     4549501"
      ]
     },
     "execution_count": 65,
     "metadata": {},
     "output_type": "execute_result"
    }
   ],
   "source": [
    "tab_eda61 = pd.crosstab(index='Jumlah Subscribers', columns=tab_eda5.price_bin, values=tab_eda5.num_subscribers, aggfunc='sum')\n",
    "tab_eda61"
   ]
  },
  {
   "cell_type": "code",
   "execution_count": 66,
   "metadata": {},
   "outputs": [
    {
     "data": {
      "text/plain": [
       "[(75.0, 200.0], (30.0, 75.0], (19.999, 30.0]]\n",
       "Categories (3, interval[float64]): [(19.999, 30.0] < (30.0, 75.0] < (75.0, 200.0]]"
      ]
     },
     "execution_count": 66,
     "metadata": {},
     "output_type": "execute_result"
    }
   ],
   "source": [
    "out = pd.qcut(tab_eda5.price,3)\n",
    "out.unique()"
   ]
  },
  {
   "cell_type": "code",
   "execution_count": 67,
   "metadata": {},
   "outputs": [
    {
     "data": {
      "image/png": "[encoded data removed]",
      "text/plain": [
       "<Figure size 576x432 with 1 Axes>"
      ]
     },
     "metadata": {
      "needs_background": "light"
     },
     "output_type": "display_data"
    }
   ],
   "source": [
    "plt.figure(figsize=(8,6))\n",
    "sns.barplot(x=tab_eda61.columns, y=tab_eda61.iloc[0], palette='rocket')\n",
    "plt.xlabel('Price Category', c='m', fontsize=12)\n",
    "plt.ylabel('Jumlah Subscribers', c='m', fontsize=12)\n",
    "for i in range(0,3):\n",
    "    plt.text(i-0.2, 100000, tab_eda61.iloc[0][i], fontweight='bold', color='white')\n",
    "plt.title('G16. Price Range vs Jumlah Subscribers', fontsize=15)\n",
    "plt.show()"
   ]
  },
  {
   "cell_type": "markdown",
   "metadata": {},
   "source": [
    "- Berdasarkan hasil binning, ternyata **range Kategori harga Mahal (75-200 USD)** yang mendapatkan jumlah subscribers **maksimal**"
   ]
  },
  {
   "cell_type": "code",
   "execution_count": 68,
   "metadata": {},
   "outputs": [
    {
     "data": {
      "text/plain": [
       "Web Development        466\n",
       "Business Finance       365\n",
       "Graphic Design         155\n",
       "Musical Instruments    101\n",
       "Name: subject, dtype: int64"
      ]
     },
     "execution_count": 68,
     "metadata": {},
     "output_type": "execute_result"
    }
   ],
   "source": [
    "tab_eda5.subject[tab_eda5.price_bin=='Mahal'].value_counts()"
   ]
  },
  {
   "cell_type": "code",
   "execution_count": 69,
   "metadata": {},
   "outputs": [
    {
     "data": {
      "text/plain": [
       "Web Development        336\n",
       "Musical Instruments    333\n",
       "Business Finance       332\n",
       "Graphic Design         130\n",
       "Name: subject, dtype: int64"
      ]
     },
     "execution_count": 69,
     "metadata": {},
     "output_type": "execute_result"
    }
   ],
   "source": [
    "tab_eda5.subject[tab_eda5.price_bin=='Terjangkau'].value_counts()"
   ]
  },
  {
   "cell_type": "code",
   "execution_count": 70,
   "metadata": {},
   "outputs": [
    {
     "data": {
      "text/plain": [
       "Business Finance       402\n",
       "Graphic Design         283\n",
       "Web Development        265\n",
       "Musical Instruments    200\n",
       "Name: subject, dtype: int64"
      ]
     },
     "execution_count": 70,
     "metadata": {},
     "output_type": "execute_result"
    }
   ],
   "source": [
    "tab_eda5.subject[tab_eda5.price_bin=='Murah'].value_counts()"
   ]
  },
  {
   "cell_type": "code",
   "execution_count": 71,
   "metadata": {},
   "outputs": [
    {
     "data": {
      "text/html": [
       "<div>\n",
       "<style scoped>\n",
       "    .dataframe tbody tr th:only-of-type {\n",
       "        vertical-align: middle;\n",
       "    }\n",
       "\n",
       "    .dataframe tbody tr th {\n",
       "        vertical-align: top;\n",
       "    }\n",
       "\n",
       "    .dataframe thead th {\n",
       "        text-align: right;\n",
       "    }\n",
       "</style>\n",
       "<table border=\"1\" class=\"dataframe\">\n",
       "  <thead>\n",
       "    <tr style=\"text-align: right;\">\n",
       "      <th>level</th>\n",
       "      <th>All Levels</th>\n",
       "      <th>Beginner Level</th>\n",
       "      <th>Expert Level</th>\n",
       "      <th>Intermediate Level</th>\n",
       "    </tr>\n",
       "    <tr>\n",
       "      <th>row_0</th>\n",
       "      <th></th>\n",
       "      <th></th>\n",
       "      <th></th>\n",
       "      <th></th>\n",
       "    </tr>\n",
       "  </thead>\n",
       "  <tbody>\n",
       "    <tr>\n",
       "      <th>Jumlah Subscriber</th>\n",
       "      <td>3123740</td>\n",
       "      <td>1158367</td>\n",
       "      <td>30434</td>\n",
       "      <td>236960</td>\n",
       "    </tr>\n",
       "  </tbody>\n",
       "</table>\n",
       "</div>"
      ],
      "text/plain": [
       "level              All Levels  Beginner Level  Expert Level  \\\n",
       "row_0                                                         \n",
       "Jumlah Subscriber  3123740     1158367         30434          \n",
       "\n",
       "level              Intermediate Level  \n",
       "row_0                                  \n",
       "Jumlah Subscriber  236960              "
      ]
     },
     "execution_count": 71,
     "metadata": {},
     "output_type": "execute_result"
    }
   ],
   "source": [
    "tab_eda7 = tab_eda5[tab_eda5.price_bin=='Mahal']\n",
    "tab_eda71 = pd.crosstab(index='Jumlah Subscriber', columns=tab_eda7.level, values=tab_eda7.num_subscribers, aggfunc='sum')\n",
    "tab_eda71"
   ]
  },
  {
   "cell_type": "markdown",
   "metadata": {},
   "source": [
    "- Berdasarkan grafik G10 dan tab_eda71, untuk memaksimalkan jumlah subcribers pada range harga mahal ialah dengan menerapkan All Levels pada course nya"
   ]
  },
  {
   "cell_type": "code",
   "execution_count": 72,
   "metadata": {},
   "outputs": [
    {
     "data": {
      "text/html": [
       "<div>\n",
       "<style scoped>\n",
       "    .dataframe tbody tr th:only-of-type {\n",
       "        vertical-align: middle;\n",
       "    }\n",
       "\n",
       "    .dataframe tbody tr th {\n",
       "        vertical-align: top;\n",
       "    }\n",
       "\n",
       "    .dataframe thead th {\n",
       "        text-align: right;\n",
       "    }\n",
       "</style>\n",
       "<table border=\"1\" class=\"dataframe\">\n",
       "  <thead>\n",
       "    <tr style=\"text-align: right;\">\n",
       "      <th>subject</th>\n",
       "      <th>Business Finance</th>\n",
       "      <th>Graphic Design</th>\n",
       "      <th>Musical Instruments</th>\n",
       "      <th>Web Development</th>\n",
       "    </tr>\n",
       "    <tr>\n",
       "      <th>row_0</th>\n",
       "      <th></th>\n",
       "      <th></th>\n",
       "      <th></th>\n",
       "      <th></th>\n",
       "    </tr>\n",
       "  </thead>\n",
       "  <tbody>\n",
       "    <tr>\n",
       "      <th>Jumlah Subscriber</th>\n",
       "      <td>634781</td>\n",
       "      <td>387982</td>\n",
       "      <td>243389</td>\n",
       "      <td>3283349</td>\n",
       "    </tr>\n",
       "  </tbody>\n",
       "</table>\n",
       "</div>"
      ],
      "text/plain": [
       "subject            Business Finance  Graphic Design  Musical Instruments  \\\n",
       "row_0                                                                      \n",
       "Jumlah Subscriber  634781            387982          243389                \n",
       "\n",
       "subject            Web Development  \n",
       "row_0                               \n",
       "Jumlah Subscriber  3283349          "
      ]
     },
     "execution_count": 72,
     "metadata": {},
     "output_type": "execute_result"
    }
   ],
   "source": [
    "tab_eda72 = pd.crosstab(index='Jumlah Subscriber', columns=tab_eda7.subject, values=tab_eda7.num_subscribers, aggfunc='sum')\n",
    "tab_eda72"
   ]
  },
  {
   "cell_type": "markdown",
   "metadata": {},
   "source": [
    "- Berdasarkan grafik G10 dan tab_eda72, untuk memaksimalkan jumlah subcribers pada range harga mahal ialah dengan subject Web Development"
   ]
  },
  {
   "cell_type": "markdown",
   "metadata": {},
   "source": [
    "- Sehingga berdasarkan analisa pada harga ini, Jumlah subscriber dapat diperoleh maksimal pada range harga **Mahal (75-200)**, dengan subject **Web Development**, dan level **All Level**"
   ]
  },
  {
   "cell_type": "markdown",
   "metadata": {},
   "source": [
    "##### b4. Subscribers vs Content Duration"
   ]
  },
  {
   "cell_type": "code",
   "execution_count": 73,
   "metadata": {},
   "outputs": [],
   "source": [
    "tab_eda9 = df1[['num_subscribers', 'num_reviews','num_lectures', 'content_duration', 'level', 'subject', 'price']][(df1.content_duration>0)].sort_values(by='content_duration')"
   ]
  },
  {
   "cell_type": "code",
   "execution_count": 74,
   "metadata": {},
   "outputs": [
    {
     "data": {
      "image/png": "[encoded data removed]",
      "text/plain": [
       "<Figure size 360x360 with 1 Axes>"
      ]
     },
     "metadata": {},
     "output_type": "display_data"
    }
   ],
   "source": [
    "sns.set(style='whitegrid', palette='summer')\n",
    "# plt.title('G17. Content Duration vs Number Subscribers', fontsize=15)\n",
    "sns_plot = sns.lmplot(x='content_duration',y='num_subscribers',data=tab_eda9, palette='muted')\n",
    "ax = plt.gca()\n",
    "ax.set_title('G17. Content Duration vs Number Subscribers', fontsize=15)\n",
    "# sns_plot.savefig(\"G17.png\")\n",
    "plt.show()"
   ]
  },
  {
   "cell_type": "markdown",
   "metadata": {},
   "source": [
    "- Berdasarkan grafik G17, content_duration **tidak terlalu berpengaruh** terhadap jumlah subscribers"
   ]
  },
  {
   "cell_type": "markdown",
   "metadata": {},
   "source": [
    "- Namun disini saya akan coba kelompokkan content duration dan melihat pada range berapa durasi konten dapat memperoleh jumlah subscribers yang maksimal"
   ]
  },
  {
   "cell_type": "code",
   "execution_count": 75,
   "metadata": {},
   "outputs": [
    {
     "data": {
      "text/html": [
       "<div>\n",
       "<style scoped>\n",
       "    .dataframe tbody tr th:only-of-type {\n",
       "        vertical-align: middle;\n",
       "    }\n",
       "\n",
       "    .dataframe tbody tr th {\n",
       "        vertical-align: top;\n",
       "    }\n",
       "\n",
       "    .dataframe thead th {\n",
       "        text-align: right;\n",
       "    }\n",
       "</style>\n",
       "<table border=\"1\" class=\"dataframe\">\n",
       "  <thead>\n",
       "    <tr style=\"text-align: right;\">\n",
       "      <th></th>\n",
       "      <th>num_subscribers</th>\n",
       "      <th>num_reviews</th>\n",
       "      <th>num_lectures</th>\n",
       "      <th>content_duration</th>\n",
       "      <th>level</th>\n",
       "      <th>subject</th>\n",
       "      <th>price</th>\n",
       "      <th>duration_bin</th>\n",
       "    </tr>\n",
       "  </thead>\n",
       "  <tbody>\n",
       "    <tr>\n",
       "      <th>116</th>\n",
       "      <td>307</td>\n",
       "      <td>8</td>\n",
       "      <td>5</td>\n",
       "      <td>0.13</td>\n",
       "      <td>All Levels</td>\n",
       "      <td>Business Finance</td>\n",
       "      <td>25</td>\n",
       "      <td>Singkat</td>\n",
       "    </tr>\n",
       "    <tr>\n",
       "      <th>448</th>\n",
       "      <td>605</td>\n",
       "      <td>19</td>\n",
       "      <td>4</td>\n",
       "      <td>0.32</td>\n",
       "      <td>All Levels</td>\n",
       "      <td>Business Finance</td>\n",
       "      <td>20</td>\n",
       "      <td>Singkat</td>\n",
       "    </tr>\n",
       "  </tbody>\n",
       "</table>\n",
       "</div>"
      ],
      "text/plain": [
       "     num_subscribers  num_reviews  num_lectures  content_duration       level  \\\n",
       "116  307              8            5             0.13              All Levels   \n",
       "448  605              19           4             0.32              All Levels   \n",
       "\n",
       "              subject  price duration_bin  \n",
       "116  Business Finance  25     Singkat      \n",
       "448  Business Finance  20     Singkat      "
      ]
     },
     "execution_count": 75,
     "metadata": {},
     "output_type": "execute_result"
    }
   ],
   "source": [
    "tab_eda9['duration_bin'] = pd.cut(tab_eda9['content_duration'], bins=[0, tab_eda9.content_duration.quantile(0.25), tab_eda9.content_duration.quantile(0.5), tab_eda9.content_duration.quantile(0.75), df['content_duration'].max()], labels=['Singkat', 'Cukup', 'Lama', 'Sangat Lama'])\n",
    "tab_eda9.head(2)"
   ]
  },
  {
   "cell_type": "code",
   "execution_count": 76,
   "metadata": {},
   "outputs": [
    {
     "data": {
      "text/html": [
       "<div>\n",
       "<style scoped>\n",
       "    .dataframe tbody tr th:only-of-type {\n",
       "        vertical-align: middle;\n",
       "    }\n",
       "\n",
       "    .dataframe tbody tr th {\n",
       "        vertical-align: top;\n",
       "    }\n",
       "\n",
       "    .dataframe thead th {\n",
       "        text-align: right;\n",
       "    }\n",
       "</style>\n",
       "<table border=\"1\" class=\"dataframe\">\n",
       "  <thead>\n",
       "    <tr style=\"text-align: right;\">\n",
       "      <th>duration_bin</th>\n",
       "      <th>Singkat</th>\n",
       "      <th>Cukup</th>\n",
       "      <th>Lama</th>\n",
       "      <th>Sangat Lama</th>\n",
       "    </tr>\n",
       "    <tr>\n",
       "      <th>row_0</th>\n",
       "      <th></th>\n",
       "      <th></th>\n",
       "      <th></th>\n",
       "      <th></th>\n",
       "    </tr>\n",
       "  </thead>\n",
       "  <tbody>\n",
       "    <tr>\n",
       "      <th>Jumlah Data</th>\n",
       "      <td>933</td>\n",
       "      <td>926</td>\n",
       "      <td>957</td>\n",
       "      <td>861</td>\n",
       "    </tr>\n",
       "  </tbody>\n",
       "</table>\n",
       "</div>"
      ],
      "text/plain": [
       "duration_bin  Singkat  Cukup  Lama  Sangat Lama\n",
       "row_0                                          \n",
       "Jumlah Data   933      926    957   861        "
      ]
     },
     "execution_count": 76,
     "metadata": {},
     "output_type": "execute_result"
    }
   ],
   "source": [
    "tab_eda91 = pd.crosstab(index='Jumlah Data', columns=tab_eda9.duration_bin, values=tab_eda9.num_subscribers, aggfunc='count')\n",
    "tab_eda91"
   ]
  },
  {
   "cell_type": "code",
   "execution_count": 77,
   "metadata": {},
   "outputs": [
    {
     "data": {
      "text/html": [
       "<div>\n",
       "<style scoped>\n",
       "    .dataframe tbody tr th:only-of-type {\n",
       "        vertical-align: middle;\n",
       "    }\n",
       "\n",
       "    .dataframe tbody tr th {\n",
       "        vertical-align: top;\n",
       "    }\n",
       "\n",
       "    .dataframe thead th {\n",
       "        text-align: right;\n",
       "    }\n",
       "</style>\n",
       "<table border=\"1\" class=\"dataframe\">\n",
       "  <thead>\n",
       "    <tr style=\"text-align: right;\">\n",
       "      <th>duration_bin</th>\n",
       "      <th>Singkat</th>\n",
       "      <th>Cukup</th>\n",
       "      <th>Lama</th>\n",
       "      <th>Sangat Lama</th>\n",
       "    </tr>\n",
       "    <tr>\n",
       "      <th>row_0</th>\n",
       "      <th></th>\n",
       "      <th></th>\n",
       "      <th></th>\n",
       "      <th></th>\n",
       "    </tr>\n",
       "  </thead>\n",
       "  <tbody>\n",
       "    <tr>\n",
       "      <th>Jumlah Subscriber</th>\n",
       "      <td>1797668</td>\n",
       "      <td>2558127</td>\n",
       "      <td>3028817</td>\n",
       "      <td>4374508</td>\n",
       "    </tr>\n",
       "  </tbody>\n",
       "</table>\n",
       "</div>"
      ],
      "text/plain": [
       "duration_bin       Singkat    Cukup     Lama  Sangat Lama\n",
       "row_0                                                    \n",
       "Jumlah Subscriber  1797668  2558127  3028817  4374508    "
      ]
     },
     "execution_count": 77,
     "metadata": {},
     "output_type": "execute_result"
    }
   ],
   "source": [
    "tab_eda92 = pd.crosstab(index='Jumlah Subscriber', columns=tab_eda9.duration_bin, values=tab_eda9.num_subscribers, aggfunc='sum')\n",
    "tab_eda92"
   ]
  },
  {
   "cell_type": "code",
   "execution_count": 78,
   "metadata": {},
   "outputs": [
    {
     "data": {
      "image/png": "[encoded data removed]",
      "text/plain": [
       "<Figure size 576x432 with 1 Axes>"
      ]
     },
     "metadata": {},
     "output_type": "display_data"
    }
   ],
   "source": [
    "plt.figure(figsize=(8,6))\n",
    "sns.barplot(x=tab_eda92.columns, y=tab_eda92.iloc[0], palette='rocket')\n",
    "plt.xlabel('Duration Category', c='m', fontsize=12)\n",
    "plt.ylabel('Jumlah Subscribers', c='m', fontsize=12)\n",
    "for i in range(0,4):\n",
    "    plt.text(i-0.2, 100000, tab_eda92.iloc[0][i], fontweight='bold', color='white')\n",
    "plt.title('G18. Duration Range vs Jumlah Subscribers', fontsize=15)\n",
    "\n",
    "plt.show()"
   ]
  },
  {
   "cell_type": "markdown",
   "metadata": {},
   "source": [
    "- **Semakin lama content duration, jumlah subscribers semakin banyak**. Dan memperoleh jumlah subscribers maksimal pada durasi dg kategori sangat lama (4.5 - 78.5)"
   ]
  },
  {
   "cell_type": "markdown",
   "metadata": {},
   "source": [
    "##### b5. Subscribers vs lecture"
   ]
  },
  {
   "cell_type": "code",
   "execution_count": 79,
   "metadata": {},
   "outputs": [],
   "source": [
    "tab_eda10 = df1[['num_subscribers', 'num_lectures', 'subject']][(df1.content_duration>0)].sort_values(by='num_lectures')"
   ]
  },
  {
   "cell_type": "code",
   "execution_count": 80,
   "metadata": {},
   "outputs": [
    {
     "data": {
      "image/png": "[encoded data removed]",
      "text/plain": [
       "<Figure size 360x360 with 1 Axes>"
      ]
     },
     "metadata": {},
     "output_type": "display_data"
    }
   ],
   "source": [
    "sns.set(style='whitegrid', palette='spring')\n",
    "# plt.title('G17. Content Duration vs Number Subscribers', fontsize=15)\n",
    "sns_plot = sns.lmplot(x='num_lectures',y='num_subscribers',data=tab_eda9,)\n",
    "ax = plt.gca()\n",
    "ax.set_title('G19. Number Lectures vs Number Subscribers', fontsize=15)\n",
    "sns_plot.savefig(\"G19.png\")\n",
    "plt.show()"
   ]
  },
  {
   "cell_type": "markdown",
   "metadata": {},
   "source": [
    "- Berdasarkan grafik G19, num_lecture **tidak begitu berpengaruh** terhadap jumlah subscribers"
   ]
  },
  {
   "cell_type": "markdown",
   "metadata": {},
   "source": [
    "##### b6. Subscribers vs Subject"
   ]
  },
  {
   "cell_type": "code",
   "execution_count": 81,
   "metadata": {},
   "outputs": [
    {
     "data": {
      "text/html": [
       "<div>\n",
       "<style scoped>\n",
       "    .dataframe tbody tr th:only-of-type {\n",
       "        vertical-align: middle;\n",
       "    }\n",
       "\n",
       "    .dataframe tbody tr th {\n",
       "        vertical-align: top;\n",
       "    }\n",
       "\n",
       "    .dataframe thead th {\n",
       "        text-align: right;\n",
       "    }\n",
       "</style>\n",
       "<table border=\"1\" class=\"dataframe\">\n",
       "  <thead>\n",
       "    <tr style=\"text-align: right;\">\n",
       "      <th>col_0</th>\n",
       "      <th>Jumlah Subscriber</th>\n",
       "    </tr>\n",
       "    <tr>\n",
       "      <th>subject</th>\n",
       "      <th></th>\n",
       "    </tr>\n",
       "  </thead>\n",
       "  <tbody>\n",
       "    <tr>\n",
       "      <th>Web Development</th>\n",
       "      <td>7980572</td>\n",
       "    </tr>\n",
       "    <tr>\n",
       "      <th>Business Finance</th>\n",
       "      <td>1868711</td>\n",
       "    </tr>\n",
       "    <tr>\n",
       "      <th>Graphic Design</th>\n",
       "      <td>1063148</td>\n",
       "    </tr>\n",
       "    <tr>\n",
       "      <th>Musical Instruments</th>\n",
       "      <td>846689</td>\n",
       "    </tr>\n",
       "  </tbody>\n",
       "</table>\n",
       "</div>"
      ],
      "text/plain": [
       "col_0                Jumlah Subscriber\n",
       "subject                               \n",
       "Web Development      7980572          \n",
       "Business Finance     1868711          \n",
       "Graphic Design       1063148          \n",
       "Musical Instruments  846689           "
      ]
     },
     "execution_count": 81,
     "metadata": {},
     "output_type": "execute_result"
    }
   ],
   "source": [
    "tab_eda11 = df1[['num_subscribers', 'subject']][(df1.content_duration>0)]\n",
    "tab_eda11a = pd.crosstab(index=tab_eda11.subject, columns='Jumlah Subscriber', values=tab_eda11.num_subscribers, aggfunc='sum').sort_values(by='Jumlah Subscriber', ascending=False)\n",
    "tab_eda11a"
   ]
  },
  {
   "cell_type": "code",
   "execution_count": 82,
   "metadata": {},
   "outputs": [
    {
     "data": {
      "image/png": "[encoded data removed]",
      "text/plain": [
       "<Figure size 576x432 with 1 Axes>"
      ]
     },
     "metadata": {},
     "output_type": "display_data"
    }
   ],
   "source": [
    "plt.figure(figsize=(8,6))\n",
    "sns.barplot(x=tab_eda11a.index, y=tab_eda11a['Jumlah Subscriber'].iloc[:], palette='rocket')\n",
    "plt.xlabel('Subject Category', c='m', fontsize=12)\n",
    "plt.ylabel('Jumlah Subscribers', c='m', fontsize=12)\n",
    "for i in range(0,4):\n",
    "    plt.text(i-0.2, 100000, tab_eda11a['Jumlah Subscriber'].iloc[i], fontweight='bold', color='white')\n",
    "plt.title('G20. Subject vs Jumlah Subscribers', fontsize=15)\n",
    "plt.show()"
   ]
  },
  {
   "cell_type": "markdown",
   "metadata": {},
   "source": [
    "- Subject **Web Development** ialah subject yang paling banyak diminati para subscriber untuk dibeli"
   ]
  },
  {
   "cell_type": "markdown",
   "metadata": {},
   "source": [
    "##### b7. Subscribers vs Level"
   ]
  },
  {
   "cell_type": "code",
   "execution_count": 83,
   "metadata": {},
   "outputs": [],
   "source": [
    "tab_eda12 = df1[['num_subscribers', 'level']][(df1.content_duration>0)]\n",
    "tab_eda12a = pd.crosstab(index=tab_eda12.level, columns='Jumlah Subscriber', values=tab_eda12.num_subscribers, aggfunc='sum').sort_values(by='Jumlah Subscriber', ascending=False)"
   ]
  },
  {
   "cell_type": "code",
   "execution_count": 84,
   "metadata": {},
   "outputs": [
    {
     "data": {
      "text/html": [
       "<div>\n",
       "<style scoped>\n",
       "    .dataframe tbody tr th:only-of-type {\n",
       "        vertical-align: middle;\n",
       "    }\n",
       "\n",
       "    .dataframe tbody tr th {\n",
       "        vertical-align: top;\n",
       "    }\n",
       "\n",
       "    .dataframe thead th {\n",
       "        text-align: right;\n",
       "    }\n",
       "</style>\n",
       "<table border=\"1\" class=\"dataframe\">\n",
       "  <thead>\n",
       "    <tr style=\"text-align: right;\">\n",
       "      <th>level</th>\n",
       "      <th>All Levels</th>\n",
       "      <th>Beginner Level</th>\n",
       "      <th>Expert Level</th>\n",
       "      <th>Intermediate Level</th>\n",
       "    </tr>\n",
       "    <tr>\n",
       "      <th>row_0</th>\n",
       "      <th></th>\n",
       "      <th></th>\n",
       "      <th></th>\n",
       "      <th></th>\n",
       "    </tr>\n",
       "  </thead>\n",
       "  <tbody>\n",
       "    <tr>\n",
       "      <th>Jumlah Subscriber</th>\n",
       "      <td>1928</td>\n",
       "      <td>1270</td>\n",
       "      <td>58</td>\n",
       "      <td>421</td>\n",
       "    </tr>\n",
       "  </tbody>\n",
       "</table>\n",
       "</div>"
      ],
      "text/plain": [
       "level              All Levels  Beginner Level  Expert Level  \\\n",
       "row_0                                                         \n",
       "Jumlah Subscriber  1928        1270            58             \n",
       "\n",
       "level              Intermediate Level  \n",
       "row_0                                  \n",
       "Jumlah Subscriber  421                 "
      ]
     },
     "execution_count": 84,
     "metadata": {},
     "output_type": "execute_result"
    }
   ],
   "source": [
    "pd.crosstab(index='Jumlah Subscriber', columns=tab_eda12.level, values=tab_eda12.num_subscribers, aggfunc='count')"
   ]
  },
  {
   "cell_type": "code",
   "execution_count": 85,
   "metadata": {},
   "outputs": [
    {
     "data": {
      "image/png": "[encoded data removed]",
      "text/plain": [
       "<Figure size 576x432 with 1 Axes>"
      ]
     },
     "metadata": {},
     "output_type": "display_data"
    }
   ],
   "source": [
    "plt.figure(figsize=(8,6))\n",
    "sns.barplot(x=tab_eda12a.index, y=tab_eda12a['Jumlah Subscriber'].iloc[:], palette='rocket')\n",
    "plt.xlabel('Level', c='m', fontsize=12)\n",
    "plt.ylabel('Jumlah Subscribers', c='m', fontsize=12)\n",
    "for i in range(0,4):\n",
    "    plt.text(i-0.2, 100000, tab_eda12a['Jumlah Subscriber'][i], fontweight='bold', color='orange')\n",
    "plt.title('G21. Level vs Jumlah Subscribers', fontsize=15)\n",
    "\n",
    "plt.show()"
   ]
  },
  {
   "cell_type": "markdown",
   "metadata": {},
   "source": [
    "- Level course yang dapat mencapai subscriber maksimal secara keseluruhan ialah pada All Level"
   ]
  },
  {
   "cell_type": "markdown",
   "metadata": {},
   "source": [
    "##### b8. Reviews vs Content_duration"
   ]
  },
  {
   "cell_type": "code",
   "execution_count": 86,
   "metadata": {},
   "outputs": [
    {
     "data": {
      "text/html": [
       "<div>\n",
       "<style scoped>\n",
       "    .dataframe tbody tr th:only-of-type {\n",
       "        vertical-align: middle;\n",
       "    }\n",
       "\n",
       "    .dataframe tbody tr th {\n",
       "        vertical-align: top;\n",
       "    }\n",
       "\n",
       "    .dataframe thead th {\n",
       "        text-align: right;\n",
       "    }\n",
       "</style>\n",
       "<table border=\"1\" class=\"dataframe\">\n",
       "  <thead>\n",
       "    <tr style=\"text-align: right;\">\n",
       "      <th></th>\n",
       "      <th>num_subscribers</th>\n",
       "      <th>num_reviews</th>\n",
       "      <th>num_lectures</th>\n",
       "      <th>content_duration</th>\n",
       "      <th>level</th>\n",
       "      <th>subject</th>\n",
       "      <th>price</th>\n",
       "      <th>duration_bin</th>\n",
       "    </tr>\n",
       "  </thead>\n",
       "  <tbody>\n",
       "    <tr>\n",
       "      <th>116</th>\n",
       "      <td>307</td>\n",
       "      <td>8</td>\n",
       "      <td>5</td>\n",
       "      <td>0.13</td>\n",
       "      <td>All Levels</td>\n",
       "      <td>Business Finance</td>\n",
       "      <td>25</td>\n",
       "      <td>Singkat</td>\n",
       "    </tr>\n",
       "    <tr>\n",
       "      <th>448</th>\n",
       "      <td>605</td>\n",
       "      <td>19</td>\n",
       "      <td>4</td>\n",
       "      <td>0.32</td>\n",
       "      <td>All Levels</td>\n",
       "      <td>Business Finance</td>\n",
       "      <td>20</td>\n",
       "      <td>Singkat</td>\n",
       "    </tr>\n",
       "    <tr>\n",
       "      <th>984</th>\n",
       "      <td>327</td>\n",
       "      <td>1</td>\n",
       "      <td>12</td>\n",
       "      <td>0.45</td>\n",
       "      <td>Beginner Level</td>\n",
       "      <td>Business Finance</td>\n",
       "      <td>20</td>\n",
       "      <td>Singkat</td>\n",
       "    </tr>\n",
       "    <tr>\n",
       "      <th>718</th>\n",
       "      <td>23</td>\n",
       "      <td>7</td>\n",
       "      <td>6</td>\n",
       "      <td>0.47</td>\n",
       "      <td>All Levels</td>\n",
       "      <td>Business Finance</td>\n",
       "      <td>20</td>\n",
       "      <td>Singkat</td>\n",
       "    </tr>\n",
       "    <tr>\n",
       "      <th>1937</th>\n",
       "      <td>1582</td>\n",
       "      <td>11</td>\n",
       "      <td>6</td>\n",
       "      <td>0.48</td>\n",
       "      <td>All Levels</td>\n",
       "      <td>Musical Instruments</td>\n",
       "      <td>20</td>\n",
       "      <td>Singkat</td>\n",
       "    </tr>\n",
       "  </tbody>\n",
       "</table>\n",
       "</div>"
      ],
      "text/plain": [
       "      num_subscribers  num_reviews  num_lectures  content_duration  \\\n",
       "116   307              8            5             0.13               \n",
       "448   605              19           4             0.32               \n",
       "984   327              1            12            0.45               \n",
       "718   23               7            6             0.47               \n",
       "1937  1582             11           6             0.48               \n",
       "\n",
       "               level              subject  price duration_bin  \n",
       "116   All Levels      Business Finance     25     Singkat      \n",
       "448   All Levels      Business Finance     20     Singkat      \n",
       "984   Beginner Level  Business Finance     20     Singkat      \n",
       "718   All Levels      Business Finance     20     Singkat      \n",
       "1937  All Levels      Musical Instruments  20     Singkat      "
      ]
     },
     "execution_count": 86,
     "metadata": {},
     "output_type": "execute_result"
    }
   ],
   "source": [
    "tab_eda13 = tab_eda9.copy()\n",
    "tab_eda13.head()"
   ]
  },
  {
   "cell_type": "code",
   "execution_count": 87,
   "metadata": {},
   "outputs": [
    {
     "data": {
      "image/png": "[encoded data removed]",
      "text/plain": [
       "<Figure size 576x432 with 1 Axes>"
      ]
     },
     "metadata": {},
     "output_type": "display_data"
    }
   ],
   "source": [
    "plt.figure(figsize=(8,6))\n",
    "tab_eda13['log_reviews'] = np.log(tab_eda13.num_reviews)\n",
    "sns.boxplot(x='duration_bin', y='log_reviews', data=tab_eda13, palette='ocean')\n",
    "plt.title('G22. Number of Review vs Content_duration', fontsize=15)\n",
    "plt.xlabel('Duration', fontsize=12)\n",
    "plt.ylabel('log_reviews', fontsize=12)\n",
    "\n",
    "plt.show()"
   ]
  },
  {
   "cell_type": "markdown",
   "metadata": {},
   "source": [
    "- Semakin lama content_duration, semakin banyak reviewers"
   ]
  },
  {
   "cell_type": "code",
   "execution_count": 88,
   "metadata": {},
   "outputs": [],
   "source": [
    "tab_eda131 = pd.crosstab(index=tab_eda13.duration_bin, columns='Jumlah Review', values=tab_eda13.num_reviews, aggfunc='sum').sort_values(by='Jumlah Review', ascending=True)"
   ]
  },
  {
   "cell_type": "code",
   "execution_count": 89,
   "metadata": {},
   "outputs": [
    {
     "data": {
      "text/html": [
       "<div>\n",
       "<style scoped>\n",
       "    .dataframe tbody tr th:only-of-type {\n",
       "        vertical-align: middle;\n",
       "    }\n",
       "\n",
       "    .dataframe tbody tr th {\n",
       "        vertical-align: top;\n",
       "    }\n",
       "\n",
       "    .dataframe thead th {\n",
       "        text-align: right;\n",
       "    }\n",
       "</style>\n",
       "<table border=\"1\" class=\"dataframe\">\n",
       "  <thead>\n",
       "    <tr style=\"text-align: right;\">\n",
       "      <th>col_0</th>\n",
       "      <th>Jumlah Review</th>\n",
       "    </tr>\n",
       "    <tr>\n",
       "      <th>duration_bin</th>\n",
       "      <th></th>\n",
       "    </tr>\n",
       "  </thead>\n",
       "  <tbody>\n",
       "    <tr>\n",
       "      <th>Singkat</th>\n",
       "      <td>50621</td>\n",
       "    </tr>\n",
       "    <tr>\n",
       "      <th>Cukup</th>\n",
       "      <td>63225</td>\n",
       "    </tr>\n",
       "    <tr>\n",
       "      <th>Lama</th>\n",
       "      <td>90332</td>\n",
       "    </tr>\n",
       "    <tr>\n",
       "      <th>Sangat Lama</th>\n",
       "      <td>370543</td>\n",
       "    </tr>\n",
       "  </tbody>\n",
       "</table>\n",
       "</div>"
      ],
      "text/plain": [
       "col_0         Jumlah Review\n",
       "duration_bin               \n",
       "Singkat       50621        \n",
       "Cukup         63225        \n",
       "Lama          90332        \n",
       "Sangat Lama   370543       "
      ]
     },
     "execution_count": 89,
     "metadata": {},
     "output_type": "execute_result"
    }
   ],
   "source": [
    "tab_eda131"
   ]
  },
  {
   "cell_type": "markdown",
   "metadata": {},
   "source": [
    "- Semakin lama durasi konten, maka jumlah reviews akan semakin banyak. Dan dapat mencapai num_reviews terbanyak pada durasi 'Sangat Lama'."
   ]
  },
  {
   "cell_type": "markdown",
   "metadata": {},
   "source": [
    "##### b9. Reviews vs num_lectures"
   ]
  },
  {
   "cell_type": "code",
   "execution_count": 90,
   "metadata": {},
   "outputs": [
    {
     "data": {
      "image/png": "[encoded data removed]",
      "text/plain": [
       "<Figure size 360x360 with 1 Axes>"
      ]
     },
     "metadata": {},
     "output_type": "display_data"
    }
   ],
   "source": [
    "tab_eda14 = df1[['num_lectures','num_reviews']][(df1.num_subscribers>0) & (df1.num_reviews>0)].sort_values(by='num_lectures')\n",
    "\n",
    "sns.set(color_codes='b', palette='deep')\n",
    "sns.lmplot(x='num_lectures',y='num_reviews', data=tab_eda14, palette='rainbow')\n",
    "plt.title('G23. Number of Lectures vs Number Reviews', fontsize=15)\n",
    "plt.xlabel('num_lectures', fontsize=12)\n",
    "plt.ylabel('num_reviews', fontsize=12)\n",
    "\n",
    "plt.show()"
   ]
  },
  {
   "cell_type": "markdown",
   "metadata": {},
   "source": [
    "- Pengaruh jumlah lecture terhadap jumlah review tidak begitu kuat"
   ]
  },
  {
   "cell_type": "markdown",
   "metadata": {},
   "source": [
    "##### b10. Content_duration vs num_lectures"
   ]
  },
  {
   "cell_type": "code",
   "execution_count": 91,
   "metadata": {},
   "outputs": [],
   "source": [
    "tab_eda15 = tab_eda9[['num_lectures', 'content_duration', 'duration_bin','price']].sort_values(by='content_duration')"
   ]
  },
  {
   "cell_type": "code",
   "execution_count": 92,
   "metadata": {},
   "outputs": [
    {
     "data": {
      "text/plain": [
       "<Figure size 576x504 with 0 Axes>"
      ]
     },
     "metadata": {},
     "output_type": "display_data"
    },
    {
     "data": {
      "image/png": "[encoded data removed]",
      "text/plain": [
       "<Figure size 360x360 with 1 Axes>"
      ]
     },
     "metadata": {},
     "output_type": "display_data"
    }
   ],
   "source": [
    "plt.figure(figsize=(8,7))\n",
    "sns.lmplot(x='content_duration', y='num_lectures', data=tab_eda15, palette='ocean')\n",
    "plt.title('G24. Content Duration vs Number Lectures', fontsize=15)\n",
    "plt.xlabel('content_duration', fontsize=12)\n",
    "plt.ylabel('num_lectures', fontsize=12)\n",
    "plt.savefig('G24.png')\n",
    "plt.show()"
   ]
  },
  {
   "cell_type": "markdown",
   "metadata": {},
   "source": [
    "- Jumlah lecture dan durasi konten memiliki korelasi positif yang kuat"
   ]
  },
  {
   "cell_type": "code",
   "execution_count": 93,
   "metadata": {},
   "outputs": [
    {
     "data": {
      "text/html": [
       "<div>\n",
       "<style scoped>\n",
       "    .dataframe tbody tr th:only-of-type {\n",
       "        vertical-align: middle;\n",
       "    }\n",
       "\n",
       "    .dataframe tbody tr th {\n",
       "        vertical-align: top;\n",
       "    }\n",
       "\n",
       "    .dataframe thead th {\n",
       "        text-align: right;\n",
       "    }\n",
       "</style>\n",
       "<table border=\"1\" class=\"dataframe\">\n",
       "  <thead>\n",
       "    <tr style=\"text-align: right;\">\n",
       "      <th></th>\n",
       "      <th>course_id</th>\n",
       "      <th>course_title</th>\n",
       "      <th>url</th>\n",
       "      <th>is_paid</th>\n",
       "      <th>price</th>\n",
       "      <th>num_subscribers</th>\n",
       "      <th>num_reviews</th>\n",
       "      <th>num_lectures</th>\n",
       "      <th>level</th>\n",
       "      <th>content_duration</th>\n",
       "      <th>subject</th>\n",
       "      <th>year_p</th>\n",
       "      <th>month_p</th>\n",
       "      <th>date_p</th>\n",
       "    </tr>\n",
       "  </thead>\n",
       "  <tbody>\n",
       "    <tr>\n",
       "      <th>892</th>\n",
       "      <td>627332</td>\n",
       "      <td>Mutual Funds for Investors in Retirement Accounts</td>\n",
       "      <td>https://www.udemy.com/mutual-funds-for-investors-in-retirement-accounts/</td>\n",
       "      <td>True</td>\n",
       "      <td>20</td>\n",
       "      <td>0</td>\n",
       "      <td>0</td>\n",
       "      <td>0</td>\n",
       "      <td>All Levels</td>\n",
       "      <td>0.0</td>\n",
       "      <td>Business Finance</td>\n",
       "      <td>2015</td>\n",
       "      <td>12</td>\n",
       "      <td>17</td>\n",
       "    </tr>\n",
       "  </tbody>\n",
       "</table>\n",
       "</div>"
      ],
      "text/plain": [
       "     course_id                                       course_title  \\\n",
       "892  627332     Mutual Funds for Investors in Retirement Accounts   \n",
       "\n",
       "                                                                          url  \\\n",
       "892  https://www.udemy.com/mutual-funds-for-investors-in-retirement-accounts/   \n",
       "\n",
       "     is_paid  price  num_subscribers  num_reviews  num_lectures       level  \\\n",
       "892  True     20     0                0            0             All Levels   \n",
       "\n",
       "     content_duration           subject  year_p  month_p  date_p  \n",
       "892  0.0               Business Finance  2015    12       17      "
      ]
     },
     "execution_count": 93,
     "metadata": {},
     "output_type": "execute_result"
    }
   ],
   "source": [
    "df1[df1.num_lectures==0]"
   ]
  },
  {
   "cell_type": "markdown",
   "metadata": {},
   "source": [
    "![Ini image](https://i.ibb.co/PwRKT8s/IMG-course-0-duration.png)"
   ]
  },
  {
   "cell_type": "code",
   "execution_count": 94,
   "metadata": {},
   "outputs": [
    {
     "data": {
      "image/png": "[encoded data removed]",
      "text/plain": [
       "<Figure size 1080x720 with 2 Axes>"
      ]
     },
     "metadata": {},
     "output_type": "display_data"
    }
   ],
   "source": [
    "plt.figure(figsize=(15, 10))\n",
    "\n",
    "sns.heatmap(df1.corr(), annot=True, square=True, linewidths=0.25)\n",
    "plt.show()"
   ]
  },
  {
   "cell_type": "code",
   "execution_count": 95,
   "metadata": {},
   "outputs": [
    {
     "data": {
      "image/png": "[encoded data removed]",
      "text/plain": [
       "<Figure size 864x360 with 1 Axes>"
      ]
     },
     "metadata": {},
     "output_type": "display_data"
    }
   ],
   "source": [
    "plt.figure(figsize=(12,5))\n",
    "mama = df1.copy()\n",
    "mama['log_subs'] = np.log(mama.num_subscribers)\n",
    "sns.boxplot(x='year_p', y='log_subs', data=mama, palette='rainbow')\n",
    "plt.title('G25. Log Subscribers by Year', fontsize=15)\n",
    "plt.xlabel('Year', fontsize=12)\n",
    "plt.ylabel('log_subs', fontsize=12)\n",
    "plt.show()"
   ]
  },
  {
   "cell_type": "markdown",
   "metadata": {},
   "source": [
    "- Semakin bertambahnya tahun perilisan, semakin menurun jumlah subscriber"
   ]
  },
  {
   "cell_type": "markdown",
   "metadata": {},
   "source": [
    "##### Kesimpulan Analisis\n",
    "\n",
    "- Jumlah review sangat kuat dalam mempengaruhi perolehan jumlah subscribers.\n",
    "- Tipe lisensi gratis sangat mudah untuk memperoleh banyak subscriber, sedangkan tipe lisensi berbayar dapat dimaksimalkan untuk memperoleh subscribers dengan membuat pengelompokkan harga. Berdasarkan data, range harga yang dapat memaksimalkan jumlah subscriber ialah pada range harga 75-200 USD\n",
    "- Content duration dan Jumlah lecture memiliki pengaruh yang kecil terhadap jumlah subscribers namun lebih besar pengaruhnya terhadap jumlah review\n",
    "- Subject yang paling banyak diminati secara keseluruhan ialah Web Development dan Business Finance, sedangkan pada range harga 75-200 ialah Web Development\n",
    "- Level course yang cukup banyak mendapatkan jumlah subscribers yang tinggi ialah All Levels"
   ]
  }
 ],
 "metadata": {
  "kernelspec": {
   "display_name": "Python 3.8.3 64-bit",
   "language": "python",
   "name": "python38364bitf98a9d7598a340bdaa881acb74c38372"
  },
  "language_info": {
   "codemirror_mode": {
    "name": "ipython",
    "version": 3
   },
   "file_extension": ".py",
   "mimetype": "text/x-python",
   "name": "python",
   "nbconvert_exporter": "python",
   "pygments_lexer": "ipython3",
   "version": "3.8.3rc1"
  }
 },
 "nbformat": 4,
 "nbformat_minor": 4
}
